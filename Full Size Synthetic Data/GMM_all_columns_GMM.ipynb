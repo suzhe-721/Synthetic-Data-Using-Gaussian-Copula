{
 "cells": [
  {
   "cell_type": "code",
   "execution_count": 1,
   "metadata": {},
   "outputs": [],
   "source": [
    "import numpy as np\n",
    "\n",
    "import matplotlib.pyplot as plt\n",
    "\n",
    "import pandas as pd\n",
    "\n",
    "from collections import defaultdict\n",
    "from scipy.stats import kstest, norm, uniform, beta, expon, truncnorm\n",
    "\n",
    "from scipy.optimize import brentq\n",
    "\n",
    "from tqdm import tqdm\n",
    "from sklearn.mixture import GaussianMixture\n",
    "import scipy.stats as stats\n",
    "import sdv\n",
    "from sdv.metadata import SingleTableMetadata\n",
    "from sdv.evaluation.single_table import evaluate_quality\n",
    "from sdv.single_table import GaussianCopulaSynthesizer\n",
    "tqdm.pandas()\n",
    "\n",
    "import warnings\n",
    "warnings.filterwarnings(action='ignore')\n",
    "import seaborn as sns"
   ]
  },
  {
   "cell_type": "code",
   "execution_count": 2,
   "metadata": {},
   "outputs": [],
   "source": [
    "data = pd.read_csv('American_Income.csv')"
   ]
  },
  {
   "cell_type": "code",
   "execution_count": 3,
   "metadata": {},
   "outputs": [],
   "source": [
    "data_info = data.dtypes.to_dict()\n",
    "num_column = []\n",
    "category_column = []\n",
    "for key in data_info.keys():\n",
    "    if data_info[key] == 'int64':\n",
    "        num_column.append(key)\n",
    "    if data_info[key] == 'object':\n",
    "        category_column.append(key)"
   ]
  },
  {
   "cell_type": "code",
   "execution_count": 4,
   "metadata": {},
   "outputs": [],
   "source": [
    "## all functions\n",
    "\n",
    "def findBestComp(data):\n",
    "    bic = []\n",
    "    n_components_range = range(1, 11)\n",
    "    for n_components in n_components_range:\n",
    "        gmm = GaussianMixture(n_components=n_components)\n",
    "        gmm.fit(data.values.reshape(-1, 1))\n",
    "        bic.append(gmm.bic(data.values.reshape(-1, 1)))\n",
    "\n",
    "    optimal_components = n_components_range[np.argmin(bic)]\n",
    "\n",
    "    return optimal_components\n",
    "\n",
    "\n",
    "def gmm_cdf(x, gmm):\n",
    "    \"\"\"\n",
    "    Compute the CDF of the GMM at point x.\n",
    "    \n",
    "    Parameters:\n",
    "    - x: Point at which to evaluate the CDF\n",
    "    - gmm: Fitted GaussianMixture object\n",
    "    \n",
    "    Returns:\n",
    "    - CDF value at point x\n",
    "    \"\"\"\n",
    "    cdf_value = 0\n",
    "    for weight, mean, covariance in zip(gmm.weights_, gmm.means_, gmm.covariances_):\n",
    "        cdf_value += weight * stats.norm.cdf(x, mean, np.sqrt(covariance)) \n",
    "    return cdf_value[0][0]\n",
    "\n",
    "\n",
    "def gaussian_inverse_cdf(p_values):\n",
    "    return norm.ppf(p_values)\n",
    "\n",
    "\n",
    "def get_truncated_normal(mean=0, sd=1, low=0, upp=10):\n",
    "    \"\"\" Return a truncated normal distribution. \"\"\"\n",
    "    return truncnorm((low - mean) / sd, (upp - mean) / sd, loc=mean, scale=sd)\n",
    "\n",
    "def assign_intervals(categories):\n",
    "    \"\"\" Assign intervals to categories based on their frequency. \"\"\"\n",
    "    freq = categories.value_counts(normalize=True)\n",
    "    intervals = freq.cumsum()\n",
    "    category_intervals = {}\n",
    "    a = 0\n",
    "    for category, cum_freq in intervals.items():\n",
    "        b = cum_freq\n",
    "        category_intervals[category] = (a, b)\n",
    "        a = b\n",
    "    return category_intervals\n",
    "\n",
    "def sample_from_category(category, category_intervals):\n",
    "    \"\"\" Sample a numerical value for a given category. \"\"\"\n",
    "    a, b = category_intervals[category]\n",
    "    mean = (a + b) / 2\n",
    "    sd = (b - a) / 6\n",
    "    dist = get_truncated_normal(mean, sd, a, b)\n",
    "    return dist.rvs()\n",
    "\n",
    "\n",
    "def gmm_cdf_dict(x, gmm):\n",
    "    \"\"\"\n",
    "    Compute the CDF of the GMM at point x using a dictionary to represent the GMM parameters.\n",
    "    \n",
    "    Parameters:\n",
    "    - x: Point at which to evaluate the CDF\n",
    "    - gmm: Dictionary with GMM parameters\n",
    "    \n",
    "    Returns:\n",
    "    - CDF value at point x\n",
    "    \"\"\"\n",
    "    cdf_value = 0\n",
    "    for weight, mean, covariance in zip(gmm['weights_'], gmm['means_'], gmm['covariances_']):\n",
    "        cdf_value += weight * norm.cdf(x, mean, np.sqrt(covariance))\n",
    "    return cdf_value\n",
    "\n",
    "def check_cdf_bounds(gmm, bounds, probabilities):\n",
    "    results = []\n",
    "    for p in probabilities:\n",
    "        cdf_lower = gmm_cdf_dict(bounds[0], gmm)\n",
    "        cdf_upper = gmm_cdf_dict(bounds[1], gmm)\n",
    "        results.append((p, cdf_lower, cdf_upper, np.sign(cdf_lower - p), np.sign(cdf_upper - p)))\n",
    "    return results\n",
    "\n",
    "\n",
    "def compute_gmm_bounds(gmm, num_std=3):\n",
    "    \"\"\"\n",
    "    Compute bounds for the GMM based on standard deviations from the mean.\n",
    "    \n",
    "    Parameters:\n",
    "    - gmm: Dictionary with GMM parameters\n",
    "    - num_std: Number of standard deviations to use for bounds\n",
    "    \n",
    "    Returns:\n",
    "    - A tuple (lower_bound, upper_bound)\n",
    "    \"\"\"\n",
    "    means = gmm['means_'].flatten()\n",
    "    stds = np.sqrt(gmm['covariances_'].flatten())\n",
    "    \n",
    "    lower_bounds = means - num_std * stds\n",
    "    upper_bounds = means + num_std * stds\n",
    "    \n",
    "    lower_bound = min(lower_bounds)\n",
    "    upper_bound = max(upper_bounds)\n",
    "    \n",
    "    return lower_bound, upper_bound\n",
    "\n",
    "def sample(F_inv, Sigma):\n",
    "    \"\"\"\n",
    "    Sample numerical values from the distribution and covariances of the columns.\n",
    "    \n",
    "    Parameters:\n",
    "    - F_inv: A list of inverse CDF functions for the marginals.\n",
    "    - Sigma: The covariance matrix.\n",
    "    \n",
    "    Returns:\n",
    "    - A sample vector x in the original space.\n",
    "    \"\"\"\n",
    "    # Step 2: Random n-dimensional Gaussian vector\n",
    "    n = Sigma.shape[0]\n",
    "    v = np.random.randn(n)\n",
    "    \n",
    "    # Step 3: Cholesky decomposition\n",
    "    L = np.linalg.cholesky(Sigma)\n",
    "    \n",
    "    # Step 4: u ← Lv\n",
    "    u = L.dot(v)\n",
    "    \n",
    "    # Step 5: x ← [F_0^(-1)(Φ(u_0)), F_1^(-1)(Φ(u_1)), ..., F_n^(-1)(Φ(u_n))]\n",
    "    x = [F_inv_i(norm.cdf(u_i)) for F_inv_i, u_i in zip(F_inv, u)]\n",
    "    \n",
    "    return x\n",
    "\n"
   ]
  },
  {
   "cell_type": "code",
   "execution_count": 5,
   "metadata": {},
   "outputs": [
    {
     "data": {
      "text/html": [
       "<div>\n",
       "<style scoped>\n",
       "    .dataframe tbody tr th:only-of-type {\n",
       "        vertical-align: middle;\n",
       "    }\n",
       "\n",
       "    .dataframe tbody tr th {\n",
       "        vertical-align: top;\n",
       "    }\n",
       "\n",
       "    .dataframe thead th {\n",
       "        text-align: right;\n",
       "    }\n",
       "</style>\n",
       "<table border=\"1\" class=\"dataframe\">\n",
       "  <thead>\n",
       "    <tr style=\"text-align: right;\">\n",
       "      <th></th>\n",
       "      <th>age</th>\n",
       "      <th>workclass</th>\n",
       "      <th>fnlwgt</th>\n",
       "      <th>education</th>\n",
       "      <th>education-num</th>\n",
       "      <th>marital-status</th>\n",
       "      <th>occupation</th>\n",
       "      <th>relationship</th>\n",
       "      <th>race</th>\n",
       "      <th>sex</th>\n",
       "      <th>capital-gain</th>\n",
       "      <th>capital-loss</th>\n",
       "      <th>hours-per-week</th>\n",
       "      <th>native-country</th>\n",
       "      <th>salary</th>\n",
       "    </tr>\n",
       "  </thead>\n",
       "  <tbody>\n",
       "    <tr>\n",
       "      <th>0</th>\n",
       "      <td>39</td>\n",
       "      <td>State-gov</td>\n",
       "      <td>77516</td>\n",
       "      <td>Bachelors</td>\n",
       "      <td>13</td>\n",
       "      <td>Never-married</td>\n",
       "      <td>Adm-clerical</td>\n",
       "      <td>Not-in-family</td>\n",
       "      <td>White</td>\n",
       "      <td>Male</td>\n",
       "      <td>2174</td>\n",
       "      <td>0</td>\n",
       "      <td>40</td>\n",
       "      <td>United-States</td>\n",
       "      <td>&lt;=50K</td>\n",
       "    </tr>\n",
       "    <tr>\n",
       "      <th>1</th>\n",
       "      <td>50</td>\n",
       "      <td>Self-emp-not-inc</td>\n",
       "      <td>83311</td>\n",
       "      <td>Bachelors</td>\n",
       "      <td>13</td>\n",
       "      <td>Married-civ-spouse</td>\n",
       "      <td>Exec-managerial</td>\n",
       "      <td>Husband</td>\n",
       "      <td>White</td>\n",
       "      <td>Male</td>\n",
       "      <td>0</td>\n",
       "      <td>0</td>\n",
       "      <td>13</td>\n",
       "      <td>United-States</td>\n",
       "      <td>&lt;=50K</td>\n",
       "    </tr>\n",
       "    <tr>\n",
       "      <th>2</th>\n",
       "      <td>38</td>\n",
       "      <td>Private</td>\n",
       "      <td>215646</td>\n",
       "      <td>HS-grad</td>\n",
       "      <td>9</td>\n",
       "      <td>Divorced</td>\n",
       "      <td>Handlers-cleaners</td>\n",
       "      <td>Not-in-family</td>\n",
       "      <td>White</td>\n",
       "      <td>Male</td>\n",
       "      <td>0</td>\n",
       "      <td>0</td>\n",
       "      <td>40</td>\n",
       "      <td>United-States</td>\n",
       "      <td>&lt;=50K</td>\n",
       "    </tr>\n",
       "    <tr>\n",
       "      <th>3</th>\n",
       "      <td>53</td>\n",
       "      <td>Private</td>\n",
       "      <td>234721</td>\n",
       "      <td>11th</td>\n",
       "      <td>7</td>\n",
       "      <td>Married-civ-spouse</td>\n",
       "      <td>Handlers-cleaners</td>\n",
       "      <td>Husband</td>\n",
       "      <td>Black</td>\n",
       "      <td>Male</td>\n",
       "      <td>0</td>\n",
       "      <td>0</td>\n",
       "      <td>40</td>\n",
       "      <td>United-States</td>\n",
       "      <td>&lt;=50K</td>\n",
       "    </tr>\n",
       "    <tr>\n",
       "      <th>4</th>\n",
       "      <td>28</td>\n",
       "      <td>Private</td>\n",
       "      <td>338409</td>\n",
       "      <td>Bachelors</td>\n",
       "      <td>13</td>\n",
       "      <td>Married-civ-spouse</td>\n",
       "      <td>Prof-specialty</td>\n",
       "      <td>Wife</td>\n",
       "      <td>Black</td>\n",
       "      <td>Female</td>\n",
       "      <td>0</td>\n",
       "      <td>0</td>\n",
       "      <td>40</td>\n",
       "      <td>Cuba</td>\n",
       "      <td>&lt;=50K</td>\n",
       "    </tr>\n",
       "    <tr>\n",
       "      <th>...</th>\n",
       "      <td>...</td>\n",
       "      <td>...</td>\n",
       "      <td>...</td>\n",
       "      <td>...</td>\n",
       "      <td>...</td>\n",
       "      <td>...</td>\n",
       "      <td>...</td>\n",
       "      <td>...</td>\n",
       "      <td>...</td>\n",
       "      <td>...</td>\n",
       "      <td>...</td>\n",
       "      <td>...</td>\n",
       "      <td>...</td>\n",
       "      <td>...</td>\n",
       "      <td>...</td>\n",
       "    </tr>\n",
       "    <tr>\n",
       "      <th>32556</th>\n",
       "      <td>27</td>\n",
       "      <td>Private</td>\n",
       "      <td>257302</td>\n",
       "      <td>Assoc-acdm</td>\n",
       "      <td>12</td>\n",
       "      <td>Married-civ-spouse</td>\n",
       "      <td>Tech-support</td>\n",
       "      <td>Wife</td>\n",
       "      <td>White</td>\n",
       "      <td>Female</td>\n",
       "      <td>0</td>\n",
       "      <td>0</td>\n",
       "      <td>38</td>\n",
       "      <td>United-States</td>\n",
       "      <td>&lt;=50K</td>\n",
       "    </tr>\n",
       "    <tr>\n",
       "      <th>32557</th>\n",
       "      <td>40</td>\n",
       "      <td>Private</td>\n",
       "      <td>154374</td>\n",
       "      <td>HS-grad</td>\n",
       "      <td>9</td>\n",
       "      <td>Married-civ-spouse</td>\n",
       "      <td>Machine-op-inspct</td>\n",
       "      <td>Husband</td>\n",
       "      <td>White</td>\n",
       "      <td>Male</td>\n",
       "      <td>0</td>\n",
       "      <td>0</td>\n",
       "      <td>40</td>\n",
       "      <td>United-States</td>\n",
       "      <td>&gt;50K</td>\n",
       "    </tr>\n",
       "    <tr>\n",
       "      <th>32558</th>\n",
       "      <td>58</td>\n",
       "      <td>Private</td>\n",
       "      <td>151910</td>\n",
       "      <td>HS-grad</td>\n",
       "      <td>9</td>\n",
       "      <td>Widowed</td>\n",
       "      <td>Adm-clerical</td>\n",
       "      <td>Unmarried</td>\n",
       "      <td>White</td>\n",
       "      <td>Female</td>\n",
       "      <td>0</td>\n",
       "      <td>0</td>\n",
       "      <td>40</td>\n",
       "      <td>United-States</td>\n",
       "      <td>&lt;=50K</td>\n",
       "    </tr>\n",
       "    <tr>\n",
       "      <th>32559</th>\n",
       "      <td>22</td>\n",
       "      <td>Private</td>\n",
       "      <td>201490</td>\n",
       "      <td>HS-grad</td>\n",
       "      <td>9</td>\n",
       "      <td>Never-married</td>\n",
       "      <td>Adm-clerical</td>\n",
       "      <td>Own-child</td>\n",
       "      <td>White</td>\n",
       "      <td>Male</td>\n",
       "      <td>0</td>\n",
       "      <td>0</td>\n",
       "      <td>20</td>\n",
       "      <td>United-States</td>\n",
       "      <td>&lt;=50K</td>\n",
       "    </tr>\n",
       "    <tr>\n",
       "      <th>32560</th>\n",
       "      <td>52</td>\n",
       "      <td>Self-emp-inc</td>\n",
       "      <td>287927</td>\n",
       "      <td>HS-grad</td>\n",
       "      <td>9</td>\n",
       "      <td>Married-civ-spouse</td>\n",
       "      <td>Exec-managerial</td>\n",
       "      <td>Wife</td>\n",
       "      <td>White</td>\n",
       "      <td>Female</td>\n",
       "      <td>15024</td>\n",
       "      <td>0</td>\n",
       "      <td>40</td>\n",
       "      <td>United-States</td>\n",
       "      <td>&gt;50K</td>\n",
       "    </tr>\n",
       "  </tbody>\n",
       "</table>\n",
       "<p>32561 rows × 15 columns</p>\n",
       "</div>"
      ],
      "text/plain": [
       "       age          workclass   fnlwgt    education   education-num  \\\n",
       "0       39          State-gov    77516    Bachelors              13   \n",
       "1       50   Self-emp-not-inc    83311    Bachelors              13   \n",
       "2       38            Private   215646      HS-grad               9   \n",
       "3       53            Private   234721         11th               7   \n",
       "4       28            Private   338409    Bachelors              13   \n",
       "...    ...                ...      ...          ...             ...   \n",
       "32556   27            Private   257302   Assoc-acdm              12   \n",
       "32557   40            Private   154374      HS-grad               9   \n",
       "32558   58            Private   151910      HS-grad               9   \n",
       "32559   22            Private   201490      HS-grad               9   \n",
       "32560   52       Self-emp-inc   287927      HS-grad               9   \n",
       "\n",
       "            marital-status          occupation    relationship    race  \\\n",
       "0            Never-married        Adm-clerical   Not-in-family   White   \n",
       "1       Married-civ-spouse     Exec-managerial         Husband   White   \n",
       "2                 Divorced   Handlers-cleaners   Not-in-family   White   \n",
       "3       Married-civ-spouse   Handlers-cleaners         Husband   Black   \n",
       "4       Married-civ-spouse      Prof-specialty            Wife   Black   \n",
       "...                    ...                 ...             ...     ...   \n",
       "32556   Married-civ-spouse        Tech-support            Wife   White   \n",
       "32557   Married-civ-spouse   Machine-op-inspct         Husband   White   \n",
       "32558              Widowed        Adm-clerical       Unmarried   White   \n",
       "32559        Never-married        Adm-clerical       Own-child   White   \n",
       "32560   Married-civ-spouse     Exec-managerial            Wife   White   \n",
       "\n",
       "           sex   capital-gain   capital-loss   hours-per-week  native-country  \\\n",
       "0         Male           2174              0               40   United-States   \n",
       "1         Male              0              0               13   United-States   \n",
       "2         Male              0              0               40   United-States   \n",
       "3         Male              0              0               40   United-States   \n",
       "4       Female              0              0               40            Cuba   \n",
       "...        ...            ...            ...              ...             ...   \n",
       "32556   Female              0              0               38   United-States   \n",
       "32557     Male              0              0               40   United-States   \n",
       "32558   Female              0              0               40   United-States   \n",
       "32559     Male              0              0               20   United-States   \n",
       "32560   Female          15024              0               40   United-States   \n",
       "\n",
       "       salary  \n",
       "0       <=50K  \n",
       "1       <=50K  \n",
       "2       <=50K  \n",
       "3       <=50K  \n",
       "4       <=50K  \n",
       "...       ...  \n",
       "32556   <=50K  \n",
       "32557    >50K  \n",
       "32558   <=50K  \n",
       "32559   <=50K  \n",
       "32560    >50K  \n",
       "\n",
       "[32561 rows x 15 columns]"
      ]
     },
     "execution_count": 5,
     "metadata": {},
     "output_type": "execute_result"
    }
   ],
   "source": [
    "data"
   ]
  },
  {
   "cell_type": "code",
   "execution_count": 6,
   "metadata": {},
   "outputs": [
    {
     "data": {
      "text/plain": [
       "[' workclass',\n",
       " ' education',\n",
       " ' marital-status',\n",
       " ' occupation',\n",
       " ' relationship',\n",
       " ' race',\n",
       " ' sex',\n",
       " ' native-country',\n",
       " ' salary']"
      ]
     },
     "execution_count": 6,
     "metadata": {},
     "output_type": "execute_result"
    }
   ],
   "source": [
    "category_column"
   ]
  },
  {
   "cell_type": "code",
   "execution_count": 7,
   "metadata": {},
   "outputs": [
    {
     "data": {
      "text/plain": [
       "['age',\n",
       " ' fnlwgt',\n",
       " ' education-num',\n",
       " ' capital-gain',\n",
       " ' capital-loss',\n",
       " ' hours-per-week']"
      ]
     },
     "execution_count": 7,
     "metadata": {},
     "output_type": "execute_result"
    }
   ],
   "source": [
    "num_column #eduaction_num belongs to category"
   ]
  },
  {
   "cell_type": "code",
   "execution_count": 9,
   "metadata": {},
   "outputs": [],
   "source": [
    "age_components = findBestComp(data['age'])\n",
    "\n",
    "fnlwgt_components = findBestComp(data[' fnlwgt'])\n",
    "\n",
    "gain_components = findBestComp(data[' capital-gain'])\n",
    "\n",
    "loss_components = findBestComp(data[' capital-loss'])\n",
    "\n",
    "hours_components = findBestComp(data[' hours-per-week'])"
   ]
  },
  {
   "cell_type": "code",
   "execution_count": 11,
   "metadata": {},
   "outputs": [
    {
     "data": {
      "text/html": [
       "<style>#sk-container-id-1 {color: black;}#sk-container-id-1 pre{padding: 0;}#sk-container-id-1 div.sk-toggleable {background-color: white;}#sk-container-id-1 label.sk-toggleable__label {cursor: pointer;display: block;width: 100%;margin-bottom: 0;padding: 0.3em;box-sizing: border-box;text-align: center;}#sk-container-id-1 label.sk-toggleable__label-arrow:before {content: \"▸\";float: left;margin-right: 0.25em;color: #696969;}#sk-container-id-1 label.sk-toggleable__label-arrow:hover:before {color: black;}#sk-container-id-1 div.sk-estimator:hover label.sk-toggleable__label-arrow:before {color: black;}#sk-container-id-1 div.sk-toggleable__content {max-height: 0;max-width: 0;overflow: hidden;text-align: left;background-color: #f0f8ff;}#sk-container-id-1 div.sk-toggleable__content pre {margin: 0.2em;color: black;border-radius: 0.25em;background-color: #f0f8ff;}#sk-container-id-1 input.sk-toggleable__control:checked~div.sk-toggleable__content {max-height: 200px;max-width: 100%;overflow: auto;}#sk-container-id-1 input.sk-toggleable__control:checked~label.sk-toggleable__label-arrow:before {content: \"▾\";}#sk-container-id-1 div.sk-estimator input.sk-toggleable__control:checked~label.sk-toggleable__label {background-color: #d4ebff;}#sk-container-id-1 div.sk-label input.sk-toggleable__control:checked~label.sk-toggleable__label {background-color: #d4ebff;}#sk-container-id-1 input.sk-hidden--visually {border: 0;clip: rect(1px 1px 1px 1px);clip: rect(1px, 1px, 1px, 1px);height: 1px;margin: -1px;overflow: hidden;padding: 0;position: absolute;width: 1px;}#sk-container-id-1 div.sk-estimator {font-family: monospace;background-color: #f0f8ff;border: 1px dotted black;border-radius: 0.25em;box-sizing: border-box;margin-bottom: 0.5em;}#sk-container-id-1 div.sk-estimator:hover {background-color: #d4ebff;}#sk-container-id-1 div.sk-parallel-item::after {content: \"\";width: 100%;border-bottom: 1px solid gray;flex-grow: 1;}#sk-container-id-1 div.sk-label:hover label.sk-toggleable__label {background-color: #d4ebff;}#sk-container-id-1 div.sk-serial::before {content: \"\";position: absolute;border-left: 1px solid gray;box-sizing: border-box;top: 0;bottom: 0;left: 50%;z-index: 0;}#sk-container-id-1 div.sk-serial {display: flex;flex-direction: column;align-items: center;background-color: white;padding-right: 0.2em;padding-left: 0.2em;position: relative;}#sk-container-id-1 div.sk-item {position: relative;z-index: 1;}#sk-container-id-1 div.sk-parallel {display: flex;align-items: stretch;justify-content: center;background-color: white;position: relative;}#sk-container-id-1 div.sk-item::before, #sk-container-id-1 div.sk-parallel-item::before {content: \"\";position: absolute;border-left: 1px solid gray;box-sizing: border-box;top: 0;bottom: 0;left: 50%;z-index: -1;}#sk-container-id-1 div.sk-parallel-item {display: flex;flex-direction: column;z-index: 1;position: relative;background-color: white;}#sk-container-id-1 div.sk-parallel-item:first-child::after {align-self: flex-end;width: 50%;}#sk-container-id-1 div.sk-parallel-item:last-child::after {align-self: flex-start;width: 50%;}#sk-container-id-1 div.sk-parallel-item:only-child::after {width: 0;}#sk-container-id-1 div.sk-dashed-wrapped {border: 1px dashed gray;margin: 0 0.4em 0.5em 0.4em;box-sizing: border-box;padding-bottom: 0.4em;background-color: white;}#sk-container-id-1 div.sk-label label {font-family: monospace;font-weight: bold;display: inline-block;line-height: 1.2em;}#sk-container-id-1 div.sk-label-container {text-align: center;}#sk-container-id-1 div.sk-container {/* jupyter's `normalize.less` sets `[hidden] { display: none; }` but bootstrap.min.css set `[hidden] { display: none !important; }` so we also need the `!important` here to be able to override the default hidden behavior on the sphinx rendered scikit-learn.org. See: https://github.com/scikit-learn/scikit-learn/issues/21755 */display: inline-block !important;position: relative;}#sk-container-id-1 div.sk-text-repr-fallback {display: none;}</style><div id=\"sk-container-id-1\" class=\"sk-top-container\"><div class=\"sk-text-repr-fallback\"><pre>GaussianMixture(n_components=10)</pre><b>In a Jupyter environment, please rerun this cell to show the HTML representation or trust the notebook. <br />On GitHub, the HTML representation is unable to render, please try loading this page with nbviewer.org.</b></div><div class=\"sk-container\" hidden><div class=\"sk-item\"><div class=\"sk-estimator sk-toggleable\"><input class=\"sk-toggleable__control sk-hidden--visually\" id=\"sk-estimator-id-1\" type=\"checkbox\" checked><label for=\"sk-estimator-id-1\" class=\"sk-toggleable__label sk-toggleable__label-arrow\">GaussianMixture</label><div class=\"sk-toggleable__content\"><pre>GaussianMixture(n_components=10)</pre></div></div></div></div></div>"
      ],
      "text/plain": [
       "GaussianMixture(n_components=10)"
      ]
     },
     "execution_count": 11,
     "metadata": {},
     "output_type": "execute_result"
    }
   ],
   "source": [
    "#inital the gmm to fit\n",
    "gmm_age = GaussianMixture(n_components=age_components)\n",
    "gmm_age.fit(data['age'].values.reshape(-1, 1))\n",
    "\n",
    "# Fit a GMM to the 'hours-per-week' column\n",
    "gmm_hours = GaussianMixture(n_components=hours_components)  \n",
    "gmm_hours.fit(data[' hours-per-week'].values.reshape(-1, 1))\n",
    "\n",
    "gmm_fnlwgt = GaussianMixture(n_components=fnlwgt_components)\n",
    "gmm_fnlwgt.fit(data[' fnlwgt'].values.reshape(-1, 1))\n",
    "\n",
    "gmm_gain = GaussianMixture(n_components=gain_components)\n",
    "gmm_gain.fit(data[' capital-gain'].values.reshape(-1, 1))\n",
    "\n",
    "gmm_loss = GaussianMixture(n_components=loss_components)\n",
    "gmm_loss.fit(data[' capital-loss'].values.reshape(-1, 1))"
   ]
  },
  {
   "cell_type": "code",
   "execution_count": 13,
   "metadata": {},
   "outputs": [],
   "source": [
    "categories_workclass = data[' workclass']\n",
    "category_intervals_workclass = assign_intervals(categories_workclass)\n",
    "numerical_values_workclass = categories_workclass.apply(lambda x: sample_from_category(x, category_intervals_workclass))\n",
    "\n",
    "categories_education = data[' education']\n",
    "category_intervals_education = assign_intervals(categories_education)\n",
    "numerical_values_education = categories_education.apply(lambda x: sample_from_category(x, category_intervals_education))\n",
    "\n",
    "categories_marital = data[' marital-status']\n",
    "category_intervals_marital = assign_intervals(categories_marital)\n",
    "numerical_values_marital = categories_marital.apply(lambda x: sample_from_category(x, category_intervals_marital))\n",
    "\n",
    "categories_occupation = data[' occupation']\n",
    "category_intervals_occupation = assign_intervals(categories_occupation)\n",
    "numerical_values_occupation = categories_occupation.apply(lambda x: sample_from_category(x, category_intervals_occupation))\n",
    "\n",
    "categories_relationship = data[' relationship']\n",
    "category_intervals_relationship = assign_intervals(categories_relationship)\n",
    "numerical_values_relationship = categories_relationship.apply(lambda x: sample_from_category(x, category_intervals_relationship))\n",
    "\n",
    "categories_race = data[' race']\n",
    "category_intervals_race = assign_intervals(categories_race)\n",
    "numerical_values_race = categories_race.apply(lambda x: sample_from_category(x, category_intervals_race))\n",
    "\n",
    "categories_sex = data[' sex']\n",
    "category_intervals_sex = assign_intervals(categories_sex)\n",
    "numerical_values_sex = categories_sex.apply(lambda x: sample_from_category(x, category_intervals_sex))\n",
    "\n",
    "categories_country = data[' native-country']\n",
    "category_intervals_country = assign_intervals(categories_country)\n",
    "numerical_values_country = categories_country.apply(lambda x: sample_from_category(x, category_intervals_country))\n",
    "\n",
    "categories_salary = data[' salary']\n",
    "category_intervals_salary = assign_intervals(categories_salary)\n",
    "numerical_values_salary = categories_salary.apply(lambda x: sample_from_category(x, category_intervals_salary))"
   ]
  },
  {
   "cell_type": "code",
   "execution_count": 14,
   "metadata": {},
   "outputs": [],
   "source": [
    "data[' workclass'] = numerical_values_workclass\n",
    "data[' education'] = numerical_values_education\n",
    "data[' marital-status'] = numerical_values_marital\n",
    "data[' occupation'] = numerical_values_occupation\n",
    "data[' relationship'] = numerical_values_relationship\n",
    "data[' race'] = numerical_values_race\n",
    "data[' sex'] = numerical_values_sex\n",
    "data[' native-country'] = numerical_values_country\n",
    "data[' salary'] = numerical_values_salary"
   ]
  },
  {
   "cell_type": "code",
   "execution_count": 15,
   "metadata": {},
   "outputs": [
    {
     "data": {
      "text/html": [
       "<div>\n",
       "<style scoped>\n",
       "    .dataframe tbody tr th:only-of-type {\n",
       "        vertical-align: middle;\n",
       "    }\n",
       "\n",
       "    .dataframe tbody tr th {\n",
       "        vertical-align: top;\n",
       "    }\n",
       "\n",
       "    .dataframe thead th {\n",
       "        text-align: right;\n",
       "    }\n",
       "</style>\n",
       "<table border=\"1\" class=\"dataframe\">\n",
       "  <thead>\n",
       "    <tr style=\"text-align: right;\">\n",
       "      <th></th>\n",
       "      <th>age</th>\n",
       "      <th>workclass</th>\n",
       "      <th>fnlwgt</th>\n",
       "      <th>education</th>\n",
       "      <th>education-num</th>\n",
       "      <th>marital-status</th>\n",
       "      <th>occupation</th>\n",
       "      <th>relationship</th>\n",
       "      <th>race</th>\n",
       "      <th>sex</th>\n",
       "      <th>capital-gain</th>\n",
       "      <th>capital-loss</th>\n",
       "      <th>hours-per-week</th>\n",
       "      <th>native-country</th>\n",
       "      <th>salary</th>\n",
       "    </tr>\n",
       "  </thead>\n",
       "  <tbody>\n",
       "    <tr>\n",
       "      <th>0</th>\n",
       "      <td>39</td>\n",
       "      <td>0.906194</td>\n",
       "      <td>77516</td>\n",
       "      <td>0.633112</td>\n",
       "      <td>13</td>\n",
       "      <td>0.607033</td>\n",
       "      <td>0.442110</td>\n",
       "      <td>0.529146</td>\n",
       "      <td>0.436993</td>\n",
       "      <td>0.346928</td>\n",
       "      <td>2174</td>\n",
       "      <td>0</td>\n",
       "      <td>40</td>\n",
       "      <td>0.695305</td>\n",
       "      <td>0.489264</td>\n",
       "    </tr>\n",
       "    <tr>\n",
       "      <th>1</th>\n",
       "      <td>50</td>\n",
       "      <td>0.732790</td>\n",
       "      <td>83311</td>\n",
       "      <td>0.643058</td>\n",
       "      <td>13</td>\n",
       "      <td>0.327116</td>\n",
       "      <td>0.299604</td>\n",
       "      <td>0.152220</td>\n",
       "      <td>0.333890</td>\n",
       "      <td>0.342774</td>\n",
       "      <td>0</td>\n",
       "      <td>0</td>\n",
       "      <td>13</td>\n",
       "      <td>0.554602</td>\n",
       "      <td>0.446327</td>\n",
       "    </tr>\n",
       "    <tr>\n",
       "      <th>2</th>\n",
       "      <td>38</td>\n",
       "      <td>0.409777</td>\n",
       "      <td>215646</td>\n",
       "      <td>0.166287</td>\n",
       "      <td>9</td>\n",
       "      <td>0.841400</td>\n",
       "      <td>0.891692</td>\n",
       "      <td>0.574400</td>\n",
       "      <td>0.543855</td>\n",
       "      <td>0.272486</td>\n",
       "      <td>0</td>\n",
       "      <td>0</td>\n",
       "      <td>40</td>\n",
       "      <td>0.520416</td>\n",
       "      <td>0.462242</td>\n",
       "    </tr>\n",
       "    <tr>\n",
       "      <th>3</th>\n",
       "      <td>53</td>\n",
       "      <td>0.520768</td>\n",
       "      <td>234721</td>\n",
       "      <td>0.822816</td>\n",
       "      <td>7</td>\n",
       "      <td>0.161458</td>\n",
       "      <td>0.897766</td>\n",
       "      <td>0.163139</td>\n",
       "      <td>0.881013</td>\n",
       "      <td>0.245039</td>\n",
       "      <td>0</td>\n",
       "      <td>0</td>\n",
       "      <td>40</td>\n",
       "      <td>0.381167</td>\n",
       "      <td>0.355028</td>\n",
       "    </tr>\n",
       "    <tr>\n",
       "      <th>4</th>\n",
       "      <td>28</td>\n",
       "      <td>0.409488</td>\n",
       "      <td>338409</td>\n",
       "      <td>0.630088</td>\n",
       "      <td>13</td>\n",
       "      <td>0.157326</td>\n",
       "      <td>0.042700</td>\n",
       "      <td>0.945183</td>\n",
       "      <td>0.935365</td>\n",
       "      <td>0.749773</td>\n",
       "      <td>0</td>\n",
       "      <td>0</td>\n",
       "      <td>40</td>\n",
       "      <td>0.959067</td>\n",
       "      <td>0.392157</td>\n",
       "    </tr>\n",
       "    <tr>\n",
       "      <th>...</th>\n",
       "      <td>...</td>\n",
       "      <td>...</td>\n",
       "      <td>...</td>\n",
       "      <td>...</td>\n",
       "      <td>...</td>\n",
       "      <td>...</td>\n",
       "      <td>...</td>\n",
       "      <td>...</td>\n",
       "      <td>...</td>\n",
       "      <td>...</td>\n",
       "      <td>...</td>\n",
       "      <td>...</td>\n",
       "      <td>...</td>\n",
       "      <td>...</td>\n",
       "      <td>...</td>\n",
       "    </tr>\n",
       "    <tr>\n",
       "      <th>32556</th>\n",
       "      <td>27</td>\n",
       "      <td>0.329630</td>\n",
       "      <td>257302</td>\n",
       "      <td>0.862439</td>\n",
       "      <td>12</td>\n",
       "      <td>0.200397</td>\n",
       "      <td>0.953115</td>\n",
       "      <td>0.940848</td>\n",
       "      <td>0.357642</td>\n",
       "      <td>0.851211</td>\n",
       "      <td>0</td>\n",
       "      <td>0</td>\n",
       "      <td>38</td>\n",
       "      <td>0.433700</td>\n",
       "      <td>0.480626</td>\n",
       "    </tr>\n",
       "    <tr>\n",
       "      <th>32557</th>\n",
       "      <td>40</td>\n",
       "      <td>0.589032</td>\n",
       "      <td>154374</td>\n",
       "      <td>0.185625</td>\n",
       "      <td>9</td>\n",
       "      <td>0.244058</td>\n",
       "      <td>0.721171</td>\n",
       "      <td>0.277247</td>\n",
       "      <td>0.686494</td>\n",
       "      <td>0.459192</td>\n",
       "      <td>0</td>\n",
       "      <td>0</td>\n",
       "      <td>40</td>\n",
       "      <td>0.260463</td>\n",
       "      <td>0.862169</td>\n",
       "    </tr>\n",
       "    <tr>\n",
       "      <th>32558</th>\n",
       "      <td>58</td>\n",
       "      <td>0.457204</td>\n",
       "      <td>151910</td>\n",
       "      <td>0.257307</td>\n",
       "      <td>9</td>\n",
       "      <td>0.975380</td>\n",
       "      <td>0.414197</td>\n",
       "      <td>0.905031</td>\n",
       "      <td>0.396496</td>\n",
       "      <td>0.865927</td>\n",
       "      <td>0</td>\n",
       "      <td>0</td>\n",
       "      <td>40</td>\n",
       "      <td>0.461434</td>\n",
       "      <td>0.590923</td>\n",
       "    </tr>\n",
       "    <tr>\n",
       "      <th>32559</th>\n",
       "      <td>22</td>\n",
       "      <td>0.337993</td>\n",
       "      <td>201490</td>\n",
       "      <td>0.174143</td>\n",
       "      <td>9</td>\n",
       "      <td>0.594160</td>\n",
       "      <td>0.413011</td>\n",
       "      <td>0.753158</td>\n",
       "      <td>0.540187</td>\n",
       "      <td>0.251806</td>\n",
       "      <td>0</td>\n",
       "      <td>0</td>\n",
       "      <td>20</td>\n",
       "      <td>0.323667</td>\n",
       "      <td>0.181488</td>\n",
       "    </tr>\n",
       "    <tr>\n",
       "      <th>32560</th>\n",
       "      <td>52</td>\n",
       "      <td>0.947989</td>\n",
       "      <td>287927</td>\n",
       "      <td>0.139536</td>\n",
       "      <td>9</td>\n",
       "      <td>0.241200</td>\n",
       "      <td>0.352880</td>\n",
       "      <td>0.939613</td>\n",
       "      <td>0.565216</td>\n",
       "      <td>0.788908</td>\n",
       "      <td>15024</td>\n",
       "      <td>0</td>\n",
       "      <td>40</td>\n",
       "      <td>0.457173</td>\n",
       "      <td>0.916066</td>\n",
       "    </tr>\n",
       "  </tbody>\n",
       "</table>\n",
       "<p>32561 rows × 15 columns</p>\n",
       "</div>"
      ],
      "text/plain": [
       "       age   workclass   fnlwgt   education   education-num   marital-status  \\\n",
       "0       39    0.906194    77516    0.633112              13         0.607033   \n",
       "1       50    0.732790    83311    0.643058              13         0.327116   \n",
       "2       38    0.409777   215646    0.166287               9         0.841400   \n",
       "3       53    0.520768   234721    0.822816               7         0.161458   \n",
       "4       28    0.409488   338409    0.630088              13         0.157326   \n",
       "...    ...         ...      ...         ...             ...              ...   \n",
       "32556   27    0.329630   257302    0.862439              12         0.200397   \n",
       "32557   40    0.589032   154374    0.185625               9         0.244058   \n",
       "32558   58    0.457204   151910    0.257307               9         0.975380   \n",
       "32559   22    0.337993   201490    0.174143               9         0.594160   \n",
       "32560   52    0.947989   287927    0.139536               9         0.241200   \n",
       "\n",
       "        occupation   relationship      race       sex   capital-gain  \\\n",
       "0         0.442110       0.529146  0.436993  0.346928           2174   \n",
       "1         0.299604       0.152220  0.333890  0.342774              0   \n",
       "2         0.891692       0.574400  0.543855  0.272486              0   \n",
       "3         0.897766       0.163139  0.881013  0.245039              0   \n",
       "4         0.042700       0.945183  0.935365  0.749773              0   \n",
       "...            ...            ...       ...       ...            ...   \n",
       "32556     0.953115       0.940848  0.357642  0.851211              0   \n",
       "32557     0.721171       0.277247  0.686494  0.459192              0   \n",
       "32558     0.414197       0.905031  0.396496  0.865927              0   \n",
       "32559     0.413011       0.753158  0.540187  0.251806              0   \n",
       "32560     0.352880       0.939613  0.565216  0.788908          15024   \n",
       "\n",
       "        capital-loss   hours-per-week   native-country    salary  \n",
       "0                  0               40         0.695305  0.489264  \n",
       "1                  0               13         0.554602  0.446327  \n",
       "2                  0               40         0.520416  0.462242  \n",
       "3                  0               40         0.381167  0.355028  \n",
       "4                  0               40         0.959067  0.392157  \n",
       "...              ...              ...              ...       ...  \n",
       "32556              0               38         0.433700  0.480626  \n",
       "32557              0               40         0.260463  0.862169  \n",
       "32558              0               40         0.461434  0.590923  \n",
       "32559              0               20         0.323667  0.181488  \n",
       "32560              0               40         0.457173  0.916066  \n",
       "\n",
       "[32561 rows x 15 columns]"
      ]
     },
     "execution_count": 15,
     "metadata": {},
     "output_type": "execute_result"
    }
   ],
   "source": [
    "data"
   ]
  },
  {
   "cell_type": "code",
   "execution_count": 16,
   "metadata": {},
   "outputs": [],
   "source": [
    "workclass_components = findBestComp(data[' workclass'])\n",
    "\n",
    "education_components = findBestComp(data[' education'])\n",
    "\n",
    "marital_components = findBestComp(data[' marital-status'])\n",
    "\n",
    "occupation_components = findBestComp(data[' occupation'])\n",
    "\n",
    "relationship_components = findBestComp(data[' relationship'])\n",
    "\n",
    "race_components = findBestComp(data[' race'])\n",
    "\n",
    "sex_components = findBestComp(data[' sex'])\n",
    "\n",
    "country_components = findBestComp(data[' native-country'])\n",
    "\n",
    "salary_components = findBestComp(data[' salary'])"
   ]
  },
  {
   "cell_type": "code",
   "execution_count": 17,
   "metadata": {},
   "outputs": [
    {
     "data": {
      "text/html": [
       "<style>#sk-container-id-2 {color: black;}#sk-container-id-2 pre{padding: 0;}#sk-container-id-2 div.sk-toggleable {background-color: white;}#sk-container-id-2 label.sk-toggleable__label {cursor: pointer;display: block;width: 100%;margin-bottom: 0;padding: 0.3em;box-sizing: border-box;text-align: center;}#sk-container-id-2 label.sk-toggleable__label-arrow:before {content: \"▸\";float: left;margin-right: 0.25em;color: #696969;}#sk-container-id-2 label.sk-toggleable__label-arrow:hover:before {color: black;}#sk-container-id-2 div.sk-estimator:hover label.sk-toggleable__label-arrow:before {color: black;}#sk-container-id-2 div.sk-toggleable__content {max-height: 0;max-width: 0;overflow: hidden;text-align: left;background-color: #f0f8ff;}#sk-container-id-2 div.sk-toggleable__content pre {margin: 0.2em;color: black;border-radius: 0.25em;background-color: #f0f8ff;}#sk-container-id-2 input.sk-toggleable__control:checked~div.sk-toggleable__content {max-height: 200px;max-width: 100%;overflow: auto;}#sk-container-id-2 input.sk-toggleable__control:checked~label.sk-toggleable__label-arrow:before {content: \"▾\";}#sk-container-id-2 div.sk-estimator input.sk-toggleable__control:checked~label.sk-toggleable__label {background-color: #d4ebff;}#sk-container-id-2 div.sk-label input.sk-toggleable__control:checked~label.sk-toggleable__label {background-color: #d4ebff;}#sk-container-id-2 input.sk-hidden--visually {border: 0;clip: rect(1px 1px 1px 1px);clip: rect(1px, 1px, 1px, 1px);height: 1px;margin: -1px;overflow: hidden;padding: 0;position: absolute;width: 1px;}#sk-container-id-2 div.sk-estimator {font-family: monospace;background-color: #f0f8ff;border: 1px dotted black;border-radius: 0.25em;box-sizing: border-box;margin-bottom: 0.5em;}#sk-container-id-2 div.sk-estimator:hover {background-color: #d4ebff;}#sk-container-id-2 div.sk-parallel-item::after {content: \"\";width: 100%;border-bottom: 1px solid gray;flex-grow: 1;}#sk-container-id-2 div.sk-label:hover label.sk-toggleable__label {background-color: #d4ebff;}#sk-container-id-2 div.sk-serial::before {content: \"\";position: absolute;border-left: 1px solid gray;box-sizing: border-box;top: 0;bottom: 0;left: 50%;z-index: 0;}#sk-container-id-2 div.sk-serial {display: flex;flex-direction: column;align-items: center;background-color: white;padding-right: 0.2em;padding-left: 0.2em;position: relative;}#sk-container-id-2 div.sk-item {position: relative;z-index: 1;}#sk-container-id-2 div.sk-parallel {display: flex;align-items: stretch;justify-content: center;background-color: white;position: relative;}#sk-container-id-2 div.sk-item::before, #sk-container-id-2 div.sk-parallel-item::before {content: \"\";position: absolute;border-left: 1px solid gray;box-sizing: border-box;top: 0;bottom: 0;left: 50%;z-index: -1;}#sk-container-id-2 div.sk-parallel-item {display: flex;flex-direction: column;z-index: 1;position: relative;background-color: white;}#sk-container-id-2 div.sk-parallel-item:first-child::after {align-self: flex-end;width: 50%;}#sk-container-id-2 div.sk-parallel-item:last-child::after {align-self: flex-start;width: 50%;}#sk-container-id-2 div.sk-parallel-item:only-child::after {width: 0;}#sk-container-id-2 div.sk-dashed-wrapped {border: 1px dashed gray;margin: 0 0.4em 0.5em 0.4em;box-sizing: border-box;padding-bottom: 0.4em;background-color: white;}#sk-container-id-2 div.sk-label label {font-family: monospace;font-weight: bold;display: inline-block;line-height: 1.2em;}#sk-container-id-2 div.sk-label-container {text-align: center;}#sk-container-id-2 div.sk-container {/* jupyter's `normalize.less` sets `[hidden] { display: none; }` but bootstrap.min.css set `[hidden] { display: none !important; }` so we also need the `!important` here to be able to override the default hidden behavior on the sphinx rendered scikit-learn.org. See: https://github.com/scikit-learn/scikit-learn/issues/21755 */display: inline-block !important;position: relative;}#sk-container-id-2 div.sk-text-repr-fallback {display: none;}</style><div id=\"sk-container-id-2\" class=\"sk-top-container\"><div class=\"sk-text-repr-fallback\"><pre>GaussianMixture(n_components=2)</pre><b>In a Jupyter environment, please rerun this cell to show the HTML representation or trust the notebook. <br />On GitHub, the HTML representation is unable to render, please try loading this page with nbviewer.org.</b></div><div class=\"sk-container\" hidden><div class=\"sk-item\"><div class=\"sk-estimator sk-toggleable\"><input class=\"sk-toggleable__control sk-hidden--visually\" id=\"sk-estimator-id-2\" type=\"checkbox\" checked><label for=\"sk-estimator-id-2\" class=\"sk-toggleable__label sk-toggleable__label-arrow\">GaussianMixture</label><div class=\"sk-toggleable__content\"><pre>GaussianMixture(n_components=2)</pre></div></div></div></div></div>"
      ],
      "text/plain": [
       "GaussianMixture(n_components=2)"
      ]
     },
     "execution_count": 17,
     "metadata": {},
     "output_type": "execute_result"
    }
   ],
   "source": [
    "gmm_workclass = GaussianMixture(n_components=workclass_components)\n",
    "gmm_workclass.fit(data[' workclass'].values.reshape(-1, 1))\n",
    "\n",
    "gmm_education = GaussianMixture(n_components=education_components)\n",
    "gmm_education.fit(data[' education'].values.reshape(-1, 1))\n",
    "\n",
    "gmm_marital = GaussianMixture(n_components=marital_components)\n",
    "gmm_marital.fit(data[' marital-status'].values.reshape(-1, 1))\n",
    "\n",
    "gmm_occupation = GaussianMixture(n_components=occupation_components)\n",
    "gmm_occupation.fit(data[' occupation'].values.reshape(-1, 1))\n",
    "\n",
    "gmm_relationship = GaussianMixture(n_components= relationship_components)\n",
    "gmm_relationship.fit(data[' relationship'].values.reshape(-1, 1))\n",
    "\n",
    "gmm_race = GaussianMixture(n_components=race_components)\n",
    "gmm_race.fit(data[' race'].values.reshape(-1, 1))\n",
    "\n",
    "gmm_sex = GaussianMixture(n_components=sex_components)\n",
    "gmm_sex.fit(data[' sex'].values.reshape(-1, 1))\n",
    "\n",
    "gmm_country = GaussianMixture(n_components=country_components)\n",
    "gmm_country.fit(data[' native-country'].values.reshape(-1, 1))\n",
    "\n",
    "gmm_salary = GaussianMixture(n_components=salary_components)\n",
    "gmm_salary.fit(data[' salary'].values.reshape(-1, 1))"
   ]
  },
  {
   "cell_type": "code",
   "execution_count": 18,
   "metadata": {},
   "outputs": [],
   "source": [
    "GMM_cdf_table = pd.DataFrame()\n",
    "GMM_cdf_table['age'] = data['age'].apply(lambda x: gmm_cdf(x, gmm_age))\n",
    "GMM_cdf_table[' workclass'] = data[' workclass'].apply(lambda x: gmm_cdf(x, gmm_workclass))\n",
    "GMM_cdf_table[' fnlwgt'] = data[' fnlwgt'].apply(lambda x: gmm_cdf(x, gmm_fnlwgt))\n",
    "GMM_cdf_table[' education'] = data[' education'].apply(lambda x: gmm_cdf(x, gmm_education))\n",
    "GMM_cdf_table[' marital-status'] = data[' marital-status'].apply(lambda x: gmm_cdf(x, gmm_marital))\n",
    "GMM_cdf_table[' occupation'] = data[' occupation'].apply(lambda x: gmm_cdf(x, gmm_occupation))\n",
    "GMM_cdf_table[' relationship'] = data[' relationship'].apply(lambda x: gmm_cdf(x, gmm_relationship))\n",
    "GMM_cdf_table[' race'] = data[' race'].apply(lambda x: gmm_cdf(x, gmm_race))\n",
    "GMM_cdf_table[' sex'] = data[' sex'].apply(lambda x: gmm_cdf(x, gmm_sex))\n",
    "GMM_cdf_table[' capital-gain'] = data[' capital-gain'].apply(lambda x: gmm_cdf(x, gmm_gain))\n",
    "GMM_cdf_table[' capital-loss'] = data[' capital-loss'].apply(lambda x: gmm_cdf(x, gmm_loss))\n",
    "GMM_cdf_table[' hours-per-week'] = data[' hours-per-week'].apply(lambda x: gmm_cdf(x, gmm_hours))\n",
    "GMM_cdf_table[' native-country'] = data[' native-country'].apply(lambda x: gmm_cdf(x, gmm_country))\n",
    "GMM_cdf_table[' salary'] = data[' salary'].apply(lambda x: gmm_cdf(x, gmm_salary))\n"
   ]
  },
  {
   "cell_type": "code",
   "execution_count": 22,
   "metadata": {},
   "outputs": [],
   "source": [
    "GMM_invers_cdf_table = pd.DataFrame()\n",
    "\n",
    "GMM_invers_cdf_table['age'] = GMM_cdf_table['age'].apply(lambda x: gaussian_inverse_cdf(x))\n",
    "GMM_invers_cdf_table[' workclass'] = GMM_cdf_table[' workclass'].apply(lambda x: gaussian_inverse_cdf(x))\n",
    "GMM_invers_cdf_table[' fnlwgt'] = GMM_cdf_table[' fnlwgt'].apply(lambda x: gaussian_inverse_cdf(x))\n",
    "GMM_invers_cdf_table[' education'] = GMM_cdf_table[' education'].apply(lambda x: gaussian_inverse_cdf(x))\n",
    "GMM_invers_cdf_table[' marital-status'] = GMM_cdf_table[' marital-status'].apply(lambda x: gaussian_inverse_cdf(x))\n",
    "GMM_invers_cdf_table[' occupation'] = GMM_cdf_table[' occupation'].apply(lambda x: gaussian_inverse_cdf(x))\n",
    "GMM_invers_cdf_table[' relationship'] = GMM_cdf_table[' relationship'].apply(lambda x: gaussian_inverse_cdf(x))\n",
    "GMM_invers_cdf_table[' race'] = GMM_cdf_table[' race'].apply(lambda x: gaussian_inverse_cdf(x))\n",
    "GMM_invers_cdf_table[' sex'] = GMM_cdf_table[' sex'].apply(lambda x: gaussian_inverse_cdf(x))\n",
    "GMM_invers_cdf_table[' capital-gain'] = GMM_cdf_table[' capital-gain'].apply(lambda x: gaussian_inverse_cdf(x))\n",
    "GMM_invers_cdf_table[' capital-loss'] = GMM_cdf_table[' capital-loss'].apply(lambda x: gaussian_inverse_cdf(x))\n",
    "GMM_invers_cdf_table[' hours-per-week'] = GMM_cdf_table[' hours-per-week'].apply(lambda x: gaussian_inverse_cdf(x))\n",
    "GMM_invers_cdf_table[' native-country'] = GMM_cdf_table[' native-country'].apply(lambda x: gaussian_inverse_cdf(x))\n",
    "GMM_invers_cdf_table[' salary'] = GMM_cdf_table[' salary'].apply(lambda x: gaussian_inverse_cdf(x))\n"
   ]
  },
  {
   "cell_type": "code",
   "execution_count": 25,
   "metadata": {},
   "outputs": [],
   "source": [
    "covariance_matrix = GMM_invers_cdf_table.cov()"
   ]
  },
  {
   "cell_type": "code",
   "execution_count": 28,
   "metadata": {},
   "outputs": [],
   "source": [
    "gmm_age_dict = {\n",
    "    'weights_': gmm_age.weights_, \n",
    "    'means_': gmm_age.means_, \n",
    "    'covariances_': gmm_age.covariances_ \n",
    "}\n",
    "gmm_workclass_dict = {\n",
    "    'weights_': gmm_workclass.weights_, \n",
    "    'means_': gmm_workclass.means_, \n",
    "    'covariances_': gmm_workclass.covariances_ \n",
    "}\n",
    "gmm_fnlwgt_dict = {\n",
    "    'weights_': gmm_fnlwgt.weights_, \n",
    "    'means_': gmm_fnlwgt.means_, \n",
    "    'covariances_': gmm_fnlwgt.covariances_ \n",
    "}\n",
    "gmm_education_dict = {\n",
    "    'weights_': gmm_education.weights_, \n",
    "    'means_': gmm_education.means_, \n",
    "    'covariances_': gmm_education.covariances_ \n",
    "}\n",
    "gmm_marital_dict = {\n",
    "    'weights_': gmm_marital.weights_, \n",
    "    'means_': gmm_marital.means_, \n",
    "    'covariances_': gmm_marital.covariances_ \n",
    "}\n",
    "gmm_occupation_dict = {\n",
    "    'weights_': gmm_occupation.weights_, \n",
    "    'means_': gmm_occupation.means_, \n",
    "    'covariances_': gmm_occupation.covariances_ \n",
    "}\n",
    "gmm_relationship_dict = {\n",
    "    'weights_': gmm_relationship.weights_, \n",
    "    'means_': gmm_relationship.means_, \n",
    "    'covariances_': gmm_relationship.covariances_ \n",
    "}\n",
    "gmm_race_dict = {\n",
    "    'weights_': gmm_race.weights_, \n",
    "    'means_': gmm_race.means_, \n",
    "    'covariances_': gmm_race.covariances_ \n",
    "}\n",
    "gmm_sex_dict = {\n",
    "    'weights_': gmm_sex.weights_, \n",
    "    'means_': gmm_sex.means_, \n",
    "    'covariances_': gmm_sex.covariances_ \n",
    "}\n",
    "gmm_gain_dict = {\n",
    "    'weights_': gmm_gain.weights_, \n",
    "    'means_': gmm_gain.means_, \n",
    "    'covariances_': gmm_gain.covariances_ \n",
    "}\n",
    "gmm_loss_dict = {\n",
    "    'weights_': gmm_loss.weights_, \n",
    "    'means_': gmm_loss.means_, \n",
    "    'covariances_': gmm_loss.covariances_ \n",
    "}\n",
    "gmm_country_dict = {\n",
    "    'weights_': gmm_country.weights_, \n",
    "    'means_': gmm_country.means_, \n",
    "    'covariances_': gmm_country.covariances_ \n",
    "}\n",
    "gmm_salary_dict = {\n",
    "    'weights_': gmm_salary.weights_, \n",
    "    'means_': gmm_salary.means_, \n",
    "    'covariances_': gmm_salary.covariances_ \n",
    "}\n",
    "\n",
    "gmm_hours_dict = {\n",
    "    'weights_': gmm_hours.weights_,\n",
    "    'means_': gmm_hours.means_, \n",
    "    'covariances_': gmm_hours.covariances_  \n",
    "}\n",
    "\n",
    "\n",
    "age_bounds = (GMM_cdf_table['age'].min(), GMM_cdf_table['age'].max())\n",
    "workclass_bounds = (GMM_cdf_table[' workclass'].min(), GMM_cdf_table[' workclass'].max())\n",
    "fnlwgt_bounds = (GMM_cdf_table[' fnlwgt'].min(), GMM_cdf_table[' fnlwgt'].max())\n",
    "education_bounds = (GMM_cdf_table[' education'].min(), GMM_cdf_table[' education'].max())\n",
    "marital_bounds = (GMM_cdf_table[' marital-status'].min(), GMM_cdf_table[' marital-status'].max())\n",
    "occupation_bounds = (GMM_cdf_table[' occupation'].min(), GMM_cdf_table[' occupation'].max())\n",
    "relationship_bounds = (GMM_cdf_table[' relationship'].min(), GMM_cdf_table[' relationship'].max())\n",
    "race_bounds = (GMM_cdf_table[' race'].min(), GMM_cdf_table[' race'].max())\n",
    "sex_bounds = (GMM_cdf_table[' sex'].min(), GMM_cdf_table[' sex'].max())\n",
    "gain_bounds = (GMM_cdf_table[' capital-gain'].min(), GMM_cdf_table[' capital-gain'].max())\n",
    "loss_bounds = (GMM_cdf_table[' capital-loss'].min(), GMM_cdf_table[' capital-loss'].max())\n",
    "country_bounds = (GMM_cdf_table[' native-country'].min(), GMM_cdf_table[' native-country'].max())\n",
    "salary_bounds = (GMM_cdf_table[' salary'].min(), GMM_cdf_table[' salary'].max())\n",
    "hours_bounds = (GMM_cdf_table[' hours-per-week'].min(), GMM_cdf_table[' hours-per-week'].max())   \n",
    "probabilities = [0.1, 0.5, 0.9]\n",
    "\n",
    "age_cdf_check = check_cdf_bounds(gmm_age_dict, age_bounds, probabilities)\n",
    "workclass_cdf_check = check_cdf_bounds(gmm_workclass_dict, workclass_bounds, probabilities)\n",
    "fnlwgt_cdf_check = check_cdf_bounds(gmm_fnlwgt_dict, fnlwgt_bounds, probabilities)\n",
    "education_cdf_check = check_cdf_bounds(gmm_education_dict, education_bounds, probabilities)\n",
    "marital_cdf_check = check_cdf_bounds(gmm_marital_dict, marital_bounds, probabilities)\n",
    "occupation_cdf_check = check_cdf_bounds(gmm_occupation_dict, occupation_bounds, probabilities)\n",
    "relationship_cdf_check = check_cdf_bounds(gmm_relationship_dict, relationship_bounds, probabilities)\n",
    "race_cdf_check = check_cdf_bounds(gmm_race_dict, race_bounds, probabilities)\n",
    "sex_cdf_check = check_cdf_bounds(gmm_sex_dict, sex_bounds, probabilities)\n",
    "gain_cdf_check = check_cdf_bounds(gmm_gain_dict, gain_bounds, probabilities)\n",
    "loss_cdf_check = check_cdf_bounds(gmm_loss_dict, loss_bounds, probabilities)\n",
    "country_cdf_check = check_cdf_bounds(gmm_country_dict, country_bounds, probabilities)\n",
    "salary_cdf_check = check_cdf_bounds(gmm_salary_dict, salary_bounds, probabilities)\n",
    "hours_cdf_check = check_cdf_bounds(gmm_hours_dict, hours_bounds, probabilities)\n",
    "# (age_cdf_check, hours_cdf_check)"
   ]
  },
  {
   "cell_type": "code",
   "execution_count": 29,
   "metadata": {},
   "outputs": [],
   "source": [
    "new_age_bounds = compute_gmm_bounds(gmm_age_dict)\n",
    "new_workclass_bounds = compute_gmm_bounds(gmm_workclass_dict)\n",
    "new_fnlwgt_bounds = compute_gmm_bounds(gmm_fnlwgt_dict)\n",
    "new_marital_bounds = compute_gmm_bounds(gmm_marital_dict)\n",
    "new_education_bounds = compute_gmm_bounds(gmm_education_dict)\n",
    "new_occupation_bounds = compute_gmm_bounds(gmm_occupation_dict)\n",
    "new_relationship_bounds = compute_gmm_bounds(gmm_relationship_dict)\n",
    "new_race_bounds = compute_gmm_bounds(gmm_race_dict)\n",
    "new_sex_bounds = compute_gmm_bounds(gmm_sex_dict)\n",
    "new_gain_bounds = compute_gmm_bounds(gmm_gain_dict)\n",
    "new_loss_bounds = compute_gmm_bounds(gmm_loss_dict)\n",
    "new_country_bounds = compute_gmm_bounds(gmm_country_dict)\n",
    "new_salary_bounds = compute_gmm_bounds(gmm_salary_dict)\n",
    "new_hours_bounds = compute_gmm_bounds(gmm_hours_dict)\n",
    "\n",
    "# # Check the new CDF values at the computed bounds\n",
    "# new_age_cdf_check = check_cdf_bounds(gmm_age_dict, new_age_bounds, probabilities)\n",
    "# new_hours_cdf_check = check_cdf_bounds(gmm_hours_dict, new_hours_bounds, probabilities)"
   ]
  },
  {
   "cell_type": "code",
   "execution_count": 32,
   "metadata": {},
   "outputs": [],
   "source": [
    "def inverse_cdf_gmm_age(p):\n",
    "    lower_bound, upper_bound = new_age_bounds\n",
    "    for _ in range(5):\n",
    "        f_lower = gmm_cdf(lower_bound, gmm_age) - p\n",
    "        f_upper = gmm_cdf(upper_bound, gmm_age) - p\n",
    "        # Check if the signs are different\n",
    "        if np.sign(f_lower) != np.sign(f_upper):\n",
    "            try:\n",
    "                return brentq(lambda x: gmm_cdf(x, gmm_age) - p, lower_bound, upper_bound, xtol=1e-6, rtol=1e-6)\n",
    "            except ValueError as e:\n",
    "                print(f\"Failed to converge for p={p} with bounds ({lower_bound}, {upper_bound}): {e}\")\n",
    "                return np.nan  # or some other sentinel value indicating failure\n",
    "        else:\n",
    "            # Adjust the bounds\n",
    "            lower_bound *= 0.9  # shrink the bounds\n",
    "            upper_bound *= 1.1  # expand the bounds\n",
    "    print(f\"Failed to find valid bounds for p={p} after {5} retries\")\n",
    "    return np.nan  # or some other sentinel value indicating failure\n",
    "\n",
    "def inverse_cdf_gmm_workclass(p):\n",
    "    lower_bound, upper_bound = new_workclass_bounds\n",
    "    for _ in range(5):\n",
    "        f_lower = gmm_cdf(lower_bound, gmm_workclass) - p\n",
    "        f_upper = gmm_cdf(upper_bound, gmm_workclass) - p\n",
    "        # Check if the signs are different\n",
    "        if np.sign(f_lower) != np.sign(f_upper):\n",
    "            try:\n",
    "                return brentq(lambda x: gmm_cdf(x, gmm_workclass) - p, lower_bound, upper_bound, xtol=1e-6, rtol=1e-6)\n",
    "            except ValueError as e:\n",
    "                print(f\"Failed to converge for p={p} with bounds ({lower_bound}, {upper_bound}): {e}\")\n",
    "                return np.nan  # or some other sentinel value indicating failure\n",
    "        else:\n",
    "            # Adjust the bounds\n",
    "            lower_bound *= 0.9  # shrink the bounds\n",
    "            upper_bound *= 1.1  # expand the bounds\n",
    "    print(f\"Failed to find valid bounds for p={p} after {5} retries\")\n",
    "    return np.nan  # or some other sentinel value indicating failure\n",
    "\n",
    "def inverse_cdf_gmm_fnlwgt(p):\n",
    "    lower_bound, upper_bound = new_fnlwgt_bounds\n",
    "    for _ in range(5):\n",
    "        f_lower = gmm_cdf(lower_bound, gmm_fnlwgt) - p\n",
    "        f_upper = gmm_cdf(upper_bound, gmm_fnlwgt) - p\n",
    "        # Check if the signs are different\n",
    "        if np.sign(f_lower) != np.sign(f_upper):\n",
    "            try:\n",
    "                return brentq(lambda x: gmm_cdf(x, gmm_fnlwgt) - p, lower_bound, upper_bound, xtol=1e-6, rtol=1e-6)\n",
    "            except ValueError as e:\n",
    "                print(f\"Failed to converge for p={p} with bounds ({lower_bound}, {upper_bound}): {e}\")\n",
    "                return np.nan  # or some other sentinel value indicating failure\n",
    "        else:\n",
    "            # Adjust the bounds\n",
    "            lower_bound *= 0.9  # shrink the bounds\n",
    "            upper_bound *= 1.1  # expand the bounds\n",
    "    print(f\"Failed to find valid bounds for p={p} after {5} retries\")\n",
    "    return np.nan  # or some other sentinel value indicating failure\n",
    "\n",
    "def inverse_cdf_gmm_education(p):\n",
    "    lower_bound, upper_bound = new_education_bounds\n",
    "    for _ in range(5):\n",
    "        f_lower = gmm_cdf(lower_bound, gmm_education) - p\n",
    "        f_upper = gmm_cdf(upper_bound, gmm_education) - p\n",
    "        # Check if the signs are different\n",
    "        if np.sign(f_lower) != np.sign(f_upper):\n",
    "            try:\n",
    "                return brentq(lambda x: gmm_cdf(x, gmm_education) - p, lower_bound, upper_bound, xtol=1e-6, rtol=1e-6)\n",
    "            except ValueError as e:\n",
    "                print(f\"Failed to converge for p={p} with bounds ({lower_bound}, {upper_bound}): {e}\")\n",
    "                return np.nan  # or some other sentinel value indicating failure\n",
    "        else:\n",
    "            # Adjust the bounds\n",
    "            lower_bound *= 0.9  # shrink the bounds\n",
    "            upper_bound *= 1.1  # expand the bounds\n",
    "    print(f\"Failed to find valid bounds for p={p} after {5} retries\")\n",
    "    return np.nan  # or some other sentinel value indicating failure\n",
    "\n",
    "\n",
    "def inverse_cdf_gmm_marital(p):\n",
    "    lower_bound, upper_bound = new_marital_bounds\n",
    "    for _ in range(5):\n",
    "        f_lower = gmm_cdf(lower_bound, gmm_marital) - p\n",
    "        f_upper = gmm_cdf(upper_bound, gmm_marital) - p\n",
    "        # Check if the signs are different\n",
    "        if np.sign(f_lower) != np.sign(f_upper):\n",
    "            try:\n",
    "                return brentq(lambda x: gmm_cdf(x, gmm_marital) - p, lower_bound, upper_bound, xtol=1e-6, rtol=1e-6)\n",
    "            except ValueError as e:\n",
    "                print(f\"Failed to converge for p={p} with bounds ({lower_bound}, {upper_bound}): {e}\")\n",
    "                return np.nan  # or some other sentinel value indicating failure\n",
    "        else:\n",
    "            # Adjust the bounds\n",
    "            lower_bound *= 0.9  # shrink the bounds\n",
    "            upper_bound *= 1.1  # expand the bounds\n",
    "    print(f\"Failed to find valid bounds for p={p} after {5} retries\")\n",
    "    return np.nan  # or some other sentinel value indicating failure\n",
    "\n",
    "\n",
    "def inverse_cdf_gmm_occupation(p):\n",
    "    lower_bound, upper_bound = new_occupation_bounds\n",
    "    for _ in range(5):\n",
    "        f_lower = gmm_cdf(lower_bound, gmm_occupation) - p\n",
    "        f_upper = gmm_cdf(upper_bound, gmm_occupation) - p\n",
    "        # Check if the signs are different\n",
    "        if np.sign(f_lower) != np.sign(f_upper):\n",
    "            try:\n",
    "                return brentq(lambda x: gmm_cdf(x, gmm_occupation) - p, lower_bound, upper_bound, xtol=1e-6, rtol=1e-6)\n",
    "            except ValueError as e:\n",
    "                print(f\"Failed to converge for p={p} with bounds ({lower_bound}, {upper_bound}): {e}\")\n",
    "                return np.nan  # or some other sentinel value indicating failure\n",
    "        else:\n",
    "            # Adjust the bounds\n",
    "            lower_bound *= 0.9  # shrink the bounds\n",
    "            upper_bound *= 1.1  # expand the bounds\n",
    "    print(f\"Failed to find valid bounds for p={p} after {5} retries\")\n",
    "    return np.nan  # or some other sentinel value indicating failure\n",
    "\n",
    "\n",
    "def inverse_cdf_gmm_relationship(p):\n",
    "    lower_bound, upper_bound = new_relationship_bounds\n",
    "    for _ in range(5):\n",
    "        f_lower = gmm_cdf(lower_bound, gmm_relationship) - p\n",
    "        f_upper = gmm_cdf(upper_bound, gmm_relationship) - p\n",
    "        # Check if the signs are different\n",
    "        if np.sign(f_lower) != np.sign(f_upper):\n",
    "            try:\n",
    "                return brentq(lambda x: gmm_cdf(x, gmm_relationship) - p, lower_bound, upper_bound, xtol=1e-6, rtol=1e-6)\n",
    "            except ValueError as e:\n",
    "                print(f\"Failed to converge for p={p} with bounds ({lower_bound}, {upper_bound}): {e}\")\n",
    "                return np.nan  # or some other sentinel value indicating failure\n",
    "        else:\n",
    "            # Adjust the bounds\n",
    "            lower_bound *= 0.9  # shrink the bounds\n",
    "            upper_bound *= 1.1  # expand the bounds\n",
    "    print(f\"Failed to find valid bounds for p={p} after {5} retries\")\n",
    "    return np.nan  # or some other sentinel value indicating failure\n",
    "\n",
    "\n",
    "def inverse_cdf_gmm_race(p):\n",
    "    lower_bound, upper_bound = new_race_bounds\n",
    "    for _ in range(5):\n",
    "        f_lower = gmm_cdf(lower_bound, gmm_race) - p\n",
    "        f_upper = gmm_cdf(upper_bound, gmm_race) - p\n",
    "        # Check if the signs are different\n",
    "        if np.sign(f_lower) != np.sign(f_upper):\n",
    "            try:\n",
    "                return brentq(lambda x: gmm_cdf(x, gmm_race) - p, lower_bound, upper_bound, xtol=1e-6, rtol=1e-6)\n",
    "            except ValueError as e:\n",
    "                print(f\"Failed to converge for p={p} with bounds ({lower_bound}, {upper_bound}): {e}\")\n",
    "                return np.nan  # or some other sentinel value indicating failure\n",
    "        else:\n",
    "            # Adjust the bounds\n",
    "            lower_bound *= 0.9  # shrink the bounds\n",
    "            upper_bound *= 1.1  # expand the bounds\n",
    "    print(f\"Failed to find valid bounds for p={p} after {5} retries\")\n",
    "    return np.nan  # or some other sentinel value indicating failure\n",
    "\n",
    "\n",
    "def inverse_cdf_gmm_sex(p):\n",
    "    lower_bound, upper_bound = new_sex_bounds\n",
    "    for _ in range(5):\n",
    "        f_lower = gmm_cdf(lower_bound, gmm_sex) - p\n",
    "        f_upper = gmm_cdf(upper_bound, gmm_sex) - p\n",
    "        # Check if the signs are different\n",
    "        if np.sign(f_lower) != np.sign(f_upper):\n",
    "            try:\n",
    "                return brentq(lambda x: gmm_cdf(x, gmm_sex) - p, lower_bound, upper_bound, xtol=1e-6, rtol=1e-6)\n",
    "            except ValueError as e:\n",
    "                print(f\"Failed to converge for p={p} with bounds ({lower_bound}, {upper_bound}): {e}\")\n",
    "                return np.nan  # or some other sentinel value indicating failure\n",
    "        else:\n",
    "            # Adjust the bounds\n",
    "            lower_bound *= 0.9  # shrink the bounds\n",
    "            upper_bound *= 1.1  # expand the bounds\n",
    "    print(f\"Failed to find valid bounds for p={p} after {5} retries\")\n",
    "    return np.nan  # or some other sentinel value indicating failure\n",
    "\n",
    "\n",
    "def inverse_cdf_gmm_gain(p):\n",
    "    lower_bound, upper_bound = new_gain_bounds\n",
    "    for _ in range(5):\n",
    "        f_lower = gmm_cdf(lower_bound, gmm_gain) - p\n",
    "        f_upper = gmm_cdf(upper_bound, gmm_gain) - p\n",
    "        # Check if the signs are different\n",
    "        if np.sign(f_lower) != np.sign(f_upper):\n",
    "            try:\n",
    "                return brentq(lambda x: gmm_cdf(x, gmm_gain) - p, lower_bound, upper_bound, xtol=1e-6, rtol=1e-6)\n",
    "            except ValueError as e:\n",
    "                print(f\"Failed to converge for p={p} with bounds ({lower_bound}, {upper_bound}): {e}\")\n",
    "                return np.nan  # or some other sentinel value indicating failure\n",
    "        else:\n",
    "            # Adjust the bounds\n",
    "            lower_bound *= 0.9  # shrink the bounds\n",
    "            upper_bound *= 1.1  # expand the bounds\n",
    "    print(f\"Failed to find valid bounds for p={p} after {5} retries\")\n",
    "    return np.nan  # or some other sentinel value indicating failure\n",
    "\n",
    "\n",
    "\n",
    "def inverse_cdf_gmm_loss(p):\n",
    "    lower_bound, upper_bound = new_loss_bounds\n",
    "    for _ in range(5):\n",
    "        f_lower = gmm_cdf(lower_bound, gmm_loss) - p\n",
    "        f_upper = gmm_cdf(upper_bound, gmm_loss) - p\n",
    "        # Check if the signs are different\n",
    "        if np.sign(f_lower) != np.sign(f_upper):\n",
    "            try:\n",
    "                return brentq(lambda x: gmm_cdf(x, gmm_loss) - p, lower_bound, upper_bound, xtol=1e-6, rtol=1e-6)\n",
    "            except ValueError as e:\n",
    "                print(f\"Failed to converge for p={p} with bounds ({lower_bound}, {upper_bound}): {e}\")\n",
    "                return np.nan  # or some other sentinel value indicating failure\n",
    "        else:\n",
    "            # Adjust the bounds\n",
    "            lower_bound *= 0.9  # shrink the bounds\n",
    "            upper_bound *= 1.1  # expand the bounds\n",
    "    print(f\"Failed to find valid bounds for p={p} after {5} retries\")\n",
    "    return np.nan  # or some other sentinel value indicating failure\n",
    "\n",
    "def inverse_cdf_gmm_hours(p):\n",
    "    lower_bound, upper_bound = new_hours_bounds\n",
    "    for _ in range(5):\n",
    "        f_lower = gmm_cdf(lower_bound, gmm_hours) - p\n",
    "        f_upper = gmm_cdf(upper_bound, gmm_hours) - p\n",
    "        if np.sign(f_lower) != np.sign(f_upper):\n",
    "            try:\n",
    "                return brentq(lambda x: gmm_cdf(x, gmm_hours) - p, lower_bound, upper_bound, xtol=1e-6, rtol=1e-6)\n",
    "            except ValueError as e:\n",
    "                print(f\"Failed to converge for p={p} with bounds ({lower_bound}, {upper_bound}): {e}\")\n",
    "                return np.nan  # or some other sentinel value indicating failure\n",
    "        else:\n",
    "            lower_bound *= 0.9  # shrink the bounds\n",
    "            upper_bound *= 1.1  # expand the bounds\n",
    "    print(f\"Failed to find valid bounds for p={p} after {5} retries\")\n",
    "    return np.nan  # or some other sentinel value indicating failure\n",
    "\n",
    "def inverse_cdf_gmm_country(p):\n",
    "    lower_bound, upper_bound = new_country_bounds\n",
    "    for _ in range(5):\n",
    "        f_lower = gmm_cdf(lower_bound, gmm_country) - p\n",
    "        f_upper = gmm_cdf(upper_bound, gmm_country) - p\n",
    "        # Check if the signs are different\n",
    "        if np.sign(f_lower) != np.sign(f_upper):\n",
    "            try:\n",
    "                return brentq(lambda x: gmm_cdf(x, gmm_country) - p, lower_bound, upper_bound, xtol=1e-6, rtol=1e-6)\n",
    "            except ValueError as e:\n",
    "                print(f\"Failed to converge for p={p} with bounds ({lower_bound}, {upper_bound}): {e}\")\n",
    "                return np.nan  # or some other sentinel value indicating failure\n",
    "        else:\n",
    "            # Adjust the bounds\n",
    "            lower_bound *= 0.9  # shrink the bounds\n",
    "            upper_bound *= 1.1  # expand the bounds\n",
    "    print(f\"Failed to find valid bounds for p={p} after {5} retries\")\n",
    "    return np.nan  # or some other sentinel value indicating failure\n",
    "\n",
    "\n",
    "def inverse_cdf_gmm_salary(p):\n",
    "    lower_bound, upper_bound = new_salary_bounds\n",
    "    for _ in range(5):\n",
    "        f_lower = gmm_cdf(lower_bound, gmm_salary) - p\n",
    "        f_upper = gmm_cdf(upper_bound, gmm_salary) - p\n",
    "        # Check if the signs are different\n",
    "        if np.sign(f_lower) != np.sign(f_upper):\n",
    "            try:\n",
    "                return brentq(lambda x: gmm_cdf(x, gmm_salary) - p, lower_bound, upper_bound, xtol=1e-6, rtol=1e-6)\n",
    "            except ValueError as e:\n",
    "                print(f\"Failed to converge for p={p} with bounds ({lower_bound}, {upper_bound}): {e}\")\n",
    "                return np.nan  # or some other sentinel value indicating failure\n",
    "        else:\n",
    "            # Adjust the bounds\n",
    "            lower_bound *= 0.9  # shrink the bounds\n",
    "            upper_bound *= 1.1  # expand the bounds\n",
    "    print(f\"Failed to find valid bounds for p={p} after {5} retries\")\n",
    "    return np.nan  # or some other sentinel value indicating failure\n",
    "\n",
    "\n",
    "F_inv = [inverse_cdf_gmm_age, inverse_cdf_gmm_workclass, inverse_cdf_gmm_fnlwgt, inverse_cdf_gmm_education, inverse_cdf_gmm_marital, inverse_cdf_gmm_occupation, \n",
    "         inverse_cdf_gmm_relationship, inverse_cdf_gmm_race, inverse_cdf_gmm_sex, inverse_cdf_gmm_gain, inverse_cdf_gmm_loss, inverse_cdf_gmm_hours, inverse_cdf_gmm_country, \n",
    "         inverse_cdf_gmm_salary]"
   ]
  },
  {
   "cell_type": "code",
   "execution_count": 31,
   "metadata": {},
   "outputs": [
    {
     "name": "stderr",
     "output_type": "stream",
     "text": [
      "  1%|          | 246/32561 [00:17<37:03, 14.53it/s]"
     ]
    },
    {
     "name": "stdout",
     "output_type": "stream",
     "text": [
      "Failed to find valid bounds for p=0.0007253601583202063 after 5 retries\n"
     ]
    },
    {
     "name": "stderr",
     "output_type": "stream",
     "text": [
      "  2%|▏         | 688/32561 [00:48<37:52, 14.02it/s]"
     ]
    },
    {
     "name": "stdout",
     "output_type": "stream",
     "text": [
      "Failed to find valid bounds for p=4.1729042973430085e-05 after 5 retries\n"
     ]
    },
    {
     "name": "stderr",
     "output_type": "stream",
     "text": [
      "  4%|▎         | 1200/32561 [01:24<38:45, 13.49it/s]"
     ]
    },
    {
     "name": "stdout",
     "output_type": "stream",
     "text": [
      "Failed to find valid bounds for p=0.0005669449353195798 after 5 retries\n"
     ]
    },
    {
     "name": "stderr",
     "output_type": "stream",
     "text": [
      "  5%|▍         | 1504/32561 [01:46<36:38, 14.13it/s]"
     ]
    },
    {
     "name": "stdout",
     "output_type": "stream",
     "text": [
      "Failed to find valid bounds for p=0.00010533326511879899 after 5 retries\n"
     ]
    },
    {
     "name": "stderr",
     "output_type": "stream",
     "text": [
      "  5%|▌         | 1768/32561 [02:05<35:08, 14.60it/s]"
     ]
    },
    {
     "name": "stdout",
     "output_type": "stream",
     "text": [
      "Failed to find valid bounds for p=0.0007410494830575356 after 5 retries\n"
     ]
    },
    {
     "name": "stderr",
     "output_type": "stream",
     "text": [
      "  6%|▌         | 1826/32561 [02:09<36:23, 14.07it/s]"
     ]
    },
    {
     "name": "stdout",
     "output_type": "stream",
     "text": [
      "Failed to find valid bounds for p=0.0004111051832920867 after 5 retries\n"
     ]
    },
    {
     "name": "stderr",
     "output_type": "stream",
     "text": [
      "  7%|▋         | 2200/32561 [02:35<37:47, 13.39it/s]"
     ]
    },
    {
     "name": "stdout",
     "output_type": "stream",
     "text": [
      "Failed to find valid bounds for p=0.000622871243406263 after 5 retries\n"
     ]
    },
    {
     "name": "stderr",
     "output_type": "stream",
     "text": [
      "  7%|▋         | 2276/32561 [02:41<37:23, 13.50it/s]"
     ]
    },
    {
     "name": "stdout",
     "output_type": "stream",
     "text": [
      "Failed to find valid bounds for p=0.0005267260917386511 after 5 retries\n"
     ]
    },
    {
     "name": "stderr",
     "output_type": "stream",
     "text": [
      "  8%|▊         | 2492/32561 [02:56<37:33, 13.34it/s]"
     ]
    },
    {
     "name": "stdout",
     "output_type": "stream",
     "text": [
      "Failed to find valid bounds for p=4.5526195198410066e-05 after 5 retries\n"
     ]
    },
    {
     "name": "stderr",
     "output_type": "stream",
     "text": [
      "  8%|▊         | 2498/32561 [02:57<37:04, 13.52it/s]"
     ]
    },
    {
     "name": "stdout",
     "output_type": "stream",
     "text": [
      "Failed to find valid bounds for p=0.0008245542664046808 after 5 retries\n"
     ]
    },
    {
     "name": "stderr",
     "output_type": "stream",
     "text": [
      "  9%|▉         | 3012/32561 [03:33<35:30, 13.87it/s]"
     ]
    },
    {
     "name": "stdout",
     "output_type": "stream",
     "text": [
      "Failed to find valid bounds for p=0.000633729664077352 after 5 retries\n"
     ]
    },
    {
     "name": "stderr",
     "output_type": "stream",
     "text": [
      " 10%|▉         | 3134/32561 [03:42<33:39, 14.57it/s]"
     ]
    },
    {
     "name": "stdout",
     "output_type": "stream",
     "text": [
      "Failed to find valid bounds for p=0.0008247529465429228 after 5 retries\n"
     ]
    },
    {
     "name": "stderr",
     "output_type": "stream",
     "text": [
      " 10%|▉         | 3212/32561 [03:47<34:14, 14.29it/s]"
     ]
    },
    {
     "name": "stdout",
     "output_type": "stream",
     "text": [
      "Failed to find valid bounds for p=5.4938821616719655e-05 after 5 retries\n"
     ]
    },
    {
     "name": "stderr",
     "output_type": "stream",
     "text": [
      " 11%|█         | 3578/32561 [04:13<34:04, 14.17it/s]"
     ]
    },
    {
     "name": "stdout",
     "output_type": "stream",
     "text": [
      "Failed to find valid bounds for p=0.0003177095054298412 after 5 retries\n"
     ]
    },
    {
     "name": "stderr",
     "output_type": "stream",
     "text": [
      " 12%|█▏        | 3780/32561 [04:27<32:44, 14.65it/s]"
     ]
    },
    {
     "name": "stdout",
     "output_type": "stream",
     "text": [
      "Failed to find valid bounds for p=1.3461269134303462e-05 after 5 retries\n"
     ]
    },
    {
     "name": "stderr",
     "output_type": "stream",
     "text": [
      " 12%|█▏        | 3792/32561 [04:28<32:51, 14.59it/s]"
     ]
    },
    {
     "name": "stdout",
     "output_type": "stream",
     "text": [
      "Failed to find valid bounds for p=6.311932578221315e-05 after 5 retries\n"
     ]
    },
    {
     "name": "stderr",
     "output_type": "stream",
     "text": [
      " 12%|█▏        | 3816/32561 [04:30<32:25, 14.77it/s]"
     ]
    },
    {
     "name": "stdout",
     "output_type": "stream",
     "text": [
      "Failed to find valid bounds for p=2.864634907778797e-05 after 5 retries\n"
     ]
    },
    {
     "name": "stderr",
     "output_type": "stream",
     "text": [
      " 12%|█▏        | 4048/32561 [04:46<33:08, 14.34it/s]"
     ]
    },
    {
     "name": "stdout",
     "output_type": "stream",
     "text": [
      "Failed to find valid bounds for p=3.772777067560869e-06 after 5 retries\n",
      "Failed to find valid bounds for p=9.928950191597698e-05 after 5 retries\n"
     ]
    },
    {
     "name": "stderr",
     "output_type": "stream",
     "text": [
      " 14%|█▎        | 4400/32561 [05:11<33:09, 14.16it/s]"
     ]
    },
    {
     "name": "stdout",
     "output_type": "stream",
     "text": [
      "Failed to find valid bounds for p=3.214301327598467e-05 after 5 retries\n"
     ]
    },
    {
     "name": "stderr",
     "output_type": "stream",
     "text": [
      " 14%|█▎        | 4468/32561 [05:16<32:49, 14.26it/s]"
     ]
    },
    {
     "name": "stdout",
     "output_type": "stream",
     "text": [
      "Failed to find valid bounds for p=0.0008004006280693336 after 5 retries\n"
     ]
    },
    {
     "name": "stderr",
     "output_type": "stream",
     "text": [
      " 14%|█▍        | 4700/32561 [05:32<33:09, 14.00it/s]"
     ]
    },
    {
     "name": "stdout",
     "output_type": "stream",
     "text": [
      "Failed to find valid bounds for p=0.0006204911140173591 after 5 retries\n"
     ]
    },
    {
     "name": "stderr",
     "output_type": "stream",
     "text": [
      " 16%|█▌        | 5060/32561 [05:57<31:37, 14.49it/s]"
     ]
    },
    {
     "name": "stdout",
     "output_type": "stream",
     "text": [
      "Failed to find valid bounds for p=0.00013739925020204606 after 5 retries\n"
     ]
    },
    {
     "name": "stderr",
     "output_type": "stream",
     "text": [
      " 16%|█▌        | 5118/32561 [06:01<32:15, 14.18it/s]"
     ]
    },
    {
     "name": "stdout",
     "output_type": "stream",
     "text": [
      "Failed to find valid bounds for p=0.0007645914745780199 after 5 retries\n"
     ]
    },
    {
     "name": "stderr",
     "output_type": "stream",
     "text": [
      " 17%|█▋        | 5436/32561 [06:23<31:09, 14.51it/s]"
     ]
    },
    {
     "name": "stdout",
     "output_type": "stream",
     "text": [
      "Failed to find valid bounds for p=0.0009377773390180355 after 5 retries\n"
     ]
    },
    {
     "name": "stderr",
     "output_type": "stream",
     "text": [
      " 18%|█▊        | 5916/32561 [06:57<30:27, 14.58it/s]"
     ]
    },
    {
     "name": "stdout",
     "output_type": "stream",
     "text": [
      "Failed to find valid bounds for p=0.0005920702429857345 after 5 retries\n"
     ]
    },
    {
     "name": "stderr",
     "output_type": "stream",
     "text": [
      " 18%|█▊        | 5930/32561 [06:58<31:25, 14.12it/s]"
     ]
    },
    {
     "name": "stdout",
     "output_type": "stream",
     "text": [
      "Failed to find valid bounds for p=0.0006646748879187801 after 5 retries\n",
      "Failed to find valid bounds for p=0.0006761143301349398 after 5 retries\n"
     ]
    },
    {
     "name": "stderr",
     "output_type": "stream",
     "text": [
      " 20%|█▉        | 6396/32561 [07:31<29:51, 14.61it/s]"
     ]
    },
    {
     "name": "stdout",
     "output_type": "stream",
     "text": [
      "Failed to find valid bounds for p=0.0004132086570129064 after 5 retries\n"
     ]
    },
    {
     "name": "stderr",
     "output_type": "stream",
     "text": [
      " 20%|█▉        | 6472/32561 [07:36<31:33, 13.78it/s]"
     ]
    },
    {
     "name": "stdout",
     "output_type": "stream",
     "text": [
      "Failed to find valid bounds for p=0.0010996541821474163 after 5 retries\n"
     ]
    },
    {
     "name": "stderr",
     "output_type": "stream",
     "text": [
      " 20%|██        | 6612/32561 [07:46<30:35, 14.14it/s]"
     ]
    },
    {
     "name": "stdout",
     "output_type": "stream",
     "text": [
      "Failed to find valid bounds for p=0.0005866636608078007 after 5 retries\n"
     ]
    },
    {
     "name": "stderr",
     "output_type": "stream",
     "text": [
      " 20%|██        | 6652/32561 [07:49<30:29, 14.16it/s]"
     ]
    },
    {
     "name": "stdout",
     "output_type": "stream",
     "text": [
      "Failed to find valid bounds for p=5.783945364301526e-05 after 5 retries\n"
     ]
    },
    {
     "name": "stderr",
     "output_type": "stream",
     "text": [
      " 20%|██        | 6668/32561 [07:50<29:28, 14.64it/s]"
     ]
    },
    {
     "name": "stdout",
     "output_type": "stream",
     "text": [
      "Failed to find valid bounds for p=0.00047240934455075535 after 5 retries\n"
     ]
    },
    {
     "name": "stderr",
     "output_type": "stream",
     "text": [
      " 21%|██        | 6680/32561 [07:51<31:06, 13.87it/s]"
     ]
    },
    {
     "name": "stdout",
     "output_type": "stream",
     "text": [
      "Failed to find valid bounds for p=0.0007712470968405631 after 5 retries\n"
     ]
    },
    {
     "name": "stderr",
     "output_type": "stream",
     "text": [
      " 21%|██        | 6746/32561 [07:56<29:50, 14.41it/s]"
     ]
    },
    {
     "name": "stdout",
     "output_type": "stream",
     "text": [
      "Failed to find valid bounds for p=0.00021143438061024697 after 5 retries\n"
     ]
    },
    {
     "name": "stderr",
     "output_type": "stream",
     "text": [
      " 21%|██        | 6836/32561 [08:02<32:15, 13.29it/s]"
     ]
    },
    {
     "name": "stdout",
     "output_type": "stream",
     "text": [
      "Failed to find valid bounds for p=0.0003011719015821437 after 5 retries\n"
     ]
    },
    {
     "name": "stderr",
     "output_type": "stream",
     "text": [
      " 22%|██▏       | 7026/32561 [08:16<30:07, 14.13it/s]"
     ]
    },
    {
     "name": "stdout",
     "output_type": "stream",
     "text": [
      "Failed to find valid bounds for p=0.0006440563011220373 after 5 retries\n"
     ]
    },
    {
     "name": "stderr",
     "output_type": "stream",
     "text": [
      " 22%|██▏       | 7212/32561 [08:29<29:53, 14.14it/s]"
     ]
    },
    {
     "name": "stdout",
     "output_type": "stream",
     "text": [
      "Failed to find valid bounds for p=0.000181484545165522 after 5 retries\n"
     ]
    },
    {
     "name": "stderr",
     "output_type": "stream",
     "text": [
      " 22%|██▏       | 7282/32561 [08:34<29:25, 14.32it/s]"
     ]
    },
    {
     "name": "stdout",
     "output_type": "stream",
     "text": [
      "Failed to find valid bounds for p=0.000526948647252116 after 5 retries\n"
     ]
    },
    {
     "name": "stderr",
     "output_type": "stream",
     "text": [
      " 23%|██▎       | 7518/32561 [08:50<29:03, 14.36it/s]"
     ]
    },
    {
     "name": "stdout",
     "output_type": "stream",
     "text": [
      "Failed to find valid bounds for p=5.441197626252106e-05 after 5 retries\n"
     ]
    },
    {
     "name": "stderr",
     "output_type": "stream",
     "text": [
      " 23%|██▎       | 7526/32561 [08:51<29:05, 14.34it/s]"
     ]
    },
    {
     "name": "stdout",
     "output_type": "stream",
     "text": [
      "Failed to find valid bounds for p=0.0004927227104920518 after 5 retries\n"
     ]
    },
    {
     "name": "stderr",
     "output_type": "stream",
     "text": [
      " 23%|██▎       | 7618/32561 [08:57<28:14, 14.72it/s]"
     ]
    },
    {
     "name": "stdout",
     "output_type": "stream",
     "text": [
      "Failed to find valid bounds for p=0.00036124971096092296 after 5 retries\n"
     ]
    },
    {
     "name": "stderr",
     "output_type": "stream",
     "text": [
      " 25%|██▍       | 8006/32561 [09:25<29:00, 14.11it/s]"
     ]
    },
    {
     "name": "stdout",
     "output_type": "stream",
     "text": [
      "Failed to find valid bounds for p=3.472217141968874e-05 after 5 retries\n"
     ]
    },
    {
     "name": "stderr",
     "output_type": "stream",
     "text": [
      " 25%|██▌       | 8154/32561 [09:35<27:14, 14.93it/s]"
     ]
    },
    {
     "name": "stdout",
     "output_type": "stream",
     "text": [
      "Failed to find valid bounds for p=0.00027421579939209713 after 5 retries\n"
     ]
    },
    {
     "name": "stderr",
     "output_type": "stream",
     "text": [
      " 26%|██▌       | 8312/32561 [09:46<28:41, 14.08it/s]"
     ]
    },
    {
     "name": "stdout",
     "output_type": "stream",
     "text": [
      "Failed to find valid bounds for p=6.246740496224468e-05 after 5 retries\n"
     ]
    },
    {
     "name": "stderr",
     "output_type": "stream",
     "text": [
      " 26%|██▌       | 8470/32561 [09:58<27:41, 14.50it/s]"
     ]
    },
    {
     "name": "stdout",
     "output_type": "stream",
     "text": [
      "Failed to find valid bounds for p=0.0004272208766576482 after 5 retries\n"
     ]
    },
    {
     "name": "stderr",
     "output_type": "stream",
     "text": [
      " 27%|██▋       | 8692/32561 [10:13<28:56, 13.75it/s]"
     ]
    },
    {
     "name": "stdout",
     "output_type": "stream",
     "text": [
      "Failed to find valid bounds for p=0.00031894794649871245 after 5 retries\n"
     ]
    },
    {
     "name": "stderr",
     "output_type": "stream",
     "text": [
      " 27%|██▋       | 8734/32561 [10:16<27:38, 14.37it/s]"
     ]
    },
    {
     "name": "stdout",
     "output_type": "stream",
     "text": [
      "Failed to find valid bounds for p=0.0001945640240470321 after 5 retries\n"
     ]
    },
    {
     "name": "stderr",
     "output_type": "stream",
     "text": [
      " 28%|██▊       | 9132/32561 [10:44<28:24, 13.75it/s]"
     ]
    },
    {
     "name": "stdout",
     "output_type": "stream",
     "text": [
      "Failed to find valid bounds for p=0.0001680559402508826 after 5 retries\n"
     ]
    },
    {
     "name": "stderr",
     "output_type": "stream",
     "text": [
      " 29%|██▉       | 9444/32561 [11:06<26:22, 14.60it/s]"
     ]
    },
    {
     "name": "stdout",
     "output_type": "stream",
     "text": [
      "Failed to find valid bounds for p=0.00047597373794066683 after 5 retries\n"
     ]
    },
    {
     "name": "stderr",
     "output_type": "stream",
     "text": [
      " 29%|██▉       | 9500/32561 [11:10<27:23, 14.03it/s]"
     ]
    },
    {
     "name": "stdout",
     "output_type": "stream",
     "text": [
      "Failed to find valid bounds for p=0.0006348498208583202 after 5 retries\n"
     ]
    },
    {
     "name": "stderr",
     "output_type": "stream",
     "text": [
      " 30%|██▉       | 9758/32561 [11:28<26:58, 14.09it/s]"
     ]
    },
    {
     "name": "stdout",
     "output_type": "stream",
     "text": [
      "Failed to find valid bounds for p=0.00011619150853468952 after 5 retries\n"
     ]
    },
    {
     "name": "stderr",
     "output_type": "stream",
     "text": [
      " 30%|███       | 9862/32561 [11:36<28:11, 13.42it/s]"
     ]
    },
    {
     "name": "stdout",
     "output_type": "stream",
     "text": [
      "Failed to find valid bounds for p=0.000819853739800524 after 5 retries\n"
     ]
    },
    {
     "name": "stderr",
     "output_type": "stream",
     "text": [
      " 30%|███       | 9924/32561 [11:40<26:15, 14.37it/s]"
     ]
    },
    {
     "name": "stdout",
     "output_type": "stream",
     "text": [
      "Failed to find valid bounds for p=0.0011142254512563736 after 5 retries\n"
     ]
    },
    {
     "name": "stderr",
     "output_type": "stream",
     "text": [
      " 31%|███▏      | 10228/32561 [12:02<25:56, 14.35it/s]"
     ]
    },
    {
     "name": "stdout",
     "output_type": "stream",
     "text": [
      "Failed to find valid bounds for p=3.698727477639975e-05 after 5 retries\n"
     ]
    },
    {
     "name": "stderr",
     "output_type": "stream",
     "text": [
      " 32%|███▏      | 10274/32561 [12:05<26:01, 14.27it/s]"
     ]
    },
    {
     "name": "stdout",
     "output_type": "stream",
     "text": [
      "Failed to find valid bounds for p=0.00042506402198468795 after 5 retries\n"
     ]
    },
    {
     "name": "stderr",
     "output_type": "stream",
     "text": [
      " 32%|███▏      | 10366/32561 [12:12<26:13, 14.11it/s]"
     ]
    },
    {
     "name": "stdout",
     "output_type": "stream",
     "text": [
      "Failed to find valid bounds for p=0.0005909896534984187 after 5 retries\n"
     ]
    },
    {
     "name": "stderr",
     "output_type": "stream",
     "text": [
      " 33%|███▎      | 10644/32561 [12:31<26:41, 13.68it/s]"
     ]
    },
    {
     "name": "stdout",
     "output_type": "stream",
     "text": [
      "Failed to find valid bounds for p=0.000246537586706559 after 5 retries\n"
     ]
    },
    {
     "name": "stderr",
     "output_type": "stream",
     "text": [
      " 33%|███▎      | 10772/32561 [12:40<25:17, 14.36it/s]"
     ]
    },
    {
     "name": "stdout",
     "output_type": "stream",
     "text": [
      "Failed to find valid bounds for p=0.0001924987347881548 after 5 retries\n"
     ]
    },
    {
     "name": "stderr",
     "output_type": "stream",
     "text": [
      " 36%|███▋      | 11866/32561 [13:57<23:47, 14.50it/s]"
     ]
    },
    {
     "name": "stdout",
     "output_type": "stream",
     "text": [
      "Failed to find valid bounds for p=0.00011276849855776234 after 5 retries\n"
     ]
    },
    {
     "name": "stderr",
     "output_type": "stream",
     "text": [
      " 37%|███▋      | 12032/32561 [14:09<23:27, 14.59it/s]"
     ]
    },
    {
     "name": "stdout",
     "output_type": "stream",
     "text": [
      "Failed to find valid bounds for p=0.0007539671127691785 after 5 retries\n"
     ]
    },
    {
     "name": "stderr",
     "output_type": "stream",
     "text": [
      " 37%|███▋      | 12166/32561 [14:18<24:07, 14.09it/s]"
     ]
    },
    {
     "name": "stdout",
     "output_type": "stream",
     "text": [
      "Failed to find valid bounds for p=0.000271263448821426 after 5 retries\n"
     ]
    },
    {
     "name": "stderr",
     "output_type": "stream",
     "text": [
      " 38%|███▊      | 12212/32561 [14:22<24:12, 14.01it/s]"
     ]
    },
    {
     "name": "stdout",
     "output_type": "stream",
     "text": [
      "Failed to find valid bounds for p=0.0005464141918473419 after 5 retries\n"
     ]
    },
    {
     "name": "stderr",
     "output_type": "stream",
     "text": [
      " 38%|███▊      | 12420/32561 [14:36<23:06, 14.53it/s]"
     ]
    },
    {
     "name": "stdout",
     "output_type": "stream",
     "text": [
      "Failed to find valid bounds for p=6.483892898249822e-05 after 5 retries\n"
     ]
    },
    {
     "name": "stderr",
     "output_type": "stream",
     "text": [
      " 38%|███▊      | 12494/32561 [14:42<24:35, 13.60it/s]"
     ]
    },
    {
     "name": "stdout",
     "output_type": "stream",
     "text": [
      "Failed to find valid bounds for p=1.8144622797328708e-05 after 5 retries\n"
     ]
    },
    {
     "name": "stderr",
     "output_type": "stream",
     "text": [
      " 38%|███▊      | 12516/32561 [14:43<23:31, 14.20it/s]"
     ]
    },
    {
     "name": "stdout",
     "output_type": "stream",
     "text": [
      "Failed to find valid bounds for p=8.702897982440852e-05 after 5 retries\n"
     ]
    },
    {
     "name": "stderr",
     "output_type": "stream",
     "text": [
      " 39%|███▊      | 12596/32561 [14:49<24:06, 13.81it/s]"
     ]
    },
    {
     "name": "stdout",
     "output_type": "stream",
     "text": [
      "Failed to find valid bounds for p=0.0006152204754117967 after 5 retries\n"
     ]
    },
    {
     "name": "stderr",
     "output_type": "stream",
     "text": [
      " 39%|███▉      | 12826/32561 [15:05<23:32, 13.97it/s]"
     ]
    },
    {
     "name": "stdout",
     "output_type": "stream",
     "text": [
      "Failed to find valid bounds for p=0.0002070711984523423 after 5 retries\n"
     ]
    },
    {
     "name": "stderr",
     "output_type": "stream",
     "text": [
      " 39%|███▉      | 12848/32561 [15:07<23:30, 13.97it/s]"
     ]
    },
    {
     "name": "stdout",
     "output_type": "stream",
     "text": [
      "Failed to find valid bounds for p=0.00019067292036926476 after 5 retries\n"
     ]
    },
    {
     "name": "stderr",
     "output_type": "stream",
     "text": [
      " 40%|███▉      | 12904/32561 [15:11<22:55, 14.29it/s]"
     ]
    },
    {
     "name": "stdout",
     "output_type": "stream",
     "text": [
      "Failed to find valid bounds for p=0.0004125849701442496 after 5 retries\n"
     ]
    },
    {
     "name": "stderr",
     "output_type": "stream",
     "text": [
      " 41%|████      | 13326/32561 [15:41<22:27, 14.27it/s]"
     ]
    },
    {
     "name": "stdout",
     "output_type": "stream",
     "text": [
      "Failed to find valid bounds for p=4.924983257065442e-05 after 5 retries\n"
     ]
    },
    {
     "name": "stderr",
     "output_type": "stream",
     "text": [
      " 42%|████▏     | 13622/32561 [16:01<21:56, 14.39it/s]"
     ]
    },
    {
     "name": "stdout",
     "output_type": "stream",
     "text": [
      "Failed to find valid bounds for p=0.00023549960902915931 after 5 retries\n"
     ]
    },
    {
     "name": "stderr",
     "output_type": "stream",
     "text": [
      " 42%|████▏     | 13764/32561 [16:11<22:33, 13.89it/s]"
     ]
    },
    {
     "name": "stdout",
     "output_type": "stream",
     "text": [
      "Failed to find valid bounds for p=0.00018857691960266152 after 5 retries\n"
     ]
    },
    {
     "name": "stderr",
     "output_type": "stream",
     "text": [
      " 43%|████▎     | 14088/32561 [16:34<20:38, 14.92it/s]"
     ]
    },
    {
     "name": "stdout",
     "output_type": "stream",
     "text": [
      "Failed to find valid bounds for p=0.000257222082895549 after 5 retries\n"
     ]
    },
    {
     "name": "stderr",
     "output_type": "stream",
     "text": [
      " 44%|████▍     | 14306/32561 [16:49<22:36, 13.46it/s]"
     ]
    },
    {
     "name": "stdout",
     "output_type": "stream",
     "text": [
      "Failed to find valid bounds for p=0.0006318106059952888 after 5 retries\n"
     ]
    },
    {
     "name": "stderr",
     "output_type": "stream",
     "text": [
      " 44%|████▍     | 14394/32561 [16:56<21:21, 14.17it/s]"
     ]
    },
    {
     "name": "stdout",
     "output_type": "stream",
     "text": [
      "Failed to find valid bounds for p=0.00013789433749947965 after 5 retries\n"
     ]
    },
    {
     "name": "stderr",
     "output_type": "stream",
     "text": [
      " 45%|████▍     | 14584/32561 [17:09<21:10, 14.15it/s]"
     ]
    },
    {
     "name": "stdout",
     "output_type": "stream",
     "text": [
      "Failed to find valid bounds for p=0.0009145002448607873 after 5 retries\n"
     ]
    },
    {
     "name": "stderr",
     "output_type": "stream",
     "text": [
      " 48%|████▊     | 15548/32561 [18:18<20:22, 13.91it/s]"
     ]
    },
    {
     "name": "stdout",
     "output_type": "stream",
     "text": [
      "Failed to find valid bounds for p=0.0007831209867653694 after 5 retries\n"
     ]
    },
    {
     "name": "stderr",
     "output_type": "stream",
     "text": [
      " 48%|████▊     | 15792/32561 [18:35<20:02, 13.95it/s]"
     ]
    },
    {
     "name": "stdout",
     "output_type": "stream",
     "text": [
      "Failed to find valid bounds for p=0.00023248867003120274 after 5 retries\n"
     ]
    },
    {
     "name": "stderr",
     "output_type": "stream",
     "text": [
      " 49%|████▊     | 15808/32561 [18:36<19:30, 14.32it/s]"
     ]
    },
    {
     "name": "stdout",
     "output_type": "stream",
     "text": [
      "Failed to find valid bounds for p=0.00014269115329943848 after 5 retries\n"
     ]
    },
    {
     "name": "stderr",
     "output_type": "stream",
     "text": [
      " 50%|████▉     | 16206/32561 [19:05<20:15, 13.46it/s]"
     ]
    },
    {
     "name": "stdout",
     "output_type": "stream",
     "text": [
      "Failed to find valid bounds for p=0.0005508371436458684 after 5 retries\n"
     ]
    },
    {
     "name": "stderr",
     "output_type": "stream",
     "text": [
      " 51%|█████     | 16604/32561 [19:34<18:16, 14.55it/s]"
     ]
    },
    {
     "name": "stdout",
     "output_type": "stream",
     "text": [
      "Failed to find valid bounds for p=0.0003443150166910012 after 5 retries\n"
     ]
    },
    {
     "name": "stderr",
     "output_type": "stream",
     "text": [
      " 52%|█████▏    | 16906/32561 [19:55<18:46, 13.89it/s]"
     ]
    },
    {
     "name": "stdout",
     "output_type": "stream",
     "text": [
      "Failed to find valid bounds for p=0.0001963593718119818 after 5 retries\n"
     ]
    },
    {
     "name": "stderr",
     "output_type": "stream",
     "text": [
      " 54%|█████▍    | 17524/32561 [20:39<17:47, 14.08it/s]"
     ]
    },
    {
     "name": "stdout",
     "output_type": "stream",
     "text": [
      "Failed to find valid bounds for p=2.413043291581226e-07 after 5 retries\n"
     ]
    },
    {
     "name": "stderr",
     "output_type": "stream",
     "text": [
      " 54%|█████▍    | 17656/32561 [20:48<17:07, 14.51it/s]"
     ]
    },
    {
     "name": "stdout",
     "output_type": "stream",
     "text": [
      "Failed to find valid bounds for p=0.0002330053671912227 after 5 retries\n"
     ]
    },
    {
     "name": "stderr",
     "output_type": "stream",
     "text": [
      " 55%|█████▍    | 17790/32561 [20:57<17:33, 14.02it/s]"
     ]
    },
    {
     "name": "stdout",
     "output_type": "stream",
     "text": [
      "Failed to find valid bounds for p=5.33293981800192e-05 after 5 retries\n"
     ]
    },
    {
     "name": "stderr",
     "output_type": "stream",
     "text": [
      " 55%|█████▍    | 17826/32561 [21:00<18:09, 13.53it/s]"
     ]
    },
    {
     "name": "stdout",
     "output_type": "stream",
     "text": [
      "Failed to find valid bounds for p=0.0010146918683533264 after 5 retries\n"
     ]
    },
    {
     "name": "stderr",
     "output_type": "stream",
     "text": [
      " 55%|█████▌    | 18022/32561 [21:14<16:32, 14.64it/s]"
     ]
    },
    {
     "name": "stdout",
     "output_type": "stream",
     "text": [
      "Failed to find valid bounds for p=0.00020023782574219652 after 5 retries\n"
     ]
    },
    {
     "name": "stderr",
     "output_type": "stream",
     "text": [
      " 56%|█████▌    | 18086/32561 [21:18<17:15, 13.98it/s]"
     ]
    },
    {
     "name": "stdout",
     "output_type": "stream",
     "text": [
      "Failed to find valid bounds for p=0.00026859593371048767 after 5 retries\n"
     ]
    },
    {
     "name": "stderr",
     "output_type": "stream",
     "text": [
      " 56%|█████▌    | 18140/32561 [21:22<16:37, 14.46it/s]"
     ]
    },
    {
     "name": "stdout",
     "output_type": "stream",
     "text": [
      "Failed to find valid bounds for p=0.0002601040852545741 after 5 retries\n"
     ]
    },
    {
     "name": "stderr",
     "output_type": "stream",
     "text": [
      " 57%|█████▋    | 18442/32561 [21:44<16:24, 14.35it/s]"
     ]
    },
    {
     "name": "stdout",
     "output_type": "stream",
     "text": [
      "Failed to find valid bounds for p=2.5173879291005906e-05 after 5 retries\n"
     ]
    },
    {
     "name": "stderr",
     "output_type": "stream",
     "text": [
      " 57%|█████▋    | 18530/32561 [21:50<16:45, 13.95it/s]"
     ]
    },
    {
     "name": "stdout",
     "output_type": "stream",
     "text": [
      "Failed to find valid bounds for p=0.0002192539262182408 after 5 retries\n"
     ]
    },
    {
     "name": "stderr",
     "output_type": "stream",
     "text": [
      " 58%|█████▊    | 18808/32561 [22:09<16:29, 13.90it/s]"
     ]
    },
    {
     "name": "stdout",
     "output_type": "stream",
     "text": [
      "Failed to find valid bounds for p=8.829655212768848e-05 after 5 retries\n"
     ]
    },
    {
     "name": "stderr",
     "output_type": "stream",
     "text": [
      " 58%|█████▊    | 18856/32561 [22:13<15:54, 14.36it/s]"
     ]
    },
    {
     "name": "stdout",
     "output_type": "stream",
     "text": [
      "Failed to find valid bounds for p=0.001056277169132273 after 5 retries\n"
     ]
    },
    {
     "name": "stderr",
     "output_type": "stream",
     "text": [
      " 58%|█████▊    | 19046/32561 [22:26<15:43, 14.32it/s]"
     ]
    },
    {
     "name": "stdout",
     "output_type": "stream",
     "text": [
      "Failed to find valid bounds for p=0.0008425490596578966 after 5 retries\n"
     ]
    },
    {
     "name": "stderr",
     "output_type": "stream",
     "text": [
      " 59%|█████▉    | 19296/32561 [22:44<15:31, 14.25it/s]"
     ]
    },
    {
     "name": "stdout",
     "output_type": "stream",
     "text": [
      "Failed to find valid bounds for p=0.0004511697465967947 after 5 retries\n"
     ]
    },
    {
     "name": "stderr",
     "output_type": "stream",
     "text": [
      " 60%|██████    | 19590/32561 [23:04<15:00, 14.41it/s]"
     ]
    },
    {
     "name": "stdout",
     "output_type": "stream",
     "text": [
      "Failed to find valid bounds for p=8.94652526158192e-05 after 5 retries\n"
     ]
    },
    {
     "name": "stderr",
     "output_type": "stream",
     "text": [
      " 61%|██████    | 19802/32561 [23:19<14:45, 14.41it/s]"
     ]
    },
    {
     "name": "stdout",
     "output_type": "stream",
     "text": [
      "Failed to find valid bounds for p=0.00045727324642961094 after 5 retries\n"
     ]
    },
    {
     "name": "stderr",
     "output_type": "stream",
     "text": [
      " 61%|██████    | 19912/32561 [23:27<15:03, 14.00it/s]"
     ]
    },
    {
     "name": "stdout",
     "output_type": "stream",
     "text": [
      "Failed to find valid bounds for p=0.00016541358544974063 after 5 retries\n"
     ]
    },
    {
     "name": "stderr",
     "output_type": "stream",
     "text": [
      " 62%|██████▏   | 20160/32561 [23:44<15:02, 13.73it/s]"
     ]
    },
    {
     "name": "stdout",
     "output_type": "stream",
     "text": [
      "Failed to find valid bounds for p=0.00024302490539792804 after 5 retries\n"
     ]
    },
    {
     "name": "stderr",
     "output_type": "stream",
     "text": [
      " 62%|██████▏   | 20308/32561 [23:55<14:30, 14.07it/s]"
     ]
    },
    {
     "name": "stdout",
     "output_type": "stream",
     "text": [
      "Failed to find valid bounds for p=0.00020290554836629407 after 5 retries\n"
     ]
    },
    {
     "name": "stderr",
     "output_type": "stream",
     "text": [
      " 63%|██████▎   | 20364/32561 [23:59<14:22, 14.14it/s]"
     ]
    },
    {
     "name": "stdout",
     "output_type": "stream",
     "text": [
      "Failed to find valid bounds for p=1.096023887902333e-05 after 5 retries\n"
     ]
    },
    {
     "name": "stderr",
     "output_type": "stream",
     "text": [
      " 63%|██████▎   | 20624/32561 [24:17<14:51, 13.39it/s]"
     ]
    },
    {
     "name": "stdout",
     "output_type": "stream",
     "text": [
      "Failed to find valid bounds for p=0.0005130885326282179 after 5 retries\n"
     ]
    },
    {
     "name": "stderr",
     "output_type": "stream",
     "text": [
      " 64%|██████▎   | 20740/32561 [24:25<13:41, 14.39it/s]"
     ]
    },
    {
     "name": "stdout",
     "output_type": "stream",
     "text": [
      "Failed to find valid bounds for p=3.3422596802593286e-05 after 5 retries\n"
     ]
    },
    {
     "name": "stderr",
     "output_type": "stream",
     "text": [
      " 64%|██████▍   | 20856/32561 [24:33<13:26, 14.51it/s]"
     ]
    },
    {
     "name": "stdout",
     "output_type": "stream",
     "text": [
      "Failed to find valid bounds for p=0.00036333077950845304 after 5 retries\n"
     ]
    },
    {
     "name": "stderr",
     "output_type": "stream",
     "text": [
      " 65%|██████▌   | 21196/32561 [24:57<13:31, 14.00it/s]"
     ]
    },
    {
     "name": "stdout",
     "output_type": "stream",
     "text": [
      "Failed to find valid bounds for p=0.0003179549458597553 after 5 retries\n"
     ]
    },
    {
     "name": "stderr",
     "output_type": "stream",
     "text": [
      " 66%|██████▌   | 21356/32561 [25:08<13:28, 13.87it/s]"
     ]
    },
    {
     "name": "stdout",
     "output_type": "stream",
     "text": [
      "Failed to find valid bounds for p=5.53008961122126e-05 after 5 retries\n"
     ]
    },
    {
     "name": "stderr",
     "output_type": "stream",
     "text": [
      " 66%|██████▋   | 21576/32561 [25:24<13:45, 13.30it/s]"
     ]
    },
    {
     "name": "stdout",
     "output_type": "stream",
     "text": [
      "Failed to find valid bounds for p=2.3832222628974424e-05 after 5 retries\n",
      "Failed to find valid bounds for p=0.00021607674454394592 after 5 retries\n"
     ]
    },
    {
     "name": "stderr",
     "output_type": "stream",
     "text": [
      " 67%|██████▋   | 21700/32561 [25:32<13:11, 13.73it/s]"
     ]
    },
    {
     "name": "stdout",
     "output_type": "stream",
     "text": [
      "Failed to find valid bounds for p=0.0009468963303169472 after 5 retries\n"
     ]
    },
    {
     "name": "stderr",
     "output_type": "stream",
     "text": [
      " 67%|██████▋   | 21898/32561 [25:46<12:37, 14.08it/s]"
     ]
    },
    {
     "name": "stdout",
     "output_type": "stream",
     "text": [
      "Failed to find valid bounds for p=0.0007194288073127041 after 5 retries\n"
     ]
    },
    {
     "name": "stderr",
     "output_type": "stream",
     "text": [
      " 68%|██████▊   | 22158/32561 [26:05<12:12, 14.19it/s]"
     ]
    },
    {
     "name": "stdout",
     "output_type": "stream",
     "text": [
      "Failed to find valid bounds for p=0.000928067246927004 after 5 retries\n"
     ]
    },
    {
     "name": "stderr",
     "output_type": "stream",
     "text": [
      " 69%|██████▉   | 22584/32561 [26:35<11:32, 14.42it/s]"
     ]
    },
    {
     "name": "stdout",
     "output_type": "stream",
     "text": [
      "Failed to find valid bounds for p=0.0003443570177076149 after 5 retries\n"
     ]
    },
    {
     "name": "stderr",
     "output_type": "stream",
     "text": [
      " 71%|███████   | 23030/32561 [27:06<11:19, 14.02it/s]"
     ]
    },
    {
     "name": "stdout",
     "output_type": "stream",
     "text": [
      "Failed to find valid bounds for p=0.0006360531713147661 after 5 retries\n"
     ]
    },
    {
     "name": "stderr",
     "output_type": "stream",
     "text": [
      " 72%|███████▏  | 23356/32561 [27:29<10:25, 14.72it/s]"
     ]
    },
    {
     "name": "stdout",
     "output_type": "stream",
     "text": [
      "Failed to find valid bounds for p=0.00010585591342786286 after 5 retries\n"
     ]
    },
    {
     "name": "stderr",
     "output_type": "stream",
     "text": [
      " 73%|███████▎  | 23666/32561 [27:51<10:58, 13.51it/s]"
     ]
    },
    {
     "name": "stdout",
     "output_type": "stream",
     "text": [
      "Failed to find valid bounds for p=0.0006306639206108511 after 5 retries\n"
     ]
    },
    {
     "name": "stderr",
     "output_type": "stream",
     "text": [
      " 73%|███████▎  | 23782/32561 [28:00<10:40, 13.71it/s]"
     ]
    },
    {
     "name": "stdout",
     "output_type": "stream",
     "text": [
      "Failed to find valid bounds for p=4.430887471351807e-05 after 5 retries\n"
     ]
    },
    {
     "name": "stderr",
     "output_type": "stream",
     "text": [
      " 73%|███████▎  | 23840/32561 [28:04<10:30, 13.83it/s]"
     ]
    },
    {
     "name": "stdout",
     "output_type": "stream",
     "text": [
      "Failed to find valid bounds for p=0.0005476625162174482 after 5 retries\n"
     ]
    },
    {
     "name": "stderr",
     "output_type": "stream",
     "text": [
      " 73%|███████▎  | 23926/32561 [28:10<09:53, 14.54it/s]"
     ]
    },
    {
     "name": "stdout",
     "output_type": "stream",
     "text": [
      "Failed to find valid bounds for p=7.275861388376508e-05 after 5 retries\n"
     ]
    },
    {
     "name": "stderr",
     "output_type": "stream",
     "text": [
      " 74%|███████▎  | 24006/32561 [28:15<10:04, 14.16it/s]"
     ]
    },
    {
     "name": "stdout",
     "output_type": "stream",
     "text": [
      "Failed to find valid bounds for p=0.0004605887942931165 after 5 retries\n"
     ]
    },
    {
     "name": "stderr",
     "output_type": "stream",
     "text": [
      " 74%|███████▍  | 24160/32561 [28:26<09:55, 14.10it/s]"
     ]
    },
    {
     "name": "stdout",
     "output_type": "stream",
     "text": [
      "Failed to find valid bounds for p=0.00033806448955112095 after 5 retries\n"
     ]
    },
    {
     "name": "stderr",
     "output_type": "stream",
     "text": [
      " 75%|███████▍  | 24354/32561 [28:40<09:58, 13.70it/s]"
     ]
    },
    {
     "name": "stdout",
     "output_type": "stream",
     "text": [
      "Failed to find valid bounds for p=0.0006253488285819 after 5 retries\n"
     ]
    },
    {
     "name": "stderr",
     "output_type": "stream",
     "text": [
      " 76%|███████▌  | 24618/32561 [28:58<09:12, 14.37it/s]"
     ]
    },
    {
     "name": "stdout",
     "output_type": "stream",
     "text": [
      "Failed to find valid bounds for p=0.0007670982080618311 after 5 retries\n"
     ]
    },
    {
     "name": "stderr",
     "output_type": "stream",
     "text": [
      " 76%|███████▌  | 24630/32561 [28:59<09:12, 14.35it/s]"
     ]
    },
    {
     "name": "stdout",
     "output_type": "stream",
     "text": [
      "Failed to find valid bounds for p=0.0006898622076775043 after 5 retries\n"
     ]
    },
    {
     "name": "stderr",
     "output_type": "stream",
     "text": [
      " 76%|███████▌  | 24732/32561 [29:06<09:03, 14.40it/s]"
     ]
    },
    {
     "name": "stdout",
     "output_type": "stream",
     "text": [
      "Failed to find valid bounds for p=0.0008715244377807955 after 5 retries\n"
     ]
    },
    {
     "name": "stderr",
     "output_type": "stream",
     "text": [
      " 76%|███████▌  | 24744/32561 [29:07<09:08, 14.26it/s]"
     ]
    },
    {
     "name": "stdout",
     "output_type": "stream",
     "text": [
      "Failed to find valid bounds for p=0.0009162547061552709 after 5 retries\n"
     ]
    },
    {
     "name": "stderr",
     "output_type": "stream",
     "text": [
      " 77%|███████▋  | 25114/32561 [29:33<08:35, 14.45it/s]"
     ]
    },
    {
     "name": "stdout",
     "output_type": "stream",
     "text": [
      "Failed to find valid bounds for p=0.0008352688602898638 after 5 retries\n"
     ]
    },
    {
     "name": "stderr",
     "output_type": "stream",
     "text": [
      " 77%|███████▋  | 25206/32561 [29:40<08:36, 14.23it/s]"
     ]
    },
    {
     "name": "stdout",
     "output_type": "stream",
     "text": [
      "Failed to find valid bounds for p=0.0002568323919339813 after 5 retries\n"
     ]
    },
    {
     "name": "stderr",
     "output_type": "stream",
     "text": [
      " 78%|███████▊  | 25356/32561 [29:50<08:32, 14.07it/s]"
     ]
    },
    {
     "name": "stdout",
     "output_type": "stream",
     "text": [
      "Failed to find valid bounds for p=0.00048142356863549945 after 5 retries\n"
     ]
    },
    {
     "name": "stderr",
     "output_type": "stream",
     "text": [
      " 79%|███████▉  | 25746/32561 [30:18<08:00, 14.17it/s]"
     ]
    },
    {
     "name": "stdout",
     "output_type": "stream",
     "text": [
      "Failed to find valid bounds for p=2.2388574831976506e-05 after 5 retries\n"
     ]
    },
    {
     "name": "stderr",
     "output_type": "stream",
     "text": [
      " 79%|███████▉  | 25790/32561 [30:21<07:41, 14.66it/s]"
     ]
    },
    {
     "name": "stdout",
     "output_type": "stream",
     "text": [
      "Failed to find valid bounds for p=5.3894866833533876e-05 after 5 retries\n"
     ]
    },
    {
     "name": "stderr",
     "output_type": "stream",
     "text": [
      " 79%|███████▉  | 25820/32561 [30:23<07:56, 14.16it/s]"
     ]
    },
    {
     "name": "stdout",
     "output_type": "stream",
     "text": [
      "Failed to find valid bounds for p=0.0005341206282432513 after 5 retries\n"
     ]
    },
    {
     "name": "stderr",
     "output_type": "stream",
     "text": [
      " 79%|███████▉  | 25844/32561 [30:25<07:46, 14.39it/s]"
     ]
    },
    {
     "name": "stdout",
     "output_type": "stream",
     "text": [
      "Failed to find valid bounds for p=1.4219796431240157e-05 after 5 retries\n"
     ]
    },
    {
     "name": "stderr",
     "output_type": "stream",
     "text": [
      " 80%|████████  | 26102/32561 [30:43<07:33, 14.23it/s]"
     ]
    },
    {
     "name": "stdout",
     "output_type": "stream",
     "text": [
      "Failed to find valid bounds for p=0.0011330337812115328 after 5 retries\n",
      "Failed to find valid bounds for p=0.00100635650692005 after 5 retries\n"
     ]
    },
    {
     "name": "stderr",
     "output_type": "stream",
     "text": [
      " 80%|████████  | 26172/32561 [30:48<07:44, 13.77it/s]"
     ]
    },
    {
     "name": "stdout",
     "output_type": "stream",
     "text": [
      "Failed to find valid bounds for p=0.00015010644447854116 after 5 retries\n"
     ]
    },
    {
     "name": "stderr",
     "output_type": "stream",
     "text": [
      " 81%|████████  | 26340/32561 [31:00<07:29, 13.85it/s]"
     ]
    },
    {
     "name": "stdout",
     "output_type": "stream",
     "text": [
      "Failed to find valid bounds for p=0.0009730175558391058 after 5 retries\n"
     ]
    },
    {
     "name": "stderr",
     "output_type": "stream",
     "text": [
      " 81%|████████▏ | 26456/32561 [31:08<06:48, 14.95it/s]"
     ]
    },
    {
     "name": "stdout",
     "output_type": "stream",
     "text": [
      "Failed to find valid bounds for p=0.00018024333747170603 after 5 retries\n"
     ]
    },
    {
     "name": "stderr",
     "output_type": "stream",
     "text": [
      " 82%|████████▏ | 26568/32561 [31:16<07:05, 14.07it/s]"
     ]
    },
    {
     "name": "stdout",
     "output_type": "stream",
     "text": [
      "Failed to find valid bounds for p=0.0005761781940214943 after 5 retries\n"
     ]
    },
    {
     "name": "stderr",
     "output_type": "stream",
     "text": [
      " 83%|████████▎ | 26972/32561 [31:44<06:36, 14.09it/s]"
     ]
    },
    {
     "name": "stdout",
     "output_type": "stream",
     "text": [
      "Failed to find valid bounds for p=0.000553492330176131 after 5 retries\n"
     ]
    },
    {
     "name": "stderr",
     "output_type": "stream",
     "text": [
      " 83%|████████▎ | 27102/32561 [31:54<06:40, 13.63it/s]"
     ]
    },
    {
     "name": "stdout",
     "output_type": "stream",
     "text": [
      "Failed to find valid bounds for p=0.00031734989048519163 after 5 retries\n"
     ]
    },
    {
     "name": "stderr",
     "output_type": "stream",
     "text": [
      " 83%|████████▎ | 27184/32561 [32:00<06:17, 14.24it/s]"
     ]
    },
    {
     "name": "stdout",
     "output_type": "stream",
     "text": [
      "Failed to find valid bounds for p=4.232442072026133e-05 after 5 retries\n"
     ]
    },
    {
     "name": "stderr",
     "output_type": "stream",
     "text": [
      " 84%|████████▍ | 27470/32561 [32:20<06:10, 13.73it/s]"
     ]
    },
    {
     "name": "stdout",
     "output_type": "stream",
     "text": [
      "Failed to find valid bounds for p=0.000795127100012527 after 5 retries\n"
     ]
    },
    {
     "name": "stderr",
     "output_type": "stream",
     "text": [
      " 84%|████████▍ | 27500/32561 [32:22<05:57, 14.14it/s]"
     ]
    },
    {
     "name": "stdout",
     "output_type": "stream",
     "text": [
      "Failed to find valid bounds for p=0.0009794072628889678 after 5 retries\n"
     ]
    },
    {
     "name": "stderr",
     "output_type": "stream",
     "text": [
      " 85%|████████▌ | 27712/32561 [32:37<05:35, 14.47it/s]"
     ]
    },
    {
     "name": "stdout",
     "output_type": "stream",
     "text": [
      "Failed to find valid bounds for p=1.744168419048966e-05 after 5 retries\n"
     ]
    },
    {
     "name": "stderr",
     "output_type": "stream",
     "text": [
      " 85%|████████▌ | 27804/32561 [32:43<05:38, 14.04it/s]"
     ]
    },
    {
     "name": "stdout",
     "output_type": "stream",
     "text": [
      "Failed to find valid bounds for p=0.00022102792139513223 after 5 retries\n"
     ]
    },
    {
     "name": "stderr",
     "output_type": "stream",
     "text": [
      " 87%|████████▋ | 28192/32561 [33:11<05:05, 14.28it/s]"
     ]
    },
    {
     "name": "stdout",
     "output_type": "stream",
     "text": [
      "Failed to find valid bounds for p=1.6606023010530987e-05 after 5 retries\n"
     ]
    },
    {
     "name": "stderr",
     "output_type": "stream",
     "text": [
      " 87%|████████▋ | 28210/32561 [33:12<05:14, 13.85it/s]"
     ]
    },
    {
     "name": "stdout",
     "output_type": "stream",
     "text": [
      "Failed to find valid bounds for p=0.0005183107820522254 after 5 retries\n"
     ]
    },
    {
     "name": "stderr",
     "output_type": "stream",
     "text": [
      " 89%|████████▉ | 29132/32561 [34:17<04:07, 13.83it/s]"
     ]
    },
    {
     "name": "stdout",
     "output_type": "stream",
     "text": [
      "Failed to find valid bounds for p=2.1324820433003017e-06 after 5 retries\n"
     ]
    },
    {
     "name": "stderr",
     "output_type": "stream",
     "text": [
      " 91%|█████████ | 29476/32561 [34:41<03:39, 14.06it/s]"
     ]
    },
    {
     "name": "stdout",
     "output_type": "stream",
     "text": [
      "Failed to find valid bounds for p=8.329284372069825e-05 after 5 retries\n"
     ]
    },
    {
     "name": "stderr",
     "output_type": "stream",
     "text": [
      " 91%|█████████ | 29564/32561 [34:47<03:26, 14.52it/s]"
     ]
    },
    {
     "name": "stdout",
     "output_type": "stream",
     "text": [
      "Failed to find valid bounds for p=0.0004634113747975906 after 5 retries\n"
     ]
    },
    {
     "name": "stderr",
     "output_type": "stream",
     "text": [
      " 91%|█████████ | 29584/32561 [34:48<03:20, 14.83it/s]"
     ]
    },
    {
     "name": "stdout",
     "output_type": "stream",
     "text": [
      "Failed to find valid bounds for p=0.00022954685685045082 after 5 retries\n"
     ]
    },
    {
     "name": "stderr",
     "output_type": "stream",
     "text": [
      " 91%|█████████▏| 29736/32561 [34:59<03:23, 13.88it/s]"
     ]
    },
    {
     "name": "stdout",
     "output_type": "stream",
     "text": [
      "Failed to find valid bounds for p=0.0009094008217947847 after 5 retries\n"
     ]
    },
    {
     "name": "stderr",
     "output_type": "stream",
     "text": [
      " 92%|█████████▏| 29808/32561 [35:04<03:13, 14.26it/s]"
     ]
    },
    {
     "name": "stdout",
     "output_type": "stream",
     "text": [
      "Failed to find valid bounds for p=0.0005198580275447286 after 5 retries\n"
     ]
    },
    {
     "name": "stderr",
     "output_type": "stream",
     "text": [
      " 93%|█████████▎| 30284/32561 [35:38<02:35, 14.64it/s]"
     ]
    },
    {
     "name": "stdout",
     "output_type": "stream",
     "text": [
      "Failed to find valid bounds for p=0.00020457017709974015 after 5 retries\n"
     ]
    },
    {
     "name": "stderr",
     "output_type": "stream",
     "text": [
      " 95%|█████████▍| 30778/32561 [36:13<02:08, 13.84it/s]"
     ]
    },
    {
     "name": "stdout",
     "output_type": "stream",
     "text": [
      "Failed to find valid bounds for p=0.0005021112064876235 after 5 retries\n"
     ]
    },
    {
     "name": "stderr",
     "output_type": "stream",
     "text": [
      " 96%|█████████▋| 31374/32561 [36:54<01:22, 14.42it/s]"
     ]
    },
    {
     "name": "stdout",
     "output_type": "stream",
     "text": [
      "Failed to find valid bounds for p=0.00011150616665033406 after 5 retries\n"
     ]
    },
    {
     "name": "stderr",
     "output_type": "stream",
     "text": [
      " 97%|█████████▋| 31494/32561 [37:03<01:14, 14.26it/s]"
     ]
    },
    {
     "name": "stdout",
     "output_type": "stream",
     "text": [
      "Failed to find valid bounds for p=0.00040202530399509865 after 5 retries\n"
     ]
    },
    {
     "name": "stderr",
     "output_type": "stream",
     "text": [
      " 97%|█████████▋| 31694/32561 [37:17<01:00, 14.32it/s]"
     ]
    },
    {
     "name": "stdout",
     "output_type": "stream",
     "text": [
      "Failed to find valid bounds for p=0.00014835199045632721 after 5 retries\n"
     ]
    },
    {
     "name": "stderr",
     "output_type": "stream",
     "text": [
      " 98%|█████████▊| 32040/32561 [37:41<00:34, 15.05it/s]"
     ]
    },
    {
     "name": "stdout",
     "output_type": "stream",
     "text": [
      "Failed to find valid bounds for p=9.386278521379035e-05 after 5 retries\n"
     ]
    },
    {
     "name": "stderr",
     "output_type": "stream",
     "text": [
      " 99%|█████████▉| 32296/32561 [37:59<00:18, 14.28it/s]"
     ]
    },
    {
     "name": "stdout",
     "output_type": "stream",
     "text": [
      "Failed to find valid bounds for p=0.0002468406735222498 after 5 retries\n"
     ]
    },
    {
     "name": "stderr",
     "output_type": "stream",
     "text": [
      "100%|█████████▉| 32412/32561 [38:07<00:10, 13.77it/s]"
     ]
    },
    {
     "name": "stdout",
     "output_type": "stream",
     "text": [
      "Failed to find valid bounds for p=9.02682897938149e-05 after 5 retries\n"
     ]
    },
    {
     "name": "stderr",
     "output_type": "stream",
     "text": [
      "100%|██████████| 32561/32561 [38:18<00:00, 14.17it/s]\n"
     ]
    }
   ],
   "source": [
    "num_rows = data.shape[0]  # Number of rows you want to generate\n",
    "synthetic_dataset = [sample(F_inv, covariance_matrix) for _ in tqdm(range(num_rows))]\n",
    "synthetic_df_full = pd.DataFrame(synthetic_dataset, columns=['age', ' workclass', ' fnlwgt', ' education', ' marital-status', ' occupation', ' relationship', ' race',\n",
    "                                                             ' sex', ' capital-gain', ' capital-loss', ' hours-per-week', ' native-country', ' salary'])"
   ]
  },
  {
   "cell_type": "code",
   "execution_count": 62,
   "metadata": {},
   "outputs": [
    {
     "data": {
      "text/plain": [
       "age                 0\n",
       " workclass          5\n",
       " fnlwgt             0\n",
       " education          5\n",
       " marital-status    13\n",
       " occupation         2\n",
       " relationship       8\n",
       " race               4\n",
       " sex               42\n",
       " capital-gain       0\n",
       " capital-loss       0\n",
       " hours-per-week     8\n",
       " native-country    41\n",
       " salary            34\n",
       "dtype: int64"
      ]
     },
     "execution_count": 62,
     "metadata": {},
     "output_type": "execute_result"
    }
   ],
   "source": [
    "synthetic_df_full.isnull().sum()"
   ]
  },
  {
   "cell_type": "code",
   "execution_count": 38,
   "metadata": {},
   "outputs": [],
   "source": [
    "synthetic_df_full.to_csv('synthetic_data_full.csv')"
   ]
  },
  {
   "cell_type": "code",
   "execution_count": 63,
   "metadata": {},
   "outputs": [],
   "source": [
    "column_mean = synthetic_df_full.mean()\n",
    "\n",
    "synthetic_df_full_filled = synthetic_df_full.fillna(column_mean)"
   ]
  },
  {
   "cell_type": "code",
   "execution_count": 64,
   "metadata": {},
   "outputs": [
    {
     "data": {
      "text/html": [
       "<div>\n",
       "<style scoped>\n",
       "    .dataframe tbody tr th:only-of-type {\n",
       "        vertical-align: middle;\n",
       "    }\n",
       "\n",
       "    .dataframe tbody tr th {\n",
       "        vertical-align: top;\n",
       "    }\n",
       "\n",
       "    .dataframe thead th {\n",
       "        text-align: right;\n",
       "    }\n",
       "</style>\n",
       "<table border=\"1\" class=\"dataframe\">\n",
       "  <thead>\n",
       "    <tr style=\"text-align: right;\">\n",
       "      <th></th>\n",
       "      <th>age</th>\n",
       "      <th>workclass</th>\n",
       "      <th>fnlwgt</th>\n",
       "      <th>education</th>\n",
       "      <th>marital-status</th>\n",
       "      <th>occupation</th>\n",
       "      <th>relationship</th>\n",
       "      <th>race</th>\n",
       "      <th>sex</th>\n",
       "      <th>capital-gain</th>\n",
       "      <th>capital-loss</th>\n",
       "      <th>hours-per-week</th>\n",
       "      <th>native-country</th>\n",
       "      <th>salary</th>\n",
       "    </tr>\n",
       "  </thead>\n",
       "  <tbody>\n",
       "    <tr>\n",
       "      <th>0</th>\n",
       "      <td>47.602875</td>\n",
       "      <td>0.856669</td>\n",
       "      <td>296566.030725</td>\n",
       "      <td>0.984768</td>\n",
       "      <td>0.233210</td>\n",
       "      <td>0.649474</td>\n",
       "      <td>0.222499</td>\n",
       "      <td>0.409044</td>\n",
       "      <td>0.816470</td>\n",
       "      <td>0.000527</td>\n",
       "      <td>0.000145</td>\n",
       "      <td>40.001350</td>\n",
       "      <td>0.369657</td>\n",
       "      <td>0.809970</td>\n",
       "    </tr>\n",
       "    <tr>\n",
       "      <th>1</th>\n",
       "      <td>32.574126</td>\n",
       "      <td>0.420624</td>\n",
       "      <td>59019.315568</td>\n",
       "      <td>0.759543</td>\n",
       "      <td>0.332804</td>\n",
       "      <td>0.065237</td>\n",
       "      <td>0.850943</td>\n",
       "      <td>0.605872</td>\n",
       "      <td>0.738007</td>\n",
       "      <td>-0.001290</td>\n",
       "      <td>-0.000386</td>\n",
       "      <td>24.542558</td>\n",
       "      <td>0.384696</td>\n",
       "      <td>0.136709</td>\n",
       "    </tr>\n",
       "    <tr>\n",
       "      <th>2</th>\n",
       "      <td>41.354508</td>\n",
       "      <td>0.801740</td>\n",
       "      <td>246596.280778</td>\n",
       "      <td>0.932366</td>\n",
       "      <td>0.641960</td>\n",
       "      <td>0.206858</td>\n",
       "      <td>0.561668</td>\n",
       "      <td>0.357424</td>\n",
       "      <td>0.395557</td>\n",
       "      <td>-0.000174</td>\n",
       "      <td>0.000599</td>\n",
       "      <td>40.000271</td>\n",
       "      <td>0.391150</td>\n",
       "      <td>0.843468</td>\n",
       "    </tr>\n",
       "    <tr>\n",
       "      <th>3</th>\n",
       "      <td>19.452579</td>\n",
       "      <td>0.795551</td>\n",
       "      <td>177906.366159</td>\n",
       "      <td>0.731019</td>\n",
       "      <td>0.618765</td>\n",
       "      <td>0.743068</td>\n",
       "      <td>0.549303</td>\n",
       "      <td>0.189635</td>\n",
       "      <td>0.912975</td>\n",
       "      <td>0.000118</td>\n",
       "      <td>-0.000587</td>\n",
       "      <td>39.999642</td>\n",
       "      <td>0.276982</td>\n",
       "      <td>0.798659</td>\n",
       "    </tr>\n",
       "    <tr>\n",
       "      <th>4</th>\n",
       "      <td>51.995030</td>\n",
       "      <td>0.731495</td>\n",
       "      <td>108521.661446</td>\n",
       "      <td>0.826903</td>\n",
       "      <td>0.114574</td>\n",
       "      <td>0.540635</td>\n",
       "      <td>0.036591</td>\n",
       "      <td>0.584521</td>\n",
       "      <td>0.073733</td>\n",
       "      <td>-0.000094</td>\n",
       "      <td>0.000276</td>\n",
       "      <td>67.932632</td>\n",
       "      <td>0.418206</td>\n",
       "      <td>0.479894</td>\n",
       "    </tr>\n",
       "    <tr>\n",
       "      <th>...</th>\n",
       "      <td>...</td>\n",
       "      <td>...</td>\n",
       "      <td>...</td>\n",
       "      <td>...</td>\n",
       "      <td>...</td>\n",
       "      <td>...</td>\n",
       "      <td>...</td>\n",
       "      <td>...</td>\n",
       "      <td>...</td>\n",
       "      <td>...</td>\n",
       "      <td>...</td>\n",
       "      <td>...</td>\n",
       "      <td>...</td>\n",
       "      <td>...</td>\n",
       "    </tr>\n",
       "    <tr>\n",
       "      <th>32556</th>\n",
       "      <td>30.505639</td>\n",
       "      <td>0.368888</td>\n",
       "      <td>76959.644739</td>\n",
       "      <td>0.412932</td>\n",
       "      <td>0.871281</td>\n",
       "      <td>0.884887</td>\n",
       "      <td>0.726212</td>\n",
       "      <td>0.643755</td>\n",
       "      <td>0.454662</td>\n",
       "      <td>-0.000152</td>\n",
       "      <td>-0.000032</td>\n",
       "      <td>39.998362</td>\n",
       "      <td>0.130690</td>\n",
       "      <td>0.162942</td>\n",
       "    </tr>\n",
       "    <tr>\n",
       "      <th>32557</th>\n",
       "      <td>17.055637</td>\n",
       "      <td>0.144870</td>\n",
       "      <td>420215.922994</td>\n",
       "      <td>0.067869</td>\n",
       "      <td>0.183269</td>\n",
       "      <td>0.052438</td>\n",
       "      <td>0.865840</td>\n",
       "      <td>0.863900</td>\n",
       "      <td>0.583839</td>\n",
       "      <td>0.000706</td>\n",
       "      <td>0.000365</td>\n",
       "      <td>46.752890</td>\n",
       "      <td>0.626080</td>\n",
       "      <td>0.787263</td>\n",
       "    </tr>\n",
       "    <tr>\n",
       "      <th>32558</th>\n",
       "      <td>36.403838</td>\n",
       "      <td>0.661343</td>\n",
       "      <td>46522.091577</td>\n",
       "      <td>0.459857</td>\n",
       "      <td>0.850907</td>\n",
       "      <td>0.678214</td>\n",
       "      <td>0.230242</td>\n",
       "      <td>0.476655</td>\n",
       "      <td>0.267591</td>\n",
       "      <td>-0.000971</td>\n",
       "      <td>0.000149</td>\n",
       "      <td>40.001383</td>\n",
       "      <td>0.371916</td>\n",
       "      <td>0.128849</td>\n",
       "    </tr>\n",
       "    <tr>\n",
       "      <th>32559</th>\n",
       "      <td>23.737994</td>\n",
       "      <td>0.278785</td>\n",
       "      <td>633733.796930</td>\n",
       "      <td>0.477951</td>\n",
       "      <td>0.866243</td>\n",
       "      <td>0.800750</td>\n",
       "      <td>0.876695</td>\n",
       "      <td>0.908915</td>\n",
       "      <td>0.525720</td>\n",
       "      <td>-0.000374</td>\n",
       "      <td>0.000621</td>\n",
       "      <td>40.001594</td>\n",
       "      <td>0.230323</td>\n",
       "      <td>0.507307</td>\n",
       "    </tr>\n",
       "    <tr>\n",
       "      <th>32560</th>\n",
       "      <td>25.497677</td>\n",
       "      <td>0.774201</td>\n",
       "      <td>236556.393058</td>\n",
       "      <td>0.625513</td>\n",
       "      <td>0.697439</td>\n",
       "      <td>0.567389</td>\n",
       "      <td>0.852866</td>\n",
       "      <td>0.922187</td>\n",
       "      <td>0.852240</td>\n",
       "      <td>-0.000079</td>\n",
       "      <td>-0.000095</td>\n",
       "      <td>39.999812</td>\n",
       "      <td>0.276842</td>\n",
       "      <td>0.114013</td>\n",
       "    </tr>\n",
       "  </tbody>\n",
       "</table>\n",
       "<p>32561 rows × 14 columns</p>\n",
       "</div>"
      ],
      "text/plain": [
       "             age   workclass         fnlwgt   education   marital-status  \\\n",
       "0      47.602875    0.856669  296566.030725    0.984768         0.233210   \n",
       "1      32.574126    0.420624   59019.315568    0.759543         0.332804   \n",
       "2      41.354508    0.801740  246596.280778    0.932366         0.641960   \n",
       "3      19.452579    0.795551  177906.366159    0.731019         0.618765   \n",
       "4      51.995030    0.731495  108521.661446    0.826903         0.114574   \n",
       "...          ...         ...            ...         ...              ...   \n",
       "32556  30.505639    0.368888   76959.644739    0.412932         0.871281   \n",
       "32557  17.055637    0.144870  420215.922994    0.067869         0.183269   \n",
       "32558  36.403838    0.661343   46522.091577    0.459857         0.850907   \n",
       "32559  23.737994    0.278785  633733.796930    0.477951         0.866243   \n",
       "32560  25.497677    0.774201  236556.393058    0.625513         0.697439   \n",
       "\n",
       "        occupation   relationship      race       sex   capital-gain  \\\n",
       "0         0.649474       0.222499  0.409044  0.816470       0.000527   \n",
       "1         0.065237       0.850943  0.605872  0.738007      -0.001290   \n",
       "2         0.206858       0.561668  0.357424  0.395557      -0.000174   \n",
       "3         0.743068       0.549303  0.189635  0.912975       0.000118   \n",
       "4         0.540635       0.036591  0.584521  0.073733      -0.000094   \n",
       "...            ...            ...       ...       ...            ...   \n",
       "32556     0.884887       0.726212  0.643755  0.454662      -0.000152   \n",
       "32557     0.052438       0.865840  0.863900  0.583839       0.000706   \n",
       "32558     0.678214       0.230242  0.476655  0.267591      -0.000971   \n",
       "32559     0.800750       0.876695  0.908915  0.525720      -0.000374   \n",
       "32560     0.567389       0.852866  0.922187  0.852240      -0.000079   \n",
       "\n",
       "        capital-loss   hours-per-week   native-country    salary  \n",
       "0           0.000145        40.001350         0.369657  0.809970  \n",
       "1          -0.000386        24.542558         0.384696  0.136709  \n",
       "2           0.000599        40.000271         0.391150  0.843468  \n",
       "3          -0.000587        39.999642         0.276982  0.798659  \n",
       "4           0.000276        67.932632         0.418206  0.479894  \n",
       "...              ...              ...              ...       ...  \n",
       "32556      -0.000032        39.998362         0.130690  0.162942  \n",
       "32557       0.000365        46.752890         0.626080  0.787263  \n",
       "32558       0.000149        40.001383         0.371916  0.128849  \n",
       "32559       0.000621        40.001594         0.230323  0.507307  \n",
       "32560      -0.000095        39.999812         0.276842  0.114013  \n",
       "\n",
       "[32561 rows x 14 columns]"
      ]
     },
     "execution_count": 64,
     "metadata": {},
     "output_type": "execute_result"
    }
   ],
   "source": [
    "synthetic_df_full_filled"
   ]
  },
  {
   "cell_type": "code",
   "execution_count": 65,
   "metadata": {},
   "outputs": [],
   "source": [
    "def numerical_to_category(num_value, category_intervals):\n",
    "    \"\"\" Convert a numerical value back to its corresponding category. \"\"\"\n",
    "    for category, (a, b) in category_intervals.items():\n",
    "        if a <= num_value < b:\n",
    "            return category\n",
    "        elif num_value > 1 and round(b) == 1:\n",
    "            return category\n",
    "        elif num_value < 0 and round(b) == 0:\n",
    "            return category"
   ]
  },
  {
   "cell_type": "code",
   "execution_count": 66,
   "metadata": {},
   "outputs": [],
   "source": [
    "inversed_categories_workclass = synthetic_df_full_filled[' workclass'].apply(lambda x: numerical_to_category(x, category_intervals_workclass))\n",
    "inversed_categories_education = synthetic_df_full_filled[' education'].apply(lambda x: numerical_to_category(x, category_intervals_education))\n",
    "inversed_categories_marital = synthetic_df_full_filled[' marital-status'].apply(lambda x: numerical_to_category(x, category_intervals_marital))\n",
    "inversed_categories_occupation = synthetic_df_full_filled[' occupation'].apply(lambda x: numerical_to_category(x, category_intervals_occupation))\n",
    "inversed_categories_relationship = synthetic_df_full_filled[' relationship'].apply(lambda x: numerical_to_category(x, category_intervals_relationship))\n",
    "inversed_categories_race = synthetic_df_full_filled[' race'].apply(lambda x: numerical_to_category(x, category_intervals_race))\n",
    "inversed_categories_sex = synthetic_df_full_filled[' sex'].apply(lambda x: numerical_to_category(x, category_intervals_sex))\n",
    "inversed_categories_country = synthetic_df_full_filled[' native-country'].apply(lambda x: numerical_to_category(x, category_intervals_country))\n",
    "inversed_categories_salary = synthetic_df_full_filled[' salary'].apply(lambda x: numerical_to_category(x, category_intervals_salary))"
   ]
  },
  {
   "cell_type": "code",
   "execution_count": 67,
   "metadata": {},
   "outputs": [],
   "source": [
    "synthetic_df_full_filled[' workclass'] = inversed_categories_workclass\n",
    "\n",
    "synthetic_df_full_filled[' education'] = inversed_categories_education\n",
    "\n",
    "synthetic_df_full_filled[' marital-status'] = inversed_categories_marital\n",
    "\n",
    "synthetic_df_full_filled[' occupation'] = inversed_categories_occupation\n",
    "\n",
    "synthetic_df_full_filled[' relationship'] = inversed_categories_relationship\n",
    "\n",
    "synthetic_df_full_filled[' race'] = inversed_categories_race\n",
    "\n",
    "synthetic_df_full_filled[' sex'] = inversed_categories_sex\n",
    "\n",
    "synthetic_df_full_filled[' native-country'] = inversed_categories_country\n",
    "\n",
    "synthetic_df_full_filled[' salary'] = inversed_categories_salary"
   ]
  },
  {
   "cell_type": "code",
   "execution_count": 68,
   "metadata": {},
   "outputs": [
    {
     "data": {
      "text/html": [
       "<div>\n",
       "<style scoped>\n",
       "    .dataframe tbody tr th:only-of-type {\n",
       "        vertical-align: middle;\n",
       "    }\n",
       "\n",
       "    .dataframe tbody tr th {\n",
       "        vertical-align: top;\n",
       "    }\n",
       "\n",
       "    .dataframe thead th {\n",
       "        text-align: right;\n",
       "    }\n",
       "</style>\n",
       "<table border=\"1\" class=\"dataframe\">\n",
       "  <thead>\n",
       "    <tr style=\"text-align: right;\">\n",
       "      <th></th>\n",
       "      <th>age</th>\n",
       "      <th>workclass</th>\n",
       "      <th>fnlwgt</th>\n",
       "      <th>education</th>\n",
       "      <th>marital-status</th>\n",
       "      <th>occupation</th>\n",
       "      <th>relationship</th>\n",
       "      <th>race</th>\n",
       "      <th>sex</th>\n",
       "      <th>capital-gain</th>\n",
       "      <th>capital-loss</th>\n",
       "      <th>hours-per-week</th>\n",
       "      <th>native-country</th>\n",
       "      <th>salary</th>\n",
       "    </tr>\n",
       "  </thead>\n",
       "  <tbody>\n",
       "    <tr>\n",
       "      <th>0</th>\n",
       "      <td>47.602875</td>\n",
       "      <td>?</td>\n",
       "      <td>296566.030725</td>\n",
       "      <td>5th-6th</td>\n",
       "      <td>Married-civ-spouse</td>\n",
       "      <td>Other-service</td>\n",
       "      <td>Husband</td>\n",
       "      <td>White</td>\n",
       "      <td>Female</td>\n",
       "      <td>0.000527</td>\n",
       "      <td>0.000145</td>\n",
       "      <td>40.001350</td>\n",
       "      <td>United-States</td>\n",
       "      <td>&gt;50K</td>\n",
       "    </tr>\n",
       "    <tr>\n",
       "      <th>1</th>\n",
       "      <td>32.574126</td>\n",
       "      <td>Private</td>\n",
       "      <td>59019.315568</td>\n",
       "      <td>Masters</td>\n",
       "      <td>Married-civ-spouse</td>\n",
       "      <td>Prof-specialty</td>\n",
       "      <td>Unmarried</td>\n",
       "      <td>White</td>\n",
       "      <td>Female</td>\n",
       "      <td>-0.001290</td>\n",
       "      <td>-0.000386</td>\n",
       "      <td>24.542558</td>\n",
       "      <td>United-States</td>\n",
       "      <td>&lt;=50K</td>\n",
       "    </tr>\n",
       "    <tr>\n",
       "      <th>2</th>\n",
       "      <td>41.354508</td>\n",
       "      <td>Local-gov</td>\n",
       "      <td>246596.280778</td>\n",
       "      <td>Prof-school</td>\n",
       "      <td>Never-married</td>\n",
       "      <td>Craft-repair</td>\n",
       "      <td>Not-in-family</td>\n",
       "      <td>White</td>\n",
       "      <td>Male</td>\n",
       "      <td>-0.000174</td>\n",
       "      <td>0.000599</td>\n",
       "      <td>40.000271</td>\n",
       "      <td>United-States</td>\n",
       "      <td>&gt;50K</td>\n",
       "    </tr>\n",
       "    <tr>\n",
       "      <th>3</th>\n",
       "      <td>19.452579</td>\n",
       "      <td>Local-gov</td>\n",
       "      <td>177906.366159</td>\n",
       "      <td>Masters</td>\n",
       "      <td>Never-married</td>\n",
       "      <td>Machine-op-inspct</td>\n",
       "      <td>Not-in-family</td>\n",
       "      <td>White</td>\n",
       "      <td>Female</td>\n",
       "      <td>0.000118</td>\n",
       "      <td>-0.000587</td>\n",
       "      <td>39.999642</td>\n",
       "      <td>United-States</td>\n",
       "      <td>&gt;50K</td>\n",
       "    </tr>\n",
       "    <tr>\n",
       "      <th>4</th>\n",
       "      <td>51.995030</td>\n",
       "      <td>Self-emp-not-inc</td>\n",
       "      <td>108521.661446</td>\n",
       "      <td>11th</td>\n",
       "      <td>Married-civ-spouse</td>\n",
       "      <td>Sales</td>\n",
       "      <td>Husband</td>\n",
       "      <td>White</td>\n",
       "      <td>Male</td>\n",
       "      <td>-0.000094</td>\n",
       "      <td>0.000276</td>\n",
       "      <td>67.932632</td>\n",
       "      <td>United-States</td>\n",
       "      <td>&lt;=50K</td>\n",
       "    </tr>\n",
       "    <tr>\n",
       "      <th>...</th>\n",
       "      <td>...</td>\n",
       "      <td>...</td>\n",
       "      <td>...</td>\n",
       "      <td>...</td>\n",
       "      <td>...</td>\n",
       "      <td>...</td>\n",
       "      <td>...</td>\n",
       "      <td>...</td>\n",
       "      <td>...</td>\n",
       "      <td>...</td>\n",
       "      <td>...</td>\n",
       "      <td>...</td>\n",
       "      <td>...</td>\n",
       "      <td>...</td>\n",
       "    </tr>\n",
       "    <tr>\n",
       "      <th>32556</th>\n",
       "      <td>30.505639</td>\n",
       "      <td>Private</td>\n",
       "      <td>76959.644739</td>\n",
       "      <td>Some-college</td>\n",
       "      <td>Divorced</td>\n",
       "      <td>Handlers-cleaners</td>\n",
       "      <td>Own-child</td>\n",
       "      <td>White</td>\n",
       "      <td>Male</td>\n",
       "      <td>-0.000152</td>\n",
       "      <td>-0.000032</td>\n",
       "      <td>39.998362</td>\n",
       "      <td>United-States</td>\n",
       "      <td>&lt;=50K</td>\n",
       "    </tr>\n",
       "    <tr>\n",
       "      <th>32557</th>\n",
       "      <td>17.055637</td>\n",
       "      <td>Private</td>\n",
       "      <td>420215.922994</td>\n",
       "      <td>HS-grad</td>\n",
       "      <td>Married-civ-spouse</td>\n",
       "      <td>Prof-specialty</td>\n",
       "      <td>Unmarried</td>\n",
       "      <td>Black</td>\n",
       "      <td>Male</td>\n",
       "      <td>0.000706</td>\n",
       "      <td>0.000365</td>\n",
       "      <td>46.752890</td>\n",
       "      <td>United-States</td>\n",
       "      <td>&gt;50K</td>\n",
       "    </tr>\n",
       "    <tr>\n",
       "      <th>32558</th>\n",
       "      <td>36.403838</td>\n",
       "      <td>Private</td>\n",
       "      <td>46522.091577</td>\n",
       "      <td>Some-college</td>\n",
       "      <td>Divorced</td>\n",
       "      <td>Other-service</td>\n",
       "      <td>Husband</td>\n",
       "      <td>White</td>\n",
       "      <td>Male</td>\n",
       "      <td>-0.000971</td>\n",
       "      <td>0.000149</td>\n",
       "      <td>40.001383</td>\n",
       "      <td>United-States</td>\n",
       "      <td>&lt;=50K</td>\n",
       "    </tr>\n",
       "    <tr>\n",
       "      <th>32559</th>\n",
       "      <td>23.737994</td>\n",
       "      <td>Private</td>\n",
       "      <td>633733.796930</td>\n",
       "      <td>Some-college</td>\n",
       "      <td>Divorced</td>\n",
       "      <td>?</td>\n",
       "      <td>Unmarried</td>\n",
       "      <td>Black</td>\n",
       "      <td>Male</td>\n",
       "      <td>-0.000374</td>\n",
       "      <td>0.000621</td>\n",
       "      <td>40.001594</td>\n",
       "      <td>United-States</td>\n",
       "      <td>&lt;=50K</td>\n",
       "    </tr>\n",
       "    <tr>\n",
       "      <th>32560</th>\n",
       "      <td>25.497677</td>\n",
       "      <td>Self-emp-not-inc</td>\n",
       "      <td>236556.393058</td>\n",
       "      <td>Bachelors</td>\n",
       "      <td>Never-married</td>\n",
       "      <td>Sales</td>\n",
       "      <td>Unmarried</td>\n",
       "      <td>Black</td>\n",
       "      <td>Female</td>\n",
       "      <td>-0.000079</td>\n",
       "      <td>-0.000095</td>\n",
       "      <td>39.999812</td>\n",
       "      <td>United-States</td>\n",
       "      <td>&lt;=50K</td>\n",
       "    </tr>\n",
       "  </tbody>\n",
       "</table>\n",
       "<p>32561 rows × 14 columns</p>\n",
       "</div>"
      ],
      "text/plain": [
       "             age          workclass         fnlwgt      education  \\\n",
       "0      47.602875                  ?  296566.030725        5th-6th   \n",
       "1      32.574126            Private   59019.315568        Masters   \n",
       "2      41.354508          Local-gov  246596.280778    Prof-school   \n",
       "3      19.452579          Local-gov  177906.366159        Masters   \n",
       "4      51.995030   Self-emp-not-inc  108521.661446           11th   \n",
       "...          ...                ...            ...            ...   \n",
       "32556  30.505639            Private   76959.644739   Some-college   \n",
       "32557  17.055637            Private  420215.922994        HS-grad   \n",
       "32558  36.403838            Private   46522.091577   Some-college   \n",
       "32559  23.737994            Private  633733.796930   Some-college   \n",
       "32560  25.497677   Self-emp-not-inc  236556.393058      Bachelors   \n",
       "\n",
       "            marital-status          occupation    relationship    race  \\\n",
       "0       Married-civ-spouse       Other-service         Husband   White   \n",
       "1       Married-civ-spouse      Prof-specialty       Unmarried   White   \n",
       "2            Never-married        Craft-repair   Not-in-family   White   \n",
       "3            Never-married   Machine-op-inspct   Not-in-family   White   \n",
       "4       Married-civ-spouse               Sales         Husband   White   \n",
       "...                    ...                 ...             ...     ...   \n",
       "32556             Divorced   Handlers-cleaners       Own-child   White   \n",
       "32557   Married-civ-spouse      Prof-specialty       Unmarried   Black   \n",
       "32558             Divorced       Other-service         Husband   White   \n",
       "32559             Divorced                   ?       Unmarried   Black   \n",
       "32560        Never-married               Sales       Unmarried   Black   \n",
       "\n",
       "           sex   capital-gain   capital-loss   hours-per-week  native-country  \\\n",
       "0       Female       0.000527       0.000145        40.001350   United-States   \n",
       "1       Female      -0.001290      -0.000386        24.542558   United-States   \n",
       "2         Male      -0.000174       0.000599        40.000271   United-States   \n",
       "3       Female       0.000118      -0.000587        39.999642   United-States   \n",
       "4         Male      -0.000094       0.000276        67.932632   United-States   \n",
       "...        ...            ...            ...              ...             ...   \n",
       "32556     Male      -0.000152      -0.000032        39.998362   United-States   \n",
       "32557     Male       0.000706       0.000365        46.752890   United-States   \n",
       "32558     Male      -0.000971       0.000149        40.001383   United-States   \n",
       "32559     Male      -0.000374       0.000621        40.001594   United-States   \n",
       "32560   Female      -0.000079      -0.000095        39.999812   United-States   \n",
       "\n",
       "       salary  \n",
       "0        >50K  \n",
       "1       <=50K  \n",
       "2        >50K  \n",
       "3        >50K  \n",
       "4       <=50K  \n",
       "...       ...  \n",
       "32556   <=50K  \n",
       "32557    >50K  \n",
       "32558   <=50K  \n",
       "32559   <=50K  \n",
       "32560   <=50K  \n",
       "\n",
       "[32561 rows x 14 columns]"
      ]
     },
     "execution_count": 68,
     "metadata": {},
     "output_type": "execute_result"
    }
   ],
   "source": [
    "synthetic_df_full_filled"
   ]
  },
  {
   "cell_type": "code",
   "execution_count": 69,
   "metadata": {},
   "outputs": [
    {
     "data": {
      "text/html": [
       "<div>\n",
       "<style scoped>\n",
       "    .dataframe tbody tr th:only-of-type {\n",
       "        vertical-align: middle;\n",
       "    }\n",
       "\n",
       "    .dataframe tbody tr th {\n",
       "        vertical-align: top;\n",
       "    }\n",
       "\n",
       "    .dataframe thead th {\n",
       "        text-align: right;\n",
       "    }\n",
       "</style>\n",
       "<table border=\"1\" class=\"dataframe\">\n",
       "  <thead>\n",
       "    <tr style=\"text-align: right;\">\n",
       "      <th></th>\n",
       "      <th>age</th>\n",
       "      <th>workclass</th>\n",
       "      <th>fnlwgt</th>\n",
       "      <th>education</th>\n",
       "      <th>marital-status</th>\n",
       "      <th>occupation</th>\n",
       "      <th>relationship</th>\n",
       "      <th>race</th>\n",
       "      <th>sex</th>\n",
       "      <th>capital-gain</th>\n",
       "      <th>capital-loss</th>\n",
       "      <th>hours-per-week</th>\n",
       "      <th>native-country</th>\n",
       "      <th>salary</th>\n",
       "    </tr>\n",
       "  </thead>\n",
       "  <tbody>\n",
       "    <tr>\n",
       "      <th>0</th>\n",
       "      <td>39</td>\n",
       "      <td>State-gov</td>\n",
       "      <td>77516</td>\n",
       "      <td>Bachelors</td>\n",
       "      <td>Never-married</td>\n",
       "      <td>Adm-clerical</td>\n",
       "      <td>Not-in-family</td>\n",
       "      <td>White</td>\n",
       "      <td>Male</td>\n",
       "      <td>2174</td>\n",
       "      <td>0</td>\n",
       "      <td>40</td>\n",
       "      <td>United-States</td>\n",
       "      <td>&lt;=50K</td>\n",
       "    </tr>\n",
       "    <tr>\n",
       "      <th>1</th>\n",
       "      <td>50</td>\n",
       "      <td>Self-emp-not-inc</td>\n",
       "      <td>83311</td>\n",
       "      <td>Bachelors</td>\n",
       "      <td>Married-civ-spouse</td>\n",
       "      <td>Exec-managerial</td>\n",
       "      <td>Husband</td>\n",
       "      <td>White</td>\n",
       "      <td>Male</td>\n",
       "      <td>0</td>\n",
       "      <td>0</td>\n",
       "      <td>13</td>\n",
       "      <td>United-States</td>\n",
       "      <td>&lt;=50K</td>\n",
       "    </tr>\n",
       "    <tr>\n",
       "      <th>2</th>\n",
       "      <td>38</td>\n",
       "      <td>Private</td>\n",
       "      <td>215646</td>\n",
       "      <td>HS-grad</td>\n",
       "      <td>Divorced</td>\n",
       "      <td>Handlers-cleaners</td>\n",
       "      <td>Not-in-family</td>\n",
       "      <td>White</td>\n",
       "      <td>Male</td>\n",
       "      <td>0</td>\n",
       "      <td>0</td>\n",
       "      <td>40</td>\n",
       "      <td>United-States</td>\n",
       "      <td>&lt;=50K</td>\n",
       "    </tr>\n",
       "    <tr>\n",
       "      <th>3</th>\n",
       "      <td>53</td>\n",
       "      <td>Private</td>\n",
       "      <td>234721</td>\n",
       "      <td>11th</td>\n",
       "      <td>Married-civ-spouse</td>\n",
       "      <td>Handlers-cleaners</td>\n",
       "      <td>Husband</td>\n",
       "      <td>Black</td>\n",
       "      <td>Male</td>\n",
       "      <td>0</td>\n",
       "      <td>0</td>\n",
       "      <td>40</td>\n",
       "      <td>United-States</td>\n",
       "      <td>&lt;=50K</td>\n",
       "    </tr>\n",
       "    <tr>\n",
       "      <th>4</th>\n",
       "      <td>28</td>\n",
       "      <td>Private</td>\n",
       "      <td>338409</td>\n",
       "      <td>Bachelors</td>\n",
       "      <td>Married-civ-spouse</td>\n",
       "      <td>Prof-specialty</td>\n",
       "      <td>Wife</td>\n",
       "      <td>Black</td>\n",
       "      <td>Female</td>\n",
       "      <td>0</td>\n",
       "      <td>0</td>\n",
       "      <td>40</td>\n",
       "      <td>Cuba</td>\n",
       "      <td>&lt;=50K</td>\n",
       "    </tr>\n",
       "    <tr>\n",
       "      <th>...</th>\n",
       "      <td>...</td>\n",
       "      <td>...</td>\n",
       "      <td>...</td>\n",
       "      <td>...</td>\n",
       "      <td>...</td>\n",
       "      <td>...</td>\n",
       "      <td>...</td>\n",
       "      <td>...</td>\n",
       "      <td>...</td>\n",
       "      <td>...</td>\n",
       "      <td>...</td>\n",
       "      <td>...</td>\n",
       "      <td>...</td>\n",
       "      <td>...</td>\n",
       "    </tr>\n",
       "    <tr>\n",
       "      <th>32556</th>\n",
       "      <td>27</td>\n",
       "      <td>Private</td>\n",
       "      <td>257302</td>\n",
       "      <td>Assoc-acdm</td>\n",
       "      <td>Married-civ-spouse</td>\n",
       "      <td>Tech-support</td>\n",
       "      <td>Wife</td>\n",
       "      <td>White</td>\n",
       "      <td>Female</td>\n",
       "      <td>0</td>\n",
       "      <td>0</td>\n",
       "      <td>38</td>\n",
       "      <td>United-States</td>\n",
       "      <td>&lt;=50K</td>\n",
       "    </tr>\n",
       "    <tr>\n",
       "      <th>32557</th>\n",
       "      <td>40</td>\n",
       "      <td>Private</td>\n",
       "      <td>154374</td>\n",
       "      <td>HS-grad</td>\n",
       "      <td>Married-civ-spouse</td>\n",
       "      <td>Machine-op-inspct</td>\n",
       "      <td>Husband</td>\n",
       "      <td>White</td>\n",
       "      <td>Male</td>\n",
       "      <td>0</td>\n",
       "      <td>0</td>\n",
       "      <td>40</td>\n",
       "      <td>United-States</td>\n",
       "      <td>&gt;50K</td>\n",
       "    </tr>\n",
       "    <tr>\n",
       "      <th>32558</th>\n",
       "      <td>58</td>\n",
       "      <td>Private</td>\n",
       "      <td>151910</td>\n",
       "      <td>HS-grad</td>\n",
       "      <td>Widowed</td>\n",
       "      <td>Adm-clerical</td>\n",
       "      <td>Unmarried</td>\n",
       "      <td>White</td>\n",
       "      <td>Female</td>\n",
       "      <td>0</td>\n",
       "      <td>0</td>\n",
       "      <td>40</td>\n",
       "      <td>United-States</td>\n",
       "      <td>&lt;=50K</td>\n",
       "    </tr>\n",
       "    <tr>\n",
       "      <th>32559</th>\n",
       "      <td>22</td>\n",
       "      <td>Private</td>\n",
       "      <td>201490</td>\n",
       "      <td>HS-grad</td>\n",
       "      <td>Never-married</td>\n",
       "      <td>Adm-clerical</td>\n",
       "      <td>Own-child</td>\n",
       "      <td>White</td>\n",
       "      <td>Male</td>\n",
       "      <td>0</td>\n",
       "      <td>0</td>\n",
       "      <td>20</td>\n",
       "      <td>United-States</td>\n",
       "      <td>&lt;=50K</td>\n",
       "    </tr>\n",
       "    <tr>\n",
       "      <th>32560</th>\n",
       "      <td>52</td>\n",
       "      <td>Self-emp-inc</td>\n",
       "      <td>287927</td>\n",
       "      <td>HS-grad</td>\n",
       "      <td>Married-civ-spouse</td>\n",
       "      <td>Exec-managerial</td>\n",
       "      <td>Wife</td>\n",
       "      <td>White</td>\n",
       "      <td>Female</td>\n",
       "      <td>15024</td>\n",
       "      <td>0</td>\n",
       "      <td>40</td>\n",
       "      <td>United-States</td>\n",
       "      <td>&gt;50K</td>\n",
       "    </tr>\n",
       "  </tbody>\n",
       "</table>\n",
       "<p>32561 rows × 14 columns</p>\n",
       "</div>"
      ],
      "text/plain": [
       "       age          workclass   fnlwgt    education       marital-status  \\\n",
       "0       39          State-gov    77516    Bachelors        Never-married   \n",
       "1       50   Self-emp-not-inc    83311    Bachelors   Married-civ-spouse   \n",
       "2       38            Private   215646      HS-grad             Divorced   \n",
       "3       53            Private   234721         11th   Married-civ-spouse   \n",
       "4       28            Private   338409    Bachelors   Married-civ-spouse   \n",
       "...    ...                ...      ...          ...                  ...   \n",
       "32556   27            Private   257302   Assoc-acdm   Married-civ-spouse   \n",
       "32557   40            Private   154374      HS-grad   Married-civ-spouse   \n",
       "32558   58            Private   151910      HS-grad              Widowed   \n",
       "32559   22            Private   201490      HS-grad        Never-married   \n",
       "32560   52       Self-emp-inc   287927      HS-grad   Married-civ-spouse   \n",
       "\n",
       "               occupation    relationship    race      sex   capital-gain  \\\n",
       "0            Adm-clerical   Not-in-family   White     Male           2174   \n",
       "1         Exec-managerial         Husband   White     Male              0   \n",
       "2       Handlers-cleaners   Not-in-family   White     Male              0   \n",
       "3       Handlers-cleaners         Husband   Black     Male              0   \n",
       "4          Prof-specialty            Wife   Black   Female              0   \n",
       "...                   ...             ...     ...      ...            ...   \n",
       "32556        Tech-support            Wife   White   Female              0   \n",
       "32557   Machine-op-inspct         Husband   White     Male              0   \n",
       "32558        Adm-clerical       Unmarried   White   Female              0   \n",
       "32559        Adm-clerical       Own-child   White     Male              0   \n",
       "32560     Exec-managerial            Wife   White   Female          15024   \n",
       "\n",
       "        capital-loss   hours-per-week  native-country  salary  \n",
       "0                  0               40   United-States   <=50K  \n",
       "1                  0               13   United-States   <=50K  \n",
       "2                  0               40   United-States   <=50K  \n",
       "3                  0               40   United-States   <=50K  \n",
       "4                  0               40            Cuba   <=50K  \n",
       "...              ...              ...             ...     ...  \n",
       "32556              0               38   United-States   <=50K  \n",
       "32557              0               40   United-States    >50K  \n",
       "32558              0               40   United-States   <=50K  \n",
       "32559              0               20   United-States   <=50K  \n",
       "32560              0               40   United-States    >50K  \n",
       "\n",
       "[32561 rows x 14 columns]"
      ]
     },
     "execution_count": 69,
     "metadata": {},
     "output_type": "execute_result"
    }
   ],
   "source": [
    "data1 = pd.read_csv(\"American_Income.csv\")\n",
    "data_for_test = data1.drop(columns=[' education-num'])\n",
    "\n",
    "data_for_test"
   ]
  },
  {
   "cell_type": "code",
   "execution_count": 70,
   "metadata": {},
   "outputs": [
    {
     "name": "stderr",
     "output_type": "stream",
     "text": [
      "Creating report: 100%|██████████| 4/4 [00:00<00:00,  5.14it/s]\n"
     ]
    },
    {
     "name": "stdout",
     "output_type": "stream",
     "text": [
      "\n",
      "Overall Quality Score: 87.67%\n",
      "\n",
      "Properties:\n",
      "Column Shapes: 90.2%\n",
      "Column Pair Trends: 85.14%\n"
     ]
    }
   ],
   "source": [
    "metadata1 = SingleTableMetadata()\n",
    "metadata1.detect_from_dataframe(data = data_for_test)\n",
    "baseline_quality_report = evaluate_quality(\n",
    "    data_for_test,  #real data\n",
    "    synthetic_df_full_filled, #synthetic data(perfect synthesizer generated(holdout))\n",
    "    metadata1\n",
    ")"
   ]
  },
  {
   "cell_type": "code",
   "execution_count": 57,
   "metadata": {},
   "outputs": [
    {
     "data": {
      "text/html": [
       "<div>\n",
       "<style scoped>\n",
       "    .dataframe tbody tr th:only-of-type {\n",
       "        vertical-align: middle;\n",
       "    }\n",
       "\n",
       "    .dataframe tbody tr th {\n",
       "        vertical-align: top;\n",
       "    }\n",
       "\n",
       "    .dataframe thead th {\n",
       "        text-align: right;\n",
       "    }\n",
       "</style>\n",
       "<table border=\"1\" class=\"dataframe\">\n",
       "  <thead>\n",
       "    <tr style=\"text-align: right;\">\n",
       "      <th></th>\n",
       "      <th>age</th>\n",
       "      <th>workclass</th>\n",
       "      <th>fnlwgt</th>\n",
       "      <th>education</th>\n",
       "      <th>marital-status</th>\n",
       "      <th>occupation</th>\n",
       "      <th>relationship</th>\n",
       "      <th>race</th>\n",
       "      <th>sex</th>\n",
       "      <th>capital-gain</th>\n",
       "      <th>capital-loss</th>\n",
       "      <th>hours-per-week</th>\n",
       "      <th>native-country</th>\n",
       "      <th>salary</th>\n",
       "    </tr>\n",
       "  </thead>\n",
       "  <tbody>\n",
       "    <tr>\n",
       "      <th>0</th>\n",
       "      <td>44</td>\n",
       "      <td>Private</td>\n",
       "      <td>137738</td>\n",
       "      <td>HS-grad</td>\n",
       "      <td>Divorced</td>\n",
       "      <td>Transport-moving</td>\n",
       "      <td>Own-child</td>\n",
       "      <td>White</td>\n",
       "      <td>Female</td>\n",
       "      <td>87580</td>\n",
       "      <td>23</td>\n",
       "      <td>55</td>\n",
       "      <td>United-States</td>\n",
       "      <td>&gt;50K</td>\n",
       "    </tr>\n",
       "    <tr>\n",
       "      <th>1</th>\n",
       "      <td>33</td>\n",
       "      <td>Federal-gov</td>\n",
       "      <td>144753</td>\n",
       "      <td>11th</td>\n",
       "      <td>Married-civ-spouse</td>\n",
       "      <td>Exec-managerial</td>\n",
       "      <td>Unmarried</td>\n",
       "      <td>White</td>\n",
       "      <td>Female</td>\n",
       "      <td>5255</td>\n",
       "      <td>0</td>\n",
       "      <td>60</td>\n",
       "      <td>United-States</td>\n",
       "      <td>&lt;=50K</td>\n",
       "    </tr>\n",
       "    <tr>\n",
       "      <th>2</th>\n",
       "      <td>22</td>\n",
       "      <td>Private</td>\n",
       "      <td>263046</td>\n",
       "      <td>Prof-school</td>\n",
       "      <td>Married-civ-spouse</td>\n",
       "      <td>Transport-moving</td>\n",
       "      <td>Husband</td>\n",
       "      <td>White</td>\n",
       "      <td>Male</td>\n",
       "      <td>51338</td>\n",
       "      <td>0</td>\n",
       "      <td>49</td>\n",
       "      <td>United-States</td>\n",
       "      <td>&gt;50K</td>\n",
       "    </tr>\n",
       "    <tr>\n",
       "      <th>3</th>\n",
       "      <td>47</td>\n",
       "      <td>Local-gov</td>\n",
       "      <td>142107</td>\n",
       "      <td>9th</td>\n",
       "      <td>Divorced</td>\n",
       "      <td>Prof-specialty</td>\n",
       "      <td>Own-child</td>\n",
       "      <td>Black</td>\n",
       "      <td>Female</td>\n",
       "      <td>49060</td>\n",
       "      <td>0</td>\n",
       "      <td>32</td>\n",
       "      <td>United-States</td>\n",
       "      <td>&lt;=50K</td>\n",
       "    </tr>\n",
       "    <tr>\n",
       "      <th>4</th>\n",
       "      <td>24</td>\n",
       "      <td>Federal-gov</td>\n",
       "      <td>342515</td>\n",
       "      <td>Bachelors</td>\n",
       "      <td>Never-married</td>\n",
       "      <td>Transport-moving</td>\n",
       "      <td>Unmarried</td>\n",
       "      <td>Black</td>\n",
       "      <td>Male</td>\n",
       "      <td>3978</td>\n",
       "      <td>62</td>\n",
       "      <td>39</td>\n",
       "      <td>India</td>\n",
       "      <td>&lt;=50K</td>\n",
       "    </tr>\n",
       "    <tr>\n",
       "      <th>...</th>\n",
       "      <td>...</td>\n",
       "      <td>...</td>\n",
       "      <td>...</td>\n",
       "      <td>...</td>\n",
       "      <td>...</td>\n",
       "      <td>...</td>\n",
       "      <td>...</td>\n",
       "      <td>...</td>\n",
       "      <td>...</td>\n",
       "      <td>...</td>\n",
       "      <td>...</td>\n",
       "      <td>...</td>\n",
       "      <td>...</td>\n",
       "      <td>...</td>\n",
       "    </tr>\n",
       "    <tr>\n",
       "      <th>32556</th>\n",
       "      <td>42</td>\n",
       "      <td>Federal-gov</td>\n",
       "      <td>74028</td>\n",
       "      <td>Masters</td>\n",
       "      <td>Married-spouse-absent</td>\n",
       "      <td>Transport-moving</td>\n",
       "      <td>Unmarried</td>\n",
       "      <td>White</td>\n",
       "      <td>Female</td>\n",
       "      <td>99592</td>\n",
       "      <td>0</td>\n",
       "      <td>38</td>\n",
       "      <td>United-States</td>\n",
       "      <td>&lt;=50K</td>\n",
       "    </tr>\n",
       "    <tr>\n",
       "      <th>32557</th>\n",
       "      <td>21</td>\n",
       "      <td>Private</td>\n",
       "      <td>142426</td>\n",
       "      <td>Assoc-acdm</td>\n",
       "      <td>Never-married</td>\n",
       "      <td>Exec-managerial</td>\n",
       "      <td>Not-in-family</td>\n",
       "      <td>Black</td>\n",
       "      <td>Female</td>\n",
       "      <td>536</td>\n",
       "      <td>0</td>\n",
       "      <td>33</td>\n",
       "      <td>United-States</td>\n",
       "      <td>&lt;=50K</td>\n",
       "    </tr>\n",
       "    <tr>\n",
       "      <th>32558</th>\n",
       "      <td>33</td>\n",
       "      <td>State-gov</td>\n",
       "      <td>106801</td>\n",
       "      <td>Masters</td>\n",
       "      <td>Never-married</td>\n",
       "      <td>Handlers-cleaners</td>\n",
       "      <td>Husband</td>\n",
       "      <td>White</td>\n",
       "      <td>Female</td>\n",
       "      <td>26961</td>\n",
       "      <td>0</td>\n",
       "      <td>24</td>\n",
       "      <td>United-States</td>\n",
       "      <td>&lt;=50K</td>\n",
       "    </tr>\n",
       "    <tr>\n",
       "      <th>32559</th>\n",
       "      <td>49</td>\n",
       "      <td>?</td>\n",
       "      <td>148553</td>\n",
       "      <td>7th-8th</td>\n",
       "      <td>Married-civ-spouse</td>\n",
       "      <td>?</td>\n",
       "      <td>Own-child</td>\n",
       "      <td>White</td>\n",
       "      <td>Male</td>\n",
       "      <td>62266</td>\n",
       "      <td>112</td>\n",
       "      <td>39</td>\n",
       "      <td>Cuba</td>\n",
       "      <td>&gt;50K</td>\n",
       "    </tr>\n",
       "    <tr>\n",
       "      <th>32560</th>\n",
       "      <td>37</td>\n",
       "      <td>?</td>\n",
       "      <td>168736</td>\n",
       "      <td>11th</td>\n",
       "      <td>Married-civ-spouse</td>\n",
       "      <td>Tech-support</td>\n",
       "      <td>Husband</td>\n",
       "      <td>White</td>\n",
       "      <td>Female</td>\n",
       "      <td>2268</td>\n",
       "      <td>1</td>\n",
       "      <td>46</td>\n",
       "      <td>United-States</td>\n",
       "      <td>&lt;=50K</td>\n",
       "    </tr>\n",
       "  </tbody>\n",
       "</table>\n",
       "<p>32561 rows × 14 columns</p>\n",
       "</div>"
      ],
      "text/plain": [
       "       age     workclass   fnlwgt     education          marital-status  \\\n",
       "0       44       Private   137738       HS-grad                Divorced   \n",
       "1       33   Federal-gov   144753          11th      Married-civ-spouse   \n",
       "2       22       Private   263046   Prof-school      Married-civ-spouse   \n",
       "3       47     Local-gov   142107           9th                Divorced   \n",
       "4       24   Federal-gov   342515     Bachelors           Never-married   \n",
       "...    ...           ...      ...           ...                     ...   \n",
       "32556   42   Federal-gov    74028       Masters   Married-spouse-absent   \n",
       "32557   21       Private   142426    Assoc-acdm           Never-married   \n",
       "32558   33     State-gov   106801       Masters           Never-married   \n",
       "32559   49             ?   148553       7th-8th      Married-civ-spouse   \n",
       "32560   37             ?   168736          11th      Married-civ-spouse   \n",
       "\n",
       "               occupation    relationship    race      sex   capital-gain  \\\n",
       "0        Transport-moving       Own-child   White   Female          87580   \n",
       "1         Exec-managerial       Unmarried   White   Female           5255   \n",
       "2        Transport-moving         Husband   White     Male          51338   \n",
       "3          Prof-specialty       Own-child   Black   Female          49060   \n",
       "4        Transport-moving       Unmarried   Black     Male           3978   \n",
       "...                   ...             ...     ...      ...            ...   \n",
       "32556    Transport-moving       Unmarried   White   Female          99592   \n",
       "32557     Exec-managerial   Not-in-family   Black   Female            536   \n",
       "32558   Handlers-cleaners         Husband   White   Female          26961   \n",
       "32559                   ?       Own-child   White     Male          62266   \n",
       "32560        Tech-support         Husband   White   Female           2268   \n",
       "\n",
       "        capital-loss   hours-per-week  native-country  salary  \n",
       "0                 23               55   United-States    >50K  \n",
       "1                  0               60   United-States   <=50K  \n",
       "2                  0               49   United-States    >50K  \n",
       "3                  0               32   United-States   <=50K  \n",
       "4                 62               39           India   <=50K  \n",
       "...              ...              ...             ...     ...  \n",
       "32556              0               38   United-States   <=50K  \n",
       "32557              0               33   United-States   <=50K  \n",
       "32558              0               24   United-States   <=50K  \n",
       "32559            112               39            Cuba    >50K  \n",
       "32560              1               46   United-States   <=50K  \n",
       "\n",
       "[32561 rows x 14 columns]"
      ]
     },
     "execution_count": 57,
     "metadata": {},
     "output_type": "execute_result"
    }
   ],
   "source": [
    "metadata1 = SingleTableMetadata()\n",
    "\n",
    "metadata1.detect_from_dataframe(data = data_for_test)\n",
    "synthesier = GaussianCopulaSynthesizer(metadata1)\n",
    "synthesier.fit(data_for_test)\n",
    "synthetic_data = synthesier.sample(num_rows = num_rows)  #keep the number of rows equal to the data hold\n",
    "synthetic_data "
   ]
  },
  {
   "cell_type": "code",
   "execution_count": 59,
   "metadata": {},
   "outputs": [
    {
     "data": {
      "text/plain": [
       "{\n",
       "    \"columns\": {\n",
       "        \"age\": {\n",
       "            \"sdtype\": \"numerical\"\n",
       "        },\n",
       "        \" workclass\": {\n",
       "            \"sdtype\": \"categorical\"\n",
       "        },\n",
       "        \" fnlwgt\": {\n",
       "            \"sdtype\": \"numerical\"\n",
       "        },\n",
       "        \" education\": {\n",
       "            \"sdtype\": \"categorical\"\n",
       "        },\n",
       "        \" marital-status\": {\n",
       "            \"sdtype\": \"categorical\"\n",
       "        },\n",
       "        \" occupation\": {\n",
       "            \"sdtype\": \"categorical\"\n",
       "        },\n",
       "        \" relationship\": {\n",
       "            \"sdtype\": \"categorical\"\n",
       "        },\n",
       "        \" race\": {\n",
       "            \"sdtype\": \"categorical\"\n",
       "        },\n",
       "        \" sex\": {\n",
       "            \"sdtype\": \"categorical\"\n",
       "        },\n",
       "        \" capital-gain\": {\n",
       "            \"sdtype\": \"numerical\"\n",
       "        },\n",
       "        \" capital-loss\": {\n",
       "            \"sdtype\": \"numerical\"\n",
       "        },\n",
       "        \" hours-per-week\": {\n",
       "            \"sdtype\": \"numerical\"\n",
       "        },\n",
       "        \" native-country\": {\n",
       "            \"sdtype\": \"categorical\"\n",
       "        },\n",
       "        \" salary\": {\n",
       "            \"sdtype\": \"categorical\"\n",
       "        }\n",
       "    },\n",
       "    \"METADATA_SPEC_VERSION\": \"SINGLE_TABLE_V1\"\n",
       "}"
      ]
     },
     "execution_count": 59,
     "metadata": {},
     "output_type": "execute_result"
    }
   ],
   "source": [
    "metadata1"
   ]
  },
  {
   "cell_type": "code",
   "execution_count": 58,
   "metadata": {},
   "outputs": [
    {
     "name": "stderr",
     "output_type": "stream",
     "text": [
      "Creating report: 100%|██████████| 4/4 [00:00<00:00,  4.01it/s]\n"
     ]
    },
    {
     "name": "stdout",
     "output_type": "stream",
     "text": [
      "\n",
      "Overall Quality Score: 71.81%\n",
      "\n",
      "Properties:\n",
      "Column Shapes: 74.55%\n",
      "Column Pair Trends: 69.07%\n"
     ]
    }
   ],
   "source": [
    "metadata1 = SingleTableMetadata()\n",
    "metadata1.detect_from_dataframe(data = data_for_test)\n",
    "baseline_quality_report = evaluate_quality(\n",
    "    data_for_test,  #real data\n",
    "    synthetic_data, #synthetic data(perfect synthesizer generated(holdout))\n",
    "    metadata1\n",
    ")"
   ]
  }
 ],
 "metadata": {
  "kernelspec": {
   "display_name": "Python 3.11.0 64-bit",
   "language": "python",
   "name": "python3"
  },
  "language_info": {
   "codemirror_mode": {
    "name": "ipython",
    "version": 3
   },
   "file_extension": ".py",
   "mimetype": "text/x-python",
   "name": "python",
   "nbconvert_exporter": "python",
   "pygments_lexer": "ipython3",
   "version": "3.8.10"
  },
  "vscode": {
   "interpreter": {
    "hash": "1a1af0ee75eeea9e2e1ee996c87e7a2b11a0bebd85af04bb136d915cefc0abce"
   }
  }
 },
 "nbformat": 4,
 "nbformat_minor": 2
}
