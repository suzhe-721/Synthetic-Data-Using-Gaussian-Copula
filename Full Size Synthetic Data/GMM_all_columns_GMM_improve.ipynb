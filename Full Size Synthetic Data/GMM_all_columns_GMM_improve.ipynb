{
 "cells": [
  {
   "cell_type": "code",
   "execution_count": 17,
   "metadata": {},
   "outputs": [],
   "source": [
    "import numpy as np\n",
    "\n",
    "import matplotlib.pyplot as plt\n",
    "\n",
    "import pandas as pd\n",
    "\n",
    "from collections import defaultdict\n",
    "from scipy.stats import kstest, norm, uniform, beta, expon, truncnorm\n",
    "\n",
    "from scipy.optimize import brentq\n",
    "\n",
    "from tqdm import tqdm\n",
    "from sklearn.mixture import GaussianMixture\n",
    "import scipy.stats as stats\n",
    "import sdv\n",
    "from sdv.metadata import SingleTableMetadata\n",
    "from sdv.evaluation.single_table import evaluate_quality\n",
    "from sdv.single_table import GaussianCopulaSynthesizer\n",
    "tqdm.pandas()\n",
    "from sklearn.preprocessing import StandardScaler, OneHotEncoder\n",
    "\n",
    "from sklearn.cluster import KMeans\n",
    "import warnings\n",
    "warnings.filterwarnings(action='ignore')\n",
    "import seaborn as sns"
   ]
  },
  {
   "cell_type": "code",
   "execution_count": 2,
   "metadata": {},
   "outputs": [],
   "source": [
    "data = pd.read_csv('American_Income.csv')"
   ]
  },
  {
   "cell_type": "code",
   "execution_count": 3,
   "metadata": {},
   "outputs": [],
   "source": [
    "data_info = data.dtypes.to_dict()\n",
    "num_column = []\n",
    "category_column = []\n",
    "for key in data_info.keys():\n",
    "    if data_info[key] == 'int64':\n",
    "        num_column.append(key)\n",
    "    if data_info[key] == 'object':\n",
    "        category_column.append(key)"
   ]
  },
  {
   "cell_type": "code",
   "execution_count": 4,
   "metadata": {},
   "outputs": [],
   "source": [
    "## all functions\n",
    "\n",
    "def findBestComp(data):\n",
    "    bic = []\n",
    "    n_components_range = range(1, 11)\n",
    "    for n_components in n_components_range:\n",
    "        gmm = GaussianMixture(n_components=n_components)\n",
    "        gmm.fit(data.values.reshape(-1, 1))\n",
    "        bic.append(gmm.bic(data.values.reshape(-1, 1)))\n",
    "\n",
    "    optimal_components = n_components_range[np.argmin(bic)]\n",
    "\n",
    "    return optimal_components\n",
    "\n",
    "\n",
    "def gmm_cdf(x, gmm):\n",
    "    \"\"\"\n",
    "    Compute the CDF of the GMM at point x.\n",
    "    \n",
    "    Parameters:\n",
    "    - x: Point at which to evaluate the CDF\n",
    "    - gmm: Fitted GaussianMixture object\n",
    "    \n",
    "    Returns:\n",
    "    - CDF value at point x\n",
    "    \"\"\"\n",
    "    cdf_value = 0\n",
    "    for weight, mean, covariance in zip(gmm.weights_, gmm.means_, gmm.covariances_):\n",
    "        cdf_value += weight * stats.norm.cdf(x, mean, np.sqrt(covariance)) \n",
    "    return cdf_value[0][0]\n",
    "\n",
    "\n",
    "def gaussian_inverse_cdf(p_values):\n",
    "    return norm.ppf(p_values)\n",
    "\n",
    "\n",
    "def get_truncated_normal(mean=0, sd=1, low=0, upp=10):\n",
    "    \"\"\" Return a truncated normal distribution. \"\"\"\n",
    "    return truncnorm((low - mean) / sd, (upp - mean) / sd, loc=mean, scale=sd)\n",
    "\n",
    "def assign_intervals(categories):\n",
    "    \"\"\" Assign intervals to categories based on their frequency. \"\"\"\n",
    "    freq = categories.value_counts(normalize=True)\n",
    "    intervals = freq.cumsum()\n",
    "    category_intervals = {}\n",
    "    a = 0\n",
    "    for category, cum_freq in intervals.items():\n",
    "        b = cum_freq\n",
    "        category_intervals[category] = (a, b)\n",
    "        a = b\n",
    "    return category_intervals\n",
    "\n",
    "def sample_from_category(category, category_intervals):\n",
    "    \"\"\" Sample a numerical value for a given category. \"\"\"\n",
    "    a, b = category_intervals[category]\n",
    "    mean = (a + b) / 2\n",
    "    sd = (b - a) / 6\n",
    "    dist = get_truncated_normal(mean, sd, a, b)\n",
    "    return dist.rvs()\n",
    "\n",
    "\n",
    "def gmm_cdf_dict(x, gmm):\n",
    "    \"\"\"\n",
    "    Compute the CDF of the GMM at point x using a dictionary to represent the GMM parameters.\n",
    "    \n",
    "    Parameters:\n",
    "    - x: Point at which to evaluate the CDF\n",
    "    - gmm: Dictionary with GMM parameters\n",
    "    \n",
    "    Returns:\n",
    "    - CDF value at point x\n",
    "    \"\"\"\n",
    "    cdf_value = 0\n",
    "    for weight, mean, covariance in zip(gmm['weights_'], gmm['means_'], gmm['covariances_']):\n",
    "        cdf_value += weight * norm.cdf(x, mean, np.sqrt(covariance))\n",
    "    return cdf_value\n",
    "\n",
    "def check_cdf_bounds(gmm, bounds, probabilities):\n",
    "    results = []\n",
    "    for p in probabilities:\n",
    "        cdf_lower = gmm_cdf_dict(bounds[0], gmm)\n",
    "        cdf_upper = gmm_cdf_dict(bounds[1], gmm)\n",
    "        results.append((p, cdf_lower, cdf_upper, np.sign(cdf_lower - p), np.sign(cdf_upper - p)))\n",
    "    return results\n",
    "\n",
    "\n",
    "def compute_gmm_bounds(gmm, num_std=3):\n",
    "    \"\"\"\n",
    "    Compute bounds for the GMM based on standard deviations from the mean.\n",
    "    \n",
    "    Parameters:\n",
    "    - gmm: Dictionary with GMM parameters\n",
    "    - num_std: Number of standard deviations to use for bounds\n",
    "    \n",
    "    Returns:\n",
    "    - A tuple (lower_bound, upper_bound)\n",
    "    \"\"\"\n",
    "    means = gmm['means_'].flatten()\n",
    "    stds = np.sqrt(gmm['covariances_'].flatten())\n",
    "    \n",
    "    lower_bounds = means - num_std * stds\n",
    "    upper_bounds = means + num_std * stds\n",
    "    \n",
    "    lower_bound = min(lower_bounds)\n",
    "    upper_bound = max(upper_bounds)\n",
    "    \n",
    "    return lower_bound, upper_bound\n",
    "\n",
    "def sample(F_inv, Sigma):\n",
    "    \"\"\"\n",
    "    Sample numerical values from the distribution and covariances of the columns.\n",
    "    \n",
    "    Parameters:\n",
    "    - F_inv: A list of inverse CDF functions for the marginals.\n",
    "    - Sigma: The covariance matrix.\n",
    "    \n",
    "    Returns:\n",
    "    - A sample vector x in the original space.\n",
    "    \"\"\"\n",
    "    # Step 2: Random n-dimensional Gaussian vector\n",
    "    n = Sigma.shape[0]\n",
    "    v = np.random.randn(n)\n",
    "    \n",
    "    # Step 3: Cholesky decomposition\n",
    "    L = np.linalg.cholesky(Sigma)\n",
    "    \n",
    "    # Step 4: u ← Lv\n",
    "    u = L.dot(v)\n",
    "    \n",
    "    # Step 5: x ← [F_0^(-1)(Φ(u_0)), F_1^(-1)(Φ(u_1)), ..., F_n^(-1)(Φ(u_n))]\n",
    "    x = [F_inv_i(norm.cdf(u_i)) for F_inv_i, u_i in zip(F_inv, u)]\n",
    "    \n",
    "    return x\n",
    "\n"
   ]
  },
  {
   "cell_type": "code",
   "execution_count": 5,
   "metadata": {},
   "outputs": [
    {
     "data": {
      "text/html": [
       "<div>\n",
       "<style scoped>\n",
       "    .dataframe tbody tr th:only-of-type {\n",
       "        vertical-align: middle;\n",
       "    }\n",
       "\n",
       "    .dataframe tbody tr th {\n",
       "        vertical-align: top;\n",
       "    }\n",
       "\n",
       "    .dataframe thead th {\n",
       "        text-align: right;\n",
       "    }\n",
       "</style>\n",
       "<table border=\"1\" class=\"dataframe\">\n",
       "  <thead>\n",
       "    <tr style=\"text-align: right;\">\n",
       "      <th></th>\n",
       "      <th>age</th>\n",
       "      <th>workclass</th>\n",
       "      <th>fnlwgt</th>\n",
       "      <th>education</th>\n",
       "      <th>education-num</th>\n",
       "      <th>marital-status</th>\n",
       "      <th>occupation</th>\n",
       "      <th>relationship</th>\n",
       "      <th>race</th>\n",
       "      <th>sex</th>\n",
       "      <th>capital-gain</th>\n",
       "      <th>capital-loss</th>\n",
       "      <th>hours-per-week</th>\n",
       "      <th>native-country</th>\n",
       "      <th>salary</th>\n",
       "    </tr>\n",
       "  </thead>\n",
       "  <tbody>\n",
       "    <tr>\n",
       "      <th>0</th>\n",
       "      <td>39</td>\n",
       "      <td>State-gov</td>\n",
       "      <td>77516</td>\n",
       "      <td>Bachelors</td>\n",
       "      <td>13</td>\n",
       "      <td>Never-married</td>\n",
       "      <td>Adm-clerical</td>\n",
       "      <td>Not-in-family</td>\n",
       "      <td>White</td>\n",
       "      <td>Male</td>\n",
       "      <td>2174</td>\n",
       "      <td>0</td>\n",
       "      <td>40</td>\n",
       "      <td>United-States</td>\n",
       "      <td>&lt;=50K</td>\n",
       "    </tr>\n",
       "    <tr>\n",
       "      <th>1</th>\n",
       "      <td>50</td>\n",
       "      <td>Self-emp-not-inc</td>\n",
       "      <td>83311</td>\n",
       "      <td>Bachelors</td>\n",
       "      <td>13</td>\n",
       "      <td>Married-civ-spouse</td>\n",
       "      <td>Exec-managerial</td>\n",
       "      <td>Husband</td>\n",
       "      <td>White</td>\n",
       "      <td>Male</td>\n",
       "      <td>0</td>\n",
       "      <td>0</td>\n",
       "      <td>13</td>\n",
       "      <td>United-States</td>\n",
       "      <td>&lt;=50K</td>\n",
       "    </tr>\n",
       "    <tr>\n",
       "      <th>2</th>\n",
       "      <td>38</td>\n",
       "      <td>Private</td>\n",
       "      <td>215646</td>\n",
       "      <td>HS-grad</td>\n",
       "      <td>9</td>\n",
       "      <td>Divorced</td>\n",
       "      <td>Handlers-cleaners</td>\n",
       "      <td>Not-in-family</td>\n",
       "      <td>White</td>\n",
       "      <td>Male</td>\n",
       "      <td>0</td>\n",
       "      <td>0</td>\n",
       "      <td>40</td>\n",
       "      <td>United-States</td>\n",
       "      <td>&lt;=50K</td>\n",
       "    </tr>\n",
       "    <tr>\n",
       "      <th>3</th>\n",
       "      <td>53</td>\n",
       "      <td>Private</td>\n",
       "      <td>234721</td>\n",
       "      <td>11th</td>\n",
       "      <td>7</td>\n",
       "      <td>Married-civ-spouse</td>\n",
       "      <td>Handlers-cleaners</td>\n",
       "      <td>Husband</td>\n",
       "      <td>Black</td>\n",
       "      <td>Male</td>\n",
       "      <td>0</td>\n",
       "      <td>0</td>\n",
       "      <td>40</td>\n",
       "      <td>United-States</td>\n",
       "      <td>&lt;=50K</td>\n",
       "    </tr>\n",
       "    <tr>\n",
       "      <th>4</th>\n",
       "      <td>28</td>\n",
       "      <td>Private</td>\n",
       "      <td>338409</td>\n",
       "      <td>Bachelors</td>\n",
       "      <td>13</td>\n",
       "      <td>Married-civ-spouse</td>\n",
       "      <td>Prof-specialty</td>\n",
       "      <td>Wife</td>\n",
       "      <td>Black</td>\n",
       "      <td>Female</td>\n",
       "      <td>0</td>\n",
       "      <td>0</td>\n",
       "      <td>40</td>\n",
       "      <td>Cuba</td>\n",
       "      <td>&lt;=50K</td>\n",
       "    </tr>\n",
       "    <tr>\n",
       "      <th>...</th>\n",
       "      <td>...</td>\n",
       "      <td>...</td>\n",
       "      <td>...</td>\n",
       "      <td>...</td>\n",
       "      <td>...</td>\n",
       "      <td>...</td>\n",
       "      <td>...</td>\n",
       "      <td>...</td>\n",
       "      <td>...</td>\n",
       "      <td>...</td>\n",
       "      <td>...</td>\n",
       "      <td>...</td>\n",
       "      <td>...</td>\n",
       "      <td>...</td>\n",
       "      <td>...</td>\n",
       "    </tr>\n",
       "    <tr>\n",
       "      <th>32556</th>\n",
       "      <td>27</td>\n",
       "      <td>Private</td>\n",
       "      <td>257302</td>\n",
       "      <td>Assoc-acdm</td>\n",
       "      <td>12</td>\n",
       "      <td>Married-civ-spouse</td>\n",
       "      <td>Tech-support</td>\n",
       "      <td>Wife</td>\n",
       "      <td>White</td>\n",
       "      <td>Female</td>\n",
       "      <td>0</td>\n",
       "      <td>0</td>\n",
       "      <td>38</td>\n",
       "      <td>United-States</td>\n",
       "      <td>&lt;=50K</td>\n",
       "    </tr>\n",
       "    <tr>\n",
       "      <th>32557</th>\n",
       "      <td>40</td>\n",
       "      <td>Private</td>\n",
       "      <td>154374</td>\n",
       "      <td>HS-grad</td>\n",
       "      <td>9</td>\n",
       "      <td>Married-civ-spouse</td>\n",
       "      <td>Machine-op-inspct</td>\n",
       "      <td>Husband</td>\n",
       "      <td>White</td>\n",
       "      <td>Male</td>\n",
       "      <td>0</td>\n",
       "      <td>0</td>\n",
       "      <td>40</td>\n",
       "      <td>United-States</td>\n",
       "      <td>&gt;50K</td>\n",
       "    </tr>\n",
       "    <tr>\n",
       "      <th>32558</th>\n",
       "      <td>58</td>\n",
       "      <td>Private</td>\n",
       "      <td>151910</td>\n",
       "      <td>HS-grad</td>\n",
       "      <td>9</td>\n",
       "      <td>Widowed</td>\n",
       "      <td>Adm-clerical</td>\n",
       "      <td>Unmarried</td>\n",
       "      <td>White</td>\n",
       "      <td>Female</td>\n",
       "      <td>0</td>\n",
       "      <td>0</td>\n",
       "      <td>40</td>\n",
       "      <td>United-States</td>\n",
       "      <td>&lt;=50K</td>\n",
       "    </tr>\n",
       "    <tr>\n",
       "      <th>32559</th>\n",
       "      <td>22</td>\n",
       "      <td>Private</td>\n",
       "      <td>201490</td>\n",
       "      <td>HS-grad</td>\n",
       "      <td>9</td>\n",
       "      <td>Never-married</td>\n",
       "      <td>Adm-clerical</td>\n",
       "      <td>Own-child</td>\n",
       "      <td>White</td>\n",
       "      <td>Male</td>\n",
       "      <td>0</td>\n",
       "      <td>0</td>\n",
       "      <td>20</td>\n",
       "      <td>United-States</td>\n",
       "      <td>&lt;=50K</td>\n",
       "    </tr>\n",
       "    <tr>\n",
       "      <th>32560</th>\n",
       "      <td>52</td>\n",
       "      <td>Self-emp-inc</td>\n",
       "      <td>287927</td>\n",
       "      <td>HS-grad</td>\n",
       "      <td>9</td>\n",
       "      <td>Married-civ-spouse</td>\n",
       "      <td>Exec-managerial</td>\n",
       "      <td>Wife</td>\n",
       "      <td>White</td>\n",
       "      <td>Female</td>\n",
       "      <td>15024</td>\n",
       "      <td>0</td>\n",
       "      <td>40</td>\n",
       "      <td>United-States</td>\n",
       "      <td>&gt;50K</td>\n",
       "    </tr>\n",
       "  </tbody>\n",
       "</table>\n",
       "<p>32561 rows × 15 columns</p>\n",
       "</div>"
      ],
      "text/plain": [
       "       age          workclass   fnlwgt    education   education-num  \\\n",
       "0       39          State-gov    77516    Bachelors              13   \n",
       "1       50   Self-emp-not-inc    83311    Bachelors              13   \n",
       "2       38            Private   215646      HS-grad               9   \n",
       "3       53            Private   234721         11th               7   \n",
       "4       28            Private   338409    Bachelors              13   \n",
       "...    ...                ...      ...          ...             ...   \n",
       "32556   27            Private   257302   Assoc-acdm              12   \n",
       "32557   40            Private   154374      HS-grad               9   \n",
       "32558   58            Private   151910      HS-grad               9   \n",
       "32559   22            Private   201490      HS-grad               9   \n",
       "32560   52       Self-emp-inc   287927      HS-grad               9   \n",
       "\n",
       "            marital-status          occupation    relationship    race  \\\n",
       "0            Never-married        Adm-clerical   Not-in-family   White   \n",
       "1       Married-civ-spouse     Exec-managerial         Husband   White   \n",
       "2                 Divorced   Handlers-cleaners   Not-in-family   White   \n",
       "3       Married-civ-spouse   Handlers-cleaners         Husband   Black   \n",
       "4       Married-civ-spouse      Prof-specialty            Wife   Black   \n",
       "...                    ...                 ...             ...     ...   \n",
       "32556   Married-civ-spouse        Tech-support            Wife   White   \n",
       "32557   Married-civ-spouse   Machine-op-inspct         Husband   White   \n",
       "32558              Widowed        Adm-clerical       Unmarried   White   \n",
       "32559        Never-married        Adm-clerical       Own-child   White   \n",
       "32560   Married-civ-spouse     Exec-managerial            Wife   White   \n",
       "\n",
       "           sex   capital-gain   capital-loss   hours-per-week  native-country  \\\n",
       "0         Male           2174              0               40   United-States   \n",
       "1         Male              0              0               13   United-States   \n",
       "2         Male              0              0               40   United-States   \n",
       "3         Male              0              0               40   United-States   \n",
       "4       Female              0              0               40            Cuba   \n",
       "...        ...            ...            ...              ...             ...   \n",
       "32556   Female              0              0               38   United-States   \n",
       "32557     Male              0              0               40   United-States   \n",
       "32558   Female              0              0               40   United-States   \n",
       "32559     Male              0              0               20   United-States   \n",
       "32560   Female          15024              0               40   United-States   \n",
       "\n",
       "       salary  \n",
       "0       <=50K  \n",
       "1       <=50K  \n",
       "2       <=50K  \n",
       "3       <=50K  \n",
       "4       <=50K  \n",
       "...       ...  \n",
       "32556   <=50K  \n",
       "32557    >50K  \n",
       "32558   <=50K  \n",
       "32559   <=50K  \n",
       "32560    >50K  \n",
       "\n",
       "[32561 rows x 15 columns]"
      ]
     },
     "execution_count": 5,
     "metadata": {},
     "output_type": "execute_result"
    }
   ],
   "source": [
    "data"
   ]
  },
  {
   "cell_type": "code",
   "execution_count": 6,
   "metadata": {},
   "outputs": [
    {
     "data": {
      "text/plain": [
       "[' workclass',\n",
       " ' education',\n",
       " ' marital-status',\n",
       " ' occupation',\n",
       " ' relationship',\n",
       " ' race',\n",
       " ' sex',\n",
       " ' native-country',\n",
       " ' salary']"
      ]
     },
     "execution_count": 6,
     "metadata": {},
     "output_type": "execute_result"
    }
   ],
   "source": [
    "category_column"
   ]
  },
  {
   "cell_type": "code",
   "execution_count": 7,
   "metadata": {},
   "outputs": [
    {
     "data": {
      "text/plain": [
       "['age',\n",
       " ' fnlwgt',\n",
       " ' education-num',\n",
       " ' capital-gain',\n",
       " ' capital-loss',\n",
       " ' hours-per-week']"
      ]
     },
     "execution_count": 7,
     "metadata": {},
     "output_type": "execute_result"
    }
   ],
   "source": [
    "num_column #eduaction_num belongs to category"
   ]
  },
  {
   "cell_type": "code",
   "execution_count": 8,
   "metadata": {},
   "outputs": [
    {
     "name": "stderr",
     "output_type": "stream",
     "text": [
      "  File \"c:\\Users\\10063\\AppData\\Local\\Programs\\Python\\Python38\\lib\\site-packages\\joblib\\externals\\loky\\backend\\context.py\", line 282, in _count_physical_cores\n",
      "    raise ValueError(f\"found {cpu_count_physical} physical cores < 1\")\n"
     ]
    }
   ],
   "source": [
    "age_components = findBestComp(data['age'])\n",
    "\n",
    "fnlwgt_components = findBestComp(data[' fnlwgt'])\n",
    "\n",
    "gain_components = findBestComp(data[' capital-gain'])\n",
    "\n",
    "loss_components = findBestComp(data[' capital-loss'])\n",
    "\n",
    "hours_components = findBestComp(data[' hours-per-week'])"
   ]
  },
  {
   "cell_type": "code",
   "execution_count": 9,
   "metadata": {},
   "outputs": [
    {
     "data": {
      "text/html": [
       "<style>#sk-container-id-1 {color: black;}#sk-container-id-1 pre{padding: 0;}#sk-container-id-1 div.sk-toggleable {background-color: white;}#sk-container-id-1 label.sk-toggleable__label {cursor: pointer;display: block;width: 100%;margin-bottom: 0;padding: 0.3em;box-sizing: border-box;text-align: center;}#sk-container-id-1 label.sk-toggleable__label-arrow:before {content: \"▸\";float: left;margin-right: 0.25em;color: #696969;}#sk-container-id-1 label.sk-toggleable__label-arrow:hover:before {color: black;}#sk-container-id-1 div.sk-estimator:hover label.sk-toggleable__label-arrow:before {color: black;}#sk-container-id-1 div.sk-toggleable__content {max-height: 0;max-width: 0;overflow: hidden;text-align: left;background-color: #f0f8ff;}#sk-container-id-1 div.sk-toggleable__content pre {margin: 0.2em;color: black;border-radius: 0.25em;background-color: #f0f8ff;}#sk-container-id-1 input.sk-toggleable__control:checked~div.sk-toggleable__content {max-height: 200px;max-width: 100%;overflow: auto;}#sk-container-id-1 input.sk-toggleable__control:checked~label.sk-toggleable__label-arrow:before {content: \"▾\";}#sk-container-id-1 div.sk-estimator input.sk-toggleable__control:checked~label.sk-toggleable__label {background-color: #d4ebff;}#sk-container-id-1 div.sk-label input.sk-toggleable__control:checked~label.sk-toggleable__label {background-color: #d4ebff;}#sk-container-id-1 input.sk-hidden--visually {border: 0;clip: rect(1px 1px 1px 1px);clip: rect(1px, 1px, 1px, 1px);height: 1px;margin: -1px;overflow: hidden;padding: 0;position: absolute;width: 1px;}#sk-container-id-1 div.sk-estimator {font-family: monospace;background-color: #f0f8ff;border: 1px dotted black;border-radius: 0.25em;box-sizing: border-box;margin-bottom: 0.5em;}#sk-container-id-1 div.sk-estimator:hover {background-color: #d4ebff;}#sk-container-id-1 div.sk-parallel-item::after {content: \"\";width: 100%;border-bottom: 1px solid gray;flex-grow: 1;}#sk-container-id-1 div.sk-label:hover label.sk-toggleable__label {background-color: #d4ebff;}#sk-container-id-1 div.sk-serial::before {content: \"\";position: absolute;border-left: 1px solid gray;box-sizing: border-box;top: 0;bottom: 0;left: 50%;z-index: 0;}#sk-container-id-1 div.sk-serial {display: flex;flex-direction: column;align-items: center;background-color: white;padding-right: 0.2em;padding-left: 0.2em;position: relative;}#sk-container-id-1 div.sk-item {position: relative;z-index: 1;}#sk-container-id-1 div.sk-parallel {display: flex;align-items: stretch;justify-content: center;background-color: white;position: relative;}#sk-container-id-1 div.sk-item::before, #sk-container-id-1 div.sk-parallel-item::before {content: \"\";position: absolute;border-left: 1px solid gray;box-sizing: border-box;top: 0;bottom: 0;left: 50%;z-index: -1;}#sk-container-id-1 div.sk-parallel-item {display: flex;flex-direction: column;z-index: 1;position: relative;background-color: white;}#sk-container-id-1 div.sk-parallel-item:first-child::after {align-self: flex-end;width: 50%;}#sk-container-id-1 div.sk-parallel-item:last-child::after {align-self: flex-start;width: 50%;}#sk-container-id-1 div.sk-parallel-item:only-child::after {width: 0;}#sk-container-id-1 div.sk-dashed-wrapped {border: 1px dashed gray;margin: 0 0.4em 0.5em 0.4em;box-sizing: border-box;padding-bottom: 0.4em;background-color: white;}#sk-container-id-1 div.sk-label label {font-family: monospace;font-weight: bold;display: inline-block;line-height: 1.2em;}#sk-container-id-1 div.sk-label-container {text-align: center;}#sk-container-id-1 div.sk-container {/* jupyter's `normalize.less` sets `[hidden] { display: none; }` but bootstrap.min.css set `[hidden] { display: none !important; }` so we also need the `!important` here to be able to override the default hidden behavior on the sphinx rendered scikit-learn.org. See: https://github.com/scikit-learn/scikit-learn/issues/21755 */display: inline-block !important;position: relative;}#sk-container-id-1 div.sk-text-repr-fallback {display: none;}</style><div id=\"sk-container-id-1\" class=\"sk-top-container\"><div class=\"sk-text-repr-fallback\"><pre>GaussianMixture(n_components=9)</pre><b>In a Jupyter environment, please rerun this cell to show the HTML representation or trust the notebook. <br />On GitHub, the HTML representation is unable to render, please try loading this page with nbviewer.org.</b></div><div class=\"sk-container\" hidden><div class=\"sk-item\"><div class=\"sk-estimator sk-toggleable\"><input class=\"sk-toggleable__control sk-hidden--visually\" id=\"sk-estimator-id-1\" type=\"checkbox\" checked><label for=\"sk-estimator-id-1\" class=\"sk-toggleable__label sk-toggleable__label-arrow\">GaussianMixture</label><div class=\"sk-toggleable__content\"><pre>GaussianMixture(n_components=9)</pre></div></div></div></div></div>"
      ],
      "text/plain": [
       "GaussianMixture(n_components=9)"
      ]
     },
     "execution_count": 9,
     "metadata": {},
     "output_type": "execute_result"
    }
   ],
   "source": [
    "#inital the gmm to fit\n",
    "gmm_age = GaussianMixture(n_components=age_components)\n",
    "gmm_age.fit(data['age'].values.reshape(-1, 1))\n",
    "\n",
    "# Fit a GMM to the 'hours-per-week' column\n",
    "gmm_hours = GaussianMixture(n_components=hours_components)  \n",
    "gmm_hours.fit(data[' hours-per-week'].values.reshape(-1, 1))\n",
    "\n",
    "gmm_fnlwgt = GaussianMixture(n_components=fnlwgt_components)\n",
    "gmm_fnlwgt.fit(data[' fnlwgt'].values.reshape(-1, 1))\n",
    "\n",
    "gmm_gain = GaussianMixture(n_components=gain_components)\n",
    "gmm_gain.fit(data[' capital-gain'].values.reshape(-1, 1))\n",
    "\n",
    "gmm_loss = GaussianMixture(n_components=loss_components)\n",
    "gmm_loss.fit(data[' capital-loss'].values.reshape(-1, 1))"
   ]
  },
  {
   "cell_type": "code",
   "execution_count": 10,
   "metadata": {},
   "outputs": [],
   "source": [
    "categories_workclass = data[' workclass']\n",
    "category_intervals_workclass = assign_intervals(categories_workclass)\n",
    "numerical_values_workclass = categories_workclass.apply(lambda x: sample_from_category(x, category_intervals_workclass))\n",
    "\n",
    "categories_education = data[' education']\n",
    "category_intervals_education = assign_intervals(categories_education)\n",
    "numerical_values_education = categories_education.apply(lambda x: sample_from_category(x, category_intervals_education))\n",
    "\n",
    "categories_marital = data[' marital-status']\n",
    "category_intervals_marital = assign_intervals(categories_marital)\n",
    "numerical_values_marital = categories_marital.apply(lambda x: sample_from_category(x, category_intervals_marital))\n",
    "\n",
    "categories_occupation = data[' occupation']\n",
    "category_intervals_occupation = assign_intervals(categories_occupation)\n",
    "numerical_values_occupation = categories_occupation.apply(lambda x: sample_from_category(x, category_intervals_occupation))\n",
    "\n",
    "categories_relationship = data[' relationship']\n",
    "category_intervals_relationship = assign_intervals(categories_relationship)\n",
    "numerical_values_relationship = categories_relationship.apply(lambda x: sample_from_category(x, category_intervals_relationship))\n",
    "\n",
    "categories_race = data[' race']\n",
    "category_intervals_race = assign_intervals(categories_race)\n",
    "numerical_values_race = categories_race.apply(lambda x: sample_from_category(x, category_intervals_race))\n",
    "\n",
    "categories_sex = data[' sex']\n",
    "category_intervals_sex = assign_intervals(categories_sex)\n",
    "numerical_values_sex = categories_sex.apply(lambda x: sample_from_category(x, category_intervals_sex))\n",
    "\n",
    "categories_country = data[' native-country']\n",
    "category_intervals_country = assign_intervals(categories_country)\n",
    "numerical_values_country = categories_country.apply(lambda x: sample_from_category(x, category_intervals_country))\n",
    "\n",
    "categories_salary = data[' salary']\n",
    "category_intervals_salary = assign_intervals(categories_salary)\n",
    "numerical_values_salary = categories_salary.apply(lambda x: sample_from_category(x, category_intervals_salary))"
   ]
  },
  {
   "cell_type": "code",
   "execution_count": 11,
   "metadata": {},
   "outputs": [],
   "source": [
    "data[' workclass'] = numerical_values_workclass\n",
    "data[' education'] = numerical_values_education\n",
    "data[' marital-status'] = numerical_values_marital\n",
    "data[' occupation'] = numerical_values_occupation\n",
    "data[' relationship'] = numerical_values_relationship\n",
    "data[' race'] = numerical_values_race\n",
    "data[' sex'] = numerical_values_sex\n",
    "data[' native-country'] = numerical_values_country\n",
    "data[' salary'] = numerical_values_salary"
   ]
  },
  {
   "cell_type": "code",
   "execution_count": 12,
   "metadata": {},
   "outputs": [
    {
     "data": {
      "text/html": [
       "<div>\n",
       "<style scoped>\n",
       "    .dataframe tbody tr th:only-of-type {\n",
       "        vertical-align: middle;\n",
       "    }\n",
       "\n",
       "    .dataframe tbody tr th {\n",
       "        vertical-align: top;\n",
       "    }\n",
       "\n",
       "    .dataframe thead th {\n",
       "        text-align: right;\n",
       "    }\n",
       "</style>\n",
       "<table border=\"1\" class=\"dataframe\">\n",
       "  <thead>\n",
       "    <tr style=\"text-align: right;\">\n",
       "      <th></th>\n",
       "      <th>age</th>\n",
       "      <th>workclass</th>\n",
       "      <th>fnlwgt</th>\n",
       "      <th>education</th>\n",
       "      <th>education-num</th>\n",
       "      <th>marital-status</th>\n",
       "      <th>occupation</th>\n",
       "      <th>relationship</th>\n",
       "      <th>race</th>\n",
       "      <th>sex</th>\n",
       "      <th>capital-gain</th>\n",
       "      <th>capital-loss</th>\n",
       "      <th>hours-per-week</th>\n",
       "      <th>native-country</th>\n",
       "      <th>salary</th>\n",
       "    </tr>\n",
       "  </thead>\n",
       "  <tbody>\n",
       "    <tr>\n",
       "      <th>0</th>\n",
       "      <td>39</td>\n",
       "      <td>0.924838</td>\n",
       "      <td>77516</td>\n",
       "      <td>0.624081</td>\n",
       "      <td>13</td>\n",
       "      <td>0.503013</td>\n",
       "      <td>0.445255</td>\n",
       "      <td>0.509846</td>\n",
       "      <td>0.291901</td>\n",
       "      <td>0.214353</td>\n",
       "      <td>2174</td>\n",
       "      <td>0</td>\n",
       "      <td>40</td>\n",
       "      <td>0.116862</td>\n",
       "      <td>0.471690</td>\n",
       "    </tr>\n",
       "    <tr>\n",
       "      <th>1</th>\n",
       "      <td>50</td>\n",
       "      <td>0.735012</td>\n",
       "      <td>83311</td>\n",
       "      <td>0.595048</td>\n",
       "      <td>13</td>\n",
       "      <td>0.248069</td>\n",
       "      <td>0.302815</td>\n",
       "      <td>0.269224</td>\n",
       "      <td>0.659203</td>\n",
       "      <td>0.338812</td>\n",
       "      <td>0</td>\n",
       "      <td>0</td>\n",
       "      <td>13</td>\n",
       "      <td>0.273172</td>\n",
       "      <td>0.591009</td>\n",
       "    </tr>\n",
       "    <tr>\n",
       "      <th>2</th>\n",
       "      <td>38</td>\n",
       "      <td>0.101615</td>\n",
       "      <td>215646</td>\n",
       "      <td>0.154631</td>\n",
       "      <td>9</td>\n",
       "      <td>0.883207</td>\n",
       "      <td>0.898621</td>\n",
       "      <td>0.540031</td>\n",
       "      <td>0.338776</td>\n",
       "      <td>0.272284</td>\n",
       "      <td>0</td>\n",
       "      <td>0</td>\n",
       "      <td>40</td>\n",
       "      <td>0.099658</td>\n",
       "      <td>0.548400</td>\n",
       "    </tr>\n",
       "    <tr>\n",
       "      <th>3</th>\n",
       "      <td>53</td>\n",
       "      <td>0.398047</td>\n",
       "      <td>234721</td>\n",
       "      <td>0.824372</td>\n",
       "      <td>7</td>\n",
       "      <td>0.198636</td>\n",
       "      <td>0.894224</td>\n",
       "      <td>0.220105</td>\n",
       "      <td>0.887613</td>\n",
       "      <td>0.282451</td>\n",
       "      <td>0</td>\n",
       "      <td>0</td>\n",
       "      <td>40</td>\n",
       "      <td>0.069251</td>\n",
       "      <td>0.429520</td>\n",
       "    </tr>\n",
       "    <tr>\n",
       "      <th>4</th>\n",
       "      <td>28</td>\n",
       "      <td>0.228840</td>\n",
       "      <td>338409</td>\n",
       "      <td>0.621892</td>\n",
       "      <td>13</td>\n",
       "      <td>0.293063</td>\n",
       "      <td>0.083561</td>\n",
       "      <td>0.942580</td>\n",
       "      <td>0.908050</td>\n",
       "      <td>0.845571</td>\n",
       "      <td>0</td>\n",
       "      <td>0</td>\n",
       "      <td>40</td>\n",
       "      <td>0.959188</td>\n",
       "      <td>0.388084</td>\n",
       "    </tr>\n",
       "    <tr>\n",
       "      <th>...</th>\n",
       "      <td>...</td>\n",
       "      <td>...</td>\n",
       "      <td>...</td>\n",
       "      <td>...</td>\n",
       "      <td>...</td>\n",
       "      <td>...</td>\n",
       "      <td>...</td>\n",
       "      <td>...</td>\n",
       "      <td>...</td>\n",
       "      <td>...</td>\n",
       "      <td>...</td>\n",
       "      <td>...</td>\n",
       "      <td>...</td>\n",
       "      <td>...</td>\n",
       "      <td>...</td>\n",
       "    </tr>\n",
       "    <tr>\n",
       "      <th>32556</th>\n",
       "      <td>27</td>\n",
       "      <td>0.266774</td>\n",
       "      <td>257302</td>\n",
       "      <td>0.866508</td>\n",
       "      <td>12</td>\n",
       "      <td>0.078666</td>\n",
       "      <td>0.966933</td>\n",
       "      <td>0.947671</td>\n",
       "      <td>0.340422</td>\n",
       "      <td>0.884271</td>\n",
       "      <td>0</td>\n",
       "      <td>0</td>\n",
       "      <td>38</td>\n",
       "      <td>0.565328</td>\n",
       "      <td>0.302744</td>\n",
       "    </tr>\n",
       "    <tr>\n",
       "      <th>32557</th>\n",
       "      <td>40</td>\n",
       "      <td>0.285552</td>\n",
       "      <td>154374</td>\n",
       "      <td>0.221153</td>\n",
       "      <td>9</td>\n",
       "      <td>0.310892</td>\n",
       "      <td>0.733007</td>\n",
       "      <td>0.310516</td>\n",
       "      <td>0.359242</td>\n",
       "      <td>0.418839</td>\n",
       "      <td>0</td>\n",
       "      <td>0</td>\n",
       "      <td>40</td>\n",
       "      <td>0.311406</td>\n",
       "      <td>0.888530</td>\n",
       "    </tr>\n",
       "    <tr>\n",
       "      <th>32558</th>\n",
       "      <td>58</td>\n",
       "      <td>0.283649</td>\n",
       "      <td>151910</td>\n",
       "      <td>0.101419</td>\n",
       "      <td>9</td>\n",
       "      <td>0.980670</td>\n",
       "      <td>0.426153</td>\n",
       "      <td>0.872524</td>\n",
       "      <td>0.351872</td>\n",
       "      <td>0.814166</td>\n",
       "      <td>0</td>\n",
       "      <td>0</td>\n",
       "      <td>40</td>\n",
       "      <td>0.525236</td>\n",
       "      <td>0.335597</td>\n",
       "    </tr>\n",
       "    <tr>\n",
       "      <th>32559</th>\n",
       "      <td>22</td>\n",
       "      <td>0.277259</td>\n",
       "      <td>201490</td>\n",
       "      <td>0.098205</td>\n",
       "      <td>9</td>\n",
       "      <td>0.587973</td>\n",
       "      <td>0.414748</td>\n",
       "      <td>0.723720</td>\n",
       "      <td>0.294087</td>\n",
       "      <td>0.225774</td>\n",
       "      <td>0</td>\n",
       "      <td>0</td>\n",
       "      <td>20</td>\n",
       "      <td>0.429884</td>\n",
       "      <td>0.207846</td>\n",
       "    </tr>\n",
       "    <tr>\n",
       "      <th>32560</th>\n",
       "      <td>52</td>\n",
       "      <td>0.956380</td>\n",
       "      <td>287927</td>\n",
       "      <td>0.148369</td>\n",
       "      <td>9</td>\n",
       "      <td>0.072222</td>\n",
       "      <td>0.297549</td>\n",
       "      <td>0.930171</td>\n",
       "      <td>0.408046</td>\n",
       "      <td>0.910360</td>\n",
       "      <td>15024</td>\n",
       "      <td>0</td>\n",
       "      <td>40</td>\n",
       "      <td>0.411306</td>\n",
       "      <td>0.876504</td>\n",
       "    </tr>\n",
       "  </tbody>\n",
       "</table>\n",
       "<p>32561 rows × 15 columns</p>\n",
       "</div>"
      ],
      "text/plain": [
       "       age   workclass   fnlwgt   education   education-num   marital-status  \\\n",
       "0       39    0.924838    77516    0.624081              13         0.503013   \n",
       "1       50    0.735012    83311    0.595048              13         0.248069   \n",
       "2       38    0.101615   215646    0.154631               9         0.883207   \n",
       "3       53    0.398047   234721    0.824372               7         0.198636   \n",
       "4       28    0.228840   338409    0.621892              13         0.293063   \n",
       "...    ...         ...      ...         ...             ...              ...   \n",
       "32556   27    0.266774   257302    0.866508              12         0.078666   \n",
       "32557   40    0.285552   154374    0.221153               9         0.310892   \n",
       "32558   58    0.283649   151910    0.101419               9         0.980670   \n",
       "32559   22    0.277259   201490    0.098205               9         0.587973   \n",
       "32560   52    0.956380   287927    0.148369               9         0.072222   \n",
       "\n",
       "        occupation   relationship      race       sex   capital-gain  \\\n",
       "0         0.445255       0.509846  0.291901  0.214353           2174   \n",
       "1         0.302815       0.269224  0.659203  0.338812              0   \n",
       "2         0.898621       0.540031  0.338776  0.272284              0   \n",
       "3         0.894224       0.220105  0.887613  0.282451              0   \n",
       "4         0.083561       0.942580  0.908050  0.845571              0   \n",
       "...            ...            ...       ...       ...            ...   \n",
       "32556     0.966933       0.947671  0.340422  0.884271              0   \n",
       "32557     0.733007       0.310516  0.359242  0.418839              0   \n",
       "32558     0.426153       0.872524  0.351872  0.814166              0   \n",
       "32559     0.414748       0.723720  0.294087  0.225774              0   \n",
       "32560     0.297549       0.930171  0.408046  0.910360          15024   \n",
       "\n",
       "        capital-loss   hours-per-week   native-country    salary  \n",
       "0                  0               40         0.116862  0.471690  \n",
       "1                  0               13         0.273172  0.591009  \n",
       "2                  0               40         0.099658  0.548400  \n",
       "3                  0               40         0.069251  0.429520  \n",
       "4                  0               40         0.959188  0.388084  \n",
       "...              ...              ...              ...       ...  \n",
       "32556              0               38         0.565328  0.302744  \n",
       "32557              0               40         0.311406  0.888530  \n",
       "32558              0               40         0.525236  0.335597  \n",
       "32559              0               20         0.429884  0.207846  \n",
       "32560              0               40         0.411306  0.876504  \n",
       "\n",
       "[32561 rows x 15 columns]"
      ]
     },
     "execution_count": 12,
     "metadata": {},
     "output_type": "execute_result"
    }
   ],
   "source": [
    "data"
   ]
  },
  {
   "cell_type": "code",
   "execution_count": 13,
   "metadata": {},
   "outputs": [],
   "source": [
    "workclass_components = findBestComp(data[' workclass'])\n",
    "\n",
    "education_components = findBestComp(data[' education'])\n",
    "\n",
    "marital_components = findBestComp(data[' marital-status'])\n",
    "\n",
    "occupation_components = findBestComp(data[' occupation'])\n",
    "\n",
    "relationship_components = findBestComp(data[' relationship'])\n",
    "\n",
    "race_components = findBestComp(data[' race'])\n",
    "\n",
    "sex_components = findBestComp(data[' sex'])\n",
    "\n",
    "country_components = findBestComp(data[' native-country'])\n",
    "\n",
    "salary_components = findBestComp(data[' salary'])"
   ]
  },
  {
   "cell_type": "code",
   "execution_count": 14,
   "metadata": {},
   "outputs": [
    {
     "data": {
      "text/html": [
       "<style>#sk-container-id-2 {color: black;}#sk-container-id-2 pre{padding: 0;}#sk-container-id-2 div.sk-toggleable {background-color: white;}#sk-container-id-2 label.sk-toggleable__label {cursor: pointer;display: block;width: 100%;margin-bottom: 0;padding: 0.3em;box-sizing: border-box;text-align: center;}#sk-container-id-2 label.sk-toggleable__label-arrow:before {content: \"▸\";float: left;margin-right: 0.25em;color: #696969;}#sk-container-id-2 label.sk-toggleable__label-arrow:hover:before {color: black;}#sk-container-id-2 div.sk-estimator:hover label.sk-toggleable__label-arrow:before {color: black;}#sk-container-id-2 div.sk-toggleable__content {max-height: 0;max-width: 0;overflow: hidden;text-align: left;background-color: #f0f8ff;}#sk-container-id-2 div.sk-toggleable__content pre {margin: 0.2em;color: black;border-radius: 0.25em;background-color: #f0f8ff;}#sk-container-id-2 input.sk-toggleable__control:checked~div.sk-toggleable__content {max-height: 200px;max-width: 100%;overflow: auto;}#sk-container-id-2 input.sk-toggleable__control:checked~label.sk-toggleable__label-arrow:before {content: \"▾\";}#sk-container-id-2 div.sk-estimator input.sk-toggleable__control:checked~label.sk-toggleable__label {background-color: #d4ebff;}#sk-container-id-2 div.sk-label input.sk-toggleable__control:checked~label.sk-toggleable__label {background-color: #d4ebff;}#sk-container-id-2 input.sk-hidden--visually {border: 0;clip: rect(1px 1px 1px 1px);clip: rect(1px, 1px, 1px, 1px);height: 1px;margin: -1px;overflow: hidden;padding: 0;position: absolute;width: 1px;}#sk-container-id-2 div.sk-estimator {font-family: monospace;background-color: #f0f8ff;border: 1px dotted black;border-radius: 0.25em;box-sizing: border-box;margin-bottom: 0.5em;}#sk-container-id-2 div.sk-estimator:hover {background-color: #d4ebff;}#sk-container-id-2 div.sk-parallel-item::after {content: \"\";width: 100%;border-bottom: 1px solid gray;flex-grow: 1;}#sk-container-id-2 div.sk-label:hover label.sk-toggleable__label {background-color: #d4ebff;}#sk-container-id-2 div.sk-serial::before {content: \"\";position: absolute;border-left: 1px solid gray;box-sizing: border-box;top: 0;bottom: 0;left: 50%;z-index: 0;}#sk-container-id-2 div.sk-serial {display: flex;flex-direction: column;align-items: center;background-color: white;padding-right: 0.2em;padding-left: 0.2em;position: relative;}#sk-container-id-2 div.sk-item {position: relative;z-index: 1;}#sk-container-id-2 div.sk-parallel {display: flex;align-items: stretch;justify-content: center;background-color: white;position: relative;}#sk-container-id-2 div.sk-item::before, #sk-container-id-2 div.sk-parallel-item::before {content: \"\";position: absolute;border-left: 1px solid gray;box-sizing: border-box;top: 0;bottom: 0;left: 50%;z-index: -1;}#sk-container-id-2 div.sk-parallel-item {display: flex;flex-direction: column;z-index: 1;position: relative;background-color: white;}#sk-container-id-2 div.sk-parallel-item:first-child::after {align-self: flex-end;width: 50%;}#sk-container-id-2 div.sk-parallel-item:last-child::after {align-self: flex-start;width: 50%;}#sk-container-id-2 div.sk-parallel-item:only-child::after {width: 0;}#sk-container-id-2 div.sk-dashed-wrapped {border: 1px dashed gray;margin: 0 0.4em 0.5em 0.4em;box-sizing: border-box;padding-bottom: 0.4em;background-color: white;}#sk-container-id-2 div.sk-label label {font-family: monospace;font-weight: bold;display: inline-block;line-height: 1.2em;}#sk-container-id-2 div.sk-label-container {text-align: center;}#sk-container-id-2 div.sk-container {/* jupyter's `normalize.less` sets `[hidden] { display: none; }` but bootstrap.min.css set `[hidden] { display: none !important; }` so we also need the `!important` here to be able to override the default hidden behavior on the sphinx rendered scikit-learn.org. See: https://github.com/scikit-learn/scikit-learn/issues/21755 */display: inline-block !important;position: relative;}#sk-container-id-2 div.sk-text-repr-fallback {display: none;}</style><div id=\"sk-container-id-2\" class=\"sk-top-container\"><div class=\"sk-text-repr-fallback\"><pre>GaussianMixture(n_components=2)</pre><b>In a Jupyter environment, please rerun this cell to show the HTML representation or trust the notebook. <br />On GitHub, the HTML representation is unable to render, please try loading this page with nbviewer.org.</b></div><div class=\"sk-container\" hidden><div class=\"sk-item\"><div class=\"sk-estimator sk-toggleable\"><input class=\"sk-toggleable__control sk-hidden--visually\" id=\"sk-estimator-id-2\" type=\"checkbox\" checked><label for=\"sk-estimator-id-2\" class=\"sk-toggleable__label sk-toggleable__label-arrow\">GaussianMixture</label><div class=\"sk-toggleable__content\"><pre>GaussianMixture(n_components=2)</pre></div></div></div></div></div>"
      ],
      "text/plain": [
       "GaussianMixture(n_components=2)"
      ]
     },
     "execution_count": 14,
     "metadata": {},
     "output_type": "execute_result"
    }
   ],
   "source": [
    "gmm_workclass = GaussianMixture(n_components=workclass_components)\n",
    "gmm_workclass.fit(data[' workclass'].values.reshape(-1, 1))\n",
    "\n",
    "gmm_education = GaussianMixture(n_components=education_components)\n",
    "gmm_education.fit(data[' education'].values.reshape(-1, 1))\n",
    "\n",
    "gmm_marital = GaussianMixture(n_components=marital_components)\n",
    "gmm_marital.fit(data[' marital-status'].values.reshape(-1, 1))\n",
    "\n",
    "gmm_occupation = GaussianMixture(n_components=occupation_components)\n",
    "gmm_occupation.fit(data[' occupation'].values.reshape(-1, 1))\n",
    "\n",
    "gmm_relationship = GaussianMixture(n_components= relationship_components)\n",
    "gmm_relationship.fit(data[' relationship'].values.reshape(-1, 1))\n",
    "\n",
    "gmm_race = GaussianMixture(n_components=race_components)\n",
    "gmm_race.fit(data[' race'].values.reshape(-1, 1))\n",
    "\n",
    "gmm_sex = GaussianMixture(n_components=sex_components)\n",
    "gmm_sex.fit(data[' sex'].values.reshape(-1, 1))\n",
    "\n",
    "gmm_country = GaussianMixture(n_components=country_components)\n",
    "gmm_country.fit(data[' native-country'].values.reshape(-1, 1))\n",
    "\n",
    "gmm_salary = GaussianMixture(n_components=salary_components)\n",
    "gmm_salary.fit(data[' salary'].values.reshape(-1, 1))"
   ]
  },
  {
   "cell_type": "code",
   "execution_count": 15,
   "metadata": {},
   "outputs": [],
   "source": [
    "GMM_cdf_table = pd.DataFrame()\n",
    "GMM_cdf_table['age'] = data['age'].apply(lambda x: gmm_cdf(x, gmm_age))\n",
    "GMM_cdf_table[' workclass'] = data[' workclass'].apply(lambda x: gmm_cdf(x, gmm_workclass))\n",
    "GMM_cdf_table[' fnlwgt'] = data[' fnlwgt'].apply(lambda x: gmm_cdf(x, gmm_fnlwgt))\n",
    "GMM_cdf_table[' education'] = data[' education'].apply(lambda x: gmm_cdf(x, gmm_education))\n",
    "GMM_cdf_table[' marital-status'] = data[' marital-status'].apply(lambda x: gmm_cdf(x, gmm_marital))\n",
    "GMM_cdf_table[' occupation'] = data[' occupation'].apply(lambda x: gmm_cdf(x, gmm_occupation))\n",
    "GMM_cdf_table[' relationship'] = data[' relationship'].apply(lambda x: gmm_cdf(x, gmm_relationship))\n",
    "GMM_cdf_table[' race'] = data[' race'].apply(lambda x: gmm_cdf(x, gmm_race))\n",
    "GMM_cdf_table[' sex'] = data[' sex'].apply(lambda x: gmm_cdf(x, gmm_sex))\n",
    "GMM_cdf_table[' capital-gain'] = data[' capital-gain'].apply(lambda x: gmm_cdf(x, gmm_gain))\n",
    "GMM_cdf_table[' capital-loss'] = data[' capital-loss'].apply(lambda x: gmm_cdf(x, gmm_loss))\n",
    "GMM_cdf_table[' hours-per-week'] = data[' hours-per-week'].apply(lambda x: gmm_cdf(x, gmm_hours))\n",
    "GMM_cdf_table[' native-country'] = data[' native-country'].apply(lambda x: gmm_cdf(x, gmm_country))\n",
    "GMM_cdf_table[' salary'] = data[' salary'].apply(lambda x: gmm_cdf(x, gmm_salary))\n"
   ]
  },
  {
   "cell_type": "code",
   "execution_count": 16,
   "metadata": {},
   "outputs": [],
   "source": [
    "GMM_invers_cdf_table = pd.DataFrame()\n",
    "\n",
    "GMM_invers_cdf_table['age'] = GMM_cdf_table['age'].apply(lambda x: gaussian_inverse_cdf(x))\n",
    "GMM_invers_cdf_table[' workclass'] = GMM_cdf_table[' workclass'].apply(lambda x: gaussian_inverse_cdf(x))\n",
    "GMM_invers_cdf_table[' fnlwgt'] = GMM_cdf_table[' fnlwgt'].apply(lambda x: gaussian_inverse_cdf(x))\n",
    "GMM_invers_cdf_table[' education'] = GMM_cdf_table[' education'].apply(lambda x: gaussian_inverse_cdf(x))\n",
    "GMM_invers_cdf_table[' marital-status'] = GMM_cdf_table[' marital-status'].apply(lambda x: gaussian_inverse_cdf(x))\n",
    "GMM_invers_cdf_table[' occupation'] = GMM_cdf_table[' occupation'].apply(lambda x: gaussian_inverse_cdf(x))\n",
    "GMM_invers_cdf_table[' relationship'] = GMM_cdf_table[' relationship'].apply(lambda x: gaussian_inverse_cdf(x))\n",
    "GMM_invers_cdf_table[' race'] = GMM_cdf_table[' race'].apply(lambda x: gaussian_inverse_cdf(x))\n",
    "GMM_invers_cdf_table[' sex'] = GMM_cdf_table[' sex'].apply(lambda x: gaussian_inverse_cdf(x))\n",
    "GMM_invers_cdf_table[' capital-gain'] = GMM_cdf_table[' capital-gain'].apply(lambda x: gaussian_inverse_cdf(x))\n",
    "GMM_invers_cdf_table[' capital-loss'] = GMM_cdf_table[' capital-loss'].apply(lambda x: gaussian_inverse_cdf(x))\n",
    "GMM_invers_cdf_table[' hours-per-week'] = GMM_cdf_table[' hours-per-week'].apply(lambda x: gaussian_inverse_cdf(x))\n",
    "GMM_invers_cdf_table[' native-country'] = GMM_cdf_table[' native-country'].apply(lambda x: gaussian_inverse_cdf(x))\n",
    "GMM_invers_cdf_table[' salary'] = GMM_cdf_table[' salary'].apply(lambda x: gaussian_inverse_cdf(x))\n"
   ]
  },
  {
   "cell_type": "code",
   "execution_count": 19,
   "metadata": {},
   "outputs": [
    {
     "data": {
      "image/png": "[encoded data removed]",
      "text/plain": [
       "<Figure size 1000x600 with 1 Axes>"
      ]
     },
     "metadata": {},
     "output_type": "display_data"
    }
   ],
   "source": [
    "## KMeans Applies Here\n",
    "scaler = StandardScaler()\n",
    "scaled_data = scaler.fit_transform(GMM_invers_cdf_table)\n",
    "\n",
    "# Applying the Elbow method to find the optimal number of clusters\n",
    "inertia = []\n",
    "range_of_clusters = range(1, 20)\n",
    "\n",
    "for k in range_of_clusters:\n",
    "    kmeans = KMeans(n_clusters=k, random_state=0)\n",
    "    kmeans.fit(scaled_data)\n",
    "    inertia.append(kmeans.inertia_)\n",
    "\n",
    "# Plotting the Elbow graph\n",
    "plt.figure(figsize=(10, 6))\n",
    "plt.plot(range_of_clusters, inertia, marker='o')\n",
    "plt.title('Elbow Method')\n",
    "plt.xlabel('Number of clusters')\n",
    "plt.ylabel('Inertia')\n",
    "plt.xticks(range_of_clusters)\n",
    "plt.show()"
   ]
  },
  {
   "cell_type": "code",
   "execution_count": 20,
   "metadata": {},
   "outputs": [
    {
     "data": {
      "text/html": [
       "<div>\n",
       "<style scoped>\n",
       "    .dataframe tbody tr th:only-of-type {\n",
       "        vertical-align: middle;\n",
       "    }\n",
       "\n",
       "    .dataframe tbody tr th {\n",
       "        vertical-align: top;\n",
       "    }\n",
       "\n",
       "    .dataframe thead th {\n",
       "        text-align: right;\n",
       "    }\n",
       "</style>\n",
       "<table border=\"1\" class=\"dataframe\">\n",
       "  <thead>\n",
       "    <tr style=\"text-align: right;\">\n",
       "      <th></th>\n",
       "      <th>age</th>\n",
       "      <th>workclass</th>\n",
       "      <th>fnlwgt</th>\n",
       "      <th>education</th>\n",
       "      <th>marital-status</th>\n",
       "      <th>occupation</th>\n",
       "      <th>relationship</th>\n",
       "      <th>race</th>\n",
       "      <th>sex</th>\n",
       "      <th>capital-gain</th>\n",
       "      <th>capital-loss</th>\n",
       "      <th>hours-per-week</th>\n",
       "      <th>native-country</th>\n",
       "      <th>salary</th>\n",
       "      <th>label</th>\n",
       "    </tr>\n",
       "  </thead>\n",
       "  <tbody>\n",
       "    <tr>\n",
       "      <th>0</th>\n",
       "      <td>0.129073</td>\n",
       "      <td>1.458664</td>\n",
       "      <td>-1.169204</td>\n",
       "      <td>0.294658</td>\n",
       "      <td>-0.090179</td>\n",
       "      <td>-0.105988</td>\n",
       "      <td>-0.043915</td>\n",
       "      <td>-1.058058</td>\n",
       "      <td>-1.340610</td>\n",
       "      <td>1.43555</td>\n",
       "      <td>-0.058451</td>\n",
       "      <td>-0.067801</td>\n",
       "      <td>-2.295579</td>\n",
       "      <td>0.214439</td>\n",
       "      <td>1</td>\n",
       "    </tr>\n",
       "    <tr>\n",
       "      <th>1</th>\n",
       "      <td>0.811116</td>\n",
       "      <td>0.626002</td>\n",
       "      <td>-1.119863</td>\n",
       "      <td>0.164495</td>\n",
       "      <td>-0.612654</td>\n",
       "      <td>-0.561299</td>\n",
       "      <td>-0.420319</td>\n",
       "      <td>0.881106</td>\n",
       "      <td>-0.403390</td>\n",
       "      <td>-0.10440</td>\n",
       "      <td>-0.058451</td>\n",
       "      <td>-1.905164</td>\n",
       "      <td>-1.253367</td>\n",
       "      <td>0.598588</td>\n",
       "      <td>0</td>\n",
       "    </tr>\n",
       "    <tr>\n",
       "      <th>2</th>\n",
       "      <td>0.058852</td>\n",
       "      <td>-2.296363</td>\n",
       "      <td>0.489948</td>\n",
       "      <td>-1.049828</td>\n",
       "      <td>1.334529</td>\n",
       "      <td>1.290583</td>\n",
       "      <td>0.119271</td>\n",
       "      <td>-0.746399</td>\n",
       "      <td>-0.881571</td>\n",
       "      <td>-0.10440</td>\n",
       "      <td>-0.058451</td>\n",
       "      <td>-0.067801</td>\n",
       "      <td>-2.411149</td>\n",
       "      <td>0.503325</td>\n",
       "      <td>3</td>\n",
       "    </tr>\n",
       "    <tr>\n",
       "      <th>3</th>\n",
       "      <td>1.002845</td>\n",
       "      <td>-0.082621</td>\n",
       "      <td>0.672290</td>\n",
       "      <td>0.925594</td>\n",
       "      <td>-0.987527</td>\n",
       "      <td>1.266692</td>\n",
       "      <td>-0.682691</td>\n",
       "      <td>1.157041</td>\n",
       "      <td>-0.804425</td>\n",
       "      <td>-0.10440</td>\n",
       "      <td>-0.058451</td>\n",
       "      <td>-0.067801</td>\n",
       "      <td>-2.615682</td>\n",
       "      <td>-0.003993</td>\n",
       "      <td>0</td>\n",
       "    </tr>\n",
       "    <tr>\n",
       "      <th>4</th>\n",
       "      <td>-0.638251</td>\n",
       "      <td>-1.251244</td>\n",
       "      <td>1.372134</td>\n",
       "      <td>0.282400</td>\n",
       "      <td>-0.353439</td>\n",
       "      <td>-1.249429</td>\n",
       "      <td>1.529919</td>\n",
       "      <td>1.281239</td>\n",
       "      <td>1.077036</td>\n",
       "      <td>-0.10440</td>\n",
       "      <td>-0.058451</td>\n",
       "      <td>-0.067801</td>\n",
       "      <td>1.791819</td>\n",
       "      <td>-0.250000</td>\n",
       "      <td>3</td>\n",
       "    </tr>\n",
       "    <tr>\n",
       "      <th>...</th>\n",
       "      <td>...</td>\n",
       "      <td>...</td>\n",
       "      <td>...</td>\n",
       "      <td>...</td>\n",
       "      <td>...</td>\n",
       "      <td>...</td>\n",
       "      <td>...</td>\n",
       "      <td>...</td>\n",
       "      <td>...</td>\n",
       "      <td>...</td>\n",
       "      <td>...</td>\n",
       "      <td>...</td>\n",
       "      <td>...</td>\n",
       "      <td>...</td>\n",
       "      <td>...</td>\n",
       "    </tr>\n",
       "    <tr>\n",
       "      <th>32556</th>\n",
       "      <td>-0.726451</td>\n",
       "      <td>-0.963650</td>\n",
       "      <td>0.818653</td>\n",
       "      <td>1.118102</td>\n",
       "      <td>-2.375553</td>\n",
       "      <td>1.895564</td>\n",
       "      <td>1.579762</td>\n",
       "      <td>-0.736827</td>\n",
       "      <td>1.549837</td>\n",
       "      <td>-0.10440</td>\n",
       "      <td>-0.058451</td>\n",
       "      <td>-0.755303</td>\n",
       "      <td>0.542195</td>\n",
       "      <td>-0.821594</td>\n",
       "      <td>3</td>\n",
       "    </tr>\n",
       "    <tr>\n",
       "      <th>32557</th>\n",
       "      <td>0.196020</td>\n",
       "      <td>-0.835163</td>\n",
       "      <td>-0.283356</td>\n",
       "      <td>-0.585056</td>\n",
       "      <td>-0.275931</td>\n",
       "      <td>0.603789</td>\n",
       "      <td>-0.299258</td>\n",
       "      <td>-0.626251</td>\n",
       "      <td>0.051474</td>\n",
       "      <td>-0.10440</td>\n",
       "      <td>-0.058451</td>\n",
       "      <td>-0.067801</td>\n",
       "      <td>-1.001893</td>\n",
       "      <td>1.281797</td>\n",
       "      <td>0</td>\n",
       "    </tr>\n",
       "    <tr>\n",
       "      <th>32558</th>\n",
       "      <td>1.289240</td>\n",
       "      <td>-0.848548</td>\n",
       "      <td>-0.308100</td>\n",
       "      <td>-1.686291</td>\n",
       "      <td>2.186233</td>\n",
       "      <td>-0.217588</td>\n",
       "      <td>1.165129</td>\n",
       "      <td>-0.670228</td>\n",
       "      <td>0.786277</td>\n",
       "      <td>-0.10440</td>\n",
       "      <td>-0.058451</td>\n",
       "      <td>-0.067801</td>\n",
       "      <td>0.326798</td>\n",
       "      <td>-0.593642</td>\n",
       "      <td>2</td>\n",
       "    </tr>\n",
       "    <tr>\n",
       "      <th>32559</th>\n",
       "      <td>-1.243274</td>\n",
       "      <td>-0.892646</td>\n",
       "      <td>0.309034</td>\n",
       "      <td>-1.730018</td>\n",
       "      <td>0.107874</td>\n",
       "      <td>-0.268922</td>\n",
       "      <td>0.543689</td>\n",
       "      <td>-1.041535</td>\n",
       "      <td>-1.247890</td>\n",
       "      <td>-0.10440</td>\n",
       "      <td>-0.058451</td>\n",
       "      <td>-1.471805</td>\n",
       "      <td>-0.241485</td>\n",
       "      <td>-1.513968</td>\n",
       "      <td>3</td>\n",
       "    </tr>\n",
       "    <tr>\n",
       "      <th>32560</th>\n",
       "      <td>0.936333</td>\n",
       "      <td>1.684794</td>\n",
       "      <td>1.010750</td>\n",
       "      <td>-1.121174</td>\n",
       "      <td>-2.467058</td>\n",
       "      <td>-0.589887</td>\n",
       "      <td>1.453628</td>\n",
       "      <td>-0.299283</td>\n",
       "      <td>1.920014</td>\n",
       "      <td>2.24510</td>\n",
       "      <td>-0.058451</td>\n",
       "      <td>-0.067801</td>\n",
       "      <td>-0.358007</td>\n",
       "      <td>1.132613</td>\n",
       "      <td>1</td>\n",
       "    </tr>\n",
       "  </tbody>\n",
       "</table>\n",
       "<p>32561 rows × 15 columns</p>\n",
       "</div>"
      ],
      "text/plain": [
       "            age   workclass    fnlwgt   education   marital-status  \\\n",
       "0      0.129073    1.458664 -1.169204    0.294658        -0.090179   \n",
       "1      0.811116    0.626002 -1.119863    0.164495        -0.612654   \n",
       "2      0.058852   -2.296363  0.489948   -1.049828         1.334529   \n",
       "3      1.002845   -0.082621  0.672290    0.925594        -0.987527   \n",
       "4     -0.638251   -1.251244  1.372134    0.282400        -0.353439   \n",
       "...         ...         ...       ...         ...              ...   \n",
       "32556 -0.726451   -0.963650  0.818653    1.118102        -2.375553   \n",
       "32557  0.196020   -0.835163 -0.283356   -0.585056        -0.275931   \n",
       "32558  1.289240   -0.848548 -0.308100   -1.686291         2.186233   \n",
       "32559 -1.243274   -0.892646  0.309034   -1.730018         0.107874   \n",
       "32560  0.936333    1.684794  1.010750   -1.121174        -2.467058   \n",
       "\n",
       "        occupation   relationship      race       sex   capital-gain  \\\n",
       "0        -0.105988      -0.043915 -1.058058 -1.340610        1.43555   \n",
       "1        -0.561299      -0.420319  0.881106 -0.403390       -0.10440   \n",
       "2         1.290583       0.119271 -0.746399 -0.881571       -0.10440   \n",
       "3         1.266692      -0.682691  1.157041 -0.804425       -0.10440   \n",
       "4        -1.249429       1.529919  1.281239  1.077036       -0.10440   \n",
       "...            ...            ...       ...       ...            ...   \n",
       "32556     1.895564       1.579762 -0.736827  1.549837       -0.10440   \n",
       "32557     0.603789      -0.299258 -0.626251  0.051474       -0.10440   \n",
       "32558    -0.217588       1.165129 -0.670228  0.786277       -0.10440   \n",
       "32559    -0.268922       0.543689 -1.041535 -1.247890       -0.10440   \n",
       "32560    -0.589887       1.453628 -0.299283  1.920014        2.24510   \n",
       "\n",
       "        capital-loss   hours-per-week   native-country    salary  label  \n",
       "0          -0.058451        -0.067801        -2.295579  0.214439      1  \n",
       "1          -0.058451        -1.905164        -1.253367  0.598588      0  \n",
       "2          -0.058451        -0.067801        -2.411149  0.503325      3  \n",
       "3          -0.058451        -0.067801        -2.615682 -0.003993      0  \n",
       "4          -0.058451        -0.067801         1.791819 -0.250000      3  \n",
       "...              ...              ...              ...       ...    ...  \n",
       "32556      -0.058451        -0.755303         0.542195 -0.821594      3  \n",
       "32557      -0.058451        -0.067801        -1.001893  1.281797      0  \n",
       "32558      -0.058451        -0.067801         0.326798 -0.593642      2  \n",
       "32559      -0.058451        -1.471805        -0.241485 -1.513968      3  \n",
       "32560      -0.058451        -0.067801        -0.358007  1.132613      1  \n",
       "\n",
       "[32561 rows x 15 columns]"
      ]
     },
     "execution_count": 20,
     "metadata": {},
     "output_type": "execute_result"
    }
   ],
   "source": [
    "# covariance_matrix = GMM_invers_cdf_table.cov()\n",
    "num_of_cluster = 4\n",
    "\n",
    "\n",
    "kmeans = KMeans(n_clusters=num_of_cluster, random_state=0)\n",
    "kmeans.fit(GMM_invers_cdf_table)\n",
    "labels = kmeans.labels_\n",
    "GMM_invers_cdf_table['label'] = labels\n",
    "GMM_invers_cdf_table"
   ]
  },
  {
   "cell_type": "code",
   "execution_count": 22,
   "metadata": {},
   "outputs": [
    {
     "data": {
      "text/html": [
       "<style>#sk-container-id-3 {color: black;}#sk-container-id-3 pre{padding: 0;}#sk-container-id-3 div.sk-toggleable {background-color: white;}#sk-container-id-3 label.sk-toggleable__label {cursor: pointer;display: block;width: 100%;margin-bottom: 0;padding: 0.3em;box-sizing: border-box;text-align: center;}#sk-container-id-3 label.sk-toggleable__label-arrow:before {content: \"▸\";float: left;margin-right: 0.25em;color: #696969;}#sk-container-id-3 label.sk-toggleable__label-arrow:hover:before {color: black;}#sk-container-id-3 div.sk-estimator:hover label.sk-toggleable__label-arrow:before {color: black;}#sk-container-id-3 div.sk-toggleable__content {max-height: 0;max-width: 0;overflow: hidden;text-align: left;background-color: #f0f8ff;}#sk-container-id-3 div.sk-toggleable__content pre {margin: 0.2em;color: black;border-radius: 0.25em;background-color: #f0f8ff;}#sk-container-id-3 input.sk-toggleable__control:checked~div.sk-toggleable__content {max-height: 200px;max-width: 100%;overflow: auto;}#sk-container-id-3 input.sk-toggleable__control:checked~label.sk-toggleable__label-arrow:before {content: \"▾\";}#sk-container-id-3 div.sk-estimator input.sk-toggleable__control:checked~label.sk-toggleable__label {background-color: #d4ebff;}#sk-container-id-3 div.sk-label input.sk-toggleable__control:checked~label.sk-toggleable__label {background-color: #d4ebff;}#sk-container-id-3 input.sk-hidden--visually {border: 0;clip: rect(1px 1px 1px 1px);clip: rect(1px, 1px, 1px, 1px);height: 1px;margin: -1px;overflow: hidden;padding: 0;position: absolute;width: 1px;}#sk-container-id-3 div.sk-estimator {font-family: monospace;background-color: #f0f8ff;border: 1px dotted black;border-radius: 0.25em;box-sizing: border-box;margin-bottom: 0.5em;}#sk-container-id-3 div.sk-estimator:hover {background-color: #d4ebff;}#sk-container-id-3 div.sk-parallel-item::after {content: \"\";width: 100%;border-bottom: 1px solid gray;flex-grow: 1;}#sk-container-id-3 div.sk-label:hover label.sk-toggleable__label {background-color: #d4ebff;}#sk-container-id-3 div.sk-serial::before {content: \"\";position: absolute;border-left: 1px solid gray;box-sizing: border-box;top: 0;bottom: 0;left: 50%;z-index: 0;}#sk-container-id-3 div.sk-serial {display: flex;flex-direction: column;align-items: center;background-color: white;padding-right: 0.2em;padding-left: 0.2em;position: relative;}#sk-container-id-3 div.sk-item {position: relative;z-index: 1;}#sk-container-id-3 div.sk-parallel {display: flex;align-items: stretch;justify-content: center;background-color: white;position: relative;}#sk-container-id-3 div.sk-item::before, #sk-container-id-3 div.sk-parallel-item::before {content: \"\";position: absolute;border-left: 1px solid gray;box-sizing: border-box;top: 0;bottom: 0;left: 50%;z-index: -1;}#sk-container-id-3 div.sk-parallel-item {display: flex;flex-direction: column;z-index: 1;position: relative;background-color: white;}#sk-container-id-3 div.sk-parallel-item:first-child::after {align-self: flex-end;width: 50%;}#sk-container-id-3 div.sk-parallel-item:last-child::after {align-self: flex-start;width: 50%;}#sk-container-id-3 div.sk-parallel-item:only-child::after {width: 0;}#sk-container-id-3 div.sk-dashed-wrapped {border: 1px dashed gray;margin: 0 0.4em 0.5em 0.4em;box-sizing: border-box;padding-bottom: 0.4em;background-color: white;}#sk-container-id-3 div.sk-label label {font-family: monospace;font-weight: bold;display: inline-block;line-height: 1.2em;}#sk-container-id-3 div.sk-label-container {text-align: center;}#sk-container-id-3 div.sk-container {/* jupyter's `normalize.less` sets `[hidden] { display: none; }` but bootstrap.min.css set `[hidden] { display: none !important; }` so we also need the `!important` here to be able to override the default hidden behavior on the sphinx rendered scikit-learn.org. See: https://github.com/scikit-learn/scikit-learn/issues/21755 */display: inline-block !important;position: relative;}#sk-container-id-3 div.sk-text-repr-fallback {display: none;}</style><div id=\"sk-container-id-3\" class=\"sk-top-container\"><div class=\"sk-text-repr-fallback\"><pre>GaussianMixture(means_init=array([[ 0.37433722,  0.01528035, -0.09352161, -0.31146272, -0.75912225,\n",
       "         0.50231188, -0.86365889, -0.09046145, -0.61681827, -0.00381821,\n",
       "         0.02291056,  0.18095876, -0.04667313, -0.27525852],\n",
       "       [ 0.4053578 ,  0.16284511,  0.0186746 ,  0.41237827, -0.68147206,\n",
       "        -0.75243965, -0.72919914, -0.12307111, -0.48975017,  0.31010285,\n",
       "         0.14812004,  0.54653404,  0.00909283,  1.04...\n",
       "       [ 0.45465861,  0.1157137 , -0.22861928, -0.04099426,  0.92787747,\n",
       "        -0.1720029 ,  0.69254332,  0.14422063,  0.8000592 ,  0.01469619,\n",
       "         0.02047197, -0.1094419 ,  0.01407638, -0.21906158],\n",
       "       [-1.05544698, -0.25203027,  0.27302458, -0.03929799,  0.32317453,\n",
       "         0.35173382,  0.66391816,  0.0412178 ,  0.16571429, -0.0579044 ,\n",
       "        -0.00857345, -0.49012163,  0.01825526, -0.41366119]]),\n",
       "                n_components=4, random_state=0)</pre><b>In a Jupyter environment, please rerun this cell to show the HTML representation or trust the notebook. <br />On GitHub, the HTML representation is unable to render, please try loading this page with nbviewer.org.</b></div><div class=\"sk-container\" hidden><div class=\"sk-item\"><div class=\"sk-estimator sk-toggleable\"><input class=\"sk-toggleable__control sk-hidden--visually\" id=\"sk-estimator-id-3\" type=\"checkbox\" checked><label for=\"sk-estimator-id-3\" class=\"sk-toggleable__label sk-toggleable__label-arrow\">GaussianMixture</label><div class=\"sk-toggleable__content\"><pre>GaussianMixture(means_init=array([[ 0.37433722,  0.01528035, -0.09352161, -0.31146272, -0.75912225,\n",
       "         0.50231188, -0.86365889, -0.09046145, -0.61681827, -0.00381821,\n",
       "         0.02291056,  0.18095876, -0.04667313, -0.27525852],\n",
       "       [ 0.4053578 ,  0.16284511,  0.0186746 ,  0.41237827, -0.68147206,\n",
       "        -0.75243965, -0.72919914, -0.12307111, -0.48975017,  0.31010285,\n",
       "         0.14812004,  0.54653404,  0.00909283,  1.04...\n",
       "       [ 0.45465861,  0.1157137 , -0.22861928, -0.04099426,  0.92787747,\n",
       "        -0.1720029 ,  0.69254332,  0.14422063,  0.8000592 ,  0.01469619,\n",
       "         0.02047197, -0.1094419 ,  0.01407638, -0.21906158],\n",
       "       [-1.05544698, -0.25203027,  0.27302458, -0.03929799,  0.32317453,\n",
       "         0.35173382,  0.66391816,  0.0412178 ,  0.16571429, -0.0579044 ,\n",
       "        -0.00857345, -0.49012163,  0.01825526, -0.41366119]]),\n",
       "                n_components=4, random_state=0)</pre></div></div></div></div></div>"
      ],
      "text/plain": [
       "GaussianMixture(means_init=array([[ 0.37433722,  0.01528035, -0.09352161, -0.31146272, -0.75912225,\n",
       "         0.50231188, -0.86365889, -0.09046145, -0.61681827, -0.00381821,\n",
       "         0.02291056,  0.18095876, -0.04667313, -0.27525852],\n",
       "       [ 0.4053578 ,  0.16284511,  0.0186746 ,  0.41237827, -0.68147206,\n",
       "        -0.75243965, -0.72919914, -0.12307111, -0.48975017,  0.31010285,\n",
       "         0.14812004,  0.54653404,  0.00909283,  1.04...\n",
       "       [ 0.45465861,  0.1157137 , -0.22861928, -0.04099426,  0.92787747,\n",
       "        -0.1720029 ,  0.69254332,  0.14422063,  0.8000592 ,  0.01469619,\n",
       "         0.02047197, -0.1094419 ,  0.01407638, -0.21906158],\n",
       "       [-1.05544698, -0.25203027,  0.27302458, -0.03929799,  0.32317453,\n",
       "         0.35173382,  0.66391816,  0.0412178 ,  0.16571429, -0.0579044 ,\n",
       "        -0.00857345, -0.49012163,  0.01825526, -0.41366119]]),\n",
       "                n_components=4, random_state=0)"
      ]
     },
     "execution_count": 22,
     "metadata": {},
     "output_type": "execute_result"
    }
   ],
   "source": [
    "centroids = kmeans.cluster_centers_\n",
    "\n",
    "gmm_overall = GaussianMixture(n_components=num_of_cluster, covariance_type='full', random_state=0)\n",
    "\n",
    "gmm_overall.means_init = centroids ## Initial the means to let the apply components on different cluster\n",
    "\n",
    "gmm_overall.fit(GMM_invers_cdf_table.iloc[:,0:14])"
   ]
  },
  {
   "cell_type": "code",
   "execution_count": 23,
   "metadata": {},
   "outputs": [
    {
     "data": {
      "text/html": [
       "<div>\n",
       "<style scoped>\n",
       "    .dataframe tbody tr th:only-of-type {\n",
       "        vertical-align: middle;\n",
       "    }\n",
       "\n",
       "    .dataframe tbody tr th {\n",
       "        vertical-align: top;\n",
       "    }\n",
       "\n",
       "    .dataframe thead tr th {\n",
       "        text-align: left;\n",
       "    }\n",
       "\n",
       "    .dataframe thead tr:last-of-type th {\n",
       "        text-align: right;\n",
       "    }\n",
       "</style>\n",
       "<table border=\"1\" class=\"dataframe\">\n",
       "  <thead>\n",
       "    <tr>\n",
       "      <th></th>\n",
       "      <th colspan=\"3\" halign=\"left\">age</th>\n",
       "      <th colspan=\"3\" halign=\"left\">workclass</th>\n",
       "      <th colspan=\"3\" halign=\"left\">fnlwgt</th>\n",
       "      <th>education</th>\n",
       "      <th>...</th>\n",
       "      <th>capital-loss</th>\n",
       "      <th colspan=\"3\" halign=\"left\">hours-per-week</th>\n",
       "      <th colspan=\"3\" halign=\"left\">native-country</th>\n",
       "      <th colspan=\"3\" halign=\"left\">salary</th>\n",
       "    </tr>\n",
       "    <tr>\n",
       "      <th></th>\n",
       "      <th>mean</th>\n",
       "      <th>median</th>\n",
       "      <th>std</th>\n",
       "      <th>mean</th>\n",
       "      <th>median</th>\n",
       "      <th>std</th>\n",
       "      <th>mean</th>\n",
       "      <th>median</th>\n",
       "      <th>std</th>\n",
       "      <th>mean</th>\n",
       "      <th>...</th>\n",
       "      <th>std</th>\n",
       "      <th>mean</th>\n",
       "      <th>median</th>\n",
       "      <th>std</th>\n",
       "      <th>mean</th>\n",
       "      <th>median</th>\n",
       "      <th>std</th>\n",
       "      <th>mean</th>\n",
       "      <th>median</th>\n",
       "      <th>std</th>\n",
       "    </tr>\n",
       "    <tr>\n",
       "      <th>label</th>\n",
       "      <th></th>\n",
       "      <th></th>\n",
       "      <th></th>\n",
       "      <th></th>\n",
       "      <th></th>\n",
       "      <th></th>\n",
       "      <th></th>\n",
       "      <th></th>\n",
       "      <th></th>\n",
       "      <th></th>\n",
       "      <th></th>\n",
       "      <th></th>\n",
       "      <th></th>\n",
       "      <th></th>\n",
       "      <th></th>\n",
       "      <th></th>\n",
       "      <th></th>\n",
       "      <th></th>\n",
       "      <th></th>\n",
       "      <th></th>\n",
       "      <th></th>\n",
       "    </tr>\n",
       "  </thead>\n",
       "  <tbody>\n",
       "    <tr>\n",
       "      <th>0</th>\n",
       "      <td>0.373140</td>\n",
       "      <td>0.256812</td>\n",
       "      <td>0.842436</td>\n",
       "      <td>0.014755</td>\n",
       "      <td>0.055626</td>\n",
       "      <td>0.982120</td>\n",
       "      <td>-0.093025</td>\n",
       "      <td>-0.071584</td>\n",
       "      <td>0.994750</td>\n",
       "      <td>-0.312278</td>\n",
       "      <td>...</td>\n",
       "      <td>0.412824</td>\n",
       "      <td>0.181748</td>\n",
       "      <td>-0.067801</td>\n",
       "      <td>0.928528</td>\n",
       "      <td>-0.047088</td>\n",
       "      <td>-0.046578</td>\n",
       "      <td>0.973714</td>\n",
       "      <td>-0.275660</td>\n",
       "      <td>-0.260620</td>\n",
       "      <td>0.912556</td>\n",
       "    </tr>\n",
       "    <tr>\n",
       "      <th>1</th>\n",
       "      <td>0.405830</td>\n",
       "      <td>0.372476</td>\n",
       "      <td>0.700457</td>\n",
       "      <td>0.162690</td>\n",
       "      <td>0.150483</td>\n",
       "      <td>1.045629</td>\n",
       "      <td>0.018747</td>\n",
       "      <td>-0.004893</td>\n",
       "      <td>0.977212</td>\n",
       "      <td>0.412327</td>\n",
       "      <td>...</td>\n",
       "      <td>0.651781</td>\n",
       "      <td>0.545606</td>\n",
       "      <td>0.677399</td>\n",
       "      <td>0.843673</td>\n",
       "      <td>0.008918</td>\n",
       "      <td>0.012384</td>\n",
       "      <td>0.998454</td>\n",
       "      <td>1.044273</td>\n",
       "      <td>1.037269</td>\n",
       "      <td>0.726787</td>\n",
       "    </tr>\n",
       "    <tr>\n",
       "      <th>2</th>\n",
       "      <td>0.455723</td>\n",
       "      <td>0.372476</td>\n",
       "      <td>0.793671</td>\n",
       "      <td>0.116798</td>\n",
       "      <td>0.114973</td>\n",
       "      <td>0.990293</td>\n",
       "      <td>-0.227539</td>\n",
       "      <td>-0.212093</td>\n",
       "      <td>0.943950</td>\n",
       "      <td>-0.039896</td>\n",
       "      <td>...</td>\n",
       "      <td>0.414421</td>\n",
       "      <td>-0.107231</td>\n",
       "      <td>-0.067801</td>\n",
       "      <td>0.908100</td>\n",
       "      <td>0.014672</td>\n",
       "      <td>0.016104</td>\n",
       "      <td>1.012613</td>\n",
       "      <td>-0.219298</td>\n",
       "      <td>-0.172824</td>\n",
       "      <td>0.857791</td>\n",
       "    </tr>\n",
       "    <tr>\n",
       "      <th>3</th>\n",
       "      <td>-1.055318</td>\n",
       "      <td>-0.993668</td>\n",
       "      <td>0.660863</td>\n",
       "      <td>-0.252340</td>\n",
       "      <td>-0.248248</td>\n",
       "      <td>0.934108</td>\n",
       "      <td>0.271382</td>\n",
       "      <td>0.287717</td>\n",
       "      <td>1.000472</td>\n",
       "      <td>-0.039567</td>\n",
       "      <td>...</td>\n",
       "      <td>0.314687</td>\n",
       "      <td>-0.491967</td>\n",
       "      <td>-0.067801</td>\n",
       "      <td>0.867022</td>\n",
       "      <td>0.018195</td>\n",
       "      <td>0.014785</td>\n",
       "      <td>1.007636</td>\n",
       "      <td>-0.413199</td>\n",
       "      <td>-0.322874</td>\n",
       "      <td>0.777752</td>\n",
       "    </tr>\n",
       "  </tbody>\n",
       "</table>\n",
       "<p>4 rows × 42 columns</p>\n",
       "</div>"
      ],
      "text/plain": [
       "            age                      workclass                        fnlwgt  \\\n",
       "           mean    median       std       mean    median       std      mean   \n",
       "label                                                                          \n",
       "0      0.373140  0.256812  0.842436   0.014755  0.055626  0.982120 -0.093025   \n",
       "1      0.405830  0.372476  0.700457   0.162690  0.150483  1.045629  0.018747   \n",
       "2      0.455723  0.372476  0.793671   0.116798  0.114973  0.990293 -0.227539   \n",
       "3     -1.055318 -0.993668  0.660863  -0.252340 -0.248248  0.934108  0.271382   \n",
       "\n",
       "                           education  ...  capital-loss  hours-per-week  \\\n",
       "         median       std       mean  ...           std            mean   \n",
       "label                                 ...                                 \n",
       "0     -0.071584  0.994750  -0.312278  ...      0.412824        0.181748   \n",
       "1     -0.004893  0.977212   0.412327  ...      0.651781        0.545606   \n",
       "2     -0.212093  0.943950  -0.039896  ...      0.414421       -0.107231   \n",
       "3      0.287717  1.000472  -0.039567  ...      0.314687       -0.491967   \n",
       "\n",
       "                           native-country                        salary  \\\n",
       "         median       std            mean    median       std      mean   \n",
       "label                                                                     \n",
       "0     -0.067801  0.928528       -0.047088 -0.046578  0.973714 -0.275660   \n",
       "1      0.677399  0.843673        0.008918  0.012384  0.998454  1.044273   \n",
       "2     -0.067801  0.908100        0.014672  0.016104  1.012613 -0.219298   \n",
       "3     -0.067801  0.867022        0.018195  0.014785  1.007636 -0.413199   \n",
       "\n",
       "                           \n",
       "         median       std  \n",
       "label                      \n",
       "0     -0.260620  0.912556  \n",
       "1      1.037269  0.726787  \n",
       "2     -0.172824  0.857791  \n",
       "3     -0.322874  0.777752  \n",
       "\n",
       "[4 rows x 42 columns]"
      ]
     },
     "execution_count": 23,
     "metadata": {},
     "output_type": "execute_result"
    }
   ],
   "source": [
    "cluster_summary = GMM_invers_cdf_table.groupby('label').agg(['mean', 'median', 'std'])\n",
    "\n",
    "cluster_summary"
   ]
  },
  {
   "cell_type": "code",
   "execution_count": 24,
   "metadata": {},
   "outputs": [],
   "source": [
    "synthetic_overall = gmm_overall.sample(len(GMM_invers_cdf_table))[0]\n",
    "\n",
    "column_names = ['age', ' workclass', ' fnlwgt', ' education', ' marital-status', ' occupation', ' relationship', ' race',\n",
    "                                                             ' sex', ' capital-gain', ' capital-loss', ' hours-per-week', ' native-country', ' salary']\n",
    "synthetic_overall_df = pd.DataFrame(synthetic_overall, columns=column_names)\n",
    "\n",
    "\n",
    "synthetic_overall_df\n",
    "\n",
    "covariance_matrix = synthetic_overall_df.cov()"
   ]
  },
  {
   "cell_type": "code",
   "execution_count": 25,
   "metadata": {},
   "outputs": [],
   "source": [
    "gmm_age_dict = {\n",
    "    'weights_': gmm_age.weights_, \n",
    "    'means_': gmm_age.means_, \n",
    "    'covariances_': gmm_age.covariances_ \n",
    "}\n",
    "gmm_workclass_dict = {\n",
    "    'weights_': gmm_workclass.weights_, \n",
    "    'means_': gmm_workclass.means_, \n",
    "    'covariances_': gmm_workclass.covariances_ \n",
    "}\n",
    "gmm_fnlwgt_dict = {\n",
    "    'weights_': gmm_fnlwgt.weights_, \n",
    "    'means_': gmm_fnlwgt.means_, \n",
    "    'covariances_': gmm_fnlwgt.covariances_ \n",
    "}\n",
    "gmm_education_dict = {\n",
    "    'weights_': gmm_education.weights_, \n",
    "    'means_': gmm_education.means_, \n",
    "    'covariances_': gmm_education.covariances_ \n",
    "}\n",
    "gmm_marital_dict = {\n",
    "    'weights_': gmm_marital.weights_, \n",
    "    'means_': gmm_marital.means_, \n",
    "    'covariances_': gmm_marital.covariances_ \n",
    "}\n",
    "gmm_occupation_dict = {\n",
    "    'weights_': gmm_occupation.weights_, \n",
    "    'means_': gmm_occupation.means_, \n",
    "    'covariances_': gmm_occupation.covariances_ \n",
    "}\n",
    "gmm_relationship_dict = {\n",
    "    'weights_': gmm_relationship.weights_, \n",
    "    'means_': gmm_relationship.means_, \n",
    "    'covariances_': gmm_relationship.covariances_ \n",
    "}\n",
    "gmm_race_dict = {\n",
    "    'weights_': gmm_race.weights_, \n",
    "    'means_': gmm_race.means_, \n",
    "    'covariances_': gmm_race.covariances_ \n",
    "}\n",
    "gmm_sex_dict = {\n",
    "    'weights_': gmm_sex.weights_, \n",
    "    'means_': gmm_sex.means_, \n",
    "    'covariances_': gmm_sex.covariances_ \n",
    "}\n",
    "gmm_gain_dict = {\n",
    "    'weights_': gmm_gain.weights_, \n",
    "    'means_': gmm_gain.means_, \n",
    "    'covariances_': gmm_gain.covariances_ \n",
    "}\n",
    "gmm_loss_dict = {\n",
    "    'weights_': gmm_loss.weights_, \n",
    "    'means_': gmm_loss.means_, \n",
    "    'covariances_': gmm_loss.covariances_ \n",
    "}\n",
    "gmm_country_dict = {\n",
    "    'weights_': gmm_country.weights_, \n",
    "    'means_': gmm_country.means_, \n",
    "    'covariances_': gmm_country.covariances_ \n",
    "}\n",
    "gmm_salary_dict = {\n",
    "    'weights_': gmm_salary.weights_, \n",
    "    'means_': gmm_salary.means_, \n",
    "    'covariances_': gmm_salary.covariances_ \n",
    "}\n",
    "\n",
    "gmm_hours_dict = {\n",
    "    'weights_': gmm_hours.weights_,\n",
    "    'means_': gmm_hours.means_, \n",
    "    'covariances_': gmm_hours.covariances_  \n",
    "}\n",
    "\n",
    "\n",
    "age_bounds = (synthetic_overall_df['age'].min(), synthetic_overall_df['age'].max())\n",
    "workclass_bounds = (synthetic_overall_df[' workclass'].min(), synthetic_overall_df[' workclass'].max())\n",
    "fnlwgt_bounds = (synthetic_overall_df[' fnlwgt'].min(), synthetic_overall_df[' fnlwgt'].max())\n",
    "education_bounds = (synthetic_overall_df[' education'].min(), synthetic_overall_df[' education'].max())\n",
    "marital_bounds = (synthetic_overall_df[' marital-status'].min(), synthetic_overall_df[' marital-status'].max())\n",
    "occupation_bounds = (synthetic_overall_df[' occupation'].min(), synthetic_overall_df[' occupation'].max())\n",
    "relationship_bounds = (synthetic_overall_df[' relationship'].min(), synthetic_overall_df[' relationship'].max())\n",
    "race_bounds = (synthetic_overall_df[' race'].min(), synthetic_overall_df[' race'].max())\n",
    "sex_bounds = (synthetic_overall_df[' sex'].min(), synthetic_overall_df[' sex'].max())\n",
    "gain_bounds = (synthetic_overall_df[' capital-gain'].min(), synthetic_overall_df[' capital-gain'].max())\n",
    "loss_bounds = (synthetic_overall_df[' capital-loss'].min(), synthetic_overall_df[' capital-loss'].max())\n",
    "country_bounds = (synthetic_overall_df[' native-country'].min(), synthetic_overall_df[' native-country'].max())\n",
    "salary_bounds = (synthetic_overall_df[' salary'].min(), synthetic_overall_df[' salary'].max())\n",
    "hours_bounds = (synthetic_overall_df[' hours-per-week'].min(), synthetic_overall_df[' hours-per-week'].max())   \n",
    "probabilities = [0.1, 0.5, 0.9]\n",
    "\n",
    "age_cdf_check = check_cdf_bounds(gmm_age_dict, age_bounds, probabilities)\n",
    "workclass_cdf_check = check_cdf_bounds(gmm_workclass_dict, workclass_bounds, probabilities)\n",
    "fnlwgt_cdf_check = check_cdf_bounds(gmm_fnlwgt_dict, fnlwgt_bounds, probabilities)\n",
    "education_cdf_check = check_cdf_bounds(gmm_education_dict, education_bounds, probabilities)\n",
    "marital_cdf_check = check_cdf_bounds(gmm_marital_dict, marital_bounds, probabilities)\n",
    "occupation_cdf_check = check_cdf_bounds(gmm_occupation_dict, occupation_bounds, probabilities)\n",
    "relationship_cdf_check = check_cdf_bounds(gmm_relationship_dict, relationship_bounds, probabilities)\n",
    "race_cdf_check = check_cdf_bounds(gmm_race_dict, race_bounds, probabilities)\n",
    "sex_cdf_check = check_cdf_bounds(gmm_sex_dict, sex_bounds, probabilities)\n",
    "gain_cdf_check = check_cdf_bounds(gmm_gain_dict, gain_bounds, probabilities)\n",
    "loss_cdf_check = check_cdf_bounds(gmm_loss_dict, loss_bounds, probabilities)\n",
    "country_cdf_check = check_cdf_bounds(gmm_country_dict, country_bounds, probabilities)\n",
    "salary_cdf_check = check_cdf_bounds(gmm_salary_dict, salary_bounds, probabilities)\n",
    "hours_cdf_check = check_cdf_bounds(gmm_hours_dict, hours_bounds, probabilities)\n",
    "# (age_cdf_check, hours_cdf_check)"
   ]
  },
  {
   "cell_type": "code",
   "execution_count": 26,
   "metadata": {},
   "outputs": [],
   "source": [
    "new_age_bounds = compute_gmm_bounds(gmm_age_dict)\n",
    "new_workclass_bounds = compute_gmm_bounds(gmm_workclass_dict)\n",
    "new_fnlwgt_bounds = compute_gmm_bounds(gmm_fnlwgt_dict)\n",
    "new_marital_bounds = compute_gmm_bounds(gmm_marital_dict)\n",
    "new_education_bounds = compute_gmm_bounds(gmm_education_dict)\n",
    "new_occupation_bounds = compute_gmm_bounds(gmm_occupation_dict)\n",
    "new_relationship_bounds = compute_gmm_bounds(gmm_relationship_dict)\n",
    "new_race_bounds = compute_gmm_bounds(gmm_race_dict)\n",
    "new_sex_bounds = compute_gmm_bounds(gmm_sex_dict)\n",
    "new_gain_bounds = compute_gmm_bounds(gmm_gain_dict)\n",
    "new_loss_bounds = compute_gmm_bounds(gmm_loss_dict)\n",
    "new_country_bounds = compute_gmm_bounds(gmm_country_dict)\n",
    "new_salary_bounds = compute_gmm_bounds(gmm_salary_dict)\n",
    "new_hours_bounds = compute_gmm_bounds(gmm_hours_dict)\n",
    "\n",
    "# # Check the new CDF values at the computed bounds\n",
    "# new_age_cdf_check = check_cdf_bounds(gmm_age_dict, new_age_bounds, probabilities)\n",
    "# new_hours_cdf_check = check_cdf_bounds(gmm_hours_dict, new_hours_bounds, probabilities)"
   ]
  },
  {
   "cell_type": "code",
   "execution_count": 27,
   "metadata": {},
   "outputs": [],
   "source": [
    "def inverse_cdf_gmm_age(p):\n",
    "    lower_bound, upper_bound = new_age_bounds\n",
    "    for _ in range(5):\n",
    "        f_lower = gmm_cdf(lower_bound, gmm_age) - p\n",
    "        f_upper = gmm_cdf(upper_bound, gmm_age) - p\n",
    "        # Check if the signs are different\n",
    "        if np.sign(f_lower) != np.sign(f_upper):\n",
    "            try:\n",
    "                return brentq(lambda x: gmm_cdf(x, gmm_age) - p, lower_bound, upper_bound, xtol=1e-6, rtol=1e-6)\n",
    "            except ValueError as e:\n",
    "                print(f\"Failed to converge for p={p} with bounds ({lower_bound}, {upper_bound}): {e}\")\n",
    "                return np.nan  # or some other sentinel value indicating failure\n",
    "        else:\n",
    "            # Adjust the bounds\n",
    "            lower_bound *= 0.9  # shrink the bounds\n",
    "            upper_bound *= 1.1  # expand the bounds\n",
    "    print(f\"Failed to find valid bounds for p={p} after {5} retries\")\n",
    "    return np.nan  # or some other sentinel value indicating failure\n",
    "\n",
    "def inverse_cdf_gmm_workclass(p):\n",
    "    lower_bound, upper_bound = new_workclass_bounds\n",
    "    for _ in range(5):\n",
    "        f_lower = gmm_cdf(lower_bound, gmm_workclass) - p\n",
    "        f_upper = gmm_cdf(upper_bound, gmm_workclass) - p\n",
    "        # Check if the signs are different\n",
    "        if np.sign(f_lower) != np.sign(f_upper):\n",
    "            try:\n",
    "                return brentq(lambda x: gmm_cdf(x, gmm_workclass) - p, lower_bound, upper_bound, xtol=1e-6, rtol=1e-6)\n",
    "            except ValueError as e:\n",
    "                print(f\"Failed to converge for p={p} with bounds ({lower_bound}, {upper_bound}): {e}\")\n",
    "                return np.nan  # or some other sentinel value indicating failure\n",
    "        else:\n",
    "            # Adjust the bounds\n",
    "            lower_bound *= 0.9  # shrink the bounds\n",
    "            upper_bound *= 1.1  # expand the bounds\n",
    "    print(f\"Failed to find valid bounds for p={p} after {5} retries\")\n",
    "    return np.nan  # or some other sentinel value indicating failure\n",
    "\n",
    "def inverse_cdf_gmm_fnlwgt(p):\n",
    "    lower_bound, upper_bound = new_fnlwgt_bounds\n",
    "    for _ in range(5):\n",
    "        f_lower = gmm_cdf(lower_bound, gmm_fnlwgt) - p\n",
    "        f_upper = gmm_cdf(upper_bound, gmm_fnlwgt) - p\n",
    "        # Check if the signs are different\n",
    "        if np.sign(f_lower) != np.sign(f_upper):\n",
    "            try:\n",
    "                return brentq(lambda x: gmm_cdf(x, gmm_fnlwgt) - p, lower_bound, upper_bound, xtol=1e-6, rtol=1e-6)\n",
    "            except ValueError as e:\n",
    "                print(f\"Failed to converge for p={p} with bounds ({lower_bound}, {upper_bound}): {e}\")\n",
    "                return np.nan  # or some other sentinel value indicating failure\n",
    "        else:\n",
    "            # Adjust the bounds\n",
    "            lower_bound *= 0.9  # shrink the bounds\n",
    "            upper_bound *= 1.1  # expand the bounds\n",
    "    print(f\"Failed to find valid bounds for p={p} after {5} retries\")\n",
    "    return np.nan  # or some other sentinel value indicating failure\n",
    "\n",
    "def inverse_cdf_gmm_education(p):\n",
    "    lower_bound, upper_bound = new_education_bounds\n",
    "    for _ in range(5):\n",
    "        f_lower = gmm_cdf(lower_bound, gmm_education) - p\n",
    "        f_upper = gmm_cdf(upper_bound, gmm_education) - p\n",
    "        # Check if the signs are different\n",
    "        if np.sign(f_lower) != np.sign(f_upper):\n",
    "            try:\n",
    "                return brentq(lambda x: gmm_cdf(x, gmm_education) - p, lower_bound, upper_bound, xtol=1e-6, rtol=1e-6)\n",
    "            except ValueError as e:\n",
    "                print(f\"Failed to converge for p={p} with bounds ({lower_bound}, {upper_bound}): {e}\")\n",
    "                return np.nan  # or some other sentinel value indicating failure\n",
    "        else:\n",
    "            # Adjust the bounds\n",
    "            lower_bound *= 0.9  # shrink the bounds\n",
    "            upper_bound *= 1.1  # expand the bounds\n",
    "    print(f\"Failed to find valid bounds for p={p} after {5} retries\")\n",
    "    return np.nan  # or some other sentinel value indicating failure\n",
    "\n",
    "\n",
    "def inverse_cdf_gmm_marital(p):\n",
    "    lower_bound, upper_bound = new_marital_bounds\n",
    "    for _ in range(5):\n",
    "        f_lower = gmm_cdf(lower_bound, gmm_marital) - p\n",
    "        f_upper = gmm_cdf(upper_bound, gmm_marital) - p\n",
    "        # Check if the signs are different\n",
    "        if np.sign(f_lower) != np.sign(f_upper):\n",
    "            try:\n",
    "                return brentq(lambda x: gmm_cdf(x, gmm_marital) - p, lower_bound, upper_bound, xtol=1e-6, rtol=1e-6)\n",
    "            except ValueError as e:\n",
    "                print(f\"Failed to converge for p={p} with bounds ({lower_bound}, {upper_bound}): {e}\")\n",
    "                return np.nan  # or some other sentinel value indicating failure\n",
    "        else:\n",
    "            # Adjust the bounds\n",
    "            lower_bound *= 0.9  # shrink the bounds\n",
    "            upper_bound *= 1.1  # expand the bounds\n",
    "    print(f\"Failed to find valid bounds for p={p} after {5} retries\")\n",
    "    return np.nan  # or some other sentinel value indicating failure\n",
    "\n",
    "\n",
    "def inverse_cdf_gmm_occupation(p):\n",
    "    lower_bound, upper_bound = new_occupation_bounds\n",
    "    for _ in range(5):\n",
    "        f_lower = gmm_cdf(lower_bound, gmm_occupation) - p\n",
    "        f_upper = gmm_cdf(upper_bound, gmm_occupation) - p\n",
    "        # Check if the signs are different\n",
    "        if np.sign(f_lower) != np.sign(f_upper):\n",
    "            try:\n",
    "                return brentq(lambda x: gmm_cdf(x, gmm_occupation) - p, lower_bound, upper_bound, xtol=1e-6, rtol=1e-6)\n",
    "            except ValueError as e:\n",
    "                print(f\"Failed to converge for p={p} with bounds ({lower_bound}, {upper_bound}): {e}\")\n",
    "                return np.nan  # or some other sentinel value indicating failure\n",
    "        else:\n",
    "            # Adjust the bounds\n",
    "            lower_bound *= 0.9  # shrink the bounds\n",
    "            upper_bound *= 1.1  # expand the bounds\n",
    "    print(f\"Failed to find valid bounds for p={p} after {5} retries\")\n",
    "    return np.nan  # or some other sentinel value indicating failure\n",
    "\n",
    "\n",
    "def inverse_cdf_gmm_relationship(p):\n",
    "    lower_bound, upper_bound = new_relationship_bounds\n",
    "    for _ in range(5):\n",
    "        f_lower = gmm_cdf(lower_bound, gmm_relationship) - p\n",
    "        f_upper = gmm_cdf(upper_bound, gmm_relationship) - p\n",
    "        # Check if the signs are different\n",
    "        if np.sign(f_lower) != np.sign(f_upper):\n",
    "            try:\n",
    "                return brentq(lambda x: gmm_cdf(x, gmm_relationship) - p, lower_bound, upper_bound, xtol=1e-6, rtol=1e-6)\n",
    "            except ValueError as e:\n",
    "                print(f\"Failed to converge for p={p} with bounds ({lower_bound}, {upper_bound}): {e}\")\n",
    "                return np.nan  # or some other sentinel value indicating failure\n",
    "        else:\n",
    "            # Adjust the bounds\n",
    "            lower_bound *= 0.9  # shrink the bounds\n",
    "            upper_bound *= 1.1  # expand the bounds\n",
    "    print(f\"Failed to find valid bounds for p={p} after {5} retries\")\n",
    "    return np.nan  # or some other sentinel value indicating failure\n",
    "\n",
    "\n",
    "def inverse_cdf_gmm_race(p):\n",
    "    lower_bound, upper_bound = new_race_bounds\n",
    "    for _ in range(5):\n",
    "        f_lower = gmm_cdf(lower_bound, gmm_race) - p\n",
    "        f_upper = gmm_cdf(upper_bound, gmm_race) - p\n",
    "        # Check if the signs are different\n",
    "        if np.sign(f_lower) != np.sign(f_upper):\n",
    "            try:\n",
    "                return brentq(lambda x: gmm_cdf(x, gmm_race) - p, lower_bound, upper_bound, xtol=1e-6, rtol=1e-6)\n",
    "            except ValueError as e:\n",
    "                print(f\"Failed to converge for p={p} with bounds ({lower_bound}, {upper_bound}): {e}\")\n",
    "                return np.nan  # or some other sentinel value indicating failure\n",
    "        else:\n",
    "            # Adjust the bounds\n",
    "            lower_bound *= 0.9  # shrink the bounds\n",
    "            upper_bound *= 1.1  # expand the bounds\n",
    "    print(f\"Failed to find valid bounds for p={p} after {5} retries\")\n",
    "    return np.nan  # or some other sentinel value indicating failure\n",
    "\n",
    "\n",
    "def inverse_cdf_gmm_sex(p):\n",
    "    lower_bound, upper_bound = new_sex_bounds\n",
    "    for _ in range(5):\n",
    "        f_lower = gmm_cdf(lower_bound, gmm_sex) - p\n",
    "        f_upper = gmm_cdf(upper_bound, gmm_sex) - p\n",
    "        # Check if the signs are different\n",
    "        if np.sign(f_lower) != np.sign(f_upper):\n",
    "            try:\n",
    "                return brentq(lambda x: gmm_cdf(x, gmm_sex) - p, lower_bound, upper_bound, xtol=1e-6, rtol=1e-6)\n",
    "            except ValueError as e:\n",
    "                print(f\"Failed to converge for p={p} with bounds ({lower_bound}, {upper_bound}): {e}\")\n",
    "                return np.nan  # or some other sentinel value indicating failure\n",
    "        else:\n",
    "            # Adjust the bounds\n",
    "            lower_bound *= 0.9  # shrink the bounds\n",
    "            upper_bound *= 1.1  # expand the bounds\n",
    "    print(f\"Failed to find valid bounds for p={p} after {5} retries\")\n",
    "    return np.nan  # or some other sentinel value indicating failure\n",
    "\n",
    "\n",
    "def inverse_cdf_gmm_gain(p):\n",
    "    lower_bound, upper_bound = new_gain_bounds\n",
    "    for _ in range(5):\n",
    "        f_lower = gmm_cdf(lower_bound, gmm_gain) - p\n",
    "        f_upper = gmm_cdf(upper_bound, gmm_gain) - p\n",
    "        # Check if the signs are different\n",
    "        if np.sign(f_lower) != np.sign(f_upper):\n",
    "            try:\n",
    "                return brentq(lambda x: gmm_cdf(x, gmm_gain) - p, lower_bound, upper_bound, xtol=1e-6, rtol=1e-6)\n",
    "            except ValueError as e:\n",
    "                print(f\"Failed to converge for p={p} with bounds ({lower_bound}, {upper_bound}): {e}\")\n",
    "                return np.nan  # or some other sentinel value indicating failure\n",
    "        else:\n",
    "            # Adjust the bounds\n",
    "            lower_bound *= 0.9  # shrink the bounds\n",
    "            upper_bound *= 1.1  # expand the bounds\n",
    "    print(f\"Failed to find valid bounds for p={p} after {5} retries\")\n",
    "    return np.nan  # or some other sentinel value indicating failure\n",
    "\n",
    "\n",
    "\n",
    "def inverse_cdf_gmm_loss(p):\n",
    "    lower_bound, upper_bound = new_loss_bounds\n",
    "    for _ in range(5):\n",
    "        f_lower = gmm_cdf(lower_bound, gmm_loss) - p\n",
    "        f_upper = gmm_cdf(upper_bound, gmm_loss) - p\n",
    "        # Check if the signs are different\n",
    "        if np.sign(f_lower) != np.sign(f_upper):\n",
    "            try:\n",
    "                return brentq(lambda x: gmm_cdf(x, gmm_loss) - p, lower_bound, upper_bound, xtol=1e-6, rtol=1e-6)\n",
    "            except ValueError as e:\n",
    "                print(f\"Failed to converge for p={p} with bounds ({lower_bound}, {upper_bound}): {e}\")\n",
    "                return np.nan  # or some other sentinel value indicating failure\n",
    "        else:\n",
    "            # Adjust the bounds\n",
    "            lower_bound *= 0.9  # shrink the bounds\n",
    "            upper_bound *= 1.1  # expand the bounds\n",
    "    print(f\"Failed to find valid bounds for p={p} after {5} retries\")\n",
    "    return np.nan  # or some other sentinel value indicating failure\n",
    "\n",
    "def inverse_cdf_gmm_hours(p):\n",
    "    lower_bound, upper_bound = new_hours_bounds\n",
    "    for _ in range(5):\n",
    "        f_lower = gmm_cdf(lower_bound, gmm_hours) - p\n",
    "        f_upper = gmm_cdf(upper_bound, gmm_hours) - p\n",
    "        if np.sign(f_lower) != np.sign(f_upper):\n",
    "            try:\n",
    "                return brentq(lambda x: gmm_cdf(x, gmm_hours) - p, lower_bound, upper_bound, xtol=1e-6, rtol=1e-6)\n",
    "            except ValueError as e:\n",
    "                print(f\"Failed to converge for p={p} with bounds ({lower_bound}, {upper_bound}): {e}\")\n",
    "                return np.nan  # or some other sentinel value indicating failure\n",
    "        else:\n",
    "            lower_bound *= 0.9  # shrink the bounds\n",
    "            upper_bound *= 1.1  # expand the bounds\n",
    "    print(f\"Failed to find valid bounds for p={p} after {5} retries\")\n",
    "    return np.nan  # or some other sentinel value indicating failure\n",
    "\n",
    "def inverse_cdf_gmm_country(p):\n",
    "    lower_bound, upper_bound = new_country_bounds\n",
    "    for _ in range(5):\n",
    "        f_lower = gmm_cdf(lower_bound, gmm_country) - p\n",
    "        f_upper = gmm_cdf(upper_bound, gmm_country) - p\n",
    "        # Check if the signs are different\n",
    "        if np.sign(f_lower) != np.sign(f_upper):\n",
    "            try:\n",
    "                return brentq(lambda x: gmm_cdf(x, gmm_country) - p, lower_bound, upper_bound, xtol=1e-6, rtol=1e-6)\n",
    "            except ValueError as e:\n",
    "                print(f\"Failed to converge for p={p} with bounds ({lower_bound}, {upper_bound}): {e}\")\n",
    "                return np.nan  # or some other sentinel value indicating failure\n",
    "        else:\n",
    "            # Adjust the bounds\n",
    "            lower_bound *= 0.9  # shrink the bounds\n",
    "            upper_bound *= 1.1  # expand the bounds\n",
    "    print(f\"Failed to find valid bounds for p={p} after {5} retries\")\n",
    "    return np.nan  # or some other sentinel value indicating failure\n",
    "\n",
    "\n",
    "def inverse_cdf_gmm_salary(p):\n",
    "    lower_bound, upper_bound = new_salary_bounds\n",
    "    for _ in range(5):\n",
    "        f_lower = gmm_cdf(lower_bound, gmm_salary) - p\n",
    "        f_upper = gmm_cdf(upper_bound, gmm_salary) - p\n",
    "        # Check if the signs are different\n",
    "        if np.sign(f_lower) != np.sign(f_upper):\n",
    "            try:\n",
    "                return brentq(lambda x: gmm_cdf(x, gmm_salary) - p, lower_bound, upper_bound, xtol=1e-6, rtol=1e-6)\n",
    "            except ValueError as e:\n",
    "                print(f\"Failed to converge for p={p} with bounds ({lower_bound}, {upper_bound}): {e}\")\n",
    "                return np.nan  # or some other sentinel value indicating failure\n",
    "        else:\n",
    "            # Adjust the bounds\n",
    "            lower_bound *= 0.9  # shrink the bounds\n",
    "            upper_bound *= 1.1  # expand the bounds\n",
    "    print(f\"Failed to find valid bounds for p={p} after {5} retries\")\n",
    "    return np.nan  # or some other sentinel value indicating failure\n",
    "\n",
    "\n",
    "F_inv = [inverse_cdf_gmm_age, inverse_cdf_gmm_workclass, inverse_cdf_gmm_fnlwgt, inverse_cdf_gmm_education, inverse_cdf_gmm_marital, inverse_cdf_gmm_occupation, \n",
    "         inverse_cdf_gmm_relationship, inverse_cdf_gmm_race, inverse_cdf_gmm_sex, inverse_cdf_gmm_gain, inverse_cdf_gmm_loss, inverse_cdf_gmm_hours, inverse_cdf_gmm_country, \n",
    "         inverse_cdf_gmm_salary]"
   ]
  },
  {
   "cell_type": "code",
   "execution_count": 28,
   "metadata": {},
   "outputs": [
    {
     "name": "stderr",
     "output_type": "stream",
     "text": [
      "  1%|          | 164/32561 [00:11<38:18, 14.10it/s]"
     ]
    },
    {
     "name": "stdout",
     "output_type": "stream",
     "text": [
      "Failed to find valid bounds for p=0.0009921010164711196 after 5 retries\n"
     ]
    },
    {
     "name": "stderr",
     "output_type": "stream",
     "text": [
      "  1%|          | 296/32561 [00:21<38:46, 13.87it/s]"
     ]
    },
    {
     "name": "stdout",
     "output_type": "stream",
     "text": [
      "Failed to find valid bounds for p=0.0008958487946306222 after 5 retries\n"
     ]
    },
    {
     "name": "stderr",
     "output_type": "stream",
     "text": [
      "  2%|▏         | 582/32561 [00:42<37:59, 14.03it/s]"
     ]
    },
    {
     "name": "stdout",
     "output_type": "stream",
     "text": [
      "Failed to find valid bounds for p=0.0007625561694391656 after 5 retries\n"
     ]
    },
    {
     "name": "stderr",
     "output_type": "stream",
     "text": [
      "  2%|▏         | 788/32561 [00:57<38:49, 13.64it/s]"
     ]
    },
    {
     "name": "stdout",
     "output_type": "stream",
     "text": [
      "Failed to find valid bounds for p=0.0009116554544419357 after 5 retries\n"
     ]
    },
    {
     "name": "stderr",
     "output_type": "stream",
     "text": [
      "  3%|▎         | 826/32561 [01:00<38:17, 13.81it/s]"
     ]
    },
    {
     "name": "stdout",
     "output_type": "stream",
     "text": [
      "Failed to find valid bounds for p=0.00039195255527836077 after 5 retries\n"
     ]
    },
    {
     "name": "stderr",
     "output_type": "stream",
     "text": [
      "  3%|▎         | 972/32561 [01:10<38:57, 13.51it/s]"
     ]
    },
    {
     "name": "stdout",
     "output_type": "stream",
     "text": [
      "Failed to find valid bounds for p=4.157382042895307e-05 after 5 retries\n",
      "Failed to find valid bounds for p=2.2636256851499493e-05 after 5 retries\n"
     ]
    },
    {
     "name": "stderr",
     "output_type": "stream",
     "text": [
      "  3%|▎         | 998/32561 [01:12<38:21, 13.72it/s]"
     ]
    },
    {
     "name": "stdout",
     "output_type": "stream",
     "text": [
      "Failed to find valid bounds for p=0.0009588888155560277 after 5 retries\n"
     ]
    },
    {
     "name": "stderr",
     "output_type": "stream",
     "text": [
      "  3%|▎         | 1120/32561 [01:21<37:14, 14.07it/s]"
     ]
    },
    {
     "name": "stdout",
     "output_type": "stream",
     "text": [
      "Failed to find valid bounds for p=0.0007748794428755239 after 5 retries\n"
     ]
    },
    {
     "name": "stderr",
     "output_type": "stream",
     "text": [
      "  4%|▎         | 1158/32561 [01:24<38:52, 13.46it/s]"
     ]
    },
    {
     "name": "stdout",
     "output_type": "stream",
     "text": [
      "Failed to find valid bounds for p=0.0003419904311368074 after 5 retries\n"
     ]
    },
    {
     "name": "stderr",
     "output_type": "stream",
     "text": [
      "  4%|▍         | 1322/32561 [01:36<37:22, 13.93it/s]"
     ]
    },
    {
     "name": "stdout",
     "output_type": "stream",
     "text": [
      "Failed to find valid bounds for p=0.0003619425209898488 after 5 retries\n"
     ]
    },
    {
     "name": "stderr",
     "output_type": "stream",
     "text": [
      "  4%|▍         | 1442/32561 [01:45<38:18, 13.54it/s]"
     ]
    },
    {
     "name": "stdout",
     "output_type": "stream",
     "text": [
      "Failed to find valid bounds for p=0.0006146840799690886 after 5 retries\n"
     ]
    },
    {
     "name": "stderr",
     "output_type": "stream",
     "text": [
      "  5%|▍         | 1468/32561 [01:47<37:36, 13.78it/s]"
     ]
    },
    {
     "name": "stdout",
     "output_type": "stream",
     "text": [
      "Failed to find valid bounds for p=9.733775878078014e-05 after 5 retries\n"
     ]
    },
    {
     "name": "stderr",
     "output_type": "stream",
     "text": [
      "  5%|▍         | 1484/32561 [01:48<37:27, 13.83it/s]"
     ]
    },
    {
     "name": "stdout",
     "output_type": "stream",
     "text": [
      "Failed to find valid bounds for p=0.0004203946588868244 after 5 retries\n"
     ]
    },
    {
     "name": "stderr",
     "output_type": "stream",
     "text": [
      "  5%|▌         | 1688/32561 [02:03<37:22, 13.77it/s]"
     ]
    },
    {
     "name": "stdout",
     "output_type": "stream",
     "text": [
      "Failed to find valid bounds for p=0.0005782627585881055 after 5 retries\n"
     ]
    },
    {
     "name": "stderr",
     "output_type": "stream",
     "text": [
      "  5%|▌         | 1718/32561 [02:05<37:19, 13.77it/s]"
     ]
    },
    {
     "name": "stdout",
     "output_type": "stream",
     "text": [
      "Failed to find valid bounds for p=3.222849086678648e-06 after 5 retries\n"
     ]
    },
    {
     "name": "stderr",
     "output_type": "stream",
     "text": [
      "  8%|▊         | 2572/32561 [03:07<34:39, 14.42it/s]"
     ]
    },
    {
     "name": "stdout",
     "output_type": "stream",
     "text": [
      "Failed to find valid bounds for p=0.0005686766360478328 after 5 retries\n"
     ]
    },
    {
     "name": "stderr",
     "output_type": "stream",
     "text": [
      "  9%|▉         | 2940/32561 [03:33<34:46, 14.19it/s]"
     ]
    },
    {
     "name": "stdout",
     "output_type": "stream",
     "text": [
      "Failed to find valid bounds for p=0.0007596655985501897 after 5 retries\n"
     ]
    },
    {
     "name": "stderr",
     "output_type": "stream",
     "text": [
      " 10%|▉         | 3114/32561 [03:46<34:33, 14.20it/s]"
     ]
    },
    {
     "name": "stdout",
     "output_type": "stream",
     "text": [
      "Failed to find valid bounds for p=3.3098451613711685e-05 after 5 retries\n"
     ]
    },
    {
     "name": "stderr",
     "output_type": "stream",
     "text": [
      " 11%|█         | 3654/32561 [04:24<34:13, 14.08it/s]"
     ]
    },
    {
     "name": "stdout",
     "output_type": "stream",
     "text": [
      "Failed to find valid bounds for p=0.00021202398217254554 after 5 retries\n"
     ]
    },
    {
     "name": "stderr",
     "output_type": "stream",
     "text": [
      " 11%|█▏        | 3704/32561 [04:27<34:17, 14.03it/s]"
     ]
    },
    {
     "name": "stdout",
     "output_type": "stream",
     "text": [
      "Failed to find valid bounds for p=0.0005258554175883831 after 5 retries\n"
     ]
    },
    {
     "name": "stderr",
     "output_type": "stream",
     "text": [
      " 12%|█▏        | 3918/32561 [04:42<33:26, 14.28it/s]"
     ]
    },
    {
     "name": "stdout",
     "output_type": "stream",
     "text": [
      "Failed to find valid bounds for p=1.0953958648906744e-06 after 5 retries\n"
     ]
    },
    {
     "name": "stderr",
     "output_type": "stream",
     "text": [
      " 13%|█▎        | 4118/32561 [04:57<33:31, 14.14it/s]"
     ]
    },
    {
     "name": "stdout",
     "output_type": "stream",
     "text": [
      "Failed to find valid bounds for p=0.0005725829114257157 after 5 retries\n"
     ]
    },
    {
     "name": "stderr",
     "output_type": "stream",
     "text": [
      " 15%|█▌        | 5030/32561 [06:01<31:30, 14.56it/s]"
     ]
    },
    {
     "name": "stdout",
     "output_type": "stream",
     "text": [
      "Failed to find valid bounds for p=0.0002397187411097054 after 5 retries\n"
     ]
    },
    {
     "name": "stderr",
     "output_type": "stream",
     "text": [
      " 16%|█▋        | 5292/32561 [06:19<32:03, 14.17it/s]"
     ]
    },
    {
     "name": "stdout",
     "output_type": "stream",
     "text": [
      "Failed to find valid bounds for p=0.0008004564431165792 after 5 retries\n"
     ]
    },
    {
     "name": "stderr",
     "output_type": "stream",
     "text": [
      " 16%|█▋        | 5350/32561 [06:24<32:25, 13.99it/s]"
     ]
    },
    {
     "name": "stdout",
     "output_type": "stream",
     "text": [
      "Failed to find valid bounds for p=0.0008963305852175082 after 5 retries\n"
     ]
    },
    {
     "name": "stderr",
     "output_type": "stream",
     "text": [
      " 17%|█▋        | 5450/32561 [06:31<32:42, 13.82it/s]"
     ]
    },
    {
     "name": "stdout",
     "output_type": "stream",
     "text": [
      "Failed to find valid bounds for p=3.460634863523301e-05 after 5 retries\n"
     ]
    },
    {
     "name": "stderr",
     "output_type": "stream",
     "text": [
      " 17%|█▋        | 5550/32561 [06:38<32:36, 13.81it/s]"
     ]
    },
    {
     "name": "stdout",
     "output_type": "stream",
     "text": [
      "Failed to find valid bounds for p=0.00011469714020519945 after 5 retries\n"
     ]
    },
    {
     "name": "stderr",
     "output_type": "stream",
     "text": [
      " 21%|██        | 6820/32561 [08:09<32:12, 13.32it/s]"
     ]
    },
    {
     "name": "stdout",
     "output_type": "stream",
     "text": [
      "Failed to find valid bounds for p=2.5485284798638798e-05 after 5 retries\n"
     ]
    },
    {
     "name": "stderr",
     "output_type": "stream",
     "text": [
      " 21%|██▏       | 6930/32561 [08:17<30:17, 14.10it/s]"
     ]
    },
    {
     "name": "stdout",
     "output_type": "stream",
     "text": [
      "Failed to find valid bounds for p=0.0008305608263285071 after 5 retries\n"
     ]
    },
    {
     "name": "stderr",
     "output_type": "stream",
     "text": [
      " 22%|██▏       | 7012/32561 [08:23<32:29, 13.10it/s]"
     ]
    },
    {
     "name": "stdout",
     "output_type": "stream",
     "text": [
      "Failed to find valid bounds for p=0.0007865094110163786 after 5 retries\n"
     ]
    },
    {
     "name": "stderr",
     "output_type": "stream",
     "text": [
      " 22%|██▏       | 7184/32561 [08:35<31:00, 13.64it/s]"
     ]
    },
    {
     "name": "stdout",
     "output_type": "stream",
     "text": [
      "Failed to find valid bounds for p=0.0009918497863606471 after 5 retries\n"
     ]
    },
    {
     "name": "stderr",
     "output_type": "stream",
     "text": [
      " 24%|██▍       | 7974/32561 [09:33<30:34, 13.40it/s]"
     ]
    },
    {
     "name": "stdout",
     "output_type": "stream",
     "text": [
      "Failed to find valid bounds for p=0.00025650075887031034 after 5 retries\n"
     ]
    },
    {
     "name": "stderr",
     "output_type": "stream",
     "text": [
      " 25%|██▌       | 8224/32561 [09:51<28:54, 14.03it/s]"
     ]
    },
    {
     "name": "stdout",
     "output_type": "stream",
     "text": [
      "Failed to find valid bounds for p=0.0008565061520292357 after 5 retries\n"
     ]
    },
    {
     "name": "stderr",
     "output_type": "stream",
     "text": [
      " 26%|██▌       | 8472/32561 [10:09<29:09, 13.77it/s]"
     ]
    },
    {
     "name": "stdout",
     "output_type": "stream",
     "text": [
      "Failed to find valid bounds for p=6.882751513523106e-05 after 5 retries\n"
     ]
    },
    {
     "name": "stderr",
     "output_type": "stream",
     "text": [
      " 26%|██▌       | 8486/32561 [10:10<29:24, 13.64it/s]"
     ]
    },
    {
     "name": "stdout",
     "output_type": "stream",
     "text": [
      "Failed to find valid bounds for p=0.00022704893392467732 after 5 retries\n"
     ]
    },
    {
     "name": "stderr",
     "output_type": "stream",
     "text": [
      " 26%|██▌       | 8522/32561 [10:13<29:10, 13.73it/s]"
     ]
    },
    {
     "name": "stdout",
     "output_type": "stream",
     "text": [
      "Failed to find valid bounds for p=0.0001833358203401756 after 5 retries\n"
     ]
    },
    {
     "name": "stderr",
     "output_type": "stream",
     "text": [
      " 29%|██▊       | 9358/32561 [11:12<27:56, 13.84it/s]"
     ]
    },
    {
     "name": "stdout",
     "output_type": "stream",
     "text": [
      "Failed to find valid bounds for p=0.0005335516000342362 after 5 retries\n"
     ]
    },
    {
     "name": "stderr",
     "output_type": "stream",
     "text": [
      " 30%|██▉       | 9668/32561 [11:34<27:12, 14.03it/s]"
     ]
    },
    {
     "name": "stdout",
     "output_type": "stream",
     "text": [
      "Failed to find valid bounds for p=0.0001266976039425048 after 5 retries\n"
     ]
    },
    {
     "name": "stderr",
     "output_type": "stream",
     "text": [
      " 30%|███       | 9908/32561 [11:52<26:38, 14.17it/s]"
     ]
    },
    {
     "name": "stdout",
     "output_type": "stream",
     "text": [
      "Failed to find valid bounds for p=0.0004337301730489048 after 5 retries\n"
     ]
    },
    {
     "name": "stderr",
     "output_type": "stream",
     "text": [
      " 31%|███       | 10070/32561 [12:03<26:31, 14.14it/s]"
     ]
    },
    {
     "name": "stdout",
     "output_type": "stream",
     "text": [
      "Failed to find valid bounds for p=3.0409782215999275e-05 after 5 retries\n"
     ]
    },
    {
     "name": "stderr",
     "output_type": "stream",
     "text": [
      " 34%|███▎      | 10944/32561 [13:05<25:50, 13.94it/s]"
     ]
    },
    {
     "name": "stdout",
     "output_type": "stream",
     "text": [
      "Failed to find valid bounds for p=0.0008326087191562749 after 5 retries\n"
     ]
    },
    {
     "name": "stderr",
     "output_type": "stream",
     "text": [
      " 34%|███▍      | 11002/32561 [13:09<25:55, 13.86it/s]"
     ]
    },
    {
     "name": "stdout",
     "output_type": "stream",
     "text": [
      "Failed to find valid bounds for p=2.1863408812585988e-05 after 5 retries\n"
     ]
    },
    {
     "name": "stderr",
     "output_type": "stream",
     "text": [
      " 34%|███▍      | 11010/32561 [13:10<25:41, 13.98it/s]"
     ]
    },
    {
     "name": "stdout",
     "output_type": "stream",
     "text": [
      "Failed to find valid bounds for p=0.0008371488927292479 after 5 retries\n"
     ]
    },
    {
     "name": "stderr",
     "output_type": "stream",
     "text": [
      " 34%|███▍      | 11086/32561 [13:15<24:59, 14.33it/s]"
     ]
    },
    {
     "name": "stdout",
     "output_type": "stream",
     "text": [
      "Failed to find valid bounds for p=9.575646980278433e-05 after 5 retries\n"
     ]
    },
    {
     "name": "stderr",
     "output_type": "stream",
     "text": [
      " 35%|███▍      | 11322/32561 [13:32<25:21, 13.96it/s]"
     ]
    },
    {
     "name": "stdout",
     "output_type": "stream",
     "text": [
      "Failed to find valid bounds for p=4.6339526376169904e-05 after 5 retries\n"
     ]
    },
    {
     "name": "stderr",
     "output_type": "stream",
     "text": [
      " 36%|███▌      | 11596/32561 [13:52<24:45, 14.11it/s]"
     ]
    },
    {
     "name": "stdout",
     "output_type": "stream",
     "text": [
      "Failed to find valid bounds for p=0.00010977171300812072 after 5 retries\n"
     ]
    },
    {
     "name": "stderr",
     "output_type": "stream",
     "text": [
      " 36%|███▌      | 11632/32561 [13:54<24:46, 14.08it/s]"
     ]
    },
    {
     "name": "stdout",
     "output_type": "stream",
     "text": [
      "Failed to find valid bounds for p=0.0004475160324065062 after 5 retries\n"
     ]
    },
    {
     "name": "stderr",
     "output_type": "stream",
     "text": [
      " 36%|███▌      | 11668/32561 [13:57<24:23, 14.27it/s]"
     ]
    },
    {
     "name": "stdout",
     "output_type": "stream",
     "text": [
      "Failed to find valid bounds for p=2.7847631641422755e-06 after 5 retries\n"
     ]
    },
    {
     "name": "stderr",
     "output_type": "stream",
     "text": [
      " 37%|███▋      | 12008/32561 [14:21<25:14, 13.57it/s]"
     ]
    },
    {
     "name": "stdout",
     "output_type": "stream",
     "text": [
      "Failed to find valid bounds for p=0.00013773078431094084 after 5 retries\n"
     ]
    },
    {
     "name": "stderr",
     "output_type": "stream",
     "text": [
      " 39%|███▊      | 12594/32561 [15:04<23:29, 14.16it/s]"
     ]
    },
    {
     "name": "stdout",
     "output_type": "stream",
     "text": [
      "Failed to find valid bounds for p=0.000359367791985418 after 5 retries\n"
     ]
    },
    {
     "name": "stderr",
     "output_type": "stream",
     "text": [
      " 39%|███▊      | 12608/32561 [15:05<23:30, 14.15it/s]"
     ]
    },
    {
     "name": "stdout",
     "output_type": "stream",
     "text": [
      "Failed to find valid bounds for p=0.00016064273609202128 after 5 retries\n"
     ]
    },
    {
     "name": "stderr",
     "output_type": "stream",
     "text": [
      " 39%|███▉      | 12844/32561 [15:22<24:56, 13.17it/s]"
     ]
    },
    {
     "name": "stdout",
     "output_type": "stream",
     "text": [
      "Failed to find valid bounds for p=0.0001084511731247519 after 5 retries\n"
     ]
    },
    {
     "name": "stderr",
     "output_type": "stream",
     "text": [
      " 40%|███▉      | 12980/32561 [15:32<23:28, 13.90it/s]"
     ]
    },
    {
     "name": "stdout",
     "output_type": "stream",
     "text": [
      "Failed to find valid bounds for p=0.0004260273359718525 after 5 retries\n"
     ]
    },
    {
     "name": "stderr",
     "output_type": "stream",
     "text": [
      " 41%|████      | 13292/32561 [15:55<23:33, 13.63it/s]"
     ]
    },
    {
     "name": "stdout",
     "output_type": "stream",
     "text": [
      "Failed to find valid bounds for p=0.00019655960661303475 after 5 retries\n"
     ]
    },
    {
     "name": "stderr",
     "output_type": "stream",
     "text": [
      " 42%|████▏     | 13524/32561 [16:12<23:19, 13.60it/s]"
     ]
    },
    {
     "name": "stdout",
     "output_type": "stream",
     "text": [
      "Failed to find valid bounds for p=0.0006332538657490405 after 5 retries\n"
     ]
    },
    {
     "name": "stderr",
     "output_type": "stream",
     "text": [
      " 42%|████▏     | 13538/32561 [16:13<22:58, 13.80it/s]"
     ]
    },
    {
     "name": "stdout",
     "output_type": "stream",
     "text": [
      "Failed to find valid bounds for p=0.00011203186926432928 after 5 retries\n"
     ]
    },
    {
     "name": "stderr",
     "output_type": "stream",
     "text": [
      " 44%|████▎     | 14216/32561 [17:02<21:41, 14.10it/s]"
     ]
    },
    {
     "name": "stdout",
     "output_type": "stream",
     "text": [
      "Failed to find valid bounds for p=0.0009254822868551861 after 5 retries\n"
     ]
    },
    {
     "name": "stderr",
     "output_type": "stream",
     "text": [
      " 44%|████▍     | 14308/32561 [17:08<21:12, 14.35it/s]"
     ]
    },
    {
     "name": "stdout",
     "output_type": "stream",
     "text": [
      "Failed to find valid bounds for p=0.0008285742159488477 after 5 retries\n"
     ]
    },
    {
     "name": "stderr",
     "output_type": "stream",
     "text": [
      " 46%|████▋     | 15120/32561 [18:05<20:24, 14.24it/s]"
     ]
    },
    {
     "name": "stdout",
     "output_type": "stream",
     "text": [
      "Failed to find valid bounds for p=0.0004984715565271984 after 5 retries\n"
     ]
    },
    {
     "name": "stderr",
     "output_type": "stream",
     "text": [
      " 47%|████▋     | 15158/32561 [18:08<20:39, 14.04it/s]"
     ]
    },
    {
     "name": "stdout",
     "output_type": "stream",
     "text": [
      "Failed to find valid bounds for p=0.000656795619595313 after 5 retries\n"
     ]
    },
    {
     "name": "stderr",
     "output_type": "stream",
     "text": [
      " 47%|████▋     | 15308/32561 [18:19<20:22, 14.11it/s]"
     ]
    },
    {
     "name": "stdout",
     "output_type": "stream",
     "text": [
      "Failed to find valid bounds for p=0.0002039433510894688 after 5 retries\n"
     ]
    },
    {
     "name": "stderr",
     "output_type": "stream",
     "text": [
      " 48%|████▊     | 15576/32561 [18:38<20:02, 14.12it/s]"
     ]
    },
    {
     "name": "stdout",
     "output_type": "stream",
     "text": [
      "Failed to find valid bounds for p=2.212545126595524e-05 after 5 retries\n"
     ]
    },
    {
     "name": "stderr",
     "output_type": "stream",
     "text": [
      " 48%|████▊     | 15726/32561 [18:48<19:25, 14.44it/s]"
     ]
    },
    {
     "name": "stdout",
     "output_type": "stream",
     "text": [
      "Failed to find valid bounds for p=0.0006798569511592961 after 5 retries\n"
     ]
    },
    {
     "name": "stderr",
     "output_type": "stream",
     "text": [
      " 49%|████▉     | 16052/32561 [19:11<19:34, 14.06it/s]"
     ]
    },
    {
     "name": "stdout",
     "output_type": "stream",
     "text": [
      "Failed to find valid bounds for p=0.000988398143845613 after 5 retries\n"
     ]
    },
    {
     "name": "stderr",
     "output_type": "stream",
     "text": [
      " 49%|████▉     | 16072/32561 [19:13<19:19, 14.23it/s]"
     ]
    },
    {
     "name": "stdout",
     "output_type": "stream",
     "text": [
      "Failed to find valid bounds for p=0.00029546124210102636 after 5 retries\n"
     ]
    },
    {
     "name": "stderr",
     "output_type": "stream",
     "text": [
      " 50%|████▉     | 16200/32561 [19:22<19:20, 14.10it/s]"
     ]
    },
    {
     "name": "stdout",
     "output_type": "stream",
     "text": [
      "Failed to find valid bounds for p=0.0005034902958466791 after 5 retries\n"
     ]
    },
    {
     "name": "stderr",
     "output_type": "stream",
     "text": [
      " 51%|█████     | 16488/32561 [19:42<19:18, 13.87it/s]"
     ]
    },
    {
     "name": "stdout",
     "output_type": "stream",
     "text": [
      "Failed to find valid bounds for p=9.937576818632522e-05 after 5 retries\n"
     ]
    },
    {
     "name": "stderr",
     "output_type": "stream",
     "text": [
      " 52%|█████▏    | 16782/32561 [20:03<18:03, 14.56it/s]"
     ]
    },
    {
     "name": "stdout",
     "output_type": "stream",
     "text": [
      "Failed to find valid bounds for p=0.0008245495884884577 after 5 retries\n"
     ]
    },
    {
     "name": "stderr",
     "output_type": "stream",
     "text": [
      " 52%|█████▏    | 17034/32561 [20:20<18:18, 14.13it/s]"
     ]
    },
    {
     "name": "stdout",
     "output_type": "stream",
     "text": [
      "Failed to find valid bounds for p=0.00013435994698130676 after 5 retries\n"
     ]
    },
    {
     "name": "stderr",
     "output_type": "stream",
     "text": [
      " 54%|█████▍    | 17618/32561 [21:02<18:14, 13.65it/s]"
     ]
    },
    {
     "name": "stdout",
     "output_type": "stream",
     "text": [
      "Failed to find valid bounds for p=0.0008845332087643605 after 5 retries\n"
     ]
    },
    {
     "name": "stderr",
     "output_type": "stream",
     "text": [
      " 56%|█████▌    | 18172/32561 [21:41<16:50, 14.25it/s]"
     ]
    },
    {
     "name": "stdout",
     "output_type": "stream",
     "text": [
      "Failed to find valid bounds for p=0.0002811168115928775 after 5 retries\n"
     ]
    },
    {
     "name": "stderr",
     "output_type": "stream",
     "text": [
      " 57%|█████▋    | 18612/32561 [22:12<16:13, 14.33it/s]"
     ]
    },
    {
     "name": "stdout",
     "output_type": "stream",
     "text": [
      "Failed to find valid bounds for p=9.789523194010326e-05 after 5 retries\n"
     ]
    },
    {
     "name": "stderr",
     "output_type": "stream",
     "text": [
      " 59%|█████▉    | 19224/32561 [22:56<16:23, 13.56it/s]"
     ]
    },
    {
     "name": "stdout",
     "output_type": "stream",
     "text": [
      "Failed to find valid bounds for p=0.00035619490652372685 after 5 retries\n"
     ]
    },
    {
     "name": "stderr",
     "output_type": "stream",
     "text": [
      " 59%|█████▉    | 19358/32561 [23:06<15:34, 14.12it/s]"
     ]
    },
    {
     "name": "stdout",
     "output_type": "stream",
     "text": [
      "Failed to find valid bounds for p=2.8598074496401635e-05 after 5 retries\n"
     ]
    },
    {
     "name": "stderr",
     "output_type": "stream",
     "text": [
      " 62%|██████▏   | 20240/32561 [24:09<14:31, 14.15it/s]"
     ]
    },
    {
     "name": "stdout",
     "output_type": "stream",
     "text": [
      "Failed to find valid bounds for p=0.0006858084936546546 after 5 retries\n"
     ]
    },
    {
     "name": "stderr",
     "output_type": "stream",
     "text": [
      " 63%|██████▎   | 20544/32561 [24:31<14:21, 13.95it/s]"
     ]
    },
    {
     "name": "stdout",
     "output_type": "stream",
     "text": [
      "Failed to find valid bounds for p=0.0009344958602611369 after 5 retries\n"
     ]
    },
    {
     "name": "stderr",
     "output_type": "stream",
     "text": [
      " 63%|██████▎   | 20576/32561 [24:34<14:27, 13.81it/s]"
     ]
    },
    {
     "name": "stdout",
     "output_type": "stream",
     "text": [
      "Failed to find valid bounds for p=0.0004364864297135801 after 5 retries\n"
     ]
    },
    {
     "name": "stderr",
     "output_type": "stream",
     "text": [
      " 64%|██████▍   | 20802/32561 [24:50<14:57, 13.10it/s]"
     ]
    },
    {
     "name": "stdout",
     "output_type": "stream",
     "text": [
      "Failed to find valid bounds for p=0.00083683608062466 after 5 retries\n",
      "Failed to find valid bounds for p=0.00047618724363627813 after 5 retries\n"
     ]
    },
    {
     "name": "stderr",
     "output_type": "stream",
     "text": [
      " 68%|██████▊   | 22214/32561 [26:31<12:14, 14.09it/s]"
     ]
    },
    {
     "name": "stdout",
     "output_type": "stream",
     "text": [
      "Failed to find valid bounds for p=1.8299302097386966e-06 after 5 retries\n"
     ]
    },
    {
     "name": "stderr",
     "output_type": "stream",
     "text": [
      " 68%|██████▊   | 22232/32561 [26:32<12:23, 13.89it/s]"
     ]
    },
    {
     "name": "stdout",
     "output_type": "stream",
     "text": [
      "Failed to find valid bounds for p=0.00047641895245282315 after 5 retries\n"
     ]
    },
    {
     "name": "stderr",
     "output_type": "stream",
     "text": [
      " 69%|██████▉   | 22544/32561 [26:54<12:08, 13.74it/s]"
     ]
    },
    {
     "name": "stdout",
     "output_type": "stream",
     "text": [
      "Failed to find valid bounds for p=7.469436330737858e-05 after 5 retries\n"
     ]
    },
    {
     "name": "stderr",
     "output_type": "stream",
     "text": [
      " 70%|███████   | 22804/32561 [27:13<11:51, 13.70it/s]"
     ]
    },
    {
     "name": "stdout",
     "output_type": "stream",
     "text": [
      "Failed to find valid bounds for p=0.00010444761371389635 after 5 retries\n"
     ]
    },
    {
     "name": "stderr",
     "output_type": "stream",
     "text": [
      " 71%|███████▏  | 23256/32561 [27:45<10:57, 14.16it/s]"
     ]
    },
    {
     "name": "stdout",
     "output_type": "stream",
     "text": [
      "Failed to find valid bounds for p=0.00018562296911692273 after 5 retries\n"
     ]
    },
    {
     "name": "stderr",
     "output_type": "stream",
     "text": [
      " 72%|███████▏  | 23348/32561 [27:52<11:03, 13.89it/s]"
     ]
    },
    {
     "name": "stdout",
     "output_type": "stream",
     "text": [
      "Failed to find valid bounds for p=0.0006686492576187496 after 5 retries\n"
     ]
    },
    {
     "name": "stderr",
     "output_type": "stream",
     "text": [
      " 72%|███████▏  | 23496/32561 [28:02<10:51, 13.90it/s]"
     ]
    },
    {
     "name": "stdout",
     "output_type": "stream",
     "text": [
      "Failed to find valid bounds for p=0.0008389821408251005 after 5 retries\n"
     ]
    },
    {
     "name": "stderr",
     "output_type": "stream",
     "text": [
      " 73%|███████▎  | 23710/32561 [28:18<10:25, 14.15it/s]"
     ]
    },
    {
     "name": "stdout",
     "output_type": "stream",
     "text": [
      "Failed to find valid bounds for p=0.0004629886487791884 after 5 retries\n"
     ]
    },
    {
     "name": "stderr",
     "output_type": "stream",
     "text": [
      " 73%|███████▎  | 23878/32561 [28:29<10:40, 13.56it/s]"
     ]
    },
    {
     "name": "stdout",
     "output_type": "stream",
     "text": [
      "Failed to find valid bounds for p=0.0007036122134015054 after 5 retries\n"
     ]
    },
    {
     "name": "stderr",
     "output_type": "stream",
     "text": [
      " 74%|███████▎  | 23972/32561 [28:36<10:22, 13.81it/s]"
     ]
    },
    {
     "name": "stdout",
     "output_type": "stream",
     "text": [
      "Failed to find valid bounds for p=0.000874457207049469 after 5 retries\n"
     ]
    },
    {
     "name": "stderr",
     "output_type": "stream",
     "text": [
      " 74%|███████▍  | 24048/32561 [28:42<09:51, 14.39it/s]"
     ]
    },
    {
     "name": "stdout",
     "output_type": "stream",
     "text": [
      "Failed to find valid bounds for p=0.00035955468604121477 after 5 retries\n"
     ]
    },
    {
     "name": "stderr",
     "output_type": "stream",
     "text": [
      " 74%|███████▍  | 24138/32561 [28:48<10:10, 13.80it/s]"
     ]
    },
    {
     "name": "stdout",
     "output_type": "stream",
     "text": [
      "Failed to find valid bounds for p=0.00020364994767272044 after 5 retries\n"
     ]
    },
    {
     "name": "stderr",
     "output_type": "stream",
     "text": [
      " 75%|███████▍  | 24332/32561 [29:02<09:40, 14.17it/s]"
     ]
    },
    {
     "name": "stdout",
     "output_type": "stream",
     "text": [
      "Failed to find valid bounds for p=0.00023994491884098137 after 5 retries\n"
     ]
    },
    {
     "name": "stderr",
     "output_type": "stream",
     "text": [
      " 75%|███████▍  | 24410/32561 [29:07<09:42, 13.98it/s]"
     ]
    },
    {
     "name": "stdout",
     "output_type": "stream",
     "text": [
      "Failed to find valid bounds for p=0.0008813294126358136 after 5 retries\n"
     ]
    },
    {
     "name": "stderr",
     "output_type": "stream",
     "text": [
      " 75%|███████▌  | 24432/32561 [29:09<09:43, 13.94it/s]"
     ]
    },
    {
     "name": "stdout",
     "output_type": "stream",
     "text": [
      "Failed to find valid bounds for p=9.086425377626258e-05 after 5 retries\n"
     ]
    },
    {
     "name": "stderr",
     "output_type": "stream",
     "text": [
      " 76%|███████▌  | 24654/32561 [29:25<09:21, 14.09it/s]"
     ]
    },
    {
     "name": "stdout",
     "output_type": "stream",
     "text": [
      "Failed to find valid bounds for p=0.0006640678784375459 after 5 retries\n"
     ]
    },
    {
     "name": "stderr",
     "output_type": "stream",
     "text": [
      " 76%|███████▌  | 24732/32561 [29:30<09:08, 14.29it/s]"
     ]
    },
    {
     "name": "stdout",
     "output_type": "stream",
     "text": [
      "Failed to find valid bounds for p=0.00021511795619380103 after 5 retries\n"
     ]
    },
    {
     "name": "stderr",
     "output_type": "stream",
     "text": [
      " 77%|███████▋  | 25216/32561 [30:05<09:09, 13.36it/s]"
     ]
    },
    {
     "name": "stdout",
     "output_type": "stream",
     "text": [
      "Failed to find valid bounds for p=0.0004124333012603765 after 5 retries\n"
     ]
    },
    {
     "name": "stderr",
     "output_type": "stream",
     "text": [
      " 78%|███████▊  | 25314/32561 [30:12<09:04, 13.32it/s]"
     ]
    },
    {
     "name": "stdout",
     "output_type": "stream",
     "text": [
      "Failed to find valid bounds for p=0.0009092416130020732 after 5 retries\n"
     ]
    },
    {
     "name": "stderr",
     "output_type": "stream",
     "text": [
      " 79%|███████▊  | 25590/32561 [30:32<08:37, 13.48it/s]"
     ]
    },
    {
     "name": "stdout",
     "output_type": "stream",
     "text": [
      "Failed to find valid bounds for p=0.0009168942767870195 after 5 retries\n"
     ]
    },
    {
     "name": "stderr",
     "output_type": "stream",
     "text": [
      " 79%|███████▉  | 25860/32561 [30:51<07:47, 14.32it/s]"
     ]
    },
    {
     "name": "stdout",
     "output_type": "stream",
     "text": [
      "Failed to find valid bounds for p=0.00030484798987290214 after 5 retries\n"
     ]
    },
    {
     "name": "stderr",
     "output_type": "stream",
     "text": [
      " 80%|███████▉  | 25954/32561 [30:58<07:42, 14.28it/s]"
     ]
    },
    {
     "name": "stdout",
     "output_type": "stream",
     "text": [
      "Failed to find valid bounds for p=2.524651586319661e-05 after 5 retries\n"
     ]
    },
    {
     "name": "stderr",
     "output_type": "stream",
     "text": [
      " 80%|████████  | 26130/32561 [31:10<07:46, 13.79it/s]"
     ]
    },
    {
     "name": "stdout",
     "output_type": "stream",
     "text": [
      "Failed to find valid bounds for p=4.646090690156186e-05 after 5 retries\n"
     ]
    },
    {
     "name": "stderr",
     "output_type": "stream",
     "text": [
      " 82%|████████▏ | 26548/32561 [31:41<07:07, 14.08it/s]"
     ]
    },
    {
     "name": "stdout",
     "output_type": "stream",
     "text": [
      "Failed to find valid bounds for p=0.0004117355084128458 after 5 retries\n"
     ]
    },
    {
     "name": "stderr",
     "output_type": "stream",
     "text": [
      " 83%|████████▎ | 26956/32561 [32:10<06:38, 14.05it/s]"
     ]
    },
    {
     "name": "stdout",
     "output_type": "stream",
     "text": [
      "Failed to find valid bounds for p=0.00024689176677010596 after 5 retries\n"
     ]
    },
    {
     "name": "stderr",
     "output_type": "stream",
     "text": [
      " 86%|████████▋ | 28118/32561 [33:34<05:18, 13.94it/s]"
     ]
    },
    {
     "name": "stdout",
     "output_type": "stream",
     "text": [
      "Failed to find valid bounds for p=5.4287597435146324e-06 after 5 retries\n"
     ]
    },
    {
     "name": "stderr",
     "output_type": "stream",
     "text": [
      " 87%|████████▋ | 28346/32561 [33:50<05:02, 13.95it/s]"
     ]
    },
    {
     "name": "stdout",
     "output_type": "stream",
     "text": [
      "Failed to find valid bounds for p=0.0009591138630378258 after 5 retries\n"
     ]
    },
    {
     "name": "stderr",
     "output_type": "stream",
     "text": [
      " 88%|████████▊ | 28566/32561 [34:06<04:49, 13.80it/s]"
     ]
    },
    {
     "name": "stdout",
     "output_type": "stream",
     "text": [
      "Failed to find valid bounds for p=2.5098978115051405e-06 after 5 retries\n"
     ]
    },
    {
     "name": "stderr",
     "output_type": "stream",
     "text": [
      " 88%|████████▊ | 28752/32561 [34:19<04:35, 13.82it/s]"
     ]
    },
    {
     "name": "stdout",
     "output_type": "stream",
     "text": [
      "Failed to find valid bounds for p=0.00012660735061175595 after 5 retries\n"
     ]
    },
    {
     "name": "stderr",
     "output_type": "stream",
     "text": [
      " 89%|████████▉ | 29090/32561 [34:43<04:04, 14.17it/s]"
     ]
    },
    {
     "name": "stdout",
     "output_type": "stream",
     "text": [
      "Failed to find valid bounds for p=5.81793626926868e-05 after 5 retries\n"
     ]
    },
    {
     "name": "stderr",
     "output_type": "stream",
     "text": [
      " 91%|█████████ | 29536/32561 [35:15<03:35, 14.02it/s]"
     ]
    },
    {
     "name": "stdout",
     "output_type": "stream",
     "text": [
      "Failed to find valid bounds for p=1.9458683601254937e-05 after 5 retries\n"
     ]
    },
    {
     "name": "stderr",
     "output_type": "stream",
     "text": [
      " 91%|█████████▏| 29738/32561 [35:30<03:25, 13.71it/s]"
     ]
    },
    {
     "name": "stdout",
     "output_type": "stream",
     "text": [
      "Failed to find valid bounds for p=0.00016859360099431416 after 5 retries\n"
     ]
    },
    {
     "name": "stderr",
     "output_type": "stream",
     "text": [
      " 92%|█████████▏| 29954/32561 [35:45<03:07, 13.89it/s]"
     ]
    },
    {
     "name": "stdout",
     "output_type": "stream",
     "text": [
      "Failed to find valid bounds for p=0.0006382324395506378 after 5 retries\n"
     ]
    },
    {
     "name": "stderr",
     "output_type": "stream",
     "text": [
      " 93%|█████████▎| 30140/32561 [35:58<02:53, 13.96it/s]"
     ]
    },
    {
     "name": "stdout",
     "output_type": "stream",
     "text": [
      "Failed to find valid bounds for p=0.0009989866344213628 after 5 retries\n"
     ]
    },
    {
     "name": "stderr",
     "output_type": "stream",
     "text": [
      " 93%|█████████▎| 30188/32561 [36:02<02:45, 14.31it/s]"
     ]
    },
    {
     "name": "stdout",
     "output_type": "stream",
     "text": [
      "Failed to find valid bounds for p=0.0007660948284671036 after 5 retries\n"
     ]
    },
    {
     "name": "stderr",
     "output_type": "stream",
     "text": [
      " 94%|█████████▍| 30576/32561 [36:29<02:21, 14.07it/s]"
     ]
    },
    {
     "name": "stdout",
     "output_type": "stream",
     "text": [
      "Failed to find valid bounds for p=0.0005994895975774759 after 5 retries\n"
     ]
    },
    {
     "name": "stderr",
     "output_type": "stream",
     "text": [
      " 94%|█████████▍| 30604/32561 [36:31<02:23, 13.62it/s]"
     ]
    },
    {
     "name": "stdout",
     "output_type": "stream",
     "text": [
      "Failed to find valid bounds for p=0.000825763723500647 after 5 retries\n"
     ]
    },
    {
     "name": "stderr",
     "output_type": "stream",
     "text": [
      " 95%|█████████▌| 31012/32561 [37:01<01:48, 14.28it/s]"
     ]
    },
    {
     "name": "stdout",
     "output_type": "stream",
     "text": [
      "Failed to find valid bounds for p=0.0007914532421305952 after 5 retries\n"
     ]
    },
    {
     "name": "stderr",
     "output_type": "stream",
     "text": [
      " 96%|█████████▌| 31130/32561 [37:09<01:42, 14.01it/s]"
     ]
    },
    {
     "name": "stdout",
     "output_type": "stream",
     "text": [
      "Failed to find valid bounds for p=3.7496355312101e-06 after 5 retries\n"
     ]
    },
    {
     "name": "stderr",
     "output_type": "stream",
     "text": [
      " 96%|█████████▌| 31202/32561 [37:14<01:37, 13.99it/s]"
     ]
    },
    {
     "name": "stdout",
     "output_type": "stream",
     "text": [
      "Failed to find valid bounds for p=0.0011344994336723495 after 5 retries\n"
     ]
    },
    {
     "name": "stderr",
     "output_type": "stream",
     "text": [
      " 96%|█████████▋| 31342/32561 [37:24<01:27, 14.00it/s]"
     ]
    },
    {
     "name": "stdout",
     "output_type": "stream",
     "text": [
      "Failed to find valid bounds for p=0.0005011356866900731 after 5 retries\n"
     ]
    },
    {
     "name": "stderr",
     "output_type": "stream",
     "text": [
      " 97%|█████████▋| 31476/32561 [37:34<01:19, 13.58it/s]"
     ]
    },
    {
     "name": "stdout",
     "output_type": "stream",
     "text": [
      "Failed to find valid bounds for p=0.00032685276311775907 after 5 retries\n"
     ]
    },
    {
     "name": "stderr",
     "output_type": "stream",
     "text": [
      " 99%|█████████▉| 32226/32561 [38:28<00:23, 14.33it/s]"
     ]
    },
    {
     "name": "stdout",
     "output_type": "stream",
     "text": [
      "Failed to find valid bounds for p=4.5868394436845994e-05 after 5 retries\n"
     ]
    },
    {
     "name": "stderr",
     "output_type": "stream",
     "text": [
      "100%|██████████| 32561/32561 [38:52<00:00, 13.96it/s]\n"
     ]
    }
   ],
   "source": [
    "num_rows = data.shape[0]  # Number of rows you want to generate\n",
    "synthetic_dataset = [sample(F_inv, covariance_matrix) for _ in tqdm(range(num_rows))]\n",
    "synthetic_df_full = pd.DataFrame(synthetic_dataset, columns=['age', ' workclass', ' fnlwgt', ' education', ' marital-status', ' occupation', ' relationship', ' race',\n",
    "                                                             ' sex', ' capital-gain', ' capital-loss', ' hours-per-week', ' native-country', ' salary'])"
   ]
  },
  {
   "cell_type": "code",
   "execution_count": 29,
   "metadata": {},
   "outputs": [
    {
     "data": {
      "text/plain": [
       "age                 0\n",
       " workclass          0\n",
       " fnlwgt             1\n",
       " education          4\n",
       " marital-status     6\n",
       " occupation         2\n",
       " relationship       7\n",
       " race               5\n",
       " sex               20\n",
       " capital-gain       0\n",
       " capital-loss       0\n",
       " hours-per-week     0\n",
       " native-country    39\n",
       " salary            39\n",
       "dtype: int64"
      ]
     },
     "execution_count": 29,
     "metadata": {},
     "output_type": "execute_result"
    }
   ],
   "source": [
    "synthetic_df_full.isnull().sum()"
   ]
  },
  {
   "cell_type": "code",
   "execution_count": 30,
   "metadata": {},
   "outputs": [],
   "source": [
    "synthetic_df_full.to_csv('synthetic_data_full.csv')"
   ]
  },
  {
   "cell_type": "code",
   "execution_count": 31,
   "metadata": {},
   "outputs": [],
   "source": [
    "column_mean = synthetic_df_full.mean()\n",
    "\n",
    "synthetic_df_full_filled = synthetic_df_full.fillna(column_mean)"
   ]
  },
  {
   "cell_type": "code",
   "execution_count": 32,
   "metadata": {},
   "outputs": [
    {
     "data": {
      "text/html": [
       "<div>\n",
       "<style scoped>\n",
       "    .dataframe tbody tr th:only-of-type {\n",
       "        vertical-align: middle;\n",
       "    }\n",
       "\n",
       "    .dataframe tbody tr th {\n",
       "        vertical-align: top;\n",
       "    }\n",
       "\n",
       "    .dataframe thead th {\n",
       "        text-align: right;\n",
       "    }\n",
       "</style>\n",
       "<table border=\"1\" class=\"dataframe\">\n",
       "  <thead>\n",
       "    <tr style=\"text-align: right;\">\n",
       "      <th></th>\n",
       "      <th>age</th>\n",
       "      <th>workclass</th>\n",
       "      <th>fnlwgt</th>\n",
       "      <th>education</th>\n",
       "      <th>marital-status</th>\n",
       "      <th>occupation</th>\n",
       "      <th>relationship</th>\n",
       "      <th>race</th>\n",
       "      <th>sex</th>\n",
       "      <th>capital-gain</th>\n",
       "      <th>capital-loss</th>\n",
       "      <th>hours-per-week</th>\n",
       "      <th>native-country</th>\n",
       "      <th>salary</th>\n",
       "    </tr>\n",
       "  </thead>\n",
       "  <tbody>\n",
       "    <tr>\n",
       "      <th>0</th>\n",
       "      <td>47.788104</td>\n",
       "      <td>0.366156</td>\n",
       "      <td>229538.366839</td>\n",
       "      <td>0.430041</td>\n",
       "      <td>0.263454</td>\n",
       "      <td>0.457065</td>\n",
       "      <td>0.531249</td>\n",
       "      <td>0.283263</td>\n",
       "      <td>0.880806</td>\n",
       "      <td>0.000624</td>\n",
       "      <td>-0.000251</td>\n",
       "      <td>40.000347</td>\n",
       "      <td>0.311441</td>\n",
       "      <td>0.876233</td>\n",
       "    </tr>\n",
       "    <tr>\n",
       "      <th>1</th>\n",
       "      <td>51.347253</td>\n",
       "      <td>0.357193</td>\n",
       "      <td>424974.965991</td>\n",
       "      <td>0.272028</td>\n",
       "      <td>0.931505</td>\n",
       "      <td>0.871737</td>\n",
       "      <td>0.850609</td>\n",
       "      <td>0.423143</td>\n",
       "      <td>0.477320</td>\n",
       "      <td>0.000017</td>\n",
       "      <td>0.000071</td>\n",
       "      <td>44.999801</td>\n",
       "      <td>0.475867</td>\n",
       "      <td>0.477389</td>\n",
       "    </tr>\n",
       "    <tr>\n",
       "      <th>2</th>\n",
       "      <td>40.853968</td>\n",
       "      <td>0.421574</td>\n",
       "      <td>297228.269267</td>\n",
       "      <td>0.198756</td>\n",
       "      <td>0.327563</td>\n",
       "      <td>0.537779</td>\n",
       "      <td>0.339654</td>\n",
       "      <td>0.377203</td>\n",
       "      <td>0.867572</td>\n",
       "      <td>0.001253</td>\n",
       "      <td>-0.000222</td>\n",
       "      <td>39.809721</td>\n",
       "      <td>0.602804</td>\n",
       "      <td>0.822087</td>\n",
       "    </tr>\n",
       "    <tr>\n",
       "      <th>3</th>\n",
       "      <td>43.068567</td>\n",
       "      <td>0.481886</td>\n",
       "      <td>169346.768034</td>\n",
       "      <td>0.670061</td>\n",
       "      <td>0.972116</td>\n",
       "      <td>0.180748</td>\n",
       "      <td>0.868734</td>\n",
       "      <td>0.457757</td>\n",
       "      <td>0.318100</td>\n",
       "      <td>0.000200</td>\n",
       "      <td>-0.000112</td>\n",
       "      <td>18.266676</td>\n",
       "      <td>0.985563</td>\n",
       "      <td>0.448111</td>\n",
       "    </tr>\n",
       "    <tr>\n",
       "      <th>4</th>\n",
       "      <td>17.620579</td>\n",
       "      <td>0.339717</td>\n",
       "      <td>58066.618827</td>\n",
       "      <td>0.175758</td>\n",
       "      <td>0.564540</td>\n",
       "      <td>0.574277</td>\n",
       "      <td>0.870763</td>\n",
       "      <td>0.190850</td>\n",
       "      <td>0.331622</td>\n",
       "      <td>0.000833</td>\n",
       "      <td>-0.000350</td>\n",
       "      <td>39.999208</td>\n",
       "      <td>0.317577</td>\n",
       "      <td>0.418979</td>\n",
       "    </tr>\n",
       "    <tr>\n",
       "      <th>...</th>\n",
       "      <td>...</td>\n",
       "      <td>...</td>\n",
       "      <td>...</td>\n",
       "      <td>...</td>\n",
       "      <td>...</td>\n",
       "      <td>...</td>\n",
       "      <td>...</td>\n",
       "      <td>...</td>\n",
       "      <td>...</td>\n",
       "      <td>...</td>\n",
       "      <td>...</td>\n",
       "      <td>...</td>\n",
       "      <td>...</td>\n",
       "      <td>...</td>\n",
       "    </tr>\n",
       "    <tr>\n",
       "      <th>32556</th>\n",
       "      <td>23.219246</td>\n",
       "      <td>0.352825</td>\n",
       "      <td>201421.261278</td>\n",
       "      <td>0.140563</td>\n",
       "      <td>0.969161</td>\n",
       "      <td>0.569289</td>\n",
       "      <td>0.888789</td>\n",
       "      <td>0.289251</td>\n",
       "      <td>0.867818</td>\n",
       "      <td>-0.000738</td>\n",
       "      <td>-0.000544</td>\n",
       "      <td>18.450298</td>\n",
       "      <td>0.762662</td>\n",
       "      <td>0.363978</td>\n",
       "    </tr>\n",
       "    <tr>\n",
       "      <th>32557</th>\n",
       "      <td>64.369156</td>\n",
       "      <td>0.460776</td>\n",
       "      <td>217306.808916</td>\n",
       "      <td>0.788696</td>\n",
       "      <td>0.167653</td>\n",
       "      <td>0.054302</td>\n",
       "      <td>0.263855</td>\n",
       "      <td>0.451540</td>\n",
       "      <td>0.369682</td>\n",
       "      <td>-0.000398</td>\n",
       "      <td>0.000313</td>\n",
       "      <td>40.000300</td>\n",
       "      <td>0.514626</td>\n",
       "      <td>0.909281</td>\n",
       "    </tr>\n",
       "    <tr>\n",
       "      <th>32558</th>\n",
       "      <td>23.163672</td>\n",
       "      <td>0.230002</td>\n",
       "      <td>149272.321727</td>\n",
       "      <td>0.492888</td>\n",
       "      <td>0.873005</td>\n",
       "      <td>0.951038</td>\n",
       "      <td>0.747775</td>\n",
       "      <td>0.408492</td>\n",
       "      <td>0.496805</td>\n",
       "      <td>-0.000335</td>\n",
       "      <td>-0.000717</td>\n",
       "      <td>19.886304</td>\n",
       "      <td>0.520652</td>\n",
       "      <td>0.254872</td>\n",
       "    </tr>\n",
       "    <tr>\n",
       "      <th>32559</th>\n",
       "      <td>41.147664</td>\n",
       "      <td>0.304816</td>\n",
       "      <td>425817.169623</td>\n",
       "      <td>0.720547</td>\n",
       "      <td>0.599960</td>\n",
       "      <td>0.200947</td>\n",
       "      <td>0.753770</td>\n",
       "      <td>0.247962</td>\n",
       "      <td>0.425048</td>\n",
       "      <td>-0.000353</td>\n",
       "      <td>-0.000483</td>\n",
       "      <td>40.002116</td>\n",
       "      <td>0.333822</td>\n",
       "      <td>0.305182</td>\n",
       "    </tr>\n",
       "    <tr>\n",
       "      <th>32560</th>\n",
       "      <td>20.449268</td>\n",
       "      <td>0.321501</td>\n",
       "      <td>355819.442503</td>\n",
       "      <td>0.604251</td>\n",
       "      <td>0.298380</td>\n",
       "      <td>0.298241</td>\n",
       "      <td>0.569960</td>\n",
       "      <td>0.299829</td>\n",
       "      <td>0.298359</td>\n",
       "      <td>0.000642</td>\n",
       "      <td>0.000430</td>\n",
       "      <td>49.417627</td>\n",
       "      <td>0.273094</td>\n",
       "      <td>0.383309</td>\n",
       "    </tr>\n",
       "  </tbody>\n",
       "</table>\n",
       "<p>32561 rows × 14 columns</p>\n",
       "</div>"
      ],
      "text/plain": [
       "             age   workclass         fnlwgt   education   marital-status  \\\n",
       "0      47.788104    0.366156  229538.366839    0.430041         0.263454   \n",
       "1      51.347253    0.357193  424974.965991    0.272028         0.931505   \n",
       "2      40.853968    0.421574  297228.269267    0.198756         0.327563   \n",
       "3      43.068567    0.481886  169346.768034    0.670061         0.972116   \n",
       "4      17.620579    0.339717   58066.618827    0.175758         0.564540   \n",
       "...          ...         ...            ...         ...              ...   \n",
       "32556  23.219246    0.352825  201421.261278    0.140563         0.969161   \n",
       "32557  64.369156    0.460776  217306.808916    0.788696         0.167653   \n",
       "32558  23.163672    0.230002  149272.321727    0.492888         0.873005   \n",
       "32559  41.147664    0.304816  425817.169623    0.720547         0.599960   \n",
       "32560  20.449268    0.321501  355819.442503    0.604251         0.298380   \n",
       "\n",
       "        occupation   relationship      race       sex   capital-gain  \\\n",
       "0         0.457065       0.531249  0.283263  0.880806       0.000624   \n",
       "1         0.871737       0.850609  0.423143  0.477320       0.000017   \n",
       "2         0.537779       0.339654  0.377203  0.867572       0.001253   \n",
       "3         0.180748       0.868734  0.457757  0.318100       0.000200   \n",
       "4         0.574277       0.870763  0.190850  0.331622       0.000833   \n",
       "...            ...            ...       ...       ...            ...   \n",
       "32556     0.569289       0.888789  0.289251  0.867818      -0.000738   \n",
       "32557     0.054302       0.263855  0.451540  0.369682      -0.000398   \n",
       "32558     0.951038       0.747775  0.408492  0.496805      -0.000335   \n",
       "32559     0.200947       0.753770  0.247962  0.425048      -0.000353   \n",
       "32560     0.298241       0.569960  0.299829  0.298359       0.000642   \n",
       "\n",
       "        capital-loss   hours-per-week   native-country    salary  \n",
       "0          -0.000251        40.000347         0.311441  0.876233  \n",
       "1           0.000071        44.999801         0.475867  0.477389  \n",
       "2          -0.000222        39.809721         0.602804  0.822087  \n",
       "3          -0.000112        18.266676         0.985563  0.448111  \n",
       "4          -0.000350        39.999208         0.317577  0.418979  \n",
       "...              ...              ...              ...       ...  \n",
       "32556      -0.000544        18.450298         0.762662  0.363978  \n",
       "32557       0.000313        40.000300         0.514626  0.909281  \n",
       "32558      -0.000717        19.886304         0.520652  0.254872  \n",
       "32559      -0.000483        40.002116         0.333822  0.305182  \n",
       "32560       0.000430        49.417627         0.273094  0.383309  \n",
       "\n",
       "[32561 rows x 14 columns]"
      ]
     },
     "execution_count": 32,
     "metadata": {},
     "output_type": "execute_result"
    }
   ],
   "source": [
    "synthetic_df_full_filled"
   ]
  },
  {
   "cell_type": "code",
   "execution_count": 33,
   "metadata": {},
   "outputs": [],
   "source": [
    "def numerical_to_category(num_value, category_intervals):\n",
    "    \"\"\" Convert a numerical value back to its corresponding category. \"\"\"\n",
    "    for category, (a, b) in category_intervals.items():\n",
    "        if a <= num_value < b:\n",
    "            return category\n",
    "        elif num_value > 1 and round(b) == 1:\n",
    "            return category\n",
    "        elif num_value < 0 and round(b) == 0:\n",
    "            return category"
   ]
  },
  {
   "cell_type": "code",
   "execution_count": 34,
   "metadata": {},
   "outputs": [],
   "source": [
    "inversed_categories_workclass = synthetic_df_full_filled[' workclass'].apply(lambda x: numerical_to_category(x, category_intervals_workclass))\n",
    "inversed_categories_education = synthetic_df_full_filled[' education'].apply(lambda x: numerical_to_category(x, category_intervals_education))\n",
    "inversed_categories_marital = synthetic_df_full_filled[' marital-status'].apply(lambda x: numerical_to_category(x, category_intervals_marital))\n",
    "inversed_categories_occupation = synthetic_df_full_filled[' occupation'].apply(lambda x: numerical_to_category(x, category_intervals_occupation))\n",
    "inversed_categories_relationship = synthetic_df_full_filled[' relationship'].apply(lambda x: numerical_to_category(x, category_intervals_relationship))\n",
    "inversed_categories_race = synthetic_df_full_filled[' race'].apply(lambda x: numerical_to_category(x, category_intervals_race))\n",
    "inversed_categories_sex = synthetic_df_full_filled[' sex'].apply(lambda x: numerical_to_category(x, category_intervals_sex))\n",
    "inversed_categories_country = synthetic_df_full_filled[' native-country'].apply(lambda x: numerical_to_category(x, category_intervals_country))\n",
    "inversed_categories_salary = synthetic_df_full_filled[' salary'].apply(lambda x: numerical_to_category(x, category_intervals_salary))"
   ]
  },
  {
   "cell_type": "code",
   "execution_count": 35,
   "metadata": {},
   "outputs": [],
   "source": [
    "synthetic_df_full_filled[' workclass'] = inversed_categories_workclass\n",
    "\n",
    "synthetic_df_full_filled[' education'] = inversed_categories_education\n",
    "\n",
    "synthetic_df_full_filled[' marital-status'] = inversed_categories_marital\n",
    "\n",
    "synthetic_df_full_filled[' occupation'] = inversed_categories_occupation\n",
    "\n",
    "synthetic_df_full_filled[' relationship'] = inversed_categories_relationship\n",
    "\n",
    "synthetic_df_full_filled[' race'] = inversed_categories_race\n",
    "\n",
    "synthetic_df_full_filled[' sex'] = inversed_categories_sex\n",
    "\n",
    "synthetic_df_full_filled[' native-country'] = inversed_categories_country\n",
    "\n",
    "synthetic_df_full_filled[' salary'] = inversed_categories_salary"
   ]
  },
  {
   "cell_type": "code",
   "execution_count": 42,
   "metadata": {},
   "outputs": [
    {
     "data": {
      "text/plain": [
       " workclass\n",
       " Private             22627\n",
       " Self-emp-not-inc     2574\n",
       " Local-gov            2295\n",
       " ?                    1866\n",
       " State-gov            1200\n",
       " Self-emp-inc         1144\n",
       " Federal-gov           845\n",
       " Without-pay             6\n",
       " Never-worked            3\n",
       "Name: count, dtype: int64"
      ]
     },
     "execution_count": 42,
     "metadata": {},
     "output_type": "execute_result"
    }
   ],
   "source": [
    "synthetic_df_full_filled[' workclass'].value_counts()"
   ]
  },
  {
   "cell_type": "code",
   "execution_count": 43,
   "metadata": {},
   "outputs": [
    {
     "data": {
      "text/plain": [
       " workclass\n",
       " Private             22696\n",
       " Self-emp-not-inc     2541\n",
       " Local-gov            2093\n",
       " ?                    1836\n",
       " State-gov            1298\n",
       " Self-emp-inc         1116\n",
       " Federal-gov           960\n",
       " Without-pay            14\n",
       " Never-worked            7\n",
       "Name: count, dtype: int64"
      ]
     },
     "execution_count": 43,
     "metadata": {},
     "output_type": "execute_result"
    }
   ],
   "source": [
    "data1 = pd.read_csv(\"American_Income.csv\")\n",
    "data_for_test = data1.drop(columns=[' education-num'])\n",
    "\n",
    "data_for_test[' workclass'].value_counts()"
   ]
  },
  {
   "cell_type": "code",
   "execution_count": 38,
   "metadata": {},
   "outputs": [
    {
     "name": "stderr",
     "output_type": "stream",
     "text": [
      "Creating report: 100%|██████████| 4/4 [00:00<00:00,  4.74it/s]\n"
     ]
    },
    {
     "name": "stdout",
     "output_type": "stream",
     "text": [
      "\n",
      "Overall Quality Score: 87.7%\n",
      "\n",
      "Properties:\n",
      "Column Shapes: 90.16%\n",
      "Column Pair Trends: 85.25%\n"
     ]
    }
   ],
   "source": [
    "metadata1 = SingleTableMetadata()\n",
    "metadata1.detect_from_dataframe(data = data_for_test)\n",
    "baseline_quality_report = evaluate_quality(\n",
    "    data_for_test,  #real data\n",
    "    synthetic_df_full_filled, #synthetic data(perfect synthesizer generated(holdout))\n",
    "    metadata1\n",
    ")"
   ]
  },
  {
   "cell_type": "code",
   "execution_count": 39,
   "metadata": {},
   "outputs": [
    {
     "data": {
      "text/html": [
       "<div>\n",
       "<style scoped>\n",
       "    .dataframe tbody tr th:only-of-type {\n",
       "        vertical-align: middle;\n",
       "    }\n",
       "\n",
       "    .dataframe tbody tr th {\n",
       "        vertical-align: top;\n",
       "    }\n",
       "\n",
       "    .dataframe thead th {\n",
       "        text-align: right;\n",
       "    }\n",
       "</style>\n",
       "<table border=\"1\" class=\"dataframe\">\n",
       "  <thead>\n",
       "    <tr style=\"text-align: right;\">\n",
       "      <th></th>\n",
       "      <th>age</th>\n",
       "      <th>workclass</th>\n",
       "      <th>fnlwgt</th>\n",
       "      <th>education</th>\n",
       "      <th>marital-status</th>\n",
       "      <th>occupation</th>\n",
       "      <th>relationship</th>\n",
       "      <th>race</th>\n",
       "      <th>sex</th>\n",
       "      <th>capital-gain</th>\n",
       "      <th>capital-loss</th>\n",
       "      <th>hours-per-week</th>\n",
       "      <th>native-country</th>\n",
       "      <th>salary</th>\n",
       "    </tr>\n",
       "  </thead>\n",
       "  <tbody>\n",
       "    <tr>\n",
       "      <th>0</th>\n",
       "      <td>44</td>\n",
       "      <td>Private</td>\n",
       "      <td>137738</td>\n",
       "      <td>HS-grad</td>\n",
       "      <td>Divorced</td>\n",
       "      <td>Transport-moving</td>\n",
       "      <td>Own-child</td>\n",
       "      <td>White</td>\n",
       "      <td>Female</td>\n",
       "      <td>87580</td>\n",
       "      <td>23</td>\n",
       "      <td>55</td>\n",
       "      <td>United-States</td>\n",
       "      <td>&gt;50K</td>\n",
       "    </tr>\n",
       "    <tr>\n",
       "      <th>1</th>\n",
       "      <td>33</td>\n",
       "      <td>Federal-gov</td>\n",
       "      <td>144753</td>\n",
       "      <td>11th</td>\n",
       "      <td>Married-civ-spouse</td>\n",
       "      <td>Exec-managerial</td>\n",
       "      <td>Unmarried</td>\n",
       "      <td>White</td>\n",
       "      <td>Female</td>\n",
       "      <td>5255</td>\n",
       "      <td>0</td>\n",
       "      <td>60</td>\n",
       "      <td>United-States</td>\n",
       "      <td>&lt;=50K</td>\n",
       "    </tr>\n",
       "    <tr>\n",
       "      <th>2</th>\n",
       "      <td>22</td>\n",
       "      <td>Private</td>\n",
       "      <td>263046</td>\n",
       "      <td>Prof-school</td>\n",
       "      <td>Married-civ-spouse</td>\n",
       "      <td>Transport-moving</td>\n",
       "      <td>Husband</td>\n",
       "      <td>White</td>\n",
       "      <td>Male</td>\n",
       "      <td>51338</td>\n",
       "      <td>0</td>\n",
       "      <td>49</td>\n",
       "      <td>United-States</td>\n",
       "      <td>&gt;50K</td>\n",
       "    </tr>\n",
       "    <tr>\n",
       "      <th>3</th>\n",
       "      <td>47</td>\n",
       "      <td>Local-gov</td>\n",
       "      <td>142107</td>\n",
       "      <td>9th</td>\n",
       "      <td>Divorced</td>\n",
       "      <td>Prof-specialty</td>\n",
       "      <td>Own-child</td>\n",
       "      <td>Black</td>\n",
       "      <td>Female</td>\n",
       "      <td>49060</td>\n",
       "      <td>0</td>\n",
       "      <td>32</td>\n",
       "      <td>United-States</td>\n",
       "      <td>&lt;=50K</td>\n",
       "    </tr>\n",
       "    <tr>\n",
       "      <th>4</th>\n",
       "      <td>24</td>\n",
       "      <td>Federal-gov</td>\n",
       "      <td>342515</td>\n",
       "      <td>Bachelors</td>\n",
       "      <td>Never-married</td>\n",
       "      <td>Transport-moving</td>\n",
       "      <td>Unmarried</td>\n",
       "      <td>Black</td>\n",
       "      <td>Male</td>\n",
       "      <td>3978</td>\n",
       "      <td>62</td>\n",
       "      <td>39</td>\n",
       "      <td>India</td>\n",
       "      <td>&lt;=50K</td>\n",
       "    </tr>\n",
       "    <tr>\n",
       "      <th>...</th>\n",
       "      <td>...</td>\n",
       "      <td>...</td>\n",
       "      <td>...</td>\n",
       "      <td>...</td>\n",
       "      <td>...</td>\n",
       "      <td>...</td>\n",
       "      <td>...</td>\n",
       "      <td>...</td>\n",
       "      <td>...</td>\n",
       "      <td>...</td>\n",
       "      <td>...</td>\n",
       "      <td>...</td>\n",
       "      <td>...</td>\n",
       "      <td>...</td>\n",
       "    </tr>\n",
       "    <tr>\n",
       "      <th>32556</th>\n",
       "      <td>42</td>\n",
       "      <td>Federal-gov</td>\n",
       "      <td>74028</td>\n",
       "      <td>Masters</td>\n",
       "      <td>Married-spouse-absent</td>\n",
       "      <td>Transport-moving</td>\n",
       "      <td>Unmarried</td>\n",
       "      <td>White</td>\n",
       "      <td>Female</td>\n",
       "      <td>99592</td>\n",
       "      <td>0</td>\n",
       "      <td>38</td>\n",
       "      <td>United-States</td>\n",
       "      <td>&lt;=50K</td>\n",
       "    </tr>\n",
       "    <tr>\n",
       "      <th>32557</th>\n",
       "      <td>21</td>\n",
       "      <td>Private</td>\n",
       "      <td>142426</td>\n",
       "      <td>Assoc-acdm</td>\n",
       "      <td>Never-married</td>\n",
       "      <td>Exec-managerial</td>\n",
       "      <td>Not-in-family</td>\n",
       "      <td>Black</td>\n",
       "      <td>Female</td>\n",
       "      <td>536</td>\n",
       "      <td>0</td>\n",
       "      <td>33</td>\n",
       "      <td>United-States</td>\n",
       "      <td>&lt;=50K</td>\n",
       "    </tr>\n",
       "    <tr>\n",
       "      <th>32558</th>\n",
       "      <td>33</td>\n",
       "      <td>State-gov</td>\n",
       "      <td>106801</td>\n",
       "      <td>Masters</td>\n",
       "      <td>Never-married</td>\n",
       "      <td>Handlers-cleaners</td>\n",
       "      <td>Husband</td>\n",
       "      <td>White</td>\n",
       "      <td>Female</td>\n",
       "      <td>26961</td>\n",
       "      <td>0</td>\n",
       "      <td>24</td>\n",
       "      <td>United-States</td>\n",
       "      <td>&lt;=50K</td>\n",
       "    </tr>\n",
       "    <tr>\n",
       "      <th>32559</th>\n",
       "      <td>49</td>\n",
       "      <td>?</td>\n",
       "      <td>148553</td>\n",
       "      <td>7th-8th</td>\n",
       "      <td>Married-civ-spouse</td>\n",
       "      <td>?</td>\n",
       "      <td>Own-child</td>\n",
       "      <td>White</td>\n",
       "      <td>Male</td>\n",
       "      <td>62266</td>\n",
       "      <td>112</td>\n",
       "      <td>39</td>\n",
       "      <td>Cuba</td>\n",
       "      <td>&gt;50K</td>\n",
       "    </tr>\n",
       "    <tr>\n",
       "      <th>32560</th>\n",
       "      <td>37</td>\n",
       "      <td>?</td>\n",
       "      <td>168736</td>\n",
       "      <td>11th</td>\n",
       "      <td>Married-civ-spouse</td>\n",
       "      <td>Tech-support</td>\n",
       "      <td>Husband</td>\n",
       "      <td>White</td>\n",
       "      <td>Female</td>\n",
       "      <td>2268</td>\n",
       "      <td>1</td>\n",
       "      <td>46</td>\n",
       "      <td>United-States</td>\n",
       "      <td>&lt;=50K</td>\n",
       "    </tr>\n",
       "  </tbody>\n",
       "</table>\n",
       "<p>32561 rows × 14 columns</p>\n",
       "</div>"
      ],
      "text/plain": [
       "       age     workclass   fnlwgt     education          marital-status  \\\n",
       "0       44       Private   137738       HS-grad                Divorced   \n",
       "1       33   Federal-gov   144753          11th      Married-civ-spouse   \n",
       "2       22       Private   263046   Prof-school      Married-civ-spouse   \n",
       "3       47     Local-gov   142107           9th                Divorced   \n",
       "4       24   Federal-gov   342515     Bachelors           Never-married   \n",
       "...    ...           ...      ...           ...                     ...   \n",
       "32556   42   Federal-gov    74028       Masters   Married-spouse-absent   \n",
       "32557   21       Private   142426    Assoc-acdm           Never-married   \n",
       "32558   33     State-gov   106801       Masters           Never-married   \n",
       "32559   49             ?   148553       7th-8th      Married-civ-spouse   \n",
       "32560   37             ?   168736          11th      Married-civ-spouse   \n",
       "\n",
       "               occupation    relationship    race      sex   capital-gain  \\\n",
       "0        Transport-moving       Own-child   White   Female          87580   \n",
       "1         Exec-managerial       Unmarried   White   Female           5255   \n",
       "2        Transport-moving         Husband   White     Male          51338   \n",
       "3          Prof-specialty       Own-child   Black   Female          49060   \n",
       "4        Transport-moving       Unmarried   Black     Male           3978   \n",
       "...                   ...             ...     ...      ...            ...   \n",
       "32556    Transport-moving       Unmarried   White   Female          99592   \n",
       "32557     Exec-managerial   Not-in-family   Black   Female            536   \n",
       "32558   Handlers-cleaners         Husband   White   Female          26961   \n",
       "32559                   ?       Own-child   White     Male          62266   \n",
       "32560        Tech-support         Husband   White   Female           2268   \n",
       "\n",
       "        capital-loss   hours-per-week  native-country  salary  \n",
       "0                 23               55   United-States    >50K  \n",
       "1                  0               60   United-States   <=50K  \n",
       "2                  0               49   United-States    >50K  \n",
       "3                  0               32   United-States   <=50K  \n",
       "4                 62               39           India   <=50K  \n",
       "...              ...              ...             ...     ...  \n",
       "32556              0               38   United-States   <=50K  \n",
       "32557              0               33   United-States   <=50K  \n",
       "32558              0               24   United-States   <=50K  \n",
       "32559            112               39            Cuba    >50K  \n",
       "32560              1               46   United-States   <=50K  \n",
       "\n",
       "[32561 rows x 14 columns]"
      ]
     },
     "execution_count": 39,
     "metadata": {},
     "output_type": "execute_result"
    }
   ],
   "source": [
    "metadata1 = SingleTableMetadata()\n",
    "\n",
    "metadata1.detect_from_dataframe(data = data_for_test)\n",
    "synthesier = GaussianCopulaSynthesizer(metadata1)\n",
    "synthesier.fit(data_for_test)\n",
    "synthetic_data = synthesier.sample(num_rows = num_rows)  #keep the number of rows equal to the data hold\n",
    "synthetic_data "
   ]
  },
  {
   "cell_type": "code",
   "execution_count": 40,
   "metadata": {},
   "outputs": [
    {
     "data": {
      "text/plain": [
       "{\n",
       "    \"METADATA_SPEC_VERSION\": \"SINGLE_TABLE_V1\",\n",
       "    \"columns\": {\n",
       "        \"age\": {\n",
       "            \"sdtype\": \"numerical\"\n",
       "        },\n",
       "        \" workclass\": {\n",
       "            \"sdtype\": \"categorical\"\n",
       "        },\n",
       "        \" fnlwgt\": {\n",
       "            \"sdtype\": \"numerical\"\n",
       "        },\n",
       "        \" education\": {\n",
       "            \"sdtype\": \"categorical\"\n",
       "        },\n",
       "        \" marital-status\": {\n",
       "            \"sdtype\": \"categorical\"\n",
       "        },\n",
       "        \" occupation\": {\n",
       "            \"sdtype\": \"categorical\"\n",
       "        },\n",
       "        \" relationship\": {\n",
       "            \"sdtype\": \"categorical\"\n",
       "        },\n",
       "        \" race\": {\n",
       "            \"sdtype\": \"categorical\"\n",
       "        },\n",
       "        \" sex\": {\n",
       "            \"sdtype\": \"categorical\"\n",
       "        },\n",
       "        \" capital-gain\": {\n",
       "            \"sdtype\": \"numerical\"\n",
       "        },\n",
       "        \" capital-loss\": {\n",
       "            \"sdtype\": \"numerical\"\n",
       "        },\n",
       "        \" hours-per-week\": {\n",
       "            \"sdtype\": \"numerical\"\n",
       "        },\n",
       "        \" native-country\": {\n",
       "            \"sdtype\": \"categorical\"\n",
       "        },\n",
       "        \" salary\": {\n",
       "            \"sdtype\": \"categorical\"\n",
       "        }\n",
       "    }\n",
       "}"
      ]
     },
     "execution_count": 40,
     "metadata": {},
     "output_type": "execute_result"
    }
   ],
   "source": [
    "metadata1"
   ]
  },
  {
   "cell_type": "code",
   "execution_count": 41,
   "metadata": {},
   "outputs": [
    {
     "name": "stderr",
     "output_type": "stream",
     "text": [
      "Creating report: 100%|██████████| 4/4 [00:00<00:00,  4.81it/s]\n"
     ]
    },
    {
     "name": "stdout",
     "output_type": "stream",
     "text": [
      "\n",
      "Overall Quality Score: 71.81%\n",
      "\n",
      "Properties:\n",
      "Column Shapes: 74.55%\n",
      "Column Pair Trends: 69.07%\n"
     ]
    }
   ],
   "source": [
    "metadata1 = SingleTableMetadata()\n",
    "metadata1.detect_from_dataframe(data = data_for_test)\n",
    "baseline_quality_report = evaluate_quality(\n",
    "    data_for_test,  #real data\n",
    "    synthetic_data, #synthetic data(perfect synthesizer generated(holdout))\n",
    "    metadata1\n",
    ")"
   ]
  },
  {
   "cell_type": "code",
   "execution_count": null,
   "metadata": {},
   "outputs": [],
   "source": []
  },
  {
   "cell_type": "code",
   "execution_count": null,
   "metadata": {},
   "outputs": [],
   "source": []
  }
 ],
 "metadata": {
  "kernelspec": {
   "display_name": "Python 3.11.0 64-bit",
   "language": "python",
   "name": "python3"
  },
  "language_info": {
   "codemirror_mode": {
    "name": "ipython",
    "version": 3
   },
   "file_extension": ".py",
   "mimetype": "text/x-python",
   "name": "python",
   "nbconvert_exporter": "python",
   "pygments_lexer": "ipython3",
   "version": "3.8.10"
  },
  "vscode": {
   "interpreter": {
    "hash": "1a1af0ee75eeea9e2e1ee996c87e7a2b11a0bebd85af04bb136d915cefc0abce"
   }
  }
 },
 "nbformat": 4,
 "nbformat_minor": 2
}
