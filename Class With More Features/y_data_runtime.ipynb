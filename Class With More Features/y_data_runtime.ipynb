{
 "cells": [
  {
   "cell_type": "markdown",
   "metadata": {},
   "source": [
    "## American Income Run Time"
   ]
  },
  {
   "cell_type": "code",
   "execution_count": 10,
   "metadata": {},
   "outputs": [
    {
     "name": "stderr",
     "output_type": "stream",
     "text": [
      "Hyperparameter search: 100%|██████████| 8/8 [04:38<00:00, 34.81s/it]\n"
     ]
    },
    {
     "name": "stdout",
     "output_type": "stream",
     "text": [
      "The time Y-data used for generating the same number of rows is: 279.9637203216553 seconds\n"
     ]
    }
   ],
   "source": [
    "from pmlb import fetch_data\n",
    "import numpy as np\n",
    "import pandas as pd\n",
    "import time\n",
    "from ydata_synthetic.synthesizers.regular import RegularSynthesizer\n",
    "from ydata_synthetic.synthesizers import ModelParameters, TrainParameters\n",
    "import warnings\n",
    "warnings.filterwarnings('ignore')\n",
    "\n",
    "\n",
    "data = pd.read_csv(\"American_Income.csv\")\n",
    "numerical_cols = data.select_dtypes(include=[np.number]).columns.tolist()\n",
    "categorical_cols = data.select_dtypes(include=['object']).columns.tolist()\n",
    "start_time = time.time()\n",
    "synth = RegularSynthesizer(modelname='fast')\n",
    "synth.fit(data=data, num_cols=numerical_cols, cat_cols=categorical_cols)\n",
    "synth_data = synth.sample(32561)\n",
    "end_time = time.time()\n",
    "y_data_time_used = end_time - start_time\n",
    "print(\"The time Y-data used for generating the same number of rows is: \" + str(y_data_time_used) + \" seconds\")"
   ]
  },
  {
   "cell_type": "code",
   "execution_count": 6,
   "metadata": {},
   "outputs": [
    {
     "data": {
      "text/html": [
       "<div>\n",
       "<style scoped>\n",
       "    .dataframe tbody tr th:only-of-type {\n",
       "        vertical-align: middle;\n",
       "    }\n",
       "\n",
       "    .dataframe tbody tr th {\n",
       "        vertical-align: top;\n",
       "    }\n",
       "\n",
       "    .dataframe thead th {\n",
       "        text-align: right;\n",
       "    }\n",
       "</style>\n",
       "<table border=\"1\" class=\"dataframe\">\n",
       "  <thead>\n",
       "    <tr style=\"text-align: right;\">\n",
       "      <th></th>\n",
       "      <th>age</th>\n",
       "      <th>workclass</th>\n",
       "      <th>fnlwgt</th>\n",
       "      <th>education</th>\n",
       "      <th>education-num</th>\n",
       "      <th>marital-status</th>\n",
       "      <th>occupation</th>\n",
       "      <th>relationship</th>\n",
       "      <th>race</th>\n",
       "      <th>sex</th>\n",
       "      <th>capital-gain</th>\n",
       "      <th>capital-loss</th>\n",
       "      <th>hours-per-week</th>\n",
       "      <th>native-country</th>\n",
       "      <th>salary</th>\n",
       "    </tr>\n",
       "  </thead>\n",
       "  <tbody>\n",
       "    <tr>\n",
       "      <th>0</th>\n",
       "      <td>33</td>\n",
       "      <td>Private</td>\n",
       "      <td>168899</td>\n",
       "      <td>HS-grad</td>\n",
       "      <td>9</td>\n",
       "      <td>Married-civ-spouse</td>\n",
       "      <td>Handlers-cleaners</td>\n",
       "      <td>Husband</td>\n",
       "      <td>White</td>\n",
       "      <td>Male</td>\n",
       "      <td>10123</td>\n",
       "      <td>399</td>\n",
       "      <td>43</td>\n",
       "      <td>United-States</td>\n",
       "      <td>&lt;=50K</td>\n",
       "    </tr>\n",
       "    <tr>\n",
       "      <th>1</th>\n",
       "      <td>47</td>\n",
       "      <td>Private</td>\n",
       "      <td>260414</td>\n",
       "      <td>HS-grad</td>\n",
       "      <td>14</td>\n",
       "      <td>Married-civ-spouse</td>\n",
       "      <td>Prof-specialty</td>\n",
       "      <td>Husband</td>\n",
       "      <td>White</td>\n",
       "      <td>Male</td>\n",
       "      <td>5655</td>\n",
       "      <td>1049</td>\n",
       "      <td>52</td>\n",
       "      <td>United-States</td>\n",
       "      <td>&gt;50K</td>\n",
       "    </tr>\n",
       "    <tr>\n",
       "      <th>2</th>\n",
       "      <td>42</td>\n",
       "      <td>Self-emp-not-inc</td>\n",
       "      <td>239851</td>\n",
       "      <td>Bachelors</td>\n",
       "      <td>11</td>\n",
       "      <td>Married-civ-spouse</td>\n",
       "      <td>Machine-op-inspct</td>\n",
       "      <td>Husband</td>\n",
       "      <td>White</td>\n",
       "      <td>Male</td>\n",
       "      <td>-587</td>\n",
       "      <td>883</td>\n",
       "      <td>56</td>\n",
       "      <td>United-States</td>\n",
       "      <td>&gt;50K</td>\n",
       "    </tr>\n",
       "    <tr>\n",
       "      <th>3</th>\n",
       "      <td>46</td>\n",
       "      <td>State-gov</td>\n",
       "      <td>339918</td>\n",
       "      <td>Some-college</td>\n",
       "      <td>7</td>\n",
       "      <td>Married-civ-spouse</td>\n",
       "      <td>Exec-managerial</td>\n",
       "      <td>Husband</td>\n",
       "      <td>White</td>\n",
       "      <td>Male</td>\n",
       "      <td>-7851</td>\n",
       "      <td>155</td>\n",
       "      <td>29</td>\n",
       "      <td>United-States</td>\n",
       "      <td>&lt;=50K</td>\n",
       "    </tr>\n",
       "    <tr>\n",
       "      <th>4</th>\n",
       "      <td>62</td>\n",
       "      <td>Private</td>\n",
       "      <td>101874</td>\n",
       "      <td>HS-grad</td>\n",
       "      <td>9</td>\n",
       "      <td>Married-civ-spouse</td>\n",
       "      <td>Prof-specialty</td>\n",
       "      <td>Husband</td>\n",
       "      <td>White</td>\n",
       "      <td>Male</td>\n",
       "      <td>14717</td>\n",
       "      <td>-319</td>\n",
       "      <td>36</td>\n",
       "      <td>United-States</td>\n",
       "      <td>&gt;50K</td>\n",
       "    </tr>\n",
       "    <tr>\n",
       "      <th>...</th>\n",
       "      <td>...</td>\n",
       "      <td>...</td>\n",
       "      <td>...</td>\n",
       "      <td>...</td>\n",
       "      <td>...</td>\n",
       "      <td>...</td>\n",
       "      <td>...</td>\n",
       "      <td>...</td>\n",
       "      <td>...</td>\n",
       "      <td>...</td>\n",
       "      <td>...</td>\n",
       "      <td>...</td>\n",
       "      <td>...</td>\n",
       "      <td>...</td>\n",
       "      <td>...</td>\n",
       "    </tr>\n",
       "    <tr>\n",
       "      <th>32556</th>\n",
       "      <td>35</td>\n",
       "      <td>Private</td>\n",
       "      <td>155538</td>\n",
       "      <td>Some-college</td>\n",
       "      <td>7</td>\n",
       "      <td>Never-married</td>\n",
       "      <td>Adm-clerical</td>\n",
       "      <td>Unmarried</td>\n",
       "      <td>White</td>\n",
       "      <td>Female</td>\n",
       "      <td>318</td>\n",
       "      <td>489</td>\n",
       "      <td>31</td>\n",
       "      <td>United-States</td>\n",
       "      <td>&lt;=50K</td>\n",
       "    </tr>\n",
       "    <tr>\n",
       "      <th>32557</th>\n",
       "      <td>33</td>\n",
       "      <td>Private</td>\n",
       "      <td>221859</td>\n",
       "      <td>Bachelors</td>\n",
       "      <td>12</td>\n",
       "      <td>Never-married</td>\n",
       "      <td>Prof-specialty</td>\n",
       "      <td>Own-child</td>\n",
       "      <td>White</td>\n",
       "      <td>Female</td>\n",
       "      <td>-2690</td>\n",
       "      <td>-93</td>\n",
       "      <td>32</td>\n",
       "      <td>United-States</td>\n",
       "      <td>&lt;=50K</td>\n",
       "    </tr>\n",
       "    <tr>\n",
       "      <th>32558</th>\n",
       "      <td>28</td>\n",
       "      <td>Private</td>\n",
       "      <td>139584</td>\n",
       "      <td>Bachelors</td>\n",
       "      <td>12</td>\n",
       "      <td>Never-married</td>\n",
       "      <td>Other-service</td>\n",
       "      <td>Own-child</td>\n",
       "      <td>White</td>\n",
       "      <td>Female</td>\n",
       "      <td>870</td>\n",
       "      <td>-568</td>\n",
       "      <td>23</td>\n",
       "      <td>United-States</td>\n",
       "      <td>&lt;=50K</td>\n",
       "    </tr>\n",
       "    <tr>\n",
       "      <th>32559</th>\n",
       "      <td>24</td>\n",
       "      <td>Private</td>\n",
       "      <td>98848</td>\n",
       "      <td>Some-college</td>\n",
       "      <td>8</td>\n",
       "      <td>Never-married</td>\n",
       "      <td>Exec-managerial</td>\n",
       "      <td>Own-child</td>\n",
       "      <td>White</td>\n",
       "      <td>Male</td>\n",
       "      <td>-1639</td>\n",
       "      <td>559</td>\n",
       "      <td>25</td>\n",
       "      <td>United-States</td>\n",
       "      <td>&lt;=50K</td>\n",
       "    </tr>\n",
       "    <tr>\n",
       "      <th>32560</th>\n",
       "      <td>19</td>\n",
       "      <td>Private</td>\n",
       "      <td>167925</td>\n",
       "      <td>Some-college</td>\n",
       "      <td>11</td>\n",
       "      <td>Never-married</td>\n",
       "      <td>Adm-clerical</td>\n",
       "      <td>Not-in-family</td>\n",
       "      <td>White</td>\n",
       "      <td>Female</td>\n",
       "      <td>411</td>\n",
       "      <td>-46</td>\n",
       "      <td>33</td>\n",
       "      <td>United-States</td>\n",
       "      <td>&lt;=50K</td>\n",
       "    </tr>\n",
       "  </tbody>\n",
       "</table>\n",
       "<p>32561 rows × 15 columns</p>\n",
       "</div>"
      ],
      "text/plain": [
       "       age          workclass   fnlwgt      education   education-num  \\\n",
       "0       33            Private   168899        HS-grad               9   \n",
       "1       47            Private   260414        HS-grad              14   \n",
       "2       42   Self-emp-not-inc   239851      Bachelors              11   \n",
       "3       46          State-gov   339918   Some-college               7   \n",
       "4       62            Private   101874        HS-grad               9   \n",
       "...    ...                ...      ...            ...             ...   \n",
       "32556   35            Private   155538   Some-college               7   \n",
       "32557   33            Private   221859      Bachelors              12   \n",
       "32558   28            Private   139584      Bachelors              12   \n",
       "32559   24            Private    98848   Some-college               8   \n",
       "32560   19            Private   167925   Some-college              11   \n",
       "\n",
       "            marital-status          occupation    relationship    race  \\\n",
       "0       Married-civ-spouse   Handlers-cleaners         Husband   White   \n",
       "1       Married-civ-spouse      Prof-specialty         Husband   White   \n",
       "2       Married-civ-spouse   Machine-op-inspct         Husband   White   \n",
       "3       Married-civ-spouse     Exec-managerial         Husband   White   \n",
       "4       Married-civ-spouse      Prof-specialty         Husband   White   \n",
       "...                    ...                 ...             ...     ...   \n",
       "32556        Never-married        Adm-clerical       Unmarried   White   \n",
       "32557        Never-married      Prof-specialty       Own-child   White   \n",
       "32558        Never-married       Other-service       Own-child   White   \n",
       "32559        Never-married     Exec-managerial       Own-child   White   \n",
       "32560        Never-married        Adm-clerical   Not-in-family   White   \n",
       "\n",
       "           sex   capital-gain   capital-loss   hours-per-week  native-country  \\\n",
       "0         Male          10123            399               43   United-States   \n",
       "1         Male           5655           1049               52   United-States   \n",
       "2         Male           -587            883               56   United-States   \n",
       "3         Male          -7851            155               29   United-States   \n",
       "4         Male          14717           -319               36   United-States   \n",
       "...        ...            ...            ...              ...             ...   \n",
       "32556   Female            318            489               31   United-States   \n",
       "32557   Female          -2690            -93               32   United-States   \n",
       "32558   Female            870           -568               23   United-States   \n",
       "32559     Male          -1639            559               25   United-States   \n",
       "32560   Female            411            -46               33   United-States   \n",
       "\n",
       "       salary  \n",
       "0       <=50K  \n",
       "1        >50K  \n",
       "2        >50K  \n",
       "3       <=50K  \n",
       "4        >50K  \n",
       "...       ...  \n",
       "32556   <=50K  \n",
       "32557   <=50K  \n",
       "32558   <=50K  \n",
       "32559   <=50K  \n",
       "32560   <=50K  \n",
       "\n",
       "[32561 rows x 15 columns]"
      ]
     },
     "execution_count": 6,
     "metadata": {},
     "output_type": "execute_result"
    }
   ],
   "source": [
    "synth_data"
   ]
  },
  {
   "cell_type": "markdown",
   "metadata": {},
   "source": [
    "## Crab Age Varies Rows Runtime"
   ]
  },
  {
   "cell_type": "code",
   "execution_count": 7,
   "metadata": {},
   "outputs": [
    {
     "name": "stderr",
     "output_type": "stream",
     "text": [
      "Hyperparameter search: 100%|██████████| 8/8 [09:49<00:00, 73.67s/it]\n"
     ]
    },
    {
     "name": "stdout",
     "output_type": "stream",
     "text": [
      "[(10000, 589.5723440647125)]\n"
     ]
    },
    {
     "name": "stderr",
     "output_type": "stream",
     "text": [
      "Hyperparameter search: 100%|██████████| 8/8 [09:42<00:00, 72.85s/it]\n"
     ]
    },
    {
     "name": "stdout",
     "output_type": "stream",
     "text": [
      "[(10000, 589.5723440647125), (20000, 582.9691133499146)]\n"
     ]
    },
    {
     "name": "stderr",
     "output_type": "stream",
     "text": [
      "Hyperparameter search: 100%|██████████| 8/8 [10:18<00:00, 77.30s/it]\n"
     ]
    },
    {
     "name": "stdout",
     "output_type": "stream",
     "text": [
      "[(10000, 589.5723440647125), (20000, 582.9691133499146), (30000, 618.6466407775879)]\n"
     ]
    },
    {
     "name": "stderr",
     "output_type": "stream",
     "text": [
      "Hyperparameter search: 100%|██████████| 8/8 [09:57<00:00, 74.69s/it]\n"
     ]
    },
    {
     "name": "stdout",
     "output_type": "stream",
     "text": [
      "[(10000, 589.5723440647125), (20000, 582.9691133499146), (30000, 618.6466407775879), (40000, 597.7699062824249)]\n"
     ]
    },
    {
     "name": "stderr",
     "output_type": "stream",
     "text": [
      "Hyperparameter search: 100%|██████████| 8/8 [09:49<00:00, 73.64s/it]\n"
     ]
    },
    {
     "name": "stdout",
     "output_type": "stream",
     "text": [
      "[(10000, 589.5723440647125), (20000, 582.9691133499146), (30000, 618.6466407775879), (40000, 597.7699062824249), (50000, 589.3357026576996)]\n"
     ]
    },
    {
     "name": "stderr",
     "output_type": "stream",
     "text": [
      "Hyperparameter search: 100%|██████████| 8/8 [10:07<00:00, 75.98s/it]\n"
     ]
    },
    {
     "name": "stdout",
     "output_type": "stream",
     "text": [
      "[(10000, 589.5723440647125), (20000, 582.9691133499146), (30000, 618.6466407775879), (40000, 597.7699062824249), (50000, 589.3357026576996), (60000, 608.103081703186)]\n"
     ]
    },
    {
     "name": "stderr",
     "output_type": "stream",
     "text": [
      "Hyperparameter search: 100%|██████████| 8/8 [09:58<00:00, 74.80s/it]\n"
     ]
    },
    {
     "name": "stdout",
     "output_type": "stream",
     "text": [
      "[(10000, 589.5723440647125), (20000, 582.9691133499146), (30000, 618.6466407775879), (40000, 597.7699062824249), (50000, 589.3357026576996), (60000, 608.103081703186), (70000, 598.6671273708344)]\n"
     ]
    },
    {
     "name": "stderr",
     "output_type": "stream",
     "text": [
      "Hyperparameter search: 100%|██████████| 8/8 [10:00<00:00, 75.02s/it]\n"
     ]
    },
    {
     "name": "stdout",
     "output_type": "stream",
     "text": [
      "[(10000, 589.5723440647125), (20000, 582.9691133499146), (30000, 618.6466407775879), (40000, 597.7699062824249), (50000, 589.3357026576996), (60000, 608.103081703186), (70000, 598.6671273708344), (80000, 600.3750848770142)]\n"
     ]
    },
    {
     "name": "stderr",
     "output_type": "stream",
     "text": [
      "Hyperparameter search: 100%|██████████| 8/8 [09:58<00:00, 74.79s/it]\n"
     ]
    },
    {
     "name": "stdout",
     "output_type": "stream",
     "text": [
      "[(10000, 589.5723440647125), (20000, 582.9691133499146), (30000, 618.6466407775879), (40000, 597.7699062824249), (50000, 589.3357026576996), (60000, 608.103081703186), (70000, 598.6671273708344), (80000, 600.3750848770142), (90000, 598.5414252281189)]\n"
     ]
    },
    {
     "data": {
      "text/html": [
       "<div>\n",
       "<style scoped>\n",
       "    .dataframe tbody tr th:only-of-type {\n",
       "        vertical-align: middle;\n",
       "    }\n",
       "\n",
       "    .dataframe tbody tr th {\n",
       "        vertical-align: top;\n",
       "    }\n",
       "\n",
       "    .dataframe thead th {\n",
       "        text-align: right;\n",
       "    }\n",
       "</style>\n",
       "<table border=\"1\" class=\"dataframe\">\n",
       "  <thead>\n",
       "    <tr style=\"text-align: right;\">\n",
       "      <th></th>\n",
       "      <th>Rows</th>\n",
       "      <th>Time (seconds)</th>\n",
       "    </tr>\n",
       "  </thead>\n",
       "  <tbody>\n",
       "    <tr>\n",
       "      <th>0</th>\n",
       "      <td>10000</td>\n",
       "      <td>589.572344</td>\n",
       "    </tr>\n",
       "    <tr>\n",
       "      <th>1</th>\n",
       "      <td>20000</td>\n",
       "      <td>582.969113</td>\n",
       "    </tr>\n",
       "    <tr>\n",
       "      <th>2</th>\n",
       "      <td>30000</td>\n",
       "      <td>618.646641</td>\n",
       "    </tr>\n",
       "    <tr>\n",
       "      <th>3</th>\n",
       "      <td>40000</td>\n",
       "      <td>597.769906</td>\n",
       "    </tr>\n",
       "    <tr>\n",
       "      <th>4</th>\n",
       "      <td>50000</td>\n",
       "      <td>589.335703</td>\n",
       "    </tr>\n",
       "    <tr>\n",
       "      <th>5</th>\n",
       "      <td>60000</td>\n",
       "      <td>608.103082</td>\n",
       "    </tr>\n",
       "    <tr>\n",
       "      <th>6</th>\n",
       "      <td>70000</td>\n",
       "      <td>598.667127</td>\n",
       "    </tr>\n",
       "    <tr>\n",
       "      <th>7</th>\n",
       "      <td>80000</td>\n",
       "      <td>600.375085</td>\n",
       "    </tr>\n",
       "    <tr>\n",
       "      <th>8</th>\n",
       "      <td>90000</td>\n",
       "      <td>598.541425</td>\n",
       "    </tr>\n",
       "  </tbody>\n",
       "</table>\n",
       "</div>"
      ],
      "text/plain": [
       "    Rows  Time (seconds)\n",
       "0  10000      589.572344\n",
       "1  20000      582.969113\n",
       "2  30000      618.646641\n",
       "3  40000      597.769906\n",
       "4  50000      589.335703\n",
       "5  60000      608.103082\n",
       "6  70000      598.667127\n",
       "7  80000      600.375085\n",
       "8  90000      598.541425"
      ]
     },
     "execution_count": 7,
     "metadata": {},
     "output_type": "execute_result"
    }
   ],
   "source": [
    "from pmlb import fetch_data\n",
    "import numpy as np\n",
    "import pandas as pd\n",
    "import time\n",
    "from ydata_synthetic.synthesizers.regular import RegularSynthesizer\n",
    "from ydata_synthetic.synthesizers import ModelParameters, TrainParameters\n",
    "\n",
    "\n",
    "\n",
    "data = pd.read_csv(\"crab_age.csv\")\n",
    "numerical_cols = data.select_dtypes(include=[np.number]).columns.tolist()\n",
    "categorical_cols = data.select_dtypes(include=['object']).columns.tolist()\n",
    "data_size_vary_sdv = {}\n",
    "timings = []\n",
    "for i in range (9):\n",
    "    start_time = time.time()\n",
    "    synth = RegularSynthesizer(modelname='fast')\n",
    "    synth.fit(data=data, num_cols=numerical_cols, cat_cols=categorical_cols)\n",
    "    synth_data = synth.sample((i+1)*10000)\n",
    "    end_time = time.time()\n",
    "    y_data_time_used = end_time - start_time\n",
    "    timings.append(((i+1)*10000, end_time - start_time))\n",
    "    print(timings)\n",
    "    data_size_vary_sdv[str((i+1)*10000) + \"rows data\"] = synth_data\n",
    "\n",
    "\n",
    "timing_df = pd.DataFrame(timings, columns = [\"Rows\", \"Time (seconds)\"])\n",
    "timing_df"
   ]
  },
  {
   "cell_type": "code",
   "execution_count": 3,
   "metadata": {},
   "outputs": [
    {
     "data": {
      "image/png": "[encoded data removed]",
      "text/plain": [
       "<Figure size 1000x600 with 1 Axes>"
      ]
     },
     "metadata": {},
     "output_type": "display_data"
    }
   ],
   "source": [
    "import matplotlib.pyplot as plt\n",
    "\n",
    "plt.figure(figsize=(10, 6))  # Set the figure size\n",
    "plt.plot(timing_df['Rows'], timing_df['Time (seconds)'], marker='o', linestyle='-')\n",
    "plt.title('Time Taken to Generate Synthetic Data by Y-data')\n",
    "plt.xlabel('Number of Rows')\n",
    "plt.ylabel('Time (seconds)')\n",
    "plt.grid(True)\n",
    "plt.show()"
   ]
  },
  {
   "cell_type": "code",
   "execution_count": null,
   "metadata": {},
   "outputs": [],
   "source": []
  }
 ],
 "metadata": {
  "kernelspec": {
   "display_name": "Python 3",
   "language": "python",
   "name": "python3"
  },
  "language_info": {
   "codemirror_mode": {
    "name": "ipython",
    "version": 3
   },
   "file_extension": ".py",
   "mimetype": "text/x-python",
   "name": "python",
   "nbconvert_exporter": "python",
   "pygments_lexer": "ipython3",
   "version": "3.10.8"
  }
 },
 "nbformat": 4,
 "nbformat_minor": 2
}
