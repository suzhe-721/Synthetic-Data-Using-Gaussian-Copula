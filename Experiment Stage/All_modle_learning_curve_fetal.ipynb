{
 "cells": [
  {
   "cell_type": "code",
   "execution_count": 1,
   "metadata": {},
   "outputs": [],
   "source": [
    "import numpy as np\n",
    "import pandas as pd\n",
    "import GCKM as G\n",
    "\n",
    "import matplotlib.pyplot as plt\n",
    "import seaborn as sns\n",
    "import plotly.express as px\n",
    "import plotly.graph_objects as go\n",
    "import plotly.subplots as sp\n",
    "import kaleido"
   ]
  },
  {
   "cell_type": "code",
   "execution_count": 2,
   "metadata": {},
   "outputs": [],
   "source": [
    "fetal_data = pd.read_csv(\"fetal_health.csv\")\n",
    "\n",
    "# fetal_data['fetal_health'] = fetal_data['fetal_health'].astype(str)"
   ]
  },
  {
   "cell_type": "code",
   "execution_count": 52,
   "metadata": {},
   "outputs": [
    {
     "data": {
      "text/html": [
       "<div>\n",
       "<style scoped>\n",
       "    .dataframe tbody tr th:only-of-type {\n",
       "        vertical-align: middle;\n",
       "    }\n",
       "\n",
       "    .dataframe tbody tr th {\n",
       "        vertical-align: top;\n",
       "    }\n",
       "\n",
       "    .dataframe thead th {\n",
       "        text-align: right;\n",
       "    }\n",
       "</style>\n",
       "<table border=\"1\" class=\"dataframe\">\n",
       "  <thead>\n",
       "    <tr style=\"text-align: right;\">\n",
       "      <th></th>\n",
       "      <th>baseline value</th>\n",
       "      <th>accelerations</th>\n",
       "      <th>fetal_movement</th>\n",
       "      <th>uterine_contractions</th>\n",
       "      <th>light_decelerations</th>\n",
       "      <th>severe_decelerations</th>\n",
       "      <th>prolongued_decelerations</th>\n",
       "      <th>abnormal_short_term_variability</th>\n",
       "      <th>mean_value_of_short_term_variability</th>\n",
       "      <th>percentage_of_time_with_abnormal_long_term_variability</th>\n",
       "      <th>...</th>\n",
       "      <th>histogram_min</th>\n",
       "      <th>histogram_max</th>\n",
       "      <th>histogram_number_of_peaks</th>\n",
       "      <th>histogram_number_of_zeroes</th>\n",
       "      <th>histogram_mode</th>\n",
       "      <th>histogram_mean</th>\n",
       "      <th>histogram_median</th>\n",
       "      <th>histogram_variance</th>\n",
       "      <th>histogram_tendency</th>\n",
       "      <th>fetal_health</th>\n",
       "    </tr>\n",
       "  </thead>\n",
       "  <tbody>\n",
       "    <tr>\n",
       "      <th>0</th>\n",
       "      <td>120.0</td>\n",
       "      <td>0.000</td>\n",
       "      <td>0.000</td>\n",
       "      <td>0.000</td>\n",
       "      <td>0.000</td>\n",
       "      <td>0.0</td>\n",
       "      <td>0.0</td>\n",
       "      <td>73.0</td>\n",
       "      <td>0.5</td>\n",
       "      <td>43.0</td>\n",
       "      <td>...</td>\n",
       "      <td>62.0</td>\n",
       "      <td>126.0</td>\n",
       "      <td>2.0</td>\n",
       "      <td>0.0</td>\n",
       "      <td>120.0</td>\n",
       "      <td>137.0</td>\n",
       "      <td>121.0</td>\n",
       "      <td>73.0</td>\n",
       "      <td>1.0</td>\n",
       "      <td>2.0</td>\n",
       "    </tr>\n",
       "    <tr>\n",
       "      <th>1</th>\n",
       "      <td>132.0</td>\n",
       "      <td>0.006</td>\n",
       "      <td>0.000</td>\n",
       "      <td>0.006</td>\n",
       "      <td>0.003</td>\n",
       "      <td>0.0</td>\n",
       "      <td>0.0</td>\n",
       "      <td>17.0</td>\n",
       "      <td>2.1</td>\n",
       "      <td>0.0</td>\n",
       "      <td>...</td>\n",
       "      <td>68.0</td>\n",
       "      <td>198.0</td>\n",
       "      <td>6.0</td>\n",
       "      <td>1.0</td>\n",
       "      <td>141.0</td>\n",
       "      <td>136.0</td>\n",
       "      <td>140.0</td>\n",
       "      <td>12.0</td>\n",
       "      <td>0.0</td>\n",
       "      <td>1.0</td>\n",
       "    </tr>\n",
       "    <tr>\n",
       "      <th>2</th>\n",
       "      <td>133.0</td>\n",
       "      <td>0.003</td>\n",
       "      <td>0.000</td>\n",
       "      <td>0.008</td>\n",
       "      <td>0.003</td>\n",
       "      <td>0.0</td>\n",
       "      <td>0.0</td>\n",
       "      <td>16.0</td>\n",
       "      <td>2.1</td>\n",
       "      <td>0.0</td>\n",
       "      <td>...</td>\n",
       "      <td>68.0</td>\n",
       "      <td>198.0</td>\n",
       "      <td>5.0</td>\n",
       "      <td>1.0</td>\n",
       "      <td>141.0</td>\n",
       "      <td>135.0</td>\n",
       "      <td>138.0</td>\n",
       "      <td>13.0</td>\n",
       "      <td>0.0</td>\n",
       "      <td>1.0</td>\n",
       "    </tr>\n",
       "    <tr>\n",
       "      <th>3</th>\n",
       "      <td>134.0</td>\n",
       "      <td>0.003</td>\n",
       "      <td>0.000</td>\n",
       "      <td>0.008</td>\n",
       "      <td>0.003</td>\n",
       "      <td>0.0</td>\n",
       "      <td>0.0</td>\n",
       "      <td>16.0</td>\n",
       "      <td>2.4</td>\n",
       "      <td>0.0</td>\n",
       "      <td>...</td>\n",
       "      <td>53.0</td>\n",
       "      <td>170.0</td>\n",
       "      <td>11.0</td>\n",
       "      <td>0.0</td>\n",
       "      <td>137.0</td>\n",
       "      <td>134.0</td>\n",
       "      <td>137.0</td>\n",
       "      <td>13.0</td>\n",
       "      <td>1.0</td>\n",
       "      <td>1.0</td>\n",
       "    </tr>\n",
       "    <tr>\n",
       "      <th>4</th>\n",
       "      <td>132.0</td>\n",
       "      <td>0.007</td>\n",
       "      <td>0.000</td>\n",
       "      <td>0.008</td>\n",
       "      <td>0.000</td>\n",
       "      <td>0.0</td>\n",
       "      <td>0.0</td>\n",
       "      <td>16.0</td>\n",
       "      <td>2.4</td>\n",
       "      <td>0.0</td>\n",
       "      <td>...</td>\n",
       "      <td>53.0</td>\n",
       "      <td>170.0</td>\n",
       "      <td>9.0</td>\n",
       "      <td>0.0</td>\n",
       "      <td>137.0</td>\n",
       "      <td>136.0</td>\n",
       "      <td>138.0</td>\n",
       "      <td>11.0</td>\n",
       "      <td>1.0</td>\n",
       "      <td>1.0</td>\n",
       "    </tr>\n",
       "    <tr>\n",
       "      <th>...</th>\n",
       "      <td>...</td>\n",
       "      <td>...</td>\n",
       "      <td>...</td>\n",
       "      <td>...</td>\n",
       "      <td>...</td>\n",
       "      <td>...</td>\n",
       "      <td>...</td>\n",
       "      <td>...</td>\n",
       "      <td>...</td>\n",
       "      <td>...</td>\n",
       "      <td>...</td>\n",
       "      <td>...</td>\n",
       "      <td>...</td>\n",
       "      <td>...</td>\n",
       "      <td>...</td>\n",
       "      <td>...</td>\n",
       "      <td>...</td>\n",
       "      <td>...</td>\n",
       "      <td>...</td>\n",
       "      <td>...</td>\n",
       "      <td>...</td>\n",
       "    </tr>\n",
       "    <tr>\n",
       "      <th>2121</th>\n",
       "      <td>140.0</td>\n",
       "      <td>0.000</td>\n",
       "      <td>0.000</td>\n",
       "      <td>0.007</td>\n",
       "      <td>0.000</td>\n",
       "      <td>0.0</td>\n",
       "      <td>0.0</td>\n",
       "      <td>79.0</td>\n",
       "      <td>0.2</td>\n",
       "      <td>25.0</td>\n",
       "      <td>...</td>\n",
       "      <td>137.0</td>\n",
       "      <td>177.0</td>\n",
       "      <td>4.0</td>\n",
       "      <td>0.0</td>\n",
       "      <td>153.0</td>\n",
       "      <td>150.0</td>\n",
       "      <td>152.0</td>\n",
       "      <td>2.0</td>\n",
       "      <td>0.0</td>\n",
       "      <td>2.0</td>\n",
       "    </tr>\n",
       "    <tr>\n",
       "      <th>2122</th>\n",
       "      <td>140.0</td>\n",
       "      <td>0.001</td>\n",
       "      <td>0.000</td>\n",
       "      <td>0.007</td>\n",
       "      <td>0.000</td>\n",
       "      <td>0.0</td>\n",
       "      <td>0.0</td>\n",
       "      <td>78.0</td>\n",
       "      <td>0.4</td>\n",
       "      <td>22.0</td>\n",
       "      <td>...</td>\n",
       "      <td>103.0</td>\n",
       "      <td>169.0</td>\n",
       "      <td>6.0</td>\n",
       "      <td>0.0</td>\n",
       "      <td>152.0</td>\n",
       "      <td>148.0</td>\n",
       "      <td>151.0</td>\n",
       "      <td>3.0</td>\n",
       "      <td>1.0</td>\n",
       "      <td>2.0</td>\n",
       "    </tr>\n",
       "    <tr>\n",
       "      <th>2123</th>\n",
       "      <td>140.0</td>\n",
       "      <td>0.001</td>\n",
       "      <td>0.000</td>\n",
       "      <td>0.007</td>\n",
       "      <td>0.000</td>\n",
       "      <td>0.0</td>\n",
       "      <td>0.0</td>\n",
       "      <td>79.0</td>\n",
       "      <td>0.4</td>\n",
       "      <td>20.0</td>\n",
       "      <td>...</td>\n",
       "      <td>103.0</td>\n",
       "      <td>170.0</td>\n",
       "      <td>5.0</td>\n",
       "      <td>0.0</td>\n",
       "      <td>153.0</td>\n",
       "      <td>148.0</td>\n",
       "      <td>152.0</td>\n",
       "      <td>4.0</td>\n",
       "      <td>1.0</td>\n",
       "      <td>2.0</td>\n",
       "    </tr>\n",
       "    <tr>\n",
       "      <th>2124</th>\n",
       "      <td>140.0</td>\n",
       "      <td>0.001</td>\n",
       "      <td>0.000</td>\n",
       "      <td>0.006</td>\n",
       "      <td>0.000</td>\n",
       "      <td>0.0</td>\n",
       "      <td>0.0</td>\n",
       "      <td>78.0</td>\n",
       "      <td>0.4</td>\n",
       "      <td>27.0</td>\n",
       "      <td>...</td>\n",
       "      <td>103.0</td>\n",
       "      <td>169.0</td>\n",
       "      <td>6.0</td>\n",
       "      <td>0.0</td>\n",
       "      <td>152.0</td>\n",
       "      <td>147.0</td>\n",
       "      <td>151.0</td>\n",
       "      <td>4.0</td>\n",
       "      <td>1.0</td>\n",
       "      <td>2.0</td>\n",
       "    </tr>\n",
       "    <tr>\n",
       "      <th>2125</th>\n",
       "      <td>142.0</td>\n",
       "      <td>0.002</td>\n",
       "      <td>0.002</td>\n",
       "      <td>0.008</td>\n",
       "      <td>0.000</td>\n",
       "      <td>0.0</td>\n",
       "      <td>0.0</td>\n",
       "      <td>74.0</td>\n",
       "      <td>0.4</td>\n",
       "      <td>36.0</td>\n",
       "      <td>...</td>\n",
       "      <td>117.0</td>\n",
       "      <td>159.0</td>\n",
       "      <td>2.0</td>\n",
       "      <td>1.0</td>\n",
       "      <td>145.0</td>\n",
       "      <td>143.0</td>\n",
       "      <td>145.0</td>\n",
       "      <td>1.0</td>\n",
       "      <td>0.0</td>\n",
       "      <td>1.0</td>\n",
       "    </tr>\n",
       "  </tbody>\n",
       "</table>\n",
       "<p>2126 rows × 22 columns</p>\n",
       "</div>"
      ],
      "text/plain": [
       "      baseline value  accelerations  fetal_movement  uterine_contractions  \\\n",
       "0              120.0          0.000           0.000                 0.000   \n",
       "1              132.0          0.006           0.000                 0.006   \n",
       "2              133.0          0.003           0.000                 0.008   \n",
       "3              134.0          0.003           0.000                 0.008   \n",
       "4              132.0          0.007           0.000                 0.008   \n",
       "...              ...            ...             ...                   ...   \n",
       "2121           140.0          0.000           0.000                 0.007   \n",
       "2122           140.0          0.001           0.000                 0.007   \n",
       "2123           140.0          0.001           0.000                 0.007   \n",
       "2124           140.0          0.001           0.000                 0.006   \n",
       "2125           142.0          0.002           0.002                 0.008   \n",
       "\n",
       "      light_decelerations  severe_decelerations  prolongued_decelerations  \\\n",
       "0                   0.000                   0.0                       0.0   \n",
       "1                   0.003                   0.0                       0.0   \n",
       "2                   0.003                   0.0                       0.0   \n",
       "3                   0.003                   0.0                       0.0   \n",
       "4                   0.000                   0.0                       0.0   \n",
       "...                   ...                   ...                       ...   \n",
       "2121                0.000                   0.0                       0.0   \n",
       "2122                0.000                   0.0                       0.0   \n",
       "2123                0.000                   0.0                       0.0   \n",
       "2124                0.000                   0.0                       0.0   \n",
       "2125                0.000                   0.0                       0.0   \n",
       "\n",
       "      abnormal_short_term_variability  mean_value_of_short_term_variability  \\\n",
       "0                                73.0                                   0.5   \n",
       "1                                17.0                                   2.1   \n",
       "2                                16.0                                   2.1   \n",
       "3                                16.0                                   2.4   \n",
       "4                                16.0                                   2.4   \n",
       "...                               ...                                   ...   \n",
       "2121                             79.0                                   0.2   \n",
       "2122                             78.0                                   0.4   \n",
       "2123                             79.0                                   0.4   \n",
       "2124                             78.0                                   0.4   \n",
       "2125                             74.0                                   0.4   \n",
       "\n",
       "      percentage_of_time_with_abnormal_long_term_variability  ...  \\\n",
       "0                                                  43.0       ...   \n",
       "1                                                   0.0       ...   \n",
       "2                                                   0.0       ...   \n",
       "3                                                   0.0       ...   \n",
       "4                                                   0.0       ...   \n",
       "...                                                 ...       ...   \n",
       "2121                                               25.0       ...   \n",
       "2122                                               22.0       ...   \n",
       "2123                                               20.0       ...   \n",
       "2124                                               27.0       ...   \n",
       "2125                                               36.0       ...   \n",
       "\n",
       "      histogram_min  histogram_max  histogram_number_of_peaks  \\\n",
       "0              62.0          126.0                        2.0   \n",
       "1              68.0          198.0                        6.0   \n",
       "2              68.0          198.0                        5.0   \n",
       "3              53.0          170.0                       11.0   \n",
       "4              53.0          170.0                        9.0   \n",
       "...             ...            ...                        ...   \n",
       "2121          137.0          177.0                        4.0   \n",
       "2122          103.0          169.0                        6.0   \n",
       "2123          103.0          170.0                        5.0   \n",
       "2124          103.0          169.0                        6.0   \n",
       "2125          117.0          159.0                        2.0   \n",
       "\n",
       "      histogram_number_of_zeroes  histogram_mode  histogram_mean  \\\n",
       "0                            0.0           120.0           137.0   \n",
       "1                            1.0           141.0           136.0   \n",
       "2                            1.0           141.0           135.0   \n",
       "3                            0.0           137.0           134.0   \n",
       "4                            0.0           137.0           136.0   \n",
       "...                          ...             ...             ...   \n",
       "2121                         0.0           153.0           150.0   \n",
       "2122                         0.0           152.0           148.0   \n",
       "2123                         0.0           153.0           148.0   \n",
       "2124                         0.0           152.0           147.0   \n",
       "2125                         1.0           145.0           143.0   \n",
       "\n",
       "      histogram_median  histogram_variance  histogram_tendency  fetal_health  \n",
       "0                121.0                73.0                 1.0           2.0  \n",
       "1                140.0                12.0                 0.0           1.0  \n",
       "2                138.0                13.0                 0.0           1.0  \n",
       "3                137.0                13.0                 1.0           1.0  \n",
       "4                138.0                11.0                 1.0           1.0  \n",
       "...                ...                 ...                 ...           ...  \n",
       "2121             152.0                 2.0                 0.0           2.0  \n",
       "2122             151.0                 3.0                 1.0           2.0  \n",
       "2123             152.0                 4.0                 1.0           2.0  \n",
       "2124             151.0                 4.0                 1.0           2.0  \n",
       "2125             145.0                 1.0                 0.0           1.0  \n",
       "\n",
       "[2126 rows x 22 columns]"
      ]
     },
     "execution_count": 52,
     "metadata": {},
     "output_type": "execute_result"
    }
   ],
   "source": [
    "fetal_data"
   ]
  },
  {
   "cell_type": "markdown",
   "metadata": {},
   "source": [
    "## GCKM Testing Code"
   ]
  },
  {
   "cell_type": "code",
   "execution_count": 54,
   "metadata": {},
   "outputs": [
    {
     "name": "stderr",
     "output_type": "stream",
     "text": [
      "0it [00:00, ?it/s]\n",
      "100%|██████████| 2126/2126 [00:08<00:00, 248.93it/s]\n"
     ]
    },
    {
     "data": {
      "text/html": [
       "<div>\n",
       "<style scoped>\n",
       "    .dataframe tbody tr th:only-of-type {\n",
       "        vertical-align: middle;\n",
       "    }\n",
       "\n",
       "    .dataframe tbody tr th {\n",
       "        vertical-align: top;\n",
       "    }\n",
       "\n",
       "    .dataframe thead th {\n",
       "        text-align: right;\n",
       "    }\n",
       "</style>\n",
       "<table border=\"1\" class=\"dataframe\">\n",
       "  <thead>\n",
       "    <tr style=\"text-align: right;\">\n",
       "      <th></th>\n",
       "      <th>uterine_contractions</th>\n",
       "      <th>baseline value</th>\n",
       "      <th>histogram_number_of_peaks</th>\n",
       "      <th>accelerations</th>\n",
       "      <th>abnormal_short_term_variability</th>\n",
       "      <th>histogram_tendency</th>\n",
       "      <th>mean_value_of_long_term_variability</th>\n",
       "      <th>mean_value_of_short_term_variability</th>\n",
       "      <th>histogram_mean</th>\n",
       "      <th>histogram_mode</th>\n",
       "      <th>...</th>\n",
       "      <th>histogram_max</th>\n",
       "      <th>severe_decelerations</th>\n",
       "      <th>histogram_min</th>\n",
       "      <th>histogram_width</th>\n",
       "      <th>fetal_movement</th>\n",
       "      <th>histogram_median</th>\n",
       "      <th>prolongued_decelerations</th>\n",
       "      <th>fetal_health</th>\n",
       "      <th>histogram_number_of_zeroes</th>\n",
       "      <th>light_decelerations</th>\n",
       "    </tr>\n",
       "  </thead>\n",
       "  <tbody>\n",
       "    <tr>\n",
       "      <th>0</th>\n",
       "      <td>0.010031</td>\n",
       "      <td>142.469909</td>\n",
       "      <td>7.192617</td>\n",
       "      <td>1.900000e-02</td>\n",
       "      <td>54.536434</td>\n",
       "      <td>-0.986695</td>\n",
       "      <td>0.159521</td>\n",
       "      <td>2.289682</td>\n",
       "      <td>141.310166</td>\n",
       "      <td>136.604330</td>\n",
       "      <td>...</td>\n",
       "      <td>198.434538</td>\n",
       "      <td>0.000047</td>\n",
       "      <td>91.599704</td>\n",
       "      <td>110.538826</td>\n",
       "      <td>0.258784</td>\n",
       "      <td>151.908160</td>\n",
       "      <td>0.000031</td>\n",
       "      <td>1.171563</td>\n",
       "      <td>6.699661e-01</td>\n",
       "      <td>7.210895e-04</td>\n",
       "    </tr>\n",
       "    <tr>\n",
       "      <th>1</th>\n",
       "      <td>0.002942</td>\n",
       "      <td>133.500010</td>\n",
       "      <td>4.304201</td>\n",
       "      <td>3.244875e-03</td>\n",
       "      <td>48.507313</td>\n",
       "      <td>0.960413</td>\n",
       "      <td>2.021356</td>\n",
       "      <td>2.945920</td>\n",
       "      <td>108.253546</td>\n",
       "      <td>127.906849</td>\n",
       "      <td>...</td>\n",
       "      <td>171.602039</td>\n",
       "      <td>0.000031</td>\n",
       "      <td>50.000000</td>\n",
       "      <td>125.813901</td>\n",
       "      <td>0.187278</td>\n",
       "      <td>128.207669</td>\n",
       "      <td>0.001857</td>\n",
       "      <td>1.159541</td>\n",
       "      <td>6.511569e-02</td>\n",
       "      <td>1.499528e-02</td>\n",
       "    </tr>\n",
       "    <tr>\n",
       "      <th>2</th>\n",
       "      <td>0.000238</td>\n",
       "      <td>135.397437</td>\n",
       "      <td>3.483323</td>\n",
       "      <td>2.954911e-08</td>\n",
       "      <td>74.602730</td>\n",
       "      <td>-1.000000</td>\n",
       "      <td>1.642774</td>\n",
       "      <td>0.200000</td>\n",
       "      <td>138.828050</td>\n",
       "      <td>136.431667</td>\n",
       "      <td>...</td>\n",
       "      <td>156.071788</td>\n",
       "      <td>0.000031</td>\n",
       "      <td>159.000000</td>\n",
       "      <td>10.760393</td>\n",
       "      <td>0.130557</td>\n",
       "      <td>141.490651</td>\n",
       "      <td>0.001842</td>\n",
       "      <td>2.999757</td>\n",
       "      <td>7.605028e-15</td>\n",
       "      <td>4.573382e-12</td>\n",
       "    </tr>\n",
       "    <tr>\n",
       "      <th>3</th>\n",
       "      <td>0.015000</td>\n",
       "      <td>129.129158</td>\n",
       "      <td>5.573230</td>\n",
       "      <td>3.941443e-03</td>\n",
       "      <td>35.841972</td>\n",
       "      <td>0.893036</td>\n",
       "      <td>15.207362</td>\n",
       "      <td>2.645879</td>\n",
       "      <td>117.390757</td>\n",
       "      <td>129.813887</td>\n",
       "      <td>...</td>\n",
       "      <td>172.797572</td>\n",
       "      <td>0.000064</td>\n",
       "      <td>59.181733</td>\n",
       "      <td>126.402428</td>\n",
       "      <td>0.000050</td>\n",
       "      <td>129.757480</td>\n",
       "      <td>0.000020</td>\n",
       "      <td>1.000000</td>\n",
       "      <td>2.515675e+00</td>\n",
       "      <td>1.500000e-02</td>\n",
       "    </tr>\n",
       "    <tr>\n",
       "      <th>4</th>\n",
       "      <td>0.014990</td>\n",
       "      <td>135.738103</td>\n",
       "      <td>0.000075</td>\n",
       "      <td>9.802170e-03</td>\n",
       "      <td>69.495037</td>\n",
       "      <td>-0.886565</td>\n",
       "      <td>8.940964</td>\n",
       "      <td>1.157069</td>\n",
       "      <td>136.991067</td>\n",
       "      <td>134.234557</td>\n",
       "      <td>...</td>\n",
       "      <td>167.621413</td>\n",
       "      <td>0.000056</td>\n",
       "      <td>120.698057</td>\n",
       "      <td>46.521150</td>\n",
       "      <td>0.000984</td>\n",
       "      <td>138.729772</td>\n",
       "      <td>0.000712</td>\n",
       "      <td>1.938124</td>\n",
       "      <td>1.924827e+00</td>\n",
       "      <td>4.438188e-05</td>\n",
       "    </tr>\n",
       "    <tr>\n",
       "      <th>...</th>\n",
       "      <td>...</td>\n",
       "      <td>...</td>\n",
       "      <td>...</td>\n",
       "      <td>...</td>\n",
       "      <td>...</td>\n",
       "      <td>...</td>\n",
       "      <td>...</td>\n",
       "      <td>...</td>\n",
       "      <td>...</td>\n",
       "      <td>...</td>\n",
       "      <td>...</td>\n",
       "      <td>...</td>\n",
       "      <td>...</td>\n",
       "      <td>...</td>\n",
       "      <td>...</td>\n",
       "      <td>...</td>\n",
       "      <td>...</td>\n",
       "      <td>...</td>\n",
       "      <td>...</td>\n",
       "      <td>...</td>\n",
       "      <td>...</td>\n",
       "    </tr>\n",
       "    <tr>\n",
       "      <th>2121</th>\n",
       "      <td>0.002604</td>\n",
       "      <td>137.001172</td>\n",
       "      <td>1.403529</td>\n",
       "      <td>1.643585e-02</td>\n",
       "      <td>36.589401</td>\n",
       "      <td>-0.591560</td>\n",
       "      <td>3.926319</td>\n",
       "      <td>2.084459</td>\n",
       "      <td>158.712944</td>\n",
       "      <td>175.045576</td>\n",
       "      <td>...</td>\n",
       "      <td>177.379683</td>\n",
       "      <td>0.000045</td>\n",
       "      <td>123.108923</td>\n",
       "      <td>48.426070</td>\n",
       "      <td>0.095971</td>\n",
       "      <td>166.694425</td>\n",
       "      <td>0.000014</td>\n",
       "      <td>1.000026</td>\n",
       "      <td>1.490657e+00</td>\n",
       "      <td>4.221049e-08</td>\n",
       "    </tr>\n",
       "    <tr>\n",
       "      <th>2122</th>\n",
       "      <td>0.000821</td>\n",
       "      <td>126.989052</td>\n",
       "      <td>7.253456</td>\n",
       "      <td>3.106944e-05</td>\n",
       "      <td>44.297361</td>\n",
       "      <td>0.999997</td>\n",
       "      <td>5.435156</td>\n",
       "      <td>0.458312</td>\n",
       "      <td>113.841515</td>\n",
       "      <td>119.062886</td>\n",
       "      <td>...</td>\n",
       "      <td>146.044470</td>\n",
       "      <td>0.000012</td>\n",
       "      <td>84.645883</td>\n",
       "      <td>65.788960</td>\n",
       "      <td>0.088981</td>\n",
       "      <td>123.666627</td>\n",
       "      <td>0.000463</td>\n",
       "      <td>2.999616</td>\n",
       "      <td>3.361371e-01</td>\n",
       "      <td>2.312202e-04</td>\n",
       "    </tr>\n",
       "    <tr>\n",
       "      <th>2123</th>\n",
       "      <td>0.006560</td>\n",
       "      <td>127.844138</td>\n",
       "      <td>5.255325</td>\n",
       "      <td>5.317328e-09</td>\n",
       "      <td>57.951138</td>\n",
       "      <td>-1.000000</td>\n",
       "      <td>0.576504</td>\n",
       "      <td>1.612323</td>\n",
       "      <td>109.988187</td>\n",
       "      <td>107.381039</td>\n",
       "      <td>...</td>\n",
       "      <td>164.437723</td>\n",
       "      <td>0.000060</td>\n",
       "      <td>72.560745</td>\n",
       "      <td>89.820176</td>\n",
       "      <td>0.080402</td>\n",
       "      <td>112.619609</td>\n",
       "      <td>0.002956</td>\n",
       "      <td>3.000000</td>\n",
       "      <td>2.451623e+00</td>\n",
       "      <td>1.496226e-02</td>\n",
       "    </tr>\n",
       "    <tr>\n",
       "      <th>2124</th>\n",
       "      <td>0.012137</td>\n",
       "      <td>137.354077</td>\n",
       "      <td>0.343980</td>\n",
       "      <td>2.587984e-09</td>\n",
       "      <td>30.422473</td>\n",
       "      <td>-0.598558</td>\n",
       "      <td>13.517144</td>\n",
       "      <td>0.988098</td>\n",
       "      <td>125.661570</td>\n",
       "      <td>131.828965</td>\n",
       "      <td>...</td>\n",
       "      <td>150.535403</td>\n",
       "      <td>0.000095</td>\n",
       "      <td>105.246820</td>\n",
       "      <td>42.243970</td>\n",
       "      <td>0.003507</td>\n",
       "      <td>124.887276</td>\n",
       "      <td>0.001500</td>\n",
       "      <td>1.600156</td>\n",
       "      <td>5.352768e-02</td>\n",
       "      <td>9.633667e-03</td>\n",
       "    </tr>\n",
       "    <tr>\n",
       "      <th>2125</th>\n",
       "      <td>0.009880</td>\n",
       "      <td>126.855934</td>\n",
       "      <td>3.154844</td>\n",
       "      <td>8.726145e-03</td>\n",
       "      <td>27.888419</td>\n",
       "      <td>-1.000000</td>\n",
       "      <td>0.442917</td>\n",
       "      <td>1.620901</td>\n",
       "      <td>118.667788</td>\n",
       "      <td>110.377388</td>\n",
       "      <td>...</td>\n",
       "      <td>180.660697</td>\n",
       "      <td>0.000028</td>\n",
       "      <td>111.507589</td>\n",
       "      <td>74.371309</td>\n",
       "      <td>0.029752</td>\n",
       "      <td>118.949391</td>\n",
       "      <td>0.003673</td>\n",
       "      <td>2.558805</td>\n",
       "      <td>4.935683e-01</td>\n",
       "      <td>3.240889e-03</td>\n",
       "    </tr>\n",
       "  </tbody>\n",
       "</table>\n",
       "<p>2126 rows × 22 columns</p>\n",
       "</div>"
      ],
      "text/plain": [
       "      uterine_contractions  baseline value  histogram_number_of_peaks  \\\n",
       "0                 0.010031      142.469909                   7.192617   \n",
       "1                 0.002942      133.500010                   4.304201   \n",
       "2                 0.000238      135.397437                   3.483323   \n",
       "3                 0.015000      129.129158                   5.573230   \n",
       "4                 0.014990      135.738103                   0.000075   \n",
       "...                    ...             ...                        ...   \n",
       "2121              0.002604      137.001172                   1.403529   \n",
       "2122              0.000821      126.989052                   7.253456   \n",
       "2123              0.006560      127.844138                   5.255325   \n",
       "2124              0.012137      137.354077                   0.343980   \n",
       "2125              0.009880      126.855934                   3.154844   \n",
       "\n",
       "      accelerations  abnormal_short_term_variability  histogram_tendency  \\\n",
       "0      1.900000e-02                        54.536434           -0.986695   \n",
       "1      3.244875e-03                        48.507313            0.960413   \n",
       "2      2.954911e-08                        74.602730           -1.000000   \n",
       "3      3.941443e-03                        35.841972            0.893036   \n",
       "4      9.802170e-03                        69.495037           -0.886565   \n",
       "...             ...                              ...                 ...   \n",
       "2121   1.643585e-02                        36.589401           -0.591560   \n",
       "2122   3.106944e-05                        44.297361            0.999997   \n",
       "2123   5.317328e-09                        57.951138           -1.000000   \n",
       "2124   2.587984e-09                        30.422473           -0.598558   \n",
       "2125   8.726145e-03                        27.888419           -1.000000   \n",
       "\n",
       "      mean_value_of_long_term_variability  \\\n",
       "0                                0.159521   \n",
       "1                                2.021356   \n",
       "2                                1.642774   \n",
       "3                               15.207362   \n",
       "4                                8.940964   \n",
       "...                                   ...   \n",
       "2121                             3.926319   \n",
       "2122                             5.435156   \n",
       "2123                             0.576504   \n",
       "2124                            13.517144   \n",
       "2125                             0.442917   \n",
       "\n",
       "      mean_value_of_short_term_variability  histogram_mean  histogram_mode  \\\n",
       "0                                 2.289682      141.310166      136.604330   \n",
       "1                                 2.945920      108.253546      127.906849   \n",
       "2                                 0.200000      138.828050      136.431667   \n",
       "3                                 2.645879      117.390757      129.813887   \n",
       "4                                 1.157069      136.991067      134.234557   \n",
       "...                                    ...             ...             ...   \n",
       "2121                              2.084459      158.712944      175.045576   \n",
       "2122                              0.458312      113.841515      119.062886   \n",
       "2123                              1.612323      109.988187      107.381039   \n",
       "2124                              0.988098      125.661570      131.828965   \n",
       "2125                              1.620901      118.667788      110.377388   \n",
       "\n",
       "      ...  histogram_max  severe_decelerations  histogram_min  \\\n",
       "0     ...     198.434538              0.000047      91.599704   \n",
       "1     ...     171.602039              0.000031      50.000000   \n",
       "2     ...     156.071788              0.000031     159.000000   \n",
       "3     ...     172.797572              0.000064      59.181733   \n",
       "4     ...     167.621413              0.000056     120.698057   \n",
       "...   ...            ...                   ...            ...   \n",
       "2121  ...     177.379683              0.000045     123.108923   \n",
       "2122  ...     146.044470              0.000012      84.645883   \n",
       "2123  ...     164.437723              0.000060      72.560745   \n",
       "2124  ...     150.535403              0.000095     105.246820   \n",
       "2125  ...     180.660697              0.000028     111.507589   \n",
       "\n",
       "      histogram_width  fetal_movement  histogram_median  \\\n",
       "0          110.538826        0.258784        151.908160   \n",
       "1          125.813901        0.187278        128.207669   \n",
       "2           10.760393        0.130557        141.490651   \n",
       "3          126.402428        0.000050        129.757480   \n",
       "4           46.521150        0.000984        138.729772   \n",
       "...               ...             ...               ...   \n",
       "2121        48.426070        0.095971        166.694425   \n",
       "2122        65.788960        0.088981        123.666627   \n",
       "2123        89.820176        0.080402        112.619609   \n",
       "2124        42.243970        0.003507        124.887276   \n",
       "2125        74.371309        0.029752        118.949391   \n",
       "\n",
       "      prolongued_decelerations  fetal_health  histogram_number_of_zeroes  \\\n",
       "0                     0.000031      1.171563                6.699661e-01   \n",
       "1                     0.001857      1.159541                6.511569e-02   \n",
       "2                     0.001842      2.999757                7.605028e-15   \n",
       "3                     0.000020      1.000000                2.515675e+00   \n",
       "4                     0.000712      1.938124                1.924827e+00   \n",
       "...                        ...           ...                         ...   \n",
       "2121                  0.000014      1.000026                1.490657e+00   \n",
       "2122                  0.000463      2.999616                3.361371e-01   \n",
       "2123                  0.002956      3.000000                2.451623e+00   \n",
       "2124                  0.001500      1.600156                5.352768e-02   \n",
       "2125                  0.003673      2.558805                4.935683e-01   \n",
       "\n",
       "      light_decelerations  \n",
       "0            7.210895e-04  \n",
       "1            1.499528e-02  \n",
       "2            4.573382e-12  \n",
       "3            1.500000e-02  \n",
       "4            4.438188e-05  \n",
       "...                   ...  \n",
       "2121         4.221049e-08  \n",
       "2122         2.312202e-04  \n",
       "2123         1.496226e-02  \n",
       "2124         9.633667e-03  \n",
       "2125         3.240889e-03  \n",
       "\n",
       "[2126 rows x 22 columns]"
      ]
     },
     "execution_count": 54,
     "metadata": {},
     "output_type": "execute_result"
    }
   ],
   "source": [
    "import GCKM as G\n",
    "G = G.GaussianCopulaKmeansSynthesizer(fetal_data)\n",
    "G._identify_columns()\n",
    "G.convert_datetime_to_numerical()\n",
    "G.handle_missing_values()\n",
    "G.assign_intervals()\n",
    "G.preprocess_data()\n",
    "G.get_distribution()\n",
    "G.calculate_cdfs()\n",
    "G.standard_gaussian_all()\n",
    "G.optimal_clusters_dynamic()\n",
    "G.get_Kmeans()\n",
    "G.generate_data()\n",
    "G.generate_synthetic_data(2126)\n",
    "G.post_process()"
   ]
  },
  {
   "cell_type": "code",
   "execution_count": 74,
   "metadata": {},
   "outputs": [],
   "source": [
    "syn = G.synthetic_data"
   ]
  },
  {
   "cell_type": "code",
   "execution_count": 75,
   "metadata": {},
   "outputs": [],
   "source": [
    "syn['fetal_health'] = np.round(syn['fetal_health'])"
   ]
  },
  {
   "cell_type": "code",
   "execution_count": 76,
   "metadata": {},
   "outputs": [],
   "source": [
    "syn.to_csv('fetal_heal_gckm_full_size.csv')"
   ]
  },
  {
   "cell_type": "code",
   "execution_count": 77,
   "metadata": {},
   "outputs": [],
   "source": [
    "cor1 = syn.corr()"
   ]
  },
  {
   "cell_type": "code",
   "execution_count": 78,
   "metadata": {},
   "outputs": [],
   "source": [
    "cor2 = fetal_data.corr()"
   ]
  },
  {
   "cell_type": "code",
   "execution_count": 79,
   "metadata": {},
   "outputs": [
    {
     "data": {
      "text/plain": [
       "uterine_contractions                                     -0.187415\n",
       "baseline value                                            0.147156\n",
       "histogram_number_of_peaks                                -0.020933\n",
       "accelerations                                            -0.313997\n",
       "abnormal_short_term_variability                           0.410508\n",
       "histogram_tendency                                       -0.021195\n",
       "mean_value_of_long_term_variability                      -0.251105\n",
       "mean_value_of_short_term_variability                     -0.067407\n",
       "histogram_mean                                           -0.173405\n",
       "histogram_mode                                           -0.165727\n",
       "percentage_of_time_with_abnormal_long_term_variability    0.247118\n",
       "histogram_variance                                       -0.100315\n",
       "histogram_max                                            -0.041776\n",
       "severe_decelerations                                      0.082858\n",
       "histogram_min                                             0.043734\n",
       "histogram_width                                          -0.092258\n",
       "fetal_movement                                            0.092618\n",
       "histogram_median                                         -0.142411\n",
       "prolongued_decelerations                                  0.358370\n",
       "fetal_health                                              1.000000\n",
       "histogram_number_of_zeroes                                0.008307\n",
       "light_decelerations                                       0.006530\n",
       "Name: fetal_health, dtype: float64"
      ]
     },
     "execution_count": 79,
     "metadata": {},
     "output_type": "execute_result"
    }
   ],
   "source": [
    "specific_correlation = cor1['fetal_health']\n",
    "specific_correlation"
   ]
  },
  {
   "cell_type": "code",
   "execution_count": 80,
   "metadata": {},
   "outputs": [
    {
     "data": {
      "text/plain": [
       "baseline value                                            0.148151\n",
       "accelerations                                            -0.364066\n",
       "fetal_movement                                            0.088010\n",
       "uterine_contractions                                     -0.204894\n",
       "light_decelerations                                       0.058870\n",
       "severe_decelerations                                      0.131934\n",
       "prolongued_decelerations                                  0.484859\n",
       "abnormal_short_term_variability                           0.471191\n",
       "mean_value_of_short_term_variability                     -0.103382\n",
       "percentage_of_time_with_abnormal_long_term_variability    0.426146\n",
       "mean_value_of_long_term_variability                      -0.226797\n",
       "histogram_width                                          -0.068789\n",
       "histogram_min                                             0.063175\n",
       "histogram_max                                            -0.045265\n",
       "histogram_number_of_peaks                                -0.023666\n",
       "histogram_number_of_zeroes                               -0.016682\n",
       "histogram_mode                                           -0.250412\n",
       "histogram_mean                                           -0.226985\n",
       "histogram_median                                         -0.205033\n",
       "histogram_variance                                        0.206630\n",
       "histogram_tendency                                       -0.131976\n",
       "fetal_health                                              1.000000\n",
       "Name: fetal_health, dtype: float64"
      ]
     },
     "execution_count": 80,
     "metadata": {},
     "output_type": "execute_result"
    }
   ],
   "source": [
    "specific_correlation2 = cor2['fetal_health']\n",
    "specific_correlation2"
   ]
  },
  {
   "cell_type": "code",
   "execution_count": 3,
   "metadata": {},
   "outputs": [],
   "source": [
    "from sklearn import preprocessing\n",
    "import matplotlib.pyplot as plt\n",
    "import seaborn as sns\n",
    "from sklearn.impute import KNNImputer\n",
    "from sklearn.preprocessing import MinMaxScaler\n",
    "from sklearn.naive_bayes import MultinomialNB\n",
    "from sklearn.linear_model import LogisticRegression\n",
    "from sklearn.tree import DecisionTreeClassifier\n",
    "from sklearn.ensemble import RandomForestClassifier\n",
    "from sklearn.neighbors import KNeighborsClassifier\n",
    "from sklearn.svm import SVC\n",
    "from sklearn.ensemble import GradientBoostingClassifier\n",
    "from sklearn.model_selection import train_test_split\n",
    "from sklearn.metrics import confusion_matrix, accuracy_score, precision_score, recall_score, f1_score\n",
    "from sklearn.model_selection import GridSearchCV, RandomizedSearchCV"
   ]
  },
  {
   "cell_type": "code",
   "execution_count": 148,
   "metadata": {},
   "outputs": [],
   "source": [
    "train_set = syn\n",
    "\n",
    "test_set = fetal_data\n",
    "\n",
    "train_set['fetal_health'] = train_set['fetal_health'].astype(int)"
   ]
  },
  {
   "cell_type": "code",
   "execution_count": 149,
   "metadata": {},
   "outputs": [],
   "source": [
    "train_set_features = train_set.drop(['fetal_health'], axis=1)\n",
    "train_set_target = train_set['fetal_health']\n",
    "\n",
    "# split df at 70-30 ratio\n",
    "X_train, X_test, y_train, y_test = train_test_split(train_set_features, train_set_target, test_size=0.3, random_state=1)"
   ]
  },
  {
   "cell_type": "code",
   "execution_count": 150,
   "metadata": {},
   "outputs": [],
   "source": [
    "scaler = MinMaxScaler()\n",
    "\n",
    "scaled_X_train = scaler.fit_transform(X_train)\n",
    "scaled_X_test = scaler.fit_transform(X_test)"
   ]
  },
  {
   "cell_type": "code",
   "execution_count": 151,
   "metadata": {},
   "outputs": [
    {
     "name": "stdout",
     "output_type": "stream",
     "text": [
      "Accuracy: 0.715\n",
      "Precision: 0.701\n",
      "Recall: 0.715\n",
      "F1-Score: 0.705\n"
     ]
    }
   ],
   "source": [
    "gb = GradientBoostingClassifier(random_state=1)\n",
    "\n",
    "\n",
    "gb.fit(scaled_X_train, y_train)\n",
    "\n",
    "y_pred_gbc = gb.predict(scaled_X_test)\n",
    "\n",
    "# Calculate evaluation metrics\n",
    "accuracy_gbc = accuracy_score(y_test, y_pred_gbc)\n",
    "precision_gbc = precision_score(y_test, y_pred_gbc, average='weighted')\n",
    "recall_gbc = recall_score(y_test, y_pred_gbc, average='weighted')\n",
    "f1_gbc = f1_score(y_test, y_pred_gbc, average='weighted')\n",
    "\n",
    "# Print results\n",
    "print(\"Accuracy:\", round(accuracy_gbc, 3))\n",
    "print(\"Precision:\", round(precision_gbc, 3))\n",
    "print(\"Recall:\", round(recall_gbc, 3))\n",
    "print(\"F1-Score:\", round(f1_gbc, 3))"
   ]
  },
  {
   "cell_type": "code",
   "execution_count": 152,
   "metadata": {},
   "outputs": [
    {
     "data": {
      "text/plain": [
       "['uterine_contractions',\n",
       " 'baseline value',\n",
       " 'histogram_number_of_peaks',\n",
       " 'accelerations',\n",
       " 'abnormal_short_term_variability',\n",
       " 'histogram_tendency',\n",
       " 'mean_value_of_long_term_variability',\n",
       " 'mean_value_of_short_term_variability',\n",
       " 'histogram_mean',\n",
       " 'histogram_mode',\n",
       " 'percentage_of_time_with_abnormal_long_term_variability',\n",
       " 'histogram_variance',\n",
       " 'histogram_max',\n",
       " 'severe_decelerations',\n",
       " 'histogram_min',\n",
       " 'histogram_width',\n",
       " 'fetal_movement',\n",
       " 'histogram_median',\n",
       " 'prolongued_decelerations',\n",
       " 'histogram_number_of_zeroes',\n",
       " 'light_decelerations']"
      ]
     },
     "execution_count": 152,
     "metadata": {},
     "output_type": "execute_result"
    }
   ],
   "source": [
    "columns = X_train.columns.tolist()\n",
    "columns"
   ]
  },
  {
   "cell_type": "code",
   "execution_count": 153,
   "metadata": {},
   "outputs": [
    {
     "name": "stdout",
     "output_type": "stream",
     "text": [
      "Accuracy: 0.784\n",
      "Precision: 0.758\n",
      "Recall: 0.784\n",
      "F1-Score: 0.757\n"
     ]
    }
   ],
   "source": [
    "fetal_data_copy = fetal_data.copy()\n",
    "target = fetal_data_copy[\"fetal_health\"]\n",
    "fetal_data_copy.drop([\"fetal_health\"], axis = 1, inplace= True)\n",
    "fetal_data_copy = fetal_data_copy[columns]\n",
    "\n",
    "fetal_data_copy_scaled = scaler.transform(fetal_data_copy)\n",
    "y_pred = gb.predict(fetal_data_copy_scaled)\n",
    "\n",
    "accuracy_gbc = accuracy_score(target, y_pred)\n",
    "precision_gbc = precision_score(target, y_pred, average='weighted')\n",
    "recall_gbc = recall_score(target, y_pred, average='weighted')\n",
    "f1_gbc = f1_score(target, y_pred, average='weighted')\n",
    "\n",
    "# Print results\n",
    "print(\"Accuracy:\", round(accuracy_gbc, 3))\n",
    "print(\"Precision:\", round(precision_gbc, 3))\n",
    "print(\"Recall:\", round(recall_gbc, 3))\n",
    "print(\"F1-Score:\", round(f1_gbc, 3))"
   ]
  },
  {
   "cell_type": "code",
   "execution_count": 86,
   "metadata": {},
   "outputs": [
    {
     "name": "stdout",
     "output_type": "stream",
     "text": [
      "Best Hyperparameters: {'n_estimators': 60, 'min_samples_split': 2, 'min_samples_leaf': 1, 'max_depth': 4, 'learning_rate': 0.1}\n",
      "Accuracy_CV: 0.723\n",
      "Precision_CV: 0.7\n",
      "Recall_CV: 0.723\n",
      "F1-Score_CV: 0.71\n"
     ]
    }
   ],
   "source": [
    "# Hyperparameter tuning using GridSearchCV\n",
    "\n",
    "# Define the parameter distribution to search\n",
    "param_dist = {\n",
    "    'n_estimators': np.arange(50, 151, 10),\n",
    "    'learning_rate': [0.01, 0.1, 0.2],\n",
    "    'max_depth': [3, 4, 5],\n",
    "    'min_samples_split': [2, 3, 4],\n",
    "    'min_samples_leaf': [1, 2, 3],\n",
    "}\n",
    "\n",
    "# Create the RandomizedSearchCV object\n",
    "random_search = RandomizedSearchCV(\n",
    "    gb, param_distributions=param_dist, n_iter=10, cv=5, scoring='accuracy', random_state=123)\n",
    "\n",
    "# Fit the model to the training data\n",
    "random_search.fit(scaled_X_train, y_train)\n",
    "\n",
    "# Get the best hyperparameters\n",
    "best_params = random_search.best_params_\n",
    "\n",
    "# Print the best hyperparameters\n",
    "print(\"Best Hyperparameters:\", best_params)\n",
    "\n",
    "# Predict on test data using the best model\n",
    "gbc_cv = random_search.best_estimator_\n",
    "y_pred_gbc_cv = gbc_cv.predict(scaled_X_test)\n",
    "\n",
    "# Calculate evaluation metrics for the best model\n",
    "accuracy_gbc_cv = accuracy_score(y_test, y_pred_gbc_cv)\n",
    "precision_gbc_cv = precision_score(y_test, y_pred_gbc_cv, average='weighted')\n",
    "recall_gbc_cv = recall_score(y_test, y_pred_gbc_cv, average='weighted')\n",
    "f1_gbc_cv = f1_score(y_test, y_pred_gbc_cv, average='weighted')\n",
    "\n",
    "# Print results for the best model\n",
    "print(\"Accuracy_CV:\", round(accuracy_gbc_cv, 3))\n",
    "print(\"Precision_CV:\", round(precision_gbc_cv, 3))\n",
    "print(\"Recall_CV:\", round(recall_gbc_cv, 3))\n",
    "print(\"F1-Score_CV:\", round(f1_gbc_cv, 3))"
   ]
  },
  {
   "cell_type": "code",
   "execution_count": 163,
   "metadata": {},
   "outputs": [],
   "source": [
    "from sdv.metadata import SingleTableMetadata\n",
    "from sdv.evaluation.single_table import evaluate_quality\n",
    "from sdv.single_table import GaussianCopulaSynthesizer"
   ]
  },
  {
   "cell_type": "code",
   "execution_count": 164,
   "metadata": {},
   "outputs": [
    {
     "data": {
      "text/html": [
       "<div>\n",
       "<style scoped>\n",
       "    .dataframe tbody tr th:only-of-type {\n",
       "        vertical-align: middle;\n",
       "    }\n",
       "\n",
       "    .dataframe tbody tr th {\n",
       "        vertical-align: top;\n",
       "    }\n",
       "\n",
       "    .dataframe thead th {\n",
       "        text-align: right;\n",
       "    }\n",
       "</style>\n",
       "<table border=\"1\" class=\"dataframe\">\n",
       "  <thead>\n",
       "    <tr style=\"text-align: right;\">\n",
       "      <th></th>\n",
       "      <th>baseline value</th>\n",
       "      <th>accelerations</th>\n",
       "      <th>fetal_movement</th>\n",
       "      <th>uterine_contractions</th>\n",
       "      <th>light_decelerations</th>\n",
       "      <th>severe_decelerations</th>\n",
       "      <th>prolongued_decelerations</th>\n",
       "      <th>abnormal_short_term_variability</th>\n",
       "      <th>mean_value_of_short_term_variability</th>\n",
       "      <th>percentage_of_time_with_abnormal_long_term_variability</th>\n",
       "      <th>...</th>\n",
       "      <th>histogram_min</th>\n",
       "      <th>histogram_max</th>\n",
       "      <th>histogram_number_of_peaks</th>\n",
       "      <th>histogram_number_of_zeroes</th>\n",
       "      <th>histogram_mode</th>\n",
       "      <th>histogram_mean</th>\n",
       "      <th>histogram_median</th>\n",
       "      <th>histogram_variance</th>\n",
       "      <th>histogram_tendency</th>\n",
       "      <th>fetal_health</th>\n",
       "    </tr>\n",
       "  </thead>\n",
       "  <tbody>\n",
       "    <tr>\n",
       "      <th>0</th>\n",
       "      <td>131.0</td>\n",
       "      <td>0.004</td>\n",
       "      <td>0.000</td>\n",
       "      <td>0.005</td>\n",
       "      <td>0.000</td>\n",
       "      <td>0.001</td>\n",
       "      <td>0.0</td>\n",
       "      <td>62.0</td>\n",
       "      <td>0.4</td>\n",
       "      <td>15.0</td>\n",
       "      <td>...</td>\n",
       "      <td>150.0</td>\n",
       "      <td>238.0</td>\n",
       "      <td>1.0</td>\n",
       "      <td>1.0</td>\n",
       "      <td>138.0</td>\n",
       "      <td>73.0</td>\n",
       "      <td>137.0</td>\n",
       "      <td>2.0</td>\n",
       "      <td>1.0</td>\n",
       "      <td>3.0</td>\n",
       "    </tr>\n",
       "    <tr>\n",
       "      <th>1</th>\n",
       "      <td>110.0</td>\n",
       "      <td>0.008</td>\n",
       "      <td>0.000</td>\n",
       "      <td>0.007</td>\n",
       "      <td>0.001</td>\n",
       "      <td>0.001</td>\n",
       "      <td>0.0</td>\n",
       "      <td>15.0</td>\n",
       "      <td>2.7</td>\n",
       "      <td>2.0</td>\n",
       "      <td>...</td>\n",
       "      <td>52.0</td>\n",
       "      <td>238.0</td>\n",
       "      <td>2.0</td>\n",
       "      <td>1.0</td>\n",
       "      <td>104.0</td>\n",
       "      <td>73.0</td>\n",
       "      <td>106.0</td>\n",
       "      <td>13.0</td>\n",
       "      <td>-1.0</td>\n",
       "      <td>2.0</td>\n",
       "    </tr>\n",
       "    <tr>\n",
       "      <th>2</th>\n",
       "      <td>130.0</td>\n",
       "      <td>0.003</td>\n",
       "      <td>0.000</td>\n",
       "      <td>0.006</td>\n",
       "      <td>0.000</td>\n",
       "      <td>0.001</td>\n",
       "      <td>0.0</td>\n",
       "      <td>46.0</td>\n",
       "      <td>1.4</td>\n",
       "      <td>17.0</td>\n",
       "      <td>...</td>\n",
       "      <td>136.0</td>\n",
       "      <td>238.0</td>\n",
       "      <td>5.0</td>\n",
       "      <td>1.0</td>\n",
       "      <td>126.0</td>\n",
       "      <td>73.0</td>\n",
       "      <td>127.0</td>\n",
       "      <td>51.0</td>\n",
       "      <td>1.0</td>\n",
       "      <td>2.0</td>\n",
       "    </tr>\n",
       "    <tr>\n",
       "      <th>3</th>\n",
       "      <td>142.0</td>\n",
       "      <td>0.001</td>\n",
       "      <td>0.001</td>\n",
       "      <td>0.003</td>\n",
       "      <td>0.000</td>\n",
       "      <td>0.001</td>\n",
       "      <td>0.0</td>\n",
       "      <td>21.0</td>\n",
       "      <td>1.6</td>\n",
       "      <td>1.0</td>\n",
       "      <td>...</td>\n",
       "      <td>51.0</td>\n",
       "      <td>238.0</td>\n",
       "      <td>5.0</td>\n",
       "      <td>1.0</td>\n",
       "      <td>138.0</td>\n",
       "      <td>73.0</td>\n",
       "      <td>141.0</td>\n",
       "      <td>4.0</td>\n",
       "      <td>1.0</td>\n",
       "      <td>3.0</td>\n",
       "    </tr>\n",
       "    <tr>\n",
       "      <th>4</th>\n",
       "      <td>137.0</td>\n",
       "      <td>0.003</td>\n",
       "      <td>0.003</td>\n",
       "      <td>0.003</td>\n",
       "      <td>0.000</td>\n",
       "      <td>0.001</td>\n",
       "      <td>0.0</td>\n",
       "      <td>47.0</td>\n",
       "      <td>0.9</td>\n",
       "      <td>82.0</td>\n",
       "      <td>...</td>\n",
       "      <td>141.0</td>\n",
       "      <td>238.0</td>\n",
       "      <td>6.0</td>\n",
       "      <td>1.0</td>\n",
       "      <td>148.0</td>\n",
       "      <td>73.0</td>\n",
       "      <td>147.0</td>\n",
       "      <td>23.0</td>\n",
       "      <td>1.0</td>\n",
       "      <td>3.0</td>\n",
       "    </tr>\n",
       "    <tr>\n",
       "      <th>...</th>\n",
       "      <td>...</td>\n",
       "      <td>...</td>\n",
       "      <td>...</td>\n",
       "      <td>...</td>\n",
       "      <td>...</td>\n",
       "      <td>...</td>\n",
       "      <td>...</td>\n",
       "      <td>...</td>\n",
       "      <td>...</td>\n",
       "      <td>...</td>\n",
       "      <td>...</td>\n",
       "      <td>...</td>\n",
       "      <td>...</td>\n",
       "      <td>...</td>\n",
       "      <td>...</td>\n",
       "      <td>...</td>\n",
       "      <td>...</td>\n",
       "      <td>...</td>\n",
       "      <td>...</td>\n",
       "      <td>...</td>\n",
       "      <td>...</td>\n",
       "    </tr>\n",
       "    <tr>\n",
       "      <th>2121</th>\n",
       "      <td>132.0</td>\n",
       "      <td>0.001</td>\n",
       "      <td>0.000</td>\n",
       "      <td>0.011</td>\n",
       "      <td>0.001</td>\n",
       "      <td>0.001</td>\n",
       "      <td>0.0</td>\n",
       "      <td>43.0</td>\n",
       "      <td>1.0</td>\n",
       "      <td>32.0</td>\n",
       "      <td>...</td>\n",
       "      <td>104.0</td>\n",
       "      <td>238.0</td>\n",
       "      <td>1.0</td>\n",
       "      <td>1.0</td>\n",
       "      <td>123.0</td>\n",
       "      <td>73.0</td>\n",
       "      <td>129.0</td>\n",
       "      <td>20.0</td>\n",
       "      <td>-1.0</td>\n",
       "      <td>3.0</td>\n",
       "    </tr>\n",
       "    <tr>\n",
       "      <th>2122</th>\n",
       "      <td>128.0</td>\n",
       "      <td>0.001</td>\n",
       "      <td>0.001</td>\n",
       "      <td>0.007</td>\n",
       "      <td>0.002</td>\n",
       "      <td>0.001</td>\n",
       "      <td>0.0</td>\n",
       "      <td>62.0</td>\n",
       "      <td>1.2</td>\n",
       "      <td>23.0</td>\n",
       "      <td>...</td>\n",
       "      <td>118.0</td>\n",
       "      <td>238.0</td>\n",
       "      <td>2.0</td>\n",
       "      <td>2.0</td>\n",
       "      <td>137.0</td>\n",
       "      <td>73.0</td>\n",
       "      <td>135.0</td>\n",
       "      <td>1.0</td>\n",
       "      <td>-1.0</td>\n",
       "      <td>3.0</td>\n",
       "    </tr>\n",
       "    <tr>\n",
       "      <th>2123</th>\n",
       "      <td>144.0</td>\n",
       "      <td>0.017</td>\n",
       "      <td>0.002</td>\n",
       "      <td>0.001</td>\n",
       "      <td>0.000</td>\n",
       "      <td>0.001</td>\n",
       "      <td>0.0</td>\n",
       "      <td>28.0</td>\n",
       "      <td>0.6</td>\n",
       "      <td>14.0</td>\n",
       "      <td>...</td>\n",
       "      <td>142.0</td>\n",
       "      <td>238.0</td>\n",
       "      <td>4.0</td>\n",
       "      <td>2.0</td>\n",
       "      <td>151.0</td>\n",
       "      <td>73.0</td>\n",
       "      <td>162.0</td>\n",
       "      <td>0.0</td>\n",
       "      <td>-0.0</td>\n",
       "      <td>3.0</td>\n",
       "    </tr>\n",
       "    <tr>\n",
       "      <th>2124</th>\n",
       "      <td>114.0</td>\n",
       "      <td>0.005</td>\n",
       "      <td>0.001</td>\n",
       "      <td>0.003</td>\n",
       "      <td>0.001</td>\n",
       "      <td>0.001</td>\n",
       "      <td>0.0</td>\n",
       "      <td>53.0</td>\n",
       "      <td>1.0</td>\n",
       "      <td>13.0</td>\n",
       "      <td>...</td>\n",
       "      <td>101.0</td>\n",
       "      <td>238.0</td>\n",
       "      <td>4.0</td>\n",
       "      <td>2.0</td>\n",
       "      <td>119.0</td>\n",
       "      <td>73.0</td>\n",
       "      <td>125.0</td>\n",
       "      <td>8.0</td>\n",
       "      <td>1.0</td>\n",
       "      <td>2.0</td>\n",
       "    </tr>\n",
       "    <tr>\n",
       "      <th>2125</th>\n",
       "      <td>144.0</td>\n",
       "      <td>0.007</td>\n",
       "      <td>0.014</td>\n",
       "      <td>0.003</td>\n",
       "      <td>0.000</td>\n",
       "      <td>0.001</td>\n",
       "      <td>0.0</td>\n",
       "      <td>26.0</td>\n",
       "      <td>2.1</td>\n",
       "      <td>0.0</td>\n",
       "      <td>...</td>\n",
       "      <td>69.0</td>\n",
       "      <td>238.0</td>\n",
       "      <td>9.0</td>\n",
       "      <td>1.0</td>\n",
       "      <td>157.0</td>\n",
       "      <td>73.0</td>\n",
       "      <td>157.0</td>\n",
       "      <td>25.0</td>\n",
       "      <td>1.0</td>\n",
       "      <td>3.0</td>\n",
       "    </tr>\n",
       "  </tbody>\n",
       "</table>\n",
       "<p>2126 rows × 22 columns</p>\n",
       "</div>"
      ],
      "text/plain": [
       "      baseline value  accelerations  fetal_movement  uterine_contractions  \\\n",
       "0              131.0          0.004           0.000                 0.005   \n",
       "1              110.0          0.008           0.000                 0.007   \n",
       "2              130.0          0.003           0.000                 0.006   \n",
       "3              142.0          0.001           0.001                 0.003   \n",
       "4              137.0          0.003           0.003                 0.003   \n",
       "...              ...            ...             ...                   ...   \n",
       "2121           132.0          0.001           0.000                 0.011   \n",
       "2122           128.0          0.001           0.001                 0.007   \n",
       "2123           144.0          0.017           0.002                 0.001   \n",
       "2124           114.0          0.005           0.001                 0.003   \n",
       "2125           144.0          0.007           0.014                 0.003   \n",
       "\n",
       "      light_decelerations  severe_decelerations  prolongued_decelerations  \\\n",
       "0                   0.000                 0.001                       0.0   \n",
       "1                   0.001                 0.001                       0.0   \n",
       "2                   0.000                 0.001                       0.0   \n",
       "3                   0.000                 0.001                       0.0   \n",
       "4                   0.000                 0.001                       0.0   \n",
       "...                   ...                   ...                       ...   \n",
       "2121                0.001                 0.001                       0.0   \n",
       "2122                0.002                 0.001                       0.0   \n",
       "2123                0.000                 0.001                       0.0   \n",
       "2124                0.001                 0.001                       0.0   \n",
       "2125                0.000                 0.001                       0.0   \n",
       "\n",
       "      abnormal_short_term_variability  mean_value_of_short_term_variability  \\\n",
       "0                                62.0                                   0.4   \n",
       "1                                15.0                                   2.7   \n",
       "2                                46.0                                   1.4   \n",
       "3                                21.0                                   1.6   \n",
       "4                                47.0                                   0.9   \n",
       "...                               ...                                   ...   \n",
       "2121                             43.0                                   1.0   \n",
       "2122                             62.0                                   1.2   \n",
       "2123                             28.0                                   0.6   \n",
       "2124                             53.0                                   1.0   \n",
       "2125                             26.0                                   2.1   \n",
       "\n",
       "      percentage_of_time_with_abnormal_long_term_variability  ...  \\\n",
       "0                                                  15.0       ...   \n",
       "1                                                   2.0       ...   \n",
       "2                                                  17.0       ...   \n",
       "3                                                   1.0       ...   \n",
       "4                                                  82.0       ...   \n",
       "...                                                 ...       ...   \n",
       "2121                                               32.0       ...   \n",
       "2122                                               23.0       ...   \n",
       "2123                                               14.0       ...   \n",
       "2124                                               13.0       ...   \n",
       "2125                                                0.0       ...   \n",
       "\n",
       "      histogram_min  histogram_max  histogram_number_of_peaks  \\\n",
       "0             150.0          238.0                        1.0   \n",
       "1              52.0          238.0                        2.0   \n",
       "2             136.0          238.0                        5.0   \n",
       "3              51.0          238.0                        5.0   \n",
       "4             141.0          238.0                        6.0   \n",
       "...             ...            ...                        ...   \n",
       "2121          104.0          238.0                        1.0   \n",
       "2122          118.0          238.0                        2.0   \n",
       "2123          142.0          238.0                        4.0   \n",
       "2124          101.0          238.0                        4.0   \n",
       "2125           69.0          238.0                        9.0   \n",
       "\n",
       "      histogram_number_of_zeroes  histogram_mode  histogram_mean  \\\n",
       "0                            1.0           138.0            73.0   \n",
       "1                            1.0           104.0            73.0   \n",
       "2                            1.0           126.0            73.0   \n",
       "3                            1.0           138.0            73.0   \n",
       "4                            1.0           148.0            73.0   \n",
       "...                          ...             ...             ...   \n",
       "2121                         1.0           123.0            73.0   \n",
       "2122                         2.0           137.0            73.0   \n",
       "2123                         2.0           151.0            73.0   \n",
       "2124                         2.0           119.0            73.0   \n",
       "2125                         1.0           157.0            73.0   \n",
       "\n",
       "      histogram_median  histogram_variance  histogram_tendency  fetal_health  \n",
       "0                137.0                 2.0                 1.0           3.0  \n",
       "1                106.0                13.0                -1.0           2.0  \n",
       "2                127.0                51.0                 1.0           2.0  \n",
       "3                141.0                 4.0                 1.0           3.0  \n",
       "4                147.0                23.0                 1.0           3.0  \n",
       "...                ...                 ...                 ...           ...  \n",
       "2121             129.0                20.0                -1.0           3.0  \n",
       "2122             135.0                 1.0                -1.0           3.0  \n",
       "2123             162.0                 0.0                -0.0           3.0  \n",
       "2124             125.0                 8.0                 1.0           2.0  \n",
       "2125             157.0                25.0                 1.0           3.0  \n",
       "\n",
       "[2126 rows x 22 columns]"
      ]
     },
     "execution_count": 164,
     "metadata": {},
     "output_type": "execute_result"
    }
   ],
   "source": [
    "metadata1 = SingleTableMetadata()\n",
    "\n",
    "metadata1.detect_from_dataframe(data = fetal_data)\n",
    "synthesier = GaussianCopulaSynthesizer(metadata1)\n",
    "synthesier.fit(fetal_data)\n",
    "synthetic_data = synthesier.sample(num_rows = 2126)  #keep the number of rows equal to the data hold\n",
    "synthetic_data"
   ]
  },
  {
   "cell_type": "code",
   "execution_count": 165,
   "metadata": {},
   "outputs": [
    {
     "name": "stdout",
     "output_type": "stream",
     "text": [
      "Accuracy: 0.861\n",
      "Precision: 0.83\n",
      "Recall: 0.861\n",
      "F1-Score: 0.839\n"
     ]
    }
   ],
   "source": [
    "train_set = synthetic_data\n",
    "\n",
    "test_set = fetal_data\n",
    "\n",
    "train_set['fetal_health'] = train_set['fetal_health'].astype(int)\n",
    "\n",
    "train_set_features = train_set.drop(['fetal_health'], axis=1)\n",
    "train_set_target = train_set['fetal_health']\n",
    "\n",
    "# split df at 70-30 ratio\n",
    "X_train, X_test, y_train, y_test = train_test_split(train_set_features, train_set_target, test_size=0.3, random_state=1)\n",
    "scaler = MinMaxScaler()\n",
    "\n",
    "scaled_X_train = scaler.fit_transform(X_train)\n",
    "scaled_X_test = scaler.fit_transform(X_test)\n",
    "\n",
    "gb = GradientBoostingClassifier(random_state=1)\n",
    "\n",
    "\n",
    "gb.fit(scaled_X_train, y_train)\n",
    "\n",
    "y_pred_gbc = gb.predict(scaled_X_test)\n",
    "\n",
    "# Calculate evaluation metrics\n",
    "accuracy_gbc = accuracy_score(y_test, y_pred_gbc)\n",
    "precision_gbc = precision_score(y_test, y_pred_gbc, average='weighted')\n",
    "recall_gbc = recall_score(y_test, y_pred_gbc, average='weighted')\n",
    "f1_gbc = f1_score(y_test, y_pred_gbc, average='weighted')\n",
    "\n",
    "# Print results\n",
    "print(\"Accuracy:\", round(accuracy_gbc, 3))\n",
    "print(\"Precision:\", round(precision_gbc, 3))\n",
    "print(\"Recall:\", round(recall_gbc, 3))\n",
    "print(\"F1-Score:\", round(f1_gbc, 3))\n",
    "\n"
   ]
  },
  {
   "cell_type": "markdown",
   "metadata": {},
   "source": [
    "## GMCM Testing Code"
   ]
  },
  {
   "cell_type": "code",
   "execution_count": 90,
   "metadata": {},
   "outputs": [
    {
     "name": "stderr",
     "output_type": "stream",
     "text": [
      "0it [00:00, ?it/s]\n",
      "100%|██████████| 2126/2126 [03:23<00:00, 10.45it/s]\n"
     ]
    }
   ],
   "source": [
    "import GMCM_class as G\n",
    "G = G.GaussianCopulaSynthesizer(fetal_data)\n",
    "G._identify_columns()\n",
    "G.convert_datetime_to_numerical()\n",
    "G.handle_missing_values()\n",
    "G.assign_intervals()\n",
    "G.preprocess_data()\n",
    "G.fit_distributions()\n",
    "G.compute_gmm_cdf()\n",
    "G.standard_gaussian_all()\n",
    "G.generate_synthetic_data(2126)\n",
    "df = G.post_process()"
   ]
  },
  {
   "cell_type": "code",
   "execution_count": 154,
   "metadata": {},
   "outputs": [],
   "source": [
    "df[\"fetal_health\"] = np.round(df[\"fetal_health\"])"
   ]
  },
  {
   "cell_type": "code",
   "execution_count": 95,
   "metadata": {},
   "outputs": [],
   "source": [
    "df.to_csv(\"fetal_health_gmcm.csv\")"
   ]
  },
  {
   "cell_type": "code",
   "execution_count": 155,
   "metadata": {},
   "outputs": [
    {
     "name": "stdout",
     "output_type": "stream",
     "text": [
      "Accuracy: 0.879\n",
      "Precision: 0.851\n",
      "Recall: 0.879\n",
      "F1-Score: 0.861\n"
     ]
    }
   ],
   "source": [
    "train_set = df\n",
    "\n",
    "test_set = fetal_data\n",
    "\n",
    "train_set['fetal_health'] = train_set['fetal_health'].astype(int)\n",
    "\n",
    "train_set_features = train_set.drop(['fetal_health'], axis=1)\n",
    "train_set_target = train_set['fetal_health']\n",
    "\n",
    "# split df at 70-30 ratio\n",
    "X_train, X_test, y_train, y_test = train_test_split(train_set_features, train_set_target, test_size=0.3, random_state=1)\n",
    "scaler = MinMaxScaler()\n",
    "\n",
    "scaled_X_train = scaler.fit_transform(X_train)\n",
    "scaled_X_test = scaler.fit_transform(X_test)\n",
    "\n",
    "gb = GradientBoostingClassifier(random_state=1)\n",
    "\n",
    "\n",
    "gb.fit(scaled_X_train, y_train)\n",
    "\n",
    "y_pred_gbc = gb.predict(scaled_X_test)\n",
    "\n",
    "# Calculate evaluation metrics\n",
    "accuracy_gbc = accuracy_score(y_test, y_pred_gbc)\n",
    "precision_gbc = precision_score(y_test, y_pred_gbc, average='weighted')\n",
    "recall_gbc = recall_score(y_test, y_pred_gbc, average='weighted')\n",
    "f1_gbc = f1_score(y_test, y_pred_gbc, average='weighted')\n",
    "\n",
    "# Print results\n",
    "print(\"Accuracy:\", round(accuracy_gbc, 3))\n",
    "print(\"Precision:\", round(precision_gbc, 3))\n",
    "print(\"Recall:\", round(recall_gbc, 3))\n",
    "print(\"F1-Score:\", round(f1_gbc, 3))"
   ]
  },
  {
   "cell_type": "code",
   "execution_count": 156,
   "metadata": {},
   "outputs": [
    {
     "name": "stdout",
     "output_type": "stream",
     "text": [
      "Best Hyperparameters: {'n_estimators': 120, 'min_samples_split': 4, 'min_samples_leaf': 2, 'max_depth': 4, 'learning_rate': 0.01}\n",
      "Accuracy_CV: 0.895\n",
      "Precision_CV: 0.864\n",
      "Recall_CV: 0.895\n",
      "F1-Score_CV: 0.863\n"
     ]
    }
   ],
   "source": [
    "# Hyperparameter tuning using GridSearchCV\n",
    "\n",
    "# Define the parameter distribution to search\n",
    "param_dist = {\n",
    "    'n_estimators': np.arange(50, 151, 10),\n",
    "    'learning_rate': [0.01, 0.1, 0.2],\n",
    "    'max_depth': [3, 4, 5],\n",
    "    'min_samples_split': [2, 3, 4],\n",
    "    'min_samples_leaf': [1, 2, 3],\n",
    "}\n",
    "\n",
    "# Create the RandomizedSearchCV object\n",
    "random_search = RandomizedSearchCV(\n",
    "    gb, param_distributions=param_dist, n_iter=10, cv=5, scoring='accuracy', random_state=123)\n",
    "\n",
    "# Fit the model to the training data\n",
    "random_search.fit(scaled_X_train, y_train)\n",
    "\n",
    "# Get the best hyperparameters\n",
    "best_params = random_search.best_params_\n",
    "\n",
    "# Print the best hyperparameters\n",
    "print(\"Best Hyperparameters:\", best_params)\n",
    "\n",
    "# Predict on test data using the best model\n",
    "gbc_cv = random_search.best_estimator_\n",
    "y_pred_gbc_cv = gbc_cv.predict(scaled_X_test)\n",
    "\n",
    "# Calculate evaluation metrics for the best model\n",
    "accuracy_gbc_cv = accuracy_score(y_test, y_pred_gbc_cv)\n",
    "precision_gbc_cv = precision_score(y_test, y_pred_gbc_cv, average='weighted')\n",
    "recall_gbc_cv = recall_score(y_test, y_pred_gbc_cv, average='weighted')\n",
    "f1_gbc_cv = f1_score(y_test, y_pred_gbc_cv, average='weighted')\n",
    "\n",
    "# Print results for the best model\n",
    "print(\"Accuracy_CV:\", round(accuracy_gbc_cv, 3))\n",
    "print(\"Precision_CV:\", round(precision_gbc_cv, 3))\n",
    "print(\"Recall_CV:\", round(recall_gbc_cv, 3))\n",
    "print(\"F1-Score_CV:\", round(f1_gbc_cv, 3))"
   ]
  },
  {
   "cell_type": "code",
   "execution_count": 157,
   "metadata": {},
   "outputs": [
    {
     "name": "stdout",
     "output_type": "stream",
     "text": [
      "Accuracy: 0.783\n",
      "Precision: 0.723\n",
      "Recall: 0.783\n",
      "F1-Score: 0.694\n"
     ]
    }
   ],
   "source": [
    "fetal_data_copy = fetal_data.copy()\n",
    "target = fetal_data_copy[\"fetal_health\"]\n",
    "fetal_data_copy.drop([\"fetal_health\"], axis = 1, inplace= True)\n",
    "fetal_data_copy = fetal_data_copy[columns]\n",
    "\n",
    "fetal_data_copy_scaled = scaler.transform(fetal_data_copy)\n",
    "y_pred = gbc_cv.predict(fetal_data_copy_scaled)\n",
    "\n",
    "accuracy_gbc = accuracy_score(target, y_pred)\n",
    "precision_gbc = precision_score(target, y_pred, average='weighted')\n",
    "recall_gbc = recall_score(target, y_pred, average='weighted')\n",
    "f1_gbc = f1_score(target, y_pred, average='weighted')\n",
    "\n",
    "# Print results\n",
    "print(\"Accuracy:\", round(accuracy_gbc, 3))\n",
    "print(\"Precision:\", round(precision_gbc, 3))\n",
    "print(\"Recall:\", round(recall_gbc, 3))\n",
    "print(\"F1-Score:\", round(f1_gbc, 3))"
   ]
  },
  {
   "cell_type": "markdown",
   "metadata": {},
   "source": [
    "## GCKM Learning Curve"
   ]
  },
  {
   "cell_type": "code",
   "execution_count": 168,
   "metadata": {},
   "outputs": [
    {
     "name": "stderr",
     "output_type": "stream",
     "text": [
      "0it [00:00, ?it/s]\n",
      "100%|██████████| 1000/1000 [00:03<00:00, 255.30it/s]\n",
      "0it [00:00, ?it/s]\n",
      "100%|██████████| 2000/2000 [00:07<00:00, 252.11it/s]\n",
      "0it [00:00, ?it/s]\n",
      "100%|██████████| 3000/3000 [00:11<00:00, 251.53it/s]\n",
      "0it [00:00, ?it/s]\n",
      "100%|██████████| 4000/4000 [00:15<00:00, 251.27it/s]\n",
      "0it [00:00, ?it/s]\n",
      "100%|██████████| 5000/5000 [00:20<00:00, 248.30it/s]\n",
      "0it [00:00, ?it/s]\n",
      "100%|██████████| 6000/6000 [00:23<00:00, 250.14it/s]\n"
     ]
    }
   ],
   "source": [
    "data_size_vary_gckm = {}\n",
    "runtime_collection_gckm = {}\n",
    "data = fetal_data\n",
    "for i in range(6):\n",
    "    import GCKM as G\n",
    "    G = G.GaussianCopulaKmeansSynthesizer(data)\n",
    "    G._identify_columns()\n",
    "    G.convert_datetime_to_numerical()\n",
    "    G.handle_missing_values()\n",
    "    G.assign_intervals()\n",
    "    G.preprocess_data()\n",
    "    G.get_distribution()\n",
    "    G.calculate_cdfs()\n",
    "    G.standard_gaussian_all()\n",
    "    G.optimal_clusters_dynamic()\n",
    "    G.get_Kmeans()\n",
    "    G.generate_data()\n",
    "    G.generate_synthetic_data((i+1)*1000)\n",
    "    G.post_process()\n",
    "    synthetic = G.synthetic_data\n",
    "    synthetic[\"fetal_health\"] = np.round(synthetic[\"fetal_health\"]).astype(int)\n",
    "    data_size_vary_gckm[str((i+1)*1000) + \"rows data\"] = synthetic\n",
    "    runtime_collection_gckm[str((i+1)*1000) + \"rows data runtime\"] = G.get_execution_times_df()"
   ]
  },
  {
   "cell_type": "code",
   "execution_count": 169,
   "metadata": {},
   "outputs": [
    {
     "data": {
      "text/html": [
       "<div>\n",
       "<style scoped>\n",
       "    .dataframe tbody tr th:only-of-type {\n",
       "        vertical-align: middle;\n",
       "    }\n",
       "\n",
       "    .dataframe tbody tr th {\n",
       "        vertical-align: top;\n",
       "    }\n",
       "\n",
       "    .dataframe thead th {\n",
       "        text-align: right;\n",
       "    }\n",
       "</style>\n",
       "<table border=\"1\" class=\"dataframe\">\n",
       "  <thead>\n",
       "    <tr style=\"text-align: right;\">\n",
       "      <th></th>\n",
       "      <th>Data Size</th>\n",
       "      <th>Accuracy</th>\n",
       "      <th>Precision</th>\n",
       "      <th>Recall</th>\n",
       "      <th>F1 Score</th>\n",
       "      <th>Gini Score</th>\n",
       "    </tr>\n",
       "  </thead>\n",
       "  <tbody>\n",
       "    <tr>\n",
       "      <th>0</th>\n",
       "      <td>1000rows data</td>\n",
       "      <td>0.749765</td>\n",
       "      <td>0.779152</td>\n",
       "      <td>0.749765</td>\n",
       "      <td>0.749592</td>\n",
       "      <td>0.741588</td>\n",
       "    </tr>\n",
       "    <tr>\n",
       "      <th>1</th>\n",
       "      <td>2000rows data</td>\n",
       "      <td>0.827846</td>\n",
       "      <td>0.832888</td>\n",
       "      <td>0.827846</td>\n",
       "      <td>0.829359</td>\n",
       "      <td>0.825281</td>\n",
       "    </tr>\n",
       "    <tr>\n",
       "      <th>2</th>\n",
       "      <td>3000rows data</td>\n",
       "      <td>0.809501</td>\n",
       "      <td>0.757261</td>\n",
       "      <td>0.809501</td>\n",
       "      <td>0.773846</td>\n",
       "      <td>0.719361</td>\n",
       "    </tr>\n",
       "    <tr>\n",
       "      <th>3</th>\n",
       "      <td>4000rows data</td>\n",
       "      <td>0.786924</td>\n",
       "      <td>0.764395</td>\n",
       "      <td>0.786924</td>\n",
       "      <td>0.770232</td>\n",
       "      <td>0.738108</td>\n",
       "    </tr>\n",
       "    <tr>\n",
       "      <th>4</th>\n",
       "      <td>5000rows data</td>\n",
       "      <td>0.831609</td>\n",
       "      <td>0.828183</td>\n",
       "      <td>0.831609</td>\n",
       "      <td>0.781100</td>\n",
       "      <td>0.809114</td>\n",
       "    </tr>\n",
       "    <tr>\n",
       "      <th>5</th>\n",
       "      <td>6000rows data</td>\n",
       "      <td>0.819849</td>\n",
       "      <td>0.704285</td>\n",
       "      <td>0.819849</td>\n",
       "      <td>0.756162</td>\n",
       "      <td>0.762862</td>\n",
       "    </tr>\n",
       "  </tbody>\n",
       "</table>\n",
       "</div>"
      ],
      "text/plain": [
       "       Data Size  Accuracy  Precision    Recall  F1 Score  Gini Score\n",
       "0  1000rows data  0.749765   0.779152  0.749765  0.749592    0.741588\n",
       "1  2000rows data  0.827846   0.832888  0.827846  0.829359    0.825281\n",
       "2  3000rows data  0.809501   0.757261  0.809501  0.773846    0.719361\n",
       "3  4000rows data  0.786924   0.764395  0.786924  0.770232    0.738108\n",
       "4  5000rows data  0.831609   0.828183  0.831609  0.781100    0.809114\n",
       "5  6000rows data  0.819849   0.704285  0.819849  0.756162    0.762862"
      ]
     },
     "execution_count": 169,
     "metadata": {},
     "output_type": "execute_result"
    }
   ],
   "source": [
    "import pandas as pd\n",
    "from sklearn.model_selection import train_test_split, GridSearchCV\n",
    "from sklearn.ensemble import RandomForestRegressor\n",
    "from sklearn.metrics import mean_absolute_error, mean_squared_error, r2_score\n",
    "import numpy as np\n",
    "from sklearn.preprocessing import OneHotEncoder\n",
    "from sklearn.preprocessing import MinMaxScaler\n",
    "from sklearn.metrics import accuracy_score, precision_score, recall_score, f1_score, roc_auc_score\n",
    "from sklearn.preprocessing import label_binarize\n",
    "from sklearn.utils.multiclass import type_of_target\n",
    "\n",
    "def calculate_classification_metrics(y_test, y_pred, y_score=None):\n",
    "    accuracy = accuracy_score(y_test, y_pred)\n",
    "    precision = precision_score(y_test, y_pred, average='weighted')\n",
    "    recall = recall_score(y_test, y_pred, average='weighted')\n",
    "    f1 = f1_score(y_test, y_pred, average='weighted')\n",
    "    \n",
    "    # Check if y_test is binary or multi-class\n",
    "    target_type = type_of_target(y_test)\n",
    "    \n",
    "    if target_type == 'binary':\n",
    "        # For binary classification, use y_pred\n",
    "        auc = roc_auc_score(y_test, y_score)  # y_score is the predicted probabilities\n",
    "    elif target_type == 'multiclass':\n",
    "        # For multi-class, use one-vs-rest or one-vs-one\n",
    "        y_test_binarized = label_binarize(np.array(y_test), classes=np.unique(y_test))\n",
    "        auc = roc_auc_score(y_test_binarized, y_score, multi_class='ovr', average='weighted')\n",
    "    else:\n",
    "        raise ValueError(\"y_test must be binary or multiclass\")\n",
    "\n",
    "    gini = 2 * auc - 1\n",
    "\n",
    "    return {\n",
    "        \"Accuracy\": accuracy,\n",
    "        \"Precision\": precision,\n",
    "        \"Recall\": recall,\n",
    "        \"F1 Score\": f1,\n",
    "        \"Gini Score\": gini\n",
    "    }\n",
    "\n",
    "# Loading real data\n",
    "real_data = fetal_data\n",
    "\n",
    "# Extract target column and input columns from real data\n",
    "target_column = 'fetal_health'\n",
    "input_columns = real_data.drop(columns=[target_column]).columns.tolist()\n",
    "\n",
    "\n",
    "# Function for learning curve evaluation\n",
    "def learning_curve_evaluation(data_sizes, real_data, target_column, input_columns):\n",
    "    performance_metrics = []\n",
    "\n",
    "    for size, synthetic_data in data_sizes.items():\n",
    "        # Preprocessing\n",
    "        X_synthetic = synthetic_data[input_columns].copy()\n",
    "        y_synthetic = synthetic_data[target_column]\n",
    "        X_real = real_data[input_columns].copy()\n",
    "        y_real = real_data[target_column]\n",
    "\n",
    "        scaler = MinMaxScaler()\n",
    "        numeric_columns = X_synthetic.select_dtypes(include=np.number).columns.tolist()\n",
    "        X_synthetic[numeric_columns] = scaler.fit_transform(X_synthetic[numeric_columns])\n",
    "        X_real[numeric_columns] = scaler.transform(X_real[numeric_columns])\n",
    "\n",
    "        # Train-test split for synthetic data\n",
    "        X_train, X_val, y_train, y_val = train_test_split(X_synthetic, y_synthetic, test_size=0.1, random_state=42)\n",
    "\n",
    "        # Model training and hyperparameter tuning\n",
    "        gb = GradientBoostingClassifier(random_state=1)\n",
    "        param_dist = {\n",
    "            'n_estimators': np.arange(50, 151, 10),\n",
    "            'learning_rate': [0.01, 0.1, 0.2],\n",
    "            'max_depth': [3, 4, 5],\n",
    "            'min_samples_split': [2, 3, 4],\n",
    "            'min_samples_leaf': [1, 2, 3]\n",
    "        }\n",
    "        random_search = RandomizedSearchCV(gb, param_distributions=param_dist, n_iter=10, cv=5, scoring='accuracy', random_state=123)\n",
    "        random_search.fit(X_train, y_train)\n",
    "\n",
    "        # Best model\n",
    "        gbc_cv = random_search.best_estimator_\n",
    "        y_pred_gbc_cv = gbc_cv.predict(X_real)\n",
    "        y_score_gbc_cv = gbc_cv.predict_proba(X_real)  # Probability estimates\n",
    "\n",
    "        metrics = calculate_classification_metrics(y_real, y_pred_gbc_cv, y_score_gbc_cv)\n",
    "        performance_metrics.append({'Data Size': size, **metrics})\n",
    "\n",
    "    return pd.DataFrame(performance_metrics)\n",
    "\n",
    "# Running the evaluation\n",
    "learning_curve_results_gckm = learning_curve_evaluation(data_size_vary_gckm, real_data, target_column, input_columns)\n",
    "learning_curve_results_gckm"
   ]
  },
  {
   "cell_type": "code",
   "execution_count": 183,
   "metadata": {},
   "outputs": [],
   "source": [
    "data_size_vary_gckm['1000rows data'].to_csv(\"1000_rows_feta_syn_gckm.csv\", index = False)\n",
    "\n",
    "data_size_vary_gckm['2000rows data'].to_csv(\"2000_rows_feta_syn_gckm.csv\", index = False)\n",
    "\n",
    "data_size_vary_gckm['3000rows data'].to_csv(\"3000_rows_feta_syn_gckm.csv\", index = False)\n",
    "\n",
    "data_size_vary_gckm['4000rows data'].to_csv(\"4000_rows_feta_syn_gckm.csv\", index = False)\n",
    "\n",
    "data_size_vary_gckm['5000rows data'].to_csv(\"5000_rows_feta_syn_gckm.csv\", index = False)\n",
    "\n",
    "data_size_vary_gckm['6000rows data'].to_csv(\"6000_rows_feta_syn_gckm.csv\", index = False)"
   ]
  },
  {
   "cell_type": "code",
   "execution_count": 170,
   "metadata": {},
   "outputs": [
    {
     "data": {
      "application/vnd.plotly.v1+json": {
       "config": {
        "plotlyServerURL": "https://plot.ly"
       },
       "data": [
        {
         "mode": "lines+markers",
         "name": "Accuracy",
         "type": "scatter",
         "x": [
          "1000rows data",
          "2000rows data",
          "3000rows data",
          "4000rows data",
          "5000rows data",
          "6000rows data"
         ],
         "y": [
          0.7497648165569144,
          0.8278457196613358,
          0.8095014111006585,
          0.7869238005644402,
          0.8316086547507056,
          0.8198494825964252
         ]
        },
        {
         "mode": "lines+markers",
         "name": "Precision",
         "type": "scatter",
         "x": [
          "1000rows data",
          "2000rows data",
          "3000rows data",
          "4000rows data",
          "5000rows data",
          "6000rows data"
         ],
         "y": [
          0.7791522345065605,
          0.8328877101220341,
          0.7572607357390347,
          0.7643949860301236,
          0.8281833990471372,
          0.7042847460771595
         ]
        },
        {
         "mode": "lines+markers",
         "name": "Recall",
         "type": "scatter",
         "x": [
          "1000rows data",
          "2000rows data",
          "3000rows data",
          "4000rows data",
          "5000rows data",
          "6000rows data"
         ],
         "y": [
          0.7497648165569144,
          0.8278457196613358,
          0.8095014111006585,
          0.7869238005644402,
          0.8316086547507056,
          0.8198494825964252
         ]
        },
        {
         "mode": "lines+markers",
         "name": "F1 Score",
         "type": "scatter",
         "x": [
          "1000rows data",
          "2000rows data",
          "3000rows data",
          "4000rows data",
          "5000rows data",
          "6000rows data"
         ],
         "y": [
          0.7495915934013783,
          0.8293592949069457,
          0.7738461321445799,
          0.7702315598004433,
          0.7811004671501125,
          0.7561622598050265
         ]
        },
        {
         "mode": "lines+markers",
         "name": "Gini Score",
         "type": "scatter",
         "x": [
          "1000rows data",
          "2000rows data",
          "3000rows data",
          "4000rows data",
          "5000rows data",
          "6000rows data"
         ],
         "y": [
          0.7415882294624021,
          0.8252811502685415,
          0.7193613575138913,
          0.7381084821532524,
          0.8091142370992768,
          0.762862450464785
         ]
        }
       ],
       "layout": {
        "legend": {
         "title": {
          "text": "Metrics"
         }
        },
        "template": {
         "data": {
          "bar": [
           {
            "error_x": {
             "color": "#2a3f5f"
            },
            "error_y": {
             "color": "#2a3f5f"
            },
            "marker": {
             "line": {
              "color": "#E5ECF6",
              "width": 0.5
             },
             "pattern": {
              "fillmode": "overlay",
              "size": 10,
              "solidity": 0.2
             }
            },
            "type": "bar"
           }
          ],
          "barpolar": [
           {
            "marker": {
             "line": {
              "color": "#E5ECF6",
              "width": 0.5
             },
             "pattern": {
              "fillmode": "overlay",
              "size": 10,
              "solidity": 0.2
             }
            },
            "type": "barpolar"
           }
          ],
          "carpet": [
           {
            "aaxis": {
             "endlinecolor": "#2a3f5f",
             "gridcolor": "white",
             "linecolor": "white",
             "minorgridcolor": "white",
             "startlinecolor": "#2a3f5f"
            },
            "baxis": {
             "endlinecolor": "#2a3f5f",
             "gridcolor": "white",
             "linecolor": "white",
             "minorgridcolor": "white",
             "startlinecolor": "#2a3f5f"
            },
            "type": "carpet"
           }
          ],
          "choropleth": [
           {
            "colorbar": {
             "outlinewidth": 0,
             "ticks": ""
            },
            "type": "choropleth"
           }
          ],
          "contour": [
           {
            "colorbar": {
             "outlinewidth": 0,
             "ticks": ""
            },
            "colorscale": [
             [
              0,
              "#0d0887"
             ],
             [
              0.1111111111111111,
              "#46039f"
             ],
             [
              0.2222222222222222,
              "#7201a8"
             ],
             [
              0.3333333333333333,
              "#9c179e"
             ],
             [
              0.4444444444444444,
              "#bd3786"
             ],
             [
              0.5555555555555556,
              "#d8576b"
             ],
             [
              0.6666666666666666,
              "#ed7953"
             ],
             [
              0.7777777777777778,
              "#fb9f3a"
             ],
             [
              0.8888888888888888,
              "#fdca26"
             ],
             [
              1,
              "#f0f921"
             ]
            ],
            "type": "contour"
           }
          ],
          "contourcarpet": [
           {
            "colorbar": {
             "outlinewidth": 0,
             "ticks": ""
            },
            "type": "contourcarpet"
           }
          ],
          "heatmap": [
           {
            "colorbar": {
             "outlinewidth": 0,
             "ticks": ""
            },
            "colorscale": [
             [
              0,
              "#0d0887"
             ],
             [
              0.1111111111111111,
              "#46039f"
             ],
             [
              0.2222222222222222,
              "#7201a8"
             ],
             [
              0.3333333333333333,
              "#9c179e"
             ],
             [
              0.4444444444444444,
              "#bd3786"
             ],
             [
              0.5555555555555556,
              "#d8576b"
             ],
             [
              0.6666666666666666,
              "#ed7953"
             ],
             [
              0.7777777777777778,
              "#fb9f3a"
             ],
             [
              0.8888888888888888,
              "#fdca26"
             ],
             [
              1,
              "#f0f921"
             ]
            ],
            "type": "heatmap"
           }
          ],
          "heatmapgl": [
           {
            "colorbar": {
             "outlinewidth": 0,
             "ticks": ""
            },
            "colorscale": [
             [
              0,
              "#0d0887"
             ],
             [
              0.1111111111111111,
              "#46039f"
             ],
             [
              0.2222222222222222,
              "#7201a8"
             ],
             [
              0.3333333333333333,
              "#9c179e"
             ],
             [
              0.4444444444444444,
              "#bd3786"
             ],
             [
              0.5555555555555556,
              "#d8576b"
             ],
             [
              0.6666666666666666,
              "#ed7953"
             ],
             [
              0.7777777777777778,
              "#fb9f3a"
             ],
             [
              0.8888888888888888,
              "#fdca26"
             ],
             [
              1,
              "#f0f921"
             ]
            ],
            "type": "heatmapgl"
           }
          ],
          "histogram": [
           {
            "marker": {
             "pattern": {
              "fillmode": "overlay",
              "size": 10,
              "solidity": 0.2
             }
            },
            "type": "histogram"
           }
          ],
          "histogram2d": [
           {
            "colorbar": {
             "outlinewidth": 0,
             "ticks": ""
            },
            "colorscale": [
             [
              0,
              "#0d0887"
             ],
             [
              0.1111111111111111,
              "#46039f"
             ],
             [
              0.2222222222222222,
              "#7201a8"
             ],
             [
              0.3333333333333333,
              "#9c179e"
             ],
             [
              0.4444444444444444,
              "#bd3786"
             ],
             [
              0.5555555555555556,
              "#d8576b"
             ],
             [
              0.6666666666666666,
              "#ed7953"
             ],
             [
              0.7777777777777778,
              "#fb9f3a"
             ],
             [
              0.8888888888888888,
              "#fdca26"
             ],
             [
              1,
              "#f0f921"
             ]
            ],
            "type": "histogram2d"
           }
          ],
          "histogram2dcontour": [
           {
            "colorbar": {
             "outlinewidth": 0,
             "ticks": ""
            },
            "colorscale": [
             [
              0,
              "#0d0887"
             ],
             [
              0.1111111111111111,
              "#46039f"
             ],
             [
              0.2222222222222222,
              "#7201a8"
             ],
             [
              0.3333333333333333,
              "#9c179e"
             ],
             [
              0.4444444444444444,
              "#bd3786"
             ],
             [
              0.5555555555555556,
              "#d8576b"
             ],
             [
              0.6666666666666666,
              "#ed7953"
             ],
             [
              0.7777777777777778,
              "#fb9f3a"
             ],
             [
              0.8888888888888888,
              "#fdca26"
             ],
             [
              1,
              "#f0f921"
             ]
            ],
            "type": "histogram2dcontour"
           }
          ],
          "mesh3d": [
           {
            "colorbar": {
             "outlinewidth": 0,
             "ticks": ""
            },
            "type": "mesh3d"
           }
          ],
          "parcoords": [
           {
            "line": {
             "colorbar": {
              "outlinewidth": 0,
              "ticks": ""
             }
            },
            "type": "parcoords"
           }
          ],
          "pie": [
           {
            "automargin": true,
            "type": "pie"
           }
          ],
          "scatter": [
           {
            "fillpattern": {
             "fillmode": "overlay",
             "size": 10,
             "solidity": 0.2
            },
            "type": "scatter"
           }
          ],
          "scatter3d": [
           {
            "line": {
             "colorbar": {
              "outlinewidth": 0,
              "ticks": ""
             }
            },
            "marker": {
             "colorbar": {
              "outlinewidth": 0,
              "ticks": ""
             }
            },
            "type": "scatter3d"
           }
          ],
          "scattercarpet": [
           {
            "marker": {
             "colorbar": {
              "outlinewidth": 0,
              "ticks": ""
             }
            },
            "type": "scattercarpet"
           }
          ],
          "scattergeo": [
           {
            "marker": {
             "colorbar": {
              "outlinewidth": 0,
              "ticks": ""
             }
            },
            "type": "scattergeo"
           }
          ],
          "scattergl": [
           {
            "marker": {
             "colorbar": {
              "outlinewidth": 0,
              "ticks": ""
             }
            },
            "type": "scattergl"
           }
          ],
          "scattermapbox": [
           {
            "marker": {
             "colorbar": {
              "outlinewidth": 0,
              "ticks": ""
             }
            },
            "type": "scattermapbox"
           }
          ],
          "scatterpolar": [
           {
            "marker": {
             "colorbar": {
              "outlinewidth": 0,
              "ticks": ""
             }
            },
            "type": "scatterpolar"
           }
          ],
          "scatterpolargl": [
           {
            "marker": {
             "colorbar": {
              "outlinewidth": 0,
              "ticks": ""
             }
            },
            "type": "scatterpolargl"
           }
          ],
          "scatterternary": [
           {
            "marker": {
             "colorbar": {
              "outlinewidth": 0,
              "ticks": ""
             }
            },
            "type": "scatterternary"
           }
          ],
          "surface": [
           {
            "colorbar": {
             "outlinewidth": 0,
             "ticks": ""
            },
            "colorscale": [
             [
              0,
              "#0d0887"
             ],
             [
              0.1111111111111111,
              "#46039f"
             ],
             [
              0.2222222222222222,
              "#7201a8"
             ],
             [
              0.3333333333333333,
              "#9c179e"
             ],
             [
              0.4444444444444444,
              "#bd3786"
             ],
             [
              0.5555555555555556,
              "#d8576b"
             ],
             [
              0.6666666666666666,
              "#ed7953"
             ],
             [
              0.7777777777777778,
              "#fb9f3a"
             ],
             [
              0.8888888888888888,
              "#fdca26"
             ],
             [
              1,
              "#f0f921"
             ]
            ],
            "type": "surface"
           }
          ],
          "table": [
           {
            "cells": {
             "fill": {
              "color": "#EBF0F8"
             },
             "line": {
              "color": "white"
             }
            },
            "header": {
             "fill": {
              "color": "#C8D4E3"
             },
             "line": {
              "color": "white"
             }
            },
            "type": "table"
           }
          ]
         },
         "layout": {
          "annotationdefaults": {
           "arrowcolor": "#2a3f5f",
           "arrowhead": 0,
           "arrowwidth": 1
          },
          "autotypenumbers": "strict",
          "coloraxis": {
           "colorbar": {
            "outlinewidth": 0,
            "ticks": ""
           }
          },
          "colorscale": {
           "diverging": [
            [
             0,
             "#8e0152"
            ],
            [
             0.1,
             "#c51b7d"
            ],
            [
             0.2,
             "#de77ae"
            ],
            [
             0.3,
             "#f1b6da"
            ],
            [
             0.4,
             "#fde0ef"
            ],
            [
             0.5,
             "#f7f7f7"
            ],
            [
             0.6,
             "#e6f5d0"
            ],
            [
             0.7,
             "#b8e186"
            ],
            [
             0.8,
             "#7fbc41"
            ],
            [
             0.9,
             "#4d9221"
            ],
            [
             1,
             "#276419"
            ]
           ],
           "sequential": [
            [
             0,
             "#0d0887"
            ],
            [
             0.1111111111111111,
             "#46039f"
            ],
            [
             0.2222222222222222,
             "#7201a8"
            ],
            [
             0.3333333333333333,
             "#9c179e"
            ],
            [
             0.4444444444444444,
             "#bd3786"
            ],
            [
             0.5555555555555556,
             "#d8576b"
            ],
            [
             0.6666666666666666,
             "#ed7953"
            ],
            [
             0.7777777777777778,
             "#fb9f3a"
            ],
            [
             0.8888888888888888,
             "#fdca26"
            ],
            [
             1,
             "#f0f921"
            ]
           ],
           "sequentialminus": [
            [
             0,
             "#0d0887"
            ],
            [
             0.1111111111111111,
             "#46039f"
            ],
            [
             0.2222222222222222,
             "#7201a8"
            ],
            [
             0.3333333333333333,
             "#9c179e"
            ],
            [
             0.4444444444444444,
             "#bd3786"
            ],
            [
             0.5555555555555556,
             "#d8576b"
            ],
            [
             0.6666666666666666,
             "#ed7953"
            ],
            [
             0.7777777777777778,
             "#fb9f3a"
            ],
            [
             0.8888888888888888,
             "#fdca26"
            ],
            [
             1,
             "#f0f921"
            ]
           ]
          },
          "colorway": [
           "#636efa",
           "#EF553B",
           "#00cc96",
           "#ab63fa",
           "#FFA15A",
           "#19d3f3",
           "#FF6692",
           "#B6E880",
           "#FF97FF",
           "#FECB52"
          ],
          "font": {
           "color": "#2a3f5f"
          },
          "geo": {
           "bgcolor": "white",
           "lakecolor": "white",
           "landcolor": "#E5ECF6",
           "showlakes": true,
           "showland": true,
           "subunitcolor": "white"
          },
          "hoverlabel": {
           "align": "left"
          },
          "hovermode": "closest",
          "mapbox": {
           "style": "light"
          },
          "paper_bgcolor": "white",
          "plot_bgcolor": "#E5ECF6",
          "polar": {
           "angularaxis": {
            "gridcolor": "white",
            "linecolor": "white",
            "ticks": ""
           },
           "bgcolor": "#E5ECF6",
           "radialaxis": {
            "gridcolor": "white",
            "linecolor": "white",
            "ticks": ""
           }
          },
          "scene": {
           "xaxis": {
            "backgroundcolor": "#E5ECF6",
            "gridcolor": "white",
            "gridwidth": 2,
            "linecolor": "white",
            "showbackground": true,
            "ticks": "",
            "zerolinecolor": "white"
           },
           "yaxis": {
            "backgroundcolor": "#E5ECF6",
            "gridcolor": "white",
            "gridwidth": 2,
            "linecolor": "white",
            "showbackground": true,
            "ticks": "",
            "zerolinecolor": "white"
           },
           "zaxis": {
            "backgroundcolor": "#E5ECF6",
            "gridcolor": "white",
            "gridwidth": 2,
            "linecolor": "white",
            "showbackground": true,
            "ticks": "",
            "zerolinecolor": "white"
           }
          },
          "shapedefaults": {
           "line": {
            "color": "#2a3f5f"
           }
          },
          "ternary": {
           "aaxis": {
            "gridcolor": "white",
            "linecolor": "white",
            "ticks": ""
           },
           "baxis": {
            "gridcolor": "white",
            "linecolor": "white",
            "ticks": ""
           },
           "bgcolor": "#E5ECF6",
           "caxis": {
            "gridcolor": "white",
            "linecolor": "white",
            "ticks": ""
           }
          },
          "title": {
           "x": 0.05
          },
          "xaxis": {
           "automargin": true,
           "gridcolor": "white",
           "linecolor": "white",
           "ticks": "",
           "title": {
            "standoff": 15
           },
           "zerolinecolor": "white",
           "zerolinewidth": 2
          },
          "yaxis": {
           "automargin": true,
           "gridcolor": "white",
           "linecolor": "white",
           "ticks": "",
           "title": {
            "standoff": 15
           },
           "zerolinecolor": "white",
           "zerolinewidth": 2
          }
         }
        },
        "title": {
         "text": "Performance Metrics across Different Data Sizes"
        },
        "xaxis": {
         "title": {
          "text": "Data Size"
         }
        },
        "yaxis": {
         "title": {
          "text": "Metric Value"
         }
        }
       }
      }
     },
     "metadata": {},
     "output_type": "display_data"
    }
   ],
   "source": [
    "fig = go.Figure()\n",
    "fig.add_trace(go.Scatter(x=learning_curve_results_gckm[\"Data Size\"], y=learning_curve_results_gckm[\"Accuracy\"], mode='lines+markers', name='Accuracy'))\n",
    "fig.add_trace(go.Scatter(x=learning_curve_results_gckm[\"Data Size\"], y=learning_curve_results_gckm[\"Precision\"], mode='lines+markers', name='Precision'))\n",
    "fig.add_trace(go.Scatter(x=learning_curve_results_gckm[\"Data Size\"], y=learning_curve_results_gckm[\"Recall\"], mode='lines+markers', name='Recall'))\n",
    "fig.add_trace(go.Scatter(x=learning_curve_results_gckm[\"Data Size\"], y=learning_curve_results_gckm[\"F1 Score\"], mode='lines+markers', name='F1 Score'))\n",
    "fig.add_trace(go.Scatter(x=learning_curve_results_gckm[\"Data Size\"], y=learning_curve_results_gckm[\"Gini Score\"], mode='lines+markers', name='Gini Score'))\n",
    "\n",
    "\n",
    "# Update plot layout\n",
    "fig.update_layout(title='Performance Metrics across Different Data Sizes',\n",
    "                  xaxis_title='Data Size',\n",
    "                  yaxis_title='Metric Value',\n",
    "                  legend_title='Metrics')\n",
    "\n",
    "# Show plot\n",
    "fig.show()"
   ]
  },
  {
   "cell_type": "markdown",
   "metadata": {},
   "source": [
    "## GMCM Learning Curve"
   ]
  },
  {
   "cell_type": "code",
   "execution_count": 171,
   "metadata": {},
   "outputs": [
    {
     "name": "stderr",
     "output_type": "stream",
     "text": [
      "0it [00:00, ?it/s]\n",
      "100%|██████████| 1000/1000 [01:44<00:00,  9.57it/s]\n",
      "0it [00:00, ?it/s]\n",
      "100%|██████████| 2000/2000 [03:37<00:00,  9.20it/s]\n",
      "0it [00:00, ?it/s]\n",
      "100%|██████████| 3000/3000 [05:28<00:00,  9.14it/s]\n",
      "0it [00:00, ?it/s]\n",
      "100%|██████████| 4000/4000 [06:49<00:00,  9.76it/s]\n",
      "0it [00:00, ?it/s]\n",
      "100%|██████████| 5000/5000 [09:44<00:00,  8.55it/s]\n",
      "0it [00:00, ?it/s]\n",
      "100%|██████████| 6000/6000 [09:59<00:00, 10.00it/s]\n"
     ]
    }
   ],
   "source": [
    "data_size_vary_gmcm = {}\n",
    "runtime_collection_gmcm = {}\n",
    "data = fetal_data\n",
    "for i in range(6):    \n",
    "    import GMCM_class as G\n",
    "    G = G.GaussianCopulaSynthesizer(fetal_data)\n",
    "    G._identify_columns()\n",
    "    G.convert_datetime_to_numerical()\n",
    "    G.handle_missing_values()\n",
    "    G.assign_intervals()\n",
    "    G.preprocess_data()\n",
    "    G.fit_distributions()\n",
    "    G.compute_gmm_cdf()\n",
    "    G.standard_gaussian_all()\n",
    "    G.generate_synthetic_data((i+1)*1000)\n",
    "    df = G.post_process()\n",
    "    synthetic = df\n",
    "    synthetic[\"fetal_health\"] = np.round(synthetic[\"fetal_health\"]).astype(int)\n",
    "    data_size_vary_gmcm[str((i+1)*1000) + \"rows data\"] = synthetic\n",
    "    runtime_collection_gmcm[str((i+1)*1000) + \"rows data runtime\"] = G.get_execution_times_df()"
   ]
  },
  {
   "cell_type": "code",
   "execution_count": 172,
   "metadata": {},
   "outputs": [
    {
     "data": {
      "text/html": [
       "<div>\n",
       "<style scoped>\n",
       "    .dataframe tbody tr th:only-of-type {\n",
       "        vertical-align: middle;\n",
       "    }\n",
       "\n",
       "    .dataframe tbody tr th {\n",
       "        vertical-align: top;\n",
       "    }\n",
       "\n",
       "    .dataframe thead th {\n",
       "        text-align: right;\n",
       "    }\n",
       "</style>\n",
       "<table border=\"1\" class=\"dataframe\">\n",
       "  <thead>\n",
       "    <tr style=\"text-align: right;\">\n",
       "      <th></th>\n",
       "      <th>Data Size</th>\n",
       "      <th>Accuracy</th>\n",
       "      <th>Precision</th>\n",
       "      <th>Recall</th>\n",
       "      <th>F1 Score</th>\n",
       "      <th>Gini Score</th>\n",
       "    </tr>\n",
       "  </thead>\n",
       "  <tbody>\n",
       "    <tr>\n",
       "      <th>0</th>\n",
       "      <td>1000rows data</td>\n",
       "      <td>0.778457</td>\n",
       "      <td>0.606852</td>\n",
       "      <td>0.778457</td>\n",
       "      <td>0.682026</td>\n",
       "      <td>0.638721</td>\n",
       "    </tr>\n",
       "    <tr>\n",
       "      <th>1</th>\n",
       "      <td>2000rows data</td>\n",
       "      <td>0.788335</td>\n",
       "      <td>0.737362</td>\n",
       "      <td>0.788335</td>\n",
       "      <td>0.718065</td>\n",
       "      <td>0.792376</td>\n",
       "    </tr>\n",
       "    <tr>\n",
       "      <th>2</th>\n",
       "      <td>3000rows data</td>\n",
       "      <td>0.779398</td>\n",
       "      <td>0.690415</td>\n",
       "      <td>0.779398</td>\n",
       "      <td>0.685111</td>\n",
       "      <td>0.846148</td>\n",
       "    </tr>\n",
       "    <tr>\n",
       "      <th>3</th>\n",
       "      <td>4000rows data</td>\n",
       "      <td>0.782220</td>\n",
       "      <td>0.673701</td>\n",
       "      <td>0.782220</td>\n",
       "      <td>0.696770</td>\n",
       "      <td>0.847012</td>\n",
       "    </tr>\n",
       "    <tr>\n",
       "      <th>4</th>\n",
       "      <td>5000rows data</td>\n",
       "      <td>0.782690</td>\n",
       "      <td>0.683366</td>\n",
       "      <td>0.782690</td>\n",
       "      <td>0.691303</td>\n",
       "      <td>0.848668</td>\n",
       "    </tr>\n",
       "    <tr>\n",
       "      <th>5</th>\n",
       "      <td>6000rows data</td>\n",
       "      <td>0.794450</td>\n",
       "      <td>0.738750</td>\n",
       "      <td>0.794450</td>\n",
       "      <td>0.725530</td>\n",
       "      <td>0.847089</td>\n",
       "    </tr>\n",
       "  </tbody>\n",
       "</table>\n",
       "</div>"
      ],
      "text/plain": [
       "       Data Size  Accuracy  Precision    Recall  F1 Score  Gini Score\n",
       "0  1000rows data  0.778457   0.606852  0.778457  0.682026    0.638721\n",
       "1  2000rows data  0.788335   0.737362  0.788335  0.718065    0.792376\n",
       "2  3000rows data  0.779398   0.690415  0.779398  0.685111    0.846148\n",
       "3  4000rows data  0.782220   0.673701  0.782220  0.696770    0.847012\n",
       "4  5000rows data  0.782690   0.683366  0.782690  0.691303    0.848668\n",
       "5  6000rows data  0.794450   0.738750  0.794450  0.725530    0.847089"
      ]
     },
     "execution_count": 172,
     "metadata": {},
     "output_type": "execute_result"
    }
   ],
   "source": [
    "import pandas as pd\n",
    "from sklearn.model_selection import train_test_split, GridSearchCV\n",
    "from sklearn.ensemble import RandomForestRegressor\n",
    "from sklearn.metrics import mean_absolute_error, mean_squared_error, r2_score\n",
    "import numpy as np\n",
    "from sklearn.preprocessing import OneHotEncoder\n",
    "from sklearn.preprocessing import MinMaxScaler\n",
    "from sklearn.metrics import accuracy_score, precision_score, recall_score, f1_score, roc_auc_score\n",
    "from sklearn.preprocessing import label_binarize\n",
    "from sklearn.utils.multiclass import type_of_target\n",
    "\n",
    "def calculate_classification_metrics(y_test, y_pred, y_score=None):\n",
    "    accuracy = accuracy_score(y_test, y_pred)\n",
    "    precision = precision_score(y_test, y_pred, average='weighted')\n",
    "    recall = recall_score(y_test, y_pred, average='weighted')\n",
    "    f1 = f1_score(y_test, y_pred, average='weighted')\n",
    "    \n",
    "    # Check if y_test is binary or multi-class\n",
    "    target_type = type_of_target(y_test)\n",
    "    \n",
    "    if target_type == 'binary':\n",
    "        # For binary classification, use y_pred\n",
    "        auc = roc_auc_score(y_test, y_score)  # y_score is the predicted probabilities\n",
    "    elif target_type == 'multiclass':\n",
    "        # For multi-class, use one-vs-rest or one-vs-one\n",
    "        y_test_binarized = label_binarize(np.array(y_test), classes=np.unique(y_test))\n",
    "        auc = roc_auc_score(y_test_binarized, y_score, multi_class='ovr', average='weighted')\n",
    "    else:\n",
    "        raise ValueError(\"y_test must be binary or multiclass\")\n",
    "\n",
    "    gini = 2 * auc - 1\n",
    "\n",
    "    return {\n",
    "        \"Accuracy\": accuracy,\n",
    "        \"Precision\": precision,\n",
    "        \"Recall\": recall,\n",
    "        \"F1 Score\": f1,\n",
    "        \"Gini Score\": gini\n",
    "    }\n",
    "\n",
    "# Loading real data\n",
    "real_data = fetal_data\n",
    "\n",
    "# Extract target column and input columns from real data\n",
    "target_column = 'fetal_health'\n",
    "input_columns = real_data.drop(columns=[target_column]).columns.tolist()\n",
    "\n",
    "\n",
    "# Function for learning curve evaluation\n",
    "def learning_curve_evaluation(data_sizes, real_data, target_column, input_columns):\n",
    "    performance_metrics = []\n",
    "\n",
    "    for size, synthetic_data in data_sizes.items():\n",
    "        # Preprocessing\n",
    "        X_synthetic = synthetic_data[input_columns].copy()\n",
    "        y_synthetic = synthetic_data[target_column]\n",
    "        X_real = real_data[input_columns].copy()\n",
    "        y_real = real_data[target_column]\n",
    "\n",
    "        scaler = MinMaxScaler()\n",
    "        numeric_columns = X_synthetic.select_dtypes(include=np.number).columns.tolist()\n",
    "        X_synthetic[numeric_columns] = scaler.fit_transform(X_synthetic[numeric_columns])\n",
    "        X_real[numeric_columns] = scaler.transform(X_real[numeric_columns])\n",
    "\n",
    "        # Train-test split for synthetic data\n",
    "        X_train, X_val, y_train, y_val = train_test_split(X_synthetic, y_synthetic, test_size=0.1, random_state=42)\n",
    "\n",
    "        # Model training and hyperparameter tuning\n",
    "        gb = GradientBoostingClassifier(random_state=1)\n",
    "        param_dist = {\n",
    "            'n_estimators': np.arange(50, 151, 10),\n",
    "            'learning_rate': [0.01, 0.1, 0.2],\n",
    "            'max_depth': [3, 4, 5],\n",
    "            'min_samples_split': [2, 3, 4],\n",
    "            'min_samples_leaf': [1, 2, 3]\n",
    "        }\n",
    "        random_search = RandomizedSearchCV(gb, param_distributions=param_dist, n_iter=10, cv=5, scoring='accuracy', random_state=123)\n",
    "        random_search.fit(X_train, y_train)\n",
    "\n",
    "        # Best model\n",
    "        gbc_cv = random_search.best_estimator_\n",
    "        y_pred_gbc_cv = gbc_cv.predict(X_real)\n",
    "        y_score_gbc_cv = gbc_cv.predict_proba(X_real)  # Probability estimates\n",
    "\n",
    "        metrics = calculate_classification_metrics(y_real, y_pred_gbc_cv, y_score_gbc_cv)\n",
    "        performance_metrics.append({'Data Size': size, **metrics})\n",
    "\n",
    "    return pd.DataFrame(performance_metrics)\n",
    "\n",
    "# Running the evaluation\n",
    "learning_curve_results_gmcm = learning_curve_evaluation(data_size_vary_gmcm, real_data, target_column, input_columns)\n",
    "learning_curve_results_gmcm"
   ]
  },
  {
   "cell_type": "code",
   "execution_count": 184,
   "metadata": {},
   "outputs": [],
   "source": [
    "data_size_vary_gmcm['1000rows data'].to_csv(\"1000_rows_feta_syn_gmcm.csv\", index = False)\n",
    "\n",
    "data_size_vary_gmcm['2000rows data'].to_csv(\"2000_rows_feta_syn_gmcm.csv\", index = False)\n",
    "\n",
    "data_size_vary_gmcm['3000rows data'].to_csv(\"3000_rows_feta_syn_gmcm.csv\", index = False)\n",
    "\n",
    "data_size_vary_gmcm['4000rows data'].to_csv(\"4000_rows_feta_syn_gmcm.csv\", index = False)\n",
    "\n",
    "data_size_vary_gmcm['5000rows data'].to_csv(\"5000_rows_feta_syn_gmcm.csv\", index = False)\n",
    "\n",
    "data_size_vary_gmcm['6000rows data'].to_csv(\"6000_rows_feta_syn_gmcm.csv\", index = False)"
   ]
  },
  {
   "cell_type": "code",
   "execution_count": 174,
   "metadata": {},
   "outputs": [
    {
     "data": {
      "application/vnd.plotly.v1+json": {
       "config": {
        "plotlyServerURL": "https://plot.ly"
       },
       "data": [
        {
         "mode": "lines+markers",
         "name": "Accuracy",
         "type": "scatter",
         "x": [
          "1000rows data",
          "2000rows data",
          "3000rows data",
          "4000rows data",
          "5000rows data",
          "6000rows data"
         ],
         "y": [
          0.7784571966133584,
          0.7883349012229539,
          0.7793979303857008,
          0.7822201317027281,
          0.7826904985888994,
          0.7944496707431796
         ]
        },
        {
         "mode": "lines+markers",
         "name": "Precision",
         "type": "scatter",
         "x": [
          "1000rows data",
          "2000rows data",
          "3000rows data",
          "4000rows data",
          "5000rows data",
          "6000rows data"
         ],
         "y": [
          0.6068519361258163,
          0.7373615421632443,
          0.6904146820173345,
          0.6737012649572959,
          0.6833655951074731,
          0.7387500398096974
         ]
        },
        {
         "mode": "lines+markers",
         "name": "Recall",
         "type": "scatter",
         "x": [
          "1000rows data",
          "2000rows data",
          "3000rows data",
          "4000rows data",
          "5000rows data",
          "6000rows data"
         ],
         "y": [
          0.7784571966133584,
          0.7883349012229539,
          0.7793979303857008,
          0.7822201317027281,
          0.7826904985888994,
          0.7944496707431796
         ]
        },
        {
         "mode": "lines+markers",
         "name": "F1 Score",
         "type": "scatter",
         "x": [
          "1000rows data",
          "2000rows data",
          "3000rows data",
          "4000rows data",
          "5000rows data",
          "6000rows data"
         ],
         "y": [
          0.682025759870359,
          0.7180652949674806,
          0.6851109925788359,
          0.6967696603939165,
          0.6913031950723225,
          0.725530300079573
         ]
        },
        {
         "mode": "lines+markers",
         "name": "Gini Score",
         "type": "scatter",
         "x": [
          "1000rows data",
          "2000rows data",
          "3000rows data",
          "4000rows data",
          "5000rows data",
          "6000rows data"
         ],
         "y": [
          0.6387214722137808,
          0.7923758025478742,
          0.8461481315342507,
          0.8470118601725767,
          0.848668276881958,
          0.8470893968215647
         ]
        }
       ],
       "layout": {
        "legend": {
         "title": {
          "text": "Metrics"
         }
        },
        "template": {
         "data": {
          "bar": [
           {
            "error_x": {
             "color": "#2a3f5f"
            },
            "error_y": {
             "color": "#2a3f5f"
            },
            "marker": {
             "line": {
              "color": "#E5ECF6",
              "width": 0.5
             },
             "pattern": {
              "fillmode": "overlay",
              "size": 10,
              "solidity": 0.2
             }
            },
            "type": "bar"
           }
          ],
          "barpolar": [
           {
            "marker": {
             "line": {
              "color": "#E5ECF6",
              "width": 0.5
             },
             "pattern": {
              "fillmode": "overlay",
              "size": 10,
              "solidity": 0.2
             }
            },
            "type": "barpolar"
           }
          ],
          "carpet": [
           {
            "aaxis": {
             "endlinecolor": "#2a3f5f",
             "gridcolor": "white",
             "linecolor": "white",
             "minorgridcolor": "white",
             "startlinecolor": "#2a3f5f"
            },
            "baxis": {
             "endlinecolor": "#2a3f5f",
             "gridcolor": "white",
             "linecolor": "white",
             "minorgridcolor": "white",
             "startlinecolor": "#2a3f5f"
            },
            "type": "carpet"
           }
          ],
          "choropleth": [
           {
            "colorbar": {
             "outlinewidth": 0,
             "ticks": ""
            },
            "type": "choropleth"
           }
          ],
          "contour": [
           {
            "colorbar": {
             "outlinewidth": 0,
             "ticks": ""
            },
            "colorscale": [
             [
              0,
              "#0d0887"
             ],
             [
              0.1111111111111111,
              "#46039f"
             ],
             [
              0.2222222222222222,
              "#7201a8"
             ],
             [
              0.3333333333333333,
              "#9c179e"
             ],
             [
              0.4444444444444444,
              "#bd3786"
             ],
             [
              0.5555555555555556,
              "#d8576b"
             ],
             [
              0.6666666666666666,
              "#ed7953"
             ],
             [
              0.7777777777777778,
              "#fb9f3a"
             ],
             [
              0.8888888888888888,
              "#fdca26"
             ],
             [
              1,
              "#f0f921"
             ]
            ],
            "type": "contour"
           }
          ],
          "contourcarpet": [
           {
            "colorbar": {
             "outlinewidth": 0,
             "ticks": ""
            },
            "type": "contourcarpet"
           }
          ],
          "heatmap": [
           {
            "colorbar": {
             "outlinewidth": 0,
             "ticks": ""
            },
            "colorscale": [
             [
              0,
              "#0d0887"
             ],
             [
              0.1111111111111111,
              "#46039f"
             ],
             [
              0.2222222222222222,
              "#7201a8"
             ],
             [
              0.3333333333333333,
              "#9c179e"
             ],
             [
              0.4444444444444444,
              "#bd3786"
             ],
             [
              0.5555555555555556,
              "#d8576b"
             ],
             [
              0.6666666666666666,
              "#ed7953"
             ],
             [
              0.7777777777777778,
              "#fb9f3a"
             ],
             [
              0.8888888888888888,
              "#fdca26"
             ],
             [
              1,
              "#f0f921"
             ]
            ],
            "type": "heatmap"
           }
          ],
          "heatmapgl": [
           {
            "colorbar": {
             "outlinewidth": 0,
             "ticks": ""
            },
            "colorscale": [
             [
              0,
              "#0d0887"
             ],
             [
              0.1111111111111111,
              "#46039f"
             ],
             [
              0.2222222222222222,
              "#7201a8"
             ],
             [
              0.3333333333333333,
              "#9c179e"
             ],
             [
              0.4444444444444444,
              "#bd3786"
             ],
             [
              0.5555555555555556,
              "#d8576b"
             ],
             [
              0.6666666666666666,
              "#ed7953"
             ],
             [
              0.7777777777777778,
              "#fb9f3a"
             ],
             [
              0.8888888888888888,
              "#fdca26"
             ],
             [
              1,
              "#f0f921"
             ]
            ],
            "type": "heatmapgl"
           }
          ],
          "histogram": [
           {
            "marker": {
             "pattern": {
              "fillmode": "overlay",
              "size": 10,
              "solidity": 0.2
             }
            },
            "type": "histogram"
           }
          ],
          "histogram2d": [
           {
            "colorbar": {
             "outlinewidth": 0,
             "ticks": ""
            },
            "colorscale": [
             [
              0,
              "#0d0887"
             ],
             [
              0.1111111111111111,
              "#46039f"
             ],
             [
              0.2222222222222222,
              "#7201a8"
             ],
             [
              0.3333333333333333,
              "#9c179e"
             ],
             [
              0.4444444444444444,
              "#bd3786"
             ],
             [
              0.5555555555555556,
              "#d8576b"
             ],
             [
              0.6666666666666666,
              "#ed7953"
             ],
             [
              0.7777777777777778,
              "#fb9f3a"
             ],
             [
              0.8888888888888888,
              "#fdca26"
             ],
             [
              1,
              "#f0f921"
             ]
            ],
            "type": "histogram2d"
           }
          ],
          "histogram2dcontour": [
           {
            "colorbar": {
             "outlinewidth": 0,
             "ticks": ""
            },
            "colorscale": [
             [
              0,
              "#0d0887"
             ],
             [
              0.1111111111111111,
              "#46039f"
             ],
             [
              0.2222222222222222,
              "#7201a8"
             ],
             [
              0.3333333333333333,
              "#9c179e"
             ],
             [
              0.4444444444444444,
              "#bd3786"
             ],
             [
              0.5555555555555556,
              "#d8576b"
             ],
             [
              0.6666666666666666,
              "#ed7953"
             ],
             [
              0.7777777777777778,
              "#fb9f3a"
             ],
             [
              0.8888888888888888,
              "#fdca26"
             ],
             [
              1,
              "#f0f921"
             ]
            ],
            "type": "histogram2dcontour"
           }
          ],
          "mesh3d": [
           {
            "colorbar": {
             "outlinewidth": 0,
             "ticks": ""
            },
            "type": "mesh3d"
           }
          ],
          "parcoords": [
           {
            "line": {
             "colorbar": {
              "outlinewidth": 0,
              "ticks": ""
             }
            },
            "type": "parcoords"
           }
          ],
          "pie": [
           {
            "automargin": true,
            "type": "pie"
           }
          ],
          "scatter": [
           {
            "fillpattern": {
             "fillmode": "overlay",
             "size": 10,
             "solidity": 0.2
            },
            "type": "scatter"
           }
          ],
          "scatter3d": [
           {
            "line": {
             "colorbar": {
              "outlinewidth": 0,
              "ticks": ""
             }
            },
            "marker": {
             "colorbar": {
              "outlinewidth": 0,
              "ticks": ""
             }
            },
            "type": "scatter3d"
           }
          ],
          "scattercarpet": [
           {
            "marker": {
             "colorbar": {
              "outlinewidth": 0,
              "ticks": ""
             }
            },
            "type": "scattercarpet"
           }
          ],
          "scattergeo": [
           {
            "marker": {
             "colorbar": {
              "outlinewidth": 0,
              "ticks": ""
             }
            },
            "type": "scattergeo"
           }
          ],
          "scattergl": [
           {
            "marker": {
             "colorbar": {
              "outlinewidth": 0,
              "ticks": ""
             }
            },
            "type": "scattergl"
           }
          ],
          "scattermapbox": [
           {
            "marker": {
             "colorbar": {
              "outlinewidth": 0,
              "ticks": ""
             }
            },
            "type": "scattermapbox"
           }
          ],
          "scatterpolar": [
           {
            "marker": {
             "colorbar": {
              "outlinewidth": 0,
              "ticks": ""
             }
            },
            "type": "scatterpolar"
           }
          ],
          "scatterpolargl": [
           {
            "marker": {
             "colorbar": {
              "outlinewidth": 0,
              "ticks": ""
             }
            },
            "type": "scatterpolargl"
           }
          ],
          "scatterternary": [
           {
            "marker": {
             "colorbar": {
              "outlinewidth": 0,
              "ticks": ""
             }
            },
            "type": "scatterternary"
           }
          ],
          "surface": [
           {
            "colorbar": {
             "outlinewidth": 0,
             "ticks": ""
            },
            "colorscale": [
             [
              0,
              "#0d0887"
             ],
             [
              0.1111111111111111,
              "#46039f"
             ],
             [
              0.2222222222222222,
              "#7201a8"
             ],
             [
              0.3333333333333333,
              "#9c179e"
             ],
             [
              0.4444444444444444,
              "#bd3786"
             ],
             [
              0.5555555555555556,
              "#d8576b"
             ],
             [
              0.6666666666666666,
              "#ed7953"
             ],
             [
              0.7777777777777778,
              "#fb9f3a"
             ],
             [
              0.8888888888888888,
              "#fdca26"
             ],
             [
              1,
              "#f0f921"
             ]
            ],
            "type": "surface"
           }
          ],
          "table": [
           {
            "cells": {
             "fill": {
              "color": "#EBF0F8"
             },
             "line": {
              "color": "white"
             }
            },
            "header": {
             "fill": {
              "color": "#C8D4E3"
             },
             "line": {
              "color": "white"
             }
            },
            "type": "table"
           }
          ]
         },
         "layout": {
          "annotationdefaults": {
           "arrowcolor": "#2a3f5f",
           "arrowhead": 0,
           "arrowwidth": 1
          },
          "autotypenumbers": "strict",
          "coloraxis": {
           "colorbar": {
            "outlinewidth": 0,
            "ticks": ""
           }
          },
          "colorscale": {
           "diverging": [
            [
             0,
             "#8e0152"
            ],
            [
             0.1,
             "#c51b7d"
            ],
            [
             0.2,
             "#de77ae"
            ],
            [
             0.3,
             "#f1b6da"
            ],
            [
             0.4,
             "#fde0ef"
            ],
            [
             0.5,
             "#f7f7f7"
            ],
            [
             0.6,
             "#e6f5d0"
            ],
            [
             0.7,
             "#b8e186"
            ],
            [
             0.8,
             "#7fbc41"
            ],
            [
             0.9,
             "#4d9221"
            ],
            [
             1,
             "#276419"
            ]
           ],
           "sequential": [
            [
             0,
             "#0d0887"
            ],
            [
             0.1111111111111111,
             "#46039f"
            ],
            [
             0.2222222222222222,
             "#7201a8"
            ],
            [
             0.3333333333333333,
             "#9c179e"
            ],
            [
             0.4444444444444444,
             "#bd3786"
            ],
            [
             0.5555555555555556,
             "#d8576b"
            ],
            [
             0.6666666666666666,
             "#ed7953"
            ],
            [
             0.7777777777777778,
             "#fb9f3a"
            ],
            [
             0.8888888888888888,
             "#fdca26"
            ],
            [
             1,
             "#f0f921"
            ]
           ],
           "sequentialminus": [
            [
             0,
             "#0d0887"
            ],
            [
             0.1111111111111111,
             "#46039f"
            ],
            [
             0.2222222222222222,
             "#7201a8"
            ],
            [
             0.3333333333333333,
             "#9c179e"
            ],
            [
             0.4444444444444444,
             "#bd3786"
            ],
            [
             0.5555555555555556,
             "#d8576b"
            ],
            [
             0.6666666666666666,
             "#ed7953"
            ],
            [
             0.7777777777777778,
             "#fb9f3a"
            ],
            [
             0.8888888888888888,
             "#fdca26"
            ],
            [
             1,
             "#f0f921"
            ]
           ]
          },
          "colorway": [
           "#636efa",
           "#EF553B",
           "#00cc96",
           "#ab63fa",
           "#FFA15A",
           "#19d3f3",
           "#FF6692",
           "#B6E880",
           "#FF97FF",
           "#FECB52"
          ],
          "font": {
           "color": "#2a3f5f"
          },
          "geo": {
           "bgcolor": "white",
           "lakecolor": "white",
           "landcolor": "#E5ECF6",
           "showlakes": true,
           "showland": true,
           "subunitcolor": "white"
          },
          "hoverlabel": {
           "align": "left"
          },
          "hovermode": "closest",
          "mapbox": {
           "style": "light"
          },
          "paper_bgcolor": "white",
          "plot_bgcolor": "#E5ECF6",
          "polar": {
           "angularaxis": {
            "gridcolor": "white",
            "linecolor": "white",
            "ticks": ""
           },
           "bgcolor": "#E5ECF6",
           "radialaxis": {
            "gridcolor": "white",
            "linecolor": "white",
            "ticks": ""
           }
          },
          "scene": {
           "xaxis": {
            "backgroundcolor": "#E5ECF6",
            "gridcolor": "white",
            "gridwidth": 2,
            "linecolor": "white",
            "showbackground": true,
            "ticks": "",
            "zerolinecolor": "white"
           },
           "yaxis": {
            "backgroundcolor": "#E5ECF6",
            "gridcolor": "white",
            "gridwidth": 2,
            "linecolor": "white",
            "showbackground": true,
            "ticks": "",
            "zerolinecolor": "white"
           },
           "zaxis": {
            "backgroundcolor": "#E5ECF6",
            "gridcolor": "white",
            "gridwidth": 2,
            "linecolor": "white",
            "showbackground": true,
            "ticks": "",
            "zerolinecolor": "white"
           }
          },
          "shapedefaults": {
           "line": {
            "color": "#2a3f5f"
           }
          },
          "ternary": {
           "aaxis": {
            "gridcolor": "white",
            "linecolor": "white",
            "ticks": ""
           },
           "baxis": {
            "gridcolor": "white",
            "linecolor": "white",
            "ticks": ""
           },
           "bgcolor": "#E5ECF6",
           "caxis": {
            "gridcolor": "white",
            "linecolor": "white",
            "ticks": ""
           }
          },
          "title": {
           "x": 0.05
          },
          "xaxis": {
           "automargin": true,
           "gridcolor": "white",
           "linecolor": "white",
           "ticks": "",
           "title": {
            "standoff": 15
           },
           "zerolinecolor": "white",
           "zerolinewidth": 2
          },
          "yaxis": {
           "automargin": true,
           "gridcolor": "white",
           "linecolor": "white",
           "ticks": "",
           "title": {
            "standoff": 15
           },
           "zerolinecolor": "white",
           "zerolinewidth": 2
          }
         }
        },
        "title": {
         "text": "Performance Metrics across Different Data Sizes"
        },
        "xaxis": {
         "title": {
          "text": "Data Size"
         }
        },
        "yaxis": {
         "title": {
          "text": "Metric Value"
         }
        }
       }
      }
     },
     "metadata": {},
     "output_type": "display_data"
    }
   ],
   "source": [
    "fig = go.Figure()\n",
    "fig.add_trace(go.Scatter(x=learning_curve_results_gmcm[\"Data Size\"], y=learning_curve_results_gmcm[\"Accuracy\"], mode='lines+markers', name='Accuracy'))\n",
    "fig.add_trace(go.Scatter(x=learning_curve_results_gmcm[\"Data Size\"], y=learning_curve_results_gmcm[\"Precision\"], mode='lines+markers', name='Precision'))\n",
    "fig.add_trace(go.Scatter(x=learning_curve_results_gmcm[\"Data Size\"], y=learning_curve_results_gmcm[\"Recall\"], mode='lines+markers', name='Recall'))\n",
    "fig.add_trace(go.Scatter(x=learning_curve_results_gmcm[\"Data Size\"], y=learning_curve_results_gmcm[\"F1 Score\"], mode='lines+markers', name='F1 Score'))\n",
    "fig.add_trace(go.Scatter(x=learning_curve_results_gmcm[\"Data Size\"], y=learning_curve_results_gmcm[\"Gini Score\"], mode='lines+markers', name='Gini Score'))\n",
    "\n",
    "\n",
    "# Update plot layout\n",
    "fig.update_layout(title='Performance Metrics across Different Data Sizes',\n",
    "                  xaxis_title='Data Size',\n",
    "                  yaxis_title='Metric Value',\n",
    "                  legend_title='Metrics')\n",
    "\n",
    "# Show plot\n",
    "fig.show()"
   ]
  },
  {
   "cell_type": "markdown",
   "metadata": {},
   "source": [
    "## SDV Learning Curve"
   ]
  },
  {
   "cell_type": "code",
   "execution_count": 186,
   "metadata": {},
   "outputs": [],
   "source": [
    "data_size_vary_sdv = {}\n",
    "for i in range(6):\n",
    "    metadata1 = SingleTableMetadata()\n",
    "    data = fetal_data\n",
    "    metadata1.detect_from_dataframe(data = data)\n",
    "    synthesier = GaussianCopulaSynthesizer(metadata1)\n",
    "    synthesier.fit(data)\n",
    "    synthetic_data = synthesier.sample(num_rows = (i+1)*1000)  #keep the number of rows equal to the data hold\n",
    "    data_size_vary_sdv[str((i+1)*1000) + \"rows data\"] = synthetic_data\n"
   ]
  },
  {
   "cell_type": "code",
   "execution_count": 187,
   "metadata": {},
   "outputs": [
    {
     "data": {
      "text/html": [
       "<div>\n",
       "<style scoped>\n",
       "    .dataframe tbody tr th:only-of-type {\n",
       "        vertical-align: middle;\n",
       "    }\n",
       "\n",
       "    .dataframe tbody tr th {\n",
       "        vertical-align: top;\n",
       "    }\n",
       "\n",
       "    .dataframe thead th {\n",
       "        text-align: right;\n",
       "    }\n",
       "</style>\n",
       "<table border=\"1\" class=\"dataframe\">\n",
       "  <thead>\n",
       "    <tr style=\"text-align: right;\">\n",
       "      <th></th>\n",
       "      <th>Data Size</th>\n",
       "      <th>Accuracy</th>\n",
       "      <th>Precision</th>\n",
       "      <th>Recall</th>\n",
       "      <th>F1 Score</th>\n",
       "      <th>Gini Score</th>\n",
       "    </tr>\n",
       "  </thead>\n",
       "  <tbody>\n",
       "    <tr>\n",
       "      <th>0</th>\n",
       "      <td>1000rows data</td>\n",
       "      <td>0.082785</td>\n",
       "      <td>0.006985</td>\n",
       "      <td>0.082785</td>\n",
       "      <td>0.012882</td>\n",
       "      <td>0.318673</td>\n",
       "    </tr>\n",
       "    <tr>\n",
       "      <th>1</th>\n",
       "      <td>2000rows data</td>\n",
       "      <td>0.082785</td>\n",
       "      <td>0.006886</td>\n",
       "      <td>0.082785</td>\n",
       "      <td>0.012714</td>\n",
       "      <td>0.346775</td>\n",
       "    </tr>\n",
       "    <tr>\n",
       "      <th>2</th>\n",
       "      <td>3000rows data</td>\n",
       "      <td>0.082785</td>\n",
       "      <td>0.006879</td>\n",
       "      <td>0.082785</td>\n",
       "      <td>0.012703</td>\n",
       "      <td>0.509797</td>\n",
       "    </tr>\n",
       "    <tr>\n",
       "      <th>3</th>\n",
       "      <td>4000rows data</td>\n",
       "      <td>0.082785</td>\n",
       "      <td>0.006879</td>\n",
       "      <td>0.082785</td>\n",
       "      <td>0.012703</td>\n",
       "      <td>0.238639</td>\n",
       "    </tr>\n",
       "    <tr>\n",
       "      <th>4</th>\n",
       "      <td>5000rows data</td>\n",
       "      <td>0.083255</td>\n",
       "      <td>0.785544</td>\n",
       "      <td>0.083255</td>\n",
       "      <td>0.013996</td>\n",
       "      <td>0.607726</td>\n",
       "    </tr>\n",
       "    <tr>\n",
       "      <th>5</th>\n",
       "      <td>6000rows data</td>\n",
       "      <td>0.083255</td>\n",
       "      <td>0.785439</td>\n",
       "      <td>0.083255</td>\n",
       "      <td>0.013817</td>\n",
       "      <td>0.581032</td>\n",
       "    </tr>\n",
       "  </tbody>\n",
       "</table>\n",
       "</div>"
      ],
      "text/plain": [
       "       Data Size  Accuracy  Precision    Recall  F1 Score  Gini Score\n",
       "0  1000rows data  0.082785   0.006985  0.082785  0.012882    0.318673\n",
       "1  2000rows data  0.082785   0.006886  0.082785  0.012714    0.346775\n",
       "2  3000rows data  0.082785   0.006879  0.082785  0.012703    0.509797\n",
       "3  4000rows data  0.082785   0.006879  0.082785  0.012703    0.238639\n",
       "4  5000rows data  0.083255   0.785544  0.083255  0.013996    0.607726\n",
       "5  6000rows data  0.083255   0.785439  0.083255  0.013817    0.581032"
      ]
     },
     "execution_count": 187,
     "metadata": {},
     "output_type": "execute_result"
    }
   ],
   "source": [
    "import pandas as pd\n",
    "from sklearn.model_selection import train_test_split, GridSearchCV\n",
    "from sklearn.ensemble import RandomForestRegressor\n",
    "from sklearn.metrics import mean_absolute_error, mean_squared_error, r2_score\n",
    "import numpy as np\n",
    "from sklearn.preprocessing import OneHotEncoder\n",
    "from sklearn.preprocessing import MinMaxScaler\n",
    "from sklearn.metrics import accuracy_score, precision_score, recall_score, f1_score, roc_auc_score\n",
    "from sklearn.preprocessing import label_binarize\n",
    "from sklearn.utils.multiclass import type_of_target\n",
    "\n",
    "def calculate_classification_metrics(y_test, y_pred, y_score=None):\n",
    "    accuracy = accuracy_score(y_test, y_pred)\n",
    "    precision = precision_score(y_test, y_pred, average='weighted')\n",
    "    recall = recall_score(y_test, y_pred, average='weighted')\n",
    "    f1 = f1_score(y_test, y_pred, average='weighted')\n",
    "    \n",
    "    # Check if y_test is binary or multi-class\n",
    "    target_type = type_of_target(y_test)\n",
    "    \n",
    "    if target_type == 'binary':\n",
    "        # For binary classification, use y_pred\n",
    "        auc = roc_auc_score(y_test, y_score)  # y_score is the predicted probabilities\n",
    "    elif target_type == 'multiclass':\n",
    "        # For multi-class, use one-vs-rest or one-vs-one\n",
    "        y_test_binarized = label_binarize(np.array(y_test), classes=np.unique(y_test))\n",
    "        auc = roc_auc_score(y_test_binarized, y_score, multi_class='ovr', average='weighted')\n",
    "    else:\n",
    "        raise ValueError(\"y_test must be binary or multiclass\")\n",
    "\n",
    "    gini = 2 * auc - 1\n",
    "\n",
    "    return {\n",
    "        \"Accuracy\": accuracy,\n",
    "        \"Precision\": precision,\n",
    "        \"Recall\": recall,\n",
    "        \"F1 Score\": f1,\n",
    "        \"Gini Score\": gini\n",
    "    }\n",
    "\n",
    "# Loading real data\n",
    "real_data = fetal_data\n",
    "\n",
    "# Extract target column and input columns from real data\n",
    "target_column = 'fetal_health'\n",
    "input_columns = real_data.drop(columns=[target_column]).columns.tolist()\n",
    "\n",
    "\n",
    "# Function for learning curve evaluation\n",
    "def learning_curve_evaluation(data_sizes, real_data, target_column, input_columns):\n",
    "    performance_metrics = []\n",
    "\n",
    "    for size, synthetic_data in data_sizes.items():\n",
    "        # Preprocessing\n",
    "        X_synthetic = synthetic_data[input_columns].copy()\n",
    "        y_synthetic = synthetic_data[target_column]\n",
    "        X_real = real_data[input_columns].copy()\n",
    "        y_real = real_data[target_column]\n",
    "\n",
    "        scaler = MinMaxScaler()\n",
    "        numeric_columns = X_synthetic.select_dtypes(include=np.number).columns.tolist()\n",
    "        X_synthetic[numeric_columns] = scaler.fit_transform(X_synthetic[numeric_columns])\n",
    "        X_real[numeric_columns] = scaler.transform(X_real[numeric_columns])\n",
    "\n",
    "        # Train-test split for synthetic data\n",
    "        X_train, X_val, y_train, y_val = train_test_split(X_synthetic, y_synthetic, test_size=0.1, random_state=42)\n",
    "\n",
    "        # Model training and hyperparameter tuning\n",
    "        gb = GradientBoostingClassifier(random_state=1)\n",
    "        param_dist = {\n",
    "            'n_estimators': np.arange(50, 151, 10),\n",
    "            'learning_rate': [0.01, 0.1, 0.2],\n",
    "            'max_depth': [3, 4, 5],\n",
    "            'min_samples_split': [2, 3, 4],\n",
    "            'min_samples_leaf': [1, 2, 3]\n",
    "        }\n",
    "        random_search = RandomizedSearchCV(gb, param_distributions=param_dist, n_iter=10, cv=5, scoring='accuracy', random_state=123)\n",
    "        random_search.fit(X_train, y_train)\n",
    "\n",
    "        # Best model\n",
    "        gbc_cv = random_search.best_estimator_\n",
    "        y_pred_gbc_cv = gbc_cv.predict(X_real)\n",
    "        y_score_gbc_cv = gbc_cv.predict_proba(X_real)  # Probability estimates\n",
    "\n",
    "        metrics = calculate_classification_metrics(y_real, y_pred_gbc_cv, y_score_gbc_cv)\n",
    "        performance_metrics.append({'Data Size': size, **metrics})\n",
    "\n",
    "    return pd.DataFrame(performance_metrics)\n",
    "\n",
    "# Running the evaluation\n",
    "learning_curve_results_sdv = learning_curve_evaluation(data_size_vary_sdv, real_data, target_column, input_columns)\n",
    "learning_curve_results_sdv"
   ]
  },
  {
   "cell_type": "code",
   "execution_count": 190,
   "metadata": {},
   "outputs": [],
   "source": [
    "data_size_vary_sdv['1000rows data'].to_csv(\"1000_rows_feta_syn_sdv.csv\", index = False)\n",
    "\n",
    "data_size_vary_sdv['2000rows data'].to_csv(\"2000_rows_feta_syn_sdv.csv\", index = False)\n",
    "\n",
    "data_size_vary_sdv['3000rows data'].to_csv(\"3000_rows_feta_syn_sdv.csv\", index = False)\n",
    "\n",
    "data_size_vary_sdv['4000rows data'].to_csv(\"4000_rows_feta_syn_sdv.csv\", index = False)\n",
    "\n",
    "data_size_vary_sdv['5000rows data'].to_csv(\"5000_rows_feta_syn_sdv.csv\", index = False)\n",
    "\n",
    "data_size_vary_sdv['6000rows data'].to_csv(\"6000_rows_feta_syn_sdv.csv\", index = False)"
   ]
  },
  {
   "cell_type": "code",
   "execution_count": 191,
   "metadata": {},
   "outputs": [
    {
     "data": {
      "application/vnd.plotly.v1+json": {
       "config": {
        "plotlyServerURL": "https://plot.ly"
       },
       "data": [
        {
         "mode": "lines+markers",
         "name": "Accuracy",
         "type": "scatter",
         "x": [
          "1000rows data",
          "2000rows data",
          "3000rows data",
          "4000rows data",
          "5000rows data",
          "6000rows data"
         ],
         "y": [
          0.08278457196613359,
          0.08278457196613359,
          0.08278457196613359,
          0.08278457196613359,
          0.0832549388523048,
          0.0832549388523048
         ]
        },
        {
         "mode": "lines+markers",
         "name": "Precision",
         "type": "scatter",
         "x": [
          "1000rows data",
          "2000rows data",
          "3000rows data",
          "4000rows data",
          "5000rows data",
          "6000rows data"
         ],
         "y": [
          0.006984700223412996,
          0.006885673282627369,
          0.006879171230424698,
          0.006879171230424698,
          0.7855438136688251,
          0.7854385500709721
         ]
        },
        {
         "mode": "lines+markers",
         "name": "Recall",
         "type": "scatter",
         "x": [
          "1000rows data",
          "2000rows data",
          "3000rows data",
          "4000rows data",
          "5000rows data",
          "6000rows data"
         ],
         "y": [
          0.08278457196613359,
          0.08278457196613359,
          0.08278457196613359,
          0.08278457196613359,
          0.0832549388523048,
          0.0832549388523048
         ]
        },
        {
         "mode": "lines+markers",
         "name": "F1 Score",
         "type": "scatter",
         "x": [
          "1000rows data",
          "2000rows data",
          "3000rows data",
          "4000rows data",
          "5000rows data",
          "6000rows data"
         ],
         "y": [
          0.01288247981082185,
          0.012713860965130466,
          0.012702776517907159,
          0.012702776517907159,
          0.013995797117575303,
          0.01381695285153171
         ]
        },
        {
         "mode": "lines+markers",
         "name": "Gini Score",
         "type": "scatter",
         "x": [
          "1000rows data",
          "2000rows data",
          "3000rows data",
          "4000rows data",
          "5000rows data",
          "6000rows data"
         ],
         "y": [
          0.3186734446402668,
          0.3467752469621548,
          0.5097965357777277,
          0.2386390774925744,
          0.6077257955009672,
          0.5810315281207263
         ]
        }
       ],
       "layout": {
        "legend": {
         "title": {
          "text": "Metrics"
         }
        },
        "template": {
         "data": {
          "bar": [
           {
            "error_x": {
             "color": "#2a3f5f"
            },
            "error_y": {
             "color": "#2a3f5f"
            },
            "marker": {
             "line": {
              "color": "#E5ECF6",
              "width": 0.5
             },
             "pattern": {
              "fillmode": "overlay",
              "size": 10,
              "solidity": 0.2
             }
            },
            "type": "bar"
           }
          ],
          "barpolar": [
           {
            "marker": {
             "line": {
              "color": "#E5ECF6",
              "width": 0.5
             },
             "pattern": {
              "fillmode": "overlay",
              "size": 10,
              "solidity": 0.2
             }
            },
            "type": "barpolar"
           }
          ],
          "carpet": [
           {
            "aaxis": {
             "endlinecolor": "#2a3f5f",
             "gridcolor": "white",
             "linecolor": "white",
             "minorgridcolor": "white",
             "startlinecolor": "#2a3f5f"
            },
            "baxis": {
             "endlinecolor": "#2a3f5f",
             "gridcolor": "white",
             "linecolor": "white",
             "minorgridcolor": "white",
             "startlinecolor": "#2a3f5f"
            },
            "type": "carpet"
           }
          ],
          "choropleth": [
           {
            "colorbar": {
             "outlinewidth": 0,
             "ticks": ""
            },
            "type": "choropleth"
           }
          ],
          "contour": [
           {
            "colorbar": {
             "outlinewidth": 0,
             "ticks": ""
            },
            "colorscale": [
             [
              0,
              "#0d0887"
             ],
             [
              0.1111111111111111,
              "#46039f"
             ],
             [
              0.2222222222222222,
              "#7201a8"
             ],
             [
              0.3333333333333333,
              "#9c179e"
             ],
             [
              0.4444444444444444,
              "#bd3786"
             ],
             [
              0.5555555555555556,
              "#d8576b"
             ],
             [
              0.6666666666666666,
              "#ed7953"
             ],
             [
              0.7777777777777778,
              "#fb9f3a"
             ],
             [
              0.8888888888888888,
              "#fdca26"
             ],
             [
              1,
              "#f0f921"
             ]
            ],
            "type": "contour"
           }
          ],
          "contourcarpet": [
           {
            "colorbar": {
             "outlinewidth": 0,
             "ticks": ""
            },
            "type": "contourcarpet"
           }
          ],
          "heatmap": [
           {
            "colorbar": {
             "outlinewidth": 0,
             "ticks": ""
            },
            "colorscale": [
             [
              0,
              "#0d0887"
             ],
             [
              0.1111111111111111,
              "#46039f"
             ],
             [
              0.2222222222222222,
              "#7201a8"
             ],
             [
              0.3333333333333333,
              "#9c179e"
             ],
             [
              0.4444444444444444,
              "#bd3786"
             ],
             [
              0.5555555555555556,
              "#d8576b"
             ],
             [
              0.6666666666666666,
              "#ed7953"
             ],
             [
              0.7777777777777778,
              "#fb9f3a"
             ],
             [
              0.8888888888888888,
              "#fdca26"
             ],
             [
              1,
              "#f0f921"
             ]
            ],
            "type": "heatmap"
           }
          ],
          "heatmapgl": [
           {
            "colorbar": {
             "outlinewidth": 0,
             "ticks": ""
            },
            "colorscale": [
             [
              0,
              "#0d0887"
             ],
             [
              0.1111111111111111,
              "#46039f"
             ],
             [
              0.2222222222222222,
              "#7201a8"
             ],
             [
              0.3333333333333333,
              "#9c179e"
             ],
             [
              0.4444444444444444,
              "#bd3786"
             ],
             [
              0.5555555555555556,
              "#d8576b"
             ],
             [
              0.6666666666666666,
              "#ed7953"
             ],
             [
              0.7777777777777778,
              "#fb9f3a"
             ],
             [
              0.8888888888888888,
              "#fdca26"
             ],
             [
              1,
              "#f0f921"
             ]
            ],
            "type": "heatmapgl"
           }
          ],
          "histogram": [
           {
            "marker": {
             "pattern": {
              "fillmode": "overlay",
              "size": 10,
              "solidity": 0.2
             }
            },
            "type": "histogram"
           }
          ],
          "histogram2d": [
           {
            "colorbar": {
             "outlinewidth": 0,
             "ticks": ""
            },
            "colorscale": [
             [
              0,
              "#0d0887"
             ],
             [
              0.1111111111111111,
              "#46039f"
             ],
             [
              0.2222222222222222,
              "#7201a8"
             ],
             [
              0.3333333333333333,
              "#9c179e"
             ],
             [
              0.4444444444444444,
              "#bd3786"
             ],
             [
              0.5555555555555556,
              "#d8576b"
             ],
             [
              0.6666666666666666,
              "#ed7953"
             ],
             [
              0.7777777777777778,
              "#fb9f3a"
             ],
             [
              0.8888888888888888,
              "#fdca26"
             ],
             [
              1,
              "#f0f921"
             ]
            ],
            "type": "histogram2d"
           }
          ],
          "histogram2dcontour": [
           {
            "colorbar": {
             "outlinewidth": 0,
             "ticks": ""
            },
            "colorscale": [
             [
              0,
              "#0d0887"
             ],
             [
              0.1111111111111111,
              "#46039f"
             ],
             [
              0.2222222222222222,
              "#7201a8"
             ],
             [
              0.3333333333333333,
              "#9c179e"
             ],
             [
              0.4444444444444444,
              "#bd3786"
             ],
             [
              0.5555555555555556,
              "#d8576b"
             ],
             [
              0.6666666666666666,
              "#ed7953"
             ],
             [
              0.7777777777777778,
              "#fb9f3a"
             ],
             [
              0.8888888888888888,
              "#fdca26"
             ],
             [
              1,
              "#f0f921"
             ]
            ],
            "type": "histogram2dcontour"
           }
          ],
          "mesh3d": [
           {
            "colorbar": {
             "outlinewidth": 0,
             "ticks": ""
            },
            "type": "mesh3d"
           }
          ],
          "parcoords": [
           {
            "line": {
             "colorbar": {
              "outlinewidth": 0,
              "ticks": ""
             }
            },
            "type": "parcoords"
           }
          ],
          "pie": [
           {
            "automargin": true,
            "type": "pie"
           }
          ],
          "scatter": [
           {
            "fillpattern": {
             "fillmode": "overlay",
             "size": 10,
             "solidity": 0.2
            },
            "type": "scatter"
           }
          ],
          "scatter3d": [
           {
            "line": {
             "colorbar": {
              "outlinewidth": 0,
              "ticks": ""
             }
            },
            "marker": {
             "colorbar": {
              "outlinewidth": 0,
              "ticks": ""
             }
            },
            "type": "scatter3d"
           }
          ],
          "scattercarpet": [
           {
            "marker": {
             "colorbar": {
              "outlinewidth": 0,
              "ticks": ""
             }
            },
            "type": "scattercarpet"
           }
          ],
          "scattergeo": [
           {
            "marker": {
             "colorbar": {
              "outlinewidth": 0,
              "ticks": ""
             }
            },
            "type": "scattergeo"
           }
          ],
          "scattergl": [
           {
            "marker": {
             "colorbar": {
              "outlinewidth": 0,
              "ticks": ""
             }
            },
            "type": "scattergl"
           }
          ],
          "scattermapbox": [
           {
            "marker": {
             "colorbar": {
              "outlinewidth": 0,
              "ticks": ""
             }
            },
            "type": "scattermapbox"
           }
          ],
          "scatterpolar": [
           {
            "marker": {
             "colorbar": {
              "outlinewidth": 0,
              "ticks": ""
             }
            },
            "type": "scatterpolar"
           }
          ],
          "scatterpolargl": [
           {
            "marker": {
             "colorbar": {
              "outlinewidth": 0,
              "ticks": ""
             }
            },
            "type": "scatterpolargl"
           }
          ],
          "scatterternary": [
           {
            "marker": {
             "colorbar": {
              "outlinewidth": 0,
              "ticks": ""
             }
            },
            "type": "scatterternary"
           }
          ],
          "surface": [
           {
            "colorbar": {
             "outlinewidth": 0,
             "ticks": ""
            },
            "colorscale": [
             [
              0,
              "#0d0887"
             ],
             [
              0.1111111111111111,
              "#46039f"
             ],
             [
              0.2222222222222222,
              "#7201a8"
             ],
             [
              0.3333333333333333,
              "#9c179e"
             ],
             [
              0.4444444444444444,
              "#bd3786"
             ],
             [
              0.5555555555555556,
              "#d8576b"
             ],
             [
              0.6666666666666666,
              "#ed7953"
             ],
             [
              0.7777777777777778,
              "#fb9f3a"
             ],
             [
              0.8888888888888888,
              "#fdca26"
             ],
             [
              1,
              "#f0f921"
             ]
            ],
            "type": "surface"
           }
          ],
          "table": [
           {
            "cells": {
             "fill": {
              "color": "#EBF0F8"
             },
             "line": {
              "color": "white"
             }
            },
            "header": {
             "fill": {
              "color": "#C8D4E3"
             },
             "line": {
              "color": "white"
             }
            },
            "type": "table"
           }
          ]
         },
         "layout": {
          "annotationdefaults": {
           "arrowcolor": "#2a3f5f",
           "arrowhead": 0,
           "arrowwidth": 1
          },
          "autotypenumbers": "strict",
          "coloraxis": {
           "colorbar": {
            "outlinewidth": 0,
            "ticks": ""
           }
          },
          "colorscale": {
           "diverging": [
            [
             0,
             "#8e0152"
            ],
            [
             0.1,
             "#c51b7d"
            ],
            [
             0.2,
             "#de77ae"
            ],
            [
             0.3,
             "#f1b6da"
            ],
            [
             0.4,
             "#fde0ef"
            ],
            [
             0.5,
             "#f7f7f7"
            ],
            [
             0.6,
             "#e6f5d0"
            ],
            [
             0.7,
             "#b8e186"
            ],
            [
             0.8,
             "#7fbc41"
            ],
            [
             0.9,
             "#4d9221"
            ],
            [
             1,
             "#276419"
            ]
           ],
           "sequential": [
            [
             0,
             "#0d0887"
            ],
            [
             0.1111111111111111,
             "#46039f"
            ],
            [
             0.2222222222222222,
             "#7201a8"
            ],
            [
             0.3333333333333333,
             "#9c179e"
            ],
            [
             0.4444444444444444,
             "#bd3786"
            ],
            [
             0.5555555555555556,
             "#d8576b"
            ],
            [
             0.6666666666666666,
             "#ed7953"
            ],
            [
             0.7777777777777778,
             "#fb9f3a"
            ],
            [
             0.8888888888888888,
             "#fdca26"
            ],
            [
             1,
             "#f0f921"
            ]
           ],
           "sequentialminus": [
            [
             0,
             "#0d0887"
            ],
            [
             0.1111111111111111,
             "#46039f"
            ],
            [
             0.2222222222222222,
             "#7201a8"
            ],
            [
             0.3333333333333333,
             "#9c179e"
            ],
            [
             0.4444444444444444,
             "#bd3786"
            ],
            [
             0.5555555555555556,
             "#d8576b"
            ],
            [
             0.6666666666666666,
             "#ed7953"
            ],
            [
             0.7777777777777778,
             "#fb9f3a"
            ],
            [
             0.8888888888888888,
             "#fdca26"
            ],
            [
             1,
             "#f0f921"
            ]
           ]
          },
          "colorway": [
           "#636efa",
           "#EF553B",
           "#00cc96",
           "#ab63fa",
           "#FFA15A",
           "#19d3f3",
           "#FF6692",
           "#B6E880",
           "#FF97FF",
           "#FECB52"
          ],
          "font": {
           "color": "#2a3f5f"
          },
          "geo": {
           "bgcolor": "white",
           "lakecolor": "white",
           "landcolor": "#E5ECF6",
           "showlakes": true,
           "showland": true,
           "subunitcolor": "white"
          },
          "hoverlabel": {
           "align": "left"
          },
          "hovermode": "closest",
          "mapbox": {
           "style": "light"
          },
          "paper_bgcolor": "white",
          "plot_bgcolor": "#E5ECF6",
          "polar": {
           "angularaxis": {
            "gridcolor": "white",
            "linecolor": "white",
            "ticks": ""
           },
           "bgcolor": "#E5ECF6",
           "radialaxis": {
            "gridcolor": "white",
            "linecolor": "white",
            "ticks": ""
           }
          },
          "scene": {
           "xaxis": {
            "backgroundcolor": "#E5ECF6",
            "gridcolor": "white",
            "gridwidth": 2,
            "linecolor": "white",
            "showbackground": true,
            "ticks": "",
            "zerolinecolor": "white"
           },
           "yaxis": {
            "backgroundcolor": "#E5ECF6",
            "gridcolor": "white",
            "gridwidth": 2,
            "linecolor": "white",
            "showbackground": true,
            "ticks": "",
            "zerolinecolor": "white"
           },
           "zaxis": {
            "backgroundcolor": "#E5ECF6",
            "gridcolor": "white",
            "gridwidth": 2,
            "linecolor": "white",
            "showbackground": true,
            "ticks": "",
            "zerolinecolor": "white"
           }
          },
          "shapedefaults": {
           "line": {
            "color": "#2a3f5f"
           }
          },
          "ternary": {
           "aaxis": {
            "gridcolor": "white",
            "linecolor": "white",
            "ticks": ""
           },
           "baxis": {
            "gridcolor": "white",
            "linecolor": "white",
            "ticks": ""
           },
           "bgcolor": "#E5ECF6",
           "caxis": {
            "gridcolor": "white",
            "linecolor": "white",
            "ticks": ""
           }
          },
          "title": {
           "x": 0.05
          },
          "xaxis": {
           "automargin": true,
           "gridcolor": "white",
           "linecolor": "white",
           "ticks": "",
           "title": {
            "standoff": 15
           },
           "zerolinecolor": "white",
           "zerolinewidth": 2
          },
          "yaxis": {
           "automargin": true,
           "gridcolor": "white",
           "linecolor": "white",
           "ticks": "",
           "title": {
            "standoff": 15
           },
           "zerolinecolor": "white",
           "zerolinewidth": 2
          }
         }
        },
        "title": {
         "text": "Performance Metrics across Different Data Sizes"
        },
        "xaxis": {
         "title": {
          "text": "Data Size"
         }
        },
        "yaxis": {
         "title": {
          "text": "Metric Value"
         }
        }
       }
      }
     },
     "metadata": {},
     "output_type": "display_data"
    }
   ],
   "source": [
    "fig = go.Figure()\n",
    "fig.add_trace(go.Scatter(x=learning_curve_results_sdv[\"Data Size\"], y=learning_curve_results_sdv[\"Accuracy\"], mode='lines+markers', name='Accuracy'))\n",
    "fig.add_trace(go.Scatter(x=learning_curve_results_sdv[\"Data Size\"], y=learning_curve_results_sdv[\"Precision\"], mode='lines+markers', name='Precision'))\n",
    "fig.add_trace(go.Scatter(x=learning_curve_results_sdv[\"Data Size\"], y=learning_curve_results_sdv[\"Recall\"], mode='lines+markers', name='Recall'))\n",
    "fig.add_trace(go.Scatter(x=learning_curve_results_sdv[\"Data Size\"], y=learning_curve_results_sdv[\"F1 Score\"], mode='lines+markers', name='F1 Score'))\n",
    "fig.add_trace(go.Scatter(x=learning_curve_results_sdv[\"Data Size\"], y=learning_curve_results_sdv[\"Gini Score\"], mode='lines+markers', name='Gini Score'))\n",
    "\n",
    "\n",
    "# Update plot layout\n",
    "fig.update_layout(title='Performance Metrics across Different Data Sizes',\n",
    "                  xaxis_title='Data Size',\n",
    "                  yaxis_title='Metric Value',\n",
    "                  legend_title='Metrics')\n",
    "\n",
    "# Show plot\n",
    "fig.show()"
   ]
  },
  {
   "cell_type": "markdown",
   "metadata": {},
   "source": [
    "## Ydata Learning Curve"
   ]
  },
  {
   "cell_type": "code",
   "execution_count": 4,
   "metadata": {},
   "outputs": [],
   "source": [
    "fetal_data = pd.read_csv(\"fetal_health.csv\")\n",
    "fetal_1000 = pd.read_csv(\"fetal_health_1000_ydata.csv\")\n",
    "fetal_2000 = pd.read_csv(\"fetal_health_2000_ydata.csv\")\n",
    "fetal_3000 = pd.read_csv(\"fetal_health_3000_ydata.csv\")\n",
    "fetal_4000 = pd.read_csv(\"fetal_health_4000_ydata.csv\")\n",
    "fetal_5000 = pd.read_csv(\"fetal_health_5000_ydata.csv\")\n",
    "fetal_6000 = pd.read_csv(\"fetal_health_6000_ydata.csv\")\n",
    "\n",
    "appen_list = [fetal_1000,fetal_2000,fetal_3000,fetal_4000,fetal_5000,fetal_6000]"
   ]
  },
  {
   "cell_type": "code",
   "execution_count": 5,
   "metadata": {},
   "outputs": [],
   "source": [
    "data_size_vary_y_data = {}\n",
    "for i in range(6):\n",
    "    data_size_vary_y_data[str((i+1)*1000) + \"rows data\"] = appen_list[i]"
   ]
  },
  {
   "cell_type": "code",
   "execution_count": 6,
   "metadata": {},
   "outputs": [
    {
     "data": {
      "text/html": [
       "<div>\n",
       "<style scoped>\n",
       "    .dataframe tbody tr th:only-of-type {\n",
       "        vertical-align: middle;\n",
       "    }\n",
       "\n",
       "    .dataframe tbody tr th {\n",
       "        vertical-align: top;\n",
       "    }\n",
       "\n",
       "    .dataframe thead th {\n",
       "        text-align: right;\n",
       "    }\n",
       "</style>\n",
       "<table border=\"1\" class=\"dataframe\">\n",
       "  <thead>\n",
       "    <tr style=\"text-align: right;\">\n",
       "      <th></th>\n",
       "      <th>Data Size</th>\n",
       "      <th>Accuracy</th>\n",
       "      <th>Precision</th>\n",
       "      <th>Recall</th>\n",
       "      <th>F1 Score</th>\n",
       "      <th>Gini Score</th>\n",
       "    </tr>\n",
       "  </thead>\n",
       "  <tbody>\n",
       "    <tr>\n",
       "      <th>0</th>\n",
       "      <td>1000rows data</td>\n",
       "      <td>0.930856</td>\n",
       "      <td>0.928733</td>\n",
       "      <td>0.930856</td>\n",
       "      <td>0.928864</td>\n",
       "      <td>0.947842</td>\n",
       "    </tr>\n",
       "    <tr>\n",
       "      <th>1</th>\n",
       "      <td>2000rows data</td>\n",
       "      <td>0.936030</td>\n",
       "      <td>0.933997</td>\n",
       "      <td>0.936030</td>\n",
       "      <td>0.934012</td>\n",
       "      <td>0.961086</td>\n",
       "    </tr>\n",
       "    <tr>\n",
       "      <th>2</th>\n",
       "      <td>3000rows data</td>\n",
       "      <td>0.939793</td>\n",
       "      <td>0.938986</td>\n",
       "      <td>0.939793</td>\n",
       "      <td>0.939167</td>\n",
       "      <td>0.965695</td>\n",
       "    </tr>\n",
       "    <tr>\n",
       "      <th>3</th>\n",
       "      <td>4000rows data</td>\n",
       "      <td>0.947319</td>\n",
       "      <td>0.946281</td>\n",
       "      <td>0.947319</td>\n",
       "      <td>0.946580</td>\n",
       "      <td>0.970808</td>\n",
       "    </tr>\n",
       "    <tr>\n",
       "      <th>4</th>\n",
       "      <td>5000rows data</td>\n",
       "      <td>0.945908</td>\n",
       "      <td>0.944728</td>\n",
       "      <td>0.945908</td>\n",
       "      <td>0.944991</td>\n",
       "      <td>0.966879</td>\n",
       "    </tr>\n",
       "    <tr>\n",
       "      <th>5</th>\n",
       "      <td>6000rows data</td>\n",
       "      <td>0.953434</td>\n",
       "      <td>0.952448</td>\n",
       "      <td>0.953434</td>\n",
       "      <td>0.952678</td>\n",
       "      <td>0.974731</td>\n",
       "    </tr>\n",
       "  </tbody>\n",
       "</table>\n",
       "</div>"
      ],
      "text/plain": [
       "       Data Size  Accuracy  Precision    Recall  F1 Score  Gini Score\n",
       "0  1000rows data  0.930856   0.928733  0.930856  0.928864    0.947842\n",
       "1  2000rows data  0.936030   0.933997  0.936030  0.934012    0.961086\n",
       "2  3000rows data  0.939793   0.938986  0.939793  0.939167    0.965695\n",
       "3  4000rows data  0.947319   0.946281  0.947319  0.946580    0.970808\n",
       "4  5000rows data  0.945908   0.944728  0.945908  0.944991    0.966879\n",
       "5  6000rows data  0.953434   0.952448  0.953434  0.952678    0.974731"
      ]
     },
     "execution_count": 6,
     "metadata": {},
     "output_type": "execute_result"
    }
   ],
   "source": [
    "import pandas as pd\n",
    "from sklearn.model_selection import train_test_split, GridSearchCV\n",
    "from sklearn.ensemble import RandomForestRegressor\n",
    "from sklearn.metrics import mean_absolute_error, mean_squared_error, r2_score\n",
    "import numpy as np\n",
    "from sklearn.preprocessing import OneHotEncoder\n",
    "from sklearn.preprocessing import MinMaxScaler\n",
    "from sklearn.metrics import accuracy_score, precision_score, recall_score, f1_score, roc_auc_score\n",
    "from sklearn.preprocessing import label_binarize\n",
    "from sklearn.utils.multiclass import type_of_target\n",
    "\n",
    "def calculate_classification_metrics(y_test, y_pred, y_score=None):\n",
    "    accuracy = accuracy_score(y_test, y_pred)\n",
    "    precision = precision_score(y_test, y_pred, average='weighted')\n",
    "    recall = recall_score(y_test, y_pred, average='weighted')\n",
    "    f1 = f1_score(y_test, y_pred, average='weighted')\n",
    "    \n",
    "    # Check if y_test is binary or multi-class\n",
    "    target_type = type_of_target(y_test)\n",
    "    \n",
    "    if target_type == 'binary':\n",
    "        # For binary classification, use y_pred\n",
    "        auc = roc_auc_score(y_test, y_score)  # y_score is the predicted probabilities\n",
    "    elif target_type == 'multiclass':\n",
    "        # For multi-class, use one-vs-rest or one-vs-one\n",
    "        y_test_binarized = label_binarize(np.array(y_test), classes=np.unique(y_test))\n",
    "        auc = roc_auc_score(y_test_binarized, y_score, multi_class='ovr', average='weighted')\n",
    "    else:\n",
    "        raise ValueError(\"y_test must be binary or multiclass\")\n",
    "\n",
    "    gini = 2 * auc - 1\n",
    "\n",
    "    return {\n",
    "        \"Accuracy\": accuracy,\n",
    "        \"Precision\": precision,\n",
    "        \"Recall\": recall,\n",
    "        \"F1 Score\": f1,\n",
    "        \"Gini Score\": gini\n",
    "    }\n",
    "\n",
    "# Loading real data\n",
    "real_data = fetal_data\n",
    "\n",
    "# Extract target column and input columns from real data\n",
    "target_column = 'fetal_health'\n",
    "input_columns = real_data.drop(columns=[target_column]).columns.tolist()\n",
    "\n",
    "\n",
    "# Function for learning curve evaluation\n",
    "def learning_curve_evaluation(data_sizes, real_data, target_column, input_columns):\n",
    "    performance_metrics = []\n",
    "\n",
    "    for size, synthetic_data in data_sizes.items():\n",
    "        # Preprocessing\n",
    "        X_synthetic = synthetic_data[input_columns].copy()\n",
    "        y_synthetic = synthetic_data[target_column]\n",
    "        X_real = real_data[input_columns].copy()\n",
    "        y_real = real_data[target_column]\n",
    "\n",
    "        scaler = MinMaxScaler()\n",
    "        numeric_columns = X_synthetic.select_dtypes(include=np.number).columns.tolist()\n",
    "        X_synthetic[numeric_columns] = scaler.fit_transform(X_synthetic[numeric_columns])\n",
    "        X_real[numeric_columns] = scaler.transform(X_real[numeric_columns])\n",
    "\n",
    "        # Train-test split for synthetic data\n",
    "        X_train, X_val, y_train, y_val = train_test_split(X_synthetic, y_synthetic, test_size=0.1, random_state=42)\n",
    "\n",
    "        # Model training and hyperparameter tuning\n",
    "        gb = GradientBoostingClassifier(random_state=1)\n",
    "        param_dist = {\n",
    "            'n_estimators': np.arange(50, 151, 10),\n",
    "            'learning_rate': [0.01, 0.1, 0.2],\n",
    "            'max_depth': [3, 4, 5],\n",
    "            'min_samples_split': [2, 3, 4],\n",
    "            'min_samples_leaf': [1, 2, 3]\n",
    "        }\n",
    "        random_search = RandomizedSearchCV(gb, param_distributions=param_dist, n_iter=10, cv=5, scoring='accuracy', random_state=123)\n",
    "        random_search.fit(X_train, y_train)\n",
    "\n",
    "        # Best model\n",
    "        gbc_cv = random_search.best_estimator_\n",
    "        y_pred_gbc_cv = gbc_cv.predict(X_real)\n",
    "        y_score_gbc_cv = gbc_cv.predict_proba(X_real)  # Probability estimates\n",
    "\n",
    "        metrics = calculate_classification_metrics(y_real, y_pred_gbc_cv, y_score_gbc_cv)\n",
    "        performance_metrics.append({'Data Size': size, **metrics})\n",
    "\n",
    "    return pd.DataFrame(performance_metrics)\n",
    "\n",
    "# Running the evaluation\n",
    "learning_curve_results_y_data = learning_curve_evaluation(data_size_vary_y_data, real_data, target_column, input_columns)\n",
    "learning_curve_results_y_data"
   ]
  },
  {
   "cell_type": "code",
   "execution_count": 7,
   "metadata": {},
   "outputs": [
    {
     "data": {
      "application/vnd.plotly.v1+json": {
       "config": {
        "plotlyServerURL": "https://plot.ly"
       },
       "data": [
        {
         "mode": "lines+markers",
         "name": "Accuracy",
         "type": "scatter",
         "x": [
          "1000rows data",
          "2000rows data",
          "3000rows data",
          "4000rows data",
          "5000rows data",
          "6000rows data"
         ],
         "y": [
          0.9308560677328316,
          0.9360301034807149,
          0.9397930385700847,
          0.9473189087488241,
          0.9459078080903104,
          0.9534336782690499
         ]
        },
        {
         "mode": "lines+markers",
         "name": "Precision",
         "type": "scatter",
         "x": [
          "1000rows data",
          "2000rows data",
          "3000rows data",
          "4000rows data",
          "5000rows data",
          "6000rows data"
         ],
         "y": [
          0.9287332210890802,
          0.9339966150996726,
          0.9389863793004627,
          0.946280888057898,
          0.944727983443472,
          0.9524478597637395
         ]
        },
        {
         "mode": "lines+markers",
         "name": "Recall",
         "type": "scatter",
         "x": [
          "1000rows data",
          "2000rows data",
          "3000rows data",
          "4000rows data",
          "5000rows data",
          "6000rows data"
         ],
         "y": [
          0.9308560677328316,
          0.9360301034807149,
          0.9397930385700847,
          0.9473189087488241,
          0.9459078080903104,
          0.9534336782690499
         ]
        },
        {
         "mode": "lines+markers",
         "name": "F1 Score",
         "type": "scatter",
         "x": [
          "1000rows data",
          "2000rows data",
          "3000rows data",
          "4000rows data",
          "5000rows data",
          "6000rows data"
         ],
         "y": [
          0.9288639749012143,
          0.9340119824682609,
          0.9391666082828681,
          0.946579618180301,
          0.9449914288903636,
          0.9526779078129323
         ]
        },
        {
         "mode": "lines+markers",
         "name": "Gini Score",
         "type": "scatter",
         "x": [
          "1000rows data",
          "2000rows data",
          "3000rows data",
          "4000rows data",
          "5000rows data",
          "6000rows data"
         ],
         "y": [
          0.9478421686513887,
          0.9610862805492362,
          0.9656947579176418,
          0.9708083483811776,
          0.9668790648395587,
          0.9747307013068605
         ]
        }
       ],
       "layout": {
        "legend": {
         "title": {
          "text": "Metrics"
         }
        },
        "template": {
         "data": {
          "bar": [
           {
            "error_x": {
             "color": "#2a3f5f"
            },
            "error_y": {
             "color": "#2a3f5f"
            },
            "marker": {
             "line": {
              "color": "#E5ECF6",
              "width": 0.5
             },
             "pattern": {
              "fillmode": "overlay",
              "size": 10,
              "solidity": 0.2
             }
            },
            "type": "bar"
           }
          ],
          "barpolar": [
           {
            "marker": {
             "line": {
              "color": "#E5ECF6",
              "width": 0.5
             },
             "pattern": {
              "fillmode": "overlay",
              "size": 10,
              "solidity": 0.2
             }
            },
            "type": "barpolar"
           }
          ],
          "carpet": [
           {
            "aaxis": {
             "endlinecolor": "#2a3f5f",
             "gridcolor": "white",
             "linecolor": "white",
             "minorgridcolor": "white",
             "startlinecolor": "#2a3f5f"
            },
            "baxis": {
             "endlinecolor": "#2a3f5f",
             "gridcolor": "white",
             "linecolor": "white",
             "minorgridcolor": "white",
             "startlinecolor": "#2a3f5f"
            },
            "type": "carpet"
           }
          ],
          "choropleth": [
           {
            "colorbar": {
             "outlinewidth": 0,
             "ticks": ""
            },
            "type": "choropleth"
           }
          ],
          "contour": [
           {
            "colorbar": {
             "outlinewidth": 0,
             "ticks": ""
            },
            "colorscale": [
             [
              0,
              "#0d0887"
             ],
             [
              0.1111111111111111,
              "#46039f"
             ],
             [
              0.2222222222222222,
              "#7201a8"
             ],
             [
              0.3333333333333333,
              "#9c179e"
             ],
             [
              0.4444444444444444,
              "#bd3786"
             ],
             [
              0.5555555555555556,
              "#d8576b"
             ],
             [
              0.6666666666666666,
              "#ed7953"
             ],
             [
              0.7777777777777778,
              "#fb9f3a"
             ],
             [
              0.8888888888888888,
              "#fdca26"
             ],
             [
              1,
              "#f0f921"
             ]
            ],
            "type": "contour"
           }
          ],
          "contourcarpet": [
           {
            "colorbar": {
             "outlinewidth": 0,
             "ticks": ""
            },
            "type": "contourcarpet"
           }
          ],
          "heatmap": [
           {
            "colorbar": {
             "outlinewidth": 0,
             "ticks": ""
            },
            "colorscale": [
             [
              0,
              "#0d0887"
             ],
             [
              0.1111111111111111,
              "#46039f"
             ],
             [
              0.2222222222222222,
              "#7201a8"
             ],
             [
              0.3333333333333333,
              "#9c179e"
             ],
             [
              0.4444444444444444,
              "#bd3786"
             ],
             [
              0.5555555555555556,
              "#d8576b"
             ],
             [
              0.6666666666666666,
              "#ed7953"
             ],
             [
              0.7777777777777778,
              "#fb9f3a"
             ],
             [
              0.8888888888888888,
              "#fdca26"
             ],
             [
              1,
              "#f0f921"
             ]
            ],
            "type": "heatmap"
           }
          ],
          "heatmapgl": [
           {
            "colorbar": {
             "outlinewidth": 0,
             "ticks": ""
            },
            "colorscale": [
             [
              0,
              "#0d0887"
             ],
             [
              0.1111111111111111,
              "#46039f"
             ],
             [
              0.2222222222222222,
              "#7201a8"
             ],
             [
              0.3333333333333333,
              "#9c179e"
             ],
             [
              0.4444444444444444,
              "#bd3786"
             ],
             [
              0.5555555555555556,
              "#d8576b"
             ],
             [
              0.6666666666666666,
              "#ed7953"
             ],
             [
              0.7777777777777778,
              "#fb9f3a"
             ],
             [
              0.8888888888888888,
              "#fdca26"
             ],
             [
              1,
              "#f0f921"
             ]
            ],
            "type": "heatmapgl"
           }
          ],
          "histogram": [
           {
            "marker": {
             "pattern": {
              "fillmode": "overlay",
              "size": 10,
              "solidity": 0.2
             }
            },
            "type": "histogram"
           }
          ],
          "histogram2d": [
           {
            "colorbar": {
             "outlinewidth": 0,
             "ticks": ""
            },
            "colorscale": [
             [
              0,
              "#0d0887"
             ],
             [
              0.1111111111111111,
              "#46039f"
             ],
             [
              0.2222222222222222,
              "#7201a8"
             ],
             [
              0.3333333333333333,
              "#9c179e"
             ],
             [
              0.4444444444444444,
              "#bd3786"
             ],
             [
              0.5555555555555556,
              "#d8576b"
             ],
             [
              0.6666666666666666,
              "#ed7953"
             ],
             [
              0.7777777777777778,
              "#fb9f3a"
             ],
             [
              0.8888888888888888,
              "#fdca26"
             ],
             [
              1,
              "#f0f921"
             ]
            ],
            "type": "histogram2d"
           }
          ],
          "histogram2dcontour": [
           {
            "colorbar": {
             "outlinewidth": 0,
             "ticks": ""
            },
            "colorscale": [
             [
              0,
              "#0d0887"
             ],
             [
              0.1111111111111111,
              "#46039f"
             ],
             [
              0.2222222222222222,
              "#7201a8"
             ],
             [
              0.3333333333333333,
              "#9c179e"
             ],
             [
              0.4444444444444444,
              "#bd3786"
             ],
             [
              0.5555555555555556,
              "#d8576b"
             ],
             [
              0.6666666666666666,
              "#ed7953"
             ],
             [
              0.7777777777777778,
              "#fb9f3a"
             ],
             [
              0.8888888888888888,
              "#fdca26"
             ],
             [
              1,
              "#f0f921"
             ]
            ],
            "type": "histogram2dcontour"
           }
          ],
          "mesh3d": [
           {
            "colorbar": {
             "outlinewidth": 0,
             "ticks": ""
            },
            "type": "mesh3d"
           }
          ],
          "parcoords": [
           {
            "line": {
             "colorbar": {
              "outlinewidth": 0,
              "ticks": ""
             }
            },
            "type": "parcoords"
           }
          ],
          "pie": [
           {
            "automargin": true,
            "type": "pie"
           }
          ],
          "scatter": [
           {
            "fillpattern": {
             "fillmode": "overlay",
             "size": 10,
             "solidity": 0.2
            },
            "type": "scatter"
           }
          ],
          "scatter3d": [
           {
            "line": {
             "colorbar": {
              "outlinewidth": 0,
              "ticks": ""
             }
            },
            "marker": {
             "colorbar": {
              "outlinewidth": 0,
              "ticks": ""
             }
            },
            "type": "scatter3d"
           }
          ],
          "scattercarpet": [
           {
            "marker": {
             "colorbar": {
              "outlinewidth": 0,
              "ticks": ""
             }
            },
            "type": "scattercarpet"
           }
          ],
          "scattergeo": [
           {
            "marker": {
             "colorbar": {
              "outlinewidth": 0,
              "ticks": ""
             }
            },
            "type": "scattergeo"
           }
          ],
          "scattergl": [
           {
            "marker": {
             "colorbar": {
              "outlinewidth": 0,
              "ticks": ""
             }
            },
            "type": "scattergl"
           }
          ],
          "scattermapbox": [
           {
            "marker": {
             "colorbar": {
              "outlinewidth": 0,
              "ticks": ""
             }
            },
            "type": "scattermapbox"
           }
          ],
          "scatterpolar": [
           {
            "marker": {
             "colorbar": {
              "outlinewidth": 0,
              "ticks": ""
             }
            },
            "type": "scatterpolar"
           }
          ],
          "scatterpolargl": [
           {
            "marker": {
             "colorbar": {
              "outlinewidth": 0,
              "ticks": ""
             }
            },
            "type": "scatterpolargl"
           }
          ],
          "scatterternary": [
           {
            "marker": {
             "colorbar": {
              "outlinewidth": 0,
              "ticks": ""
             }
            },
            "type": "scatterternary"
           }
          ],
          "surface": [
           {
            "colorbar": {
             "outlinewidth": 0,
             "ticks": ""
            },
            "colorscale": [
             [
              0,
              "#0d0887"
             ],
             [
              0.1111111111111111,
              "#46039f"
             ],
             [
              0.2222222222222222,
              "#7201a8"
             ],
             [
              0.3333333333333333,
              "#9c179e"
             ],
             [
              0.4444444444444444,
              "#bd3786"
             ],
             [
              0.5555555555555556,
              "#d8576b"
             ],
             [
              0.6666666666666666,
              "#ed7953"
             ],
             [
              0.7777777777777778,
              "#fb9f3a"
             ],
             [
              0.8888888888888888,
              "#fdca26"
             ],
             [
              1,
              "#f0f921"
             ]
            ],
            "type": "surface"
           }
          ],
          "table": [
           {
            "cells": {
             "fill": {
              "color": "#EBF0F8"
             },
             "line": {
              "color": "white"
             }
            },
            "header": {
             "fill": {
              "color": "#C8D4E3"
             },
             "line": {
              "color": "white"
             }
            },
            "type": "table"
           }
          ]
         },
         "layout": {
          "annotationdefaults": {
           "arrowcolor": "#2a3f5f",
           "arrowhead": 0,
           "arrowwidth": 1
          },
          "autotypenumbers": "strict",
          "coloraxis": {
           "colorbar": {
            "outlinewidth": 0,
            "ticks": ""
           }
          },
          "colorscale": {
           "diverging": [
            [
             0,
             "#8e0152"
            ],
            [
             0.1,
             "#c51b7d"
            ],
            [
             0.2,
             "#de77ae"
            ],
            [
             0.3,
             "#f1b6da"
            ],
            [
             0.4,
             "#fde0ef"
            ],
            [
             0.5,
             "#f7f7f7"
            ],
            [
             0.6,
             "#e6f5d0"
            ],
            [
             0.7,
             "#b8e186"
            ],
            [
             0.8,
             "#7fbc41"
            ],
            [
             0.9,
             "#4d9221"
            ],
            [
             1,
             "#276419"
            ]
           ],
           "sequential": [
            [
             0,
             "#0d0887"
            ],
            [
             0.1111111111111111,
             "#46039f"
            ],
            [
             0.2222222222222222,
             "#7201a8"
            ],
            [
             0.3333333333333333,
             "#9c179e"
            ],
            [
             0.4444444444444444,
             "#bd3786"
            ],
            [
             0.5555555555555556,
             "#d8576b"
            ],
            [
             0.6666666666666666,
             "#ed7953"
            ],
            [
             0.7777777777777778,
             "#fb9f3a"
            ],
            [
             0.8888888888888888,
             "#fdca26"
            ],
            [
             1,
             "#f0f921"
            ]
           ],
           "sequentialminus": [
            [
             0,
             "#0d0887"
            ],
            [
             0.1111111111111111,
             "#46039f"
            ],
            [
             0.2222222222222222,
             "#7201a8"
            ],
            [
             0.3333333333333333,
             "#9c179e"
            ],
            [
             0.4444444444444444,
             "#bd3786"
            ],
            [
             0.5555555555555556,
             "#d8576b"
            ],
            [
             0.6666666666666666,
             "#ed7953"
            ],
            [
             0.7777777777777778,
             "#fb9f3a"
            ],
            [
             0.8888888888888888,
             "#fdca26"
            ],
            [
             1,
             "#f0f921"
            ]
           ]
          },
          "colorway": [
           "#636efa",
           "#EF553B",
           "#00cc96",
           "#ab63fa",
           "#FFA15A",
           "#19d3f3",
           "#FF6692",
           "#B6E880",
           "#FF97FF",
           "#FECB52"
          ],
          "font": {
           "color": "#2a3f5f"
          },
          "geo": {
           "bgcolor": "white",
           "lakecolor": "white",
           "landcolor": "#E5ECF6",
           "showlakes": true,
           "showland": true,
           "subunitcolor": "white"
          },
          "hoverlabel": {
           "align": "left"
          },
          "hovermode": "closest",
          "mapbox": {
           "style": "light"
          },
          "paper_bgcolor": "white",
          "plot_bgcolor": "#E5ECF6",
          "polar": {
           "angularaxis": {
            "gridcolor": "white",
            "linecolor": "white",
            "ticks": ""
           },
           "bgcolor": "#E5ECF6",
           "radialaxis": {
            "gridcolor": "white",
            "linecolor": "white",
            "ticks": ""
           }
          },
          "scene": {
           "xaxis": {
            "backgroundcolor": "#E5ECF6",
            "gridcolor": "white",
            "gridwidth": 2,
            "linecolor": "white",
            "showbackground": true,
            "ticks": "",
            "zerolinecolor": "white"
           },
           "yaxis": {
            "backgroundcolor": "#E5ECF6",
            "gridcolor": "white",
            "gridwidth": 2,
            "linecolor": "white",
            "showbackground": true,
            "ticks": "",
            "zerolinecolor": "white"
           },
           "zaxis": {
            "backgroundcolor": "#E5ECF6",
            "gridcolor": "white",
            "gridwidth": 2,
            "linecolor": "white",
            "showbackground": true,
            "ticks": "",
            "zerolinecolor": "white"
           }
          },
          "shapedefaults": {
           "line": {
            "color": "#2a3f5f"
           }
          },
          "ternary": {
           "aaxis": {
            "gridcolor": "white",
            "linecolor": "white",
            "ticks": ""
           },
           "baxis": {
            "gridcolor": "white",
            "linecolor": "white",
            "ticks": ""
           },
           "bgcolor": "#E5ECF6",
           "caxis": {
            "gridcolor": "white",
            "linecolor": "white",
            "ticks": ""
           }
          },
          "title": {
           "x": 0.05
          },
          "xaxis": {
           "automargin": true,
           "gridcolor": "white",
           "linecolor": "white",
           "ticks": "",
           "title": {
            "standoff": 15
           },
           "zerolinecolor": "white",
           "zerolinewidth": 2
          },
          "yaxis": {
           "automargin": true,
           "gridcolor": "white",
           "linecolor": "white",
           "ticks": "",
           "title": {
            "standoff": 15
           },
           "zerolinecolor": "white",
           "zerolinewidth": 2
          }
         }
        },
        "title": {
         "text": "Performance Metrics across Different Data Sizes"
        },
        "xaxis": {
         "title": {
          "text": "Data Size"
         }
        },
        "yaxis": {
         "title": {
          "text": "Metric Value"
         }
        }
       }
      }
     },
     "metadata": {},
     "output_type": "display_data"
    }
   ],
   "source": [
    "fig = go.Figure()\n",
    "fig.add_trace(go.Scatter(x=learning_curve_results_y_data[\"Data Size\"], y=learning_curve_results_y_data[\"Accuracy\"], mode='lines+markers', name='Accuracy'))\n",
    "fig.add_trace(go.Scatter(x=learning_curve_results_y_data[\"Data Size\"], y=learning_curve_results_y_data[\"Precision\"], mode='lines+markers', name='Precision'))\n",
    "fig.add_trace(go.Scatter(x=learning_curve_results_y_data[\"Data Size\"], y=learning_curve_results_y_data[\"Recall\"], mode='lines+markers', name='Recall'))\n",
    "fig.add_trace(go.Scatter(x=learning_curve_results_y_data[\"Data Size\"], y=learning_curve_results_y_data[\"F1 Score\"], mode='lines+markers', name='F1 Score'))\n",
    "fig.add_trace(go.Scatter(x=learning_curve_results_y_data[\"Data Size\"], y=learning_curve_results_y_data[\"Gini Score\"], mode='lines+markers', name='Gini Score'))\n",
    "\n",
    "\n",
    "# Update plot layout\n",
    "fig.update_layout(title='Performance Metrics across Different Data Sizes',\n",
    "                  xaxis_title='Data Size',\n",
    "                  yaxis_title='Metric Value',\n",
    "                  legend_title='Metrics')\n",
    "\n",
    "# Show plot\n",
    "fig.show()"
   ]
  },
  {
   "cell_type": "code",
   "execution_count": null,
   "metadata": {},
   "outputs": [],
   "source": []
  }
 ],
 "metadata": {
  "kernelspec": {
   "display_name": "Python 3",
   "language": "python",
   "name": "python3"
  },
  "language_info": {
   "codemirror_mode": {
    "name": "ipython",
    "version": 3
   },
   "file_extension": ".py",
   "mimetype": "text/x-python",
   "name": "python",
   "nbconvert_exporter": "python",
   "pygments_lexer": "ipython3",
   "version": "3.8.10"
  }
 },
 "nbformat": 4,
 "nbformat_minor": 2
}
