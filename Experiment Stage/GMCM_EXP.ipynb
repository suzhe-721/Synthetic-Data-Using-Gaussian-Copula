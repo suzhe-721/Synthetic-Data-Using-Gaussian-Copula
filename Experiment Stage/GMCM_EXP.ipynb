{
 "cells": [
  {
   "cell_type": "code",
   "execution_count": 1,
   "metadata": {},
   "outputs": [],
   "source": [
    "import numpy as np\n",
    "import pandas as pd\n",
    "import GMCM_class as G"
   ]
  },
  {
   "cell_type": "code",
   "execution_count": 26,
   "metadata": {},
   "outputs": [
    {
     "data": {
      "text/html": [
       "<div>\n",
       "<style scoped>\n",
       "    .dataframe tbody tr th:only-of-type {\n",
       "        vertical-align: middle;\n",
       "    }\n",
       "\n",
       "    .dataframe tbody tr th {\n",
       "        vertical-align: top;\n",
       "    }\n",
       "\n",
       "    .dataframe thead th {\n",
       "        text-align: right;\n",
       "    }\n",
       "</style>\n",
       "<table border=\"1\" class=\"dataframe\">\n",
       "  <thead>\n",
       "    <tr style=\"text-align: right;\">\n",
       "      <th></th>\n",
       "      <th>id</th>\n",
       "      <th>Sex</th>\n",
       "      <th>Length</th>\n",
       "      <th>Diameter</th>\n",
       "      <th>Height</th>\n",
       "      <th>Weight</th>\n",
       "      <th>Shucked Weight</th>\n",
       "      <th>Viscera Weight</th>\n",
       "      <th>Shell Weight</th>\n",
       "      <th>Age</th>\n",
       "    </tr>\n",
       "  </thead>\n",
       "  <tbody>\n",
       "    <tr>\n",
       "      <th>0</th>\n",
       "      <td>0</td>\n",
       "      <td>I</td>\n",
       "      <td>1.5250</td>\n",
       "      <td>1.1750</td>\n",
       "      <td>0.3750</td>\n",
       "      <td>28.973189</td>\n",
       "      <td>12.728926</td>\n",
       "      <td>6.647958</td>\n",
       "      <td>8.348928</td>\n",
       "      <td>9</td>\n",
       "    </tr>\n",
       "    <tr>\n",
       "      <th>1</th>\n",
       "      <td>1</td>\n",
       "      <td>I</td>\n",
       "      <td>1.1000</td>\n",
       "      <td>0.8250</td>\n",
       "      <td>0.2750</td>\n",
       "      <td>10.418441</td>\n",
       "      <td>4.521745</td>\n",
       "      <td>2.324659</td>\n",
       "      <td>3.401940</td>\n",
       "      <td>8</td>\n",
       "    </tr>\n",
       "    <tr>\n",
       "      <th>2</th>\n",
       "      <td>2</td>\n",
       "      <td>M</td>\n",
       "      <td>1.3875</td>\n",
       "      <td>1.1125</td>\n",
       "      <td>0.3750</td>\n",
       "      <td>24.777463</td>\n",
       "      <td>11.339800</td>\n",
       "      <td>5.556502</td>\n",
       "      <td>6.662133</td>\n",
       "      <td>9</td>\n",
       "    </tr>\n",
       "    <tr>\n",
       "      <th>3</th>\n",
       "      <td>3</td>\n",
       "      <td>F</td>\n",
       "      <td>1.7000</td>\n",
       "      <td>1.4125</td>\n",
       "      <td>0.5000</td>\n",
       "      <td>50.660556</td>\n",
       "      <td>20.354941</td>\n",
       "      <td>10.991839</td>\n",
       "      <td>14.996885</td>\n",
       "      <td>11</td>\n",
       "    </tr>\n",
       "    <tr>\n",
       "      <th>4</th>\n",
       "      <td>4</td>\n",
       "      <td>I</td>\n",
       "      <td>1.2500</td>\n",
       "      <td>1.0125</td>\n",
       "      <td>0.3375</td>\n",
       "      <td>23.289114</td>\n",
       "      <td>11.977664</td>\n",
       "      <td>4.507570</td>\n",
       "      <td>5.953395</td>\n",
       "      <td>8</td>\n",
       "    </tr>\n",
       "    <tr>\n",
       "      <th>...</th>\n",
       "      <td>...</td>\n",
       "      <td>...</td>\n",
       "      <td>...</td>\n",
       "      <td>...</td>\n",
       "      <td>...</td>\n",
       "      <td>...</td>\n",
       "      <td>...</td>\n",
       "      <td>...</td>\n",
       "      <td>...</td>\n",
       "      <td>...</td>\n",
       "    </tr>\n",
       "    <tr>\n",
       "      <th>495</th>\n",
       "      <td>495</td>\n",
       "      <td>I</td>\n",
       "      <td>0.5250</td>\n",
       "      <td>0.3750</td>\n",
       "      <td>0.1375</td>\n",
       "      <td>1.190679</td>\n",
       "      <td>0.481942</td>\n",
       "      <td>0.340194</td>\n",
       "      <td>0.425243</td>\n",
       "      <td>5</td>\n",
       "    </tr>\n",
       "    <tr>\n",
       "      <th>496</th>\n",
       "      <td>496</td>\n",
       "      <td>M</td>\n",
       "      <td>1.4000</td>\n",
       "      <td>1.0750</td>\n",
       "      <td>0.3625</td>\n",
       "      <td>24.380570</td>\n",
       "      <td>9.865626</td>\n",
       "      <td>5.641551</td>\n",
       "      <td>6.803880</td>\n",
       "      <td>11</td>\n",
       "    </tr>\n",
       "    <tr>\n",
       "      <th>497</th>\n",
       "      <td>497</td>\n",
       "      <td>M</td>\n",
       "      <td>1.5250</td>\n",
       "      <td>1.1875</td>\n",
       "      <td>0.3875</td>\n",
       "      <td>31.226974</td>\n",
       "      <td>13.749507</td>\n",
       "      <td>8.816695</td>\n",
       "      <td>9.638830</td>\n",
       "      <td>9</td>\n",
       "    </tr>\n",
       "    <tr>\n",
       "      <th>498</th>\n",
       "      <td>498</td>\n",
       "      <td>M</td>\n",
       "      <td>1.2500</td>\n",
       "      <td>0.9625</td>\n",
       "      <td>0.3250</td>\n",
       "      <td>27.541539</td>\n",
       "      <td>9.397859</td>\n",
       "      <td>6.775531</td>\n",
       "      <td>8.221355</td>\n",
       "      <td>10</td>\n",
       "    </tr>\n",
       "    <tr>\n",
       "      <th>499</th>\n",
       "      <td>499</td>\n",
       "      <td>I</td>\n",
       "      <td>0.6000</td>\n",
       "      <td>0.4625</td>\n",
       "      <td>0.1250</td>\n",
       "      <td>1.615922</td>\n",
       "      <td>0.737087</td>\n",
       "      <td>0.396893</td>\n",
       "      <td>0.566990</td>\n",
       "      <td>3</td>\n",
       "    </tr>\n",
       "  </tbody>\n",
       "</table>\n",
       "<p>500 rows × 10 columns</p>\n",
       "</div>"
      ],
      "text/plain": [
       "      id Sex  Length  Diameter  Height     Weight  Shucked Weight  \\\n",
       "0      0   I  1.5250    1.1750  0.3750  28.973189       12.728926   \n",
       "1      1   I  1.1000    0.8250  0.2750  10.418441        4.521745   \n",
       "2      2   M  1.3875    1.1125  0.3750  24.777463       11.339800   \n",
       "3      3   F  1.7000    1.4125  0.5000  50.660556       20.354941   \n",
       "4      4   I  1.2500    1.0125  0.3375  23.289114       11.977664   \n",
       "..   ...  ..     ...       ...     ...        ...             ...   \n",
       "495  495   I  0.5250    0.3750  0.1375   1.190679        0.481942   \n",
       "496  496   M  1.4000    1.0750  0.3625  24.380570        9.865626   \n",
       "497  497   M  1.5250    1.1875  0.3875  31.226974       13.749507   \n",
       "498  498   M  1.2500    0.9625  0.3250  27.541539        9.397859   \n",
       "499  499   I  0.6000    0.4625  0.1250   1.615922        0.737087   \n",
       "\n",
       "     Viscera Weight  Shell Weight  Age  \n",
       "0          6.647958      8.348928    9  \n",
       "1          2.324659      3.401940    8  \n",
       "2          5.556502      6.662133    9  \n",
       "3         10.991839     14.996885   11  \n",
       "4          4.507570      5.953395    8  \n",
       "..              ...           ...  ...  \n",
       "495        0.340194      0.425243    5  \n",
       "496        5.641551      6.803880   11  \n",
       "497        8.816695      9.638830    9  \n",
       "498        6.775531      8.221355   10  \n",
       "499        0.396893      0.566990    3  \n",
       "\n",
       "[500 rows x 10 columns]"
      ]
     },
     "execution_count": 26,
     "metadata": {},
     "output_type": "execute_result"
    }
   ],
   "source": [
    "data = pd.read_csv(\"crab_age.csv\")\n",
    "data = data.iloc[0:500,:]\n",
    "data"
   ]
  },
  {
   "cell_type": "code",
   "execution_count": 30,
   "metadata": {},
   "outputs": [
    {
     "name": "stderr",
     "output_type": "stream",
     "text": [
      "100%|██████████| 2/2 [00:55<00:00, 27.81s/it]\n",
      "100%|██████████| 20000/20000 [32:28<00:00, 10.26it/s]\n",
      "100%|██████████| 40000/40000 [1:04:52<00:00, 10.28it/s]\n",
      "100%|██████████| 60000/60000 [1:37:19<00:00, 10.27it/s]\n",
      "100%|██████████| 80000/80000 [2:10:08<00:00, 10.24it/s]  \n",
      "100%|██████████| 100000/100000 [2:41:40<00:00, 10.31it/s] \n"
     ]
    }
   ],
   "source": [
    "data_size_vary = {}\n",
    "runtime_collection = {}\n",
    "data = pd.read_csv(\"crab_age.csv\")\n",
    "import GMCM_class as G\n",
    "G = G.GaussianCopulaSynthesizer(data)\n",
    "G._identify_columns()\n",
    "G.convert_datetime_to_numerical()\n",
    "G.handle_missing_values()\n",
    "G.assign_intervals()\n",
    "G.preprocess_data()\n",
    "G.fit_distributions()\n",
    "G.compute_gmm_cdf()\n",
    "G.standard_gaussian_all()\n",
    "for i in range(5):\n",
    "    G.generate_synthetic_data(((i+1)*2)*10000)\n",
    "    synthetic = G.post_process()\n",
    "    data_size_vary[str(((i+1)*2)*10000) + \"rows data\"] = synthetic\n",
    "    runtime_collection[str(((i+1)*2)*10000) + \"rows data runtime\"] = G.get_execution_times_df()"
   ]
  },
  {
   "cell_type": "code",
   "execution_count": 28,
   "metadata": {},
   "outputs": [],
   "source": [
    "# data_sdv = data_size_vary['20000rows data']"
   ]
  },
  {
   "cell_type": "code",
   "execution_count": 29,
   "metadata": {},
   "outputs": [
    {
     "data": {
      "text/plain": [
       "<Axes: >"
      ]
     },
     "execution_count": 29,
     "metadata": {},
     "output_type": "execute_result"
    },
    {
     "data": {
      "image/png": "[encoded data removed]",
      "text/plain": [
       "<Figure size 640x480 with 2 Axes>"
      ]
     },
     "metadata": {},
     "output_type": "display_data"
    }
   ],
   "source": [
    "# import seaborn as sns\n",
    "# numeric_cols = data_sdv.select_dtypes(include=np.number).columns.tolist()\n",
    "# corr_matrix_sdv = data_sdv[numeric_cols].corr()\n",
    "# sns.heatmap(corr_matrix_sdv, annot=True, cmap='YlGnBu', cbar=True)"
   ]
  },
  {
   "cell_type": "code",
   "execution_count": 23,
   "metadata": {},
   "outputs": [
    {
     "data": {
      "text/html": [
       "<div>\n",
       "<style scoped>\n",
       "    .dataframe tbody tr th:only-of-type {\n",
       "        vertical-align: middle;\n",
       "    }\n",
       "\n",
       "    .dataframe tbody tr th {\n",
       "        vertical-align: top;\n",
       "    }\n",
       "\n",
       "    .dataframe thead th {\n",
       "        text-align: right;\n",
       "    }\n",
       "</style>\n",
       "<table border=\"1\" class=\"dataframe\">\n",
       "  <thead>\n",
       "    <tr style=\"text-align: right;\">\n",
       "      <th></th>\n",
       "      <th>id</th>\n",
       "      <th>Sex</th>\n",
       "      <th>Length</th>\n",
       "      <th>Diameter</th>\n",
       "      <th>Height</th>\n",
       "      <th>Weight</th>\n",
       "      <th>Shucked Weight</th>\n",
       "      <th>Viscera Weight</th>\n",
       "      <th>Shell Weight</th>\n",
       "      <th>Age</th>\n",
       "    </tr>\n",
       "  </thead>\n",
       "  <tbody>\n",
       "    <tr>\n",
       "      <th>0</th>\n",
       "      <td>0</td>\n",
       "      <td>I</td>\n",
       "      <td>1.5250</td>\n",
       "      <td>1.1750</td>\n",
       "      <td>0.3750</td>\n",
       "      <td>28.973189</td>\n",
       "      <td>12.728926</td>\n",
       "      <td>6.647958</td>\n",
       "      <td>8.348928</td>\n",
       "      <td>9</td>\n",
       "    </tr>\n",
       "    <tr>\n",
       "      <th>1</th>\n",
       "      <td>1</td>\n",
       "      <td>I</td>\n",
       "      <td>1.1000</td>\n",
       "      <td>0.8250</td>\n",
       "      <td>0.2750</td>\n",
       "      <td>10.418441</td>\n",
       "      <td>4.521745</td>\n",
       "      <td>2.324659</td>\n",
       "      <td>3.401940</td>\n",
       "      <td>8</td>\n",
       "    </tr>\n",
       "    <tr>\n",
       "      <th>2</th>\n",
       "      <td>2</td>\n",
       "      <td>M</td>\n",
       "      <td>1.3875</td>\n",
       "      <td>1.1125</td>\n",
       "      <td>0.3750</td>\n",
       "      <td>24.777463</td>\n",
       "      <td>11.339800</td>\n",
       "      <td>5.556502</td>\n",
       "      <td>6.662133</td>\n",
       "      <td>9</td>\n",
       "    </tr>\n",
       "    <tr>\n",
       "      <th>3</th>\n",
       "      <td>3</td>\n",
       "      <td>F</td>\n",
       "      <td>1.7000</td>\n",
       "      <td>1.4125</td>\n",
       "      <td>0.5000</td>\n",
       "      <td>50.660556</td>\n",
       "      <td>20.354941</td>\n",
       "      <td>10.991839</td>\n",
       "      <td>14.996885</td>\n",
       "      <td>11</td>\n",
       "    </tr>\n",
       "    <tr>\n",
       "      <th>4</th>\n",
       "      <td>4</td>\n",
       "      <td>I</td>\n",
       "      <td>1.2500</td>\n",
       "      <td>1.0125</td>\n",
       "      <td>0.3375</td>\n",
       "      <td>23.289114</td>\n",
       "      <td>11.977664</td>\n",
       "      <td>4.507570</td>\n",
       "      <td>5.953395</td>\n",
       "      <td>8</td>\n",
       "    </tr>\n",
       "    <tr>\n",
       "      <th>...</th>\n",
       "      <td>...</td>\n",
       "      <td>...</td>\n",
       "      <td>...</td>\n",
       "      <td>...</td>\n",
       "      <td>...</td>\n",
       "      <td>...</td>\n",
       "      <td>...</td>\n",
       "      <td>...</td>\n",
       "      <td>...</td>\n",
       "      <td>...</td>\n",
       "    </tr>\n",
       "    <tr>\n",
       "      <th>74046</th>\n",
       "      <td>74046</td>\n",
       "      <td>F</td>\n",
       "      <td>1.6625</td>\n",
       "      <td>1.2625</td>\n",
       "      <td>0.4375</td>\n",
       "      <td>50.660556</td>\n",
       "      <td>20.680960</td>\n",
       "      <td>10.361742</td>\n",
       "      <td>12.332033</td>\n",
       "      <td>10</td>\n",
       "    </tr>\n",
       "    <tr>\n",
       "      <th>74047</th>\n",
       "      <td>74047</td>\n",
       "      <td>I</td>\n",
       "      <td>1.0750</td>\n",
       "      <td>0.8625</td>\n",
       "      <td>0.2750</td>\n",
       "      <td>10.446791</td>\n",
       "      <td>4.323299</td>\n",
       "      <td>2.296310</td>\n",
       "      <td>3.543687</td>\n",
       "      <td>6</td>\n",
       "    </tr>\n",
       "    <tr>\n",
       "      <th>74048</th>\n",
       "      <td>74048</td>\n",
       "      <td>F</td>\n",
       "      <td>1.4875</td>\n",
       "      <td>1.2000</td>\n",
       "      <td>0.4125</td>\n",
       "      <td>29.483480</td>\n",
       "      <td>12.303683</td>\n",
       "      <td>7.540967</td>\n",
       "      <td>8.079607</td>\n",
       "      <td>10</td>\n",
       "    </tr>\n",
       "    <tr>\n",
       "      <th>74049</th>\n",
       "      <td>74049</td>\n",
       "      <td>I</td>\n",
       "      <td>1.2125</td>\n",
       "      <td>0.9625</td>\n",
       "      <td>0.3125</td>\n",
       "      <td>16.768729</td>\n",
       "      <td>8.972617</td>\n",
       "      <td>2.919999</td>\n",
       "      <td>4.280774</td>\n",
       "      <td>8</td>\n",
       "    </tr>\n",
       "    <tr>\n",
       "      <th>74050</th>\n",
       "      <td>74050</td>\n",
       "      <td>I</td>\n",
       "      <td>0.9125</td>\n",
       "      <td>0.6750</td>\n",
       "      <td>0.2000</td>\n",
       "      <td>5.386405</td>\n",
       "      <td>2.055339</td>\n",
       "      <td>1.034757</td>\n",
       "      <td>1.700970</td>\n",
       "      <td>6</td>\n",
       "    </tr>\n",
       "  </tbody>\n",
       "</table>\n",
       "<p>74051 rows × 10 columns</p>\n",
       "</div>"
      ],
      "text/plain": [
       "          id Sex  Length  Diameter  Height     Weight  Shucked Weight  \\\n",
       "0          0   I  1.5250    1.1750  0.3750  28.973189       12.728926   \n",
       "1          1   I  1.1000    0.8250  0.2750  10.418441        4.521745   \n",
       "2          2   M  1.3875    1.1125  0.3750  24.777463       11.339800   \n",
       "3          3   F  1.7000    1.4125  0.5000  50.660556       20.354941   \n",
       "4          4   I  1.2500    1.0125  0.3375  23.289114       11.977664   \n",
       "...      ...  ..     ...       ...     ...        ...             ...   \n",
       "74046  74046   F  1.6625    1.2625  0.4375  50.660556       20.680960   \n",
       "74047  74047   I  1.0750    0.8625  0.2750  10.446791        4.323299   \n",
       "74048  74048   F  1.4875    1.2000  0.4125  29.483480       12.303683   \n",
       "74049  74049   I  1.2125    0.9625  0.3125  16.768729        8.972617   \n",
       "74050  74050   I  0.9125    0.6750  0.2000   5.386405        2.055339   \n",
       "\n",
       "       Viscera Weight  Shell Weight  Age  \n",
       "0            6.647958      8.348928    9  \n",
       "1            2.324659      3.401940    8  \n",
       "2            5.556502      6.662133    9  \n",
       "3           10.991839     14.996885   11  \n",
       "4            4.507570      5.953395    8  \n",
       "...               ...           ...  ...  \n",
       "74046       10.361742     12.332033   10  \n",
       "74047        2.296310      3.543687    6  \n",
       "74048        7.540967      8.079607   10  \n",
       "74049        2.919999      4.280774    8  \n",
       "74050        1.034757      1.700970    6  \n",
       "\n",
       "[74051 rows x 10 columns]"
      ]
     },
     "execution_count": 23,
     "metadata": {},
     "output_type": "execute_result"
    }
   ],
   "source": [
    "data = pd.read_csv('crab_age.csv')\n",
    "data"
   ]
  },
  {
   "cell_type": "code",
   "execution_count": 31,
   "metadata": {},
   "outputs": [
    {
     "data": {
      "text/html": [
       "<div>\n",
       "<style scoped>\n",
       "    .dataframe tbody tr th:only-of-type {\n",
       "        vertical-align: middle;\n",
       "    }\n",
       "\n",
       "    .dataframe tbody tr th {\n",
       "        vertical-align: top;\n",
       "    }\n",
       "\n",
       "    .dataframe thead th {\n",
       "        text-align: right;\n",
       "    }\n",
       "</style>\n",
       "<table border=\"1\" class=\"dataframe\">\n",
       "  <thead>\n",
       "    <tr style=\"text-align: right;\">\n",
       "      <th></th>\n",
       "      <th>Data Size</th>\n",
       "      <th>MAE</th>\n",
       "      <th>MSE</th>\n",
       "      <th>RMSE</th>\n",
       "      <th>R-squared</th>\n",
       "      <th>MAPE</th>\n",
       "    </tr>\n",
       "  </thead>\n",
       "  <tbody>\n",
       "    <tr>\n",
       "      <th>0</th>\n",
       "      <td>20000rows data</td>\n",
       "      <td>0.971685</td>\n",
       "      <td>0.958411</td>\n",
       "      <td>0.978985</td>\n",
       "      <td>0.904936</td>\n",
       "      <td>11.006251</td>\n",
       "    </tr>\n",
       "    <tr>\n",
       "      <th>1</th>\n",
       "      <td>40000rows data</td>\n",
       "      <td>0.960838</td>\n",
       "      <td>0.940510</td>\n",
       "      <td>0.969799</td>\n",
       "      <td>0.906711</td>\n",
       "      <td>10.871278</td>\n",
       "    </tr>\n",
       "    <tr>\n",
       "      <th>2</th>\n",
       "      <td>60000rows data</td>\n",
       "      <td>0.962861</td>\n",
       "      <td>0.944229</td>\n",
       "      <td>0.971714</td>\n",
       "      <td>0.906342</td>\n",
       "      <td>10.902074</td>\n",
       "    </tr>\n",
       "    <tr>\n",
       "      <th>3</th>\n",
       "      <td>80000rows data</td>\n",
       "      <td>0.961226</td>\n",
       "      <td>0.943197</td>\n",
       "      <td>0.971183</td>\n",
       "      <td>0.906445</td>\n",
       "      <td>10.866947</td>\n",
       "    </tr>\n",
       "    <tr>\n",
       "      <th>4</th>\n",
       "      <td>100000rows data</td>\n",
       "      <td>0.915617</td>\n",
       "      <td>0.890765</td>\n",
       "      <td>0.943804</td>\n",
       "      <td>0.911645</td>\n",
       "      <td>10.473751</td>\n",
       "    </tr>\n",
       "  </tbody>\n",
       "</table>\n",
       "</div>"
      ],
      "text/plain": [
       "         Data Size       MAE       MSE      RMSE  R-squared       MAPE\n",
       "0   20000rows data  0.971685  0.958411  0.978985   0.904936  11.006251\n",
       "1   40000rows data  0.960838  0.940510  0.969799   0.906711  10.871278\n",
       "2   60000rows data  0.962861  0.944229  0.971714   0.906342  10.902074\n",
       "3   80000rows data  0.961226  0.943197  0.971183   0.906445  10.866947\n",
       "4  100000rows data  0.915617  0.890765  0.943804   0.911645  10.473751"
      ]
     },
     "execution_count": 31,
     "metadata": {},
     "output_type": "execute_result"
    }
   ],
   "source": [
    "import pandas as pd\n",
    "from sklearn.model_selection import train_test_split, GridSearchCV\n",
    "from sklearn.ensemble import RandomForestRegressor\n",
    "from sklearn.metrics import mean_absolute_error, mean_squared_error, r2_score\n",
    "import numpy as np\n",
    "from sklearn.preprocessing import OneHotEncoder\n",
    "from sklearn.preprocessing import MinMaxScaler\n",
    "\n",
    "# Function to calculate regression metrics\n",
    "def calculate_regression_metrics(y_true, y_pred):\n",
    "    mae = mean_absolute_error(y_true, y_pred)\n",
    "    mse = mean_squared_error(y_true, y_pred)\n",
    "    rmse = np.sqrt(mse)\n",
    "    r2 = r2_score(y_true, y_pred)\n",
    "\n",
    "    # Avoid division by zero for MAPE\n",
    "    non_zero_mask = y_true != 0\n",
    "    mape = (np.abs(y_true - y_pred) / y_true)[non_zero_mask].mean() * 100\n",
    "\n",
    "    return {\n",
    "        \"MAE\": mae,\n",
    "        \"MSE\": mse,\n",
    "        \"RMSE\": rmse,\n",
    "        \"R-squared\": r2,\n",
    "        \"MAPE\": mape\n",
    "    }\n",
    "\n",
    "# Loading real data\n",
    "real_data = pd.read_csv(\"crab_age.csv\")\n",
    "real_data.drop([\"id\"], axis=1, inplace=True)\n",
    "\n",
    "# Extract target column and input columns from real data\n",
    "target_column = 'Age'\n",
    "input_columns = real_data.drop(columns=[target_column]).columns.tolist()\n",
    "\n",
    "input_columns = list(real_data.select_dtypes(include=np.number).columns.tolist()) + list(real_data.select_dtypes(exclude=np.number).columns.tolist())\n",
    "input_columns = set(input_columns) - set([\"Sex\"])\n",
    "input_columns = list(input_columns)\n",
    "\n",
    "# Function for learning curve evaluation\n",
    "def learning_curve_evaluation(data_sizes, real_data, target_column, input_columns):\n",
    "    performance_metrics = []\n",
    "\n",
    "    for size, synthetic_data in data_sizes.items():\n",
    "        # Preprocessing\n",
    "        X_synthetic = synthetic_data[input_columns]\n",
    "        y_synthetic = synthetic_data[target_column]\n",
    "        X_real = real_data[input_columns]\n",
    "        y_real = real_data[target_column]\n",
    "        scaler = MinMaxScaler()\n",
    "        X_synthetic[X_synthetic.select_dtypes(include=np.number).columns.tolist()] = scaler.fit_transform(X_synthetic[X_synthetic.select_dtypes(include=np.number).columns.tolist()])\n",
    "        X_real[X_real.select_dtypes(include=np.number).columns.tolist()] = scaler.fit_transform(X_real[X_real.select_dtypes(include=np.number).columns.tolist()])\n",
    "\n",
    "        encoder = OneHotEncoder(sparse=False, handle_unknown=\"ignore\")\n",
    "\n",
    "        encoder.fit(X_synthetic[X_synthetic.select_dtypes(exclude=np.number).columns.tolist()])\n",
    "        encoded_cols = encoder.get_feature_names_out()\n",
    "        encoded_cols\n",
    "\n",
    "        X_synthetic[encoded_cols] = encoder.transform(X_synthetic[X_synthetic.select_dtypes(exclude=np.number).columns.tolist()])\n",
    "        X_real[encoded_cols] = encoder.transform(X_real[X_real.select_dtypes(exclude=np.number).columns.tolist()])\n",
    "\n",
    "        # Train-test split for synthetic data\n",
    "        X_train, X_val, y_train, y_val = train_test_split(X_synthetic, y_synthetic, test_size=0.1, random_state=42)\n",
    "\n",
    "        # Model training and hyperparameter tuning\n",
    "        rf = RandomForestRegressor(random_state=0)\n",
    "        param_grid = {\n",
    "            'n_estimators': [100, 200, 300, 400],\n",
    "            'max_depth': [1, 3, 5, 7],\n",
    "            'criterion': ['squared_error', 'poisson']\n",
    "        }\n",
    "        grid_search = GridSearchCV(estimator=rf, param_grid=param_grid, scoring='neg_mean_absolute_error', cv=5, n_jobs=-1)\n",
    "        grid_search.fit(X_train, y_train)\n",
    "\n",
    "        # Best model\n",
    "        best_rf = grid_search.best_estimator_\n",
    "\n",
    "        # Predictions and metrics\n",
    "        y_pred = best_rf.predict(X_real)\n",
    "        metrics = calculate_regression_metrics(y_real, y_pred)\n",
    "        performance_metrics.append({'Data Size': size, **metrics})\n",
    "\n",
    "    return pd.DataFrame(performance_metrics)\n",
    "\n",
    "# Running the evaluation\n",
    "learning_curve_results = learning_curve_evaluation(data_size_vary, real_data, target_column, input_columns)\n",
    "learning_curve_results"
   ]
  },
  {
   "cell_type": "code",
   "execution_count": 32,
   "metadata": {},
   "outputs": [
    {
     "data": {
      "application/vnd.plotly.v1+json": {
       "config": {
        "plotlyServerURL": "https://plot.ly"
       },
       "data": [
        {
         "mode": "lines+markers",
         "name": "MAE",
         "type": "scatter",
         "x": [
          "20000rows data",
          "40000rows data",
          "60000rows data",
          "80000rows data",
          "100000rows data"
         ],
         "y": [
          0.9716846229918267,
          0.9608382869244829,
          0.9628613141399422,
          0.961226208130475,
          0.9156167979524599
         ]
        },
        {
         "mode": "lines+markers",
         "name": "MSE",
         "type": "scatter",
         "x": [
          "20000rows data",
          "40000rows data",
          "60000rows data",
          "80000rows data",
          "100000rows data"
         ],
         "y": [
          0.9584108067657805,
          0.9405100601580703,
          0.9442285848302099,
          0.9431968425027928,
          0.8907651711659121
         ]
        },
        {
         "mode": "lines+markers",
         "name": "RMSE",
         "type": "scatter",
         "x": [
          "20000rows data",
          "40000rows data",
          "60000rows data",
          "80000rows data",
          "100000rows data"
         ],
         "y": [
          0.9789845794320667,
          0.9697989792519223,
          0.9717142506057066,
          0.9711832177827172,
          0.9438035659849523
         ]
        },
        {
         "mode": "lines+markers",
         "name": "R-squared",
         "type": "scatter",
         "x": [
          "20000rows data",
          "40000rows data",
          "60000rows data",
          "80000rows data",
          "100000rows data"
         ],
         "y": [
          0.9049355041741024,
          0.9067110741480175,
          0.9063422347414941,
          0.9064445729700343,
          0.9116452555643488
         ]
        },
        {
         "mode": "lines+markers",
         "name": "MAPE",
         "type": "scatter",
         "x": [
          "20000rows data",
          "40000rows data",
          "60000rows data",
          "80000rows data",
          "100000rows data"
         ],
         "y": [
          11.006250903699035,
          10.871278042286542,
          10.902074144522892,
          10.866946745820202,
          10.47375057369521
         ]
        }
       ],
       "layout": {
        "legend": {
         "title": {
          "text": "Metrics"
         }
        },
        "template": {
         "data": {
          "bar": [
           {
            "error_x": {
             "color": "#2a3f5f"
            },
            "error_y": {
             "color": "#2a3f5f"
            },
            "marker": {
             "line": {
              "color": "#E5ECF6",
              "width": 0.5
             },
             "pattern": {
              "fillmode": "overlay",
              "size": 10,
              "solidity": 0.2
             }
            },
            "type": "bar"
           }
          ],
          "barpolar": [
           {
            "marker": {
             "line": {
              "color": "#E5ECF6",
              "width": 0.5
             },
             "pattern": {
              "fillmode": "overlay",
              "size": 10,
              "solidity": 0.2
             }
            },
            "type": "barpolar"
           }
          ],
          "carpet": [
           {
            "aaxis": {
             "endlinecolor": "#2a3f5f",
             "gridcolor": "white",
             "linecolor": "white",
             "minorgridcolor": "white",
             "startlinecolor": "#2a3f5f"
            },
            "baxis": {
             "endlinecolor": "#2a3f5f",
             "gridcolor": "white",
             "linecolor": "white",
             "minorgridcolor": "white",
             "startlinecolor": "#2a3f5f"
            },
            "type": "carpet"
           }
          ],
          "choropleth": [
           {
            "colorbar": {
             "outlinewidth": 0,
             "ticks": ""
            },
            "type": "choropleth"
           }
          ],
          "contour": [
           {
            "colorbar": {
             "outlinewidth": 0,
             "ticks": ""
            },
            "colorscale": [
             [
              0,
              "#0d0887"
             ],
             [
              0.1111111111111111,
              "#46039f"
             ],
             [
              0.2222222222222222,
              "#7201a8"
             ],
             [
              0.3333333333333333,
              "#9c179e"
             ],
             [
              0.4444444444444444,
              "#bd3786"
             ],
             [
              0.5555555555555556,
              "#d8576b"
             ],
             [
              0.6666666666666666,
              "#ed7953"
             ],
             [
              0.7777777777777778,
              "#fb9f3a"
             ],
             [
              0.8888888888888888,
              "#fdca26"
             ],
             [
              1,
              "#f0f921"
             ]
            ],
            "type": "contour"
           }
          ],
          "contourcarpet": [
           {
            "colorbar": {
             "outlinewidth": 0,
             "ticks": ""
            },
            "type": "contourcarpet"
           }
          ],
          "heatmap": [
           {
            "colorbar": {
             "outlinewidth": 0,
             "ticks": ""
            },
            "colorscale": [
             [
              0,
              "#0d0887"
             ],
             [
              0.1111111111111111,
              "#46039f"
             ],
             [
              0.2222222222222222,
              "#7201a8"
             ],
             [
              0.3333333333333333,
              "#9c179e"
             ],
             [
              0.4444444444444444,
              "#bd3786"
             ],
             [
              0.5555555555555556,
              "#d8576b"
             ],
             [
              0.6666666666666666,
              "#ed7953"
             ],
             [
              0.7777777777777778,
              "#fb9f3a"
             ],
             [
              0.8888888888888888,
              "#fdca26"
             ],
             [
              1,
              "#f0f921"
             ]
            ],
            "type": "heatmap"
           }
          ],
          "heatmapgl": [
           {
            "colorbar": {
             "outlinewidth": 0,
             "ticks": ""
            },
            "colorscale": [
             [
              0,
              "#0d0887"
             ],
             [
              0.1111111111111111,
              "#46039f"
             ],
             [
              0.2222222222222222,
              "#7201a8"
             ],
             [
              0.3333333333333333,
              "#9c179e"
             ],
             [
              0.4444444444444444,
              "#bd3786"
             ],
             [
              0.5555555555555556,
              "#d8576b"
             ],
             [
              0.6666666666666666,
              "#ed7953"
             ],
             [
              0.7777777777777778,
              "#fb9f3a"
             ],
             [
              0.8888888888888888,
              "#fdca26"
             ],
             [
              1,
              "#f0f921"
             ]
            ],
            "type": "heatmapgl"
           }
          ],
          "histogram": [
           {
            "marker": {
             "pattern": {
              "fillmode": "overlay",
              "size": 10,
              "solidity": 0.2
             }
            },
            "type": "histogram"
           }
          ],
          "histogram2d": [
           {
            "colorbar": {
             "outlinewidth": 0,
             "ticks": ""
            },
            "colorscale": [
             [
              0,
              "#0d0887"
             ],
             [
              0.1111111111111111,
              "#46039f"
             ],
             [
              0.2222222222222222,
              "#7201a8"
             ],
             [
              0.3333333333333333,
              "#9c179e"
             ],
             [
              0.4444444444444444,
              "#bd3786"
             ],
             [
              0.5555555555555556,
              "#d8576b"
             ],
             [
              0.6666666666666666,
              "#ed7953"
             ],
             [
              0.7777777777777778,
              "#fb9f3a"
             ],
             [
              0.8888888888888888,
              "#fdca26"
             ],
             [
              1,
              "#f0f921"
             ]
            ],
            "type": "histogram2d"
           }
          ],
          "histogram2dcontour": [
           {
            "colorbar": {
             "outlinewidth": 0,
             "ticks": ""
            },
            "colorscale": [
             [
              0,
              "#0d0887"
             ],
             [
              0.1111111111111111,
              "#46039f"
             ],
             [
              0.2222222222222222,
              "#7201a8"
             ],
             [
              0.3333333333333333,
              "#9c179e"
             ],
             [
              0.4444444444444444,
              "#bd3786"
             ],
             [
              0.5555555555555556,
              "#d8576b"
             ],
             [
              0.6666666666666666,
              "#ed7953"
             ],
             [
              0.7777777777777778,
              "#fb9f3a"
             ],
             [
              0.8888888888888888,
              "#fdca26"
             ],
             [
              1,
              "#f0f921"
             ]
            ],
            "type": "histogram2dcontour"
           }
          ],
          "mesh3d": [
           {
            "colorbar": {
             "outlinewidth": 0,
             "ticks": ""
            },
            "type": "mesh3d"
           }
          ],
          "parcoords": [
           {
            "line": {
             "colorbar": {
              "outlinewidth": 0,
              "ticks": ""
             }
            },
            "type": "parcoords"
           }
          ],
          "pie": [
           {
            "automargin": true,
            "type": "pie"
           }
          ],
          "scatter": [
           {
            "fillpattern": {
             "fillmode": "overlay",
             "size": 10,
             "solidity": 0.2
            },
            "type": "scatter"
           }
          ],
          "scatter3d": [
           {
            "line": {
             "colorbar": {
              "outlinewidth": 0,
              "ticks": ""
             }
            },
            "marker": {
             "colorbar": {
              "outlinewidth": 0,
              "ticks": ""
             }
            },
            "type": "scatter3d"
           }
          ],
          "scattercarpet": [
           {
            "marker": {
             "colorbar": {
              "outlinewidth": 0,
              "ticks": ""
             }
            },
            "type": "scattercarpet"
           }
          ],
          "scattergeo": [
           {
            "marker": {
             "colorbar": {
              "outlinewidth": 0,
              "ticks": ""
             }
            },
            "type": "scattergeo"
           }
          ],
          "scattergl": [
           {
            "marker": {
             "colorbar": {
              "outlinewidth": 0,
              "ticks": ""
             }
            },
            "type": "scattergl"
           }
          ],
          "scattermapbox": [
           {
            "marker": {
             "colorbar": {
              "outlinewidth": 0,
              "ticks": ""
             }
            },
            "type": "scattermapbox"
           }
          ],
          "scatterpolar": [
           {
            "marker": {
             "colorbar": {
              "outlinewidth": 0,
              "ticks": ""
             }
            },
            "type": "scatterpolar"
           }
          ],
          "scatterpolargl": [
           {
            "marker": {
             "colorbar": {
              "outlinewidth": 0,
              "ticks": ""
             }
            },
            "type": "scatterpolargl"
           }
          ],
          "scatterternary": [
           {
            "marker": {
             "colorbar": {
              "outlinewidth": 0,
              "ticks": ""
             }
            },
            "type": "scatterternary"
           }
          ],
          "surface": [
           {
            "colorbar": {
             "outlinewidth": 0,
             "ticks": ""
            },
            "colorscale": [
             [
              0,
              "#0d0887"
             ],
             [
              0.1111111111111111,
              "#46039f"
             ],
             [
              0.2222222222222222,
              "#7201a8"
             ],
             [
              0.3333333333333333,
              "#9c179e"
             ],
             [
              0.4444444444444444,
              "#bd3786"
             ],
             [
              0.5555555555555556,
              "#d8576b"
             ],
             [
              0.6666666666666666,
              "#ed7953"
             ],
             [
              0.7777777777777778,
              "#fb9f3a"
             ],
             [
              0.8888888888888888,
              "#fdca26"
             ],
             [
              1,
              "#f0f921"
             ]
            ],
            "type": "surface"
           }
          ],
          "table": [
           {
            "cells": {
             "fill": {
              "color": "#EBF0F8"
             },
             "line": {
              "color": "white"
             }
            },
            "header": {
             "fill": {
              "color": "#C8D4E3"
             },
             "line": {
              "color": "white"
             }
            },
            "type": "table"
           }
          ]
         },
         "layout": {
          "annotationdefaults": {
           "arrowcolor": "#2a3f5f",
           "arrowhead": 0,
           "arrowwidth": 1
          },
          "autotypenumbers": "strict",
          "coloraxis": {
           "colorbar": {
            "outlinewidth": 0,
            "ticks": ""
           }
          },
          "colorscale": {
           "diverging": [
            [
             0,
             "#8e0152"
            ],
            [
             0.1,
             "#c51b7d"
            ],
            [
             0.2,
             "#de77ae"
            ],
            [
             0.3,
             "#f1b6da"
            ],
            [
             0.4,
             "#fde0ef"
            ],
            [
             0.5,
             "#f7f7f7"
            ],
            [
             0.6,
             "#e6f5d0"
            ],
            [
             0.7,
             "#b8e186"
            ],
            [
             0.8,
             "#7fbc41"
            ],
            [
             0.9,
             "#4d9221"
            ],
            [
             1,
             "#276419"
            ]
           ],
           "sequential": [
            [
             0,
             "#0d0887"
            ],
            [
             0.1111111111111111,
             "#46039f"
            ],
            [
             0.2222222222222222,
             "#7201a8"
            ],
            [
             0.3333333333333333,
             "#9c179e"
            ],
            [
             0.4444444444444444,
             "#bd3786"
            ],
            [
             0.5555555555555556,
             "#d8576b"
            ],
            [
             0.6666666666666666,
             "#ed7953"
            ],
            [
             0.7777777777777778,
             "#fb9f3a"
            ],
            [
             0.8888888888888888,
             "#fdca26"
            ],
            [
             1,
             "#f0f921"
            ]
           ],
           "sequentialminus": [
            [
             0,
             "#0d0887"
            ],
            [
             0.1111111111111111,
             "#46039f"
            ],
            [
             0.2222222222222222,
             "#7201a8"
            ],
            [
             0.3333333333333333,
             "#9c179e"
            ],
            [
             0.4444444444444444,
             "#bd3786"
            ],
            [
             0.5555555555555556,
             "#d8576b"
            ],
            [
             0.6666666666666666,
             "#ed7953"
            ],
            [
             0.7777777777777778,
             "#fb9f3a"
            ],
            [
             0.8888888888888888,
             "#fdca26"
            ],
            [
             1,
             "#f0f921"
            ]
           ]
          },
          "colorway": [
           "#636efa",
           "#EF553B",
           "#00cc96",
           "#ab63fa",
           "#FFA15A",
           "#19d3f3",
           "#FF6692",
           "#B6E880",
           "#FF97FF",
           "#FECB52"
          ],
          "font": {
           "color": "#2a3f5f"
          },
          "geo": {
           "bgcolor": "white",
           "lakecolor": "white",
           "landcolor": "#E5ECF6",
           "showlakes": true,
           "showland": true,
           "subunitcolor": "white"
          },
          "hoverlabel": {
           "align": "left"
          },
          "hovermode": "closest",
          "mapbox": {
           "style": "light"
          },
          "paper_bgcolor": "white",
          "plot_bgcolor": "#E5ECF6",
          "polar": {
           "angularaxis": {
            "gridcolor": "white",
            "linecolor": "white",
            "ticks": ""
           },
           "bgcolor": "#E5ECF6",
           "radialaxis": {
            "gridcolor": "white",
            "linecolor": "white",
            "ticks": ""
           }
          },
          "scene": {
           "xaxis": {
            "backgroundcolor": "#E5ECF6",
            "gridcolor": "white",
            "gridwidth": 2,
            "linecolor": "white",
            "showbackground": true,
            "ticks": "",
            "zerolinecolor": "white"
           },
           "yaxis": {
            "backgroundcolor": "#E5ECF6",
            "gridcolor": "white",
            "gridwidth": 2,
            "linecolor": "white",
            "showbackground": true,
            "ticks": "",
            "zerolinecolor": "white"
           },
           "zaxis": {
            "backgroundcolor": "#E5ECF6",
            "gridcolor": "white",
            "gridwidth": 2,
            "linecolor": "white",
            "showbackground": true,
            "ticks": "",
            "zerolinecolor": "white"
           }
          },
          "shapedefaults": {
           "line": {
            "color": "#2a3f5f"
           }
          },
          "ternary": {
           "aaxis": {
            "gridcolor": "white",
            "linecolor": "white",
            "ticks": ""
           },
           "baxis": {
            "gridcolor": "white",
            "linecolor": "white",
            "ticks": ""
           },
           "bgcolor": "#E5ECF6",
           "caxis": {
            "gridcolor": "white",
            "linecolor": "white",
            "ticks": ""
           }
          },
          "title": {
           "x": 0.05
          },
          "xaxis": {
           "automargin": true,
           "gridcolor": "white",
           "linecolor": "white",
           "ticks": "",
           "title": {
            "standoff": 15
           },
           "zerolinecolor": "white",
           "zerolinewidth": 2
          },
          "yaxis": {
           "automargin": true,
           "gridcolor": "white",
           "linecolor": "white",
           "ticks": "",
           "title": {
            "standoff": 15
           },
           "zerolinecolor": "white",
           "zerolinewidth": 2
          }
         }
        },
        "title": {
         "text": "Performance Metrics across Different Data Sizes"
        },
        "xaxis": {
         "title": {
          "text": "Data Size"
         }
        },
        "yaxis": {
         "title": {
          "text": "Metric Value"
         }
        }
       }
      }
     },
     "metadata": {},
     "output_type": "display_data"
    }
   ],
   "source": [
    "import plotly.graph_objects as go\n",
    "import plotly.subplots as sp\n",
    "import plotly.express as px\n",
    "import matplotlib.pyplot as plt\n",
    "\n",
    "fig = go.Figure()\n",
    "fig.add_trace(go.Scatter(x=learning_curve_results[\"Data Size\"], y=learning_curve_results[\"MAE\"], mode='lines+markers', name='MAE'))\n",
    "fig.add_trace(go.Scatter(x=learning_curve_results[\"Data Size\"], y=learning_curve_results[\"MSE\"], mode='lines+markers', name='MSE'))\n",
    "fig.add_trace(go.Scatter(x=learning_curve_results[\"Data Size\"], y=learning_curve_results[\"RMSE\"], mode='lines+markers', name='RMSE'))\n",
    "fig.add_trace(go.Scatter(x=learning_curve_results[\"Data Size\"], y=learning_curve_results[\"R-squared\"], mode='lines+markers', name='R-squared'))\n",
    "fig.add_trace(go.Scatter(x=learning_curve_results[\"Data Size\"], y=learning_curve_results[\"MAPE\"], mode='lines+markers', name='MAPE'))\n",
    "\n",
    "\n",
    "# Update plot layout\n",
    "fig.update_layout(title='Performance Metrics across Different Data Sizes',\n",
    "                  xaxis_title='Data Size',\n",
    "                  yaxis_title='Metric Value',\n",
    "                  legend_title='Metrics')\n",
    "\n",
    "# Show plot\n",
    "fig.show()"
   ]
  },
  {
   "cell_type": "code",
   "execution_count": 34,
   "metadata": {},
   "outputs": [
    {
     "data": {
      "text/plain": [
       "{'20000rows data runtime':                 Process  Time (seconds)\n",
       " 0     _identify_columns        0.017003\n",
       " 1  handle_missing_value        0.002001\n",
       " 2      assign_intervals        0.021004\n",
       " 3       preprocess_data       55.626577\n",
       " 4      fit_distribution       48.814416\n",
       " 5           compute_cdf      508.481784\n",
       " 6     standard_gaussian       43.242771\n",
       " 7     generate_syn_data     1949.000210\n",
       " 8          post_process       46.037819,\n",
       " '40000rows data runtime':                 Process  Time (seconds)\n",
       " 0     _identify_columns        0.017003\n",
       " 1  handle_missing_value        0.002001\n",
       " 2      assign_intervals        0.021004\n",
       " 3       preprocess_data       55.626577\n",
       " 4      fit_distribution       48.814416\n",
       " 5           compute_cdf      508.481784\n",
       " 6     standard_gaussian       43.242771\n",
       " 7     generate_syn_data     3892.060655\n",
       " 8          post_process       92.162825,\n",
       " '60000rows data runtime':                 Process  Time (seconds)\n",
       " 0     _identify_columns        0.017003\n",
       " 1  handle_missing_value        0.002001\n",
       " 2      assign_intervals        0.021004\n",
       " 3       preprocess_data       55.626577\n",
       " 4      fit_distribution       48.814416\n",
       " 5           compute_cdf      508.481784\n",
       " 6     standard_gaussian       43.242771\n",
       " 7     generate_syn_data     5839.568056\n",
       " 8          post_process      138.495750,\n",
       " '80000rows data runtime':                 Process  Time (seconds)\n",
       " 0     _identify_columns        0.017003\n",
       " 1  handle_missing_value        0.002001\n",
       " 2      assign_intervals        0.021004\n",
       " 3       preprocess_data       55.626577\n",
       " 4      fit_distribution       48.814416\n",
       " 5           compute_cdf      508.481784\n",
       " 6     standard_gaussian       43.242771\n",
       " 7     generate_syn_data     7808.909918\n",
       " 8          post_process      186.248719,\n",
       " '100000rows data runtime':                 Process  Time (seconds)\n",
       " 0     _identify_columns        0.017003\n",
       " 1  handle_missing_value        0.002001\n",
       " 2      assign_intervals        0.021004\n",
       " 3       preprocess_data       55.626577\n",
       " 4      fit_distribution       48.814416\n",
       " 5           compute_cdf      508.481784\n",
       " 6     standard_gaussian       43.242771\n",
       " 7     generate_syn_data     9700.236590\n",
       " 8          post_process      227.165171}"
      ]
     },
     "execution_count": 34,
     "metadata": {},
     "output_type": "execute_result"
    }
   ],
   "source": [
    "runtime_collection"
   ]
  },
  {
   "cell_type": "code",
   "execution_count": 36,
   "metadata": {},
   "outputs": [
    {
     "data": {
      "image/png": "[encoded data removed]",
      "text/plain": [
       "<Figure size 1000x600 with 1 Axes>"
      ]
     },
     "metadata": {},
     "output_type": "display_data"
    }
   ],
   "source": [
    "row_counts = [20000, 40000, 60000, 80000,100000]\n",
    "generate_syn_data_times = []\n",
    "post_process_times = []\n",
    "preprocess_data_times = []\n",
    "\n",
    "for key, value in runtime_collection.items():\n",
    "    generate_syn_data_times.append(value['Time (seconds)'][7])\n",
    "\n",
    "# Plotting\n",
    "plt.figure(figsize=(10, 6))\n",
    "plt.plot(row_counts, generate_syn_data_times, label='Generate Synthetic Data', marker='o')\n",
    "# plt.plot(row_counts, post_process_times, label='Post Process', marker='x')\n",
    "#plt.plot(row_counts, preprocess_data_times, label='Pre Process', marker='v')\n",
    "plt.xlabel('Number of Rows')\n",
    "plt.ylabel('Time (Seconds)')\n",
    "plt.title('Time Taken for Generate Synthetic Data and Post Process across Different Row Counts')\n",
    "plt.legend()\n",
    "plt.grid(True)\n",
    "plt.show()"
   ]
  },
  {
   "cell_type": "code",
   "execution_count": 39,
   "metadata": {},
   "outputs": [],
   "source": [
    "data_size_vary['20000rows data'].to_csv(\"20000_rows_crab_syn_gmcm.csv\", index = False)\n",
    "\n",
    "data_size_vary['40000rows data'].to_csv(\"40000_rows_crab_syn_gmcm.csv\", index = False)\n",
    "\n",
    "data_size_vary['60000rows data'].to_csv(\"60000_rows_crab_syn_gmcm.csv\", index = False)\n",
    "\n",
    "data_size_vary['80000rows data'].to_csv(\"80000_rows_crab_syn_gmcm.csv\", index = False)\n",
    "\n",
    "data_size_vary['100000rows data'].to_csv(\"100000_rows_crab_syn_gmcm.csv\", index = False)\n"
   ]
  },
  {
   "cell_type": "code",
   "execution_count": null,
   "metadata": {},
   "outputs": [],
   "source": []
  }
 ],
 "metadata": {
  "kernelspec": {
   "display_name": "Python 3",
   "language": "python",
   "name": "python3"
  },
  "language_info": {
   "codemirror_mode": {
    "name": "ipython",
    "version": 3
   },
   "file_extension": ".py",
   "mimetype": "text/x-python",
   "name": "python",
   "nbconvert_exporter": "python",
   "pygments_lexer": "ipython3",
   "version": "3.8.10"
  }
 },
 "nbformat": 4,
 "nbformat_minor": 2
}
