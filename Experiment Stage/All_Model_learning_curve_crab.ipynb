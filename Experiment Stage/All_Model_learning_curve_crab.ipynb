{
 "cells": [
  {
   "cell_type": "code",
   "execution_count": 2,
   "metadata": {},
   "outputs": [],
   "source": [
    "import numpy as np\n",
    "import pandas as pd\n",
    "import GMCM_class as G"
   ]
  },
  {
   "cell_type": "code",
   "execution_count": 3,
   "metadata": {},
   "outputs": [
    {
     "data": {
      "text/html": [
       "<div>\n",
       "<style scoped>\n",
       "    .dataframe tbody tr th:only-of-type {\n",
       "        vertical-align: middle;\n",
       "    }\n",
       "\n",
       "    .dataframe tbody tr th {\n",
       "        vertical-align: top;\n",
       "    }\n",
       "\n",
       "    .dataframe thead th {\n",
       "        text-align: right;\n",
       "    }\n",
       "</style>\n",
       "<table border=\"1\" class=\"dataframe\">\n",
       "  <thead>\n",
       "    <tr style=\"text-align: right;\">\n",
       "      <th></th>\n",
       "      <th>id</th>\n",
       "      <th>Sex</th>\n",
       "      <th>Length</th>\n",
       "      <th>Diameter</th>\n",
       "      <th>Height</th>\n",
       "      <th>Weight</th>\n",
       "      <th>Shucked Weight</th>\n",
       "      <th>Viscera Weight</th>\n",
       "      <th>Shell Weight</th>\n",
       "      <th>Age</th>\n",
       "    </tr>\n",
       "  </thead>\n",
       "  <tbody>\n",
       "    <tr>\n",
       "      <th>0</th>\n",
       "      <td>0</td>\n",
       "      <td>I</td>\n",
       "      <td>1.5250</td>\n",
       "      <td>1.1750</td>\n",
       "      <td>0.3750</td>\n",
       "      <td>28.973189</td>\n",
       "      <td>12.728926</td>\n",
       "      <td>6.647958</td>\n",
       "      <td>8.348928</td>\n",
       "      <td>9</td>\n",
       "    </tr>\n",
       "    <tr>\n",
       "      <th>1</th>\n",
       "      <td>1</td>\n",
       "      <td>I</td>\n",
       "      <td>1.1000</td>\n",
       "      <td>0.8250</td>\n",
       "      <td>0.2750</td>\n",
       "      <td>10.418441</td>\n",
       "      <td>4.521745</td>\n",
       "      <td>2.324659</td>\n",
       "      <td>3.401940</td>\n",
       "      <td>8</td>\n",
       "    </tr>\n",
       "    <tr>\n",
       "      <th>2</th>\n",
       "      <td>2</td>\n",
       "      <td>M</td>\n",
       "      <td>1.3875</td>\n",
       "      <td>1.1125</td>\n",
       "      <td>0.3750</td>\n",
       "      <td>24.777463</td>\n",
       "      <td>11.339800</td>\n",
       "      <td>5.556502</td>\n",
       "      <td>6.662133</td>\n",
       "      <td>9</td>\n",
       "    </tr>\n",
       "    <tr>\n",
       "      <th>3</th>\n",
       "      <td>3</td>\n",
       "      <td>F</td>\n",
       "      <td>1.7000</td>\n",
       "      <td>1.4125</td>\n",
       "      <td>0.5000</td>\n",
       "      <td>50.660556</td>\n",
       "      <td>20.354941</td>\n",
       "      <td>10.991839</td>\n",
       "      <td>14.996885</td>\n",
       "      <td>11</td>\n",
       "    </tr>\n",
       "    <tr>\n",
       "      <th>4</th>\n",
       "      <td>4</td>\n",
       "      <td>I</td>\n",
       "      <td>1.2500</td>\n",
       "      <td>1.0125</td>\n",
       "      <td>0.3375</td>\n",
       "      <td>23.289114</td>\n",
       "      <td>11.977664</td>\n",
       "      <td>4.507570</td>\n",
       "      <td>5.953395</td>\n",
       "      <td>8</td>\n",
       "    </tr>\n",
       "    <tr>\n",
       "      <th>...</th>\n",
       "      <td>...</td>\n",
       "      <td>...</td>\n",
       "      <td>...</td>\n",
       "      <td>...</td>\n",
       "      <td>...</td>\n",
       "      <td>...</td>\n",
       "      <td>...</td>\n",
       "      <td>...</td>\n",
       "      <td>...</td>\n",
       "      <td>...</td>\n",
       "    </tr>\n",
       "    <tr>\n",
       "      <th>74046</th>\n",
       "      <td>74046</td>\n",
       "      <td>F</td>\n",
       "      <td>1.6625</td>\n",
       "      <td>1.2625</td>\n",
       "      <td>0.4375</td>\n",
       "      <td>50.660556</td>\n",
       "      <td>20.680960</td>\n",
       "      <td>10.361742</td>\n",
       "      <td>12.332033</td>\n",
       "      <td>10</td>\n",
       "    </tr>\n",
       "    <tr>\n",
       "      <th>74047</th>\n",
       "      <td>74047</td>\n",
       "      <td>I</td>\n",
       "      <td>1.0750</td>\n",
       "      <td>0.8625</td>\n",
       "      <td>0.2750</td>\n",
       "      <td>10.446791</td>\n",
       "      <td>4.323299</td>\n",
       "      <td>2.296310</td>\n",
       "      <td>3.543687</td>\n",
       "      <td>6</td>\n",
       "    </tr>\n",
       "    <tr>\n",
       "      <th>74048</th>\n",
       "      <td>74048</td>\n",
       "      <td>F</td>\n",
       "      <td>1.4875</td>\n",
       "      <td>1.2000</td>\n",
       "      <td>0.4125</td>\n",
       "      <td>29.483480</td>\n",
       "      <td>12.303683</td>\n",
       "      <td>7.540967</td>\n",
       "      <td>8.079607</td>\n",
       "      <td>10</td>\n",
       "    </tr>\n",
       "    <tr>\n",
       "      <th>74049</th>\n",
       "      <td>74049</td>\n",
       "      <td>I</td>\n",
       "      <td>1.2125</td>\n",
       "      <td>0.9625</td>\n",
       "      <td>0.3125</td>\n",
       "      <td>16.768729</td>\n",
       "      <td>8.972617</td>\n",
       "      <td>2.919999</td>\n",
       "      <td>4.280774</td>\n",
       "      <td>8</td>\n",
       "    </tr>\n",
       "    <tr>\n",
       "      <th>74050</th>\n",
       "      <td>74050</td>\n",
       "      <td>I</td>\n",
       "      <td>0.9125</td>\n",
       "      <td>0.6750</td>\n",
       "      <td>0.2000</td>\n",
       "      <td>5.386405</td>\n",
       "      <td>2.055339</td>\n",
       "      <td>1.034757</td>\n",
       "      <td>1.700970</td>\n",
       "      <td>6</td>\n",
       "    </tr>\n",
       "  </tbody>\n",
       "</table>\n",
       "<p>74051 rows × 10 columns</p>\n",
       "</div>"
      ],
      "text/plain": [
       "          id Sex  Length  Diameter  Height     Weight  Shucked Weight  \\\n",
       "0          0   I  1.5250    1.1750  0.3750  28.973189       12.728926   \n",
       "1          1   I  1.1000    0.8250  0.2750  10.418441        4.521745   \n",
       "2          2   M  1.3875    1.1125  0.3750  24.777463       11.339800   \n",
       "3          3   F  1.7000    1.4125  0.5000  50.660556       20.354941   \n",
       "4          4   I  1.2500    1.0125  0.3375  23.289114       11.977664   \n",
       "...      ...  ..     ...       ...     ...        ...             ...   \n",
       "74046  74046   F  1.6625    1.2625  0.4375  50.660556       20.680960   \n",
       "74047  74047   I  1.0750    0.8625  0.2750  10.446791        4.323299   \n",
       "74048  74048   F  1.4875    1.2000  0.4125  29.483480       12.303683   \n",
       "74049  74049   I  1.2125    0.9625  0.3125  16.768729        8.972617   \n",
       "74050  74050   I  0.9125    0.6750  0.2000   5.386405        2.055339   \n",
       "\n",
       "       Viscera Weight  Shell Weight  Age  \n",
       "0            6.647958      8.348928    9  \n",
       "1            2.324659      3.401940    8  \n",
       "2            5.556502      6.662133    9  \n",
       "3           10.991839     14.996885   11  \n",
       "4            4.507570      5.953395    8  \n",
       "...               ...           ...  ...  \n",
       "74046       10.361742     12.332033   10  \n",
       "74047        2.296310      3.543687    6  \n",
       "74048        7.540967      8.079607   10  \n",
       "74049        2.919999      4.280774    8  \n",
       "74050        1.034757      1.700970    6  \n",
       "\n",
       "[74051 rows x 10 columns]"
      ]
     },
     "execution_count": 3,
     "metadata": {},
     "output_type": "execute_result"
    }
   ],
   "source": [
    "data = pd.read_csv(\"crab_age.csv\")\n",
    "\n",
    "data"
   ]
  },
  {
   "cell_type": "markdown",
   "metadata": {},
   "source": [
    "## GMCM Learning Curve"
   ]
  },
  {
   "cell_type": "code",
   "execution_count": 30,
   "metadata": {},
   "outputs": [
    {
     "name": "stderr",
     "output_type": "stream",
     "text": [
      "100%|██████████| 2/2 [00:55<00:00, 27.81s/it]\n",
      "100%|██████████| 20000/20000 [32:28<00:00, 10.26it/s]\n",
      "100%|██████████| 40000/40000 [1:04:52<00:00, 10.28it/s]\n",
      "100%|██████████| 60000/60000 [1:37:19<00:00, 10.27it/s]\n",
      "100%|██████████| 80000/80000 [2:10:08<00:00, 10.24it/s]  \n",
      "100%|██████████| 100000/100000 [2:41:40<00:00, 10.31it/s] \n"
     ]
    }
   ],
   "source": [
    "data_size_vary = {}\n",
    "runtime_collection = {}\n",
    "data = pd.read_csv(\"crab_age.csv\")\n",
    "import GMCM_class as G\n",
    "G = G.GaussianCopulaSynthesizer(data)\n",
    "G._identify_columns()\n",
    "G.convert_datetime_to_numerical()\n",
    "G.handle_missing_values()\n",
    "G.assign_intervals()\n",
    "G.preprocess_data()\n",
    "G.fit_distributions()\n",
    "G.compute_gmm_cdf()\n",
    "G.standard_gaussian_all()\n",
    "for i in range(5):\n",
    "    G.generate_synthetic_data(((i+1)*2)*10000)\n",
    "    synthetic = G.post_process()\n",
    "    data_size_vary[str(((i+1)*2)*10000) + \"rows data\"] = synthetic\n",
    "    runtime_collection[str(((i+1)*2)*10000) + \"rows data runtime\"] = G.get_execution_times_df()"
   ]
  },
  {
   "cell_type": "code",
   "execution_count": 28,
   "metadata": {},
   "outputs": [],
   "source": [
    "# data_sdv = data_size_vary['20000rows data']"
   ]
  },
  {
   "cell_type": "code",
   "execution_count": 29,
   "metadata": {},
   "outputs": [
    {
     "data": {
      "text/plain": [
       "<Axes: >"
      ]
     },
     "execution_count": 29,
     "metadata": {},
     "output_type": "execute_result"
    },
    {
     "data": {
      "image/png": "[encoded data removed]",
      "text/plain": [
       "<Figure size 640x480 with 2 Axes>"
      ]
     },
     "metadata": {},
     "output_type": "display_data"
    }
   ],
   "source": [
    "# import seaborn as sns\n",
    "# numeric_cols = data_sdv.select_dtypes(include=np.number).columns.tolist()\n",
    "# corr_matrix_sdv = data_sdv[numeric_cols].corr()\n",
    "# sns.heatmap(corr_matrix_sdv, annot=True, cmap='YlGnBu', cbar=True)"
   ]
  },
  {
   "cell_type": "code",
   "execution_count": 23,
   "metadata": {},
   "outputs": [
    {
     "data": {
      "text/html": [
       "<div>\n",
       "<style scoped>\n",
       "    .dataframe tbody tr th:only-of-type {\n",
       "        vertical-align: middle;\n",
       "    }\n",
       "\n",
       "    .dataframe tbody tr th {\n",
       "        vertical-align: top;\n",
       "    }\n",
       "\n",
       "    .dataframe thead th {\n",
       "        text-align: right;\n",
       "    }\n",
       "</style>\n",
       "<table border=\"1\" class=\"dataframe\">\n",
       "  <thead>\n",
       "    <tr style=\"text-align: right;\">\n",
       "      <th></th>\n",
       "      <th>id</th>\n",
       "      <th>Sex</th>\n",
       "      <th>Length</th>\n",
       "      <th>Diameter</th>\n",
       "      <th>Height</th>\n",
       "      <th>Weight</th>\n",
       "      <th>Shucked Weight</th>\n",
       "      <th>Viscera Weight</th>\n",
       "      <th>Shell Weight</th>\n",
       "      <th>Age</th>\n",
       "    </tr>\n",
       "  </thead>\n",
       "  <tbody>\n",
       "    <tr>\n",
       "      <th>0</th>\n",
       "      <td>0</td>\n",
       "      <td>I</td>\n",
       "      <td>1.5250</td>\n",
       "      <td>1.1750</td>\n",
       "      <td>0.3750</td>\n",
       "      <td>28.973189</td>\n",
       "      <td>12.728926</td>\n",
       "      <td>6.647958</td>\n",
       "      <td>8.348928</td>\n",
       "      <td>9</td>\n",
       "    </tr>\n",
       "    <tr>\n",
       "      <th>1</th>\n",
       "      <td>1</td>\n",
       "      <td>I</td>\n",
       "      <td>1.1000</td>\n",
       "      <td>0.8250</td>\n",
       "      <td>0.2750</td>\n",
       "      <td>10.418441</td>\n",
       "      <td>4.521745</td>\n",
       "      <td>2.324659</td>\n",
       "      <td>3.401940</td>\n",
       "      <td>8</td>\n",
       "    </tr>\n",
       "    <tr>\n",
       "      <th>2</th>\n",
       "      <td>2</td>\n",
       "      <td>M</td>\n",
       "      <td>1.3875</td>\n",
       "      <td>1.1125</td>\n",
       "      <td>0.3750</td>\n",
       "      <td>24.777463</td>\n",
       "      <td>11.339800</td>\n",
       "      <td>5.556502</td>\n",
       "      <td>6.662133</td>\n",
       "      <td>9</td>\n",
       "    </tr>\n",
       "    <tr>\n",
       "      <th>3</th>\n",
       "      <td>3</td>\n",
       "      <td>F</td>\n",
       "      <td>1.7000</td>\n",
       "      <td>1.4125</td>\n",
       "      <td>0.5000</td>\n",
       "      <td>50.660556</td>\n",
       "      <td>20.354941</td>\n",
       "      <td>10.991839</td>\n",
       "      <td>14.996885</td>\n",
       "      <td>11</td>\n",
       "    </tr>\n",
       "    <tr>\n",
       "      <th>4</th>\n",
       "      <td>4</td>\n",
       "      <td>I</td>\n",
       "      <td>1.2500</td>\n",
       "      <td>1.0125</td>\n",
       "      <td>0.3375</td>\n",
       "      <td>23.289114</td>\n",
       "      <td>11.977664</td>\n",
       "      <td>4.507570</td>\n",
       "      <td>5.953395</td>\n",
       "      <td>8</td>\n",
       "    </tr>\n",
       "    <tr>\n",
       "      <th>...</th>\n",
       "      <td>...</td>\n",
       "      <td>...</td>\n",
       "      <td>...</td>\n",
       "      <td>...</td>\n",
       "      <td>...</td>\n",
       "      <td>...</td>\n",
       "      <td>...</td>\n",
       "      <td>...</td>\n",
       "      <td>...</td>\n",
       "      <td>...</td>\n",
       "    </tr>\n",
       "    <tr>\n",
       "      <th>74046</th>\n",
       "      <td>74046</td>\n",
       "      <td>F</td>\n",
       "      <td>1.6625</td>\n",
       "      <td>1.2625</td>\n",
       "      <td>0.4375</td>\n",
       "      <td>50.660556</td>\n",
       "      <td>20.680960</td>\n",
       "      <td>10.361742</td>\n",
       "      <td>12.332033</td>\n",
       "      <td>10</td>\n",
       "    </tr>\n",
       "    <tr>\n",
       "      <th>74047</th>\n",
       "      <td>74047</td>\n",
       "      <td>I</td>\n",
       "      <td>1.0750</td>\n",
       "      <td>0.8625</td>\n",
       "      <td>0.2750</td>\n",
       "      <td>10.446791</td>\n",
       "      <td>4.323299</td>\n",
       "      <td>2.296310</td>\n",
       "      <td>3.543687</td>\n",
       "      <td>6</td>\n",
       "    </tr>\n",
       "    <tr>\n",
       "      <th>74048</th>\n",
       "      <td>74048</td>\n",
       "      <td>F</td>\n",
       "      <td>1.4875</td>\n",
       "      <td>1.2000</td>\n",
       "      <td>0.4125</td>\n",
       "      <td>29.483480</td>\n",
       "      <td>12.303683</td>\n",
       "      <td>7.540967</td>\n",
       "      <td>8.079607</td>\n",
       "      <td>10</td>\n",
       "    </tr>\n",
       "    <tr>\n",
       "      <th>74049</th>\n",
       "      <td>74049</td>\n",
       "      <td>I</td>\n",
       "      <td>1.2125</td>\n",
       "      <td>0.9625</td>\n",
       "      <td>0.3125</td>\n",
       "      <td>16.768729</td>\n",
       "      <td>8.972617</td>\n",
       "      <td>2.919999</td>\n",
       "      <td>4.280774</td>\n",
       "      <td>8</td>\n",
       "    </tr>\n",
       "    <tr>\n",
       "      <th>74050</th>\n",
       "      <td>74050</td>\n",
       "      <td>I</td>\n",
       "      <td>0.9125</td>\n",
       "      <td>0.6750</td>\n",
       "      <td>0.2000</td>\n",
       "      <td>5.386405</td>\n",
       "      <td>2.055339</td>\n",
       "      <td>1.034757</td>\n",
       "      <td>1.700970</td>\n",
       "      <td>6</td>\n",
       "    </tr>\n",
       "  </tbody>\n",
       "</table>\n",
       "<p>74051 rows × 10 columns</p>\n",
       "</div>"
      ],
      "text/plain": [
       "          id Sex  Length  Diameter  Height     Weight  Shucked Weight  \\\n",
       "0          0   I  1.5250    1.1750  0.3750  28.973189       12.728926   \n",
       "1          1   I  1.1000    0.8250  0.2750  10.418441        4.521745   \n",
       "2          2   M  1.3875    1.1125  0.3750  24.777463       11.339800   \n",
       "3          3   F  1.7000    1.4125  0.5000  50.660556       20.354941   \n",
       "4          4   I  1.2500    1.0125  0.3375  23.289114       11.977664   \n",
       "...      ...  ..     ...       ...     ...        ...             ...   \n",
       "74046  74046   F  1.6625    1.2625  0.4375  50.660556       20.680960   \n",
       "74047  74047   I  1.0750    0.8625  0.2750  10.446791        4.323299   \n",
       "74048  74048   F  1.4875    1.2000  0.4125  29.483480       12.303683   \n",
       "74049  74049   I  1.2125    0.9625  0.3125  16.768729        8.972617   \n",
       "74050  74050   I  0.9125    0.6750  0.2000   5.386405        2.055339   \n",
       "\n",
       "       Viscera Weight  Shell Weight  Age  \n",
       "0            6.647958      8.348928    9  \n",
       "1            2.324659      3.401940    8  \n",
       "2            5.556502      6.662133    9  \n",
       "3           10.991839     14.996885   11  \n",
       "4            4.507570      5.953395    8  \n",
       "...               ...           ...  ...  \n",
       "74046       10.361742     12.332033   10  \n",
       "74047        2.296310      3.543687    6  \n",
       "74048        7.540967      8.079607   10  \n",
       "74049        2.919999      4.280774    8  \n",
       "74050        1.034757      1.700970    6  \n",
       "\n",
       "[74051 rows x 10 columns]"
      ]
     },
     "execution_count": 23,
     "metadata": {},
     "output_type": "execute_result"
    }
   ],
   "source": [
    "data = pd.read_csv('crab_age.csv')\n",
    "data"
   ]
  },
  {
   "cell_type": "code",
   "execution_count": 31,
   "metadata": {},
   "outputs": [
    {
     "data": {
      "text/html": [
       "<div>\n",
       "<style scoped>\n",
       "    .dataframe tbody tr th:only-of-type {\n",
       "        vertical-align: middle;\n",
       "    }\n",
       "\n",
       "    .dataframe tbody tr th {\n",
       "        vertical-align: top;\n",
       "    }\n",
       "\n",
       "    .dataframe thead th {\n",
       "        text-align: right;\n",
       "    }\n",
       "</style>\n",
       "<table border=\"1\" class=\"dataframe\">\n",
       "  <thead>\n",
       "    <tr style=\"text-align: right;\">\n",
       "      <th></th>\n",
       "      <th>Data Size</th>\n",
       "      <th>MAE</th>\n",
       "      <th>MSE</th>\n",
       "      <th>RMSE</th>\n",
       "      <th>R-squared</th>\n",
       "      <th>MAPE</th>\n",
       "    </tr>\n",
       "  </thead>\n",
       "  <tbody>\n",
       "    <tr>\n",
       "      <th>0</th>\n",
       "      <td>20000rows data</td>\n",
       "      <td>0.971685</td>\n",
       "      <td>0.958411</td>\n",
       "      <td>0.978985</td>\n",
       "      <td>0.904936</td>\n",
       "      <td>11.006251</td>\n",
       "    </tr>\n",
       "    <tr>\n",
       "      <th>1</th>\n",
       "      <td>40000rows data</td>\n",
       "      <td>0.960838</td>\n",
       "      <td>0.940510</td>\n",
       "      <td>0.969799</td>\n",
       "      <td>0.906711</td>\n",
       "      <td>10.871278</td>\n",
       "    </tr>\n",
       "    <tr>\n",
       "      <th>2</th>\n",
       "      <td>60000rows data</td>\n",
       "      <td>0.962861</td>\n",
       "      <td>0.944229</td>\n",
       "      <td>0.971714</td>\n",
       "      <td>0.906342</td>\n",
       "      <td>10.902074</td>\n",
       "    </tr>\n",
       "    <tr>\n",
       "      <th>3</th>\n",
       "      <td>80000rows data</td>\n",
       "      <td>0.961226</td>\n",
       "      <td>0.943197</td>\n",
       "      <td>0.971183</td>\n",
       "      <td>0.906445</td>\n",
       "      <td>10.866947</td>\n",
       "    </tr>\n",
       "    <tr>\n",
       "      <th>4</th>\n",
       "      <td>100000rows data</td>\n",
       "      <td>0.915617</td>\n",
       "      <td>0.890765</td>\n",
       "      <td>0.943804</td>\n",
       "      <td>0.911645</td>\n",
       "      <td>10.473751</td>\n",
       "    </tr>\n",
       "  </tbody>\n",
       "</table>\n",
       "</div>"
      ],
      "text/plain": [
       "         Data Size       MAE       MSE      RMSE  R-squared       MAPE\n",
       "0   20000rows data  0.971685  0.958411  0.978985   0.904936  11.006251\n",
       "1   40000rows data  0.960838  0.940510  0.969799   0.906711  10.871278\n",
       "2   60000rows data  0.962861  0.944229  0.971714   0.906342  10.902074\n",
       "3   80000rows data  0.961226  0.943197  0.971183   0.906445  10.866947\n",
       "4  100000rows data  0.915617  0.890765  0.943804   0.911645  10.473751"
      ]
     },
     "execution_count": 31,
     "metadata": {},
     "output_type": "execute_result"
    }
   ],
   "source": [
    "import pandas as pd\n",
    "from sklearn.model_selection import train_test_split, GridSearchCV\n",
    "from sklearn.ensemble import RandomForestRegressor\n",
    "from sklearn.metrics import mean_absolute_error, mean_squared_error, r2_score\n",
    "import numpy as np\n",
    "from sklearn.preprocessing import OneHotEncoder\n",
    "from sklearn.preprocessing import MinMaxScaler\n",
    "\n",
    "# Function to calculate regression metrics\n",
    "def calculate_regression_metrics(y_true, y_pred):\n",
    "    mae = mean_absolute_error(y_true, y_pred)\n",
    "    mse = mean_squared_error(y_true, y_pred)\n",
    "    rmse = np.sqrt(mse)\n",
    "    r2 = r2_score(y_true, y_pred)\n",
    "\n",
    "    # Avoid division by zero for MAPE\n",
    "    non_zero_mask = y_true != 0\n",
    "    mape = (np.abs(y_true - y_pred) / y_true)[non_zero_mask].mean() * 100\n",
    "\n",
    "    return {\n",
    "        \"MAE\": mae,\n",
    "        \"MSE\": mse,\n",
    "        \"RMSE\": rmse,\n",
    "        \"R-squared\": r2,\n",
    "        \"MAPE\": mape\n",
    "    }\n",
    "\n",
    "# Loading real data\n",
    "real_data = pd.read_csv(\"crab_age.csv\")\n",
    "real_data.drop([\"id\"], axis=1, inplace=True)\n",
    "\n",
    "# Extract target column and input columns from real data\n",
    "target_column = 'Age'\n",
    "input_columns = real_data.drop(columns=[target_column]).columns.tolist()\n",
    "\n",
    "input_columns = list(real_data.select_dtypes(include=np.number).columns.tolist()) + list(real_data.select_dtypes(exclude=np.number).columns.tolist())\n",
    "input_columns = set(input_columns) - set([\"Sex\"])\n",
    "input_columns = list(input_columns)\n",
    "\n",
    "# Function for learning curve evaluation\n",
    "def learning_curve_evaluation(data_sizes, real_data, target_column, input_columns):\n",
    "    performance_metrics = []\n",
    "\n",
    "    for size, synthetic_data in data_sizes.items():\n",
    "        # Preprocessing\n",
    "        X_synthetic = synthetic_data[input_columns]\n",
    "        y_synthetic = synthetic_data[target_column]\n",
    "        X_real = real_data[input_columns]\n",
    "        y_real = real_data[target_column]\n",
    "        scaler = MinMaxScaler()\n",
    "        X_synthetic[X_synthetic.select_dtypes(include=np.number).columns.tolist()] = scaler.fit_transform(X_synthetic[X_synthetic.select_dtypes(include=np.number).columns.tolist()])\n",
    "        X_real[X_real.select_dtypes(include=np.number).columns.tolist()] = scaler.fit_transform(X_real[X_real.select_dtypes(include=np.number).columns.tolist()])\n",
    "\n",
    "        encoder = OneHotEncoder(sparse=False, handle_unknown=\"ignore\")\n",
    "\n",
    "        encoder.fit(X_synthetic[X_synthetic.select_dtypes(exclude=np.number).columns.tolist()])\n",
    "        encoded_cols = encoder.get_feature_names_out()\n",
    "        encoded_cols\n",
    "\n",
    "        X_synthetic[encoded_cols] = encoder.transform(X_synthetic[X_synthetic.select_dtypes(exclude=np.number).columns.tolist()])\n",
    "        X_real[encoded_cols] = encoder.transform(X_real[X_real.select_dtypes(exclude=np.number).columns.tolist()])\n",
    "\n",
    "        # Train-test split for synthetic data\n",
    "        X_train, X_val, y_train, y_val = train_test_split(X_synthetic, y_synthetic, test_size=0.1, random_state=42)\n",
    "\n",
    "        # Model training and hyperparameter tuning\n",
    "        rf = RandomForestRegressor(random_state=0)\n",
    "        param_grid = {\n",
    "            'n_estimators': [100, 200, 300, 400],\n",
    "            'max_depth': [1, 3, 5, 7],\n",
    "            'criterion': ['squared_error', 'poisson']\n",
    "        }\n",
    "        grid_search = GridSearchCV(estimator=rf, param_grid=param_grid, scoring='neg_mean_absolute_error', cv=5, n_jobs=-1)\n",
    "        grid_search.fit(X_train, y_train)\n",
    "\n",
    "        # Best model\n",
    "        best_rf = grid_search.best_estimator_\n",
    "\n",
    "        # Predictions and metrics\n",
    "        y_pred = best_rf.predict(X_real)\n",
    "        metrics = calculate_regression_metrics(y_real, y_pred)\n",
    "        performance_metrics.append({'Data Size': size, **metrics})\n",
    "\n",
    "    return pd.DataFrame(performance_metrics)\n",
    "\n",
    "# Running the evaluation\n",
    "learning_curve_results = learning_curve_evaluation(data_size_vary, real_data, target_column, input_columns)\n",
    "learning_curve_results"
   ]
  },
  {
   "cell_type": "markdown",
   "metadata": {},
   "source": [
    "### GMCM Learning Curve Result"
   ]
  },
  {
   "cell_type": "code",
   "execution_count": 32,
   "metadata": {},
   "outputs": [
    {
     "data": {
      "application/vnd.plotly.v1+json": {
       "config": {
        "plotlyServerURL": "https://plot.ly"
       },
       "data": [
        {
         "mode": "lines+markers",
         "name": "MAE",
         "type": "scatter",
         "x": [
          "20000rows data",
          "40000rows data",
          "60000rows data",
          "80000rows data",
          "100000rows data"
         ],
         "y": [
          0.9716846229918267,
          0.9608382869244829,
          0.9628613141399422,
          0.961226208130475,
          0.9156167979524599
         ]
        },
        {
         "mode": "lines+markers",
         "name": "MSE",
         "type": "scatter",
         "x": [
          "20000rows data",
          "40000rows data",
          "60000rows data",
          "80000rows data",
          "100000rows data"
         ],
         "y": [
          0.9584108067657805,
          0.9405100601580703,
          0.9442285848302099,
          0.9431968425027928,
          0.8907651711659121
         ]
        },
        {
         "mode": "lines+markers",
         "name": "RMSE",
         "type": "scatter",
         "x": [
          "20000rows data",
          "40000rows data",
          "60000rows data",
          "80000rows data",
          "100000rows data"
         ],
         "y": [
          0.9789845794320667,
          0.9697989792519223,
          0.9717142506057066,
          0.9711832177827172,
          0.9438035659849523
         ]
        },
        {
         "mode": "lines+markers",
         "name": "R-squared",
         "type": "scatter",
         "x": [
          "20000rows data",
          "40000rows data",
          "60000rows data",
          "80000rows data",
          "100000rows data"
         ],
         "y": [
          0.9049355041741024,
          0.9067110741480175,
          0.9063422347414941,
          0.9064445729700343,
          0.9116452555643488
         ]
        },
        {
         "mode": "lines+markers",
         "name": "MAPE",
         "type": "scatter",
         "x": [
          "20000rows data",
          "40000rows data",
          "60000rows data",
          "80000rows data",
          "100000rows data"
         ],
         "y": [
          11.006250903699035,
          10.871278042286542,
          10.902074144522892,
          10.866946745820202,
          10.47375057369521
         ]
        }
       ],
       "layout": {
        "legend": {
         "title": {
          "text": "Metrics"
         }
        },
        "template": {
         "data": {
          "bar": [
           {
            "error_x": {
             "color": "#2a3f5f"
            },
            "error_y": {
             "color": "#2a3f5f"
            },
            "marker": {
             "line": {
              "color": "#E5ECF6",
              "width": 0.5
             },
             "pattern": {
              "fillmode": "overlay",
              "size": 10,
              "solidity": 0.2
             }
            },
            "type": "bar"
           }
          ],
          "barpolar": [
           {
            "marker": {
             "line": {
              "color": "#E5ECF6",
              "width": 0.5
             },
             "pattern": {
              "fillmode": "overlay",
              "size": 10,
              "solidity": 0.2
             }
            },
            "type": "barpolar"
           }
          ],
          "carpet": [
           {
            "aaxis": {
             "endlinecolor": "#2a3f5f",
             "gridcolor": "white",
             "linecolor": "white",
             "minorgridcolor": "white",
             "startlinecolor": "#2a3f5f"
            },
            "baxis": {
             "endlinecolor": "#2a3f5f",
             "gridcolor": "white",
             "linecolor": "white",
             "minorgridcolor": "white",
             "startlinecolor": "#2a3f5f"
            },
            "type": "carpet"
           }
          ],
          "choropleth": [
           {
            "colorbar": {
             "outlinewidth": 0,
             "ticks": ""
            },
            "type": "choropleth"
           }
          ],
          "contour": [
           {
            "colorbar": {
             "outlinewidth": 0,
             "ticks": ""
            },
            "colorscale": [
             [
              0,
              "#0d0887"
             ],
             [
              0.1111111111111111,
              "#46039f"
             ],
             [
              0.2222222222222222,
              "#7201a8"
             ],
             [
              0.3333333333333333,
              "#9c179e"
             ],
             [
              0.4444444444444444,
              "#bd3786"
             ],
             [
              0.5555555555555556,
              "#d8576b"
             ],
             [
              0.6666666666666666,
              "#ed7953"
             ],
             [
              0.7777777777777778,
              "#fb9f3a"
             ],
             [
              0.8888888888888888,
              "#fdca26"
             ],
             [
              1,
              "#f0f921"
             ]
            ],
            "type": "contour"
           }
          ],
          "contourcarpet": [
           {
            "colorbar": {
             "outlinewidth": 0,
             "ticks": ""
            },
            "type": "contourcarpet"
           }
          ],
          "heatmap": [
           {
            "colorbar": {
             "outlinewidth": 0,
             "ticks": ""
            },
            "colorscale": [
             [
              0,
              "#0d0887"
             ],
             [
              0.1111111111111111,
              "#46039f"
             ],
             [
              0.2222222222222222,
              "#7201a8"
             ],
             [
              0.3333333333333333,
              "#9c179e"
             ],
             [
              0.4444444444444444,
              "#bd3786"
             ],
             [
              0.5555555555555556,
              "#d8576b"
             ],
             [
              0.6666666666666666,
              "#ed7953"
             ],
             [
              0.7777777777777778,
              "#fb9f3a"
             ],
             [
              0.8888888888888888,
              "#fdca26"
             ],
             [
              1,
              "#f0f921"
             ]
            ],
            "type": "heatmap"
           }
          ],
          "heatmapgl": [
           {
            "colorbar": {
             "outlinewidth": 0,
             "ticks": ""
            },
            "colorscale": [
             [
              0,
              "#0d0887"
             ],
             [
              0.1111111111111111,
              "#46039f"
             ],
             [
              0.2222222222222222,
              "#7201a8"
             ],
             [
              0.3333333333333333,
              "#9c179e"
             ],
             [
              0.4444444444444444,
              "#bd3786"
             ],
             [
              0.5555555555555556,
              "#d8576b"
             ],
             [
              0.6666666666666666,
              "#ed7953"
             ],
             [
              0.7777777777777778,
              "#fb9f3a"
             ],
             [
              0.8888888888888888,
              "#fdca26"
             ],
             [
              1,
              "#f0f921"
             ]
            ],
            "type": "heatmapgl"
           }
          ],
          "histogram": [
           {
            "marker": {
             "pattern": {
              "fillmode": "overlay",
              "size": 10,
              "solidity": 0.2
             }
            },
            "type": "histogram"
           }
          ],
          "histogram2d": [
           {
            "colorbar": {
             "outlinewidth": 0,
             "ticks": ""
            },
            "colorscale": [
             [
              0,
              "#0d0887"
             ],
             [
              0.1111111111111111,
              "#46039f"
             ],
             [
              0.2222222222222222,
              "#7201a8"
             ],
             [
              0.3333333333333333,
              "#9c179e"
             ],
             [
              0.4444444444444444,
              "#bd3786"
             ],
             [
              0.5555555555555556,
              "#d8576b"
             ],
             [
              0.6666666666666666,
              "#ed7953"
             ],
             [
              0.7777777777777778,
              "#fb9f3a"
             ],
             [
              0.8888888888888888,
              "#fdca26"
             ],
             [
              1,
              "#f0f921"
             ]
            ],
            "type": "histogram2d"
           }
          ],
          "histogram2dcontour": [
           {
            "colorbar": {
             "outlinewidth": 0,
             "ticks": ""
            },
            "colorscale": [
             [
              0,
              "#0d0887"
             ],
             [
              0.1111111111111111,
              "#46039f"
             ],
             [
              0.2222222222222222,
              "#7201a8"
             ],
             [
              0.3333333333333333,
              "#9c179e"
             ],
             [
              0.4444444444444444,
              "#bd3786"
             ],
             [
              0.5555555555555556,
              "#d8576b"
             ],
             [
              0.6666666666666666,
              "#ed7953"
             ],
             [
              0.7777777777777778,
              "#fb9f3a"
             ],
             [
              0.8888888888888888,
              "#fdca26"
             ],
             [
              1,
              "#f0f921"
             ]
            ],
            "type": "histogram2dcontour"
           }
          ],
          "mesh3d": [
           {
            "colorbar": {
             "outlinewidth": 0,
             "ticks": ""
            },
            "type": "mesh3d"
           }
          ],
          "parcoords": [
           {
            "line": {
             "colorbar": {
              "outlinewidth": 0,
              "ticks": ""
             }
            },
            "type": "parcoords"
           }
          ],
          "pie": [
           {
            "automargin": true,
            "type": "pie"
           }
          ],
          "scatter": [
           {
            "fillpattern": {
             "fillmode": "overlay",
             "size": 10,
             "solidity": 0.2
            },
            "type": "scatter"
           }
          ],
          "scatter3d": [
           {
            "line": {
             "colorbar": {
              "outlinewidth": 0,
              "ticks": ""
             }
            },
            "marker": {
             "colorbar": {
              "outlinewidth": 0,
              "ticks": ""
             }
            },
            "type": "scatter3d"
           }
          ],
          "scattercarpet": [
           {
            "marker": {
             "colorbar": {
              "outlinewidth": 0,
              "ticks": ""
             }
            },
            "type": "scattercarpet"
           }
          ],
          "scattergeo": [
           {
            "marker": {
             "colorbar": {
              "outlinewidth": 0,
              "ticks": ""
             }
            },
            "type": "scattergeo"
           }
          ],
          "scattergl": [
           {
            "marker": {
             "colorbar": {
              "outlinewidth": 0,
              "ticks": ""
             }
            },
            "type": "scattergl"
           }
          ],
          "scattermapbox": [
           {
            "marker": {
             "colorbar": {
              "outlinewidth": 0,
              "ticks": ""
             }
            },
            "type": "scattermapbox"
           }
          ],
          "scatterpolar": [
           {
            "marker": {
             "colorbar": {
              "outlinewidth": 0,
              "ticks": ""
             }
            },
            "type": "scatterpolar"
           }
          ],
          "scatterpolargl": [
           {
            "marker": {
             "colorbar": {
              "outlinewidth": 0,
              "ticks": ""
             }
            },
            "type": "scatterpolargl"
           }
          ],
          "scatterternary": [
           {
            "marker": {
             "colorbar": {
              "outlinewidth": 0,
              "ticks": ""
             }
            },
            "type": "scatterternary"
           }
          ],
          "surface": [
           {
            "colorbar": {
             "outlinewidth": 0,
             "ticks": ""
            },
            "colorscale": [
             [
              0,
              "#0d0887"
             ],
             [
              0.1111111111111111,
              "#46039f"
             ],
             [
              0.2222222222222222,
              "#7201a8"
             ],
             [
              0.3333333333333333,
              "#9c179e"
             ],
             [
              0.4444444444444444,
              "#bd3786"
             ],
             [
              0.5555555555555556,
              "#d8576b"
             ],
             [
              0.6666666666666666,
              "#ed7953"
             ],
             [
              0.7777777777777778,
              "#fb9f3a"
             ],
             [
              0.8888888888888888,
              "#fdca26"
             ],
             [
              1,
              "#f0f921"
             ]
            ],
            "type": "surface"
           }
          ],
          "table": [
           {
            "cells": {
             "fill": {
              "color": "#EBF0F8"
             },
             "line": {
              "color": "white"
             }
            },
            "header": {
             "fill": {
              "color": "#C8D4E3"
             },
             "line": {
              "color": "white"
             }
            },
            "type": "table"
           }
          ]
         },
         "layout": {
          "annotationdefaults": {
           "arrowcolor": "#2a3f5f",
           "arrowhead": 0,
           "arrowwidth": 1
          },
          "autotypenumbers": "strict",
          "coloraxis": {
           "colorbar": {
            "outlinewidth": 0,
            "ticks": ""
           }
          },
          "colorscale": {
           "diverging": [
            [
             0,
             "#8e0152"
            ],
            [
             0.1,
             "#c51b7d"
            ],
            [
             0.2,
             "#de77ae"
            ],
            [
             0.3,
             "#f1b6da"
            ],
            [
             0.4,
             "#fde0ef"
            ],
            [
             0.5,
             "#f7f7f7"
            ],
            [
             0.6,
             "#e6f5d0"
            ],
            [
             0.7,
             "#b8e186"
            ],
            [
             0.8,
             "#7fbc41"
            ],
            [
             0.9,
             "#4d9221"
            ],
            [
             1,
             "#276419"
            ]
           ],
           "sequential": [
            [
             0,
             "#0d0887"
            ],
            [
             0.1111111111111111,
             "#46039f"
            ],
            [
             0.2222222222222222,
             "#7201a8"
            ],
            [
             0.3333333333333333,
             "#9c179e"
            ],
            [
             0.4444444444444444,
             "#bd3786"
            ],
            [
             0.5555555555555556,
             "#d8576b"
            ],
            [
             0.6666666666666666,
             "#ed7953"
            ],
            [
             0.7777777777777778,
             "#fb9f3a"
            ],
            [
             0.8888888888888888,
             "#fdca26"
            ],
            [
             1,
             "#f0f921"
            ]
           ],
           "sequentialminus": [
            [
             0,
             "#0d0887"
            ],
            [
             0.1111111111111111,
             "#46039f"
            ],
            [
             0.2222222222222222,
             "#7201a8"
            ],
            [
             0.3333333333333333,
             "#9c179e"
            ],
            [
             0.4444444444444444,
             "#bd3786"
            ],
            [
             0.5555555555555556,
             "#d8576b"
            ],
            [
             0.6666666666666666,
             "#ed7953"
            ],
            [
             0.7777777777777778,
             "#fb9f3a"
            ],
            [
             0.8888888888888888,
             "#fdca26"
            ],
            [
             1,
             "#f0f921"
            ]
           ]
          },
          "colorway": [
           "#636efa",
           "#EF553B",
           "#00cc96",
           "#ab63fa",
           "#FFA15A",
           "#19d3f3",
           "#FF6692",
           "#B6E880",
           "#FF97FF",
           "#FECB52"
          ],
          "font": {
           "color": "#2a3f5f"
          },
          "geo": {
           "bgcolor": "white",
           "lakecolor": "white",
           "landcolor": "#E5ECF6",
           "showlakes": true,
           "showland": true,
           "subunitcolor": "white"
          },
          "hoverlabel": {
           "align": "left"
          },
          "hovermode": "closest",
          "mapbox": {
           "style": "light"
          },
          "paper_bgcolor": "white",
          "plot_bgcolor": "#E5ECF6",
          "polar": {
           "angularaxis": {
            "gridcolor": "white",
            "linecolor": "white",
            "ticks": ""
           },
           "bgcolor": "#E5ECF6",
           "radialaxis": {
            "gridcolor": "white",
            "linecolor": "white",
            "ticks": ""
           }
          },
          "scene": {
           "xaxis": {
            "backgroundcolor": "#E5ECF6",
            "gridcolor": "white",
            "gridwidth": 2,
            "linecolor": "white",
            "showbackground": true,
            "ticks": "",
            "zerolinecolor": "white"
           },
           "yaxis": {
            "backgroundcolor": "#E5ECF6",
            "gridcolor": "white",
            "gridwidth": 2,
            "linecolor": "white",
            "showbackground": true,
            "ticks": "",
            "zerolinecolor": "white"
           },
           "zaxis": {
            "backgroundcolor": "#E5ECF6",
            "gridcolor": "white",
            "gridwidth": 2,
            "linecolor": "white",
            "showbackground": true,
            "ticks": "",
            "zerolinecolor": "white"
           }
          },
          "shapedefaults": {
           "line": {
            "color": "#2a3f5f"
           }
          },
          "ternary": {
           "aaxis": {
            "gridcolor": "white",
            "linecolor": "white",
            "ticks": ""
           },
           "baxis": {
            "gridcolor": "white",
            "linecolor": "white",
            "ticks": ""
           },
           "bgcolor": "#E5ECF6",
           "caxis": {
            "gridcolor": "white",
            "linecolor": "white",
            "ticks": ""
           }
          },
          "title": {
           "x": 0.05
          },
          "xaxis": {
           "automargin": true,
           "gridcolor": "white",
           "linecolor": "white",
           "ticks": "",
           "title": {
            "standoff": 15
           },
           "zerolinecolor": "white",
           "zerolinewidth": 2
          },
          "yaxis": {
           "automargin": true,
           "gridcolor": "white",
           "linecolor": "white",
           "ticks": "",
           "title": {
            "standoff": 15
           },
           "zerolinecolor": "white",
           "zerolinewidth": 2
          }
         }
        },
        "title": {
         "text": "Performance Metrics across Different Data Sizes"
        },
        "xaxis": {
         "title": {
          "text": "Data Size"
         }
        },
        "yaxis": {
         "title": {
          "text": "Metric Value"
         }
        }
       }
      }
     },
     "metadata": {},
     "output_type": "display_data"
    }
   ],
   "source": [
    "import plotly.graph_objects as go\n",
    "import plotly.subplots as sp\n",
    "import plotly.express as px\n",
    "import matplotlib.pyplot as plt\n",
    "\n",
    "fig = go.Figure()\n",
    "fig.add_trace(go.Scatter(x=learning_curve_results[\"Data Size\"], y=learning_curve_results[\"MAE\"], mode='lines+markers', name='MAE'))\n",
    "fig.add_trace(go.Scatter(x=learning_curve_results[\"Data Size\"], y=learning_curve_results[\"MSE\"], mode='lines+markers', name='MSE'))\n",
    "fig.add_trace(go.Scatter(x=learning_curve_results[\"Data Size\"], y=learning_curve_results[\"RMSE\"], mode='lines+markers', name='RMSE'))\n",
    "fig.add_trace(go.Scatter(x=learning_curve_results[\"Data Size\"], y=learning_curve_results[\"R-squared\"], mode='lines+markers', name='R-squared'))\n",
    "fig.add_trace(go.Scatter(x=learning_curve_results[\"Data Size\"], y=learning_curve_results[\"MAPE\"], mode='lines+markers', name='MAPE'))\n",
    "\n",
    "\n",
    "# Update plot layout\n",
    "fig.update_layout(title='Performance Metrics across Different Data Sizes',\n",
    "                  xaxis_title='Data Size',\n",
    "                  yaxis_title='Metric Value',\n",
    "                  legend_title='Metrics')\n",
    "\n",
    "# Show plot\n",
    "fig.show()"
   ]
  },
  {
   "cell_type": "code",
   "execution_count": 34,
   "metadata": {},
   "outputs": [
    {
     "data": {
      "text/plain": [
       "{'20000rows data runtime':                 Process  Time (seconds)\n",
       " 0     _identify_columns        0.017003\n",
       " 1  handle_missing_value        0.002001\n",
       " 2      assign_intervals        0.021004\n",
       " 3       preprocess_data       55.626577\n",
       " 4      fit_distribution       48.814416\n",
       " 5           compute_cdf      508.481784\n",
       " 6     standard_gaussian       43.242771\n",
       " 7     generate_syn_data     1949.000210\n",
       " 8          post_process       46.037819,\n",
       " '40000rows data runtime':                 Process  Time (seconds)\n",
       " 0     _identify_columns        0.017003\n",
       " 1  handle_missing_value        0.002001\n",
       " 2      assign_intervals        0.021004\n",
       " 3       preprocess_data       55.626577\n",
       " 4      fit_distribution       48.814416\n",
       " 5           compute_cdf      508.481784\n",
       " 6     standard_gaussian       43.242771\n",
       " 7     generate_syn_data     3892.060655\n",
       " 8          post_process       92.162825,\n",
       " '60000rows data runtime':                 Process  Time (seconds)\n",
       " 0     _identify_columns        0.017003\n",
       " 1  handle_missing_value        0.002001\n",
       " 2      assign_intervals        0.021004\n",
       " 3       preprocess_data       55.626577\n",
       " 4      fit_distribution       48.814416\n",
       " 5           compute_cdf      508.481784\n",
       " 6     standard_gaussian       43.242771\n",
       " 7     generate_syn_data     5839.568056\n",
       " 8          post_process      138.495750,\n",
       " '80000rows data runtime':                 Process  Time (seconds)\n",
       " 0     _identify_columns        0.017003\n",
       " 1  handle_missing_value        0.002001\n",
       " 2      assign_intervals        0.021004\n",
       " 3       preprocess_data       55.626577\n",
       " 4      fit_distribution       48.814416\n",
       " 5           compute_cdf      508.481784\n",
       " 6     standard_gaussian       43.242771\n",
       " 7     generate_syn_data     7808.909918\n",
       " 8          post_process      186.248719,\n",
       " '100000rows data runtime':                 Process  Time (seconds)\n",
       " 0     _identify_columns        0.017003\n",
       " 1  handle_missing_value        0.002001\n",
       " 2      assign_intervals        0.021004\n",
       " 3       preprocess_data       55.626577\n",
       " 4      fit_distribution       48.814416\n",
       " 5           compute_cdf      508.481784\n",
       " 6     standard_gaussian       43.242771\n",
       " 7     generate_syn_data     9700.236590\n",
       " 8          post_process      227.165171}"
      ]
     },
     "execution_count": 34,
     "metadata": {},
     "output_type": "execute_result"
    }
   ],
   "source": [
    "runtime_collection"
   ]
  },
  {
   "cell_type": "code",
   "execution_count": 36,
   "metadata": {},
   "outputs": [
    {
     "data": {
      "image/png": "[encoded data removed]",
      "text/plain": [
       "<Figure size 1000x600 with 1 Axes>"
      ]
     },
     "metadata": {},
     "output_type": "display_data"
    }
   ],
   "source": [
    "row_counts = [20000, 40000, 60000, 80000,100000]\n",
    "generate_syn_data_times = []\n",
    "post_process_times = []\n",
    "preprocess_data_times = []\n",
    "\n",
    "for key, value in runtime_collection.items():\n",
    "    generate_syn_data_times.append(value['Time (seconds)'][7])\n",
    "\n",
    "# Plotting\n",
    "plt.figure(figsize=(10, 6))\n",
    "plt.plot(row_counts, generate_syn_data_times, label='Generate Synthetic Data', marker='o')\n",
    "# plt.plot(row_counts, post_process_times, label='Post Process', marker='x')\n",
    "#plt.plot(row_counts, preprocess_data_times, label='Pre Process', marker='v')\n",
    "plt.xlabel('Number of Rows')\n",
    "plt.ylabel('Time (Seconds)')\n",
    "plt.title('Time Taken for Generate Synthetic Data and Post Process across Different Row Counts')\n",
    "plt.legend()\n",
    "plt.grid(True)\n",
    "plt.show()"
   ]
  },
  {
   "cell_type": "code",
   "execution_count": 39,
   "metadata": {},
   "outputs": [],
   "source": [
    "data_size_vary['20000rows data'].to_csv(\"20000_rows_crab_syn_gmcm.csv\", index = False)\n",
    "\n",
    "data_size_vary['40000rows data'].to_csv(\"40000_rows_crab_syn_gmcm.csv\", index = False)\n",
    "\n",
    "data_size_vary['60000rows data'].to_csv(\"60000_rows_crab_syn_gmcm.csv\", index = False)\n",
    "\n",
    "data_size_vary['80000rows data'].to_csv(\"80000_rows_crab_syn_gmcm.csv\", index = False)\n",
    "\n",
    "data_size_vary['100000rows data'].to_csv(\"100000_rows_crab_syn_gmcm.csv\", index = False)\n"
   ]
  },
  {
   "cell_type": "code",
   "execution_count": 40,
   "metadata": {},
   "outputs": [
    {
     "data": {
      "text/html": [
       "<div>\n",
       "<style scoped>\n",
       "    .dataframe tbody tr th:only-of-type {\n",
       "        vertical-align: middle;\n",
       "    }\n",
       "\n",
       "    .dataframe tbody tr th {\n",
       "        vertical-align: top;\n",
       "    }\n",
       "\n",
       "    .dataframe thead th {\n",
       "        text-align: right;\n",
       "    }\n",
       "</style>\n",
       "<table border=\"1\" class=\"dataframe\">\n",
       "  <thead>\n",
       "    <tr style=\"text-align: right;\">\n",
       "      <th></th>\n",
       "      <th>Length</th>\n",
       "      <th>Height</th>\n",
       "      <th>Diameter</th>\n",
       "      <th>Weight</th>\n",
       "      <th>Shell Weight</th>\n",
       "      <th>Sex</th>\n",
       "      <th>Shucked Weight</th>\n",
       "      <th>Viscera Weight</th>\n",
       "      <th>Age</th>\n",
       "      <th>id</th>\n",
       "    </tr>\n",
       "  </thead>\n",
       "  <tbody>\n",
       "    <tr>\n",
       "      <th>0</th>\n",
       "      <td>1.168226</td>\n",
       "      <td>0.298537</td>\n",
       "      <td>0.902364</td>\n",
       "      <td>13.763737</td>\n",
       "      <td>4.961000</td>\n",
       "      <td>I</td>\n",
       "      <td>4.933881</td>\n",
       "      <td>2.924076</td>\n",
       "      <td>9.001348</td>\n",
       "      <td>49575</td>\n",
       "    </tr>\n",
       "    <tr>\n",
       "      <th>1</th>\n",
       "      <td>1.612082</td>\n",
       "      <td>0.427595</td>\n",
       "      <td>1.156595</td>\n",
       "      <td>35.045142</td>\n",
       "      <td>10.006528</td>\n",
       "      <td>F</td>\n",
       "      <td>14.481390</td>\n",
       "      <td>7.890058</td>\n",
       "      <td>11.001691</td>\n",
       "      <td>27062</td>\n",
       "    </tr>\n",
       "    <tr>\n",
       "      <th>2</th>\n",
       "      <td>1.324608</td>\n",
       "      <td>0.364355</td>\n",
       "      <td>1.176651</td>\n",
       "      <td>22.309214</td>\n",
       "      <td>6.400668</td>\n",
       "      <td>F</td>\n",
       "      <td>10.414090</td>\n",
       "      <td>5.066677</td>\n",
       "      <td>9.000037</td>\n",
       "      <td>33547</td>\n",
       "    </tr>\n",
       "    <tr>\n",
       "      <th>3</th>\n",
       "      <td>1.488520</td>\n",
       "      <td>0.386456</td>\n",
       "      <td>1.123976</td>\n",
       "      <td>29.317888</td>\n",
       "      <td>8.107229</td>\n",
       "      <td>I</td>\n",
       "      <td>13.277515</td>\n",
       "      <td>6.191311</td>\n",
       "      <td>12.003041</td>\n",
       "      <td>40595</td>\n",
       "    </tr>\n",
       "    <tr>\n",
       "      <th>4</th>\n",
       "      <td>1.701801</td>\n",
       "      <td>0.475556</td>\n",
       "      <td>1.381219</td>\n",
       "      <td>45.234542</td>\n",
       "      <td>13.081071</td>\n",
       "      <td>F</td>\n",
       "      <td>18.156180</td>\n",
       "      <td>10.212864</td>\n",
       "      <td>10.000149</td>\n",
       "      <td>55467</td>\n",
       "    </tr>\n",
       "    <tr>\n",
       "      <th>...</th>\n",
       "      <td>...</td>\n",
       "      <td>...</td>\n",
       "      <td>...</td>\n",
       "      <td>...</td>\n",
       "      <td>...</td>\n",
       "      <td>...</td>\n",
       "      <td>...</td>\n",
       "      <td>...</td>\n",
       "      <td>...</td>\n",
       "      <td>...</td>\n",
       "    </tr>\n",
       "    <tr>\n",
       "      <th>19995</th>\n",
       "      <td>1.387816</td>\n",
       "      <td>0.376482</td>\n",
       "      <td>1.076352</td>\n",
       "      <td>21.558320</td>\n",
       "      <td>6.284689</td>\n",
       "      <td>M</td>\n",
       "      <td>8.929999</td>\n",
       "      <td>3.586703</td>\n",
       "      <td>9.998723</td>\n",
       "      <td>8648</td>\n",
       "    </tr>\n",
       "    <tr>\n",
       "      <th>19996</th>\n",
       "      <td>1.393659</td>\n",
       "      <td>0.344022</td>\n",
       "      <td>1.091299</td>\n",
       "      <td>21.487503</td>\n",
       "      <td>4.500909</td>\n",
       "      <td>M</td>\n",
       "      <td>11.547549</td>\n",
       "      <td>5.909100</td>\n",
       "      <td>11.000230</td>\n",
       "      <td>6332</td>\n",
       "    </tr>\n",
       "    <tr>\n",
       "      <th>19997</th>\n",
       "      <td>1.183768</td>\n",
       "      <td>0.312322</td>\n",
       "      <td>0.906894</td>\n",
       "      <td>17.228870</td>\n",
       "      <td>5.734375</td>\n",
       "      <td>F</td>\n",
       "      <td>10.163867</td>\n",
       "      <td>4.376880</td>\n",
       "      <td>6.000654</td>\n",
       "      <td>6382</td>\n",
       "    </tr>\n",
       "    <tr>\n",
       "      <th>19998</th>\n",
       "      <td>1.262412</td>\n",
       "      <td>0.311398</td>\n",
       "      <td>0.852032</td>\n",
       "      <td>13.916078</td>\n",
       "      <td>3.782110</td>\n",
       "      <td>F</td>\n",
       "      <td>7.264217</td>\n",
       "      <td>4.121462</td>\n",
       "      <td>9.001091</td>\n",
       "      <td>71350</td>\n",
       "    </tr>\n",
       "    <tr>\n",
       "      <th>19999</th>\n",
       "      <td>1.777192</td>\n",
       "      <td>0.513820</td>\n",
       "      <td>1.412667</td>\n",
       "      <td>52.674162</td>\n",
       "      <td>17.880773</td>\n",
       "      <td>F</td>\n",
       "      <td>22.347543</td>\n",
       "      <td>11.817811</td>\n",
       "      <td>10.999830</td>\n",
       "      <td>58564</td>\n",
       "    </tr>\n",
       "  </tbody>\n",
       "</table>\n",
       "<p>20000 rows × 10 columns</p>\n",
       "</div>"
      ],
      "text/plain": [
       "         Length    Height  Diameter     Weight  Shell Weight Sex  \\\n",
       "0      1.168226  0.298537  0.902364  13.763737      4.961000   I   \n",
       "1      1.612082  0.427595  1.156595  35.045142     10.006528   F   \n",
       "2      1.324608  0.364355  1.176651  22.309214      6.400668   F   \n",
       "3      1.488520  0.386456  1.123976  29.317888      8.107229   I   \n",
       "4      1.701801  0.475556  1.381219  45.234542     13.081071   F   \n",
       "...         ...       ...       ...        ...           ...  ..   \n",
       "19995  1.387816  0.376482  1.076352  21.558320      6.284689   M   \n",
       "19996  1.393659  0.344022  1.091299  21.487503      4.500909   M   \n",
       "19997  1.183768  0.312322  0.906894  17.228870      5.734375   F   \n",
       "19998  1.262412  0.311398  0.852032  13.916078      3.782110   F   \n",
       "19999  1.777192  0.513820  1.412667  52.674162     17.880773   F   \n",
       "\n",
       "       Shucked Weight  Viscera Weight        Age     id  \n",
       "0            4.933881        2.924076   9.001348  49575  \n",
       "1           14.481390        7.890058  11.001691  27062  \n",
       "2           10.414090        5.066677   9.000037  33547  \n",
       "3           13.277515        6.191311  12.003041  40595  \n",
       "4           18.156180       10.212864  10.000149  55467  \n",
       "...               ...             ...        ...    ...  \n",
       "19995        8.929999        3.586703   9.998723   8648  \n",
       "19996       11.547549        5.909100  11.000230   6332  \n",
       "19997       10.163867        4.376880   6.000654   6382  \n",
       "19998        7.264217        4.121462   9.001091  71350  \n",
       "19999       22.347543       11.817811  10.999830  58564  \n",
       "\n",
       "[20000 rows x 10 columns]"
      ]
     },
     "execution_count": 40,
     "metadata": {},
     "output_type": "execute_result"
    }
   ],
   "source": [
    "data_size_vary['20000rows data']"
   ]
  },
  {
   "cell_type": "markdown",
   "metadata": {},
   "source": [
    "## GCKM Learning Curve"
   ]
  },
  {
   "cell_type": "code",
   "execution_count": 2,
   "metadata": {},
   "outputs": [
    {
     "name": "stderr",
     "output_type": "stream",
     "text": [
      "100%|██████████| 2/2 [00:56<00:00, 28.10s/it]\n",
      "  File \"c:\\Users\\10063\\AppData\\Local\\Programs\\Python\\Python38\\lib\\site-packages\\joblib\\externals\\loky\\backend\\context.py\", line 282, in _count_physical_cores\n",
      "    raise ValueError(f\"found {cpu_count_physical} physical cores < 1\")\n",
      "100%|██████████| 10000/10000 [00:11<00:00, 836.99it/s]\n",
      "100%|██████████| 2/2 [00:56<00:00, 28.14s/it]\n",
      "100%|██████████| 20000/20000 [00:23<00:00, 843.22it/s]\n",
      "100%|██████████| 2/2 [00:55<00:00, 27.98s/it]\n",
      "100%|██████████| 30000/30000 [00:35<00:00, 843.22it/s]\n",
      "100%|██████████| 2/2 [00:56<00:00, 28.15s/it]\n",
      "100%|██████████| 40000/40000 [00:47<00:00, 848.31it/s]\n",
      "100%|██████████| 2/2 [00:55<00:00, 27.95s/it]\n",
      "100%|██████████| 50000/50000 [00:59<00:00, 846.22it/s]\n",
      "100%|██████████| 2/2 [00:55<00:00, 27.87s/it]\n",
      "100%|██████████| 60000/60000 [01:10<00:00, 845.38it/s]\n",
      "100%|██████████| 2/2 [00:56<00:00, 28.01s/it]\n",
      "100%|██████████| 70000/70000 [01:22<00:00, 845.43it/s]\n",
      "100%|██████████| 2/2 [00:55<00:00, 27.98s/it]\n",
      "100%|██████████| 80000/80000 [01:34<00:00, 846.92it/s]\n",
      "100%|██████████| 2/2 [00:56<00:00, 28.05s/it]\n",
      "100%|██████████| 90000/90000 [01:47<00:00, 838.22it/s]\n"
     ]
    }
   ],
   "source": [
    "data_size_vary = {}\n",
    "runtime_collection = {}\n",
    "data = pd.read_csv(\"crab_age.csv\")\n",
    "for i in range(9):\n",
    "    import GCKM as G\n",
    "    G = G.GaussianCopulaKmeansSynthesizer(data)\n",
    "    G._identify_columns()\n",
    "    G.convert_datetime_to_numerical()\n",
    "    G.handle_missing_values()\n",
    "    G.assign_intervals()\n",
    "    G.preprocess_data()\n",
    "    G.get_distribution()\n",
    "    G.calculate_cdfs()\n",
    "    G.standard_gaussian_all()\n",
    "    G.optimal_clusters_dynamic()\n",
    "    G.get_Kmeans()\n",
    "    G.generate_data()\n",
    "    G.generate_synthetic_data((i+1)*10000)\n",
    "    G.post_process()\n",
    "    synthetic = G.synthetic_data\n",
    "    synthetic[\"Age\"] = np.round(synthetic[\"Age\"]).astype(int)\n",
    "    data_size_vary[str((i+1)*10000) + \"rows data\"] = synthetic\n",
    "    runtime_collection[str((i+1)*10000) + \"rows data runtime\"] = G.get_execution_times_df()"
   ]
  },
  {
   "cell_type": "code",
   "execution_count": 3,
   "metadata": {},
   "outputs": [
    {
     "data": {
      "text/html": [
       "<div>\n",
       "<style scoped>\n",
       "    .dataframe tbody tr th:only-of-type {\n",
       "        vertical-align: middle;\n",
       "    }\n",
       "\n",
       "    .dataframe tbody tr th {\n",
       "        vertical-align: top;\n",
       "    }\n",
       "\n",
       "    .dataframe thead th {\n",
       "        text-align: right;\n",
       "    }\n",
       "</style>\n",
       "<table border=\"1\" class=\"dataframe\">\n",
       "  <thead>\n",
       "    <tr style=\"text-align: right;\">\n",
       "      <th></th>\n",
       "      <th>Data Size</th>\n",
       "      <th>MAE</th>\n",
       "      <th>MSE</th>\n",
       "      <th>RMSE</th>\n",
       "      <th>R-squared</th>\n",
       "      <th>MAPE</th>\n",
       "    </tr>\n",
       "  </thead>\n",
       "  <tbody>\n",
       "    <tr>\n",
       "      <th>0</th>\n",
       "      <td>10000rows data</td>\n",
       "      <td>2.573411</td>\n",
       "      <td>7.552080</td>\n",
       "      <td>2.748105</td>\n",
       "      <td>0.250911</td>\n",
       "      <td>25.441023</td>\n",
       "    </tr>\n",
       "    <tr>\n",
       "      <th>1</th>\n",
       "      <td>20000rows data</td>\n",
       "      <td>2.008978</td>\n",
       "      <td>4.528314</td>\n",
       "      <td>2.127984</td>\n",
       "      <td>0.550838</td>\n",
       "      <td>20.086076</td>\n",
       "    </tr>\n",
       "    <tr>\n",
       "      <th>2</th>\n",
       "      <td>30000rows data</td>\n",
       "      <td>1.238756</td>\n",
       "      <td>1.798393</td>\n",
       "      <td>1.341042</td>\n",
       "      <td>0.821618</td>\n",
       "      <td>12.399640</td>\n",
       "    </tr>\n",
       "    <tr>\n",
       "      <th>3</th>\n",
       "      <td>40000rows data</td>\n",
       "      <td>2.008814</td>\n",
       "      <td>4.526451</td>\n",
       "      <td>2.127546</td>\n",
       "      <td>0.551023</td>\n",
       "      <td>20.085466</td>\n",
       "    </tr>\n",
       "    <tr>\n",
       "      <th>4</th>\n",
       "      <td>50000rows data</td>\n",
       "      <td>2.355592</td>\n",
       "      <td>6.282247</td>\n",
       "      <td>2.506441</td>\n",
       "      <td>0.376866</td>\n",
       "      <td>23.414009</td>\n",
       "    </tr>\n",
       "    <tr>\n",
       "      <th>5</th>\n",
       "      <td>60000rows data</td>\n",
       "      <td>2.008846</td>\n",
       "      <td>4.527093</td>\n",
       "      <td>2.127697</td>\n",
       "      <td>0.550959</td>\n",
       "      <td>20.085562</td>\n",
       "    </tr>\n",
       "    <tr>\n",
       "      <th>6</th>\n",
       "      <td>70000rows data</td>\n",
       "      <td>2.008832</td>\n",
       "      <td>4.526921</td>\n",
       "      <td>2.127656</td>\n",
       "      <td>0.550976</td>\n",
       "      <td>20.085507</td>\n",
       "    </tr>\n",
       "    <tr>\n",
       "      <th>7</th>\n",
       "      <td>80000rows data</td>\n",
       "      <td>2.008913</td>\n",
       "      <td>4.527960</td>\n",
       "      <td>2.127900</td>\n",
       "      <td>0.550873</td>\n",
       "      <td>20.085800</td>\n",
       "    </tr>\n",
       "    <tr>\n",
       "      <th>8</th>\n",
       "      <td>90000rows data</td>\n",
       "      <td>1.597081</td>\n",
       "      <td>3.009141</td>\n",
       "      <td>1.734688</td>\n",
       "      <td>0.701524</td>\n",
       "      <td>15.782167</td>\n",
       "    </tr>\n",
       "  </tbody>\n",
       "</table>\n",
       "</div>"
      ],
      "text/plain": [
       "        Data Size       MAE       MSE      RMSE  R-squared       MAPE\n",
       "0  10000rows data  2.573411  7.552080  2.748105   0.250911  25.441023\n",
       "1  20000rows data  2.008978  4.528314  2.127984   0.550838  20.086076\n",
       "2  30000rows data  1.238756  1.798393  1.341042   0.821618  12.399640\n",
       "3  40000rows data  2.008814  4.526451  2.127546   0.551023  20.085466\n",
       "4  50000rows data  2.355592  6.282247  2.506441   0.376866  23.414009\n",
       "5  60000rows data  2.008846  4.527093  2.127697   0.550959  20.085562\n",
       "6  70000rows data  2.008832  4.526921  2.127656   0.550976  20.085507\n",
       "7  80000rows data  2.008913  4.527960  2.127900   0.550873  20.085800\n",
       "8  90000rows data  1.597081  3.009141  1.734688   0.701524  15.782167"
      ]
     },
     "execution_count": 3,
     "metadata": {},
     "output_type": "execute_result"
    }
   ],
   "source": [
    "import pandas as pd\n",
    "from sklearn.model_selection import train_test_split, GridSearchCV\n",
    "from sklearn.ensemble import RandomForestRegressor\n",
    "from sklearn.metrics import mean_absolute_error, mean_squared_error, r2_score\n",
    "import numpy as np\n",
    "from sklearn.preprocessing import OneHotEncoder\n",
    "from sklearn.preprocessing import MinMaxScaler\n",
    "\n",
    "# Function to calculate regression metrics\n",
    "def calculate_regression_metrics(y_true, y_pred):\n",
    "    mae = mean_absolute_error(y_true, y_pred)\n",
    "    mse = mean_squared_error(y_true, y_pred)\n",
    "    rmse = np.sqrt(mse)\n",
    "    r2 = r2_score(y_true, y_pred)\n",
    "\n",
    "    # Avoid division by zero for MAPE\n",
    "    non_zero_mask = y_true != 0\n",
    "    mape = (np.abs(y_true - y_pred) / y_true)[non_zero_mask].mean() * 100\n",
    "\n",
    "    return {\n",
    "        \"MAE\": mae,\n",
    "        \"MSE\": mse,\n",
    "        \"RMSE\": rmse,\n",
    "        \"R-squared\": r2,\n",
    "        \"MAPE\": mape\n",
    "    }\n",
    "\n",
    "# Loading real data\n",
    "real_data = pd.read_csv(\"crab_age.csv\")\n",
    "real_data.drop([\"id\"], axis=1, inplace=True)\n",
    "\n",
    "# Extract target column and input columns from real data\n",
    "target_column = 'Age'\n",
    "input_columns = real_data.drop(columns=[target_column]).columns.tolist()\n",
    "\n",
    "input_columns = list(real_data.select_dtypes(include=np.number).columns.tolist()) + list(real_data.select_dtypes(exclude=np.number).columns.tolist())\n",
    "input_columns = set(input_columns) - set([\"Sex\"])\n",
    "input_columns = list(input_columns)\n",
    "\n",
    "# Function for learning curve evaluation\n",
    "def learning_curve_evaluation(data_sizes, real_data, target_column, input_columns):\n",
    "    performance_metrics = []\n",
    "\n",
    "    for size, synthetic_data in data_sizes.items():\n",
    "        # Preprocessing\n",
    "        X_synthetic = synthetic_data[input_columns]\n",
    "        y_synthetic = synthetic_data[target_column]\n",
    "        X_real = real_data[input_columns]\n",
    "        y_real = real_data[target_column]\n",
    "        scaler = MinMaxScaler()\n",
    "        X_synthetic[X_synthetic.select_dtypes(include=np.number).columns.tolist()] = scaler.fit_transform(X_synthetic[X_synthetic.select_dtypes(include=np.number).columns.tolist()])\n",
    "        X_real[X_real.select_dtypes(include=np.number).columns.tolist()] = scaler.fit_transform(X_real[X_real.select_dtypes(include=np.number).columns.tolist()])\n",
    "\n",
    "        encoder = OneHotEncoder(sparse=False, handle_unknown=\"ignore\")\n",
    "\n",
    "        encoder.fit(X_synthetic[X_synthetic.select_dtypes(exclude=np.number).columns.tolist()])\n",
    "        encoded_cols = encoder.get_feature_names_out()\n",
    "        encoded_cols\n",
    "\n",
    "        X_synthetic[encoded_cols] = encoder.transform(X_synthetic[X_synthetic.select_dtypes(exclude=np.number).columns.tolist()])\n",
    "        X_real[encoded_cols] = encoder.transform(X_real[X_real.select_dtypes(exclude=np.number).columns.tolist()])\n",
    "\n",
    "        # Train-test split for synthetic data\n",
    "        X_train, X_val, y_train, y_val = train_test_split(X_synthetic, y_synthetic, test_size=0.1, random_state=42)\n",
    "\n",
    "        # Model training and hyperparameter tuning\n",
    "        rf = RandomForestRegressor(random_state=0)\n",
    "        param_grid = {\n",
    "            'n_estimators': [100, 200, 300, 400],\n",
    "            'max_depth': [1, 3, 5, 7],\n",
    "            'criterion': ['squared_error', 'poisson']\n",
    "        }\n",
    "        grid_search = GridSearchCV(estimator=rf, param_grid=param_grid, scoring='neg_mean_absolute_error', cv=5, n_jobs=-1)\n",
    "        grid_search.fit(X_train, y_train)\n",
    "\n",
    "        # Best model\n",
    "        best_rf = grid_search.best_estimator_\n",
    "\n",
    "        # Predictions and metrics\n",
    "        y_pred = best_rf.predict(X_real)\n",
    "        metrics = calculate_regression_metrics(y_real, y_pred)\n",
    "        performance_metrics.append({'Data Size': size, **metrics})\n",
    "\n",
    "    return pd.DataFrame(performance_metrics)\n",
    "\n",
    "# Running the evaluation\n",
    "learning_curve_results = learning_curve_evaluation(data_size_vary, real_data, target_column, input_columns)\n",
    "learning_curve_results"
   ]
  },
  {
   "cell_type": "markdown",
   "metadata": {},
   "source": [
    "### GCKM Learning Curve Result"
   ]
  },
  {
   "cell_type": "code",
   "execution_count": 5,
   "metadata": {},
   "outputs": [
    {
     "data": {
      "application/vnd.plotly.v1+json": {
       "config": {
        "plotlyServerURL": "https://plot.ly"
       },
       "data": [
        {
         "mode": "lines+markers",
         "name": "MAE",
         "type": "scatter",
         "x": [
          "10000rows data",
          "20000rows data",
          "30000rows data",
          "40000rows data",
          "50000rows data",
          "60000rows data",
          "70000rows data",
          "80000rows data",
          "90000rows data"
         ],
         "y": [
          2.573411044897629,
          2.0089780887173596,
          1.2387558730187875,
          2.008814394132192,
          2.3555916188359394,
          2.008846321931811,
          2.008831605112476,
          2.008912549407225,
          1.5970814780902234
         ]
        },
        {
         "mode": "lines+markers",
         "name": "MSE",
         "type": "scatter",
         "x": [
          "10000rows data",
          "20000rows data",
          "30000rows data",
          "40000rows data",
          "50000rows data",
          "60000rows data",
          "70000rows data",
          "80000rows data",
          "90000rows data"
         ],
         "y": [
          7.552080158386246,
          4.528314106935493,
          1.7983925465084265,
          4.526451078824791,
          6.282247324188484,
          4.5270929239728845,
          4.526921347930186,
          4.527960068018955,
          3.0091408583307855
         ]
        },
        {
         "mode": "lines+markers",
         "name": "RMSE",
         "type": "scatter",
         "x": [
          "10000rows data",
          "20000rows data",
          "30000rows data",
          "40000rows data",
          "50000rows data",
          "60000rows data",
          "70000rows data",
          "80000rows data",
          "90000rows data"
         ],
         "y": [
          2.748104830312382,
          2.127983577694032,
          1.3410415901486525,
          2.1275457877152237,
          2.5064411671109466,
          2.1276966240450927,
          2.127656303995123,
          2.127900389590395,
          1.734687539106333
         ]
        },
        {
         "mode": "lines+markers",
         "name": "R-squared",
         "type": "scatter",
         "x": [
          "10000rows data",
          "20000rows data",
          "30000rows data",
          "40000rows data",
          "50000rows data",
          "60000rows data",
          "70000rows data",
          "80000rows data",
          "90000rows data"
         ],
         "y": [
          0.25091131315967674,
          0.5508378093421009,
          0.8216179538836772,
          0.5510226025714793,
          0.37686567147241834,
          0.5509589381334626,
          0.5509759567124266,
          0.550872926361719,
          0.7015241725709863
         ]
        },
        {
         "mode": "lines+markers",
         "name": "MAPE",
         "type": "scatter",
         "x": [
          "10000rows data",
          "20000rows data",
          "30000rows data",
          "40000rows data",
          "50000rows data",
          "60000rows data",
          "70000rows data",
          "80000rows data",
          "90000rows data"
         ],
         "y": [
          25.441022893116454,
          20.0860761892887,
          12.399639994324884,
          20.085465813282482,
          23.41400931606721,
          20.085561719319216,
          20.085507431232795,
          20.085799826780384,
          15.782166933640468
         ]
        }
       ],
       "layout": {
        "legend": {
         "title": {
          "text": "Metrics"
         }
        },
        "template": {
         "data": {
          "bar": [
           {
            "error_x": {
             "color": "#2a3f5f"
            },
            "error_y": {
             "color": "#2a3f5f"
            },
            "marker": {
             "line": {
              "color": "#E5ECF6",
              "width": 0.5
             },
             "pattern": {
              "fillmode": "overlay",
              "size": 10,
              "solidity": 0.2
             }
            },
            "type": "bar"
           }
          ],
          "barpolar": [
           {
            "marker": {
             "line": {
              "color": "#E5ECF6",
              "width": 0.5
             },
             "pattern": {
              "fillmode": "overlay",
              "size": 10,
              "solidity": 0.2
             }
            },
            "type": "barpolar"
           }
          ],
          "carpet": [
           {
            "aaxis": {
             "endlinecolor": "#2a3f5f",
             "gridcolor": "white",
             "linecolor": "white",
             "minorgridcolor": "white",
             "startlinecolor": "#2a3f5f"
            },
            "baxis": {
             "endlinecolor": "#2a3f5f",
             "gridcolor": "white",
             "linecolor": "white",
             "minorgridcolor": "white",
             "startlinecolor": "#2a3f5f"
            },
            "type": "carpet"
           }
          ],
          "choropleth": [
           {
            "colorbar": {
             "outlinewidth": 0,
             "ticks": ""
            },
            "type": "choropleth"
           }
          ],
          "contour": [
           {
            "colorbar": {
             "outlinewidth": 0,
             "ticks": ""
            },
            "colorscale": [
             [
              0,
              "#0d0887"
             ],
             [
              0.1111111111111111,
              "#46039f"
             ],
             [
              0.2222222222222222,
              "#7201a8"
             ],
             [
              0.3333333333333333,
              "#9c179e"
             ],
             [
              0.4444444444444444,
              "#bd3786"
             ],
             [
              0.5555555555555556,
              "#d8576b"
             ],
             [
              0.6666666666666666,
              "#ed7953"
             ],
             [
              0.7777777777777778,
              "#fb9f3a"
             ],
             [
              0.8888888888888888,
              "#fdca26"
             ],
             [
              1,
              "#f0f921"
             ]
            ],
            "type": "contour"
           }
          ],
          "contourcarpet": [
           {
            "colorbar": {
             "outlinewidth": 0,
             "ticks": ""
            },
            "type": "contourcarpet"
           }
          ],
          "heatmap": [
           {
            "colorbar": {
             "outlinewidth": 0,
             "ticks": ""
            },
            "colorscale": [
             [
              0,
              "#0d0887"
             ],
             [
              0.1111111111111111,
              "#46039f"
             ],
             [
              0.2222222222222222,
              "#7201a8"
             ],
             [
              0.3333333333333333,
              "#9c179e"
             ],
             [
              0.4444444444444444,
              "#bd3786"
             ],
             [
              0.5555555555555556,
              "#d8576b"
             ],
             [
              0.6666666666666666,
              "#ed7953"
             ],
             [
              0.7777777777777778,
              "#fb9f3a"
             ],
             [
              0.8888888888888888,
              "#fdca26"
             ],
             [
              1,
              "#f0f921"
             ]
            ],
            "type": "heatmap"
           }
          ],
          "heatmapgl": [
           {
            "colorbar": {
             "outlinewidth": 0,
             "ticks": ""
            },
            "colorscale": [
             [
              0,
              "#0d0887"
             ],
             [
              0.1111111111111111,
              "#46039f"
             ],
             [
              0.2222222222222222,
              "#7201a8"
             ],
             [
              0.3333333333333333,
              "#9c179e"
             ],
             [
              0.4444444444444444,
              "#bd3786"
             ],
             [
              0.5555555555555556,
              "#d8576b"
             ],
             [
              0.6666666666666666,
              "#ed7953"
             ],
             [
              0.7777777777777778,
              "#fb9f3a"
             ],
             [
              0.8888888888888888,
              "#fdca26"
             ],
             [
              1,
              "#f0f921"
             ]
            ],
            "type": "heatmapgl"
           }
          ],
          "histogram": [
           {
            "marker": {
             "pattern": {
              "fillmode": "overlay",
              "size": 10,
              "solidity": 0.2
             }
            },
            "type": "histogram"
           }
          ],
          "histogram2d": [
           {
            "colorbar": {
             "outlinewidth": 0,
             "ticks": ""
            },
            "colorscale": [
             [
              0,
              "#0d0887"
             ],
             [
              0.1111111111111111,
              "#46039f"
             ],
             [
              0.2222222222222222,
              "#7201a8"
             ],
             [
              0.3333333333333333,
              "#9c179e"
             ],
             [
              0.4444444444444444,
              "#bd3786"
             ],
             [
              0.5555555555555556,
              "#d8576b"
             ],
             [
              0.6666666666666666,
              "#ed7953"
             ],
             [
              0.7777777777777778,
              "#fb9f3a"
             ],
             [
              0.8888888888888888,
              "#fdca26"
             ],
             [
              1,
              "#f0f921"
             ]
            ],
            "type": "histogram2d"
           }
          ],
          "histogram2dcontour": [
           {
            "colorbar": {
             "outlinewidth": 0,
             "ticks": ""
            },
            "colorscale": [
             [
              0,
              "#0d0887"
             ],
             [
              0.1111111111111111,
              "#46039f"
             ],
             [
              0.2222222222222222,
              "#7201a8"
             ],
             [
              0.3333333333333333,
              "#9c179e"
             ],
             [
              0.4444444444444444,
              "#bd3786"
             ],
             [
              0.5555555555555556,
              "#d8576b"
             ],
             [
              0.6666666666666666,
              "#ed7953"
             ],
             [
              0.7777777777777778,
              "#fb9f3a"
             ],
             [
              0.8888888888888888,
              "#fdca26"
             ],
             [
              1,
              "#f0f921"
             ]
            ],
            "type": "histogram2dcontour"
           }
          ],
          "mesh3d": [
           {
            "colorbar": {
             "outlinewidth": 0,
             "ticks": ""
            },
            "type": "mesh3d"
           }
          ],
          "parcoords": [
           {
            "line": {
             "colorbar": {
              "outlinewidth": 0,
              "ticks": ""
             }
            },
            "type": "parcoords"
           }
          ],
          "pie": [
           {
            "automargin": true,
            "type": "pie"
           }
          ],
          "scatter": [
           {
            "fillpattern": {
             "fillmode": "overlay",
             "size": 10,
             "solidity": 0.2
            },
            "type": "scatter"
           }
          ],
          "scatter3d": [
           {
            "line": {
             "colorbar": {
              "outlinewidth": 0,
              "ticks": ""
             }
            },
            "marker": {
             "colorbar": {
              "outlinewidth": 0,
              "ticks": ""
             }
            },
            "type": "scatter3d"
           }
          ],
          "scattercarpet": [
           {
            "marker": {
             "colorbar": {
              "outlinewidth": 0,
              "ticks": ""
             }
            },
            "type": "scattercarpet"
           }
          ],
          "scattergeo": [
           {
            "marker": {
             "colorbar": {
              "outlinewidth": 0,
              "ticks": ""
             }
            },
            "type": "scattergeo"
           }
          ],
          "scattergl": [
           {
            "marker": {
             "colorbar": {
              "outlinewidth": 0,
              "ticks": ""
             }
            },
            "type": "scattergl"
           }
          ],
          "scattermapbox": [
           {
            "marker": {
             "colorbar": {
              "outlinewidth": 0,
              "ticks": ""
             }
            },
            "type": "scattermapbox"
           }
          ],
          "scatterpolar": [
           {
            "marker": {
             "colorbar": {
              "outlinewidth": 0,
              "ticks": ""
             }
            },
            "type": "scatterpolar"
           }
          ],
          "scatterpolargl": [
           {
            "marker": {
             "colorbar": {
              "outlinewidth": 0,
              "ticks": ""
             }
            },
            "type": "scatterpolargl"
           }
          ],
          "scatterternary": [
           {
            "marker": {
             "colorbar": {
              "outlinewidth": 0,
              "ticks": ""
             }
            },
            "type": "scatterternary"
           }
          ],
          "surface": [
           {
            "colorbar": {
             "outlinewidth": 0,
             "ticks": ""
            },
            "colorscale": [
             [
              0,
              "#0d0887"
             ],
             [
              0.1111111111111111,
              "#46039f"
             ],
             [
              0.2222222222222222,
              "#7201a8"
             ],
             [
              0.3333333333333333,
              "#9c179e"
             ],
             [
              0.4444444444444444,
              "#bd3786"
             ],
             [
              0.5555555555555556,
              "#d8576b"
             ],
             [
              0.6666666666666666,
              "#ed7953"
             ],
             [
              0.7777777777777778,
              "#fb9f3a"
             ],
             [
              0.8888888888888888,
              "#fdca26"
             ],
             [
              1,
              "#f0f921"
             ]
            ],
            "type": "surface"
           }
          ],
          "table": [
           {
            "cells": {
             "fill": {
              "color": "#EBF0F8"
             },
             "line": {
              "color": "white"
             }
            },
            "header": {
             "fill": {
              "color": "#C8D4E3"
             },
             "line": {
              "color": "white"
             }
            },
            "type": "table"
           }
          ]
         },
         "layout": {
          "annotationdefaults": {
           "arrowcolor": "#2a3f5f",
           "arrowhead": 0,
           "arrowwidth": 1
          },
          "autotypenumbers": "strict",
          "coloraxis": {
           "colorbar": {
            "outlinewidth": 0,
            "ticks": ""
           }
          },
          "colorscale": {
           "diverging": [
            [
             0,
             "#8e0152"
            ],
            [
             0.1,
             "#c51b7d"
            ],
            [
             0.2,
             "#de77ae"
            ],
            [
             0.3,
             "#f1b6da"
            ],
            [
             0.4,
             "#fde0ef"
            ],
            [
             0.5,
             "#f7f7f7"
            ],
            [
             0.6,
             "#e6f5d0"
            ],
            [
             0.7,
             "#b8e186"
            ],
            [
             0.8,
             "#7fbc41"
            ],
            [
             0.9,
             "#4d9221"
            ],
            [
             1,
             "#276419"
            ]
           ],
           "sequential": [
            [
             0,
             "#0d0887"
            ],
            [
             0.1111111111111111,
             "#46039f"
            ],
            [
             0.2222222222222222,
             "#7201a8"
            ],
            [
             0.3333333333333333,
             "#9c179e"
            ],
            [
             0.4444444444444444,
             "#bd3786"
            ],
            [
             0.5555555555555556,
             "#d8576b"
            ],
            [
             0.6666666666666666,
             "#ed7953"
            ],
            [
             0.7777777777777778,
             "#fb9f3a"
            ],
            [
             0.8888888888888888,
             "#fdca26"
            ],
            [
             1,
             "#f0f921"
            ]
           ],
           "sequentialminus": [
            [
             0,
             "#0d0887"
            ],
            [
             0.1111111111111111,
             "#46039f"
            ],
            [
             0.2222222222222222,
             "#7201a8"
            ],
            [
             0.3333333333333333,
             "#9c179e"
            ],
            [
             0.4444444444444444,
             "#bd3786"
            ],
            [
             0.5555555555555556,
             "#d8576b"
            ],
            [
             0.6666666666666666,
             "#ed7953"
            ],
            [
             0.7777777777777778,
             "#fb9f3a"
            ],
            [
             0.8888888888888888,
             "#fdca26"
            ],
            [
             1,
             "#f0f921"
            ]
           ]
          },
          "colorway": [
           "#636efa",
           "#EF553B",
           "#00cc96",
           "#ab63fa",
           "#FFA15A",
           "#19d3f3",
           "#FF6692",
           "#B6E880",
           "#FF97FF",
           "#FECB52"
          ],
          "font": {
           "color": "#2a3f5f"
          },
          "geo": {
           "bgcolor": "white",
           "lakecolor": "white",
           "landcolor": "#E5ECF6",
           "showlakes": true,
           "showland": true,
           "subunitcolor": "white"
          },
          "hoverlabel": {
           "align": "left"
          },
          "hovermode": "closest",
          "mapbox": {
           "style": "light"
          },
          "paper_bgcolor": "white",
          "plot_bgcolor": "#E5ECF6",
          "polar": {
           "angularaxis": {
            "gridcolor": "white",
            "linecolor": "white",
            "ticks": ""
           },
           "bgcolor": "#E5ECF6",
           "radialaxis": {
            "gridcolor": "white",
            "linecolor": "white",
            "ticks": ""
           }
          },
          "scene": {
           "xaxis": {
            "backgroundcolor": "#E5ECF6",
            "gridcolor": "white",
            "gridwidth": 2,
            "linecolor": "white",
            "showbackground": true,
            "ticks": "",
            "zerolinecolor": "white"
           },
           "yaxis": {
            "backgroundcolor": "#E5ECF6",
            "gridcolor": "white",
            "gridwidth": 2,
            "linecolor": "white",
            "showbackground": true,
            "ticks": "",
            "zerolinecolor": "white"
           },
           "zaxis": {
            "backgroundcolor": "#E5ECF6",
            "gridcolor": "white",
            "gridwidth": 2,
            "linecolor": "white",
            "showbackground": true,
            "ticks": "",
            "zerolinecolor": "white"
           }
          },
          "shapedefaults": {
           "line": {
            "color": "#2a3f5f"
           }
          },
          "ternary": {
           "aaxis": {
            "gridcolor": "white",
            "linecolor": "white",
            "ticks": ""
           },
           "baxis": {
            "gridcolor": "white",
            "linecolor": "white",
            "ticks": ""
           },
           "bgcolor": "#E5ECF6",
           "caxis": {
            "gridcolor": "white",
            "linecolor": "white",
            "ticks": ""
           }
          },
          "title": {
           "x": 0.05
          },
          "xaxis": {
           "automargin": true,
           "gridcolor": "white",
           "linecolor": "white",
           "ticks": "",
           "title": {
            "standoff": 15
           },
           "zerolinecolor": "white",
           "zerolinewidth": 2
          },
          "yaxis": {
           "automargin": true,
           "gridcolor": "white",
           "linecolor": "white",
           "ticks": "",
           "title": {
            "standoff": 15
           },
           "zerolinecolor": "white",
           "zerolinewidth": 2
          }
         }
        },
        "title": {
         "text": "Performance Metrics across Different Data Sizes"
        },
        "xaxis": {
         "title": {
          "text": "Data Size"
         }
        },
        "yaxis": {
         "title": {
          "text": "Metric Value"
         }
        }
       }
      }
     },
     "metadata": {},
     "output_type": "display_data"
    }
   ],
   "source": [
    "import plotly.graph_objects as go\n",
    "fig = go.Figure()\n",
    "fig.add_trace(go.Scatter(x=learning_curve_results[\"Data Size\"], y=learning_curve_results[\"MAE\"], mode='lines+markers', name='MAE'))\n",
    "fig.add_trace(go.Scatter(x=learning_curve_results[\"Data Size\"], y=learning_curve_results[\"MSE\"], mode='lines+markers', name='MSE'))\n",
    "fig.add_trace(go.Scatter(x=learning_curve_results[\"Data Size\"], y=learning_curve_results[\"RMSE\"], mode='lines+markers', name='RMSE'))\n",
    "fig.add_trace(go.Scatter(x=learning_curve_results[\"Data Size\"], y=learning_curve_results[\"R-squared\"], mode='lines+markers', name='R-squared'))\n",
    "fig.add_trace(go.Scatter(x=learning_curve_results[\"Data Size\"], y=learning_curve_results[\"MAPE\"], mode='lines+markers', name='MAPE'))\n",
    "\n",
    "\n",
    "# Update plot layout\n",
    "fig.update_layout(title='Performance Metrics across Different Data Sizes',\n",
    "                  xaxis_title='Data Size',\n",
    "                  yaxis_title='Metric Value',\n",
    "                  legend_title='Metrics')\n",
    "\n",
    "# Show plot\n",
    "fig.show()"
   ]
  },
  {
   "cell_type": "code",
   "execution_count": 7,
   "metadata": {},
   "outputs": [
    {
     "data": {
      "image/png": "[encoded data removed]",
      "text/plain": [
       "<Figure size 1000x600 with 1 Axes>"
      ]
     },
     "metadata": {},
     "output_type": "display_data"
    }
   ],
   "source": [
    "import matplotlib.pyplot as plt\n",
    "\n",
    "row_counts = [10000, 20000, 30000, 40000, 50000, 60000, 70000, 80000, 90000]\n",
    "generate_syn_data_times = []\n",
    "post_process_times = []\n",
    "preprocess_data_times = []\n",
    "\n",
    "for key, value in runtime_collection.items():\n",
    "    generate_syn_data_times.append(value['Time (seconds)'][3])\n",
    "    post_process_times.append(value['Time (seconds)'][4]) \n",
    "    preprocess_data_times.append(value['Time (seconds)'][2]) \n",
    "\n",
    "# Plotting\n",
    "plt.figure(figsize=(10, 6))\n",
    "plt.plot(row_counts, generate_syn_data_times, label='Generate Synthetic Data', marker='o')\n",
    "plt.plot(row_counts, post_process_times, label='Post Process', marker='x')\n",
    "#plt.plot(row_counts, preprocess_data_times, label='Pre Process', marker='v')\n",
    "plt.xlabel('Number of Rows')\n",
    "plt.ylabel('Time (Seconds)')\n",
    "plt.title('Time Taken for Generate Synthetic Data and Post Process across Different Row Counts')\n",
    "plt.legend()\n",
    "plt.grid(True)\n",
    "plt.show()"
   ]
  },
  {
   "cell_type": "markdown",
   "metadata": {},
   "source": [
    "## SDV Learning Curve"
   ]
  },
  {
   "cell_type": "code",
   "execution_count": 4,
   "metadata": {},
   "outputs": [
    {
     "name": "stdout",
     "output_type": "stream",
     "text": [
      "[(10000, 34.39296317100525)]\n",
      "[(10000, 34.39296317100525), (20000, 36.46764159202576)]\n",
      "[(10000, 34.39296317100525), (20000, 36.46764159202576), (30000, 35.78294777870178)]\n",
      "[(10000, 34.39296317100525), (20000, 36.46764159202576), (30000, 35.78294777870178), (40000, 34.463911294937134)]\n",
      "[(10000, 34.39296317100525), (20000, 36.46764159202576), (30000, 35.78294777870178), (40000, 34.463911294937134), (50000, 34.97150540351868)]\n",
      "[(10000, 34.39296317100525), (20000, 36.46764159202576), (30000, 35.78294777870178), (40000, 34.463911294937134), (50000, 34.97150540351868), (60000, 35.39900612831116)]\n",
      "[(10000, 34.39296317100525), (20000, 36.46764159202576), (30000, 35.78294777870178), (40000, 34.463911294937134), (50000, 34.97150540351868), (60000, 35.39900612831116), (70000, 36.538995027542114)]\n",
      "[(10000, 34.39296317100525), (20000, 36.46764159202576), (30000, 35.78294777870178), (40000, 34.463911294937134), (50000, 34.97150540351868), (60000, 35.39900612831116), (70000, 36.538995027542114), (80000, 36.48916959762573)]\n",
      "[(10000, 34.39296317100525), (20000, 36.46764159202576), (30000, 35.78294777870178), (40000, 34.463911294937134), (50000, 34.97150540351868), (60000, 35.39900612831116), (70000, 36.538995027542114), (80000, 36.48916959762573), (90000, 37.519187450408936)]\n"
     ]
    },
    {
     "data": {
      "text/html": [
       "<div>\n",
       "<style scoped>\n",
       "    .dataframe tbody tr th:only-of-type {\n",
       "        vertical-align: middle;\n",
       "    }\n",
       "\n",
       "    .dataframe tbody tr th {\n",
       "        vertical-align: top;\n",
       "    }\n",
       "\n",
       "    .dataframe thead th {\n",
       "        text-align: right;\n",
       "    }\n",
       "</style>\n",
       "<table border=\"1\" class=\"dataframe\">\n",
       "  <thead>\n",
       "    <tr style=\"text-align: right;\">\n",
       "      <th></th>\n",
       "      <th>Rows</th>\n",
       "      <th>Time (seconds)</th>\n",
       "    </tr>\n",
       "  </thead>\n",
       "  <tbody>\n",
       "    <tr>\n",
       "      <th>0</th>\n",
       "      <td>10000</td>\n",
       "      <td>34.392963</td>\n",
       "    </tr>\n",
       "    <tr>\n",
       "      <th>1</th>\n",
       "      <td>20000</td>\n",
       "      <td>36.467642</td>\n",
       "    </tr>\n",
       "    <tr>\n",
       "      <th>2</th>\n",
       "      <td>30000</td>\n",
       "      <td>35.782948</td>\n",
       "    </tr>\n",
       "    <tr>\n",
       "      <th>3</th>\n",
       "      <td>40000</td>\n",
       "      <td>34.463911</td>\n",
       "    </tr>\n",
       "    <tr>\n",
       "      <th>4</th>\n",
       "      <td>50000</td>\n",
       "      <td>34.971505</td>\n",
       "    </tr>\n",
       "    <tr>\n",
       "      <th>5</th>\n",
       "      <td>60000</td>\n",
       "      <td>35.399006</td>\n",
       "    </tr>\n",
       "    <tr>\n",
       "      <th>6</th>\n",
       "      <td>70000</td>\n",
       "      <td>36.538995</td>\n",
       "    </tr>\n",
       "    <tr>\n",
       "      <th>7</th>\n",
       "      <td>80000</td>\n",
       "      <td>36.489170</td>\n",
       "    </tr>\n",
       "    <tr>\n",
       "      <th>8</th>\n",
       "      <td>90000</td>\n",
       "      <td>37.519187</td>\n",
       "    </tr>\n",
       "  </tbody>\n",
       "</table>\n",
       "</div>"
      ],
      "text/plain": [
       "    Rows  Time (seconds)\n",
       "0  10000       34.392963\n",
       "1  20000       36.467642\n",
       "2  30000       35.782948\n",
       "3  40000       34.463911\n",
       "4  50000       34.971505\n",
       "5  60000       35.399006\n",
       "6  70000       36.538995\n",
       "7  80000       36.489170\n",
       "8  90000       37.519187"
      ]
     },
     "execution_count": 4,
     "metadata": {},
     "output_type": "execute_result"
    }
   ],
   "source": [
    "from sdv.metadata import SingleTableMetadata\n",
    "from sdv.evaluation.single_table import evaluate_quality\n",
    "from sdv.single_table import GaussianCopulaSynthesizer\n",
    "import time\n",
    "\n",
    "data_size_vary_sdv = {}\n",
    "timings = []\n",
    "for i in range(9):\n",
    "  start_time = time.time()\n",
    "  metadata1 = SingleTableMetadata()\n",
    "  data_crab = pd.read_csv(\"crab_age.csv\")\n",
    "  metadata1.detect_from_dataframe(data = data_crab)\n",
    "  synthesier = GaussianCopulaSynthesizer(metadata1)\n",
    "  synthesier.fit(data_crab)\n",
    "  synthetic_data = synthesier.sample(num_rows = (i+1)*10000)  #keep the number of rows equal to the data hold\n",
    "  end_time = time.time()\n",
    "  timings.append(((i+1)*10000, end_time - start_time))\n",
    "  print(timings)\n",
    "  data_size_vary_sdv[str((i+1)*10000) + \"rows data\"] = synthetic_data\n",
    "\n",
    "timing_df = pd.DataFrame(timings, columns = [\"Rows\", \"Time (seconds)\"])\n",
    "timing_df\n",
    "\n"
   ]
  },
  {
   "cell_type": "code",
   "execution_count": 5,
   "metadata": {},
   "outputs": [
    {
     "data": {
      "image/png": "[encoded data removed]",
      "text/plain": [
       "<Figure size 1000x600 with 1 Axes>"
      ]
     },
     "metadata": {},
     "output_type": "display_data"
    }
   ],
   "source": [
    "import matplotlib.pyplot as plt\n",
    "\n",
    "plt.figure(figsize=(10, 6))  # Set the figure size\n",
    "plt.plot(timing_df['Rows'], timing_df['Time (seconds)'], marker='o', linestyle='-')\n",
    "plt.title('Time Taken to Generate Synthetic Data by SDV')\n",
    "plt.xlabel('Number of Rows')\n",
    "plt.ylabel('Time (seconds)')\n",
    "plt.grid(True)\n",
    "plt.show()"
   ]
  },
  {
   "cell_type": "code",
   "execution_count": 9,
   "metadata": {},
   "outputs": [
    {
     "data": {
      "text/html": [
       "<div>\n",
       "<style scoped>\n",
       "    .dataframe tbody tr th:only-of-type {\n",
       "        vertical-align: middle;\n",
       "    }\n",
       "\n",
       "    .dataframe tbody tr th {\n",
       "        vertical-align: top;\n",
       "    }\n",
       "\n",
       "    .dataframe thead th {\n",
       "        text-align: right;\n",
       "    }\n",
       "</style>\n",
       "<table border=\"1\" class=\"dataframe\">\n",
       "  <thead>\n",
       "    <tr style=\"text-align: right;\">\n",
       "      <th></th>\n",
       "      <th>Data Size</th>\n",
       "      <th>MAE</th>\n",
       "      <th>MSE</th>\n",
       "      <th>RMSE</th>\n",
       "      <th>R-squared</th>\n",
       "      <th>MAPE</th>\n",
       "    </tr>\n",
       "  </thead>\n",
       "  <tbody>\n",
       "    <tr>\n",
       "      <th>0</th>\n",
       "      <td>10000rows data</td>\n",
       "      <td>0.399299</td>\n",
       "      <td>0.492121</td>\n",
       "      <td>0.701513</td>\n",
       "      <td>0.951187</td>\n",
       "      <td>4.677500</td>\n",
       "    </tr>\n",
       "    <tr>\n",
       "      <th>1</th>\n",
       "      <td>20000rows data</td>\n",
       "      <td>0.399173</td>\n",
       "      <td>0.490872</td>\n",
       "      <td>0.700623</td>\n",
       "      <td>0.951311</td>\n",
       "      <td>4.677047</td>\n",
       "    </tr>\n",
       "    <tr>\n",
       "      <th>2</th>\n",
       "      <td>30000rows data</td>\n",
       "      <td>0.398969</td>\n",
       "      <td>0.489182</td>\n",
       "      <td>0.699416</td>\n",
       "      <td>0.951478</td>\n",
       "      <td>4.676310</td>\n",
       "    </tr>\n",
       "    <tr>\n",
       "      <th>3</th>\n",
       "      <td>40000rows data</td>\n",
       "      <td>0.603332</td>\n",
       "      <td>0.811288</td>\n",
       "      <td>0.900715</td>\n",
       "      <td>0.919529</td>\n",
       "      <td>4.958957</td>\n",
       "    </tr>\n",
       "    <tr>\n",
       "      <th>4</th>\n",
       "      <td>50000rows data</td>\n",
       "      <td>0.105234</td>\n",
       "      <td>0.109624</td>\n",
       "      <td>0.331096</td>\n",
       "      <td>0.989126</td>\n",
       "      <td>1.318256</td>\n",
       "    </tr>\n",
       "    <tr>\n",
       "      <th>5</th>\n",
       "      <td>60000rows data</td>\n",
       "      <td>0.105153</td>\n",
       "      <td>0.109311</td>\n",
       "      <td>0.330623</td>\n",
       "      <td>0.989157</td>\n",
       "      <td>1.317533</td>\n",
       "    </tr>\n",
       "    <tr>\n",
       "      <th>6</th>\n",
       "      <td>70000rows data</td>\n",
       "      <td>0.105310</td>\n",
       "      <td>0.110008</td>\n",
       "      <td>0.331675</td>\n",
       "      <td>0.989088</td>\n",
       "      <td>1.315842</td>\n",
       "    </tr>\n",
       "    <tr>\n",
       "      <th>7</th>\n",
       "      <td>80000rows data</td>\n",
       "      <td>0.105247</td>\n",
       "      <td>0.109545</td>\n",
       "      <td>0.330976</td>\n",
       "      <td>0.989134</td>\n",
       "      <td>1.317703</td>\n",
       "    </tr>\n",
       "    <tr>\n",
       "      <th>8</th>\n",
       "      <td>90000rows data</td>\n",
       "      <td>0.105190</td>\n",
       "      <td>0.109534</td>\n",
       "      <td>0.330960</td>\n",
       "      <td>0.989135</td>\n",
       "      <td>1.315395</td>\n",
       "    </tr>\n",
       "  </tbody>\n",
       "</table>\n",
       "</div>"
      ],
      "text/plain": [
       "        Data Size       MAE       MSE      RMSE  R-squared      MAPE\n",
       "0  10000rows data  0.399299  0.492121  0.701513   0.951187  4.677500\n",
       "1  20000rows data  0.399173  0.490872  0.700623   0.951311  4.677047\n",
       "2  30000rows data  0.398969  0.489182  0.699416   0.951478  4.676310\n",
       "3  40000rows data  0.603332  0.811288  0.900715   0.919529  4.958957\n",
       "4  50000rows data  0.105234  0.109624  0.331096   0.989126  1.318256\n",
       "5  60000rows data  0.105153  0.109311  0.330623   0.989157  1.317533\n",
       "6  70000rows data  0.105310  0.110008  0.331675   0.989088  1.315842\n",
       "7  80000rows data  0.105247  0.109545  0.330976   0.989134  1.317703\n",
       "8  90000rows data  0.105190  0.109534  0.330960   0.989135  1.315395"
      ]
     },
     "execution_count": 9,
     "metadata": {},
     "output_type": "execute_result"
    }
   ],
   "source": [
    "import pandas as pd\n",
    "from sklearn.model_selection import train_test_split, GridSearchCV\n",
    "from sklearn.ensemble import RandomForestRegressor\n",
    "from sklearn.metrics import mean_absolute_error, mean_squared_error, r2_score\n",
    "import numpy as np\n",
    "from sklearn.preprocessing import OneHotEncoder\n",
    "from sklearn.preprocessing import MinMaxScaler\n",
    "\n",
    "# Function to calculate regression metrics\n",
    "def calculate_regression_metrics(y_true, y_pred):\n",
    "    mae = mean_absolute_error(y_true, y_pred)\n",
    "    mse = mean_squared_error(y_true, y_pred)\n",
    "    rmse = np.sqrt(mse)\n",
    "    r2 = r2_score(y_true, y_pred)\n",
    "\n",
    "    # Avoid division by zero for MAPE\n",
    "    non_zero_mask = y_true != 0\n",
    "    mape = (np.abs(y_true - y_pred) / y_true)[non_zero_mask].mean() * 100\n",
    "\n",
    "    return {\n",
    "        \"MAE\": mae,\n",
    "        \"MSE\": mse,\n",
    "        \"RMSE\": rmse,\n",
    "        \"R-squared\": r2,\n",
    "        \"MAPE\": mape\n",
    "    }\n",
    "\n",
    "# Loading real data\n",
    "real_data = pd.read_csv(\"crab_age.csv\")\n",
    "real_data.drop([\"id\"], axis=1, inplace=True)\n",
    "\n",
    "# Extract target column and input columns from real data\n",
    "target_column = 'Age'\n",
    "input_columns = real_data.drop(columns=[target_column]).columns.tolist()\n",
    "\n",
    "input_columns = list(real_data.select_dtypes(include=np.number).columns.tolist()) + list(real_data.select_dtypes(exclude=np.number).columns.tolist())\n",
    "input_columns = set(input_columns) - set([\"Sex\"])\n",
    "input_columns = list(input_columns)\n",
    "\n",
    "# Function for learning curve evaluation\n",
    "def learning_curve_evaluation(data_sizes, real_data, target_column, input_columns):\n",
    "    performance_metrics = []\n",
    "\n",
    "    for size, synthetic_data in data_sizes.items():\n",
    "        # Preprocessing\n",
    "        X_synthetic = synthetic_data[input_columns]\n",
    "        y_synthetic = synthetic_data[target_column]\n",
    "        X_real = real_data[input_columns]\n",
    "        y_real = real_data[target_column]\n",
    "        scaler = MinMaxScaler()\n",
    "        X_synthetic[X_synthetic.select_dtypes(include=np.number).columns.tolist()] = scaler.fit_transform(X_synthetic[X_synthetic.select_dtypes(include=np.number).columns.tolist()])\n",
    "        X_real[X_real.select_dtypes(include=np.number).columns.tolist()] = scaler.fit_transform(X_real[X_real.select_dtypes(include=np.number).columns.tolist()])\n",
    "\n",
    "        encoder = OneHotEncoder(sparse=False, handle_unknown=\"ignore\")\n",
    "\n",
    "        encoder.fit(X_synthetic[X_synthetic.select_dtypes(exclude=np.number).columns.tolist()])\n",
    "        encoded_cols = encoder.get_feature_names_out()\n",
    "        encoded_cols\n",
    "\n",
    "        X_synthetic[encoded_cols] = encoder.transform(X_synthetic[X_synthetic.select_dtypes(exclude=np.number).columns.tolist()])\n",
    "        X_real[encoded_cols] = encoder.transform(X_real[X_real.select_dtypes(exclude=np.number).columns.tolist()])\n",
    "\n",
    "        # Train-test split for synthetic data\n",
    "        X_train, X_val, y_train, y_val = train_test_split(X_synthetic, y_synthetic, test_size=0.1, random_state=42)\n",
    "\n",
    "        # Model training and hyperparameter tuning\n",
    "        rf = RandomForestRegressor(random_state=0)\n",
    "        param_grid = {\n",
    "            'n_estimators': [100, 200, 300, 400],\n",
    "            'max_depth': [1, 3, 5, 7],\n",
    "            'criterion': ['squared_error', 'poisson']\n",
    "        }\n",
    "        grid_search = GridSearchCV(estimator=rf, param_grid=param_grid, scoring='neg_mean_absolute_error', cv=5, n_jobs=-1)\n",
    "        grid_search.fit(X_train, y_train)\n",
    "\n",
    "        # Best model\n",
    "        best_rf = grid_search.best_estimator_\n",
    "\n",
    "        # Predictions and metrics\n",
    "        y_pred = best_rf.predict(X_real)\n",
    "        metrics = calculate_regression_metrics(y_real, y_pred)\n",
    "        performance_metrics.append({'Data Size': size, **metrics})\n",
    "\n",
    "    return pd.DataFrame(performance_metrics)\n",
    "\n",
    "# Running the evaluation\n",
    "learning_curve_results_sdv = learning_curve_evaluation(data_size_vary_sdv, real_data, target_column, input_columns)\n",
    "learning_curve_results_sdv"
   ]
  },
  {
   "cell_type": "markdown",
   "metadata": {},
   "source": [
    "### SDV Learning Curve Result"
   ]
  },
  {
   "cell_type": "code",
   "execution_count": 10,
   "metadata": {},
   "outputs": [
    {
     "data": {
      "application/vnd.plotly.v1+json": {
       "config": {
        "plotlyServerURL": "https://plot.ly"
       },
       "data": [
        {
         "mode": "lines+markers",
         "name": "MAE",
         "type": "scatter",
         "x": [
          "10000rows data",
          "20000rows data",
          "30000rows data",
          "40000rows data",
          "50000rows data",
          "60000rows data",
          "70000rows data",
          "80000rows data",
          "90000rows data"
         ],
         "y": [
          0.3992993117356057,
          0.39917330623489217,
          0.3989693154609933,
          0.6033319822452191,
          0.10523384176755249,
          0.10515280824354177,
          0.1053101875387474,
          0.10524694625162975,
          0.10518987454684303
         ]
        },
        {
         "mode": "lines+markers",
         "name": "MSE",
         "type": "scatter",
         "x": [
          "10000rows data",
          "20000rows data",
          "30000rows data",
          "40000rows data",
          "50000rows data",
          "60000rows data",
          "70000rows data",
          "80000rows data",
          "90000rows data"
         ],
         "y": [
          0.49212109041966573,
          0.49087237064658146,
          0.4891820961511913,
          0.8112878296705408,
          0.10962441702302501,
          0.10931133084347919,
          0.11000801544955567,
          0.10954528766510996,
          0.10953425293859878
         ]
        },
        {
         "mode": "lines+markers",
         "name": "RMSE",
         "type": "scatter",
         "x": [
          "10000rows data",
          "20000rows data",
          "30000rows data",
          "40000rows data",
          "50000rows data",
          "60000rows data",
          "70000rows data",
          "80000rows data",
          "90000rows data"
         ],
         "y": [
          0.701513428538375,
          0.7006228447935319,
          0.6994155389689246,
          0.900715176773735,
          0.33109578224892117,
          0.33062264115374673,
          0.3316745625602839,
          0.3309762645041332,
          0.3309595941177696
         ]
        },
        {
         "mode": "lines+markers",
         "name": "R-squared",
         "type": "scatter",
         "x": [
          "10000rows data",
          "20000rows data",
          "30000rows data",
          "40000rows data",
          "50000rows data",
          "60000rows data",
          "70000rows data",
          "80000rows data",
          "90000rows data"
         ],
         "y": [
          0.9511866487566959,
          0.9513105089164708,
          0.951478166763792,
          0.9195285905032948,
          0.9891263851983583,
          0.9891574401276207,
          0.989088336179336,
          0.9891342340169046,
          0.9891353285482944
         ]
        },
        {
         "mode": "lines+markers",
         "name": "MAPE",
         "type": "scatter",
         "x": [
          "10000rows data",
          "20000rows data",
          "30000rows data",
          "40000rows data",
          "50000rows data",
          "60000rows data",
          "70000rows data",
          "80000rows data",
          "90000rows data"
         ],
         "y": [
          4.67750002320289,
          4.677046580116287,
          4.676309759916942,
          4.958956695277862,
          1.3182559075419669,
          1.3175326110574537,
          1.3158417528064648,
          1.317702722664199,
          1.3153954730185713
         ]
        }
       ],
       "layout": {
        "legend": {
         "title": {
          "text": "Metrics"
         }
        },
        "template": {
         "data": {
          "bar": [
           {
            "error_x": {
             "color": "#2a3f5f"
            },
            "error_y": {
             "color": "#2a3f5f"
            },
            "marker": {
             "line": {
              "color": "#E5ECF6",
              "width": 0.5
             },
             "pattern": {
              "fillmode": "overlay",
              "size": 10,
              "solidity": 0.2
             }
            },
            "type": "bar"
           }
          ],
          "barpolar": [
           {
            "marker": {
             "line": {
              "color": "#E5ECF6",
              "width": 0.5
             },
             "pattern": {
              "fillmode": "overlay",
              "size": 10,
              "solidity": 0.2
             }
            },
            "type": "barpolar"
           }
          ],
          "carpet": [
           {
            "aaxis": {
             "endlinecolor": "#2a3f5f",
             "gridcolor": "white",
             "linecolor": "white",
             "minorgridcolor": "white",
             "startlinecolor": "#2a3f5f"
            },
            "baxis": {
             "endlinecolor": "#2a3f5f",
             "gridcolor": "white",
             "linecolor": "white",
             "minorgridcolor": "white",
             "startlinecolor": "#2a3f5f"
            },
            "type": "carpet"
           }
          ],
          "choropleth": [
           {
            "colorbar": {
             "outlinewidth": 0,
             "ticks": ""
            },
            "type": "choropleth"
           }
          ],
          "contour": [
           {
            "colorbar": {
             "outlinewidth": 0,
             "ticks": ""
            },
            "colorscale": [
             [
              0,
              "#0d0887"
             ],
             [
              0.1111111111111111,
              "#46039f"
             ],
             [
              0.2222222222222222,
              "#7201a8"
             ],
             [
              0.3333333333333333,
              "#9c179e"
             ],
             [
              0.4444444444444444,
              "#bd3786"
             ],
             [
              0.5555555555555556,
              "#d8576b"
             ],
             [
              0.6666666666666666,
              "#ed7953"
             ],
             [
              0.7777777777777778,
              "#fb9f3a"
             ],
             [
              0.8888888888888888,
              "#fdca26"
             ],
             [
              1,
              "#f0f921"
             ]
            ],
            "type": "contour"
           }
          ],
          "contourcarpet": [
           {
            "colorbar": {
             "outlinewidth": 0,
             "ticks": ""
            },
            "type": "contourcarpet"
           }
          ],
          "heatmap": [
           {
            "colorbar": {
             "outlinewidth": 0,
             "ticks": ""
            },
            "colorscale": [
             [
              0,
              "#0d0887"
             ],
             [
              0.1111111111111111,
              "#46039f"
             ],
             [
              0.2222222222222222,
              "#7201a8"
             ],
             [
              0.3333333333333333,
              "#9c179e"
             ],
             [
              0.4444444444444444,
              "#bd3786"
             ],
             [
              0.5555555555555556,
              "#d8576b"
             ],
             [
              0.6666666666666666,
              "#ed7953"
             ],
             [
              0.7777777777777778,
              "#fb9f3a"
             ],
             [
              0.8888888888888888,
              "#fdca26"
             ],
             [
              1,
              "#f0f921"
             ]
            ],
            "type": "heatmap"
           }
          ],
          "heatmapgl": [
           {
            "colorbar": {
             "outlinewidth": 0,
             "ticks": ""
            },
            "colorscale": [
             [
              0,
              "#0d0887"
             ],
             [
              0.1111111111111111,
              "#46039f"
             ],
             [
              0.2222222222222222,
              "#7201a8"
             ],
             [
              0.3333333333333333,
              "#9c179e"
             ],
             [
              0.4444444444444444,
              "#bd3786"
             ],
             [
              0.5555555555555556,
              "#d8576b"
             ],
             [
              0.6666666666666666,
              "#ed7953"
             ],
             [
              0.7777777777777778,
              "#fb9f3a"
             ],
             [
              0.8888888888888888,
              "#fdca26"
             ],
             [
              1,
              "#f0f921"
             ]
            ],
            "type": "heatmapgl"
           }
          ],
          "histogram": [
           {
            "marker": {
             "pattern": {
              "fillmode": "overlay",
              "size": 10,
              "solidity": 0.2
             }
            },
            "type": "histogram"
           }
          ],
          "histogram2d": [
           {
            "colorbar": {
             "outlinewidth": 0,
             "ticks": ""
            },
            "colorscale": [
             [
              0,
              "#0d0887"
             ],
             [
              0.1111111111111111,
              "#46039f"
             ],
             [
              0.2222222222222222,
              "#7201a8"
             ],
             [
              0.3333333333333333,
              "#9c179e"
             ],
             [
              0.4444444444444444,
              "#bd3786"
             ],
             [
              0.5555555555555556,
              "#d8576b"
             ],
             [
              0.6666666666666666,
              "#ed7953"
             ],
             [
              0.7777777777777778,
              "#fb9f3a"
             ],
             [
              0.8888888888888888,
              "#fdca26"
             ],
             [
              1,
              "#f0f921"
             ]
            ],
            "type": "histogram2d"
           }
          ],
          "histogram2dcontour": [
           {
            "colorbar": {
             "outlinewidth": 0,
             "ticks": ""
            },
            "colorscale": [
             [
              0,
              "#0d0887"
             ],
             [
              0.1111111111111111,
              "#46039f"
             ],
             [
              0.2222222222222222,
              "#7201a8"
             ],
             [
              0.3333333333333333,
              "#9c179e"
             ],
             [
              0.4444444444444444,
              "#bd3786"
             ],
             [
              0.5555555555555556,
              "#d8576b"
             ],
             [
              0.6666666666666666,
              "#ed7953"
             ],
             [
              0.7777777777777778,
              "#fb9f3a"
             ],
             [
              0.8888888888888888,
              "#fdca26"
             ],
             [
              1,
              "#f0f921"
             ]
            ],
            "type": "histogram2dcontour"
           }
          ],
          "mesh3d": [
           {
            "colorbar": {
             "outlinewidth": 0,
             "ticks": ""
            },
            "type": "mesh3d"
           }
          ],
          "parcoords": [
           {
            "line": {
             "colorbar": {
              "outlinewidth": 0,
              "ticks": ""
             }
            },
            "type": "parcoords"
           }
          ],
          "pie": [
           {
            "automargin": true,
            "type": "pie"
           }
          ],
          "scatter": [
           {
            "fillpattern": {
             "fillmode": "overlay",
             "size": 10,
             "solidity": 0.2
            },
            "type": "scatter"
           }
          ],
          "scatter3d": [
           {
            "line": {
             "colorbar": {
              "outlinewidth": 0,
              "ticks": ""
             }
            },
            "marker": {
             "colorbar": {
              "outlinewidth": 0,
              "ticks": ""
             }
            },
            "type": "scatter3d"
           }
          ],
          "scattercarpet": [
           {
            "marker": {
             "colorbar": {
              "outlinewidth": 0,
              "ticks": ""
             }
            },
            "type": "scattercarpet"
           }
          ],
          "scattergeo": [
           {
            "marker": {
             "colorbar": {
              "outlinewidth": 0,
              "ticks": ""
             }
            },
            "type": "scattergeo"
           }
          ],
          "scattergl": [
           {
            "marker": {
             "colorbar": {
              "outlinewidth": 0,
              "ticks": ""
             }
            },
            "type": "scattergl"
           }
          ],
          "scattermapbox": [
           {
            "marker": {
             "colorbar": {
              "outlinewidth": 0,
              "ticks": ""
             }
            },
            "type": "scattermapbox"
           }
          ],
          "scatterpolar": [
           {
            "marker": {
             "colorbar": {
              "outlinewidth": 0,
              "ticks": ""
             }
            },
            "type": "scatterpolar"
           }
          ],
          "scatterpolargl": [
           {
            "marker": {
             "colorbar": {
              "outlinewidth": 0,
              "ticks": ""
             }
            },
            "type": "scatterpolargl"
           }
          ],
          "scatterternary": [
           {
            "marker": {
             "colorbar": {
              "outlinewidth": 0,
              "ticks": ""
             }
            },
            "type": "scatterternary"
           }
          ],
          "surface": [
           {
            "colorbar": {
             "outlinewidth": 0,
             "ticks": ""
            },
            "colorscale": [
             [
              0,
              "#0d0887"
             ],
             [
              0.1111111111111111,
              "#46039f"
             ],
             [
              0.2222222222222222,
              "#7201a8"
             ],
             [
              0.3333333333333333,
              "#9c179e"
             ],
             [
              0.4444444444444444,
              "#bd3786"
             ],
             [
              0.5555555555555556,
              "#d8576b"
             ],
             [
              0.6666666666666666,
              "#ed7953"
             ],
             [
              0.7777777777777778,
              "#fb9f3a"
             ],
             [
              0.8888888888888888,
              "#fdca26"
             ],
             [
              1,
              "#f0f921"
             ]
            ],
            "type": "surface"
           }
          ],
          "table": [
           {
            "cells": {
             "fill": {
              "color": "#EBF0F8"
             },
             "line": {
              "color": "white"
             }
            },
            "header": {
             "fill": {
              "color": "#C8D4E3"
             },
             "line": {
              "color": "white"
             }
            },
            "type": "table"
           }
          ]
         },
         "layout": {
          "annotationdefaults": {
           "arrowcolor": "#2a3f5f",
           "arrowhead": 0,
           "arrowwidth": 1
          },
          "autotypenumbers": "strict",
          "coloraxis": {
           "colorbar": {
            "outlinewidth": 0,
            "ticks": ""
           }
          },
          "colorscale": {
           "diverging": [
            [
             0,
             "#8e0152"
            ],
            [
             0.1,
             "#c51b7d"
            ],
            [
             0.2,
             "#de77ae"
            ],
            [
             0.3,
             "#f1b6da"
            ],
            [
             0.4,
             "#fde0ef"
            ],
            [
             0.5,
             "#f7f7f7"
            ],
            [
             0.6,
             "#e6f5d0"
            ],
            [
             0.7,
             "#b8e186"
            ],
            [
             0.8,
             "#7fbc41"
            ],
            [
             0.9,
             "#4d9221"
            ],
            [
             1,
             "#276419"
            ]
           ],
           "sequential": [
            [
             0,
             "#0d0887"
            ],
            [
             0.1111111111111111,
             "#46039f"
            ],
            [
             0.2222222222222222,
             "#7201a8"
            ],
            [
             0.3333333333333333,
             "#9c179e"
            ],
            [
             0.4444444444444444,
             "#bd3786"
            ],
            [
             0.5555555555555556,
             "#d8576b"
            ],
            [
             0.6666666666666666,
             "#ed7953"
            ],
            [
             0.7777777777777778,
             "#fb9f3a"
            ],
            [
             0.8888888888888888,
             "#fdca26"
            ],
            [
             1,
             "#f0f921"
            ]
           ],
           "sequentialminus": [
            [
             0,
             "#0d0887"
            ],
            [
             0.1111111111111111,
             "#46039f"
            ],
            [
             0.2222222222222222,
             "#7201a8"
            ],
            [
             0.3333333333333333,
             "#9c179e"
            ],
            [
             0.4444444444444444,
             "#bd3786"
            ],
            [
             0.5555555555555556,
             "#d8576b"
            ],
            [
             0.6666666666666666,
             "#ed7953"
            ],
            [
             0.7777777777777778,
             "#fb9f3a"
            ],
            [
             0.8888888888888888,
             "#fdca26"
            ],
            [
             1,
             "#f0f921"
            ]
           ]
          },
          "colorway": [
           "#636efa",
           "#EF553B",
           "#00cc96",
           "#ab63fa",
           "#FFA15A",
           "#19d3f3",
           "#FF6692",
           "#B6E880",
           "#FF97FF",
           "#FECB52"
          ],
          "font": {
           "color": "#2a3f5f"
          },
          "geo": {
           "bgcolor": "white",
           "lakecolor": "white",
           "landcolor": "#E5ECF6",
           "showlakes": true,
           "showland": true,
           "subunitcolor": "white"
          },
          "hoverlabel": {
           "align": "left"
          },
          "hovermode": "closest",
          "mapbox": {
           "style": "light"
          },
          "paper_bgcolor": "white",
          "plot_bgcolor": "#E5ECF6",
          "polar": {
           "angularaxis": {
            "gridcolor": "white",
            "linecolor": "white",
            "ticks": ""
           },
           "bgcolor": "#E5ECF6",
           "radialaxis": {
            "gridcolor": "white",
            "linecolor": "white",
            "ticks": ""
           }
          },
          "scene": {
           "xaxis": {
            "backgroundcolor": "#E5ECF6",
            "gridcolor": "white",
            "gridwidth": 2,
            "linecolor": "white",
            "showbackground": true,
            "ticks": "",
            "zerolinecolor": "white"
           },
           "yaxis": {
            "backgroundcolor": "#E5ECF6",
            "gridcolor": "white",
            "gridwidth": 2,
            "linecolor": "white",
            "showbackground": true,
            "ticks": "",
            "zerolinecolor": "white"
           },
           "zaxis": {
            "backgroundcolor": "#E5ECF6",
            "gridcolor": "white",
            "gridwidth": 2,
            "linecolor": "white",
            "showbackground": true,
            "ticks": "",
            "zerolinecolor": "white"
           }
          },
          "shapedefaults": {
           "line": {
            "color": "#2a3f5f"
           }
          },
          "ternary": {
           "aaxis": {
            "gridcolor": "white",
            "linecolor": "white",
            "ticks": ""
           },
           "baxis": {
            "gridcolor": "white",
            "linecolor": "white",
            "ticks": ""
           },
           "bgcolor": "#E5ECF6",
           "caxis": {
            "gridcolor": "white",
            "linecolor": "white",
            "ticks": ""
           }
          },
          "title": {
           "x": 0.05
          },
          "xaxis": {
           "automargin": true,
           "gridcolor": "white",
           "linecolor": "white",
           "ticks": "",
           "title": {
            "standoff": 15
           },
           "zerolinecolor": "white",
           "zerolinewidth": 2
          },
          "yaxis": {
           "automargin": true,
           "gridcolor": "white",
           "linecolor": "white",
           "ticks": "",
           "title": {
            "standoff": 15
           },
           "zerolinecolor": "white",
           "zerolinewidth": 2
          }
         }
        },
        "title": {
         "text": "Performance Metrics across Different Data Sizes"
        },
        "xaxis": {
         "title": {
          "text": "Data Size"
         }
        },
        "yaxis": {
         "title": {
          "text": "Metric Value"
         }
        }
       }
      }
     },
     "metadata": {},
     "output_type": "display_data"
    }
   ],
   "source": [
    "fig = go.Figure()\n",
    "fig.add_trace(go.Scatter(x=learning_curve_results_sdv[\"Data Size\"], y=learning_curve_results_sdv[\"MAE\"], mode='lines+markers', name='MAE'))\n",
    "fig.add_trace(go.Scatter(x=learning_curve_results_sdv[\"Data Size\"], y=learning_curve_results_sdv[\"MSE\"], mode='lines+markers', name='MSE'))\n",
    "fig.add_trace(go.Scatter(x=learning_curve_results_sdv[\"Data Size\"], y=learning_curve_results_sdv[\"RMSE\"], mode='lines+markers', name='RMSE'))\n",
    "fig.add_trace(go.Scatter(x=learning_curve_results_sdv[\"Data Size\"], y=learning_curve_results_sdv[\"R-squared\"], mode='lines+markers', name='R-squared'))\n",
    "fig.add_trace(go.Scatter(x=learning_curve_results_sdv[\"Data Size\"], y=learning_curve_results_sdv[\"MAPE\"], mode='lines+markers', name='MAPE'))\n",
    "\n",
    "\n",
    "# Update plot layout\n",
    "fig.update_layout(title='Performance Metrics across Different Data Sizes',\n",
    "                  xaxis_title='Data Size',\n",
    "                  yaxis_title='Metric Value',\n",
    "                  legend_title='Metrics')\n",
    "\n",
    "# Show plot\n",
    "fig.show()"
   ]
  },
  {
   "cell_type": "markdown",
   "metadata": {},
   "source": [
    "## Y-data Learning Curve"
   ]
  },
  {
   "cell_type": "code",
   "execution_count": 11,
   "metadata": {},
   "outputs": [],
   "source": [
    "import pandas as pd\n",
    "from sklearn.model_selection import train_test_split, GridSearchCV\n",
    "from sklearn.ensemble import RandomForestRegressor\n",
    "from sklearn.metrics import mean_absolute_error, mean_squared_error, r2_score\n",
    "import numpy as np\n",
    "from sklearn.preprocessing import OneHotEncoder\n",
    "from sklearn.preprocessing import MinMaxScaler\n",
    "import warnings\n",
    "\n",
    "warnings.filterwarnings('ignore')\n",
    "\n",
    "crab_age_syn_ydata_10000 = pd.read_csv(\"crab_age_10000_ydata.csv\")\n",
    "crab_age_syn_ydata_20000 = pd.read_csv(\"crab_age_20000_ydata.csv\")\n",
    "crab_age_syn_ydata_30000 = pd.read_csv(\"crab_age_30000_ydata.csv\")\n",
    "crab_age_syn_ydata_40000 = pd.read_csv(\"crab_age_40000_ydata.csv\")\n",
    "crab_age_syn_ydata_50000 = pd.read_csv(\"crab_age_50000_ydata.csv\")\n",
    "crab_age_syn_ydata_60000 = pd.read_csv(\"crab_age_60000_ydata.csv\")\n",
    "crab_age_syn_ydata_70000 = pd.read_csv(\"crab_age_70000_ydata.csv\")\n",
    "crab_age_syn_ydata_80000 = pd.read_csv(\"crab_age_80000_ydata.csv\")\n",
    "crab_age_syn_ydata_90000 = pd.read_csv(\"crab_age_90000_ydata.csv\")"
   ]
  },
  {
   "cell_type": "code",
   "execution_count": 12,
   "metadata": {},
   "outputs": [],
   "source": [
    "appen_list = [crab_age_syn_ydata_10000, crab_age_syn_ydata_20000, crab_age_syn_ydata_30000, crab_age_syn_ydata_40000, crab_age_syn_ydata_50000, crab_age_syn_ydata_60000, crab_age_syn_ydata_70000, crab_age_syn_ydata_80000, crab_age_syn_ydata_90000]\n",
    "data_size_vary_y_data = {}\n",
    "for i in range(9):\n",
    "    data_size_vary_y_data[str((i+1)*10000) + \"rows data\"] = appen_list[i]"
   ]
  },
  {
   "cell_type": "code",
   "execution_count": 13,
   "metadata": {},
   "outputs": [
    {
     "data": {
      "text/html": [
       "<div>\n",
       "<style scoped>\n",
       "    .dataframe tbody tr th:only-of-type {\n",
       "        vertical-align: middle;\n",
       "    }\n",
       "\n",
       "    .dataframe tbody tr th {\n",
       "        vertical-align: top;\n",
       "    }\n",
       "\n",
       "    .dataframe thead th {\n",
       "        text-align: right;\n",
       "    }\n",
       "</style>\n",
       "<table border=\"1\" class=\"dataframe\">\n",
       "  <thead>\n",
       "    <tr style=\"text-align: right;\">\n",
       "      <th></th>\n",
       "      <th>Data Size</th>\n",
       "      <th>MAE</th>\n",
       "      <th>MSE</th>\n",
       "      <th>RMSE</th>\n",
       "      <th>R-squared</th>\n",
       "      <th>MAPE</th>\n",
       "    </tr>\n",
       "  </thead>\n",
       "  <tbody>\n",
       "    <tr>\n",
       "      <th>0</th>\n",
       "      <td>10000rows data</td>\n",
       "      <td>0.914754</td>\n",
       "      <td>0.914550</td>\n",
       "      <td>0.956321</td>\n",
       "      <td>0.909286</td>\n",
       "      <td>10.592595</td>\n",
       "    </tr>\n",
       "    <tr>\n",
       "      <th>1</th>\n",
       "      <td>20000rows data</td>\n",
       "      <td>0.914499</td>\n",
       "      <td>0.914358</td>\n",
       "      <td>0.956221</td>\n",
       "      <td>0.909305</td>\n",
       "      <td>10.578597</td>\n",
       "    </tr>\n",
       "    <tr>\n",
       "      <th>2</th>\n",
       "      <td>30000rows data</td>\n",
       "      <td>0.913964</td>\n",
       "      <td>0.913921</td>\n",
       "      <td>0.955992</td>\n",
       "      <td>0.909348</td>\n",
       "      <td>10.578015</td>\n",
       "    </tr>\n",
       "    <tr>\n",
       "      <th>3</th>\n",
       "      <td>40000rows data</td>\n",
       "      <td>0.913628</td>\n",
       "      <td>0.913536</td>\n",
       "      <td>0.955791</td>\n",
       "      <td>0.909387</td>\n",
       "      <td>10.573392</td>\n",
       "    </tr>\n",
       "    <tr>\n",
       "      <th>4</th>\n",
       "      <td>50000rows data</td>\n",
       "      <td>0.913923</td>\n",
       "      <td>0.913704</td>\n",
       "      <td>0.955879</td>\n",
       "      <td>0.909370</td>\n",
       "      <td>10.574717</td>\n",
       "    </tr>\n",
       "    <tr>\n",
       "      <th>5</th>\n",
       "      <td>60000rows data</td>\n",
       "      <td>0.913705</td>\n",
       "      <td>0.913566</td>\n",
       "      <td>0.955806</td>\n",
       "      <td>0.909384</td>\n",
       "      <td>10.573647</td>\n",
       "    </tr>\n",
       "    <tr>\n",
       "      <th>6</th>\n",
       "      <td>70000rows data</td>\n",
       "      <td>0.913614</td>\n",
       "      <td>0.913546</td>\n",
       "      <td>0.955796</td>\n",
       "      <td>0.909386</td>\n",
       "      <td>10.573906</td>\n",
       "    </tr>\n",
       "    <tr>\n",
       "      <th>7</th>\n",
       "      <td>80000rows data</td>\n",
       "      <td>0.913553</td>\n",
       "      <td>0.913525</td>\n",
       "      <td>0.955785</td>\n",
       "      <td>0.909388</td>\n",
       "      <td>10.573037</td>\n",
       "    </tr>\n",
       "    <tr>\n",
       "      <th>8</th>\n",
       "      <td>90000rows data</td>\n",
       "      <td>0.913570</td>\n",
       "      <td>0.913525</td>\n",
       "      <td>0.955785</td>\n",
       "      <td>0.909388</td>\n",
       "      <td>10.572896</td>\n",
       "    </tr>\n",
       "  </tbody>\n",
       "</table>\n",
       "</div>"
      ],
      "text/plain": [
       "        Data Size       MAE       MSE      RMSE  R-squared       MAPE\n",
       "0  10000rows data  0.914754  0.914550  0.956321   0.909286  10.592595\n",
       "1  20000rows data  0.914499  0.914358  0.956221   0.909305  10.578597\n",
       "2  30000rows data  0.913964  0.913921  0.955992   0.909348  10.578015\n",
       "3  40000rows data  0.913628  0.913536  0.955791   0.909387  10.573392\n",
       "4  50000rows data  0.913923  0.913704  0.955879   0.909370  10.574717\n",
       "5  60000rows data  0.913705  0.913566  0.955806   0.909384  10.573647\n",
       "6  70000rows data  0.913614  0.913546  0.955796   0.909386  10.573906\n",
       "7  80000rows data  0.913553  0.913525  0.955785   0.909388  10.573037\n",
       "8  90000rows data  0.913570  0.913525  0.955785   0.909388  10.572896"
      ]
     },
     "execution_count": 13,
     "metadata": {},
     "output_type": "execute_result"
    }
   ],
   "source": [
    "# Function to calculate regression metrics\n",
    "def calculate_regression_metrics(y_true, y_pred):\n",
    "    mae = mean_absolute_error(y_true, y_pred)\n",
    "    mse = mean_squared_error(y_true, y_pred)\n",
    "    rmse = np.sqrt(mse)\n",
    "    r2 = r2_score(y_true, y_pred)\n",
    "\n",
    "    # Avoid division by zero for MAPE\n",
    "    non_zero_mask = y_true != 0\n",
    "    mape = (np.abs(y_true - y_pred) / y_true)[non_zero_mask].mean() * 100\n",
    "\n",
    "    return {\n",
    "        \"MAE\": mae,\n",
    "        \"MSE\": mse,\n",
    "        \"RMSE\": rmse,\n",
    "        \"R-squared\": r2,\n",
    "        \"MAPE\": mape\n",
    "    }\n",
    "\n",
    "# Loading real data\n",
    "real_data = pd.read_csv(\"crab_age.csv\")\n",
    "real_data.drop([\"id\"], axis=1, inplace=True)\n",
    "\n",
    "# Extract target column and input columns from real data\n",
    "target_column = 'Age'\n",
    "input_columns = real_data.drop(columns=[target_column]).columns.tolist()\n",
    "\n",
    "input_columns = list(real_data.select_dtypes(include=np.number).columns.tolist()) + list(real_data.select_dtypes(exclude=np.number).columns.tolist())\n",
    "input_columns = set(input_columns) - set([\"Sex\"])\n",
    "input_columns = list(input_columns)\n",
    "\n",
    "# Function for learning curve evaluation\n",
    "def learning_curve_evaluation(data_sizes, real_data, target_column, input_columns):\n",
    "    performance_metrics = []\n",
    "\n",
    "    for size, synthetic_data in data_sizes.items():\n",
    "        # Preprocessing\n",
    "        X_synthetic = synthetic_data[input_columns]\n",
    "        y_synthetic = synthetic_data[target_column]\n",
    "        X_real = real_data[input_columns]\n",
    "        y_real = real_data[target_column]\n",
    "        scaler = MinMaxScaler()\n",
    "        X_synthetic[X_synthetic.select_dtypes(include=np.number).columns.tolist()] = scaler.fit_transform(X_synthetic[X_synthetic.select_dtypes(include=np.number).columns.tolist()])\n",
    "        X_real[X_real.select_dtypes(include=np.number).columns.tolist()] = scaler.fit_transform(X_real[X_real.select_dtypes(include=np.number).columns.tolist()])\n",
    "\n",
    "        encoder = OneHotEncoder(sparse=False, handle_unknown=\"ignore\")\n",
    "\n",
    "        encoder.fit(X_synthetic[X_synthetic.select_dtypes(exclude=np.number).columns.tolist()])\n",
    "        encoded_cols = encoder.get_feature_names_out()\n",
    "        encoded_cols\n",
    "\n",
    "        X_synthetic[encoded_cols] = encoder.transform(X_synthetic[X_synthetic.select_dtypes(exclude=np.number).columns.tolist()])\n",
    "        X_real[encoded_cols] = encoder.transform(X_real[X_real.select_dtypes(exclude=np.number).columns.tolist()])\n",
    "\n",
    "        # Train-test split for synthetic data\n",
    "        X_train, X_val, y_train, y_val = train_test_split(X_synthetic, y_synthetic, test_size=0.1, random_state=42)\n",
    "\n",
    "        # Model training and hyperparameter tuning\n",
    "        rf = RandomForestRegressor(random_state=42)\n",
    "        param_grid = {\n",
    "            'n_estimators': [100, 200, 300, 400],\n",
    "            'max_depth': [1, 3, 5, 7],\n",
    "            'criterion': ['squared_error', 'poisson']\n",
    "        }\n",
    "        grid_search = GridSearchCV(estimator=rf, param_grid=param_grid, scoring='neg_mean_absolute_error', cv=5, n_jobs=-1)\n",
    "        grid_search.fit(X_train, y_train)\n",
    "\n",
    "        # Best model\n",
    "        best_rf = grid_search.best_estimator_\n",
    "\n",
    "        # Predictions and metrics\n",
    "        y_pred = best_rf.predict(X_real)\n",
    "        metrics = calculate_regression_metrics(y_real, y_pred)\n",
    "        performance_metrics.append({'Data Size': size, **metrics})\n",
    "\n",
    "    return pd.DataFrame(performance_metrics)\n",
    "\n",
    "# Running the evaluation\n",
    "learning_curve_results = learning_curve_evaluation(data_size_vary_y_data, real_data, target_column, input_columns)\n",
    "learning_curve_results"
   ]
  },
  {
   "cell_type": "markdown",
   "metadata": {},
   "source": [
    "### Y-data Learning Curve"
   ]
  },
  {
   "cell_type": "code",
   "execution_count": 14,
   "metadata": {},
   "outputs": [
    {
     "data": {
      "application/vnd.plotly.v1+json": {
       "config": {
        "plotlyServerURL": "https://plot.ly"
       },
       "data": [
        {
         "mode": "lines+markers",
         "name": "MAE",
         "type": "scatter",
         "x": [
          "10000rows data",
          "20000rows data",
          "30000rows data",
          "40000rows data",
          "50000rows data",
          "60000rows data",
          "70000rows data",
          "80000rows data",
          "90000rows data"
         ],
         "y": [
          0.9147544464252713,
          0.9144990022248134,
          0.9139636847423466,
          0.9136283410853908,
          0.9139226375880527,
          0.9137046193163854,
          0.9136136324301558,
          0.9135528939438835,
          0.9135703518530519
         ]
        },
        {
         "mode": "lines+markers",
         "name": "MSE",
         "type": "scatter",
         "x": [
          "10000rows data",
          "20000rows data",
          "30000rows data",
          "40000rows data",
          "50000rows data",
          "60000rows data",
          "70000rows data",
          "80000rows data",
          "90000rows data"
         ],
         "y": [
          0.9145496763632209,
          0.9143577467574459,
          0.9139209917156533,
          0.9135356460853373,
          0.9137039263037242,
          0.9135657545136424,
          0.9135456800648138,
          0.9135254478020489,
          0.9135247733530988
         ]
        },
        {
         "mode": "lines+markers",
         "name": "MSE",
         "type": "scatter",
         "x": [
          "10000rows data",
          "20000rows data",
          "30000rows data",
          "40000rows data",
          "50000rows data",
          "60000rows data",
          "70000rows data",
          "80000rows data",
          "90000rows data"
         ],
         "y": [
          0.956320906580642,
          0.9562205534067159,
          0.9559921504466725,
          0.9557905869411654,
          0.9558786148375348,
          0.9558063373474998,
          0.9557958359737784,
          0.9557852519274657,
          0.955784899102878
         ]
        },
        {
         "mode": "lines+markers",
         "name": "MSE",
         "type": "scatter",
         "x": [
          "10000rows data",
          "20000rows data",
          "30000rows data",
          "40000rows data",
          "50000rows data",
          "60000rows data",
          "70000rows data",
          "80000rows data",
          "90000rows data"
         ],
         "y": [
          0.9092860772463572,
          0.9093051146894644,
          0.9093484362980631,
          0.9093866586217327,
          0.9093699669546464,
          0.909383672175277,
          0.9093856633541572,
          0.9093876701865568,
          0.9093877370849567
         ]
        },
        {
         "mode": "lines+markers",
         "name": "MSE",
         "type": "scatter",
         "x": [
          "10000rows data",
          "20000rows data",
          "30000rows data",
          "40000rows data",
          "50000rows data",
          "60000rows data",
          "70000rows data",
          "80000rows data",
          "90000rows data"
         ],
         "y": [
          10.592595242884627,
          10.578597025610462,
          10.578015107448573,
          10.57339202922367,
          10.574717278713424,
          10.57364697875937,
          10.573906005750054,
          10.573037491690405,
          10.57289621318115
         ]
        }
       ],
       "layout": {
        "legend": {
         "title": {
          "text": "Metrics"
         }
        },
        "template": {
         "data": {
          "bar": [
           {
            "error_x": {
             "color": "#2a3f5f"
            },
            "error_y": {
             "color": "#2a3f5f"
            },
            "marker": {
             "line": {
              "color": "#E5ECF6",
              "width": 0.5
             },
             "pattern": {
              "fillmode": "overlay",
              "size": 10,
              "solidity": 0.2
             }
            },
            "type": "bar"
           }
          ],
          "barpolar": [
           {
            "marker": {
             "line": {
              "color": "#E5ECF6",
              "width": 0.5
             },
             "pattern": {
              "fillmode": "overlay",
              "size": 10,
              "solidity": 0.2
             }
            },
            "type": "barpolar"
           }
          ],
          "carpet": [
           {
            "aaxis": {
             "endlinecolor": "#2a3f5f",
             "gridcolor": "white",
             "linecolor": "white",
             "minorgridcolor": "white",
             "startlinecolor": "#2a3f5f"
            },
            "baxis": {
             "endlinecolor": "#2a3f5f",
             "gridcolor": "white",
             "linecolor": "white",
             "minorgridcolor": "white",
             "startlinecolor": "#2a3f5f"
            },
            "type": "carpet"
           }
          ],
          "choropleth": [
           {
            "colorbar": {
             "outlinewidth": 0,
             "ticks": ""
            },
            "type": "choropleth"
           }
          ],
          "contour": [
           {
            "colorbar": {
             "outlinewidth": 0,
             "ticks": ""
            },
            "colorscale": [
             [
              0,
              "#0d0887"
             ],
             [
              0.1111111111111111,
              "#46039f"
             ],
             [
              0.2222222222222222,
              "#7201a8"
             ],
             [
              0.3333333333333333,
              "#9c179e"
             ],
             [
              0.4444444444444444,
              "#bd3786"
             ],
             [
              0.5555555555555556,
              "#d8576b"
             ],
             [
              0.6666666666666666,
              "#ed7953"
             ],
             [
              0.7777777777777778,
              "#fb9f3a"
             ],
             [
              0.8888888888888888,
              "#fdca26"
             ],
             [
              1,
              "#f0f921"
             ]
            ],
            "type": "contour"
           }
          ],
          "contourcarpet": [
           {
            "colorbar": {
             "outlinewidth": 0,
             "ticks": ""
            },
            "type": "contourcarpet"
           }
          ],
          "heatmap": [
           {
            "colorbar": {
             "outlinewidth": 0,
             "ticks": ""
            },
            "colorscale": [
             [
              0,
              "#0d0887"
             ],
             [
              0.1111111111111111,
              "#46039f"
             ],
             [
              0.2222222222222222,
              "#7201a8"
             ],
             [
              0.3333333333333333,
              "#9c179e"
             ],
             [
              0.4444444444444444,
              "#bd3786"
             ],
             [
              0.5555555555555556,
              "#d8576b"
             ],
             [
              0.6666666666666666,
              "#ed7953"
             ],
             [
              0.7777777777777778,
              "#fb9f3a"
             ],
             [
              0.8888888888888888,
              "#fdca26"
             ],
             [
              1,
              "#f0f921"
             ]
            ],
            "type": "heatmap"
           }
          ],
          "heatmapgl": [
           {
            "colorbar": {
             "outlinewidth": 0,
             "ticks": ""
            },
            "colorscale": [
             [
              0,
              "#0d0887"
             ],
             [
              0.1111111111111111,
              "#46039f"
             ],
             [
              0.2222222222222222,
              "#7201a8"
             ],
             [
              0.3333333333333333,
              "#9c179e"
             ],
             [
              0.4444444444444444,
              "#bd3786"
             ],
             [
              0.5555555555555556,
              "#d8576b"
             ],
             [
              0.6666666666666666,
              "#ed7953"
             ],
             [
              0.7777777777777778,
              "#fb9f3a"
             ],
             [
              0.8888888888888888,
              "#fdca26"
             ],
             [
              1,
              "#f0f921"
             ]
            ],
            "type": "heatmapgl"
           }
          ],
          "histogram": [
           {
            "marker": {
             "pattern": {
              "fillmode": "overlay",
              "size": 10,
              "solidity": 0.2
             }
            },
            "type": "histogram"
           }
          ],
          "histogram2d": [
           {
            "colorbar": {
             "outlinewidth": 0,
             "ticks": ""
            },
            "colorscale": [
             [
              0,
              "#0d0887"
             ],
             [
              0.1111111111111111,
              "#46039f"
             ],
             [
              0.2222222222222222,
              "#7201a8"
             ],
             [
              0.3333333333333333,
              "#9c179e"
             ],
             [
              0.4444444444444444,
              "#bd3786"
             ],
             [
              0.5555555555555556,
              "#d8576b"
             ],
             [
              0.6666666666666666,
              "#ed7953"
             ],
             [
              0.7777777777777778,
              "#fb9f3a"
             ],
             [
              0.8888888888888888,
              "#fdca26"
             ],
             [
              1,
              "#f0f921"
             ]
            ],
            "type": "histogram2d"
           }
          ],
          "histogram2dcontour": [
           {
            "colorbar": {
             "outlinewidth": 0,
             "ticks": ""
            },
            "colorscale": [
             [
              0,
              "#0d0887"
             ],
             [
              0.1111111111111111,
              "#46039f"
             ],
             [
              0.2222222222222222,
              "#7201a8"
             ],
             [
              0.3333333333333333,
              "#9c179e"
             ],
             [
              0.4444444444444444,
              "#bd3786"
             ],
             [
              0.5555555555555556,
              "#d8576b"
             ],
             [
              0.6666666666666666,
              "#ed7953"
             ],
             [
              0.7777777777777778,
              "#fb9f3a"
             ],
             [
              0.8888888888888888,
              "#fdca26"
             ],
             [
              1,
              "#f0f921"
             ]
            ],
            "type": "histogram2dcontour"
           }
          ],
          "mesh3d": [
           {
            "colorbar": {
             "outlinewidth": 0,
             "ticks": ""
            },
            "type": "mesh3d"
           }
          ],
          "parcoords": [
           {
            "line": {
             "colorbar": {
              "outlinewidth": 0,
              "ticks": ""
             }
            },
            "type": "parcoords"
           }
          ],
          "pie": [
           {
            "automargin": true,
            "type": "pie"
           }
          ],
          "scatter": [
           {
            "fillpattern": {
             "fillmode": "overlay",
             "size": 10,
             "solidity": 0.2
            },
            "type": "scatter"
           }
          ],
          "scatter3d": [
           {
            "line": {
             "colorbar": {
              "outlinewidth": 0,
              "ticks": ""
             }
            },
            "marker": {
             "colorbar": {
              "outlinewidth": 0,
              "ticks": ""
             }
            },
            "type": "scatter3d"
           }
          ],
          "scattercarpet": [
           {
            "marker": {
             "colorbar": {
              "outlinewidth": 0,
              "ticks": ""
             }
            },
            "type": "scattercarpet"
           }
          ],
          "scattergeo": [
           {
            "marker": {
             "colorbar": {
              "outlinewidth": 0,
              "ticks": ""
             }
            },
            "type": "scattergeo"
           }
          ],
          "scattergl": [
           {
            "marker": {
             "colorbar": {
              "outlinewidth": 0,
              "ticks": ""
             }
            },
            "type": "scattergl"
           }
          ],
          "scattermapbox": [
           {
            "marker": {
             "colorbar": {
              "outlinewidth": 0,
              "ticks": ""
             }
            },
            "type": "scattermapbox"
           }
          ],
          "scatterpolar": [
           {
            "marker": {
             "colorbar": {
              "outlinewidth": 0,
              "ticks": ""
             }
            },
            "type": "scatterpolar"
           }
          ],
          "scatterpolargl": [
           {
            "marker": {
             "colorbar": {
              "outlinewidth": 0,
              "ticks": ""
             }
            },
            "type": "scatterpolargl"
           }
          ],
          "scatterternary": [
           {
            "marker": {
             "colorbar": {
              "outlinewidth": 0,
              "ticks": ""
             }
            },
            "type": "scatterternary"
           }
          ],
          "surface": [
           {
            "colorbar": {
             "outlinewidth": 0,
             "ticks": ""
            },
            "colorscale": [
             [
              0,
              "#0d0887"
             ],
             [
              0.1111111111111111,
              "#46039f"
             ],
             [
              0.2222222222222222,
              "#7201a8"
             ],
             [
              0.3333333333333333,
              "#9c179e"
             ],
             [
              0.4444444444444444,
              "#bd3786"
             ],
             [
              0.5555555555555556,
              "#d8576b"
             ],
             [
              0.6666666666666666,
              "#ed7953"
             ],
             [
              0.7777777777777778,
              "#fb9f3a"
             ],
             [
              0.8888888888888888,
              "#fdca26"
             ],
             [
              1,
              "#f0f921"
             ]
            ],
            "type": "surface"
           }
          ],
          "table": [
           {
            "cells": {
             "fill": {
              "color": "#EBF0F8"
             },
             "line": {
              "color": "white"
             }
            },
            "header": {
             "fill": {
              "color": "#C8D4E3"
             },
             "line": {
              "color": "white"
             }
            },
            "type": "table"
           }
          ]
         },
         "layout": {
          "annotationdefaults": {
           "arrowcolor": "#2a3f5f",
           "arrowhead": 0,
           "arrowwidth": 1
          },
          "autotypenumbers": "strict",
          "coloraxis": {
           "colorbar": {
            "outlinewidth": 0,
            "ticks": ""
           }
          },
          "colorscale": {
           "diverging": [
            [
             0,
             "#8e0152"
            ],
            [
             0.1,
             "#c51b7d"
            ],
            [
             0.2,
             "#de77ae"
            ],
            [
             0.3,
             "#f1b6da"
            ],
            [
             0.4,
             "#fde0ef"
            ],
            [
             0.5,
             "#f7f7f7"
            ],
            [
             0.6,
             "#e6f5d0"
            ],
            [
             0.7,
             "#b8e186"
            ],
            [
             0.8,
             "#7fbc41"
            ],
            [
             0.9,
             "#4d9221"
            ],
            [
             1,
             "#276419"
            ]
           ],
           "sequential": [
            [
             0,
             "#0d0887"
            ],
            [
             0.1111111111111111,
             "#46039f"
            ],
            [
             0.2222222222222222,
             "#7201a8"
            ],
            [
             0.3333333333333333,
             "#9c179e"
            ],
            [
             0.4444444444444444,
             "#bd3786"
            ],
            [
             0.5555555555555556,
             "#d8576b"
            ],
            [
             0.6666666666666666,
             "#ed7953"
            ],
            [
             0.7777777777777778,
             "#fb9f3a"
            ],
            [
             0.8888888888888888,
             "#fdca26"
            ],
            [
             1,
             "#f0f921"
            ]
           ],
           "sequentialminus": [
            [
             0,
             "#0d0887"
            ],
            [
             0.1111111111111111,
             "#46039f"
            ],
            [
             0.2222222222222222,
             "#7201a8"
            ],
            [
             0.3333333333333333,
             "#9c179e"
            ],
            [
             0.4444444444444444,
             "#bd3786"
            ],
            [
             0.5555555555555556,
             "#d8576b"
            ],
            [
             0.6666666666666666,
             "#ed7953"
            ],
            [
             0.7777777777777778,
             "#fb9f3a"
            ],
            [
             0.8888888888888888,
             "#fdca26"
            ],
            [
             1,
             "#f0f921"
            ]
           ]
          },
          "colorway": [
           "#636efa",
           "#EF553B",
           "#00cc96",
           "#ab63fa",
           "#FFA15A",
           "#19d3f3",
           "#FF6692",
           "#B6E880",
           "#FF97FF",
           "#FECB52"
          ],
          "font": {
           "color": "#2a3f5f"
          },
          "geo": {
           "bgcolor": "white",
           "lakecolor": "white",
           "landcolor": "#E5ECF6",
           "showlakes": true,
           "showland": true,
           "subunitcolor": "white"
          },
          "hoverlabel": {
           "align": "left"
          },
          "hovermode": "closest",
          "mapbox": {
           "style": "light"
          },
          "paper_bgcolor": "white",
          "plot_bgcolor": "#E5ECF6",
          "polar": {
           "angularaxis": {
            "gridcolor": "white",
            "linecolor": "white",
            "ticks": ""
           },
           "bgcolor": "#E5ECF6",
           "radialaxis": {
            "gridcolor": "white",
            "linecolor": "white",
            "ticks": ""
           }
          },
          "scene": {
           "xaxis": {
            "backgroundcolor": "#E5ECF6",
            "gridcolor": "white",
            "gridwidth": 2,
            "linecolor": "white",
            "showbackground": true,
            "ticks": "",
            "zerolinecolor": "white"
           },
           "yaxis": {
            "backgroundcolor": "#E5ECF6",
            "gridcolor": "white",
            "gridwidth": 2,
            "linecolor": "white",
            "showbackground": true,
            "ticks": "",
            "zerolinecolor": "white"
           },
           "zaxis": {
            "backgroundcolor": "#E5ECF6",
            "gridcolor": "white",
            "gridwidth": 2,
            "linecolor": "white",
            "showbackground": true,
            "ticks": "",
            "zerolinecolor": "white"
           }
          },
          "shapedefaults": {
           "line": {
            "color": "#2a3f5f"
           }
          },
          "ternary": {
           "aaxis": {
            "gridcolor": "white",
            "linecolor": "white",
            "ticks": ""
           },
           "baxis": {
            "gridcolor": "white",
            "linecolor": "white",
            "ticks": ""
           },
           "bgcolor": "#E5ECF6",
           "caxis": {
            "gridcolor": "white",
            "linecolor": "white",
            "ticks": ""
           }
          },
          "title": {
           "x": 0.05
          },
          "xaxis": {
           "automargin": true,
           "gridcolor": "white",
           "linecolor": "white",
           "ticks": "",
           "title": {
            "standoff": 15
           },
           "zerolinecolor": "white",
           "zerolinewidth": 2
          },
          "yaxis": {
           "automargin": true,
           "gridcolor": "white",
           "linecolor": "white",
           "ticks": "",
           "title": {
            "standoff": 15
           },
           "zerolinecolor": "white",
           "zerolinewidth": 2
          }
         }
        },
        "title": {
         "text": "Performance Metrics across Different Data Sizes"
        },
        "xaxis": {
         "tickangle": 45,
         "title": {
          "text": "Data Size"
         }
        },
        "yaxis": {
         "title": {
          "text": "Metric Value"
         }
        }
       }
      }
     },
     "metadata": {},
     "output_type": "display_data"
    }
   ],
   "source": [
    "import plotly.graph_objects as go\n",
    "fig = go.Figure()\n",
    "fig.add_trace(go.Scatter(x=learning_curve_results[\"Data Size\"], y=learning_curve_results[\"MAE\"], mode='lines+markers', name='MAE'))\n",
    "fig.add_trace(go.Scatter(x=learning_curve_results[\"Data Size\"], y=learning_curve_results[\"MSE\"], mode='lines+markers', name='MSE'))\n",
    "fig.add_trace(go.Scatter(x=learning_curve_results[\"Data Size\"], y=learning_curve_results[\"RMSE\"], mode='lines+markers', name='MSE'))\n",
    "fig.add_trace(go.Scatter(x=learning_curve_results[\"Data Size\"], y=learning_curve_results[\"R-squared\"], mode='lines+markers', name='MSE'))\n",
    "fig.add_trace(go.Scatter(x=learning_curve_results[\"Data Size\"], y=learning_curve_results[\"MAPE\"], mode='lines+markers', name='MSE'))\n",
    "\n",
    "\n",
    "# Update plot layout\n",
    "fig.update_layout(title='Performance Metrics across Different Data Sizes',\n",
    "                  xaxis_title='Data Size',\n",
    "                  yaxis_title='Metric Value',\n",
    "                  legend_title='Metrics')\n",
    "\n",
    "fig.update_xaxes(tickangle=45)\n",
    "# Show plot\n",
    "fig.show()"
   ]
  },
  {
   "cell_type": "code",
   "execution_count": null,
   "metadata": {},
   "outputs": [],
   "source": []
  }
 ],
 "metadata": {
  "kernelspec": {
   "display_name": "Python 3",
   "language": "python",
   "name": "python3"
  },
  "language_info": {
   "codemirror_mode": {
    "name": "ipython",
    "version": 3
   },
   "file_extension": ".py",
   "mimetype": "text/x-python",
   "name": "python",
   "nbconvert_exporter": "python",
   "pygments_lexer": "ipython3",
   "version": "3.8.10"
  }
 },
 "nbformat": 4,
 "nbformat_minor": 2
}
